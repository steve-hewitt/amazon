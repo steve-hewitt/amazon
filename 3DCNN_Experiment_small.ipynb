{
 "cells": [
  {
   "cell_type": "markdown",
   "metadata": {},
   "source": [
    "#### Import block"
   ]
  },
  {
   "cell_type": "code",
   "execution_count": 1,
   "metadata": {},
   "outputs": [],
   "source": [
    "import pandas as pd\n",
    "import numpy as np\n",
    "import tensorflow as tf\n",
    "import matplotlib.pyplot as plt\n",
    "\n",
    "from tensorflow.keras import layers\n",
    "from tensorflow.keras.models import Sequential\n",
    "from tensorflow.keras.initializers import Constant\n",
    "\n",
    "%matplotlib inline"
   ]
  },
  {
   "cell_type": "code",
   "execution_count": 2,
   "metadata": {},
   "outputs": [
    {
     "data": {
      "text/plain": [
       "[PhysicalDevice(name='/physical_device:GPU:0', device_type='GPU')]"
      ]
     },
     "execution_count": 2,
     "metadata": {},
     "output_type": "execute_result"
    }
   ],
   "source": [
    "# Check for available GPU.\n",
    "tf.config.list_physical_devices('GPU')"
   ]
  },
  {
   "cell_type": "markdown",
   "metadata": {},
   "source": [
    "#### Function definitions"
   ]
  },
  {
   "cell_type": "code",
   "execution_count": 3,
   "metadata": {},
   "outputs": [],
   "source": [
    "# Loader functions\n",
    "# Inspiration: https://towardsdatascience.com/writing-custom-keras-generators-fe815d992c5a\n",
    "\n",
    "def get_input(path):\n",
    "    # Load array.\n",
    "    t_input = np.load(path)\n",
    "    # Pad to even number of pixels\n",
    "    t_input = np.pad(t_input, [(0,0),(0,1),(0,1)])\n",
    "    # Resize to include a channel dimension.\n",
    "    t_input = tf.expand_dims(t_input, axis = -1)\n",
    "    return t_input\n",
    "\n",
    "def get_output(path):\n",
    "    # Load array.\n",
    "    t_output = np.load(path)\n",
    "    # Pad to even number of pixels\n",
    "    t_output = np.pad(t_output, [(0,0),(0,1),(0,1)])\n",
    "    # Resize to include a channel dimension.\n",
    "    t_output = tf.expand_dims(t_output, axis = -1)\n",
    "    return t_output\n",
    "\n",
    "def data_generator(samples, batch_size = 64):\n",
    "    \n",
    "    while True:\n",
    "        # Select files (paths/indices) for the batch\n",
    "        batch_samples  = np.random.choice(a = samples.index, \n",
    "                                      size = batch_size)\n",
    "        batch_input  = []\n",
    "        batch_output = [] \n",
    "\n",
    "        # Read in each input, perform preprocessing and get labels\n",
    "        for sample in batch_samples:\n",
    "          input = get_input(samples.loc[sample].features)\n",
    "          output = get_output(samples.loc[sample].labels)\n",
    "\n",
    "          batch_input += [input]\n",
    "          batch_output += [output]\n",
    "        # Return a tuple of (input, output) to feed the network\n",
    "        batch_x = np.array(batch_input)\n",
    "        batch_y = np.array(batch_output)\n",
    "        \n",
    "        yield(batch_x, batch_y)\n"
   ]
  },
  {
   "cell_type": "code",
   "execution_count": 4,
   "metadata": {},
   "outputs": [
    {
     "data": {
      "text/html": [
       "<div>\n",
       "<style scoped>\n",
       "    .dataframe tbody tr th:only-of-type {\n",
       "        vertical-align: middle;\n",
       "    }\n",
       "\n",
       "    .dataframe tbody tr th {\n",
       "        vertical-align: top;\n",
       "    }\n",
       "\n",
       "    .dataframe thead th {\n",
       "        text-align: right;\n",
       "    }\n",
       "</style>\n",
       "<table border=\"1\" class=\"dataframe\">\n",
       "  <thead>\n",
       "    <tr style=\"text-align: right;\">\n",
       "      <th></th>\n",
       "      <th>Unnamed: 0</th>\n",
       "      <th>Lon</th>\n",
       "      <th>Lat</th>\n",
       "      <th>Date</th>\n",
       "      <th>features</th>\n",
       "      <th>labels</th>\n",
       "    </tr>\n",
       "  </thead>\n",
       "  <tbody>\n",
       "    <tr>\n",
       "      <th>0</th>\n",
       "      <td>356962</td>\n",
       "      <td>-53.345535</td>\n",
       "      <td>-6.535028</td>\n",
       "      <td>2017-07-30</td>\n",
       "      <td>Sample_Dataset/train/features/356962.npy</td>\n",
       "      <td>Sample_Dataset/train/labels/356962.npy</td>\n",
       "    </tr>\n",
       "    <tr>\n",
       "      <th>1</th>\n",
       "      <td>546517</td>\n",
       "      <td>-47.329685</td>\n",
       "      <td>-8.260676</td>\n",
       "      <td>2017-08-20</td>\n",
       "      <td>Sample_Dataset/train/features/546517.npy</td>\n",
       "      <td>Sample_Dataset/train/labels/546517.npy</td>\n",
       "    </tr>\n",
       "    <tr>\n",
       "      <th>2</th>\n",
       "      <td>799359</td>\n",
       "      <td>-50.967861</td>\n",
       "      <td>-8.255809</td>\n",
       "      <td>2017-09-04</td>\n",
       "      <td>Sample_Dataset/train/features/799359.npy</td>\n",
       "      <td>Sample_Dataset/train/labels/799359.npy</td>\n",
       "    </tr>\n",
       "    <tr>\n",
       "      <th>3</th>\n",
       "      <td>714590</td>\n",
       "      <td>-66.144379</td>\n",
       "      <td>-12.624272</td>\n",
       "      <td>2017-08-31</td>\n",
       "      <td>Sample_Dataset/train/features/714590.npy</td>\n",
       "      <td>Sample_Dataset/train/labels/714590.npy</td>\n",
       "    </tr>\n",
       "    <tr>\n",
       "      <th>4</th>\n",
       "      <td>240012</td>\n",
       "      <td>-48.350338</td>\n",
       "      <td>-11.838207</td>\n",
       "      <td>2017-07-14</td>\n",
       "      <td>Sample_Dataset/train/features/240012.npy</td>\n",
       "      <td>Sample_Dataset/train/labels/240012.npy</td>\n",
       "    </tr>\n",
       "    <tr>\n",
       "      <th>...</th>\n",
       "      <td>...</td>\n",
       "      <td>...</td>\n",
       "      <td>...</td>\n",
       "      <td>...</td>\n",
       "      <td>...</td>\n",
       "      <td>...</td>\n",
       "    </tr>\n",
       "    <tr>\n",
       "      <th>6491</th>\n",
       "      <td>173827</td>\n",
       "      <td>-54.326607</td>\n",
       "      <td>-11.983384</td>\n",
       "      <td>2017-06-20</td>\n",
       "      <td>Sample_Dataset/train/features/173827.npy</td>\n",
       "      <td>Sample_Dataset/train/labels/173827.npy</td>\n",
       "    </tr>\n",
       "    <tr>\n",
       "      <th>6492</th>\n",
       "      <td>1377764</td>\n",
       "      <td>-47.425915</td>\n",
       "      <td>-7.486426</td>\n",
       "      <td>2017-09-26</td>\n",
       "      <td>Sample_Dataset/train/features/1377764.npy</td>\n",
       "      <td>Sample_Dataset/train/labels/1377764.npy</td>\n",
       "    </tr>\n",
       "    <tr>\n",
       "      <th>6493</th>\n",
       "      <td>1444041</td>\n",
       "      <td>-65.172768</td>\n",
       "      <td>-10.714162</td>\n",
       "      <td>2017-10-02</td>\n",
       "      <td>Sample_Dataset/train/features/1444041.npy</td>\n",
       "      <td>Sample_Dataset/train/labels/1444041.npy</td>\n",
       "    </tr>\n",
       "    <tr>\n",
       "      <th>6494</th>\n",
       "      <td>644793</td>\n",
       "      <td>-53.701656</td>\n",
       "      <td>-15.977278</td>\n",
       "      <td>2017-08-27</td>\n",
       "      <td>Sample_Dataset/train/features/644793.npy</td>\n",
       "      <td>Sample_Dataset/train/labels/644793.npy</td>\n",
       "    </tr>\n",
       "    <tr>\n",
       "      <th>6495</th>\n",
       "      <td>1780752</td>\n",
       "      <td>-51.322929</td>\n",
       "      <td>-3.104345</td>\n",
       "      <td>2017-10-25</td>\n",
       "      <td>Sample_Dataset/train/features/1780752.npy</td>\n",
       "      <td>Sample_Dataset/train/labels/1780752.npy</td>\n",
       "    </tr>\n",
       "  </tbody>\n",
       "</table>\n",
       "<p>6496 rows × 6 columns</p>\n",
       "</div>"
      ],
      "text/plain": [
       "      Unnamed: 0        Lon        Lat        Date  \\\n",
       "0         356962 -53.345535  -6.535028  2017-07-30   \n",
       "1         546517 -47.329685  -8.260676  2017-08-20   \n",
       "2         799359 -50.967861  -8.255809  2017-09-04   \n",
       "3         714590 -66.144379 -12.624272  2017-08-31   \n",
       "4         240012 -48.350338 -11.838207  2017-07-14   \n",
       "...          ...        ...        ...         ...   \n",
       "6491      173827 -54.326607 -11.983384  2017-06-20   \n",
       "6492     1377764 -47.425915  -7.486426  2017-09-26   \n",
       "6493     1444041 -65.172768 -10.714162  2017-10-02   \n",
       "6494      644793 -53.701656 -15.977278  2017-08-27   \n",
       "6495     1780752 -51.322929  -3.104345  2017-10-25   \n",
       "\n",
       "                                       features  \\\n",
       "0      Sample_Dataset/train/features/356962.npy   \n",
       "1      Sample_Dataset/train/features/546517.npy   \n",
       "2      Sample_Dataset/train/features/799359.npy   \n",
       "3      Sample_Dataset/train/features/714590.npy   \n",
       "4      Sample_Dataset/train/features/240012.npy   \n",
       "...                                         ...   \n",
       "6491   Sample_Dataset/train/features/173827.npy   \n",
       "6492  Sample_Dataset/train/features/1377764.npy   \n",
       "6493  Sample_Dataset/train/features/1444041.npy   \n",
       "6494   Sample_Dataset/train/features/644793.npy   \n",
       "6495  Sample_Dataset/train/features/1780752.npy   \n",
       "\n",
       "                                       labels  \n",
       "0      Sample_Dataset/train/labels/356962.npy  \n",
       "1      Sample_Dataset/train/labels/546517.npy  \n",
       "2      Sample_Dataset/train/labels/799359.npy  \n",
       "3      Sample_Dataset/train/labels/714590.npy  \n",
       "4      Sample_Dataset/train/labels/240012.npy  \n",
       "...                                       ...  \n",
       "6491   Sample_Dataset/train/labels/173827.npy  \n",
       "6492  Sample_Dataset/train/labels/1377764.npy  \n",
       "6493  Sample_Dataset/train/labels/1444041.npy  \n",
       "6494   Sample_Dataset/train/labels/644793.npy  \n",
       "6495  Sample_Dataset/train/labels/1780752.npy  \n",
       "\n",
       "[6496 rows x 6 columns]"
      ]
     },
     "execution_count": 4,
     "metadata": {},
     "output_type": "execute_result"
    }
   ],
   "source": [
    "m = pd.read_csv('Sample_Dataset/train/meta.csv')\n",
    "m"
   ]
  },
  {
   "cell_type": "markdown",
   "metadata": {},
   "source": [
    "#### Load data"
   ]
  },
  {
   "cell_type": "code",
   "execution_count": 5,
   "metadata": {},
   "outputs": [
    {
     "data": {
      "text/plain": [
       "TensorShape([1, 4, 32, 32, 1])"
      ]
     },
     "execution_count": 5,
     "metadata": {},
     "output_type": "execute_result"
    }
   ],
   "source": [
    "# Get data from one chip\n",
    "sample_input = np.load('Sample_Dataset/train/features/3243.npy')\n",
    "\n",
    "# Pad to even number of pixels\n",
    "a = np.pad(sample_input, [(0,0),(0,1),(0,1)])\n",
    "# Resize to include a channel dimension.\n",
    "a = tf.expand_dims(a, axis = -1)\n",
    "# Resize to include a batch dimension.\n",
    "a = tf.expand_dims(a, axis = 0)\n",
    "# Display shape for verification.\n",
    "a.shape"
   ]
  },
  {
   "cell_type": "markdown",
   "metadata": {},
   "source": [
    "#### Experiment with basic model structure"
   ]
  },
  {
   "cell_type": "code",
   "execution_count": 6,
   "metadata": {},
   "outputs": [
    {
     "data": {
      "text/plain": [
       "TensorShape([1, 4, 32, 32, 32])"
      ]
     },
     "execution_count": 6,
     "metadata": {},
     "output_type": "execute_result"
    }
   ],
   "source": [
    "b = tf.keras.layers.Conv3D(32, (3,3,3), padding = 'same', activation='relu', bias_initializer=Constant(0.01), \n",
    "                           input_shape=(a))(a)\n",
    "b.shape"
   ]
  },
  {
   "cell_type": "code",
   "execution_count": 7,
   "metadata": {},
   "outputs": [
    {
     "data": {
      "text/plain": [
       "TensorShape([1, 4, 32, 32, 32])"
      ]
     },
     "execution_count": 7,
     "metadata": {},
     "output_type": "execute_result"
    }
   ],
   "source": [
    "c = tf.keras.layers.Conv3D(32, (3,3,3), padding = 'same', activation='relu', bias_initializer=Constant(0.01) \n",
    "                           )(b)\n",
    "c.shape"
   ]
  },
  {
   "cell_type": "code",
   "execution_count": 8,
   "metadata": {},
   "outputs": [
    {
     "data": {
      "text/plain": [
       "TensorShape([1, 2, 16, 16, 32])"
      ]
     },
     "execution_count": 8,
     "metadata": {},
     "output_type": "execute_result"
    }
   ],
   "source": [
    "d = layers.MaxPooling3D((2,2,2))(c)\n",
    "d.shape"
   ]
  },
  {
   "cell_type": "code",
   "execution_count": 9,
   "metadata": {},
   "outputs": [
    {
     "data": {
      "text/plain": [
       "TensorShape([1, 2, 16, 16, 64])"
      ]
     },
     "execution_count": 9,
     "metadata": {},
     "output_type": "execute_result"
    }
   ],
   "source": [
    "e = tf.keras.layers.Conv3D(64, (2,2,2), padding = 'same', activation='relu')(d)\n",
    "e.shape"
   ]
  },
  {
   "cell_type": "code",
   "execution_count": 10,
   "metadata": {},
   "outputs": [
    {
     "data": {
      "text/plain": [
       "TensorShape([1, 2, 16, 16, 64])"
      ]
     },
     "execution_count": 10,
     "metadata": {},
     "output_type": "execute_result"
    }
   ],
   "source": [
    "f = tf.keras.layers.Conv3D(64, (2,2,2), padding = 'same', activation='relu')(e)\n",
    "f.shape"
   ]
  },
  {
   "cell_type": "code",
   "execution_count": 11,
   "metadata": {},
   "outputs": [
    {
     "data": {
      "text/plain": [
       "TensorShape([1, 2, 8, 8, 64])"
      ]
     },
     "execution_count": 11,
     "metadata": {},
     "output_type": "execute_result"
    }
   ],
   "source": [
    "g = layers.MaxPooling3D((1,2,2))(f)\n",
    "g.shape"
   ]
  },
  {
   "cell_type": "code",
   "execution_count": 12,
   "metadata": {},
   "outputs": [
    {
     "data": {
      "text/plain": [
       "TensorShape([1, 2, 8, 8, 128])"
      ]
     },
     "execution_count": 12,
     "metadata": {},
     "output_type": "execute_result"
    }
   ],
   "source": [
    "h = tf.keras.layers.Conv3D(128, (2,2,2), padding = 'same', activation='relu')(g)\n",
    "h.shape"
   ]
  },
  {
   "cell_type": "code",
   "execution_count": 13,
   "metadata": {},
   "outputs": [
    {
     "data": {
      "text/plain": [
       "TensorShape([1, 2, 8, 8, 128])"
      ]
     },
     "execution_count": 13,
     "metadata": {},
     "output_type": "execute_result"
    }
   ],
   "source": [
    "i = tf.keras.layers.Conv3D(128, (2,2,2), padding = 'same', activation='relu')(h)\n",
    "i.shape"
   ]
  },
  {
   "cell_type": "code",
   "execution_count": 14,
   "metadata": {},
   "outputs": [
    {
     "data": {
      "text/plain": [
       "TensorShape([1, 2, 4, 4, 128])"
      ]
     },
     "execution_count": 14,
     "metadata": {},
     "output_type": "execute_result"
    }
   ],
   "source": [
    "j = layers.MaxPooling3D((1,2,2))(i)\n",
    "j.shape"
   ]
  },
  {
   "cell_type": "code",
   "execution_count": 15,
   "metadata": {},
   "outputs": [
    {
     "data": {
      "text/plain": [
       "TensorShape([1, 2, 4, 4, 256])"
      ]
     },
     "execution_count": 15,
     "metadata": {},
     "output_type": "execute_result"
    }
   ],
   "source": [
    "k = tf.keras.layers.Conv3D(256, (2,2,2), padding = 'same', activation='relu')(j)\n",
    "k.shape"
   ]
  },
  {
   "cell_type": "code",
   "execution_count": 16,
   "metadata": {},
   "outputs": [
    {
     "data": {
      "text/plain": [
       "TensorShape([1, 2, 4, 4, 256])"
      ]
     },
     "execution_count": 16,
     "metadata": {},
     "output_type": "execute_result"
    }
   ],
   "source": [
    "l = tf.keras.layers.Conv3D(256, (2,2,2), padding = 'same', activation='relu')(k)\n",
    "l.shape"
   ]
  },
  {
   "cell_type": "code",
   "execution_count": 17,
   "metadata": {},
   "outputs": [
    {
     "data": {
      "text/plain": [
       "TensorShape([1, 1, 1, 1, 256])"
      ]
     },
     "execution_count": 17,
     "metadata": {},
     "output_type": "execute_result"
    }
   ],
   "source": [
    "m = layers.MaxPooling3D((2,4,4))(l)\n",
    "m.shape"
   ]
  },
  {
   "cell_type": "code",
   "execution_count": 18,
   "metadata": {},
   "outputs": [
    {
     "data": {
      "text/plain": [
       "TensorShape([1, 2, 4, 4, 512])"
      ]
     },
     "execution_count": 18,
     "metadata": {},
     "output_type": "execute_result"
    }
   ],
   "source": [
    "t = layers.Conv3DTranspose(256, (2,2,2), (2,4,4), padding = 'same', activation='relu')(m)\n",
    "t = layers.concatenate([t, l])\n",
    "t.shape"
   ]
  },
  {
   "cell_type": "code",
   "execution_count": 19,
   "metadata": {},
   "outputs": [
    {
     "data": {
      "text/plain": [
       "TensorShape([1, 2, 4, 4, 256])"
      ]
     },
     "execution_count": 19,
     "metadata": {},
     "output_type": "execute_result"
    }
   ],
   "source": [
    "u = tf.keras.layers.Conv3D(256, (2,2,2), padding = 'same', activation='relu')(t)\n",
    "u.shape"
   ]
  },
  {
   "cell_type": "code",
   "execution_count": 20,
   "metadata": {},
   "outputs": [
    {
     "data": {
      "text/plain": [
       "TensorShape([1, 2, 4, 4, 256])"
      ]
     },
     "execution_count": 20,
     "metadata": {},
     "output_type": "execute_result"
    }
   ],
   "source": [
    "v = tf.keras.layers.Conv3D(256, (2,2,2), padding = 'same', activation='relu')(u)\n",
    "v.shape"
   ]
  },
  {
   "cell_type": "code",
   "execution_count": 21,
   "metadata": {},
   "outputs": [
    {
     "data": {
      "text/plain": [
       "TensorShape([1, 2, 8, 8, 256])"
      ]
     },
     "execution_count": 21,
     "metadata": {},
     "output_type": "execute_result"
    }
   ],
   "source": [
    "w = layers.Conv3DTranspose(128, (2,2,2), (1,2,2), padding = 'same', activation='relu')(v)\n",
    "w = layers.concatenate([w, i])\n",
    "w.shape"
   ]
  },
  {
   "cell_type": "code",
   "execution_count": 22,
   "metadata": {},
   "outputs": [
    {
     "data": {
      "text/plain": [
       "TensorShape([1, 2, 8, 8, 128])"
      ]
     },
     "execution_count": 22,
     "metadata": {},
     "output_type": "execute_result"
    }
   ],
   "source": [
    "x = tf.keras.layers.Conv3D(128, (2,2,2), padding = 'same', activation='relu')(w)\n",
    "x.shape"
   ]
  },
  {
   "cell_type": "code",
   "execution_count": 23,
   "metadata": {},
   "outputs": [
    {
     "data": {
      "text/plain": [
       "TensorShape([1, 2, 8, 8, 128])"
      ]
     },
     "execution_count": 23,
     "metadata": {},
     "output_type": "execute_result"
    }
   ],
   "source": [
    "y = tf.keras.layers.Conv3D(128, (2,2,2), padding = 'same', activation='relu')(x)\n",
    "y.shape"
   ]
  },
  {
   "cell_type": "code",
   "execution_count": 24,
   "metadata": {},
   "outputs": [
    {
     "data": {
      "text/plain": [
       "TensorShape([1, 2, 16, 16, 128])"
      ]
     },
     "execution_count": 24,
     "metadata": {},
     "output_type": "execute_result"
    }
   ],
   "source": [
    "z = layers.Conv3DTranspose(64, (2,2,2), (1,2,2), padding = 'same', activation='relu')(y)\n",
    "z = layers.concatenate([z, f])\n",
    "z.shape"
   ]
  },
  {
   "cell_type": "code",
   "execution_count": 25,
   "metadata": {},
   "outputs": [
    {
     "data": {
      "text/plain": [
       "TensorShape([1, 2, 16, 16, 64])"
      ]
     },
     "execution_count": 25,
     "metadata": {},
     "output_type": "execute_result"
    }
   ],
   "source": [
    "aa = tf.keras.layers.Conv3D(64, (2,2,2), padding = 'same', activation='relu')(z)\n",
    "aa.shape"
   ]
  },
  {
   "cell_type": "code",
   "execution_count": 26,
   "metadata": {},
   "outputs": [
    {
     "data": {
      "text/plain": [
       "TensorShape([1, 2, 16, 16, 64])"
      ]
     },
     "execution_count": 26,
     "metadata": {},
     "output_type": "execute_result"
    }
   ],
   "source": [
    "ab = tf.keras.layers.Conv3D(64, (2,2,2), padding = 'same', activation='relu')(aa)\n",
    "ab.shape"
   ]
  },
  {
   "cell_type": "code",
   "execution_count": 27,
   "metadata": {},
   "outputs": [
    {
     "data": {
      "text/plain": [
       "TensorShape([1, 2, 32, 32, 64])"
      ]
     },
     "execution_count": 27,
     "metadata": {},
     "output_type": "execute_result"
    }
   ],
   "source": [
    "ai = layers.Conv3DTranspose(32, (2,2,2), (1,2,2), padding = 'same', activation='relu')(ab)\n",
    "ag = layers.MaxPooling3D((2,1,1))(c)\n",
    "ai = layers.concatenate([ai, ag])\n",
    "ai.shape"
   ]
  },
  {
   "cell_type": "code",
   "execution_count": 28,
   "metadata": {},
   "outputs": [
    {
     "data": {
      "text/plain": [
       "TensorShape([1, 2, 32, 32, 1])"
      ]
     },
     "execution_count": 28,
     "metadata": {},
     "output_type": "execute_result"
    }
   ],
   "source": [
    "ak = layers.Conv2D(1, 1, padding='same', activation = 'sigmoid')(ai)\n",
    "ak.shape"
   ]
  },
  {
   "cell_type": "markdown",
   "metadata": {},
   "source": [
    "#### Model assembly"
   ]
  },
  {
   "cell_type": "code",
   "execution_count": 29,
   "metadata": {},
   "outputs": [],
   "source": [
    "inputs = layers.Input(shape=((4,32,32,1)))\n",
    "b = tf.keras.layers.Conv3D(32, (3,3,3), padding = 'same', activation='relu', bias_initializer=Constant(0.01))(inputs)\n",
    "c = tf.keras.layers.Conv3D(32, (3,3,3), padding = 'same', activation='relu', bias_initializer=Constant(0.01))(b)\n",
    "d = layers.MaxPooling3D((2,2,2))(c)\n",
    "d = layers.Dropout(0.3)(d)\n",
    "e = tf.keras.layers.Conv3D(64, (2,2,2), padding = 'same', activation='relu')(d)\n",
    "f = tf.keras.layers.Conv3D(64, (2,2,2), padding = 'same', activation='relu')(e)\n",
    "g = layers.MaxPooling3D((1,2,2))(f)\n",
    "g = layers.Dropout(0.3)(g)\n",
    "h = tf.keras.layers.Conv3D(128, (2,2,2), padding = 'same', activation='relu')(g)\n",
    "i = tf.keras.layers.Conv3D(128, (2,2,2), padding = 'same', activation='relu')(h)\n",
    "j = layers.MaxPooling3D((1,2,2))(i)\n",
    "j = layers.Dropout(0.3)(j)\n",
    "k = tf.keras.layers.Conv3D(256, (2,2,2), padding = 'same', activation='relu')(j)\n",
    "l = tf.keras.layers.Conv3D(256, (2,2,2), padding = 'same', activation='relu')(k)\n",
    "m = layers.MaxPooling3D((2,4,4))(l)\n",
    "m = layers.Dropout(0.3)(m)\n",
    "t = layers.Conv3DTranspose(256, (2,2,2), (2,4,4), padding = 'same', activation='relu')(m)\n",
    "t = layers.concatenate([t, l])\n",
    "t = layers.Dropout(0.3)(t)\n",
    "u = tf.keras.layers.Conv3D(256, (2,2,2), padding = 'same', activation='relu')(t)\n",
    "v = tf.keras.layers.Conv3D(256, (2,2,2), padding = 'same', activation='relu')(u)\n",
    "w = layers.Conv3DTranspose(128, (2,2,2), (1,2,2), padding = 'same', activation='relu')(v)\n",
    "w = layers.concatenate([w, i])\n",
    "w = layers.Dropout(0.3)(w)\n",
    "x = tf.keras.layers.Conv3D(128, (2,2,2), padding = 'same', activation='relu')(w)\n",
    "y = tf.keras.layers.Conv3D(128, (2,2,2), padding = 'same', activation='relu')(x)\n",
    "z = layers.Conv3DTranspose(64, (2,2,2), (1,2,2), padding = 'same', activation='relu')(y)\n",
    "z = layers.concatenate([z, f])\n",
    "z = layers.Dropout(0.3)(z)\n",
    "aa = tf.keras.layers.Conv3D(64, (2,2,2), padding = 'same', activation='relu')(z)\n",
    "ab = tf.keras.layers.Conv3D(64, (2,2,2), padding = 'same', activation='relu')(aa)\n",
    "ai = layers.Conv3DTranspose(32, (2,2,2), (1,2,2), padding = 'same', activation='relu')(ab)\n",
    "ag = layers.MaxPooling3D((2,1,1))(c)\n",
    "ai = layers.concatenate([ai, ag])\n",
    "outputs = layers.Conv2D(1, 1, padding='same', activation = 'sigmoid')(ai)"
   ]
  },
  {
   "cell_type": "code",
   "execution_count": 30,
   "metadata": {},
   "outputs": [],
   "source": [
    "forecast_model = tf.keras.Model(inputs, outputs, name=\"3D_UNet\")"
   ]
  },
  {
   "cell_type": "code",
   "execution_count": 31,
   "metadata": {},
   "outputs": [
    {
     "name": "stdout",
     "output_type": "stream",
     "text": [
      "1/1 [==============================] - 0s 182ms/step\n"
     ]
    },
    {
     "data": {
      "text/plain": [
       "(1, 2, 32, 32, 1)"
      ]
     },
     "execution_count": 31,
     "metadata": {},
     "output_type": "execute_result"
    }
   ],
   "source": [
    "# Verify output shape.\n",
    "forecast_model.predict(a).shape"
   ]
  },
  {
   "cell_type": "code",
   "execution_count": 32,
   "metadata": {},
   "outputs": [
    {
     "name": "stdout",
     "output_type": "stream",
     "text": [
      "Model: \"3D_UNet\"\n",
      "__________________________________________________________________________________________________\n",
      " Layer (type)                   Output Shape         Param #     Connected to                     \n",
      "==================================================================================================\n",
      " input_1 (InputLayer)           [(None, 4, 32, 32,   0           []                               \n",
      "                                1)]                                                               \n",
      "                                                                                                  \n",
      " conv3d_14 (Conv3D)             (None, 4, 32, 32, 3  896         ['input_1[0][0]']                \n",
      "                                2)                                                                \n",
      "                                                                                                  \n",
      " conv3d_15 (Conv3D)             (None, 4, 32, 32, 3  27680       ['conv3d_14[0][0]']              \n",
      "                                2)                                                                \n",
      "                                                                                                  \n",
      " max_pooling3d_5 (MaxPooling3D)  (None, 2, 16, 16, 3  0          ['conv3d_15[0][0]']              \n",
      "                                2)                                                                \n",
      "                                                                                                  \n",
      " dropout (Dropout)              (None, 2, 16, 16, 3  0           ['max_pooling3d_5[0][0]']        \n",
      "                                2)                                                                \n",
      "                                                                                                  \n",
      " conv3d_16 (Conv3D)             (None, 2, 16, 16, 6  16448       ['dropout[0][0]']                \n",
      "                                4)                                                                \n",
      "                                                                                                  \n",
      " conv3d_17 (Conv3D)             (None, 2, 16, 16, 6  32832       ['conv3d_16[0][0]']              \n",
      "                                4)                                                                \n",
      "                                                                                                  \n",
      " max_pooling3d_6 (MaxPooling3D)  (None, 2, 8, 8, 64)  0          ['conv3d_17[0][0]']              \n",
      "                                                                                                  \n",
      " dropout_1 (Dropout)            (None, 2, 8, 8, 64)  0           ['max_pooling3d_6[0][0]']        \n",
      "                                                                                                  \n",
      " conv3d_18 (Conv3D)             (None, 2, 8, 8, 128  65664       ['dropout_1[0][0]']              \n",
      "                                )                                                                 \n",
      "                                                                                                  \n",
      " conv3d_19 (Conv3D)             (None, 2, 8, 8, 128  131200      ['conv3d_18[0][0]']              \n",
      "                                )                                                                 \n",
      "                                                                                                  \n",
      " max_pooling3d_7 (MaxPooling3D)  (None, 2, 4, 4, 128  0          ['conv3d_19[0][0]']              \n",
      "                                )                                                                 \n",
      "                                                                                                  \n",
      " dropout_2 (Dropout)            (None, 2, 4, 4, 128  0           ['max_pooling3d_7[0][0]']        \n",
      "                                )                                                                 \n",
      "                                                                                                  \n",
      " conv3d_20 (Conv3D)             (None, 2, 4, 4, 256  262400      ['dropout_2[0][0]']              \n",
      "                                )                                                                 \n",
      "                                                                                                  \n",
      " conv3d_21 (Conv3D)             (None, 2, 4, 4, 256  524544      ['conv3d_20[0][0]']              \n",
      "                                )                                                                 \n",
      "                                                                                                  \n",
      " max_pooling3d_8 (MaxPooling3D)  (None, 1, 1, 1, 256  0          ['conv3d_21[0][0]']              \n",
      "                                )                                                                 \n",
      "                                                                                                  \n",
      " dropout_3 (Dropout)            (None, 1, 1, 1, 256  0           ['max_pooling3d_8[0][0]']        \n",
      "                                )                                                                 \n",
      "                                                                                                  \n",
      " conv3d_transpose_4 (Conv3DTran  (None, 2, 4, 4, 256  524544     ['dropout_3[0][0]']              \n",
      " spose)                         )                                                                 \n",
      "                                                                                                  \n",
      " concatenate_4 (Concatenate)    (None, 2, 4, 4, 512  0           ['conv3d_transpose_4[0][0]',     \n",
      "                                )                                 'conv3d_21[0][0]']              \n",
      "                                                                                                  \n",
      " dropout_4 (Dropout)            (None, 2, 4, 4, 512  0           ['concatenate_4[0][0]']          \n",
      "                                )                                                                 \n",
      "                                                                                                  \n",
      " conv3d_22 (Conv3D)             (None, 2, 4, 4, 256  1048832     ['dropout_4[0][0]']              \n",
      "                                )                                                                 \n",
      "                                                                                                  \n",
      " conv3d_23 (Conv3D)             (None, 2, 4, 4, 256  524544      ['conv3d_22[0][0]']              \n",
      "                                )                                                                 \n",
      "                                                                                                  \n",
      " conv3d_transpose_5 (Conv3DTran  (None, 2, 8, 8, 128  262272     ['conv3d_23[0][0]']              \n",
      " spose)                         )                                                                 \n",
      "                                                                                                  \n",
      " concatenate_5 (Concatenate)    (None, 2, 8, 8, 256  0           ['conv3d_transpose_5[0][0]',     \n",
      "                                )                                 'conv3d_19[0][0]']              \n",
      "                                                                                                  \n",
      " dropout_5 (Dropout)            (None, 2, 8, 8, 256  0           ['concatenate_5[0][0]']          \n",
      "                                )                                                                 \n",
      "                                                                                                  \n",
      " conv3d_24 (Conv3D)             (None, 2, 8, 8, 128  262272      ['dropout_5[0][0]']              \n",
      "                                )                                                                 \n",
      "                                                                                                  \n",
      " conv3d_25 (Conv3D)             (None, 2, 8, 8, 128  131200      ['conv3d_24[0][0]']              \n",
      "                                )                                                                 \n",
      "                                                                                                  \n",
      " conv3d_transpose_6 (Conv3DTran  (None, 2, 16, 16, 6  65600      ['conv3d_25[0][0]']              \n"
     ]
    },
    {
     "name": "stdout",
     "output_type": "stream",
     "text": [
      " spose)                         4)                                                                \n",
      "                                                                                                  \n",
      " concatenate_6 (Concatenate)    (None, 2, 16, 16, 1  0           ['conv3d_transpose_6[0][0]',     \n",
      "                                28)                               'conv3d_17[0][0]']              \n",
      "                                                                                                  \n",
      " dropout_6 (Dropout)            (None, 2, 16, 16, 1  0           ['concatenate_6[0][0]']          \n",
      "                                28)                                                               \n",
      "                                                                                                  \n",
      " conv3d_26 (Conv3D)             (None, 2, 16, 16, 6  65600       ['dropout_6[0][0]']              \n",
      "                                4)                                                                \n",
      "                                                                                                  \n",
      " conv3d_27 (Conv3D)             (None, 2, 16, 16, 6  32832       ['conv3d_26[0][0]']              \n",
      "                                4)                                                                \n",
      "                                                                                                  \n",
      " conv3d_transpose_7 (Conv3DTran  (None, 2, 32, 32, 3  16416      ['conv3d_27[0][0]']              \n",
      " spose)                         2)                                                                \n",
      "                                                                                                  \n",
      " max_pooling3d_9 (MaxPooling3D)  (None, 2, 32, 32, 3  0          ['conv3d_15[0][0]']              \n",
      "                                2)                                                                \n",
      "                                                                                                  \n",
      " concatenate_7 (Concatenate)    (None, 2, 32, 32, 6  0           ['conv3d_transpose_7[0][0]',     \n",
      "                                4)                                'max_pooling3d_9[0][0]']        \n",
      "                                                                                                  \n",
      " conv2d_1 (Conv2D)              (None, 2, 32, 32, 1  65          ['concatenate_7[0][0]']          \n",
      "                                )                                                                 \n",
      "                                                                                                  \n",
      "==================================================================================================\n",
      "Total params: 3,995,841\n",
      "Trainable params: 3,995,841\n",
      "Non-trainable params: 0\n",
      "__________________________________________________________________________________________________\n"
     ]
    }
   ],
   "source": [
    "# Display model details.\n",
    "forecast_model.summary()"
   ]
  },
  {
   "cell_type": "code",
   "execution_count": 33,
   "metadata": {},
   "outputs": [],
   "source": [
    "# Compile model.\n",
    "opt = tf.keras.optimizers.Adam(learning_rate=0.00001)\n",
    "forecast_model.compile(loss='binary_crossentropy', optimizer=opt, metrics=['accuracy'])"
   ]
  },
  {
   "cell_type": "code",
   "execution_count": 34,
   "metadata": {},
   "outputs": [],
   "source": [
    "# Data loaders.\n",
    "batch_size = 64\n",
    "meta_t = pd.read_csv('Sample_Dataset/train/meta.csv')\n",
    "meta_v = pd.read_csv('Sample_Dataset/val/meta.csv')\n",
    "t_gen = data_generator(meta_t, batch_size = batch_size)\n",
    "v_gen = data_generator(meta_v, batch_size = batch_size)"
   ]
  },
  {
   "cell_type": "code",
   "execution_count": 35,
   "metadata": {},
   "outputs": [
    {
     "name": "stdout",
     "output_type": "stream",
     "text": [
      "Epoch 1/50\n",
      "101/101 [==============================] - 14s 133ms/step - loss: 0.6835 - accuracy: 0.9100 - val_loss: 0.6731 - val_accuracy: 0.9970\n",
      "Epoch 2/50\n",
      "101/101 [==============================] - 13s 132ms/step - loss: 0.6591 - accuracy: 0.9957 - val_loss: 0.6401 - val_accuracy: 0.9971\n",
      "Epoch 3/50\n",
      "101/101 [==============================] - 13s 133ms/step - loss: 0.4425 - accuracy: 0.9958 - val_loss: 0.1918 - val_accuracy: 0.9972\n",
      "Epoch 4/50\n",
      "101/101 [==============================] - 13s 132ms/step - loss: 0.1692 - accuracy: 0.9956 - val_loss: 0.1095 - val_accuracy: 0.9972\n",
      "Epoch 5/50\n",
      "101/101 [==============================] - 13s 133ms/step - loss: 0.0829 - accuracy: 0.9958 - val_loss: 0.0474 - val_accuracy: 0.9971\n",
      "Epoch 6/50\n",
      "101/101 [==============================] - 13s 133ms/step - loss: 0.0421 - accuracy: 0.9960 - val_loss: 0.0324 - val_accuracy: 0.9972\n",
      "Epoch 7/50\n",
      "101/101 [==============================] - 13s 133ms/step - loss: 0.0373 - accuracy: 0.9958 - val_loss: 0.0327 - val_accuracy: 0.9968\n",
      "Epoch 8/50\n",
      "101/101 [==============================] - 13s 134ms/step - loss: 0.0354 - accuracy: 0.9956 - val_loss: 0.0277 - val_accuracy: 0.9972\n",
      "Epoch 9/50\n",
      "101/101 [==============================] - 13s 133ms/step - loss: 0.0346 - accuracy: 0.9955 - val_loss: 0.0281 - val_accuracy: 0.9973\n",
      "Epoch 10/50\n",
      "101/101 [==============================] - 13s 134ms/step - loss: 0.0318 - accuracy: 0.9958 - val_loss: 0.0275 - val_accuracy: 0.9970\n",
      "Epoch 11/50\n",
      "101/101 [==============================] - 13s 133ms/step - loss: 0.0326 - accuracy: 0.9956 - val_loss: 0.0284 - val_accuracy: 0.9971\n",
      "Epoch 12/50\n",
      "101/101 [==============================] - 13s 133ms/step - loss: 0.0324 - accuracy: 0.9955 - val_loss: 0.0275 - val_accuracy: 0.9969\n",
      "Epoch 13/50\n",
      "101/101 [==============================] - 13s 134ms/step - loss: 0.0321 - accuracy: 0.9954 - val_loss: 0.0271 - val_accuracy: 0.9970\n",
      "Epoch 14/50\n",
      "101/101 [==============================] - 13s 134ms/step - loss: 0.0297 - accuracy: 0.9957 - val_loss: 0.0243 - val_accuracy: 0.9973\n",
      "Epoch 15/50\n",
      "101/101 [==============================] - 13s 133ms/step - loss: 0.0304 - accuracy: 0.9956 - val_loss: 0.0258 - val_accuracy: 0.9972\n",
      "Epoch 16/50\n",
      "101/101 [==============================] - 13s 133ms/step - loss: 0.0302 - accuracy: 0.9955 - val_loss: 0.0258 - val_accuracy: 0.9973\n",
      "Epoch 17/50\n",
      "101/101 [==============================] - 13s 133ms/step - loss: 0.0298 - accuracy: 0.9956 - val_loss: 0.0244 - val_accuracy: 0.9973\n",
      "Epoch 18/50\n",
      "101/101 [==============================] - 13s 134ms/step - loss: 0.0295 - accuracy: 0.9956 - val_loss: 0.0244 - val_accuracy: 0.9971\n",
      "Epoch 19/50\n",
      "101/101 [==============================] - 13s 133ms/step - loss: 0.0291 - accuracy: 0.9956 - val_loss: 0.0266 - val_accuracy: 0.9969\n",
      "Epoch 20/50\n",
      "101/101 [==============================] - 13s 133ms/step - loss: 0.0280 - accuracy: 0.9958 - val_loss: 0.0251 - val_accuracy: 0.9969\n",
      "Epoch 21/50\n",
      "101/101 [==============================] - 13s 134ms/step - loss: 0.0282 - accuracy: 0.9957 - val_loss: 0.0219 - val_accuracy: 0.9972\n",
      "Epoch 22/50\n",
      "101/101 [==============================] - 13s 133ms/step - loss: 0.0276 - accuracy: 0.9958 - val_loss: 0.0229 - val_accuracy: 0.9972\n",
      "Epoch 23/50\n",
      "101/101 [==============================] - 13s 133ms/step - loss: 0.0282 - accuracy: 0.9956 - val_loss: 0.0233 - val_accuracy: 0.9971\n",
      "Epoch 24/50\n",
      "101/101 [==============================] - 13s 134ms/step - loss: 0.0287 - accuracy: 0.9956 - val_loss: 0.0230 - val_accuracy: 0.9970\n",
      "Epoch 25/50\n",
      "101/101 [==============================] - 13s 133ms/step - loss: 0.0278 - accuracy: 0.9957 - val_loss: 0.0222 - val_accuracy: 0.9973\n",
      "Epoch 26/50\n",
      "101/101 [==============================] - 14s 135ms/step - loss: 0.0288 - accuracy: 0.9955 - val_loss: 0.0241 - val_accuracy: 0.9974\n",
      "Epoch 27/50\n",
      "101/101 [==============================] - 13s 133ms/step - loss: 0.0282 - accuracy: 0.9956 - val_loss: 0.0203 - val_accuracy: 0.9974\n",
      "Epoch 28/50\n",
      "101/101 [==============================] - 13s 134ms/step - loss: 0.0287 - accuracy: 0.9955 - val_loss: 0.0219 - val_accuracy: 0.9972\n",
      "Epoch 29/50\n",
      "101/101 [==============================] - 14s 134ms/step - loss: 0.0272 - accuracy: 0.9958 - val_loss: 0.0218 - val_accuracy: 0.9971\n",
      "Epoch 30/50\n",
      "101/101 [==============================] - 13s 133ms/step - loss: 0.0270 - accuracy: 0.9958 - val_loss: 0.0217 - val_accuracy: 0.9972\n",
      "Epoch 31/50\n",
      "101/101 [==============================] - 13s 134ms/step - loss: 0.0270 - accuracy: 0.9957 - val_loss: 0.0210 - val_accuracy: 0.9973\n",
      "Epoch 32/50\n",
      "101/101 [==============================] - 13s 133ms/step - loss: 0.0280 - accuracy: 0.9955 - val_loss: 0.0228 - val_accuracy: 0.9972\n",
      "Epoch 33/50\n",
      "101/101 [==============================] - 13s 133ms/step - loss: 0.0270 - accuracy: 0.9957 - val_loss: 0.0220 - val_accuracy: 0.9972\n",
      "Epoch 34/50\n",
      "101/101 [==============================] - 14s 134ms/step - loss: 0.0282 - accuracy: 0.9955 - val_loss: 0.0215 - val_accuracy: 0.9972\n",
      "Epoch 35/50\n",
      "101/101 [==============================] - 13s 134ms/step - loss: 0.0263 - accuracy: 0.9958 - val_loss: 0.0212 - val_accuracy: 0.9971\n",
      "Epoch 36/50\n",
      "101/101 [==============================] - 13s 134ms/step - loss: 0.0262 - accuracy: 0.9958 - val_loss: 0.0223 - val_accuracy: 0.9969\n",
      "Epoch 37/50\n",
      "101/101 [==============================] - 13s 134ms/step - loss: 0.0270 - accuracy: 0.9957 - val_loss: 0.0208 - val_accuracy: 0.9973\n",
      "Epoch 38/50\n",
      "101/101 [==============================] - 13s 134ms/step - loss: 0.0271 - accuracy: 0.9956 - val_loss: 0.0196 - val_accuracy: 0.9974\n",
      "Epoch 39/50\n",
      "101/101 [==============================] - 14s 135ms/step - loss: 0.0267 - accuracy: 0.9957 - val_loss: 0.0213 - val_accuracy: 0.9972\n",
      "Epoch 40/50\n",
      "101/101 [==============================] - 14s 134ms/step - loss: 0.0263 - accuracy: 0.9958 - val_loss: 0.0211 - val_accuracy: 0.9971\n",
      "Epoch 41/50\n",
      "101/101 [==============================] - 13s 132ms/step - loss: 0.0274 - accuracy: 0.9956 - val_loss: 0.0215 - val_accuracy: 0.9970\n",
      "Epoch 42/50\n",
      "101/101 [==============================] - 13s 134ms/step - loss: 0.0271 - accuracy: 0.9956 - val_loss: 0.0227 - val_accuracy: 0.9969\n",
      "Epoch 43/50\n",
      "101/101 [==============================] - 13s 134ms/step - loss: 0.0274 - accuracy: 0.9955 - val_loss: 0.0212 - val_accuracy: 0.9972\n",
      "Epoch 44/50\n",
      "101/101 [==============================] - 13s 134ms/step - loss: 0.0269 - accuracy: 0.9957 - val_loss: 0.0216 - val_accuracy: 0.9972\n",
      "Epoch 45/50\n",
      "101/101 [==============================] - 13s 134ms/step - loss: 0.0275 - accuracy: 0.9955 - val_loss: 0.0199 - val_accuracy: 0.9972\n",
      "Epoch 46/50\n",
      "101/101 [==============================] - 13s 133ms/step - loss: 0.0267 - accuracy: 0.9957 - val_loss: 0.0225 - val_accuracy: 0.9968\n",
      "Epoch 47/50\n",
      "101/101 [==============================] - 14s 137ms/step - loss: 0.0272 - accuracy: 0.9956 - val_loss: 0.0204 - val_accuracy: 0.9972\n",
      "Epoch 48/50\n",
      "101/101 [==============================] - 14s 135ms/step - loss: 0.0260 - accuracy: 0.9958 - val_loss: 0.0208 - val_accuracy: 0.9972\n",
      "Epoch 49/50\n",
      "101/101 [==============================] - 14s 135ms/step - loss: 0.0270 - accuracy: 0.9956 - val_loss: 0.0208 - val_accuracy: 0.9972\n",
      "Epoch 50/50\n",
      "101/101 [==============================] - 14s 135ms/step - loss: 0.0268 - accuracy: 0.9957 - val_loss: 0.0199 - val_accuracy: 0.9975\n"
     ]
    },
    {
     "data": {
      "text/plain": [
       "<keras.callbacks.History at 0x1e10bf680d0>"
      ]
     },
     "execution_count": 35,
     "metadata": {},
     "output_type": "execute_result"
    }
   ],
   "source": [
    "# Train model.\n",
    "forecast_model.fit(t_gen, \n",
    "                   epochs = 50, \n",
    "                   verbose = 1, \n",
    "                   validation_data = v_gen, \n",
    "                   steps_per_epoch = len(meta_t) // batch_size,\n",
    "                   validation_steps = len(meta_v) // batch_size,\n",
    "                  )"
   ]
  },
  {
   "cell_type": "code",
   "execution_count": 36,
   "metadata": {},
   "outputs": [
    {
     "name": "stderr",
     "output_type": "stream",
     "text": [
      "WARNING:absl:Found untraced functions such as _jit_compiled_convolution_op, _jit_compiled_convolution_op, _jit_compiled_convolution_op, _jit_compiled_convolution_op, _jit_compiled_convolution_op while saving (showing 5 of 19). These functions will not be directly callable after loading.\n"
     ]
    },
    {
     "name": "stdout",
     "output_type": "stream",
     "text": [
      "INFO:tensorflow:Assets written to: Models/003\\assets\n"
     ]
    },
    {
     "name": "stderr",
     "output_type": "stream",
     "text": [
      "INFO:tensorflow:Assets written to: Models/003\\assets\n"
     ]
    }
   ],
   "source": [
    "# Save trained model.\n",
    "forecast_model.save('Models/003')"
   ]
  },
  {
   "cell_type": "markdown",
   "metadata": {},
   "source": [
    "#### Examine how model is working"
   ]
  },
  {
   "cell_type": "code",
   "execution_count": 37,
   "metadata": {},
   "outputs": [],
   "source": [
    "# Get data from one chip\n",
    "sample_input = np.load('Sample_Dataset/val/features/2718135.npy')\n",
    "\n",
    "# Pad to even number of pixels\n",
    "a = np.pad(sample_input, [(0,0),(0,1),(0,1)])\n",
    "# Resize to include a channel dimension.\n",
    "a = tf.expand_dims(a, axis = -1)\n",
    "# Resize to include a batch dimension.\n",
    "a = tf.expand_dims(a, axis = 0)\n",
    "\n",
    "# Get data from one chip\n",
    "sample_output = np.load('Sample_Dataset/val/labels/2642208.npy')\n",
    "\n",
    "# Pad to even number of pixels\n",
    "b = np.pad(sample_output, [(0,0),(0,1),(0,1)])\n",
    "# Resize to include a channel dimension.\n",
    "b = tf.expand_dims(b, axis = -1)\n",
    "# Resize to include a batch dimension.\n",
    "b = tf.expand_dims(b, axis = 0)"
   ]
  },
  {
   "cell_type": "code",
   "execution_count": 38,
   "metadata": {},
   "outputs": [
    {
     "name": "stdout",
     "output_type": "stream",
     "text": [
      "1/1 [==============================] - 0s 162ms/step\n"
     ]
    },
    {
     "data": {
      "text/plain": [
       "(1, 2, 32, 32, 1)"
      ]
     },
     "execution_count": 38,
     "metadata": {},
     "output_type": "execute_result"
    }
   ],
   "source": [
    "pred_eval = forecast_model.predict(a)\n",
    "pred_eval.shape"
   ]
  },
  {
   "cell_type": "code",
   "execution_count": 39,
   "metadata": {},
   "outputs": [
    {
     "data": {
      "text/plain": [
       "17.087906"
      ]
     },
     "execution_count": 39,
     "metadata": {},
     "output_type": "execute_result"
    }
   ],
   "source": [
    "pred_eval.sum()"
   ]
  },
  {
   "cell_type": "code",
   "execution_count": 40,
   "metadata": {},
   "outputs": [
    {
     "data": {
      "text/plain": [
       "TensorShape([1, 2, 32, 32, 1])"
      ]
     },
     "execution_count": 40,
     "metadata": {},
     "output_type": "execute_result"
    }
   ],
   "source": [
    "b.shape"
   ]
  },
  {
   "cell_type": "code",
   "execution_count": 41,
   "metadata": {},
   "outputs": [
    {
     "data": {
      "text/plain": [
       "8"
      ]
     },
     "execution_count": 41,
     "metadata": {},
     "output_type": "execute_result"
    }
   ],
   "source": [
    "b.numpy().sum()"
   ]
  },
  {
   "cell_type": "code",
   "execution_count": 42,
   "metadata": {},
   "outputs": [
    {
     "data": {
      "text/plain": [
       "array([[0.00695483],\n",
       "       [0.00637802],\n",
       "       [0.00723146],\n",
       "       [0.00712932],\n",
       "       [0.00731858],\n",
       "       [0.00686454],\n",
       "       [0.00774175],\n",
       "       [0.00767069],\n",
       "       [0.00770126],\n",
       "       [0.00720771],\n",
       "       [0.00801149],\n",
       "       [0.00785888],\n",
       "       [0.00796433],\n",
       "       [0.00754437],\n",
       "       [0.00874157],\n",
       "       [0.00874281],\n",
       "       [0.00890333],\n",
       "       [0.0083473 ],\n",
       "       [0.0087347 ],\n",
       "       [0.00867721],\n",
       "       [0.00806763],\n",
       "       [0.00763143],\n",
       "       [0.00774375],\n",
       "       [0.00691641],\n",
       "       [0.00671686],\n",
       "       [0.00626129],\n",
       "       [0.00569441],\n",
       "       [0.0056796 ],\n",
       "       [0.00546665],\n",
       "       [0.00490744],\n",
       "       [0.00028966],\n",
       "       [0.00015849]], dtype=float32)"
      ]
     },
     "execution_count": 42,
     "metadata": {},
     "output_type": "execute_result"
    }
   ],
   "source": [
    "pred_eval[0][0][0]"
   ]
  },
  {
   "cell_type": "code",
   "execution_count": 43,
   "metadata": {},
   "outputs": [
    {
     "data": {
      "text/plain": [
       "0"
      ]
     },
     "execution_count": 43,
     "metadata": {},
     "output_type": "execute_result"
    }
   ],
   "source": [
    "# Convert predictions to binary.\n",
    "(pred_eval >= 0.05).astype(int).sum()"
   ]
  },
  {
   "cell_type": "code",
   "execution_count": 44,
   "metadata": {},
   "outputs": [
    {
     "data": {
      "text/plain": [
       "0.048403706"
      ]
     },
     "execution_count": 44,
     "metadata": {},
     "output_type": "execute_result"
    }
   ],
   "source": [
    "pred_eval.max()"
   ]
  },
  {
   "cell_type": "code",
   "execution_count": 45,
   "metadata": {},
   "outputs": [
    {
     "data": {
      "text/plain": [
       "3"
      ]
     },
     "execution_count": 45,
     "metadata": {},
     "output_type": "execute_result"
    }
   ],
   "source": [
    "#viz_real = pred_eval[0][0].reshape((32,32))\n",
    "viz_real = b[0][0].numpy().reshape((32,32))\n",
    "viz_real.shape\n",
    "viz_real.sum()"
   ]
  },
  {
   "cell_type": "code",
   "execution_count": 46,
   "metadata": {},
   "outputs": [
    {
     "data": {
      "text/plain": [
       "(32, 32)"
      ]
     },
     "execution_count": 46,
     "metadata": {},
     "output_type": "execute_result"
    }
   ],
   "source": [
    "viz_pred = pred_eval[0][0].reshape((32,32))\n",
    "viz_pred.shape"
   ]
  },
  {
   "cell_type": "code",
   "execution_count": 47,
   "metadata": {},
   "outputs": [
    {
     "data": {
      "text/plain": [
       "(32, 32)"
      ]
     },
     "execution_count": 47,
     "metadata": {},
     "output_type": "execute_result"
    }
   ],
   "source": [
    "viz_feature = a[0][3].numpy().reshape((32,32))\n",
    "viz_feature.shape"
   ]
  },
  {
   "cell_type": "code",
   "execution_count": 58,
   "metadata": {},
   "outputs": [
    {
     "data": {
      "text/plain": [
       "<matplotlib.image.AxesImage at 0x1e309c749a0>"
      ]
     },
     "execution_count": 58,
     "metadata": {},
     "output_type": "execute_result"
    },
    {
     "data": {
      "image/png": "[encoded data removed]",
      "text/plain": [
       "<Figure size 1080x1080 with 3 Axes>"
      ]
     },
     "metadata": {
      "needs_background": "light"
     },
     "output_type": "display_data"
    }
   ],
   "source": [
    "# Visualize\n",
    "fig, (ax1, ax2, ax3) = plt.subplots(1,3, figsize=(15, 15))\n",
    "ax1.imshow(viz_feature)\n",
    "ax2.imshow(viz_real)\n",
    "ax3.imshow(viz_pred)"
   ]
  }
 ],
 "metadata": {
  "kernelspec": {
   "display_name": "Python 3 (ipykernel)",
   "language": "python",
   "name": "python3"
  },
  "language_info": {
   "codemirror_mode": {
    "name": "ipython",
    "version": 3
   },
   "file_extension": ".py",
   "mimetype": "text/x-python",
   "name": "python",
   "nbconvert_exporter": "python",
   "pygments_lexer": "ipython3",
   "version": "3.9.7"
  }
 },
 "nbformat": 4,
 "nbformat_minor": 4
}
