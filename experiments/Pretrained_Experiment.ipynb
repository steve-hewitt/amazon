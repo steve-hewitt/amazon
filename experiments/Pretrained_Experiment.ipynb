{
 "cells": [
  {
   "cell_type": "markdown",
   "id": "b3a3b751",
   "metadata": {},
   "source": [
    "# Model Name TBD\n",
    "Combines the time-distributed feature extraction of Convolutional LSTMs with the upsampling and skip connections of a U-Net to convert video-like input features and time-distributed vector metadata into a next frame semantic segmentation map."
   ]
  },
  {
   "cell_type": "markdown",
   "id": "65090d11",
   "metadata": {},
   "source": [
    "### Import Block"
   ]
  },
  {
   "cell_type": "code",
   "execution_count": 1,
   "id": "afec3342",
   "metadata": {},
   "outputs": [],
   "source": [
    "import pandas as pd\n",
    "import numpy as np\n",
    "import tensorflow as tf\n",
    "import matplotlib.pyplot as plt\n",
    "from tensorflow.keras import layers\n",
    "from sklearn.utils import class_weight\n",
    "\n",
    "%matplotlib inline"
   ]
  },
  {
   "cell_type": "markdown",
   "id": "e7194276",
   "metadata": {},
   "source": [
    "### Function Definitions"
   ]
  },
  {
   "cell_type": "code",
   "execution_count": 2,
   "id": "07c37bfa",
   "metadata": {},
   "outputs": [],
   "source": [
    "# Loader functions\n",
    "# Inspiration: https://towardsdatascience.com/writing-custom-keras-generators-fe815d992c5a\n",
    "\n",
    "def get_2d_input(path):\n",
    "    # Load array.\n",
    "    t_2d_input = np.load(path)\n",
    "    \n",
    "    #return t_2d_input\n",
    "    return t_2d_input[:,:,:,:1]\n",
    "\n",
    "def get_1d_input(path):\n",
    "    # Load array.\n",
    "    t_1d_input = np.load(path)\n",
    "    \n",
    "    # Expand dimensions to match model input.\n",
    "    t_1d_input = tf.expand_dims(tf.expand_dims(t_1d_input, 2), 2)\n",
    "    \n",
    "    # Put channel dim at the end.\n",
    "    t_1d_input = np.moveaxis(t_1d_input, 1, -1)\n",
    "    \n",
    "    return t_1d_input\n",
    "\n",
    "def get_output(path):\n",
    "    # Load array.\n",
    "    t_output = np.load(path)\n",
    "    \n",
    "    # Put channel dim at the end.\n",
    "    t_output = np.moveaxis(t_output, 0, -1)\n",
    "    return t_output\n",
    "\n",
    "def data_generator(samples, num_samples, batch_size = 64, calculated_sample_weights = None):\n",
    "    \n",
    "    while True:\n",
    "        # Suffle data at the start of each epoch.\n",
    "        sample_indicies = np.arange(num_samples)\n",
    "        np.random.shuffle(sample_indicies)\n",
    "        n = 0\n",
    "        \n",
    "        while n + batch_size < num_samples:\n",
    "            # Get indicies for the batch\n",
    "            batch_samples  = sample_indicies[n:n + batch_size]\n",
    "            n += batch_size\n",
    "\n",
    "            batch_input_2d  = []\n",
    "            batch_input_1d  = []\n",
    "            batch_output = [] \n",
    "            batch_sample_weights = []\n",
    "\n",
    "            # Read in each input, perform preprocessing and get labels\n",
    "            for sample in batch_samples:\n",
    "                input_2d = get_2d_input(samples.iloc[sample].features_2d)\n",
    "                input_1d = get_1d_input(samples.iloc[sample].features_1d)\n",
    "                output = get_output(samples.iloc[sample].labels)\n",
    "                \n",
    "                batch_input_2d += [input_2d]\n",
    "                batch_input_1d += [input_1d]\n",
    "                batch_output += [output]\n",
    "\n",
    "                if type(calculated_sample_weights) != type(None):\n",
    "                    sample_weights = calculated_sample_weights[sample]\n",
    "                    batch_sample_weights += [sample_weights]\n",
    "                \n",
    "            # Return a tuple to feed the network\n",
    "            batch_x = np.array(batch_input_2d)\n",
    "            batch_v = np.array(batch_input_1d)\n",
    "            batch_y = np.array(batch_output)\n",
    "            \n",
    "            if type(calculated_sample_weights) == type(None):\n",
    "                yield(batch_x, batch_y)\n",
    "            else:\n",
    "                batch_sample_weights = np.array(batch_sample_weights)\n",
    "                yield(batch_x, batch_y, batch_sample_weights)"
   ]
  },
  {
   "cell_type": "code",
   "execution_count": 3,
   "id": "9ef16812",
   "metadata": {},
   "outputs": [],
   "source": [
    "# Solution for problem with class_weights not working with 3D outputs in tensorflow.\n",
    "# From: https://github.com/keras-team/keras/issues/3653\n",
    "def generate_sample_weights(training_data, class_weights): \n",
    "    #replaces values for up to 3 classes with the values from class_weights#\n",
    "    sample_weights = [np.where(y==0,class_weights[0],\n",
    "                        np.where(y==1,class_weights[1],\n",
    "                        y)) for y in training_data]\n",
    "    return np.asarray(sample_weights)"
   ]
  },
  {
   "cell_type": "code",
   "execution_count": 4,
   "id": "dca14d66",
   "metadata": {},
   "outputs": [],
   "source": [
    "# SSIM/PSNR loss functions.\n",
    "# Inspiration: https://stackoverflow.com/questions/57357146/use-ssim-loss-function-with-keras\n",
    "def ssim_loss(y_true, y_pred):\n",
    "    return 1 - tf.reduce_mean(tf.image.ssim(y_true, y_pred, 1.0))\n",
    "\n",
    "def psnr_loss(y_true, y_pred):\n",
    "    return 100 - tf.reduce_mean(tf.image.psnr(y_true, y_pred, 1.0))"
   ]
  },
  {
   "cell_type": "code",
   "execution_count": 5,
   "id": "989693bd",
   "metadata": {},
   "outputs": [],
   "source": [
    "## Dice loss functions.\n",
    "## From: https://stackoverflow.com/questions/72195156/correct-implementation-of-dice-loss-in-tensorflow-keras\n",
    "#def dice_coef(y_true, y_pred, smooth=100):        \n",
    "#    y_true_f = tf.keras.backend.flatten(y_true)\n",
    "#    y_pred_f = tf.keras.backend.flatten(y_pred)\n",
    "#    intersection = tf.keras.backend.sum(y_true_f * y_pred_f)\n",
    "#    dice = (2. * intersection + smooth) / (tf.keras.backend.sum(y_true_f) + tf.keras.backend.sum(y_pred_f) + smooth)\n",
    "#    return dice\n",
    "#\n",
    "#def dice_coef_loss(y_true, y_pred):\n",
    "#    return 1 - dice_coef(y_true, y_pred)"
   ]
  },
  {
   "cell_type": "code",
   "execution_count": 6,
   "id": "e94590cf",
   "metadata": {},
   "outputs": [],
   "source": [
    "# Dice loss \n",
    "# From: https://lars76.github.io/2018/09/27/loss-functions-for-segmentation.html\n",
    "def dice_loss(y_true, y_pred):\n",
    "    y_true = tf.cast(y_true, tf.float32)\n",
    "    y_pred = tf.math.sigmoid(y_pred)\n",
    "    numerator = 2 * tf.reduce_sum(y_true * y_pred)\n",
    "    denominator = tf.reduce_sum(y_true + y_pred)\n",
    "\n",
    "    return 1 - numerator / denominator"
   ]
  },
  {
   "cell_type": "markdown",
   "id": "48387d28",
   "metadata": {},
   "source": [
    "### Model Assembly"
   ]
  },
  {
   "cell_type": "code",
   "execution_count": 7,
   "id": "5de60bad",
   "metadata": {},
   "outputs": [],
   "source": [
    "# Load pre-trained fire encoder.\n",
    "fire_encoder = tf.keras.models.load_model('Models/MINST_Agg_01', custom_objects = {'ssim_loss': ssim_loss, 'psnr_loss': psnr_loss})"
   ]
  },
  {
   "cell_type": "code",
   "execution_count": 8,
   "id": "f835ce22",
   "metadata": {},
   "outputs": [],
   "source": [
    "# Load pre-trained VGG16\n",
    "vgg = tf.keras.applications.VGG16(include_top=False, weights='imagenet', input_shape=(32,32,3))"
   ]
  },
  {
   "cell_type": "code",
   "execution_count": 9,
   "id": "bb2db18a",
   "metadata": {},
   "outputs": [],
   "source": [
    "# Freeze all layers of pretrained models.\n",
    "for t_layer in fire_encoder.layers:\n",
    "    t_layer.trainable = False\n",
    "#for t_layer in vgg.layers:\n",
    "#    t_layer.trainable = False"
   ]
  },
  {
   "cell_type": "code",
   "execution_count": 10,
   "id": "93c63a89",
   "metadata": {},
   "outputs": [],
   "source": [
    "# Combine fire_encoder with VGG16.\n",
    "fire_encoder.add(layers.Lambda(lambda x: tf.keras.backend.repeat_elements(x=x, rep=3, axis=-1)))\n",
    "for t_layer in vgg.layers[1:]:\n",
    "    fire_encoder.add(t_layer)"
   ]
  },
  {
   "cell_type": "code",
   "execution_count": 11,
   "id": "b84ea20b",
   "metadata": {},
   "outputs": [],
   "source": [
    "# Extract weights from VGG16 model.\n",
    "vgg_weights = []\n",
    "for t_layer in vgg.layers:\n",
    "    vgg_weights.append(t_layer.get_weights())"
   ]
  },
  {
   "cell_type": "code",
   "execution_count": 12,
   "id": "6fbb22b9",
   "metadata": {},
   "outputs": [],
   "source": [
    "# Convert entire model to JSON and back to model so that the stranded VGG input layer is ignored.\n",
    "fm_json = fire_encoder.to_json()\n",
    "fire_encoder, vgg = None, None\n",
    "fire_encoder = tf.keras.models.model_from_json(fm_json)"
   ]
  },
  {
   "cell_type": "code",
   "execution_count": 13,
   "id": "d9d7924d",
   "metadata": {},
   "outputs": [],
   "source": [
    "# Put VGG weights back.\n",
    "for t_layer, t_weights in zip(fire_encoder.layers[5:], vgg_weights[1:]):\n",
    "    t_layer.set_weights(t_weights)"
   ]
  },
  {
   "cell_type": "code",
   "execution_count": 29,
   "id": "e73984d7",
   "metadata": {},
   "outputs": [
    {
     "data": {
      "text/plain": [
       "'block1_conv2'"
      ]
     },
     "execution_count": 29,
     "metadata": {},
     "output_type": "execute_result"
    }
   ],
   "source": [
    "combo_model.layers[7].name"
   ]
  },
  {
   "cell_type": "code",
   "execution_count": 14,
   "id": "d75a9f38",
   "metadata": {},
   "outputs": [],
   "source": [
    "# Hyperparameters\n",
    "upsample_filters = 512\n",
    "\n",
    "# Apply U-Net deconvolution to fire encoder.\n",
    "from_fire = layers.Conv2D(upsample_filters, (3,3), padding=\"same\", activation='relu', name='UpConv_1_A')(fire_encoder.output)\n",
    "x2 = layers.BatchNormalization()(from_fire)\n",
    "x2 = layers.Conv2D(upsample_filters, (3,3), padding=\"same\", activation='relu', name='UpConv_1_B')(x2)\n",
    "x2 = layers.BatchNormalization()(x2)\n",
    "x2 = layers.Conv2DTranspose(upsample_filters, (3,3), strides=(2,2), activation='relu', padding='same', name = 'UpConv_to2')(x2)\n",
    "x2 = layers.BatchNormalization()(x2)\n",
    "x2 = layers.concatenate([x2, fire_encoder.get_layer('block5_conv3').output])\n",
    "\n",
    "x2 = layers.Conv2D(upsample_filters, (3,3), padding=\"same\", activation='relu', name='UpConv_2_A')(x2)\n",
    "x2 = layers.BatchNormalization()(x2)\n",
    "x2 = layers.Conv2D(upsample_filters, (3,3), padding=\"same\", activation='relu', name='UpConv_2_B')(x2)\n",
    "x2 = layers.BatchNormalization()(x2)\n",
    "x2 = layers.Conv2DTranspose(upsample_filters, (3,3), strides=(2,2), activation='relu', padding='same', name = 'UpConv_to4')(x2)\n",
    "x2 = layers.BatchNormalization()(x2)\n",
    "x2 = layers.concatenate([x2, fire_encoder.get_layer('block4_conv3').output])\n",
    "\n",
    "x2 = layers.Conv2D(upsample_filters // 2, (3,3), padding=\"same\", activation='relu', name='UpConv_3_A')(x2)\n",
    "x2 = layers.BatchNormalization()(x2)\n",
    "x2 = layers.Conv2D(upsample_filters // 2, (3,3), padding=\"same\", activation='relu', name='UpConv_3_B')(x2)\n",
    "x2 = layers.BatchNormalization()(x2)\n",
    "x2 = layers.Conv2DTranspose(upsample_filters // 2, (3,3), strides=(2,2), activation='relu', padding='same', name = 'UpConv_to8')(x2)\n",
    "x2 = layers.BatchNormalization()(x2)\n",
    "x2 = layers.concatenate([x2, fire_encoder.get_layer('block3_conv3').output])\n",
    "\n",
    "x2 = layers.Conv2D(upsample_filters // 4, (3,3), padding=\"same\", activation='relu', name='UpConv_4_A')(x2)\n",
    "x2 = layers.BatchNormalization()(x2)\n",
    "x2 = layers.Conv2D(upsample_filters // 4, (3,3), padding=\"same\", activation='relu', name='UpConv_4_B')(x2)\n",
    "x2 = layers.BatchNormalization()(x2)\n",
    "x2 = layers.Conv2DTranspose(upsample_filters // 4, (3,3), strides=(2,2), activation='relu', padding='same', name = 'UpConv_to16')(x2)\n",
    "x2 = layers.BatchNormalization()(x2)\n",
    "x2 = layers.concatenate([x2, fire_encoder.get_layer('block2_conv2').output])\n",
    "\n",
    "x2 = layers.Conv2D(upsample_filters // 8, (3,3), padding=\"same\", activation='relu', name='UpConv_5_A')(x2)\n",
    "x2 = layers.BatchNormalization()(x2)\n",
    "x2 = layers.Conv2D(upsample_filters // 8, (3,3), padding=\"same\", activation='relu', name='UpConv_5_B')(x2)\n",
    "x2 = layers.BatchNormalization()(x2)\n",
    "x2 = layers.Conv2DTranspose(upsample_filters // 8, (3,3), strides=(2,2), activation='relu', padding='same', name = 'UpConv_to32')(x2)\n",
    "x2 = layers.BatchNormalization()(x2)\n",
    "x2 = layers.concatenate([x2, fire_encoder.get_layer('block1_conv2').output])\n",
    "\n",
    "x2 = layers.Conv2D(upsample_filters // 16, (3,3), padding=\"same\", activation='relu', name='TopConv_A')(x2)\n",
    "x2 = layers.BatchNormalization()(x2)\n",
    "x2 = layers.Conv2D(1, (3,3), padding=\"same\", activation='sigmoid', name='TopConv_B')(x2)\n",
    "output = layers.BatchNormalization(name = 'unet_output')(x2)"
   ]
  },
  {
   "cell_type": "code",
   "execution_count": 15,
   "id": "03e82254",
   "metadata": {},
   "outputs": [
    {
     "name": "stdout",
     "output_type": "stream",
     "text": [
      "Model: \"combo_model\"\n",
      "__________________________________________________________________________________________________\n",
      " Layer (type)                   Output Shape         Param #     Connected to                     \n",
      "==================================================================================================\n",
      " fire_input (InputLayer)        [(None, 10, 32, 32,  0           []                               \n",
      "                                 1)]                                                              \n",
      "                                                                                                  \n",
      " fire_time_feature_1 (ConvLSTM2  (None, 10, 32, 32,   1651712    ['fire_input[0][0]']             \n",
      " D)                             128)                                                              \n",
      "                                                                                                  \n",
      " fire_time_feature_2 (ConvLSTM2  (None, 10, 32, 32,   442624     ['fire_time_feature_1[0][0]']    \n",
      " D)                             64)                                                               \n",
      "                                                                                                  \n",
      " fire_to_2D (ConvLSTM2D)        (None, 32, 32, 64)   33024       ['fire_time_feature_2[0][0]']    \n",
      "                                                                                                  \n",
      " output (Conv2D)                (None, 32, 32, 1)    65          ['fire_to_2D[0][0]']             \n",
      "                                                                                                  \n",
      " lambda (Lambda)                (None, 32, 32, 3)    0           ['output[0][0]']                 \n",
      "                                                                                                  \n",
      " block1_conv1 (Conv2D)          (None, 32, 32, 64)   1792        ['lambda[0][0]']                 \n",
      "                                                                                                  \n",
      " block1_conv2 (Conv2D)          (None, 32, 32, 64)   36928       ['block1_conv1[0][0]']           \n",
      "                                                                                                  \n",
      " block1_pool (MaxPooling2D)     (None, 16, 16, 64)   0           ['block1_conv2[0][0]']           \n",
      "                                                                                                  \n",
      " block2_conv1 (Conv2D)          (None, 16, 16, 128)  73856       ['block1_pool[0][0]']            \n",
      "                                                                                                  \n",
      " block2_conv2 (Conv2D)          (None, 16, 16, 128)  147584      ['block2_conv1[0][0]']           \n",
      "                                                                                                  \n",
      " block2_pool (MaxPooling2D)     (None, 8, 8, 128)    0           ['block2_conv2[0][0]']           \n",
      "                                                                                                  \n",
      " block3_conv1 (Conv2D)          (None, 8, 8, 256)    295168      ['block2_pool[0][0]']            \n",
      "                                                                                                  \n",
      " block3_conv2 (Conv2D)          (None, 8, 8, 256)    590080      ['block3_conv1[0][0]']           \n",
      "                                                                                                  \n",
      " block3_conv3 (Conv2D)          (None, 8, 8, 256)    590080      ['block3_conv2[0][0]']           \n",
      "                                                                                                  \n",
      " block3_pool (MaxPooling2D)     (None, 4, 4, 256)    0           ['block3_conv3[0][0]']           \n",
      "                                                                                                  \n",
      " block4_conv1 (Conv2D)          (None, 4, 4, 512)    1180160     ['block3_pool[0][0]']            \n",
      "                                                                                                  \n",
      " block4_conv2 (Conv2D)          (None, 4, 4, 512)    2359808     ['block4_conv1[0][0]']           \n",
      "                                                                                                  \n",
      " block4_conv3 (Conv2D)          (None, 4, 4, 512)    2359808     ['block4_conv2[0][0]']           \n",
      "                                                                                                  \n",
      " block4_pool (MaxPooling2D)     (None, 2, 2, 512)    0           ['block4_conv3[0][0]']           \n",
      "                                                                                                  \n",
      " block5_conv1 (Conv2D)          (None, 2, 2, 512)    2359808     ['block4_pool[0][0]']            \n",
      "                                                                                                  \n",
      " block5_conv2 (Conv2D)          (None, 2, 2, 512)    2359808     ['block5_conv1[0][0]']           \n",
      "                                                                                                  \n",
      " block5_conv3 (Conv2D)          (None, 2, 2, 512)    2359808     ['block5_conv2[0][0]']           \n",
      "                                                                                                  \n",
      " block5_pool (MaxPooling2D)     (None, 1, 1, 512)    0           ['block5_conv3[0][0]']           \n",
      "                                                                                                  \n",
      " UpConv_1_A (Conv2D)            (None, 1, 1, 512)    2359808     ['block5_pool[0][0]']            \n",
      "                                                                                                  \n",
      " batch_normalization (BatchNorm  (None, 1, 1, 512)   2048        ['UpConv_1_A[0][0]']             \n",
      " alization)                                                                                       \n",
      "                                                                                                  \n",
      " UpConv_1_B (Conv2D)            (None, 1, 1, 512)    2359808     ['batch_normalization[0][0]']    \n",
      "                                                                                                  \n",
      " batch_normalization_1 (BatchNo  (None, 1, 1, 512)   2048        ['UpConv_1_B[0][0]']             \n",
      " rmalization)                                                                                     \n",
      "                                                                                                  \n",
      " UpConv_to2 (Conv2DTranspose)   (None, 2, 2, 512)    2359808     ['batch_normalization_1[0][0]']  \n",
      "                                                                                                  \n",
      " batch_normalization_2 (BatchNo  (None, 2, 2, 512)   2048        ['UpConv_to2[0][0]']             \n",
      " rmalization)                                                                                     \n",
      "                                                                                                  \n",
      " concatenate (Concatenate)      (None, 2, 2, 1024)   0           ['batch_normalization_2[0][0]',  \n",
      "                                                                  'block5_conv3[0][0]']           \n",
      "                                                                                                  \n",
      " UpConv_2_A (Conv2D)            (None, 2, 2, 512)    4719104     ['concatenate[0][0]']            \n",
      "                                                                                                  \n",
      " batch_normalization_3 (BatchNo  (None, 2, 2, 512)   2048        ['UpConv_2_A[0][0]']             \n",
      " rmalization)                                                                                     \n",
      "                                                                                                  \n",
      " UpConv_2_B (Conv2D)            (None, 2, 2, 512)    2359808     ['batch_normalization_3[0][0]']  \n",
      "                                                                                                  \n",
      " batch_normalization_4 (BatchNo  (None, 2, 2, 512)   2048        ['UpConv_2_B[0][0]']             \n",
      " rmalization)                                                                                     \n",
      "                                                                                                  \n",
      " UpConv_to4 (Conv2DTranspose)   (None, 4, 4, 512)    2359808     ['batch_normalization_4[0][0]']  \n"
     ]
    },
    {
     "name": "stdout",
     "output_type": "stream",
     "text": [
      "                                                                                                  \n",
      " batch_normalization_5 (BatchNo  (None, 4, 4, 512)   2048        ['UpConv_to4[0][0]']             \n",
      " rmalization)                                                                                     \n",
      "                                                                                                  \n",
      " concatenate_1 (Concatenate)    (None, 4, 4, 1024)   0           ['batch_normalization_5[0][0]',  \n",
      "                                                                  'block4_conv3[0][0]']           \n",
      "                                                                                                  \n",
      " UpConv_3_A (Conv2D)            (None, 4, 4, 256)    2359552     ['concatenate_1[0][0]']          \n",
      "                                                                                                  \n",
      " batch_normalization_6 (BatchNo  (None, 4, 4, 256)   1024        ['UpConv_3_A[0][0]']             \n",
      " rmalization)                                                                                     \n",
      "                                                                                                  \n",
      " UpConv_3_B (Conv2D)            (None, 4, 4, 256)    590080      ['batch_normalization_6[0][0]']  \n",
      "                                                                                                  \n",
      " batch_normalization_7 (BatchNo  (None, 4, 4, 256)   1024        ['UpConv_3_B[0][0]']             \n",
      " rmalization)                                                                                     \n",
      "                                                                                                  \n",
      " UpConv_to8 (Conv2DTranspose)   (None, 8, 8, 256)    590080      ['batch_normalization_7[0][0]']  \n",
      "                                                                                                  \n",
      " batch_normalization_8 (BatchNo  (None, 8, 8, 256)   1024        ['UpConv_to8[0][0]']             \n",
      " rmalization)                                                                                     \n",
      "                                                                                                  \n",
      " concatenate_2 (Concatenate)    (None, 8, 8, 512)    0           ['batch_normalization_8[0][0]',  \n",
      "                                                                  'block3_conv3[0][0]']           \n",
      "                                                                                                  \n",
      " UpConv_4_A (Conv2D)            (None, 8, 8, 128)    589952      ['concatenate_2[0][0]']          \n",
      "                                                                                                  \n",
      " batch_normalization_9 (BatchNo  (None, 8, 8, 128)   512         ['UpConv_4_A[0][0]']             \n",
      " rmalization)                                                                                     \n",
      "                                                                                                  \n",
      " UpConv_4_B (Conv2D)            (None, 8, 8, 128)    147584      ['batch_normalization_9[0][0]']  \n",
      "                                                                                                  \n",
      " batch_normalization_10 (BatchN  (None, 8, 8, 128)   512         ['UpConv_4_B[0][0]']             \n",
      " ormalization)                                                                                    \n",
      "                                                                                                  \n",
      " UpConv_to16 (Conv2DTranspose)  (None, 16, 16, 128)  147584      ['batch_normalization_10[0][0]'] \n",
      "                                                                                                  \n",
      " batch_normalization_11 (BatchN  (None, 16, 16, 128)  512        ['UpConv_to16[0][0]']            \n",
      " ormalization)                                                                                    \n",
      "                                                                                                  \n",
      " concatenate_3 (Concatenate)    (None, 16, 16, 256)  0           ['batch_normalization_11[0][0]', \n",
      "                                                                  'block2_conv2[0][0]']           \n",
      "                                                                                                  \n",
      " UpConv_5_A (Conv2D)            (None, 16, 16, 64)   147520      ['concatenate_3[0][0]']          \n",
      "                                                                                                  \n",
      " batch_normalization_12 (BatchN  (None, 16, 16, 64)  256         ['UpConv_5_A[0][0]']             \n",
      " ormalization)                                                                                    \n",
      "                                                                                                  \n",
      " UpConv_5_B (Conv2D)            (None, 16, 16, 64)   36928       ['batch_normalization_12[0][0]'] \n",
      "                                                                                                  \n",
      " batch_normalization_13 (BatchN  (None, 16, 16, 64)  256         ['UpConv_5_B[0][0]']             \n",
      " ormalization)                                                                                    \n",
      "                                                                                                  \n",
      " UpConv_to32 (Conv2DTranspose)  (None, 32, 32, 64)   36928       ['batch_normalization_13[0][0]'] \n",
      "                                                                                                  \n",
      " batch_normalization_14 (BatchN  (None, 32, 32, 64)  256         ['UpConv_to32[0][0]']            \n",
      " ormalization)                                                                                    \n",
      "                                                                                                  \n",
      " concatenate_4 (Concatenate)    (None, 32, 32, 128)  0           ['batch_normalization_14[0][0]', \n",
      "                                                                  'block1_conv2[0][0]']           \n",
      "                                                                                                  \n",
      " TopConv_A (Conv2D)             (None, 32, 32, 32)   36896       ['concatenate_4[0][0]']          \n",
      "                                                                                                  \n",
      " batch_normalization_15 (BatchN  (None, 32, 32, 32)  128         ['TopConv_A[0][0]']              \n",
      " ormalization)                                                                                    \n",
      "                                                                                                  \n",
      " TopConv_B (Conv2D)             (None, 32, 32, 1)    289         ['batch_normalization_15[0][0]'] \n",
      "                                                                                                  \n",
      " unet_output (BatchNormalizatio  (None, 32, 32, 1)   4           ['TopConv_B[0][0]']              \n",
      " n)                                                                                               \n",
      "                                                                                                  \n",
      "==================================================================================================\n",
      "Total params: 38,061,446\n",
      "Trainable params: 35,925,123\n",
      "Non-trainable params: 2,136,323\n",
      "__________________________________________________________________________________________________\n"
     ]
    }
   ],
   "source": [
    "combo_model = tf.keras.Model(inputs = fire_encoder.input, outputs = output, name = 'combo_model')\n",
    "combo_model.summary()"
   ]
  },
  {
   "cell_type": "code",
   "execution_count": 16,
   "id": "d3df7f17",
   "metadata": {},
   "outputs": [],
   "source": [
    "# Compile model.\n",
    "opt = tf.keras.optimizers.Adam(learning_rate=0.001)\n",
    "#loss_fn = tf.keras.losses.BinaryCrossentropy()\n",
    "#loss_fn = tf.keras.losses.MeanSquaredError()\n",
    "loss_fn = dice_loss\n",
    "combo_model.compile(loss=loss_fn, \n",
    "                    optimizer=opt, \n",
    "                    metrics=[tf.keras.metrics.MeanSquaredError(name='MSE'),\n",
    "                             tf.keras.metrics.AUC(name='AUC'),\n",
    "                             ssim_loss,\n",
    "                             psnr_loss\n",
    "                            ])"
   ]
  },
  {
   "cell_type": "markdown",
   "id": "a8adc91c",
   "metadata": {},
   "source": [
    "### Pretrain full model on moving MNIST"
   ]
  },
  {
   "cell_type": "code",
   "execution_count": 17,
   "id": "38a1a9b0",
   "metadata": {},
   "outputs": [],
   "source": [
    "# Inspiration: https://keras.io/examples/vision/conv_lstm/\n",
    "\n",
    "#Download and load the dataset.\n",
    "fpath = tf.keras.utils.get_file(\n",
    "    \"moving_mnist.npy\",\n",
    "    \"http://www.cs.toronto.edu/~nitish/unsupervised_video/mnist_test_seq.npy\",\n",
    ")\n",
    "dataset = np.load(fpath)\n",
    "\n",
    "# Swap the axes representing the number of frames and number of data samples.\n",
    "dataset = np.swapaxes(dataset, 0, 1)\n",
    "# Now we use the entire dataset.\n",
    "dataset = dataset#[1000:6000]\n",
    "# Add a channel dimension since the images are grayscale.\n",
    "dataset = np.expand_dims(dataset, axis=-1)\n",
    "\n",
    "# Split into train and validation sets using indexing to optimize memory.\n",
    "indexes = np.arange(dataset.shape[0])\n",
    "np.random.shuffle(indexes)\n",
    "train_index = indexes[: int(0.9 * dataset.shape[0])]\n",
    "val_index = indexes[int(0.9 * dataset.shape[0]) :]\n",
    "train_dataset = dataset[train_index]\n",
    "val_dataset = dataset[val_index]\n",
    "\n",
    "# Normalize the data to the 0-1 range.\n",
    "train_dataset = train_dataset / 255\n",
    "val_dataset = val_dataset / 255\n",
    "\n",
    "# Shift and stack frames.\n",
    "i,o = [],[]\n",
    "for f in range(0,10):\n",
    "    i.append(train_dataset[:,f:f+10])\n",
    "    o.append(train_dataset[:,f+10:f+11])\n",
    "    \n",
    "x_train = np.concatenate(i)\n",
    "y_train = np.squeeze(np.concatenate(o), axis=1)\n",
    "\n",
    "i,o = [],[]\n",
    "for f in range(0,10):\n",
    "    i.append(val_dataset[:,f:f+10])\n",
    "    o.append(val_dataset[:,f+10:f+11])\n",
    "    \n",
    "x_val = np.concatenate(i)\n",
    "y_val = np.squeeze(np.concatenate(o), axis=1)"
   ]
  },
  {
   "cell_type": "code",
   "execution_count": 18,
   "id": "d68604a3",
   "metadata": {},
   "outputs": [],
   "source": [
    "#Parameters\n",
    "pooler = tf.keras.layers.MaxPool2D(pool_size=(2, 2))\n",
    "xt_pooled, yt_pooled, xv_pooled, yv_pooled = [],[],[],[]\n",
    "\n",
    "# Pool training set.\n",
    "for t in range(0,len(x_train),1000):\n",
    "    t_x_train = x_train[t:t+1000]\n",
    "    xt_pooled.append(layers.TimeDistributed(pooler, name = 'pool_to_32x32')(t_x_train).numpy())\n",
    "    t_y_train = y_train[t:t+1000]\n",
    "    yt_pooled.append(pooler(t_y_train).numpy())\n",
    "    \n",
    "# Pool validation set.\n",
    "for t in range(0,len(x_val),1000):\n",
    "    t_x_val = x_val[t:t+1000]\n",
    "    xv_pooled.append(layers.TimeDistributed(pooler, name = 'pool_to_32x32')(t_x_val).numpy())\n",
    "    t_y_val = y_val[t:t+1000]\n",
    "    yv_pooled.append(pooler(t_y_val).numpy())\n",
    "    \n",
    "# Stack\n",
    "x_train = np.concatenate(xt_pooled)\n",
    "y_train = np.concatenate(yt_pooled)\n",
    "x_val = np.concatenate(xv_pooled)\n",
    "y_val = np.concatenate(yv_pooled)\n",
    "\n",
    "# Shuffle each dataset in unison.\n",
    "# From: https://stackoverflow.com/questions/4601373/better-way-to-shuffle-two-numpy-arrays-in-unison\n",
    "randomize = np.arange(len(x_train))\n",
    "np.random.shuffle(randomize)\n",
    "x_train = x_train[randomize]\n",
    "y_train = y_train[randomize]\n",
    "\n",
    "randomize = np.arange(len(x_val))\n",
    "np.random.shuffle(randomize)\n",
    "x_val = x_val[randomize]\n",
    "y_val = y_val[randomize]"
   ]
  },
  {
   "cell_type": "code",
   "execution_count": 19,
   "id": "6b89184c",
   "metadata": {},
   "outputs": [],
   "source": [
    "# Throw out variables that will no longer be used to recover memory.\n",
    "train_dataset, val_dataset,train_index, val_index = None, None, None, None\n",
    "t_x_train, t_y_train, t_x_val, t_y_val = None, None, None, None\n",
    "xt_pooled, yt_pooled, xv_pooled, yv_pooled = None, None, None, None\n",
    "pooler, i, o, dataset = None, None, None, None"
   ]
  },
  {
   "cell_type": "code",
   "execution_count": 20,
   "id": "ab056217",
   "metadata": {},
   "outputs": [
    {
     "data": {
      "image/png": "[encoded data removed]",
      "text/plain": [
       "<Figure size 2304x576 with 11 Axes>"
      ]
     },
     "metadata": {
      "needs_background": "light"
     },
     "output_type": "display_data"
    }
   ],
   "source": [
    "# Visualize the dataset to make sure the shifting and shuffling operations worked properly.\n",
    "sample_idx = np.random.randint(0, len(x_train))\n",
    "fig, axes = plt.subplots(1, 11, figsize=(32, 8))\n",
    "\n",
    "# Plot the fire frames.\n",
    "for idx, ax in enumerate(axes):\n",
    "    if idx == 10:\n",
    "        ax.imshow(np.squeeze(y_train[sample_idx]), cmap=\"gray\")\n",
    "    else:\n",
    "        ax.imshow(np.squeeze(x_train[sample_idx][idx]), cmap=\"gray\")"
   ]
  },
  {
   "cell_type": "code",
   "execution_count": 21,
   "id": "01d145ed",
   "metadata": {},
   "outputs": [],
   "source": [
    "# Build a simple generator\n",
    "class DataGenerator(tf.keras.utils.Sequence):\n",
    "    def __init__(self, x_set, y_set, batch_size):\n",
    "        self.x, self.y = x_set, y_set\n",
    "        self.batch_size = batch_size\n",
    "\n",
    "    def __len__(self):\n",
    "        return int(np.ceil(len(self.x) / float(self.batch_size)))\n",
    "\n",
    "    def __getitem__(self, idx):\n",
    "        batch_x = self.x[idx * self.batch_size:(idx + 1) * self.batch_size]\n",
    "        batch_y = self.y[idx * self.batch_size:(idx + 1) * self.batch_size]\n",
    "        return batch_x, batch_y\n",
    "\n",
    "batch_size = 32\n",
    "train_gen = DataGenerator(x_train, y_train, batch_size)\n",
    "val_gen = DataGenerator(x_val, y_val, batch_size)"
   ]
  },
  {
   "cell_type": "code",
   "execution_count": 22,
   "id": "7fbfaf3d",
   "metadata": {},
   "outputs": [
    {
     "name": "stdout",
     "output_type": "stream",
     "text": [
      "Epoch 1/10\n",
      "1266/2813 [============>.................] - ETA: 4:33 - loss: 0.7782 - MSE: 3.0744 - AUC: 0.7446 - ssim_loss: 0.9913 - psnr_loss: 104.3012"
     ]
    },
    {
     "ename": "KeyboardInterrupt",
     "evalue": "",
     "output_type": "error",
     "traceback": [
      "\u001b[1;31m---------------------------------------------------------------------------\u001b[0m",
      "\u001b[1;31mKeyboardInterrupt\u001b[0m                         Traceback (most recent call last)",
      "\u001b[1;32m~\\AppData\\Local\\Temp/ipykernel_23376/4263007037.py\u001b[0m in \u001b[0;36m<module>\u001b[1;34m\u001b[0m\n\u001b[0;32m      3\u001b[0m \u001b[0mreduce_lr\u001b[0m \u001b[1;33m=\u001b[0m \u001b[0mtf\u001b[0m\u001b[1;33m.\u001b[0m\u001b[0mkeras\u001b[0m\u001b[1;33m.\u001b[0m\u001b[0mcallbacks\u001b[0m\u001b[1;33m.\u001b[0m\u001b[0mReduceLROnPlateau\u001b[0m\u001b[1;33m(\u001b[0m\u001b[0mmonitor\u001b[0m\u001b[1;33m=\u001b[0m\u001b[1;34m'val_loss'\u001b[0m\u001b[1;33m,\u001b[0m \u001b[0mpatience\u001b[0m\u001b[1;33m=\u001b[0m\u001b[1;36m2\u001b[0m\u001b[1;33m,\u001b[0m \u001b[0mverbose\u001b[0m \u001b[1;33m=\u001b[0m \u001b[1;36m1\u001b[0m\u001b[1;33m)\u001b[0m\u001b[1;33m\u001b[0m\u001b[1;33m\u001b[0m\u001b[0m\n\u001b[0;32m      4\u001b[0m \u001b[1;33m\u001b[0m\u001b[0m\n\u001b[1;32m----> 5\u001b[1;33m combo_model.fit(train_gen,\n\u001b[0m\u001b[0;32m      6\u001b[0m                    \u001b[0mepochs\u001b[0m \u001b[1;33m=\u001b[0m \u001b[1;36m10\u001b[0m\u001b[1;33m,\u001b[0m\u001b[1;33m\u001b[0m\u001b[1;33m\u001b[0m\u001b[0m\n\u001b[0;32m      7\u001b[0m                    \u001b[0mverbose\u001b[0m \u001b[1;33m=\u001b[0m \u001b[1;36m1\u001b[0m\u001b[1;33m,\u001b[0m\u001b[1;33m\u001b[0m\u001b[1;33m\u001b[0m\u001b[0m\n",
      "\u001b[1;32m~\\anaconda3\\lib\\site-packages\\keras\\utils\\traceback_utils.py\u001b[0m in \u001b[0;36merror_handler\u001b[1;34m(*args, **kwargs)\u001b[0m\n\u001b[0;32m     63\u001b[0m         \u001b[0mfiltered_tb\u001b[0m \u001b[1;33m=\u001b[0m \u001b[1;32mNone\u001b[0m\u001b[1;33m\u001b[0m\u001b[1;33m\u001b[0m\u001b[0m\n\u001b[0;32m     64\u001b[0m         \u001b[1;32mtry\u001b[0m\u001b[1;33m:\u001b[0m\u001b[1;33m\u001b[0m\u001b[1;33m\u001b[0m\u001b[0m\n\u001b[1;32m---> 65\u001b[1;33m             \u001b[1;32mreturn\u001b[0m \u001b[0mfn\u001b[0m\u001b[1;33m(\u001b[0m\u001b[1;33m*\u001b[0m\u001b[0margs\u001b[0m\u001b[1;33m,\u001b[0m \u001b[1;33m**\u001b[0m\u001b[0mkwargs\u001b[0m\u001b[1;33m)\u001b[0m\u001b[1;33m\u001b[0m\u001b[1;33m\u001b[0m\u001b[0m\n\u001b[0m\u001b[0;32m     66\u001b[0m         \u001b[1;32mexcept\u001b[0m \u001b[0mException\u001b[0m \u001b[1;32mas\u001b[0m \u001b[0me\u001b[0m\u001b[1;33m:\u001b[0m\u001b[1;33m\u001b[0m\u001b[1;33m\u001b[0m\u001b[0m\n\u001b[0;32m     67\u001b[0m             \u001b[0mfiltered_tb\u001b[0m \u001b[1;33m=\u001b[0m \u001b[0m_process_traceback_frames\u001b[0m\u001b[1;33m(\u001b[0m\u001b[0me\u001b[0m\u001b[1;33m.\u001b[0m\u001b[0m__traceback__\u001b[0m\u001b[1;33m)\u001b[0m\u001b[1;33m\u001b[0m\u001b[1;33m\u001b[0m\u001b[0m\n",
      "\u001b[1;32m~\\anaconda3\\lib\\site-packages\\keras\\engine\\training.py\u001b[0m in \u001b[0;36mfit\u001b[1;34m(self, x, y, batch_size, epochs, verbose, callbacks, validation_split, validation_data, shuffle, class_weight, sample_weight, initial_epoch, steps_per_epoch, validation_steps, validation_batch_size, validation_freq, max_queue_size, workers, use_multiprocessing)\u001b[0m\n\u001b[0;32m   1562\u001b[0m                         ):\n\u001b[0;32m   1563\u001b[0m                             \u001b[0mcallbacks\u001b[0m\u001b[1;33m.\u001b[0m\u001b[0mon_train_batch_begin\u001b[0m\u001b[1;33m(\u001b[0m\u001b[0mstep\u001b[0m\u001b[1;33m)\u001b[0m\u001b[1;33m\u001b[0m\u001b[1;33m\u001b[0m\u001b[0m\n\u001b[1;32m-> 1564\u001b[1;33m                             \u001b[0mtmp_logs\u001b[0m \u001b[1;33m=\u001b[0m \u001b[0mself\u001b[0m\u001b[1;33m.\u001b[0m\u001b[0mtrain_function\u001b[0m\u001b[1;33m(\u001b[0m\u001b[0miterator\u001b[0m\u001b[1;33m)\u001b[0m\u001b[1;33m\u001b[0m\u001b[1;33m\u001b[0m\u001b[0m\n\u001b[0m\u001b[0;32m   1565\u001b[0m                             \u001b[1;32mif\u001b[0m \u001b[0mdata_handler\u001b[0m\u001b[1;33m.\u001b[0m\u001b[0mshould_sync\u001b[0m\u001b[1;33m:\u001b[0m\u001b[1;33m\u001b[0m\u001b[1;33m\u001b[0m\u001b[0m\n\u001b[0;32m   1566\u001b[0m                                 \u001b[0mcontext\u001b[0m\u001b[1;33m.\u001b[0m\u001b[0masync_wait\u001b[0m\u001b[1;33m(\u001b[0m\u001b[1;33m)\u001b[0m\u001b[1;33m\u001b[0m\u001b[1;33m\u001b[0m\u001b[0m\n",
      "\u001b[1;32m~\\anaconda3\\lib\\site-packages\\tensorflow\\python\\util\\traceback_utils.py\u001b[0m in \u001b[0;36merror_handler\u001b[1;34m(*args, **kwargs)\u001b[0m\n\u001b[0;32m    148\u001b[0m     \u001b[0mfiltered_tb\u001b[0m \u001b[1;33m=\u001b[0m \u001b[1;32mNone\u001b[0m\u001b[1;33m\u001b[0m\u001b[1;33m\u001b[0m\u001b[0m\n\u001b[0;32m    149\u001b[0m     \u001b[1;32mtry\u001b[0m\u001b[1;33m:\u001b[0m\u001b[1;33m\u001b[0m\u001b[1;33m\u001b[0m\u001b[0m\n\u001b[1;32m--> 150\u001b[1;33m       \u001b[1;32mreturn\u001b[0m \u001b[0mfn\u001b[0m\u001b[1;33m(\u001b[0m\u001b[1;33m*\u001b[0m\u001b[0margs\u001b[0m\u001b[1;33m,\u001b[0m \u001b[1;33m**\u001b[0m\u001b[0mkwargs\u001b[0m\u001b[1;33m)\u001b[0m\u001b[1;33m\u001b[0m\u001b[1;33m\u001b[0m\u001b[0m\n\u001b[0m\u001b[0;32m    151\u001b[0m     \u001b[1;32mexcept\u001b[0m \u001b[0mException\u001b[0m \u001b[1;32mas\u001b[0m \u001b[0me\u001b[0m\u001b[1;33m:\u001b[0m\u001b[1;33m\u001b[0m\u001b[1;33m\u001b[0m\u001b[0m\n\u001b[0;32m    152\u001b[0m       \u001b[0mfiltered_tb\u001b[0m \u001b[1;33m=\u001b[0m \u001b[0m_process_traceback_frames\u001b[0m\u001b[1;33m(\u001b[0m\u001b[0me\u001b[0m\u001b[1;33m.\u001b[0m\u001b[0m__traceback__\u001b[0m\u001b[1;33m)\u001b[0m\u001b[1;33m\u001b[0m\u001b[1;33m\u001b[0m\u001b[0m\n",
      "\u001b[1;32m~\\anaconda3\\lib\\site-packages\\tensorflow\\python\\eager\\def_function.py\u001b[0m in \u001b[0;36m__call__\u001b[1;34m(self, *args, **kwds)\u001b[0m\n\u001b[0;32m    913\u001b[0m \u001b[1;33m\u001b[0m\u001b[0m\n\u001b[0;32m    914\u001b[0m       \u001b[1;32mwith\u001b[0m \u001b[0mOptionalXlaContext\u001b[0m\u001b[1;33m(\u001b[0m\u001b[0mself\u001b[0m\u001b[1;33m.\u001b[0m\u001b[0m_jit_compile\u001b[0m\u001b[1;33m)\u001b[0m\u001b[1;33m:\u001b[0m\u001b[1;33m\u001b[0m\u001b[1;33m\u001b[0m\u001b[0m\n\u001b[1;32m--> 915\u001b[1;33m         \u001b[0mresult\u001b[0m \u001b[1;33m=\u001b[0m \u001b[0mself\u001b[0m\u001b[1;33m.\u001b[0m\u001b[0m_call\u001b[0m\u001b[1;33m(\u001b[0m\u001b[1;33m*\u001b[0m\u001b[0margs\u001b[0m\u001b[1;33m,\u001b[0m \u001b[1;33m**\u001b[0m\u001b[0mkwds\u001b[0m\u001b[1;33m)\u001b[0m\u001b[1;33m\u001b[0m\u001b[1;33m\u001b[0m\u001b[0m\n\u001b[0m\u001b[0;32m    916\u001b[0m \u001b[1;33m\u001b[0m\u001b[0m\n\u001b[0;32m    917\u001b[0m       \u001b[0mnew_tracing_count\u001b[0m \u001b[1;33m=\u001b[0m \u001b[0mself\u001b[0m\u001b[1;33m.\u001b[0m\u001b[0mexperimental_get_tracing_count\u001b[0m\u001b[1;33m(\u001b[0m\u001b[1;33m)\u001b[0m\u001b[1;33m\u001b[0m\u001b[1;33m\u001b[0m\u001b[0m\n",
      "\u001b[1;32m~\\anaconda3\\lib\\site-packages\\tensorflow\\python\\eager\\def_function.py\u001b[0m in \u001b[0;36m_call\u001b[1;34m(self, *args, **kwds)\u001b[0m\n\u001b[0;32m    945\u001b[0m       \u001b[1;31m# In this case we have created variables on the first call, so we run the\u001b[0m\u001b[1;33m\u001b[0m\u001b[1;33m\u001b[0m\u001b[0m\n\u001b[0;32m    946\u001b[0m       \u001b[1;31m# defunned version which is guaranteed to never create variables.\u001b[0m\u001b[1;33m\u001b[0m\u001b[1;33m\u001b[0m\u001b[0m\n\u001b[1;32m--> 947\u001b[1;33m       \u001b[1;32mreturn\u001b[0m \u001b[0mself\u001b[0m\u001b[1;33m.\u001b[0m\u001b[0m_stateless_fn\u001b[0m\u001b[1;33m(\u001b[0m\u001b[1;33m*\u001b[0m\u001b[0margs\u001b[0m\u001b[1;33m,\u001b[0m \u001b[1;33m**\u001b[0m\u001b[0mkwds\u001b[0m\u001b[1;33m)\u001b[0m  \u001b[1;31m# pylint: disable=not-callable\u001b[0m\u001b[1;33m\u001b[0m\u001b[1;33m\u001b[0m\u001b[0m\n\u001b[0m\u001b[0;32m    948\u001b[0m     \u001b[1;32melif\u001b[0m \u001b[0mself\u001b[0m\u001b[1;33m.\u001b[0m\u001b[0m_stateful_fn\u001b[0m \u001b[1;32mis\u001b[0m \u001b[1;32mnot\u001b[0m \u001b[1;32mNone\u001b[0m\u001b[1;33m:\u001b[0m\u001b[1;33m\u001b[0m\u001b[1;33m\u001b[0m\u001b[0m\n\u001b[0;32m    949\u001b[0m       \u001b[1;31m# Release the lock early so that multiple threads can perform the call\u001b[0m\u001b[1;33m\u001b[0m\u001b[1;33m\u001b[0m\u001b[0m\n",
      "\u001b[1;32m~\\anaconda3\\lib\\site-packages\\tensorflow\\python\\eager\\function.py\u001b[0m in \u001b[0;36m__call__\u001b[1;34m(self, *args, **kwargs)\u001b[0m\n\u001b[0;32m   2494\u001b[0m       (graph_function,\n\u001b[0;32m   2495\u001b[0m        filtered_flat_args) = self._maybe_define_function(args, kwargs)\n\u001b[1;32m-> 2496\u001b[1;33m     return graph_function._call_flat(\n\u001b[0m\u001b[0;32m   2497\u001b[0m         filtered_flat_args, captured_inputs=graph_function.captured_inputs)  # pylint: disable=protected-access\n\u001b[0;32m   2498\u001b[0m \u001b[1;33m\u001b[0m\u001b[0m\n",
      "\u001b[1;32m~\\anaconda3\\lib\\site-packages\\tensorflow\\python\\eager\\function.py\u001b[0m in \u001b[0;36m_call_flat\u001b[1;34m(self, args, captured_inputs, cancellation_manager)\u001b[0m\n\u001b[0;32m   1860\u001b[0m         and executing_eagerly):\n\u001b[0;32m   1861\u001b[0m       \u001b[1;31m# No tape is watching; skip to running the function.\u001b[0m\u001b[1;33m\u001b[0m\u001b[1;33m\u001b[0m\u001b[0m\n\u001b[1;32m-> 1862\u001b[1;33m       return self._build_call_outputs(self._inference_function.call(\n\u001b[0m\u001b[0;32m   1863\u001b[0m           ctx, args, cancellation_manager=cancellation_manager))\n\u001b[0;32m   1864\u001b[0m     forward_backward = self._select_forward_and_backward_functions(\n",
      "\u001b[1;32m~\\anaconda3\\lib\\site-packages\\tensorflow\\python\\eager\\function.py\u001b[0m in \u001b[0;36mcall\u001b[1;34m(self, ctx, args, cancellation_manager)\u001b[0m\n\u001b[0;32m    497\u001b[0m       \u001b[1;32mwith\u001b[0m \u001b[0m_InterpolateFunctionError\u001b[0m\u001b[1;33m(\u001b[0m\u001b[0mself\u001b[0m\u001b[1;33m)\u001b[0m\u001b[1;33m:\u001b[0m\u001b[1;33m\u001b[0m\u001b[1;33m\u001b[0m\u001b[0m\n\u001b[0;32m    498\u001b[0m         \u001b[1;32mif\u001b[0m \u001b[0mcancellation_manager\u001b[0m \u001b[1;32mis\u001b[0m \u001b[1;32mNone\u001b[0m\u001b[1;33m:\u001b[0m\u001b[1;33m\u001b[0m\u001b[1;33m\u001b[0m\u001b[0m\n\u001b[1;32m--> 499\u001b[1;33m           outputs = execute.execute(\n\u001b[0m\u001b[0;32m    500\u001b[0m               \u001b[0mstr\u001b[0m\u001b[1;33m(\u001b[0m\u001b[0mself\u001b[0m\u001b[1;33m.\u001b[0m\u001b[0msignature\u001b[0m\u001b[1;33m.\u001b[0m\u001b[0mname\u001b[0m\u001b[1;33m)\u001b[0m\u001b[1;33m,\u001b[0m\u001b[1;33m\u001b[0m\u001b[1;33m\u001b[0m\u001b[0m\n\u001b[0;32m    501\u001b[0m               \u001b[0mnum_outputs\u001b[0m\u001b[1;33m=\u001b[0m\u001b[0mself\u001b[0m\u001b[1;33m.\u001b[0m\u001b[0m_num_outputs\u001b[0m\u001b[1;33m,\u001b[0m\u001b[1;33m\u001b[0m\u001b[1;33m\u001b[0m\u001b[0m\n",
      "\u001b[1;32m~\\anaconda3\\lib\\site-packages\\tensorflow\\python\\eager\\execute.py\u001b[0m in \u001b[0;36mquick_execute\u001b[1;34m(op_name, num_outputs, inputs, attrs, ctx, name)\u001b[0m\n\u001b[0;32m     52\u001b[0m   \u001b[1;32mtry\u001b[0m\u001b[1;33m:\u001b[0m\u001b[1;33m\u001b[0m\u001b[1;33m\u001b[0m\u001b[0m\n\u001b[0;32m     53\u001b[0m     \u001b[0mctx\u001b[0m\u001b[1;33m.\u001b[0m\u001b[0mensure_initialized\u001b[0m\u001b[1;33m(\u001b[0m\u001b[1;33m)\u001b[0m\u001b[1;33m\u001b[0m\u001b[1;33m\u001b[0m\u001b[0m\n\u001b[1;32m---> 54\u001b[1;33m     tensors = pywrap_tfe.TFE_Py_Execute(ctx._handle, device_name, op_name,\n\u001b[0m\u001b[0;32m     55\u001b[0m                                         inputs, attrs, num_outputs)\n\u001b[0;32m     56\u001b[0m   \u001b[1;32mexcept\u001b[0m \u001b[0mcore\u001b[0m\u001b[1;33m.\u001b[0m\u001b[0m_NotOkStatusException\u001b[0m \u001b[1;32mas\u001b[0m \u001b[0me\u001b[0m\u001b[1;33m:\u001b[0m\u001b[1;33m\u001b[0m\u001b[1;33m\u001b[0m\u001b[0m\n",
      "\u001b[1;31mKeyboardInterrupt\u001b[0m: "
     ]
    }
   ],
   "source": [
    "# Define some callbacks to improve training.\n",
    "early_stopping = tf.keras.callbacks.EarlyStopping(monitor='val_loss', patience=5, restore_best_weights = True, verbose = 1)\n",
    "reduce_lr = tf.keras.callbacks.ReduceLROnPlateau(monitor='val_loss', patience=2, verbose = 1)\n",
    "\n",
    "combo_model.fit(train_gen,\n",
    "                   epochs = 10, \n",
    "                   verbose = 1, \n",
    "                   batch_size = batch_size,\n",
    "                   validation_data = val_gen,\n",
    "                   callbacks = [early_stopping, reduce_lr],\n",
    "                  )"
   ]
  },
  {
   "cell_type": "code",
   "execution_count": 22,
   "id": "9bd6770a",
   "metadata": {},
   "outputs": [
    {
     "name": "stderr",
     "output_type": "stream",
     "text": [
      "WARNING:absl:Found untraced functions such as _jit_compiled_convolution_op, _jit_compiled_convolution_op, _jit_compiled_convolution_op, _jit_compiled_convolution_op, _jit_compiled_convolution_op while saving (showing 5 of 31). These functions will not be directly callable after loading.\n"
     ]
    },
    {
     "name": "stdout",
     "output_type": "stream",
     "text": [
      "INFO:tensorflow:Assets written to: Models/Combo_Rough_001\\assets\n"
     ]
    },
    {
     "name": "stderr",
     "output_type": "stream",
     "text": [
      "INFO:tensorflow:Assets written to: Models/Combo_Rough_001\\assets\n"
     ]
    }
   ],
   "source": [
    "combo_model.save('Models/Combo_Rough_001')"
   ]
  },
  {
   "cell_type": "markdown",
   "id": "024717a4",
   "metadata": {},
   "source": [
    "### Visualize Results"
   ]
  },
  {
   "cell_type": "code",
   "execution_count": 23,
   "id": "47bf98fa",
   "metadata": {},
   "outputs": [
    {
     "name": "stdout",
     "output_type": "stream",
     "text": [
      "313/313 [==============================] - 46s 145ms/step\n"
     ]
    }
   ],
   "source": [
    "t_preds = combo_model.predict(x_val)"
   ]
  },
  {
   "cell_type": "code",
   "execution_count": 27,
   "id": "4376bd11",
   "metadata": {},
   "outputs": [
    {
     "data": {
      "text/plain": [
       "<matplotlib.image.AxesImage at 0x269fe6007c0>"
      ]
     },
     "execution_count": 27,
     "metadata": {},
     "output_type": "execute_result"
    },
    {
     "data": {
      "image/png": "[encoded data removed]",
      "text/plain": [
       "<Figure size 2304x576 with 11 Axes>"
      ]
     },
     "metadata": {
      "needs_background": "light"
     },
     "output_type": "display_data"
    },
    {
     "data": {
      "image/png": "[encoded data removed]",
      "text/plain": [
       "<Figure size 2304x1152 with 2 Axes>"
      ]
     },
     "metadata": {
      "needs_background": "light"
     },
     "output_type": "display_data"
    }
   ],
   "source": [
    "sample_idx = np.random.randint(0, len(x_val))\n",
    "\n",
    "# Construct a figure for the original and new frames.\n",
    "fig, axes = plt.subplots(1, 11, figsize=(32, 8))\n",
    "\n",
    "# Plot the fire frames.\n",
    "for idx, ax in enumerate(axes):\n",
    "    if idx == 10:\n",
    "        ax.imshow(np.squeeze(y_val[sample_idx]), cmap=\"gray\")\n",
    "    else:\n",
    "        ax.imshow(np.squeeze(x_val[sample_idx][idx]), cmap=\"gray\")\n",
    "    #ax.set_title(f\"F Frame {idx + 1}\")\n",
    "    #ax.axis(\"off\")\n",
    "\n",
    "fig, axes = plt.subplots(1, 2, figsize=(32, 16))\n",
    "axes[0].imshow(np.squeeze(x_val[sample_idx][9]), cmap=\"gray\")\n",
    "axes[1].imshow(np.squeeze(t_preds[sample_idx]), cmap=\"gray\")"
   ]
  },
  {
   "cell_type": "code",
   "execution_count": 25,
   "id": "a1233e0f",
   "metadata": {},
   "outputs": [
    {
     "name": "stdout",
     "output_type": "stream",
     "text": [
      "Model Prediction Report\n",
      "SSIM: 0.0068119196\n",
      "PSNR: -0.07871980667114258\n",
      "MSE: 6.127059\n"
     ]
    }
   ],
   "source": [
    "# Compute and show set scores.\n",
    "set_ssim = tf.image.ssim(tf.cast(y_val, dtype='float32'), t_preds, 1.0)\n",
    "set_psnr = tf.image.psnr(tf.cast(y_val, dtype='float32'), t_preds, 1.0)\n",
    "set_mse = tf.keras.metrics.mean_squared_error(y_val, t_preds)\n",
    "print('Model Prediction Report')\n",
    "print('SSIM:', np.mean(set_ssim))\n",
    "print('PSNR:', np.mean(set_psnr) / 100)\n",
    "print('MSE:', np.mean(set_mse))"
   ]
  }
 ],
 "metadata": {
  "kernelspec": {
   "display_name": "Python 3 (ipykernel)",
   "language": "python",
   "name": "python3"
  },
  "language_info": {
   "codemirror_mode": {
    "name": "ipython",
    "version": 3
   },
   "file_extension": ".py",
   "mimetype": "text/x-python",
   "name": "python",
   "nbconvert_exporter": "python",
   "pygments_lexer": "ipython3",
   "version": "3.9.7"
  }
 },
 "nbformat": 4,
 "nbformat_minor": 5
}
