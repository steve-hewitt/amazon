{
 "cells": [
  {
   "cell_type": "markdown",
   "metadata": {},
   "source": [
    "### Import Block"
   ]
  },
  {
   "cell_type": "code",
   "execution_count": 213,
   "metadata": {},
   "outputs": [],
   "source": [
    "import geopandas as gpd\n",
    "import pandas as pd\n",
    "import numpy as np\n",
    "import matplotlib.pyplot as plt\n",
    "import geopy.distance as gpx\n",
    "import itertools\n",
    "import datetime as dt\n",
    "from scipy.sparse import coo_matrix"
   ]
  },
  {
   "cell_type": "markdown",
   "metadata": {},
   "source": [
    "### Testing Polygon Bounding Box Calculation and FIltering (GeoPandas)"
   ]
  },
  {
   "cell_type": "code",
   "execution_count": 4,
   "metadata": {},
   "outputs": [
    {
     "name": "stdout",
     "output_type": "stream",
     "text": [
      "Wall time: 30.7 s\n"
     ]
    }
   ],
   "source": [
    "%%time\n",
    "# Try GeoPandas load.\n",
    "defo_gpd = gpd.read_file('Yearly_Deforestation_Biome/yearly_deforestation_biome.shp')"
   ]
  },
  {
   "cell_type": "code",
   "execution_count": 5,
   "metadata": {},
   "outputs": [
    {
     "name": "stdout",
     "output_type": "stream",
     "text": [
      "Wall time: 16.5 s\n"
     ]
    },
    {
     "data": {
      "text/html": [
       "<div>\n",
       "<style scoped>\n",
       "    .dataframe tbody tr th:only-of-type {\n",
       "        vertical-align: middle;\n",
       "    }\n",
       "\n",
       "    .dataframe tbody tr th {\n",
       "        vertical-align: top;\n",
       "    }\n",
       "\n",
       "    .dataframe thead th {\n",
       "        text-align: right;\n",
       "    }\n",
       "</style>\n",
       "<table border=\"1\" class=\"dataframe\">\n",
       "  <thead>\n",
       "    <tr style=\"text-align: right;\">\n",
       "      <th></th>\n",
       "      <th>minx</th>\n",
       "      <th>miny</th>\n",
       "      <th>maxx</th>\n",
       "      <th>maxy</th>\n",
       "    </tr>\n",
       "  </thead>\n",
       "  <tbody>\n",
       "    <tr>\n",
       "      <th>0</th>\n",
       "      <td>-63.051908</td>\n",
       "      <td>2.596715</td>\n",
       "      <td>-63.048150</td>\n",
       "      <td>2.599951</td>\n",
       "    </tr>\n",
       "    <tr>\n",
       "      <th>1</th>\n",
       "      <td>-62.638652</td>\n",
       "      <td>2.697585</td>\n",
       "      <td>-62.636223</td>\n",
       "      <td>2.699288</td>\n",
       "    </tr>\n",
       "    <tr>\n",
       "      <th>2</th>\n",
       "      <td>-63.343713</td>\n",
       "      <td>2.781734</td>\n",
       "      <td>-63.339324</td>\n",
       "      <td>2.784656</td>\n",
       "    </tr>\n",
       "    <tr>\n",
       "      <th>3</th>\n",
       "      <td>-63.340411</td>\n",
       "      <td>2.783470</td>\n",
       "      <td>-63.339335</td>\n",
       "      <td>2.783835</td>\n",
       "    </tr>\n",
       "    <tr>\n",
       "      <th>4</th>\n",
       "      <td>-63.164857</td>\n",
       "      <td>2.634077</td>\n",
       "      <td>-63.162167</td>\n",
       "      <td>2.637574</td>\n",
       "    </tr>\n",
       "    <tr>\n",
       "      <th>...</th>\n",
       "      <td>...</td>\n",
       "      <td>...</td>\n",
       "      <td>...</td>\n",
       "      <td>...</td>\n",
       "    </tr>\n",
       "    <tr>\n",
       "      <th>599814</th>\n",
       "      <td>-57.407988</td>\n",
       "      <td>-14.430745</td>\n",
       "      <td>-57.397497</td>\n",
       "      <td>-14.421868</td>\n",
       "    </tr>\n",
       "    <tr>\n",
       "      <th>599815</th>\n",
       "      <td>-57.477082</td>\n",
       "      <td>-14.389886</td>\n",
       "      <td>-57.474099</td>\n",
       "      <td>-14.386342</td>\n",
       "    </tr>\n",
       "    <tr>\n",
       "      <th>599816</th>\n",
       "      <td>-57.404186</td>\n",
       "      <td>-14.396582</td>\n",
       "      <td>-57.403953</td>\n",
       "      <td>-14.396567</td>\n",
       "    </tr>\n",
       "    <tr>\n",
       "      <th>599817</th>\n",
       "      <td>-57.399649</td>\n",
       "      <td>-14.421868</td>\n",
       "      <td>-57.399111</td>\n",
       "      <td>-14.421330</td>\n",
       "    </tr>\n",
       "    <tr>\n",
       "      <th>599818</th>\n",
       "      <td>-57.452511</td>\n",
       "      <td>-14.393278</td>\n",
       "      <td>-57.448338</td>\n",
       "      <td>-14.388930</td>\n",
       "    </tr>\n",
       "  </tbody>\n",
       "</table>\n",
       "<p>599819 rows × 4 columns</p>\n",
       "</div>"
      ],
      "text/plain": [
       "             minx       miny       maxx       maxy\n",
       "0      -63.051908   2.596715 -63.048150   2.599951\n",
       "1      -62.638652   2.697585 -62.636223   2.699288\n",
       "2      -63.343713   2.781734 -63.339324   2.784656\n",
       "3      -63.340411   2.783470 -63.339335   2.783835\n",
       "4      -63.164857   2.634077 -63.162167   2.637574\n",
       "...           ...        ...        ...        ...\n",
       "599814 -57.407988 -14.430745 -57.397497 -14.421868\n",
       "599815 -57.477082 -14.389886 -57.474099 -14.386342\n",
       "599816 -57.404186 -14.396582 -57.403953 -14.396567\n",
       "599817 -57.399649 -14.421868 -57.399111 -14.421330\n",
       "599818 -57.452511 -14.393278 -57.448338 -14.388930\n",
       "\n",
       "[599819 rows x 4 columns]"
      ]
     },
     "execution_count": 5,
     "metadata": {},
     "output_type": "execute_result"
    }
   ],
   "source": [
    "%%time\n",
    "# Get bouinding boxes.\n",
    "gpd_bbox = defo_gpd.bounds\n",
    "gpd_bbox"
   ]
  },
  {
   "cell_type": "code",
   "execution_count": 6,
   "metadata": {},
   "outputs": [],
   "source": [
    "# Add bounding boxes to DataFrame.\n",
    "defo_gpd['x_min'] = gpd_bbox['minx']\n",
    "defo_gpd['x_max'] = gpd_bbox['maxx']\n",
    "defo_gpd['y_min'] = gpd_bbox['miny']\n",
    "defo_gpd['y_max'] = gpd_bbox['maxy']"
   ]
  },
  {
   "cell_type": "code",
   "execution_count": 26,
   "metadata": {},
   "outputs": [],
   "source": [
    "# Convert date format.\n",
    "defo_gpd['Date'] = pd.to_datetime(defo_gpd['image_date'])"
   ]
  },
  {
   "cell_type": "code",
   "execution_count": 10,
   "metadata": {},
   "outputs": [],
   "source": [
    "# Parameters for test.\n",
    "centroid_lat = -1.672125\n",
    "centroid_lon = -53.617889\n",
    "span = 15\n",
    "centroid_date = dt.datetime.strptime('2017/09/15','%Y/%m/%d')\n",
    "days_back = 10\n",
    "\n",
    "# Get start of temporal window.\n",
    "min_date = centroid_date - dt.timedelta(days = days_back)\n",
    "\n",
    "# Calculate location if we move 375 meters North and use to get grid steps.\n",
    "lat_375 = gpx.distance(kilometers=0.375).destination((centroid_lat, centroid_lon), bearing=0).latitude\n",
    "lat_step = abs(centroid_lat - lat_375)\n",
    "\n",
    "# Calculate location if we move 375 meters East and use to get grid steps.\n",
    "lon_375 = gpx.distance(kilometers=0.375).destination((centroid_lat, centroid_lon), bearing=90).longitude\n",
    "lon_step = abs(centroid_lon - lon_375)\n",
    "\n",
    "# Get bounding box of centroid and 100 pixels in all directions.\n",
    "min_lat = centroid_lat - (lat_step * span)\n",
    "max_lat = centroid_lat + (lat_step * span)\n",
    "min_lon = centroid_lon - (lon_step * span)\n",
    "max_lon = centroid_lon + (lon_step * span)"
   ]
  },
  {
   "cell_type": "code",
   "execution_count": 48,
   "metadata": {},
   "outputs": [],
   "source": [
    "centroid_defo = defo_gpd[(defo_gpd['x_min'] >= min_lon) & (defo_gpd['x_max'] <= max_lon) &\n",
    "               (defo_gpd['y_min'] >= min_lat) & (defo_gpd['y_max'] <= max_lat) &\n",
    "               (defo_gpd['x_min'] + defo_gpd['x_min'] + defo_gpd['x_min'] + defo_gpd['x_min'] != 0) &\n",
    "               (defo_gpd['Date'] <= min_date)]"
   ]
  },
  {
   "cell_type": "code",
   "execution_count": 49,
   "metadata": {},
   "outputs": [
    {
     "data": {
      "text/html": [
       "<div>\n",
       "<style scoped>\n",
       "    .dataframe tbody tr th:only-of-type {\n",
       "        vertical-align: middle;\n",
       "    }\n",
       "\n",
       "    .dataframe tbody tr th {\n",
       "        vertical-align: top;\n",
       "    }\n",
       "\n",
       "    .dataframe thead th {\n",
       "        text-align: right;\n",
       "    }\n",
       "</style>\n",
       "<table border=\"1\" class=\"dataframe\">\n",
       "  <thead>\n",
       "    <tr style=\"text-align: right;\">\n",
       "      <th></th>\n",
       "      <th>uid</th>\n",
       "      <th>state</th>\n",
       "      <th>path_row</th>\n",
       "      <th>main_class</th>\n",
       "      <th>class_name</th>\n",
       "      <th>def_cloud</th>\n",
       "      <th>julian_day</th>\n",
       "      <th>image_date</th>\n",
       "      <th>year</th>\n",
       "      <th>area_km</th>\n",
       "      <th>...</th>\n",
       "      <th>source</th>\n",
       "      <th>satellite</th>\n",
       "      <th>sensor</th>\n",
       "      <th>uuid</th>\n",
       "      <th>geometry</th>\n",
       "      <th>x_min</th>\n",
       "      <th>x_max</th>\n",
       "      <th>y_min</th>\n",
       "      <th>y_max</th>\n",
       "      <th>Date</th>\n",
       "    </tr>\n",
       "  </thead>\n",
       "  <tbody>\n",
       "    <tr>\n",
       "      <th>32235</th>\n",
       "      <td>451935</td>\n",
       "      <td>PA</td>\n",
       "      <td>22761</td>\n",
       "      <td>DESMATAMENTO</td>\n",
       "      <td>d2015</td>\n",
       "      <td>0.0</td>\n",
       "      <td>226.0</td>\n",
       "      <td>2015-08-14</td>\n",
       "      <td>2015.0</td>\n",
       "      <td>0.161589</td>\n",
       "      <td>...</td>\n",
       "      <td>None</td>\n",
       "      <td>None</td>\n",
       "      <td>None</td>\n",
       "      <td>5435c1b1-2334-483b-b95e-a9fb5119549b</td>\n",
       "      <td>POLYGON ((-53.64548 -1.64330, -53.64548 -1.643...</td>\n",
       "      <td>-53.645485</td>\n",
       "      <td>-53.641851</td>\n",
       "      <td>-1.649479</td>\n",
       "      <td>-1.642757</td>\n",
       "      <td>2015-08-14</td>\n",
       "    </tr>\n",
       "    <tr>\n",
       "      <th>222024</th>\n",
       "      <td>416086</td>\n",
       "      <td>PA</td>\n",
       "      <td>22761</td>\n",
       "      <td>DESMATAMENTO</td>\n",
       "      <td>d2008</td>\n",
       "      <td>0.0</td>\n",
       "      <td>271.0</td>\n",
       "      <td>2008-09-27</td>\n",
       "      <td>2008.0</td>\n",
       "      <td>0.079449</td>\n",
       "      <td>...</td>\n",
       "      <td>None</td>\n",
       "      <td>None</td>\n",
       "      <td>None</td>\n",
       "      <td>343697c2-63f7-402d-bcf7-39c6373d1c08</td>\n",
       "      <td>POLYGON ((-53.62117 -1.62661, -53.61875 -1.626...</td>\n",
       "      <td>-53.621175</td>\n",
       "      <td>-53.617140</td>\n",
       "      <td>-1.630111</td>\n",
       "      <td>-1.626611</td>\n",
       "      <td>2008-09-27</td>\n",
       "    </tr>\n",
       "    <tr>\n",
       "      <th>451199</th>\n",
       "      <td>451929</td>\n",
       "      <td>PA</td>\n",
       "      <td>22761</td>\n",
       "      <td>DESMATAMENTO</td>\n",
       "      <td>d2015</td>\n",
       "      <td>0.0</td>\n",
       "      <td>226.0</td>\n",
       "      <td>2015-08-14</td>\n",
       "      <td>2015.0</td>\n",
       "      <td>0.075871</td>\n",
       "      <td>...</td>\n",
       "      <td>None</td>\n",
       "      <td>None</td>\n",
       "      <td>None</td>\n",
       "      <td>78a8253e-846b-4bc8-a9f1-20fdd6ab2e8b</td>\n",
       "      <td>POLYGON ((-53.62424 -1.64168, -53.62423 -1.641...</td>\n",
       "      <td>-53.624243</td>\n",
       "      <td>-53.620468</td>\n",
       "      <td>-1.643292</td>\n",
       "      <td>-1.640230</td>\n",
       "      <td>2015-08-14</td>\n",
       "    </tr>\n",
       "    <tr>\n",
       "      <th>531519</th>\n",
       "      <td>416094</td>\n",
       "      <td>PA</td>\n",
       "      <td>22761</td>\n",
       "      <td>DESMATAMENTO</td>\n",
       "      <td>d2008</td>\n",
       "      <td>0.0</td>\n",
       "      <td>271.0</td>\n",
       "      <td>2008-09-27</td>\n",
       "      <td>2008.0</td>\n",
       "      <td>0.115781</td>\n",
       "      <td>...</td>\n",
       "      <td>None</td>\n",
       "      <td>None</td>\n",
       "      <td>None</td>\n",
       "      <td>c761443c-bdd5-4b52-9935-8e229602fc63</td>\n",
       "      <td>POLYGON ((-53.60110 -1.63737, -53.60110 -1.637...</td>\n",
       "      <td>-53.601100</td>\n",
       "      <td>-53.594106</td>\n",
       "      <td>-1.638719</td>\n",
       "      <td>-1.635488</td>\n",
       "      <td>2008-09-27</td>\n",
       "    </tr>\n",
       "  </tbody>\n",
       "</table>\n",
       "<p>4 rows × 21 columns</p>\n",
       "</div>"
      ],
      "text/plain": [
       "           uid state path_row    main_class class_name  def_cloud  julian_day  \\\n",
       "32235   451935    PA    22761  DESMATAMENTO      d2015        0.0       226.0   \n",
       "222024  416086    PA    22761  DESMATAMENTO      d2008        0.0       271.0   \n",
       "451199  451929    PA    22761  DESMATAMENTO      d2015        0.0       226.0   \n",
       "531519  416094    PA    22761  DESMATAMENTO      d2008        0.0       271.0   \n",
       "\n",
       "        image_date    year   area_km  ...  source satellite sensor  \\\n",
       "32235   2015-08-14  2015.0  0.161589  ...    None      None   None   \n",
       "222024  2008-09-27  2008.0  0.079449  ...    None      None   None   \n",
       "451199  2015-08-14  2015.0  0.075871  ...    None      None   None   \n",
       "531519  2008-09-27  2008.0  0.115781  ...    None      None   None   \n",
       "\n",
       "                                        uuid  \\\n",
       "32235   5435c1b1-2334-483b-b95e-a9fb5119549b   \n",
       "222024  343697c2-63f7-402d-bcf7-39c6373d1c08   \n",
       "451199  78a8253e-846b-4bc8-a9f1-20fdd6ab2e8b   \n",
       "531519  c761443c-bdd5-4b52-9935-8e229602fc63   \n",
       "\n",
       "                                                 geometry      x_min  \\\n",
       "32235   POLYGON ((-53.64548 -1.64330, -53.64548 -1.643... -53.645485   \n",
       "222024  POLYGON ((-53.62117 -1.62661, -53.61875 -1.626... -53.621175   \n",
       "451199  POLYGON ((-53.62424 -1.64168, -53.62423 -1.641... -53.624243   \n",
       "531519  POLYGON ((-53.60110 -1.63737, -53.60110 -1.637... -53.601100   \n",
       "\n",
       "            x_max     y_min     y_max       Date  \n",
       "32235  -53.641851 -1.649479 -1.642757 2015-08-14  \n",
       "222024 -53.617140 -1.630111 -1.626611 2008-09-27  \n",
       "451199 -53.620468 -1.643292 -1.640230 2015-08-14  \n",
       "531519 -53.594106 -1.638719 -1.635488 2008-09-27  \n",
       "\n",
       "[4 rows x 21 columns]"
      ]
     },
     "execution_count": 49,
     "metadata": {},
     "output_type": "execute_result"
    }
   ],
   "source": [
    "centroid_defo"
   ]
  },
  {
   "cell_type": "code",
   "execution_count": 149,
   "metadata": {},
   "outputs": [],
   "source": [
    "lats = [min_lat + lat_step * x for x in range(0,span * 2 + 2)]\n",
    "lons = [min_lon + lon_step * x for x in range(0,span * 2 + 2)]\n",
    "cs = [c for c in range(0,span * 2 + 2)]\n",
    "grid = list(itertools.product(lons, lats))\n",
    "grid_xy = list(itertools.product(cs, cs))"
   ]
  },
  {
   "cell_type": "code",
   "execution_count": 150,
   "metadata": {},
   "outputs": [],
   "source": [
    "grid_points = gpd.points_from_xy([x[0] for x in grid], [y[1] for y in grid])\n",
    "grid_gdf = gpd.GeoDataFrame(grid_points).set_geometry(0)\n",
    "grid_gdf['x'] = [c[0] for c in grid_xy]\n",
    "grid_gdf['y'] = [c[1] for c in grid_xy]"
   ]
  },
  {
   "cell_type": "code",
   "execution_count": 31,
   "metadata": {},
   "outputs": [
    {
     "name": "stdout",
     "output_type": "stream",
     "text": [
      "Wall time: 45.9 ms\n"
     ]
    }
   ],
   "source": [
    "%%time\n",
    "res = []\n",
    "for p in grid_points:\n",
    "    res.append(centroid_defo['geometry'].contains(p))"
   ]
  },
  {
   "cell_type": "code",
   "execution_count": 32,
   "metadata": {},
   "outputs": [
    {
     "data": {
      "text/plain": [
       "False    4093\n",
       "True        3\n",
       "dtype: int64"
      ]
     },
     "execution_count": 32,
     "metadata": {},
     "output_type": "execute_result"
    }
   ],
   "source": [
    "pd.concat(res).value_counts()"
   ]
  },
  {
   "cell_type": "code",
   "execution_count": 33,
   "metadata": {},
   "outputs": [
    {
     "data": {
      "text/plain": [
       "32235     True\n",
       "451199    True\n",
       "531519    True\n",
       "dtype: bool"
      ]
     },
     "execution_count": 33,
     "metadata": {},
     "output_type": "execute_result"
    }
   ],
   "source": [
    "pd.concat(res)[pd.concat(res) == True]"
   ]
  },
  {
   "cell_type": "code",
   "execution_count": 54,
   "metadata": {},
   "outputs": [
    {
     "data": {
      "image/png": "[encoded data removed]",
      "text/plain": [
       "<Figure size 720x720 with 1 Axes>"
      ]
     },
     "metadata": {
      "needs_background": "light"
     },
     "output_type": "display_data"
    }
   ],
   "source": [
    "import matplotlib.pyplot as plt\n",
    "\n",
    "fig, ax = plt.subplots(figsize=(10,10))\n",
    "\n",
    "centroid_defo.boundary.plot(ax=ax, edgecolor='black')\n",
    "grid_gdf.set_geometry(0).plot(ax=ax, color='red', markersize=0.5)\n",
    "\n",
    "plt.show()"
   ]
  },
  {
   "cell_type": "markdown",
   "metadata": {},
   "source": [
    "### Dataset Construction"
   ]
  },
  {
   "cell_type": "code",
   "execution_count": 223,
   "metadata": {},
   "outputs": [],
   "source": [
    "# Parameters for test.\n",
    "centroid_lat = -1.672125\n",
    "centroid_lon = -53.617889\n",
    "span = 15\n",
    "centroid_date = dt.datetime.strptime('2017/09/15','%Y/%m/%d')\n",
    "days_back = 10\n",
    "\n",
    "# Get start of temporal window.\n",
    "min_date = centroid_date - dt.timedelta(days = days_back)\n",
    "\n",
    "# Calculate location if we move 375 meters North and use to get grid steps.\n",
    "lat_375 = gpx.distance(kilometers=0.375).destination((centroid_lat, centroid_lon), bearing=0).latitude\n",
    "lat_step = abs(centroid_lat - lat_375)\n",
    "\n",
    "# Calculate location if we move 375 meters East and use to get grid steps.\n",
    "lon_375 = gpx.distance(kilometers=0.375).destination((centroid_lat, centroid_lon), bearing=90).longitude\n",
    "lon_step = abs(centroid_lon - lon_375)\n",
    "\n",
    "# Get bounding box of centroid and 100 pixels in all directions.\n",
    "min_lat = centroid_lat - (lat_step * span)\n",
    "max_lat = centroid_lat + (lat_step * span)\n",
    "min_lon = centroid_lon - (lon_step * span)\n",
    "max_lon = centroid_lon + (lon_step * span)\n",
    "\n",
    "# Limit deforestation polygons to those that intersect with centroid grid.\n",
    "centroid_defo = defo_gpd[(defo_gpd['x_min'] >= min_lon) & (defo_gpd['x_max'] <= max_lon) &\n",
    "               (defo_gpd['y_min'] >= min_lat) & (defo_gpd['y_max'] <= max_lat) &\n",
    "               (defo_gpd['x_min'] + defo_gpd['x_min'] + defo_gpd['x_min'] + defo_gpd['x_min'] != 0) &\n",
    "               (defo_gpd['Date'] <= min_date)]\n",
    "\n",
    "# Build grid.\n",
    "lats = [min_lat + lat_step * x for x in range(0,span * 2 + 2)]\n",
    "lons = [min_lon + lon_step * x for x in range(0,span * 2 + 2)]\n",
    "cs = [c for c in range(0,span * 2 + 2)]\n",
    "grid = list(itertools.product(lons, lats))\n",
    "grid_xy = list(itertools.product(cs, cs))\n",
    "grid_points = gpd.points_from_xy([x[0] for x in grid], [y[1] for y in grid])\n",
    "grid_gdf = gpd.GeoDataFrame(grid_points)\n",
    "grid_gdf.rename(mapper={0:'geometry'}, axis=1, inplace = True)\n",
    "grid_gdf['x'] = [c[0] for c in grid_xy]\n",
    "grid_gdf['y'] = [c[1] for c in grid_xy]\n",
    "grid_gdf = grid_gdf.set_geometry('geometry')\n",
    "grid_gdf.crs = 'epsg:4674'\n",
    "\n",
    "# Calculate deforested gridpoints.\n",
    "grid_gdf['deforested'] = np.minimum(pd.concat(\n",
    "    [grid_gdf.within(centroid_defo.iloc[x].geometry) for x in range(0,len(centroid_defo))]\n",
    "    , axis=1).sum(1),1)\n",
    "\n",
    "# Convert to numpy format.\n",
    "dm = coo_matrix((grid_gdf['deforested'],(grid_gdf['x'].astype(int),grid_gdf['y'].astype(int)))).toarray()"
   ]
  }
 ],
 "metadata": {
  "kernelspec": {
   "display_name": "Python 3 (ipykernel)",
   "language": "python",
   "name": "python3"
  },
  "language_info": {
   "codemirror_mode": {
    "name": "ipython",
    "version": 3
   },
   "file_extension": ".py",
   "mimetype": "text/x-python",
   "name": "python",
   "nbconvert_exporter": "python",
   "pygments_lexer": "ipython3",
   "version": "3.9.7"
  }
 },
 "nbformat": 4,
 "nbformat_minor": 4
}
