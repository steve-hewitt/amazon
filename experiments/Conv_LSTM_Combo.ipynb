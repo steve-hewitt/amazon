{
 "cells": [
  {
   "cell_type": "markdown",
   "id": "3b873262",
   "metadata": {},
   "source": [
    "### Import Block"
   ]
  },
  {
   "cell_type": "code",
   "execution_count": 1,
   "id": "b39397e0",
   "metadata": {},
   "outputs": [],
   "source": [
    "import pandas as pd\n",
    "import numpy as np\n",
    "import tensorflow as tf\n",
    "import matplotlib.pyplot as plt\n",
    "from tensorflow.keras import layers\n",
    "from sklearn.utils import class_weight\n",
    "import skimage.measure\n",
    "\n",
    "%matplotlib inline"
   ]
  },
  {
   "cell_type": "markdown",
   "id": "826ee2d5",
   "metadata": {},
   "source": [
    "### Function Definitions"
   ]
  },
  {
   "cell_type": "code",
   "execution_count": 2,
   "id": "6cc6c49c",
   "metadata": {},
   "outputs": [],
   "source": [
    "# Loader functions\n",
    "# Inspiration: https://towardsdatascience.com/writing-custom-keras-generators-fe815d992c5a\n",
    "\n",
    "def get_2d_input(path):\n",
    "    # Load array.\n",
    "    t_2d_input = np.load(path)\n",
    "    \n",
    "    #return t_2d_input\n",
    "    return t_2d_input\n",
    "\n",
    "def get_1d_input(path):\n",
    "    # Load array.\n",
    "    t_1d_input = np.load(path)\n",
    "    \n",
    "    # Expand dimensions to match model input.\n",
    "    t_1d_input = tf.expand_dims(tf.expand_dims(t_1d_input, 2), 2)\n",
    "    \n",
    "    # Put channel dim at the end.\n",
    "    t_1d_input = np.moveaxis(t_1d_input, 1, -1)\n",
    "    \n",
    "    return t_1d_input\n",
    "\n",
    "def get_output(path):\n",
    "    # Load array.\n",
    "    t_output = np.load(path)\n",
    "    \n",
    "    # Put channel dim at the end.\n",
    "    t_output = np.moveaxis(t_output, 0, -1)\n",
    "    return t_output\n",
    "\n",
    "def data_generator(samples, num_samples, batch_size = 64, calculated_sample_weights = None):\n",
    "    \n",
    "    while True:\n",
    "        # Suffle data at the start of each epoch.\n",
    "        sample_indicies = np.arange(num_samples)\n",
    "        np.random.shuffle(sample_indicies)\n",
    "        n = 0\n",
    "        \n",
    "        while n + batch_size < num_samples:\n",
    "            # Get indicies for the batch\n",
    "            batch_samples  = sample_indicies[n:n + batch_size]\n",
    "            n += batch_size\n",
    "\n",
    "            batch_input_2d  = []\n",
    "            batch_input_1d  = []\n",
    "            batch_output = [] \n",
    "            batch_sample_weights = []\n",
    "\n",
    "            # Read in each input, perform preprocessing and get labels\n",
    "            for sample in batch_samples:\n",
    "                input_2d = get_2d_input(samples.iloc[sample].features_2d)\n",
    "                input_1d = get_1d_input(samples.iloc[sample].features_1d)\n",
    "                output = get_output(samples.iloc[sample].labels)\n",
    "                \n",
    "                batch_input_2d += [input_2d]\n",
    "                batch_input_1d += [input_1d]\n",
    "                batch_output += [output]\n",
    "\n",
    "                if type(calculated_sample_weights) != type(None):\n",
    "                    sample_weights = calculated_sample_weights[sample]\n",
    "                    batch_sample_weights += [sample_weights]\n",
    "                \n",
    "            # Return a tuple to feed the network\n",
    "            batch_x = np.array(batch_input_2d)\n",
    "            batch_v = np.array(batch_input_1d)\n",
    "            batch_y = np.minimum(np.array(batch_output),1)\n",
    "            \n",
    "            if type(calculated_sample_weights) == type(None):\n",
    "                yield([batch_x[:,:,:,:,:1], tf.squeeze(batch_x[:,:1,:,:,1:2], axis = 1), batch_v], batch_y)\n",
    "            else:\n",
    "                batch_sample_weights = np.array(batch_sample_weights)\n",
    "                yield([batch_x[:,:,:,:,:1], tf.squeeze(batch_x[:,:1,:,:,1:2], axis = 1), batch_v], batch_y, batch_sample_weights)"
   ]
  },
  {
   "cell_type": "code",
   "execution_count": 3,
   "id": "b19ca035",
   "metadata": {},
   "outputs": [],
   "source": [
    "# Solution for problem with class_weights not working with 3D outputs in tensorflow.\n",
    "# From: https://github.com/keras-team/keras/issues/3653\n",
    "def generate_sample_weights(training_data, class_weights): \n",
    "    #replaces values for up to 3 classes with the values from class_weights#\n",
    "    sample_weights = [np.where(y==0,class_weights[0],\n",
    "                        np.where(y==1,class_weights[1],\n",
    "                        y)) for y in training_data]\n",
    "    return np.asarray(sample_weights)"
   ]
  },
  {
   "cell_type": "code",
   "execution_count": 4,
   "id": "4ff8eca6",
   "metadata": {},
   "outputs": [],
   "source": [
    "# SSIM/PSNR loss functions.\n",
    "# Inspiration: https://stackoverflow.com/questions/57357146/use-ssim-loss-function-with-keras\n",
    "def ssim_loss(y_true, y_pred):\n",
    "    return 1 - tf.reduce_mean(tf.image.ssim(y_true, y_pred, 1.0))\n",
    "\n",
    "def psnr_loss(y_true, y_pred):\n",
    "    return 100 - tf.reduce_mean(tf.image.psnr(y_true, y_pred, 1.0))"
   ]
  },
  {
   "cell_type": "code",
   "execution_count": 5,
   "id": "65713e2c",
   "metadata": {},
   "outputs": [],
   "source": [
    "# Dice loss functions.\n",
    "# From: https://stackoverflow.com/questions/72195156/correct-implementation-of-dice-loss-in-tensorflow-keras\n",
    "def dice_coef(y_true, y_pred, smooth=100):        \n",
    "    y_true_f = tf.keras.backend.flatten(y_true)\n",
    "    y_pred_f = tf.keras.backend.flatten(y_pred)\n",
    "    intersection = tf.keras.backend.sum(y_true_f * y_pred_f)\n",
    "    dice = (2. * intersection + smooth) / (tf.keras.backend.sum(y_true_f) + tf.keras.backend.sum(y_pred_f) + smooth)\n",
    "    return dice\n",
    "\n",
    "def dice_coef_loss(y_true, y_pred):\n",
    "    return 1 - dice_coef(y_true, y_pred)"
   ]
  },
  {
   "cell_type": "markdown",
   "id": "6e9621ad",
   "metadata": {},
   "source": [
    "### Model Assembly"
   ]
  },
  {
   "cell_type": "code",
   "execution_count": 6,
   "id": "7cc8a4d2",
   "metadata": {},
   "outputs": [
    {
     "name": "stdout",
     "output_type": "stream",
     "text": [
      "Model: \"fire_encoder\"\n",
      "_________________________________________________________________\n",
      " Layer (type)                Output Shape              Param #   \n",
      "=================================================================\n",
      " fire_time_feature_1 (ConvLS  (None, 10, 32, 32, 128)  1651712   \n",
      " TM2D)                                                           \n",
      "                                                                 \n",
      " fire_time_feature_2 (ConvLS  (None, 10, 32, 32, 64)   442624    \n",
      " TM2D)                                                           \n",
      "                                                                 \n",
      " fire_to_2D (ConvLSTM2D)     (None, 32, 32, 64)        33024     \n",
      "                                                                 \n",
      " output (Conv2D)             (None, 32, 32, 1)         65        \n",
      "                                                                 \n",
      "=================================================================\n",
      "Total params: 2,127,425\n",
      "Trainable params: 2,127,425\n",
      "Non-trainable params: 0\n",
      "_________________________________________________________________\n"
     ]
    }
   ],
   "source": [
    "fire_encoder = tf.keras.models.load_model('Models/MINST_Agg_01'\n",
    "                                         , custom_objects = {'ssim_loss': ssim_loss, 'psnr_loss': psnr_loss})\n",
    "fire_encoder.summary()"
   ]
  },
  {
   "cell_type": "code",
   "execution_count": 7,
   "id": "3b8a6562",
   "metadata": {},
   "outputs": [
    {
     "name": "stdout",
     "output_type": "stream",
     "text": [
      "Model: \"defo_encoder\"\n",
      "_________________________________________________________________\n",
      " Layer (type)                Output Shape              Param #   \n",
      "=================================================================\n",
      " defo_input (InputLayer)     [(None, 32, 32, 1)]       0         \n",
      "                                                                 \n",
      " defo_conv_A (Conv2D)        (None, 32, 32, 128)       3328      \n",
      "                                                                 \n",
      " defo_conv_B (Conv2D)        (None, 32, 32, 64)        73792     \n",
      "                                                                 \n",
      " defo_conv_C (Conv2D)        (None, 32, 32, 32)        2080      \n",
      "                                                                 \n",
      "=================================================================\n",
      "Total params: 79,200\n",
      "Trainable params: 79,200\n",
      "Non-trainable params: 0\n",
      "_________________________________________________________________\n"
     ]
    }
   ],
   "source": [
    "defo_input = layers.Input(shape = ((32,32,1)), name = 'defo_input')\n",
    "d = layers.Conv2D(128, (5,5), padding = 'same', name = 'defo_conv_A', activation = 'relu')(defo_input)\n",
    "d = layers.Conv2D(64, (3,3), padding = 'same', name = 'defo_conv_B', activation = 'relu')(d)\n",
    "d = layers.Conv2D(32, (1,1), padding = 'same', name = 'defo_conv_C', activation = 'relu')(d)\n",
    "\n",
    "defo_encoder = tf.keras.Model(inputs = defo_input, outputs = d, name = 'defo_encoder')\n",
    "defo_encoder.summary()"
   ]
  },
  {
   "cell_type": "code",
   "execution_count": 8,
   "id": "31c06077",
   "metadata": {},
   "outputs": [
    {
     "name": "stdout",
     "output_type": "stream",
     "text": [
      "Model: \"precip_encoder\"\n",
      "_________________________________________________________________\n",
      " Layer (type)                Output Shape              Param #   \n",
      "=================================================================\n",
      " precip_input (InputLayer)   [(None, 10, 1, 1, 192)]   0         \n",
      "                                                                 \n",
      " precip_time_features (ConvL  (None, 10, 1, 1, 128)    164352    \n",
      " STM2D)                                                          \n",
      "                                                                 \n",
      " precip_to_FC (ConvLSTM2D)   (None, 1, 1, 32)          20608     \n",
      "                                                                 \n",
      " precip_to_grid_2x2 (Conv2DT  (None, 2, 2, 32)         4128      \n",
      " ranspose)                                                       \n",
      "                                                                 \n",
      " precip_to_grid_4x4 (Conv2DT  (None, 4, 4, 32)         9248      \n",
      " ranspose)                                                       \n",
      "                                                                 \n",
      " precip_to_grid_8x8 (Conv2DT  (None, 8, 8, 32)         9248      \n",
      " ranspose)                                                       \n",
      "                                                                 \n",
      " precip_to_grid_16x16 (Conv2  (None, 16, 16, 32)       9248      \n",
      " DTranspose)                                                     \n",
      "                                                                 \n",
      " precip_to_grid_32x32 (Conv2  (None, 32, 32, 32)       9248      \n",
      " DTranspose)                                                     \n",
      "                                                                 \n",
      "=================================================================\n",
      "Total params: 226,080\n",
      "Trainable params: 226,080\n",
      "Non-trainable params: 0\n",
      "_________________________________________________________________\n"
     ]
    }
   ],
   "source": [
    "precip_input = layers.Input(shape = ((10,1,1,192)), name = 'precip_input')\n",
    "p = layers.ConvLSTM2D(\n",
    "    filters=128,\n",
    "    kernel_size=(1, 1),\n",
    "    padding='same',\n",
    "    return_sequences=True,\n",
    "    activation = 'relu',\n",
    "    name = 'precip_time_features')(precip_input)\n",
    "p = layers.ConvLSTM2D(\n",
    "    filters=32,\n",
    "    kernel_size=(1, 1),\n",
    "    padding='same',\n",
    "    return_sequences=False,\n",
    "    activation = 'relu',\n",
    "    name = 'precip_to_FC')(p)\n",
    "p = layers.Conv2DTranspose(32, (2,2), strides=(2,2), activation='relu', padding='same', name = 'precip_to_grid_2x2')(p)\n",
    "p = layers.Conv2DTranspose(32, (3,3), strides=(2,2), activation='relu', padding='same', name = 'precip_to_grid_4x4')(p)\n",
    "p = layers.Conv2DTranspose(32, (3,3), strides=(2,2), activation='relu', padding='same', name = 'precip_to_grid_8x8')(p)\n",
    "p = layers.Conv2DTranspose(32, (3,3), strides=(2,2), activation='relu', padding='same', name = 'precip_to_grid_16x16')(p)\n",
    "p = layers.Conv2DTranspose(32, (3,3), strides=(2,2), activation='relu', padding='same', name = 'precip_to_grid_32x32')(p)\n",
    "\n",
    "precip_encoder = tf.keras.Model(inputs = precip_input, outputs = p, name = 'precip_encoder')\n",
    "precip_encoder.summary()"
   ]
  },
  {
   "cell_type": "code",
   "execution_count": 9,
   "id": "63b5c33e",
   "metadata": {},
   "outputs": [
    {
     "name": "stdout",
     "output_type": "stream",
     "text": [
      "Model: \"model_1\"\n",
      "__________________________________________________________________________________________________\n",
      " Layer (type)                   Output Shape         Param #     Connected to                     \n",
      "==================================================================================================\n",
      " precip_input (InputLayer)      [(None, 10, 1, 1, 1  0           []                               \n",
      "                                92)]                                                              \n",
      "                                                                                                  \n",
      " precip_time_features (ConvLSTM  (None, 10, 1, 1, 12  164352     ['precip_input[0][0]']           \n",
      " 2D)                            8)                                                                \n",
      "                                                                                                  \n",
      " precip_to_FC (ConvLSTM2D)      (None, 1, 1, 32)     20608       ['precip_time_features[0][0]']   \n",
      "                                                                                                  \n",
      " precip_to_grid_2x2 (Conv2DTran  (None, 2, 2, 32)    4128        ['precip_to_FC[0][0]']           \n",
      " spose)                                                                                           \n",
      "                                                                                                  \n",
      " fire_input (InputLayer)        [(None, 10, 32, 32,  0           []                               \n",
      "                                 1)]                                                              \n",
      "                                                                                                  \n",
      " defo_input (InputLayer)        [(None, 32, 32, 1)]  0           []                               \n",
      "                                                                                                  \n",
      " precip_to_grid_4x4 (Conv2DTran  (None, 4, 4, 32)    9248        ['precip_to_grid_2x2[0][0]']     \n",
      " spose)                                                                                           \n",
      "                                                                                                  \n",
      " fire_time_feature_1 (ConvLSTM2  (None, 10, 32, 32,   1651712    ['fire_input[0][0]']             \n",
      " D)                             128)                                                              \n",
      "                                                                                                  \n",
      " defo_conv_A (Conv2D)           (None, 32, 32, 128)  3328        ['defo_input[0][0]']             \n",
      "                                                                                                  \n",
      " precip_to_grid_8x8 (Conv2DTran  (None, 8, 8, 32)    9248        ['precip_to_grid_4x4[0][0]']     \n",
      " spose)                                                                                           \n",
      "                                                                                                  \n",
      " fire_time_feature_2 (ConvLSTM2  (None, 10, 32, 32,   442624     ['fire_time_feature_1[0][0]']    \n",
      " D)                             64)                                                               \n",
      "                                                                                                  \n",
      " defo_conv_B (Conv2D)           (None, 32, 32, 64)   73792       ['defo_conv_A[0][0]']            \n",
      "                                                                                                  \n",
      " precip_to_grid_16x16 (Conv2DTr  (None, 16, 16, 32)  9248        ['precip_to_grid_8x8[0][0]']     \n",
      " anspose)                                                                                         \n",
      "                                                                                                  \n",
      " fire_to_2D (ConvLSTM2D)        (None, 32, 32, 64)   33024       ['fire_time_feature_2[0][0]']    \n",
      "                                                                                                  \n",
      " defo_conv_C (Conv2D)           (None, 32, 32, 32)   2080        ['defo_conv_B[0][0]']            \n",
      "                                                                                                  \n",
      " precip_to_grid_32x32 (Conv2DTr  (None, 32, 32, 32)  9248        ['precip_to_grid_16x16[0][0]']   \n",
      " anspose)                                                                                         \n",
      "                                                                                                  \n",
      " concatenate (Concatenate)      (None, 32, 32, 128)  0           ['fire_to_2D[0][0]',             \n",
      "                                                                  'defo_conv_C[0][0]',            \n",
      "                                                                  'precip_to_grid_32x32[0][0]']   \n",
      "                                                                                                  \n",
      " combo_conv_A (Conv2D)          (None, 32, 32, 64)   73792       ['concatenate[0][0]']            \n",
      "                                                                                                  \n",
      " combo_conv_B (Conv2D)          (None, 32, 32, 64)   36928       ['combo_conv_A[0][0]']           \n",
      "                                                                                                  \n",
      " combo_output (Conv2D)          (None, 32, 32, 1)    65          ['combo_conv_B[0][0]']           \n",
      "                                                                                                  \n",
      "==================================================================================================\n",
      "Total params: 2,543,425\n",
      "Trainable params: 2,543,425\n",
      "Non-trainable params: 0\n",
      "__________________________________________________________________________________________________\n"
     ]
    }
   ],
   "source": [
    "fire_encoder_headless = tf.keras.Model(inputs=fire_encoder.input, outputs=fire_encoder.get_layer('fire_to_2D').output)\n",
    "cat_layer = layers.Concatenate(axis = -1)\n",
    "features_cat = cat_layer([fire_encoder_headless.output, defo_encoder.output, precip_encoder.output])\n",
    "c = layers.Conv2D(64, (3,3), padding = 'same', name = 'combo_conv_A', activation = 'relu')(features_cat)\n",
    "c = layers.Conv2D(64, (3,3), padding = 'same', name = 'combo_conv_B', activation = 'relu')(c)\n",
    "combo_out = layers.Conv2D(1, (1,1), padding = 'same', name = 'combo_output', activation = 'relu')(c)\n",
    "\n",
    "combo_model = tf.keras.Model(inputs = (fire_encoder.input, defo_encoder.input, precip_encoder.input),\n",
    "                             outputs = combo_out)\n",
    "combo_model.summary()"
   ]
  },
  {
   "cell_type": "code",
   "execution_count": 13,
   "id": "9dec2eca",
   "metadata": {},
   "outputs": [],
   "source": [
    "# Compile model.\n",
    "opt = tf.keras.optimizers.Adam(learning_rate=0.0001)\n",
    "loss_fn = tf.keras.losses.BinaryCrossentropy()\n",
    "#loss_fn = tf.keras.losses.MeanSquaredError()\n",
    "#loss_fn = ssim_loss()\n",
    "#loss_fn = dice_coef_loss\n",
    "combo_model.compile(loss=loss_fn, \n",
    "                    optimizer=opt, \n",
    "                    metrics=[tf.keras.metrics.MeanSquaredError(name='MSE'),\n",
    "                             tf.keras.metrics.AUC(name='AUC'),\n",
    "                             ssim_loss,\n",
    "                             psnr_loss\n",
    "                            ])"
   ]
  },
  {
   "cell_type": "code",
   "execution_count": 14,
   "id": "9404c289",
   "metadata": {},
   "outputs": [
    {
     "name": "stdout",
     "output_type": "stream",
     "text": [
      "1/1 [==============================] - 1s 974ms/step\n"
     ]
    },
    {
     "data": {
      "text/plain": [
       "(8, 32, 32, 1)"
      ]
     },
     "execution_count": 14,
     "metadata": {},
     "output_type": "execute_result"
    }
   ],
   "source": [
    "# Test on dummy data to see that shapes look right.\n",
    "fire_batch = tf.zeros([8,10,32,32,1], dtype = 'float32')\n",
    "defo_batch = tf.zeros([8,32,32,1], dtype = 'float32')\n",
    "precip_batch = tf.zeros([8,10,1,1,192], dtype = 'float32')\n",
    "combo_model.predict((fire_batch, defo_batch, precip_batch)).shape"
   ]
  },
  {
   "cell_type": "markdown",
   "id": "aeda2405",
   "metadata": {},
   "source": [
    "### Train model on combined dataset."
   ]
  },
  {
   "cell_type": "code",
   "execution_count": 12,
   "id": "8398b51a",
   "metadata": {},
   "outputs": [
    {
     "name": "stdout",
     "output_type": "stream",
     "text": [
      "precip_input True\n",
      "precip_time_features True\n",
      "precip_to_FC True\n",
      "precip_to_grid_2x2 True\n",
      "fire_input False\n",
      "defo_input True\n",
      "precip_to_grid_4x4 True\n",
      "fire_time_feature_1 False\n",
      "defo_conv_A True\n",
      "precip_to_grid_8x8 True\n",
      "fire_time_feature_2 False\n",
      "defo_conv_B True\n",
      "precip_to_grid_16x16 True\n",
      "fire_to_2D False\n",
      "defo_conv_C True\n",
      "precip_to_grid_32x32 True\n",
      "concatenate True\n",
      "combo_conv_A True\n",
      "combo_conv_B True\n",
      "combo_output True\n"
     ]
    }
   ],
   "source": [
    "# Freeze layers of the motion encoder to start, because it's already pretrained on MNIST.\n",
    "combo_model.layers[4].trainable = False\n",
    "combo_model.layers[7].trainable = False\n",
    "combo_model.layers[10].trainable = False\n",
    "combo_model.layers[13].trainable = False\n",
    "\n",
    "# Confirm that the right layers are frozen.\n",
    "for t_layer in combo_model.layers:\n",
    "    print(t_layer.name, t_layer.trainable)"
   ]
  },
  {
   "cell_type": "code",
   "execution_count": 15,
   "id": "225a1e4d",
   "metadata": {},
   "outputs": [
    {
     "name": "stderr",
     "output_type": "stream",
     "text": [
      "C:\\Users\\covad\\anaconda3\\lib\\site-packages\\sklearn\\utils\\validation.py:70: FutureWarning: Pass classes=[0, 1], y=[0. 0. 0. ... 0. 0. 0.] as keyword args. From version 1.0 (renaming of 0.25) passing these as positional arguments will result in an error\n",
      "  warnings.warn(f\"Pass {args_msg} as keyword args. From version \"\n"
     ]
    }
   ],
   "source": [
    "# Load metadata on yearly datasets.\n",
    "df_2017 = pd.read_csv('4fold_super/2017/meta.csv')\n",
    "df_2018 = pd.read_csv('4fold_super/2018/meta.csv')\n",
    "df_2019 = pd.read_csv('4fold_super/2019/meta.csv')\n",
    "df_2020 = pd.read_csv('4fold_super/2020/meta.csv')\n",
    "\n",
    "# Combine into desired train/val split.\n",
    "meta_t = pd.concat([df_2017, df_2018, df_2019]).reset_index()\n",
    "meta_v = df_2020\n",
    "\n",
    "# Get all labels for use in calculating weights.\n",
    "y_train = []\n",
    "for x in range(0,len(meta_t)):\n",
    "    y_train.append(np.load(meta_t.iloc[x].labels))\n",
    "y_train = np.stack(y_train)\n",
    "y_train = np.minimum(y_train,1)\n",
    "y_train = np.moveaxis(y_train, 1, -1)\n",
    "\n",
    "# Get weights.\n",
    "weights = class_weight.compute_class_weight('balanced',\n",
    "                                            [0,1],\n",
    "                                            y_train.flatten())\n",
    "calculated_sample_weights = generate_sample_weights(y_train, weights)\n",
    "\n",
    "# Get generators.\n",
    "batch_size = 32\n",
    "t_gen = data_generator(meta_t, len(meta_t), batch_size = batch_size, calculated_sample_weights = calculated_sample_weights)\n",
    "v_gen = data_generator(meta_v, len(meta_v), batch_size = batch_size)"
   ]
  },
  {
   "cell_type": "code",
   "execution_count": 16,
   "id": "8bd392e7",
   "metadata": {},
   "outputs": [
    {
     "name": "stdout",
     "output_type": "stream",
     "text": [
      "Epoch 1/20\n",
      "468/468 [==============================] - 343s 717ms/step - loss: 0.4714 - MSE: 0.1234 - AUC: 0.8672 - ssim_loss: 0.9942 - psnr_loss: 90.2123 - val_loss: 0.4093 - val_MSE: 0.1199 - val_AUC: 0.8991 - val_ssim_loss: 0.9925 - val_psnr_loss: 90.0801 - lr: 1.0000e-04\n",
      "Epoch 2/20\n",
      "468/468 [==============================] - 334s 714ms/step - loss: 0.4232 - MSE: 0.1172 - AUC: 0.8856 - ssim_loss: 0.9932 - psnr_loss: 89.9306 - val_loss: 0.4459 - val_MSE: 0.1278 - val_AUC: 0.9057 - val_ssim_loss: 0.9919 - val_psnr_loss: 90.3248 - lr: 1.0000e-04\n",
      "Epoch 3/20\n",
      "468/468 [==============================] - 333s 713ms/step - loss: 0.4174 - MSE: 0.1187 - AUC: 0.8890 - ssim_loss: 0.9926 - psnr_loss: 89.9187 - val_loss: 0.3705 - val_MSE: 0.1141 - val_AUC: 0.9008 - val_ssim_loss: 0.9927 - val_psnr_loss: 89.8322 - lr: 1.0000e-04\n",
      "Epoch 4/20\n",
      "468/468 [==============================] - 334s 713ms/step - loss: 0.4246 - MSE: 0.1234 - AUC: 0.8858 - ssim_loss: 0.9930 - psnr_loss: 90.0464 - val_loss: 0.5240 - val_MSE: 0.1599 - val_AUC: 0.9067 - val_ssim_loss: 0.9935 - val_psnr_loss: 91.5414 - lr: 1.0000e-04\n",
      "Epoch 5/20\n",
      "468/468 [==============================] - ETA: 0s - loss: 0.4072 - MSE: 0.1167 - AUC: 0.8945 - ssim_loss: 0.9925 - psnr_loss: 89.8171\n",
      "Epoch 5: ReduceLROnPlateau reducing learning rate to 9.999999747378752e-06.\n",
      "468/468 [==============================] - 334s 713ms/step - loss: 0.4072 - MSE: 0.1167 - AUC: 0.8945 - ssim_loss: 0.9925 - psnr_loss: 89.8171 - val_loss: 0.4173 - val_MSE: 0.1276 - val_AUC: 0.9096 - val_ssim_loss: 0.9912 - val_psnr_loss: 90.2008 - lr: 1.0000e-04\n",
      "Epoch 6/20\n",
      "468/468 [==============================] - 345s 737ms/step - loss: 0.3952 - MSE: 0.1148 - AUC: 0.9008 - ssim_loss: 0.9927 - psnr_loss: 89.7019 - val_loss: 0.4476 - val_MSE: 0.1352 - val_AUC: 0.9101 - val_ssim_loss: 0.9923 - val_psnr_loss: 90.5379 - lr: 1.0000e-05\n",
      "Epoch 7/20\n",
      "468/468 [==============================] - ETA: 0s - loss: 0.3941 - MSE: 0.1139 - AUC: 0.9016 - ssim_loss: 0.9927 - psnr_loss: 89.6539\n",
      "Epoch 7: ReduceLROnPlateau reducing learning rate to 9.999999747378752e-07.\n",
      "468/468 [==============================] - 338s 723ms/step - loss: 0.3941 - MSE: 0.1139 - AUC: 0.9016 - ssim_loss: 0.9927 - psnr_loss: 89.6539 - val_loss: 0.4214 - val_MSE: 0.1280 - val_AUC: 0.9100 - val_ssim_loss: 0.9918 - val_psnr_loss: 90.2294 - lr: 1.0000e-05\n",
      "Epoch 8/20\n",
      "468/468 [==============================] - ETA: 0s - loss: 0.3924 - MSE: 0.1141 - AUC: 0.9026 - ssim_loss: 0.9927 - psnr_loss: 89.6535Restoring model weights from the end of the best epoch: 3.\n",
      "468/468 [==============================] - 334s 715ms/step - loss: 0.3924 - MSE: 0.1141 - AUC: 0.9026 - ssim_loss: 0.9927 - psnr_loss: 89.6535 - val_loss: 0.4121 - val_MSE: 0.1252 - val_AUC: 0.9107 - val_ssim_loss: 0.9914 - val_psnr_loss: 90.0924 - lr: 1.0000e-06\n",
      "Epoch 8: early stopping\n"
     ]
    },
    {
     "data": {
      "text/plain": [
       "<keras.callbacks.History at 0x1dcac0b5b80>"
      ]
     },
     "execution_count": 16,
     "metadata": {},
     "output_type": "execute_result"
    }
   ],
   "source": [
    "# Adding callbacks.\n",
    "early_stopping = tf.keras.callbacks.EarlyStopping(monitor='val_loss', patience=5, verbose=1, restore_best_weights=True)\n",
    "reduce_lr = tf.keras.callbacks.ReduceLROnPlateau(monitor='val_loss', patience=2, verbose=1)\n",
    "\n",
    "# Train model.\n",
    "combo_model.fit(t_gen, \n",
    "                   epochs = 20, \n",
    "                   verbose = 1, \n",
    "                   batch_size = batch_size,\n",
    "                   validation_data = v_gen,\n",
    "                   callbacks = [early_stopping, reduce_lr],\n",
    "                   steps_per_epoch = len(meta_t) // batch_size,\n",
    "                   validation_steps = len(meta_v) // batch_size\n",
    "                  )"
   ]
  },
  {
   "cell_type": "code",
   "execution_count": 19,
   "id": "5cbcfc4e",
   "metadata": {},
   "outputs": [],
   "source": [
    "# Unfreeze, switch to dice loss, then recompile.\n",
    "for t_layer in combo_model.layers:\n",
    "    t_layer.trainable = True\n",
    "    \n",
    "# Compile model.\n",
    "opt = tf.keras.optimizers.Adam(learning_rate=0.00001)\n",
    "loss_fn = dice_coef_loss\n",
    "combo_model.compile(loss=loss_fn, \n",
    "                    optimizer=opt, \n",
    "                    metrics=[tf.keras.metrics.MeanSquaredError(name='MSE'),\n",
    "                             tf.keras.metrics.AUC(name='AUC'),\n",
    "                             ssim_loss,\n",
    "                             psnr_loss\n",
    "                            ])"
   ]
  },
  {
   "cell_type": "code",
   "execution_count": 20,
   "id": "7f6d7681",
   "metadata": {},
   "outputs": [],
   "source": [
    "# Get generators.\n",
    "batch_size = 32\n",
    "t_gen = data_generator(meta_t, len(meta_t), batch_size = batch_size)\n",
    "v_gen = data_generator(meta_v, len(meta_v), batch_size = batch_size)"
   ]
  },
  {
   "cell_type": "code",
   "execution_count": 21,
   "id": "049daeef",
   "metadata": {},
   "outputs": [
    {
     "name": "stdout",
     "output_type": "stream",
     "text": [
      "Epoch 1/40\n",
      "468/468 [==============================] - 271s 563ms/step - loss: 0.6722 - MSE: 0.0247 - AUC: 0.6701 - ssim_loss: 0.2775 - psnr_loss: -inf - val_loss: 0.5623 - val_MSE: 0.0566 - val_AUC: 0.6633 - val_ssim_loss: 0.2725 - val_psnr_loss: -inf - lr: 1.0000e-05\n",
      "Epoch 2/40\n",
      "468/468 [==============================] - 262s 560ms/step - loss: 0.5763 - MSE: 0.0812 - AUC: 0.6112 - ssim_loss: 0.2357 - psnr_loss: -inf - val_loss: 0.4715 - val_MSE: 0.2155 - val_AUC: 0.6331 - val_ssim_loss: 0.2726 - val_psnr_loss: -inf - lr: 1.0000e-05\n",
      "Epoch 3/40\n",
      "468/468 [==============================] - 266s 568ms/step - loss: 0.5208 - MSE: 0.2090 - AUC: 0.5931 - ssim_loss: 0.2337 - psnr_loss: -inf - val_loss: 0.4158 - val_MSE: 0.5646 - val_AUC: 0.6218 - val_ssim_loss: 0.2751 - val_psnr_loss: -inf - lr: 1.0000e-05\n",
      "Epoch 4/40\n",
      "468/468 [==============================] - 269s 576ms/step - loss: 0.4827 - MSE: 0.4244 - AUC: 0.5814 - ssim_loss: 0.2325 - psnr_loss: -inf - val_loss: 0.3739 - val_MSE: 1.0111 - val_AUC: 0.6086 - val_ssim_loss: 0.2753 - val_psnr_loss: -inf - lr: 1.0000e-05\n",
      "Epoch 5/40\n",
      "468/468 [==============================] - 262s 560ms/step - loss: 0.4518 - MSE: 0.7158 - AUC: 0.5743 - ssim_loss: 0.2321 - psnr_loss: -inf - val_loss: 0.3682 - val_MSE: 1.4890 - val_AUC: 0.5927 - val_ssim_loss: 0.2715 - val_psnr_loss: -inf - lr: 1.0000e-05\n",
      "Epoch 6/40\n",
      "468/468 [==============================] - 261s 558ms/step - loss: 0.4222 - MSE: 1.0965 - AUC: 0.5673 - ssim_loss: 0.2306 - psnr_loss: -inf - val_loss: 0.3393 - val_MSE: 2.4260 - val_AUC: 0.5874 - val_ssim_loss: 0.2708 - val_psnr_loss: -inf - lr: 1.0000e-05\n",
      "Epoch 7/40\n",
      "468/468 [==============================] - 261s 558ms/step - loss: 0.4038 - MSE: 1.6603 - AUC: 0.5650 - ssim_loss: 0.2306 - psnr_loss: -inf - val_loss: 0.3317 - val_MSE: 3.3531 - val_AUC: 0.5858 - val_ssim_loss: 0.2719 - val_psnr_loss: -inf - lr: 1.0000e-05\n",
      "Epoch 8/40\n",
      "468/468 [==============================] - 261s 558ms/step - loss: 0.3873 - MSE: 2.2173 - AUC: 0.5614 - ssim_loss: 0.2296 - psnr_loss: -inf - val_loss: 0.3345 - val_MSE: 4.5704 - val_AUC: 0.5782 - val_ssim_loss: 0.2729 - val_psnr_loss: -inf - lr: 1.0000e-05\n",
      "Epoch 9/40\n",
      "468/468 [==============================] - 261s 558ms/step - loss: 0.3686 - MSE: 2.8383 - AUC: 0.5576 - ssim_loss: 0.2285 - psnr_loss: -inf - val_loss: 0.3031 - val_MSE: 5.5742 - val_AUC: 0.5682 - val_ssim_loss: 0.2697 - val_psnr_loss: -inf - lr: 1.0000e-05\n",
      "Epoch 10/40\n",
      "468/468 [==============================] - 261s 558ms/step - loss: 0.3534 - MSE: 3.6964 - AUC: 0.5555 - ssim_loss: 0.2274 - psnr_loss: -inf - val_loss: 0.3131 - val_MSE: 6.4606 - val_AUC: 0.5632 - val_ssim_loss: 0.2656 - val_psnr_loss: -inf - lr: 1.0000e-05\n",
      "Epoch 11/40\n",
      "468/468 [==============================] - 261s 558ms/step - loss: 0.3382 - MSE: 4.4743 - AUC: 0.5525 - ssim_loss: 0.2258 - psnr_loss: -inf - val_loss: 0.3016 - val_MSE: 9.2663 - val_AUC: 0.5664 - val_ssim_loss: 0.2700 - val_psnr_loss: -inf - lr: 1.0000e-05\n",
      "Epoch 12/40\n",
      "468/468 [==============================] - 261s 558ms/step - loss: 0.3348 - MSE: 5.3871 - AUC: 0.5508 - ssim_loss: 0.2255 - psnr_loss: -inf - val_loss: 0.2809 - val_MSE: 11.9201 - val_AUC: 0.5640 - val_ssim_loss: 0.2692 - val_psnr_loss: -inf - lr: 1.0000e-05\n",
      "Epoch 13/40\n",
      "468/468 [==============================] - 261s 558ms/step - loss: 0.3216 - MSE: 6.7381 - AUC: 0.5504 - ssim_loss: 0.2250 - psnr_loss: -inf - val_loss: 0.2751 - val_MSE: 13.6258 - val_AUC: 0.5639 - val_ssim_loss: 0.2679 - val_psnr_loss: -inf - lr: 1.0000e-05\n",
      "Epoch 14/40\n",
      "468/468 [==============================] - 261s 557ms/step - loss: 0.2976 - MSE: 7.8334 - AUC: 0.5491 - ssim_loss: 0.2240 - psnr_loss: -inf - val_loss: 0.2858 - val_MSE: 16.4823 - val_AUC: 0.5613 - val_ssim_loss: 0.2677 - val_psnr_loss: -inf - lr: 1.0000e-05\n",
      "Epoch 15/40\n",
      "468/468 [==============================] - ETA: 0s - loss: 0.2984 - MSE: 9.5035 - AUC: 0.5496 - ssim_loss: 0.2252 - psnr_loss: -inf\n",
      "Epoch 15: ReduceLROnPlateau reducing learning rate to 9.999999747378752e-07.\n",
      "468/468 [==============================] - 261s 557ms/step - loss: 0.2984 - MSE: 9.5035 - AUC: 0.5496 - ssim_loss: 0.2252 - psnr_loss: -inf - val_loss: 0.2847 - val_MSE: 15.7323 - val_AUC: 0.5552 - val_ssim_loss: 0.2669 - val_psnr_loss: -inf - lr: 1.0000e-05\n",
      "Epoch 16/40\n",
      "468/468 [==============================] - 264s 565ms/step - loss: 0.2744 - MSE: 8.8710 - AUC: 0.5455 - ssim_loss: 0.2224 - psnr_loss: -inf - val_loss: 0.2624 - val_MSE: 17.5639 - val_AUC: 0.5585 - val_ssim_loss: 0.2662 - val_psnr_loss: -inf - lr: 1.0000e-06\n",
      "Epoch 17/40\n",
      "468/468 [==============================] - 274s 585ms/step - loss: 0.2888 - MSE: 9.2384 - AUC: 0.5460 - ssim_loss: 0.2228 - psnr_loss: -inf - val_loss: 0.2677 - val_MSE: 17.3216 - val_AUC: 0.5579 - val_ssim_loss: 0.2685 - val_psnr_loss: -inf - lr: 1.0000e-06\n",
      "Epoch 18/40\n",
      "468/468 [==============================] - 274s 585ms/step - loss: 0.2889 - MSE: 9.4944 - AUC: 0.5465 - ssim_loss: 0.2230 - psnr_loss: -inf - val_loss: 0.2546 - val_MSE: 17.2545 - val_AUC: 0.5584 - val_ssim_loss: 0.2679 - val_psnr_loss: -inf - lr: 1.0000e-06\n",
      "Epoch 19/40\n",
      "468/468 [==============================] - 274s 586ms/step - loss: 0.2900 - MSE: 9.5214 - AUC: 0.5459 - ssim_loss: 0.2229 - psnr_loss: -inf - val_loss: 0.2889 - val_MSE: 20.0994 - val_AUC: 0.5584 - val_ssim_loss: 0.2637 - val_psnr_loss: -inf - lr: 1.0000e-06\n",
      "Epoch 20/40\n",
      "468/468 [==============================] - ETA: 0s - loss: 0.2811 - MSE: 10.1076 - AUC: 0.5476 - ssim_loss: 0.2243 - psnr_loss: -inf\n",
      "Epoch 20: ReduceLROnPlateau reducing learning rate to 9.999999974752428e-08.\n",
      "468/468 [==============================] - 273s 584ms/step - loss: 0.2811 - MSE: 10.1076 - AUC: 0.5476 - ssim_loss: 0.2243 - psnr_loss: -inf - val_loss: 0.2736 - val_MSE: 18.9846 - val_AUC: 0.5598 - val_ssim_loss: 0.2714 - val_psnr_loss: -inf - lr: 1.0000e-06\n",
      "Epoch 21/40\n",
      " 12/468 [..............................] - ETA: 3:50 - loss: 0.2882 - MSE: 8.3473 - AUC: 0.5375 - ssim_loss: 0.2132 - psnr_loss: -inf"
     ]
    },
    {
     "ename": "KeyboardInterrupt",
     "evalue": "",
     "output_type": "error",
     "traceback": [
      "\u001b[1;31m---------------------------------------------------------------------------\u001b[0m",
      "\u001b[1;31mKeyboardInterrupt\u001b[0m                         Traceback (most recent call last)",
      "\u001b[1;32m~\\AppData\\Local\\Temp/ipykernel_28696/2952834103.py\u001b[0m in \u001b[0;36m<module>\u001b[1;34m\u001b[0m\n\u001b[0;32m      4\u001b[0m \u001b[1;33m\u001b[0m\u001b[0m\n\u001b[0;32m      5\u001b[0m \u001b[1;31m# Train model.\u001b[0m\u001b[1;33m\u001b[0m\u001b[1;33m\u001b[0m\u001b[0m\n\u001b[1;32m----> 6\u001b[1;33m combo_model.fit(t_gen, \n\u001b[0m\u001b[0;32m      7\u001b[0m                    \u001b[0mepochs\u001b[0m \u001b[1;33m=\u001b[0m \u001b[1;36m40\u001b[0m\u001b[1;33m,\u001b[0m\u001b[1;33m\u001b[0m\u001b[1;33m\u001b[0m\u001b[0m\n\u001b[0;32m      8\u001b[0m                    \u001b[0mverbose\u001b[0m \u001b[1;33m=\u001b[0m \u001b[1;36m1\u001b[0m\u001b[1;33m,\u001b[0m\u001b[1;33m\u001b[0m\u001b[1;33m\u001b[0m\u001b[0m\n",
      "\u001b[1;32m~\\anaconda3\\lib\\site-packages\\keras\\utils\\traceback_utils.py\u001b[0m in \u001b[0;36merror_handler\u001b[1;34m(*args, **kwargs)\u001b[0m\n\u001b[0;32m     63\u001b[0m         \u001b[0mfiltered_tb\u001b[0m \u001b[1;33m=\u001b[0m \u001b[1;32mNone\u001b[0m\u001b[1;33m\u001b[0m\u001b[1;33m\u001b[0m\u001b[0m\n\u001b[0;32m     64\u001b[0m         \u001b[1;32mtry\u001b[0m\u001b[1;33m:\u001b[0m\u001b[1;33m\u001b[0m\u001b[1;33m\u001b[0m\u001b[0m\n\u001b[1;32m---> 65\u001b[1;33m             \u001b[1;32mreturn\u001b[0m \u001b[0mfn\u001b[0m\u001b[1;33m(\u001b[0m\u001b[1;33m*\u001b[0m\u001b[0margs\u001b[0m\u001b[1;33m,\u001b[0m \u001b[1;33m**\u001b[0m\u001b[0mkwargs\u001b[0m\u001b[1;33m)\u001b[0m\u001b[1;33m\u001b[0m\u001b[1;33m\u001b[0m\u001b[0m\n\u001b[0m\u001b[0;32m     66\u001b[0m         \u001b[1;32mexcept\u001b[0m \u001b[0mException\u001b[0m \u001b[1;32mas\u001b[0m \u001b[0me\u001b[0m\u001b[1;33m:\u001b[0m\u001b[1;33m\u001b[0m\u001b[1;33m\u001b[0m\u001b[0m\n\u001b[0;32m     67\u001b[0m             \u001b[0mfiltered_tb\u001b[0m \u001b[1;33m=\u001b[0m \u001b[0m_process_traceback_frames\u001b[0m\u001b[1;33m(\u001b[0m\u001b[0me\u001b[0m\u001b[1;33m.\u001b[0m\u001b[0m__traceback__\u001b[0m\u001b[1;33m)\u001b[0m\u001b[1;33m\u001b[0m\u001b[1;33m\u001b[0m\u001b[0m\n",
      "\u001b[1;32m~\\anaconda3\\lib\\site-packages\\keras\\engine\\training.py\u001b[0m in \u001b[0;36mfit\u001b[1;34m(self, x, y, batch_size, epochs, verbose, callbacks, validation_split, validation_data, shuffle, class_weight, sample_weight, initial_epoch, steps_per_epoch, validation_steps, validation_batch_size, validation_freq, max_queue_size, workers, use_multiprocessing)\u001b[0m\n\u001b[0;32m   1568\u001b[0m                             \u001b[0mlogs\u001b[0m \u001b[1;33m=\u001b[0m \u001b[0mtmp_logs\u001b[0m\u001b[1;33m\u001b[0m\u001b[1;33m\u001b[0m\u001b[0m\n\u001b[0;32m   1569\u001b[0m                             \u001b[0mend_step\u001b[0m \u001b[1;33m=\u001b[0m \u001b[0mstep\u001b[0m \u001b[1;33m+\u001b[0m \u001b[0mdata_handler\u001b[0m\u001b[1;33m.\u001b[0m\u001b[0mstep_increment\u001b[0m\u001b[1;33m\u001b[0m\u001b[1;33m\u001b[0m\u001b[0m\n\u001b[1;32m-> 1570\u001b[1;33m                             \u001b[0mcallbacks\u001b[0m\u001b[1;33m.\u001b[0m\u001b[0mon_train_batch_end\u001b[0m\u001b[1;33m(\u001b[0m\u001b[0mend_step\u001b[0m\u001b[1;33m,\u001b[0m \u001b[0mlogs\u001b[0m\u001b[1;33m)\u001b[0m\u001b[1;33m\u001b[0m\u001b[1;33m\u001b[0m\u001b[0m\n\u001b[0m\u001b[0;32m   1571\u001b[0m                             \u001b[1;32mif\u001b[0m \u001b[0mself\u001b[0m\u001b[1;33m.\u001b[0m\u001b[0mstop_training\u001b[0m\u001b[1;33m:\u001b[0m\u001b[1;33m\u001b[0m\u001b[1;33m\u001b[0m\u001b[0m\n\u001b[0;32m   1572\u001b[0m                                 \u001b[1;32mbreak\u001b[0m\u001b[1;33m\u001b[0m\u001b[1;33m\u001b[0m\u001b[0m\n",
      "\u001b[1;32m~\\anaconda3\\lib\\site-packages\\keras\\callbacks.py\u001b[0m in \u001b[0;36mon_train_batch_end\u001b[1;34m(self, batch, logs)\u001b[0m\n\u001b[0;32m    468\u001b[0m         \"\"\"\n\u001b[0;32m    469\u001b[0m         \u001b[1;32mif\u001b[0m \u001b[0mself\u001b[0m\u001b[1;33m.\u001b[0m\u001b[0m_should_call_train_batch_hooks\u001b[0m\u001b[1;33m:\u001b[0m\u001b[1;33m\u001b[0m\u001b[1;33m\u001b[0m\u001b[0m\n\u001b[1;32m--> 470\u001b[1;33m             \u001b[0mself\u001b[0m\u001b[1;33m.\u001b[0m\u001b[0m_call_batch_hook\u001b[0m\u001b[1;33m(\u001b[0m\u001b[0mModeKeys\u001b[0m\u001b[1;33m.\u001b[0m\u001b[0mTRAIN\u001b[0m\u001b[1;33m,\u001b[0m \u001b[1;34m\"end\"\u001b[0m\u001b[1;33m,\u001b[0m \u001b[0mbatch\u001b[0m\u001b[1;33m,\u001b[0m \u001b[0mlogs\u001b[0m\u001b[1;33m=\u001b[0m\u001b[0mlogs\u001b[0m\u001b[1;33m)\u001b[0m\u001b[1;33m\u001b[0m\u001b[1;33m\u001b[0m\u001b[0m\n\u001b[0m\u001b[0;32m    471\u001b[0m \u001b[1;33m\u001b[0m\u001b[0m\n\u001b[0;32m    472\u001b[0m     \u001b[1;32mdef\u001b[0m \u001b[0mon_test_batch_begin\u001b[0m\u001b[1;33m(\u001b[0m\u001b[0mself\u001b[0m\u001b[1;33m,\u001b[0m \u001b[0mbatch\u001b[0m\u001b[1;33m,\u001b[0m \u001b[0mlogs\u001b[0m\u001b[1;33m=\u001b[0m\u001b[1;32mNone\u001b[0m\u001b[1;33m)\u001b[0m\u001b[1;33m:\u001b[0m\u001b[1;33m\u001b[0m\u001b[1;33m\u001b[0m\u001b[0m\n",
      "\u001b[1;32m~\\anaconda3\\lib\\site-packages\\keras\\callbacks.py\u001b[0m in \u001b[0;36m_call_batch_hook\u001b[1;34m(self, mode, hook, batch, logs)\u001b[0m\n\u001b[0;32m    315\u001b[0m             \u001b[0mself\u001b[0m\u001b[1;33m.\u001b[0m\u001b[0m_call_batch_begin_hook\u001b[0m\u001b[1;33m(\u001b[0m\u001b[0mmode\u001b[0m\u001b[1;33m,\u001b[0m \u001b[0mbatch\u001b[0m\u001b[1;33m,\u001b[0m \u001b[0mlogs\u001b[0m\u001b[1;33m)\u001b[0m\u001b[1;33m\u001b[0m\u001b[1;33m\u001b[0m\u001b[0m\n\u001b[0;32m    316\u001b[0m         \u001b[1;32melif\u001b[0m \u001b[0mhook\u001b[0m \u001b[1;33m==\u001b[0m \u001b[1;34m\"end\"\u001b[0m\u001b[1;33m:\u001b[0m\u001b[1;33m\u001b[0m\u001b[1;33m\u001b[0m\u001b[0m\n\u001b[1;32m--> 317\u001b[1;33m             \u001b[0mself\u001b[0m\u001b[1;33m.\u001b[0m\u001b[0m_call_batch_end_hook\u001b[0m\u001b[1;33m(\u001b[0m\u001b[0mmode\u001b[0m\u001b[1;33m,\u001b[0m \u001b[0mbatch\u001b[0m\u001b[1;33m,\u001b[0m \u001b[0mlogs\u001b[0m\u001b[1;33m)\u001b[0m\u001b[1;33m\u001b[0m\u001b[1;33m\u001b[0m\u001b[0m\n\u001b[0m\u001b[0;32m    318\u001b[0m         \u001b[1;32melse\u001b[0m\u001b[1;33m:\u001b[0m\u001b[1;33m\u001b[0m\u001b[1;33m\u001b[0m\u001b[0m\n\u001b[0;32m    319\u001b[0m             raise ValueError(\n",
      "\u001b[1;32m~\\anaconda3\\lib\\site-packages\\keras\\callbacks.py\u001b[0m in \u001b[0;36m_call_batch_end_hook\u001b[1;34m(self, mode, batch, logs)\u001b[0m\n\u001b[0;32m    338\u001b[0m             \u001b[0mself\u001b[0m\u001b[1;33m.\u001b[0m\u001b[0m_batch_times\u001b[0m\u001b[1;33m.\u001b[0m\u001b[0mappend\u001b[0m\u001b[1;33m(\u001b[0m\u001b[0mbatch_time\u001b[0m\u001b[1;33m)\u001b[0m\u001b[1;33m\u001b[0m\u001b[1;33m\u001b[0m\u001b[0m\n\u001b[0;32m    339\u001b[0m \u001b[1;33m\u001b[0m\u001b[0m\n\u001b[1;32m--> 340\u001b[1;33m         \u001b[0mself\u001b[0m\u001b[1;33m.\u001b[0m\u001b[0m_call_batch_hook_helper\u001b[0m\u001b[1;33m(\u001b[0m\u001b[0mhook_name\u001b[0m\u001b[1;33m,\u001b[0m \u001b[0mbatch\u001b[0m\u001b[1;33m,\u001b[0m \u001b[0mlogs\u001b[0m\u001b[1;33m)\u001b[0m\u001b[1;33m\u001b[0m\u001b[1;33m\u001b[0m\u001b[0m\n\u001b[0m\u001b[0;32m    341\u001b[0m \u001b[1;33m\u001b[0m\u001b[0m\n\u001b[0;32m    342\u001b[0m         \u001b[1;32mif\u001b[0m \u001b[0mlen\u001b[0m\u001b[1;33m(\u001b[0m\u001b[0mself\u001b[0m\u001b[1;33m.\u001b[0m\u001b[0m_batch_times\u001b[0m\u001b[1;33m)\u001b[0m \u001b[1;33m>=\u001b[0m \u001b[0mself\u001b[0m\u001b[1;33m.\u001b[0m\u001b[0m_num_batches_for_timing_check\u001b[0m\u001b[1;33m:\u001b[0m\u001b[1;33m\u001b[0m\u001b[1;33m\u001b[0m\u001b[0m\n",
      "\u001b[1;32m~\\anaconda3\\lib\\site-packages\\keras\\callbacks.py\u001b[0m in \u001b[0;36m_call_batch_hook_helper\u001b[1;34m(self, hook_name, batch, logs)\u001b[0m\n\u001b[0;32m    386\u001b[0m         \u001b[1;32mfor\u001b[0m \u001b[0mcallback\u001b[0m \u001b[1;32min\u001b[0m \u001b[0mself\u001b[0m\u001b[1;33m.\u001b[0m\u001b[0mcallbacks\u001b[0m\u001b[1;33m:\u001b[0m\u001b[1;33m\u001b[0m\u001b[1;33m\u001b[0m\u001b[0m\n\u001b[0;32m    387\u001b[0m             \u001b[0mhook\u001b[0m \u001b[1;33m=\u001b[0m \u001b[0mgetattr\u001b[0m\u001b[1;33m(\u001b[0m\u001b[0mcallback\u001b[0m\u001b[1;33m,\u001b[0m \u001b[0mhook_name\u001b[0m\u001b[1;33m)\u001b[0m\u001b[1;33m\u001b[0m\u001b[1;33m\u001b[0m\u001b[0m\n\u001b[1;32m--> 388\u001b[1;33m             \u001b[0mhook\u001b[0m\u001b[1;33m(\u001b[0m\u001b[0mbatch\u001b[0m\u001b[1;33m,\u001b[0m \u001b[0mlogs\u001b[0m\u001b[1;33m)\u001b[0m\u001b[1;33m\u001b[0m\u001b[1;33m\u001b[0m\u001b[0m\n\u001b[0m\u001b[0;32m    389\u001b[0m \u001b[1;33m\u001b[0m\u001b[0m\n\u001b[0;32m    390\u001b[0m         \u001b[1;32mif\u001b[0m \u001b[0mself\u001b[0m\u001b[1;33m.\u001b[0m\u001b[0m_check_timing\u001b[0m\u001b[1;33m:\u001b[0m\u001b[1;33m\u001b[0m\u001b[1;33m\u001b[0m\u001b[0m\n",
      "\u001b[1;32m~\\anaconda3\\lib\\site-packages\\keras\\callbacks.py\u001b[0m in \u001b[0;36mon_train_batch_end\u001b[1;34m(self, batch, logs)\u001b[0m\n\u001b[0;32m   1079\u001b[0m \u001b[1;33m\u001b[0m\u001b[0m\n\u001b[0;32m   1080\u001b[0m     \u001b[1;32mdef\u001b[0m \u001b[0mon_train_batch_end\u001b[0m\u001b[1;33m(\u001b[0m\u001b[0mself\u001b[0m\u001b[1;33m,\u001b[0m \u001b[0mbatch\u001b[0m\u001b[1;33m,\u001b[0m \u001b[0mlogs\u001b[0m\u001b[1;33m=\u001b[0m\u001b[1;32mNone\u001b[0m\u001b[1;33m)\u001b[0m\u001b[1;33m:\u001b[0m\u001b[1;33m\u001b[0m\u001b[1;33m\u001b[0m\u001b[0m\n\u001b[1;32m-> 1081\u001b[1;33m         \u001b[0mself\u001b[0m\u001b[1;33m.\u001b[0m\u001b[0m_batch_update_progbar\u001b[0m\u001b[1;33m(\u001b[0m\u001b[0mbatch\u001b[0m\u001b[1;33m,\u001b[0m \u001b[0mlogs\u001b[0m\u001b[1;33m)\u001b[0m\u001b[1;33m\u001b[0m\u001b[1;33m\u001b[0m\u001b[0m\n\u001b[0m\u001b[0;32m   1082\u001b[0m \u001b[1;33m\u001b[0m\u001b[0m\n\u001b[0;32m   1083\u001b[0m     \u001b[1;32mdef\u001b[0m \u001b[0mon_test_batch_end\u001b[0m\u001b[1;33m(\u001b[0m\u001b[0mself\u001b[0m\u001b[1;33m,\u001b[0m \u001b[0mbatch\u001b[0m\u001b[1;33m,\u001b[0m \u001b[0mlogs\u001b[0m\u001b[1;33m=\u001b[0m\u001b[1;32mNone\u001b[0m\u001b[1;33m)\u001b[0m\u001b[1;33m:\u001b[0m\u001b[1;33m\u001b[0m\u001b[1;33m\u001b[0m\u001b[0m\n",
      "\u001b[1;32m~\\anaconda3\\lib\\site-packages\\keras\\callbacks.py\u001b[0m in \u001b[0;36m_batch_update_progbar\u001b[1;34m(self, batch, logs)\u001b[0m\n\u001b[0;32m   1155\u001b[0m         \u001b[1;32mif\u001b[0m \u001b[0mself\u001b[0m\u001b[1;33m.\u001b[0m\u001b[0mverbose\u001b[0m \u001b[1;33m==\u001b[0m \u001b[1;36m1\u001b[0m\u001b[1;33m:\u001b[0m\u001b[1;33m\u001b[0m\u001b[1;33m\u001b[0m\u001b[0m\n\u001b[0;32m   1156\u001b[0m             \u001b[1;31m# Only block async when verbose = 1.\u001b[0m\u001b[1;33m\u001b[0m\u001b[1;33m\u001b[0m\u001b[0m\n\u001b[1;32m-> 1157\u001b[1;33m             \u001b[0mlogs\u001b[0m \u001b[1;33m=\u001b[0m \u001b[0mtf_utils\u001b[0m\u001b[1;33m.\u001b[0m\u001b[0msync_to_numpy_or_python_type\u001b[0m\u001b[1;33m(\u001b[0m\u001b[0mlogs\u001b[0m\u001b[1;33m)\u001b[0m\u001b[1;33m\u001b[0m\u001b[1;33m\u001b[0m\u001b[0m\n\u001b[0m\u001b[0;32m   1158\u001b[0m             \u001b[0mself\u001b[0m\u001b[1;33m.\u001b[0m\u001b[0mprogbar\u001b[0m\u001b[1;33m.\u001b[0m\u001b[0mupdate\u001b[0m\u001b[1;33m(\u001b[0m\u001b[0mself\u001b[0m\u001b[1;33m.\u001b[0m\u001b[0mseen\u001b[0m\u001b[1;33m,\u001b[0m \u001b[0mlist\u001b[0m\u001b[1;33m(\u001b[0m\u001b[0mlogs\u001b[0m\u001b[1;33m.\u001b[0m\u001b[0mitems\u001b[0m\u001b[1;33m(\u001b[0m\u001b[1;33m)\u001b[0m\u001b[1;33m)\u001b[0m\u001b[1;33m,\u001b[0m \u001b[0mfinalize\u001b[0m\u001b[1;33m=\u001b[0m\u001b[1;32mFalse\u001b[0m\u001b[1;33m)\u001b[0m\u001b[1;33m\u001b[0m\u001b[1;33m\u001b[0m\u001b[0m\n\u001b[0;32m   1159\u001b[0m \u001b[1;33m\u001b[0m\u001b[0m\n",
      "\u001b[1;32m~\\anaconda3\\lib\\site-packages\\keras\\utils\\tf_utils.py\u001b[0m in \u001b[0;36msync_to_numpy_or_python_type\u001b[1;34m(tensors)\u001b[0m\n\u001b[0;32m    633\u001b[0m         \u001b[1;32mreturn\u001b[0m \u001b[0mt\u001b[0m\u001b[1;33m.\u001b[0m\u001b[0mitem\u001b[0m\u001b[1;33m(\u001b[0m\u001b[1;33m)\u001b[0m \u001b[1;32mif\u001b[0m \u001b[0mnp\u001b[0m\u001b[1;33m.\u001b[0m\u001b[0mndim\u001b[0m\u001b[1;33m(\u001b[0m\u001b[0mt\u001b[0m\u001b[1;33m)\u001b[0m \u001b[1;33m==\u001b[0m \u001b[1;36m0\u001b[0m \u001b[1;32melse\u001b[0m \u001b[0mt\u001b[0m\u001b[1;33m\u001b[0m\u001b[1;33m\u001b[0m\u001b[0m\n\u001b[0;32m    634\u001b[0m \u001b[1;33m\u001b[0m\u001b[0m\n\u001b[1;32m--> 635\u001b[1;33m     \u001b[1;32mreturn\u001b[0m \u001b[0mtf\u001b[0m\u001b[1;33m.\u001b[0m\u001b[0mnest\u001b[0m\u001b[1;33m.\u001b[0m\u001b[0mmap_structure\u001b[0m\u001b[1;33m(\u001b[0m\u001b[0m_to_single_numpy_or_python_type\u001b[0m\u001b[1;33m,\u001b[0m \u001b[0mtensors\u001b[0m\u001b[1;33m)\u001b[0m\u001b[1;33m\u001b[0m\u001b[1;33m\u001b[0m\u001b[0m\n\u001b[0m\u001b[0;32m    636\u001b[0m \u001b[1;33m\u001b[0m\u001b[0m\n\u001b[0;32m    637\u001b[0m \u001b[1;33m\u001b[0m\u001b[0m\n",
      "\u001b[1;32m~\\anaconda3\\lib\\site-packages\\tensorflow\\python\\util\\nest.py\u001b[0m in \u001b[0;36mmap_structure\u001b[1;34m(func, *structure, **kwargs)\u001b[0m\n\u001b[0;32m    915\u001b[0m \u001b[1;33m\u001b[0m\u001b[0m\n\u001b[0;32m    916\u001b[0m   return pack_sequence_as(\n\u001b[1;32m--> 917\u001b[1;33m       \u001b[0mstructure\u001b[0m\u001b[1;33m[\u001b[0m\u001b[1;36m0\u001b[0m\u001b[1;33m]\u001b[0m\u001b[1;33m,\u001b[0m \u001b[1;33m[\u001b[0m\u001b[0mfunc\u001b[0m\u001b[1;33m(\u001b[0m\u001b[1;33m*\u001b[0m\u001b[0mx\u001b[0m\u001b[1;33m)\u001b[0m \u001b[1;32mfor\u001b[0m \u001b[0mx\u001b[0m \u001b[1;32min\u001b[0m \u001b[0mentries\u001b[0m\u001b[1;33m]\u001b[0m\u001b[1;33m,\u001b[0m\u001b[1;33m\u001b[0m\u001b[1;33m\u001b[0m\u001b[0m\n\u001b[0m\u001b[0;32m    918\u001b[0m       expand_composites=expand_composites)\n\u001b[0;32m    919\u001b[0m \u001b[1;33m\u001b[0m\u001b[0m\n",
      "\u001b[1;32m~\\anaconda3\\lib\\site-packages\\tensorflow\\python\\util\\nest.py\u001b[0m in \u001b[0;36m<listcomp>\u001b[1;34m(.0)\u001b[0m\n\u001b[0;32m    915\u001b[0m \u001b[1;33m\u001b[0m\u001b[0m\n\u001b[0;32m    916\u001b[0m   return pack_sequence_as(\n\u001b[1;32m--> 917\u001b[1;33m       \u001b[0mstructure\u001b[0m\u001b[1;33m[\u001b[0m\u001b[1;36m0\u001b[0m\u001b[1;33m]\u001b[0m\u001b[1;33m,\u001b[0m \u001b[1;33m[\u001b[0m\u001b[0mfunc\u001b[0m\u001b[1;33m(\u001b[0m\u001b[1;33m*\u001b[0m\u001b[0mx\u001b[0m\u001b[1;33m)\u001b[0m \u001b[1;32mfor\u001b[0m \u001b[0mx\u001b[0m \u001b[1;32min\u001b[0m \u001b[0mentries\u001b[0m\u001b[1;33m]\u001b[0m\u001b[1;33m,\u001b[0m\u001b[1;33m\u001b[0m\u001b[1;33m\u001b[0m\u001b[0m\n\u001b[0m\u001b[0;32m    918\u001b[0m       expand_composites=expand_composites)\n\u001b[0;32m    919\u001b[0m \u001b[1;33m\u001b[0m\u001b[0m\n",
      "\u001b[1;32m~\\anaconda3\\lib\\site-packages\\keras\\utils\\tf_utils.py\u001b[0m in \u001b[0;36m_to_single_numpy_or_python_type\u001b[1;34m(t)\u001b[0m\n\u001b[0;32m    626\u001b[0m         \u001b[1;31m# Don't turn ragged or sparse tensors to NumPy.\u001b[0m\u001b[1;33m\u001b[0m\u001b[1;33m\u001b[0m\u001b[0m\n\u001b[0;32m    627\u001b[0m         \u001b[1;32mif\u001b[0m \u001b[0misinstance\u001b[0m\u001b[1;33m(\u001b[0m\u001b[0mt\u001b[0m\u001b[1;33m,\u001b[0m \u001b[0mtf\u001b[0m\u001b[1;33m.\u001b[0m\u001b[0mTensor\u001b[0m\u001b[1;33m)\u001b[0m\u001b[1;33m:\u001b[0m\u001b[1;33m\u001b[0m\u001b[1;33m\u001b[0m\u001b[0m\n\u001b[1;32m--> 628\u001b[1;33m             \u001b[0mt\u001b[0m \u001b[1;33m=\u001b[0m \u001b[0mt\u001b[0m\u001b[1;33m.\u001b[0m\u001b[0mnumpy\u001b[0m\u001b[1;33m(\u001b[0m\u001b[1;33m)\u001b[0m\u001b[1;33m\u001b[0m\u001b[1;33m\u001b[0m\u001b[0m\n\u001b[0m\u001b[0;32m    629\u001b[0m         \u001b[1;31m# Strings, ragged and sparse tensors don't have .item(). Return them\u001b[0m\u001b[1;33m\u001b[0m\u001b[1;33m\u001b[0m\u001b[0m\n\u001b[0;32m    630\u001b[0m         \u001b[1;31m# as-is.\u001b[0m\u001b[1;33m\u001b[0m\u001b[1;33m\u001b[0m\u001b[0m\n",
      "\u001b[1;32m~\\anaconda3\\lib\\site-packages\\tensorflow\\python\\framework\\ops.py\u001b[0m in \u001b[0;36mnumpy\u001b[1;34m(self)\u001b[0m\n\u001b[0;32m   1155\u001b[0m     \"\"\"\n\u001b[0;32m   1156\u001b[0m     \u001b[1;31m# TODO(slebedev): Consider avoiding a copy for non-CPU or remote tensors.\u001b[0m\u001b[1;33m\u001b[0m\u001b[1;33m\u001b[0m\u001b[0m\n\u001b[1;32m-> 1157\u001b[1;33m     \u001b[0mmaybe_arr\u001b[0m \u001b[1;33m=\u001b[0m \u001b[0mself\u001b[0m\u001b[1;33m.\u001b[0m\u001b[0m_numpy\u001b[0m\u001b[1;33m(\u001b[0m\u001b[1;33m)\u001b[0m  \u001b[1;31m# pylint: disable=protected-access\u001b[0m\u001b[1;33m\u001b[0m\u001b[1;33m\u001b[0m\u001b[0m\n\u001b[0m\u001b[0;32m   1158\u001b[0m     \u001b[1;32mreturn\u001b[0m \u001b[0mmaybe_arr\u001b[0m\u001b[1;33m.\u001b[0m\u001b[0mcopy\u001b[0m\u001b[1;33m(\u001b[0m\u001b[1;33m)\u001b[0m \u001b[1;32mif\u001b[0m \u001b[0misinstance\u001b[0m\u001b[1;33m(\u001b[0m\u001b[0mmaybe_arr\u001b[0m\u001b[1;33m,\u001b[0m \u001b[0mnp\u001b[0m\u001b[1;33m.\u001b[0m\u001b[0mndarray\u001b[0m\u001b[1;33m)\u001b[0m \u001b[1;32melse\u001b[0m \u001b[0mmaybe_arr\u001b[0m\u001b[1;33m\u001b[0m\u001b[1;33m\u001b[0m\u001b[0m\n\u001b[0;32m   1159\u001b[0m \u001b[1;33m\u001b[0m\u001b[0m\n",
      "\u001b[1;32m~\\anaconda3\\lib\\site-packages\\tensorflow\\python\\framework\\ops.py\u001b[0m in \u001b[0;36m_numpy\u001b[1;34m(self)\u001b[0m\n\u001b[0;32m   1121\u001b[0m   \u001b[1;32mdef\u001b[0m \u001b[0m_numpy\u001b[0m\u001b[1;33m(\u001b[0m\u001b[0mself\u001b[0m\u001b[1;33m)\u001b[0m\u001b[1;33m:\u001b[0m\u001b[1;33m\u001b[0m\u001b[1;33m\u001b[0m\u001b[0m\n\u001b[0;32m   1122\u001b[0m     \u001b[1;32mtry\u001b[0m\u001b[1;33m:\u001b[0m\u001b[1;33m\u001b[0m\u001b[1;33m\u001b[0m\u001b[0m\n\u001b[1;32m-> 1123\u001b[1;33m       \u001b[1;32mreturn\u001b[0m \u001b[0mself\u001b[0m\u001b[1;33m.\u001b[0m\u001b[0m_numpy_internal\u001b[0m\u001b[1;33m(\u001b[0m\u001b[1;33m)\u001b[0m\u001b[1;33m\u001b[0m\u001b[1;33m\u001b[0m\u001b[0m\n\u001b[0m\u001b[0;32m   1124\u001b[0m     \u001b[1;32mexcept\u001b[0m \u001b[0mcore\u001b[0m\u001b[1;33m.\u001b[0m\u001b[0m_NotOkStatusException\u001b[0m \u001b[1;32mas\u001b[0m \u001b[0me\u001b[0m\u001b[1;33m:\u001b[0m  \u001b[1;31m# pylint: disable=protected-access\u001b[0m\u001b[1;33m\u001b[0m\u001b[1;33m\u001b[0m\u001b[0m\n\u001b[0;32m   1125\u001b[0m       \u001b[1;32mraise\u001b[0m \u001b[0mcore\u001b[0m\u001b[1;33m.\u001b[0m\u001b[0m_status_to_exception\u001b[0m\u001b[1;33m(\u001b[0m\u001b[0me\u001b[0m\u001b[1;33m)\u001b[0m \u001b[1;32mfrom\u001b[0m \u001b[1;32mNone\u001b[0m  \u001b[1;31m# pylint: disable=protected-access\u001b[0m\u001b[1;33m\u001b[0m\u001b[1;33m\u001b[0m\u001b[0m\n",
      "\u001b[1;31mKeyboardInterrupt\u001b[0m: "
     ]
    }
   ],
   "source": [
    "# Adding callbacks.\n",
    "early_stopping = tf.keras.callbacks.EarlyStopping(monitor='val_loss', patience=5, verbose=1, restore_best_weights=True)\n",
    "reduce_lr = tf.keras.callbacks.ReduceLROnPlateau(monitor='val_loss', patience=2, verbose=1)\n",
    "\n",
    "# Train model.\n",
    "combo_model.fit(t_gen, \n",
    "                   epochs = 40, \n",
    "                   verbose = 1, \n",
    "                   batch_size = batch_size,\n",
    "                   validation_data = v_gen,\n",
    "                   callbacks = [early_stopping, reduce_lr],\n",
    "                   steps_per_epoch = len(meta_t) // batch_size,\n",
    "                   validation_steps = len(meta_v) // batch_size\n",
    "                  )"
   ]
  },
  {
   "cell_type": "markdown",
   "id": "892233d3",
   "metadata": {},
   "source": [
    "### Testing Fire Encoder on VIIRS Fire Data"
   ]
  },
  {
   "cell_type": "code",
   "execution_count": 12,
   "id": "57059112",
   "metadata": {},
   "outputs": [],
   "source": [
    "# Load metadata on yearly datasets.\n",
    "df_2017 = pd.read_csv('4fold_super/2017/meta.csv')\n",
    "df_2018 = pd.read_csv('4fold_super/2018/meta.csv')\n",
    "df_2019 = pd.read_csv('4fold_super/2019/meta.csv')\n",
    "df_2020 = pd.read_csv('4fold_super/2020/meta.csv')\n",
    "\n",
    "# Combine into desired train/val split.\n",
    "meta_t = pd.concat([df_2017,df_2018,df_2019]).reset_index()\n",
    "meta_v = df_2020"
   ]
  },
  {
   "cell_type": "code",
   "execution_count": 18,
   "id": "627d14ff",
   "metadata": {},
   "outputs": [],
   "source": [
    "x_train, d_train, v_train, y_train, x_val, d_val, v_val, y_val = [],[],[],[],[],[],[],[]\n",
    "for x in range(0,len(meta_t)):\n",
    "    x_train.append(np.load(meta_t.iloc[x].features_2d)[:,:,:,:1])\n",
    "    d_train.append(np.load(meta_t.iloc[x].features_2d)[:,0,:,1:2])\n",
    "    v_train.append(np.load(meta_t.iloc[x].features_1d))\n",
    "    y_train.append(np.load(meta_t.iloc[x].labels))\n",
    "\n",
    "for x in range(0,len(meta_v)):\n",
    "    x_val.append(np.load(meta_v.iloc[x].features_2d)[:,:,:,:1])\n",
    "    d_val.append(np.load(meta_v.iloc[x].features_2d)[:,0,:,1:2])\n",
    "    v_val.append(np.load(meta_v.iloc[x].features_1d))\n",
    "    y_val.append(np.load(meta_v.iloc[x].labels))\n",
    "    \n",
    "    \n",
    "x_train = np.stack(x_train)\n",
    "d_train = np.stack(d_train)\n",
    "v_train = np.stack(v_train)\n",
    "y_train = np.stack(y_train)   \n",
    "x_val = np.stack(x_val)\n",
    "d_val = np.stack(d_val)\n",
    "v_val = np.stack(v_val)\n",
    "y_val = np.stack(y_val)\n",
    "\n",
    "x_train = np.minimum(x_train,1)\n",
    "d_train = np.minimum(d_train,1)\n",
    "y_train = np.minimum(y_train,1)\n",
    "y_train = np.moveaxis(y_train, 1, -1)\n",
    "\n",
    "x_val = np.minimum(x_val,1)\n",
    "d_val = np.minimum(x_val,1)\n",
    "y_val = np.minimum(y_val,1)\n",
    "y_val = np.moveaxis(y_val, 1, -1)"
   ]
  },
  {
   "cell_type": "code",
   "execution_count": 26,
   "id": "82714d92",
   "metadata": {},
   "outputs": [],
   "source": [
    "#Reload model from Phase 1.\n",
    "#combo_model = tf.keras.models.load_model('Models/MINST_Agg_01', custom_objects = {'ssim_loss': ssim_loss, 'psnr_loss': psnr_loss})"
   ]
  },
  {
   "cell_type": "code",
   "execution_count": 19,
   "id": "87c26ce2",
   "metadata": {},
   "outputs": [
    {
     "name": "stdout",
     "output_type": "stream",
     "text": [
      "157/157 [==============================] - 41s 260ms/step\n"
     ]
    }
   ],
   "source": [
    "t_preds = combo_model.predict([x_val, d_val[:,0], np.expand_dims(v_val, [2,3])])"
   ]
  },
  {
   "cell_type": "code",
   "execution_count": 70,
   "id": "46e0ab05",
   "metadata": {},
   "outputs": [
    {
     "name": "stdout",
     "output_type": "stream",
     "text": [
      "Sample Prediction Metrics:\n",
      "SSIM: 0.011483428999781609 \n",
      "PSNR: 0.12909388542175293 \n",
      "MSE: 0.051175386 \n",
      "Min Px: 0.0 \n",
      "Max Px: 0.80625504 \n",
      "Mean Px: 0.16635099 \n",
      "Sample ID: 291\n"
     ]
    },
    {
     "data": {
      "image/png": "[encoded data removed]",
      "text/plain": [
       "<Figure size 2304x576 with 11 Axes>"
      ]
     },
     "metadata": {
      "needs_background": "light"
     },
     "output_type": "display_data"
    },
    {
     "data": {
      "image/png": "[encoded data removed]",
      "text/plain": [
       "<Figure size 2304x1152 with 3 Axes>"
      ]
     },
     "metadata": {
      "needs_background": "light"
     },
     "output_type": "display_data"
    }
   ],
   "source": [
    "sample_idx = np.random.randint(0, len(x_val))\n",
    "\n",
    "# Construct a figure for the original and new frames.\n",
    "fig, axes = plt.subplots(1, 11, figsize=(32, 8))\n",
    "\n",
    "# Plot the fire frames.\n",
    "for idx, ax in enumerate(axes):\n",
    "    if idx == 10:\n",
    "        ax.imshow(np.squeeze(y_val[sample_idx]), cmap=\"gray\")\n",
    "        ax.set_title('Target')\n",
    "        ax.title.set_fontsize(30)\n",
    "        ax.axis(\"off\")\n",
    "    else:\n",
    "        ax.imshow(np.squeeze(x_val[sample_idx][idx]), cmap=\"gray\")\n",
    "        ax.set_title(f\"Frame {idx + 1}\")\n",
    "        ax.title.set_fontsize(30)\n",
    "        ax.axis(\"off\")\n",
    "\n",
    "fig, axes = plt.subplots(1, 3, figsize=(32, 16))\n",
    "axes[0].imshow(np.squeeze(x_val[sample_idx][9]), cmap=\"gray\")\n",
    "axes[0].set_title('Last Frame')\n",
    "axes[0].axis(\"off\")\n",
    "axes[0].title.set_fontsize(60)\n",
    "axes[1].imshow(np.squeeze(y_val[sample_idx]), cmap=\"gray\")\n",
    "axes[1].set_title('Target')\n",
    "axes[1].axis(\"off\")\n",
    "axes[1].title.set_fontsize(60)\n",
    "axes[2].imshow(np.squeeze(t_preds[sample_idx]), cmap=\"gray\")\n",
    "axes[2].set_title('Prediction')\n",
    "axes[2].axis(\"off\")\n",
    "axes[2].title.set_fontsize(60)\n",
    "\n",
    "t_preds[sample_idx].min(), t_preds[sample_idx].max(), t_preds[sample_idx].mean(),\n",
    "print('Sample Prediction Metrics:'\n",
    "      '\\nSSIM:', float(tf.image.ssim(tf.cast(y_val[sample_idx], dtype='float32'), t_preds[sample_idx], 1.0)),\n",
    "      '\\nPSNR:', float(tf.image.psnr(tf.cast(y_val[sample_idx], dtype='float32'), t_preds[sample_idx], 1.0) / 100),\n",
    "      '\\nMSE:', np.mean(tf.keras.metrics.mean_squared_error(y_val[sample_idx], t_preds[sample_idx])),\n",
    "      '\\nMin Px:', t_preds[sample_idx].min(),\n",
    "      '\\nMax Px:', t_preds[sample_idx].max(),\n",
    "      '\\nMean Px:', t_preds[sample_idx].mean(),\n",
    "      '\\nSample ID:', int(sample_idx)\n",
    "     )"
   ]
  },
  {
   "cell_type": "code",
   "execution_count": 21,
   "id": "34163cba",
   "metadata": {},
   "outputs": [
    {
     "name": "stdout",
     "output_type": "stream",
     "text": [
      "Model Prediction Report\n",
      "SSIM: 0.008481416\n",
      "PSNR: 0.10930078506469726\n",
      "MSE: 0.098883234\n"
     ]
    }
   ],
   "source": [
    "# Compute and show set scores.\n",
    "set_ssim = tf.image.ssim(tf.cast(y_val, dtype='float32'), t_preds, 1.0)\n",
    "set_psnr = tf.image.psnr(tf.cast(y_val, dtype='float32'), t_preds, 1.0)\n",
    "set_mse = tf.keras.metrics.mean_squared_error(y_val, t_preds)\n",
    "print('Model Prediction Report')\n",
    "print('SSIM:', np.mean(set_ssim))\n",
    "print('PSNR:', np.mean(set_psnr) / 100)\n",
    "print('MSE:', np.mean(set_mse))"
   ]
  },
  {
   "cell_type": "code",
   "execution_count": 71,
   "id": "02aaa6b3",
   "metadata": {},
   "outputs": [
    {
     "name": "stderr",
     "output_type": "stream",
     "text": [
      "WARNING:absl:Found untraced functions such as _jit_compiled_convolution_op, _jit_compiled_convolution_op, _jit_compiled_convolution_op, _jit_compiled_convolution_op, _jit_compiled_convolution_op while saving (showing 5 of 11). These functions will not be directly callable after loading.\n"
     ]
    },
    {
     "name": "stdout",
     "output_type": "stream",
     "text": [
      "INFO:tensorflow:Assets written to: Models/Combo_Blur\\assets\n"
     ]
    },
    {
     "name": "stderr",
     "output_type": "stream",
     "text": [
      "INFO:tensorflow:Assets written to: Models/Combo_Blur\\assets\n"
     ]
    }
   ],
   "source": [
    "combo_model.save('Models/Combo_Blur')"
   ]
  }
 ],
 "metadata": {
  "kernelspec": {
   "display_name": "Python 3 (ipykernel)",
   "language": "python",
   "name": "python3"
  },
  "language_info": {
   "codemirror_mode": {
    "name": "ipython",
    "version": 3
   },
   "file_extension": ".py",
   "mimetype": "text/x-python",
   "name": "python",
   "nbconvert_exporter": "python",
   "pygments_lexer": "ipython3",
   "version": "3.9.7"
  }
 },
 "nbformat": 4,
 "nbformat_minor": 5
}
