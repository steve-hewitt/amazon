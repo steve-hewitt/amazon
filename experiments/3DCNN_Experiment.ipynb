{
 "cells": [
  {
   "cell_type": "markdown",
   "metadata": {},
   "source": [
    "#### Import block"
   ]
  },
  {
   "cell_type": "code",
   "execution_count": 1,
   "metadata": {},
   "outputs": [],
   "source": [
    "import pandas as pd\n",
    "import numpy as np\n",
    "import tensorflow as tf\n",
    "\n",
    "from tensorflow.keras import layers\n",
    "from tensorflow.keras.models import Sequential\n",
    "from tensorflow.keras.initializers import Constant"
   ]
  },
  {
   "cell_type": "code",
   "execution_count": 2,
   "metadata": {},
   "outputs": [
    {
     "data": {
      "text/plain": [
       "[PhysicalDevice(name='/physical_device:GPU:0', device_type='GPU')]"
      ]
     },
     "execution_count": 2,
     "metadata": {},
     "output_type": "execute_result"
    }
   ],
   "source": [
    "# Check for available GPU.\n",
    "tf.config.list_physical_devices('GPU')"
   ]
  },
  {
   "cell_type": "markdown",
   "metadata": {},
   "source": [
    "#### Function definitions"
   ]
  },
  {
   "cell_type": "code",
   "execution_count": 3,
   "metadata": {},
   "outputs": [],
   "source": [
    "# Loader functions\n",
    "# Inspiration: https://towardsdatascience.com/writing-custom-keras-generators-fe815d992c5a\n",
    "\n",
    "def get_input(path):\n",
    "    # Load array.\n",
    "    t_input = np.load(path)\n",
    "    # Pad to even number of pixels\n",
    "    t_input = np.pad(t_input, [(0,0),(0,1),(0,1)])\n",
    "    # Resize to include a channel dimension.\n",
    "    t_input = tf.expand_dims(t_input, axis = -1)\n",
    "    return t_input\n",
    "\n",
    "def get_output(path):\n",
    "    # Load array.\n",
    "    t_output = np.load(path)\n",
    "    # Pad to even number of pixels\n",
    "    t_output = np.pad(t_output, [(0,0),(0,1),(0,1)])\n",
    "    # Resize to include a channel dimension.\n",
    "    t_output = tf.expand_dims(t_output, axis = -1)\n",
    "    return t_output\n",
    "\n",
    "def data_generator(samples, batch_size = 64):\n",
    "    \n",
    "    while True:\n",
    "        # Select files (paths/indices) for the batch\n",
    "        batch_samples  = np.random.choice(a = samples.index, \n",
    "                                      size = batch_size)\n",
    "        batch_input  = []\n",
    "        batch_output = [] \n",
    "\n",
    "        # Read in each input, perform preprocessing and get labels\n",
    "        for sample in batch_samples:\n",
    "          input = get_input(samples.loc[sample].features)\n",
    "          output = get_output(samples.loc[sample].labels)\n",
    "\n",
    "          batch_input += [input]\n",
    "          batch_output += [output]\n",
    "        # Return a tuple of (input, output) to feed the network\n",
    "        batch_x = np.array(batch_input)\n",
    "        batch_y = np.array(batch_output)\n",
    "        \n",
    "        yield(batch_x, batch_y)\n"
   ]
  },
  {
   "cell_type": "code",
   "execution_count": 4,
   "metadata": {},
   "outputs": [
    {
     "data": {
      "text/html": [
       "<div>\n",
       "<style scoped>\n",
       "    .dataframe tbody tr th:only-of-type {\n",
       "        vertical-align: middle;\n",
       "    }\n",
       "\n",
       "    .dataframe tbody tr th {\n",
       "        vertical-align: top;\n",
       "    }\n",
       "\n",
       "    .dataframe thead th {\n",
       "        text-align: right;\n",
       "    }\n",
       "</style>\n",
       "<table border=\"1\" class=\"dataframe\">\n",
       "  <thead>\n",
       "    <tr style=\"text-align: right;\">\n",
       "      <th></th>\n",
       "      <th>Unnamed: 0</th>\n",
       "      <th>Lon</th>\n",
       "      <th>Lat</th>\n",
       "      <th>Date</th>\n",
       "      <th>features</th>\n",
       "      <th>labels</th>\n",
       "    </tr>\n",
       "  </thead>\n",
       "  <tbody>\n",
       "    <tr>\n",
       "      <th>0</th>\n",
       "      <td>356962</td>\n",
       "      <td>-53.345535</td>\n",
       "      <td>-6.535028</td>\n",
       "      <td>2017-07-30</td>\n",
       "      <td>Sample_Dataset/train/features/356962.npy</td>\n",
       "      <td>Sample_Dataset/train/labels/356962.npy</td>\n",
       "    </tr>\n",
       "    <tr>\n",
       "      <th>1</th>\n",
       "      <td>546517</td>\n",
       "      <td>-47.329685</td>\n",
       "      <td>-8.260676</td>\n",
       "      <td>2017-08-20</td>\n",
       "      <td>Sample_Dataset/train/features/546517.npy</td>\n",
       "      <td>Sample_Dataset/train/labels/546517.npy</td>\n",
       "    </tr>\n",
       "    <tr>\n",
       "      <th>2</th>\n",
       "      <td>799359</td>\n",
       "      <td>-50.967861</td>\n",
       "      <td>-8.255809</td>\n",
       "      <td>2017-09-04</td>\n",
       "      <td>Sample_Dataset/train/features/799359.npy</td>\n",
       "      <td>Sample_Dataset/train/labels/799359.npy</td>\n",
       "    </tr>\n",
       "    <tr>\n",
       "      <th>3</th>\n",
       "      <td>714590</td>\n",
       "      <td>-66.144379</td>\n",
       "      <td>-12.624272</td>\n",
       "      <td>2017-08-31</td>\n",
       "      <td>Sample_Dataset/train/features/714590.npy</td>\n",
       "      <td>Sample_Dataset/train/labels/714590.npy</td>\n",
       "    </tr>\n",
       "    <tr>\n",
       "      <th>4</th>\n",
       "      <td>240012</td>\n",
       "      <td>-48.350338</td>\n",
       "      <td>-11.838207</td>\n",
       "      <td>2017-07-14</td>\n",
       "      <td>Sample_Dataset/train/features/240012.npy</td>\n",
       "      <td>Sample_Dataset/train/labels/240012.npy</td>\n",
       "    </tr>\n",
       "    <tr>\n",
       "      <th>...</th>\n",
       "      <td>...</td>\n",
       "      <td>...</td>\n",
       "      <td>...</td>\n",
       "      <td>...</td>\n",
       "      <td>...</td>\n",
       "      <td>...</td>\n",
       "    </tr>\n",
       "    <tr>\n",
       "      <th>1294</th>\n",
       "      <td>436681</td>\n",
       "      <td>-65.542587</td>\n",
       "      <td>-13.089134</td>\n",
       "      <td>2017-08-08</td>\n",
       "      <td>Sample_Dataset/train/features/436681.npy</td>\n",
       "      <td>Sample_Dataset/train/labels/436681.npy</td>\n",
       "    </tr>\n",
       "    <tr>\n",
       "      <th>1295</th>\n",
       "      <td>2086150</td>\n",
       "      <td>-61.070286</td>\n",
       "      <td>-23.014650</td>\n",
       "      <td>2017-12-13</td>\n",
       "      <td>Sample_Dataset/train/features/2086150.npy</td>\n",
       "      <td>Sample_Dataset/train/labels/2086150.npy</td>\n",
       "    </tr>\n",
       "    <tr>\n",
       "      <th>1296</th>\n",
       "      <td>1733368</td>\n",
       "      <td>-40.953232</td>\n",
       "      <td>-6.312128</td>\n",
       "      <td>2017-10-22</td>\n",
       "      <td>Sample_Dataset/train/features/1733368.npy</td>\n",
       "      <td>Sample_Dataset/train/labels/1733368.npy</td>\n",
       "    </tr>\n",
       "    <tr>\n",
       "      <th>1297</th>\n",
       "      <td>1359573</td>\n",
       "      <td>-49.811127</td>\n",
       "      <td>-8.767807</td>\n",
       "      <td>2017-09-25</td>\n",
       "      <td>Sample_Dataset/train/features/1359573.npy</td>\n",
       "      <td>Sample_Dataset/train/labels/1359573.npy</td>\n",
       "    </tr>\n",
       "    <tr>\n",
       "      <th>1298</th>\n",
       "      <td>1653010</td>\n",
       "      <td>-55.871208</td>\n",
       "      <td>-21.665943</td>\n",
       "      <td>2017-10-17</td>\n",
       "      <td>Sample_Dataset/train/features/1653010.npy</td>\n",
       "      <td>Sample_Dataset/train/labels/1653010.npy</td>\n",
       "    </tr>\n",
       "  </tbody>\n",
       "</table>\n",
       "<p>1299 rows × 6 columns</p>\n",
       "</div>"
      ],
      "text/plain": [
       "      Unnamed: 0        Lon        Lat        Date  \\\n",
       "0         356962 -53.345535  -6.535028  2017-07-30   \n",
       "1         546517 -47.329685  -8.260676  2017-08-20   \n",
       "2         799359 -50.967861  -8.255809  2017-09-04   \n",
       "3         714590 -66.144379 -12.624272  2017-08-31   \n",
       "4         240012 -48.350338 -11.838207  2017-07-14   \n",
       "...          ...        ...        ...         ...   \n",
       "1294      436681 -65.542587 -13.089134  2017-08-08   \n",
       "1295     2086150 -61.070286 -23.014650  2017-12-13   \n",
       "1296     1733368 -40.953232  -6.312128  2017-10-22   \n",
       "1297     1359573 -49.811127  -8.767807  2017-09-25   \n",
       "1298     1653010 -55.871208 -21.665943  2017-10-17   \n",
       "\n",
       "                                       features  \\\n",
       "0      Sample_Dataset/train/features/356962.npy   \n",
       "1      Sample_Dataset/train/features/546517.npy   \n",
       "2      Sample_Dataset/train/features/799359.npy   \n",
       "3      Sample_Dataset/train/features/714590.npy   \n",
       "4      Sample_Dataset/train/features/240012.npy   \n",
       "...                                         ...   \n",
       "1294   Sample_Dataset/train/features/436681.npy   \n",
       "1295  Sample_Dataset/train/features/2086150.npy   \n",
       "1296  Sample_Dataset/train/features/1733368.npy   \n",
       "1297  Sample_Dataset/train/features/1359573.npy   \n",
       "1298  Sample_Dataset/train/features/1653010.npy   \n",
       "\n",
       "                                       labels  \n",
       "0      Sample_Dataset/train/labels/356962.npy  \n",
       "1      Sample_Dataset/train/labels/546517.npy  \n",
       "2      Sample_Dataset/train/labels/799359.npy  \n",
       "3      Sample_Dataset/train/labels/714590.npy  \n",
       "4      Sample_Dataset/train/labels/240012.npy  \n",
       "...                                       ...  \n",
       "1294   Sample_Dataset/train/labels/436681.npy  \n",
       "1295  Sample_Dataset/train/labels/2086150.npy  \n",
       "1296  Sample_Dataset/train/labels/1733368.npy  \n",
       "1297  Sample_Dataset/train/labels/1359573.npy  \n",
       "1298  Sample_Dataset/train/labels/1653010.npy  \n",
       "\n",
       "[1299 rows x 6 columns]"
      ]
     },
     "execution_count": 4,
     "metadata": {},
     "output_type": "execute_result"
    }
   ],
   "source": [
    "m = pd.read_csv('Sample_Dataset/train/meta.csv')\n",
    "m"
   ]
  },
  {
   "cell_type": "markdown",
   "metadata": {},
   "source": [
    "#### Load data"
   ]
  },
  {
   "cell_type": "code",
   "execution_count": 5,
   "metadata": {},
   "outputs": [
    {
     "data": {
      "text/plain": [
       "TensorShape([1, 16, 256, 256, 1])"
      ]
     },
     "execution_count": 5,
     "metadata": {},
     "output_type": "execute_result"
    }
   ],
   "source": [
    "# Get data from one chip\n",
    "sample_input = np.load('Sample_Dataset/train/features/3243.npy')\n",
    "\n",
    "# Pad to even number of pixels\n",
    "a = np.pad(sample_input, [(0,0),(0,1),(0,1)])\n",
    "# Resize to include a channel dimension.\n",
    "a = tf.expand_dims(a, axis = -1)\n",
    "# Resize to include a batch dimension.\n",
    "a = tf.expand_dims(a, axis = 0)\n",
    "# Display shape for verification.\n",
    "a.shape"
   ]
  },
  {
   "cell_type": "markdown",
   "metadata": {},
   "source": [
    "#### Experiment with basic model structure"
   ]
  },
  {
   "cell_type": "code",
   "execution_count": 6,
   "metadata": {},
   "outputs": [
    {
     "data": {
      "text/plain": [
       "TensorShape([1, 16, 256, 256, 32])"
      ]
     },
     "execution_count": 6,
     "metadata": {},
     "output_type": "execute_result"
    }
   ],
   "source": [
    "b = tf.keras.layers.Conv3D(32, (3,3,3), padding = 'same', activation='relu', bias_initializer=Constant(0.01), \n",
    "                           input_shape=(a))(a)\n",
    "b.shape"
   ]
  },
  {
   "cell_type": "code",
   "execution_count": 7,
   "metadata": {},
   "outputs": [
    {
     "data": {
      "text/plain": [
       "TensorShape([1, 16, 256, 256, 32])"
      ]
     },
     "execution_count": 7,
     "metadata": {},
     "output_type": "execute_result"
    }
   ],
   "source": [
    "c = tf.keras.layers.Conv3D(32, (3,3,3), padding = 'same', activation='relu', bias_initializer=Constant(0.01) \n",
    "                           )(b)\n",
    "c.shape"
   ]
  },
  {
   "cell_type": "code",
   "execution_count": 8,
   "metadata": {},
   "outputs": [
    {
     "data": {
      "text/plain": [
       "TensorShape([1, 8, 64, 64, 32])"
      ]
     },
     "execution_count": 8,
     "metadata": {},
     "output_type": "execute_result"
    }
   ],
   "source": [
    "d = layers.MaxPooling3D((2,4,4))(c)\n",
    "d.shape"
   ]
  },
  {
   "cell_type": "code",
   "execution_count": 9,
   "metadata": {},
   "outputs": [
    {
     "data": {
      "text/plain": [
       "TensorShape([1, 8, 64, 64, 64])"
      ]
     },
     "execution_count": 9,
     "metadata": {},
     "output_type": "execute_result"
    }
   ],
   "source": [
    "e = tf.keras.layers.Conv3D(64, (2,2,2), padding = 'same', activation='relu')(d)\n",
    "e.shape"
   ]
  },
  {
   "cell_type": "code",
   "execution_count": 10,
   "metadata": {},
   "outputs": [
    {
     "data": {
      "text/plain": [
       "TensorShape([1, 8, 64, 64, 64])"
      ]
     },
     "execution_count": 10,
     "metadata": {},
     "output_type": "execute_result"
    }
   ],
   "source": [
    "f = tf.keras.layers.Conv3D(64, (2,2,2), padding = 'same', activation='relu')(e)\n",
    "f.shape"
   ]
  },
  {
   "cell_type": "code",
   "execution_count": 11,
   "metadata": {},
   "outputs": [
    {
     "data": {
      "text/plain": [
       "TensorShape([1, 4, 32, 32, 64])"
      ]
     },
     "execution_count": 11,
     "metadata": {},
     "output_type": "execute_result"
    }
   ],
   "source": [
    "g = layers.MaxPooling3D((2,2,2))(f)\n",
    "g.shape"
   ]
  },
  {
   "cell_type": "code",
   "execution_count": 12,
   "metadata": {},
   "outputs": [
    {
     "data": {
      "text/plain": [
       "TensorShape([1, 4, 32, 32, 128])"
      ]
     },
     "execution_count": 12,
     "metadata": {},
     "output_type": "execute_result"
    }
   ],
   "source": [
    "h = tf.keras.layers.Conv3D(128, (2,2,2), padding = 'same', activation='relu')(g)\n",
    "h.shape"
   ]
  },
  {
   "cell_type": "code",
   "execution_count": 13,
   "metadata": {},
   "outputs": [
    {
     "data": {
      "text/plain": [
       "TensorShape([1, 4, 32, 32, 128])"
      ]
     },
     "execution_count": 13,
     "metadata": {},
     "output_type": "execute_result"
    }
   ],
   "source": [
    "i = tf.keras.layers.Conv3D(128, (2,2,2), padding = 'same', activation='relu')(h)\n",
    "i.shape"
   ]
  },
  {
   "cell_type": "code",
   "execution_count": 14,
   "metadata": {},
   "outputs": [
    {
     "data": {
      "text/plain": [
       "TensorShape([1, 2, 16, 16, 128])"
      ]
     },
     "execution_count": 14,
     "metadata": {},
     "output_type": "execute_result"
    }
   ],
   "source": [
    "j = layers.MaxPooling3D((2,2,2))(i)\n",
    "j.shape"
   ]
  },
  {
   "cell_type": "code",
   "execution_count": 15,
   "metadata": {},
   "outputs": [
    {
     "data": {
      "text/plain": [
       "TensorShape([1, 2, 16, 16, 256])"
      ]
     },
     "execution_count": 15,
     "metadata": {},
     "output_type": "execute_result"
    }
   ],
   "source": [
    "k = tf.keras.layers.Conv3D(256, (2,2,2), padding = 'same', activation='relu')(j)\n",
    "k.shape"
   ]
  },
  {
   "cell_type": "code",
   "execution_count": 16,
   "metadata": {},
   "outputs": [
    {
     "data": {
      "text/plain": [
       "TensorShape([1, 2, 16, 16, 256])"
      ]
     },
     "execution_count": 16,
     "metadata": {},
     "output_type": "execute_result"
    }
   ],
   "source": [
    "l = tf.keras.layers.Conv3D(256, (2,2,2), padding = 'same', activation='relu')(k)\n",
    "l.shape"
   ]
  },
  {
   "cell_type": "code",
   "execution_count": 17,
   "metadata": {},
   "outputs": [
    {
     "data": {
      "text/plain": [
       "TensorShape([1, 2, 4, 4, 256])"
      ]
     },
     "execution_count": 17,
     "metadata": {},
     "output_type": "execute_result"
    }
   ],
   "source": [
    "m = layers.MaxPooling3D((1,4,4))(l)\n",
    "m.shape"
   ]
  },
  {
   "cell_type": "code",
   "execution_count": 18,
   "metadata": {},
   "outputs": [
    {
     "data": {
      "text/plain": [
       "TensorShape([1, 2, 4, 4, 512])"
      ]
     },
     "execution_count": 18,
     "metadata": {},
     "output_type": "execute_result"
    }
   ],
   "source": [
    "n = tf.keras.layers.Conv3D(512, (2,2,2), padding = 'same', activation='relu')(m)\n",
    "n.shape"
   ]
  },
  {
   "cell_type": "code",
   "execution_count": 19,
   "metadata": {},
   "outputs": [
    {
     "data": {
      "text/plain": [
       "TensorShape([1, 2, 4, 4, 512])"
      ]
     },
     "execution_count": 19,
     "metadata": {},
     "output_type": "execute_result"
    }
   ],
   "source": [
    "o = tf.keras.layers.Conv3D(512, (2,2,2), padding = 'same', activation='relu')(n)\n",
    "o.shape"
   ]
  },
  {
   "cell_type": "code",
   "execution_count": 20,
   "metadata": {},
   "outputs": [
    {
     "data": {
      "text/plain": [
       "TensorShape([1, 2, 2, 2, 512])"
      ]
     },
     "execution_count": 20,
     "metadata": {},
     "output_type": "execute_result"
    }
   ],
   "source": [
    "p = layers.MaxPooling3D((1,2,2))(o)\n",
    "p.shape"
   ]
  },
  {
   "cell_type": "code",
   "execution_count": 21,
   "metadata": {},
   "outputs": [
    {
     "data": {
      "text/plain": [
       "TensorShape([1, 2, 2, 2, 1024])"
      ]
     },
     "execution_count": 21,
     "metadata": {},
     "output_type": "execute_result"
    }
   ],
   "source": [
    "q = tf.keras.layers.Conv3D(1024, (2,2,2), padding = 'same', activation='relu')(p)\n",
    "q.shape"
   ]
  },
  {
   "cell_type": "code",
   "execution_count": 22,
   "metadata": {},
   "outputs": [
    {
     "data": {
      "text/plain": [
       "TensorShape([1, 2, 2, 2, 1024])"
      ]
     },
     "execution_count": 22,
     "metadata": {},
     "output_type": "execute_result"
    }
   ],
   "source": [
    "r = tf.keras.layers.Conv3D(1024, (2,2,2), padding = 'same', activation='relu')(q)\n",
    "r.shape"
   ]
  },
  {
   "cell_type": "code",
   "execution_count": 23,
   "metadata": {},
   "outputs": [
    {
     "data": {
      "text/plain": [
       "TensorShape([1, 1, 1, 1, 1024])"
      ]
     },
     "execution_count": 23,
     "metadata": {},
     "output_type": "execute_result"
    }
   ],
   "source": [
    "s = layers.MaxPooling3D((2,2,2))(r)\n",
    "s.shape"
   ]
  },
  {
   "cell_type": "code",
   "execution_count": 24,
   "metadata": {},
   "outputs": [
    {
     "data": {
      "text/plain": [
       "TensorShape([1, 2, 2, 2, 1024])"
      ]
     },
     "execution_count": 24,
     "metadata": {},
     "output_type": "execute_result"
    }
   ],
   "source": [
    "t = layers.Conv3DTranspose(512, (2,2,2), (2,2,2), padding = 'same', activation='relu')(s)\n",
    "t = layers.concatenate([t, p])\n",
    "t.shape"
   ]
  },
  {
   "cell_type": "code",
   "execution_count": 25,
   "metadata": {},
   "outputs": [
    {
     "data": {
      "text/plain": [
       "TensorShape([1, 2, 2, 2, 512])"
      ]
     },
     "execution_count": 25,
     "metadata": {},
     "output_type": "execute_result"
    }
   ],
   "source": [
    "u = tf.keras.layers.Conv3D(512, (2,2,2), padding = 'same', activation='relu')(t)\n",
    "u.shape"
   ]
  },
  {
   "cell_type": "code",
   "execution_count": 26,
   "metadata": {},
   "outputs": [
    {
     "data": {
      "text/plain": [
       "TensorShape([1, 2, 2, 2, 512])"
      ]
     },
     "execution_count": 26,
     "metadata": {},
     "output_type": "execute_result"
    }
   ],
   "source": [
    "v = tf.keras.layers.Conv3D(512, (2,2,2), padding = 'same', activation='relu')(u)\n",
    "v.shape"
   ]
  },
  {
   "cell_type": "code",
   "execution_count": 27,
   "metadata": {},
   "outputs": [
    {
     "data": {
      "text/plain": [
       "TensorShape([1, 2, 4, 4, 1024])"
      ]
     },
     "execution_count": 27,
     "metadata": {},
     "output_type": "execute_result"
    }
   ],
   "source": [
    "w = layers.Conv3DTranspose(512, (2,2,2), (1,2,2), padding = 'same', activation='relu')(v)\n",
    "w = layers.concatenate([w, o])\n",
    "w.shape"
   ]
  },
  {
   "cell_type": "code",
   "execution_count": 28,
   "metadata": {},
   "outputs": [
    {
     "data": {
      "text/plain": [
       "TensorShape([1, 2, 4, 4, 256])"
      ]
     },
     "execution_count": 28,
     "metadata": {},
     "output_type": "execute_result"
    }
   ],
   "source": [
    "x = tf.keras.layers.Conv3D(256, (2,2,2), padding = 'same', activation='relu')(w)\n",
    "x.shape"
   ]
  },
  {
   "cell_type": "code",
   "execution_count": 29,
   "metadata": {},
   "outputs": [
    {
     "data": {
      "text/plain": [
       "TensorShape([1, 2, 4, 4, 256])"
      ]
     },
     "execution_count": 29,
     "metadata": {},
     "output_type": "execute_result"
    }
   ],
   "source": [
    "y = tf.keras.layers.Conv3D(256, (2,2,2), padding = 'same', activation='relu')(x)\n",
    "y.shape"
   ]
  },
  {
   "cell_type": "code",
   "execution_count": 30,
   "metadata": {},
   "outputs": [
    {
     "data": {
      "text/plain": [
       "TensorShape([1, 2, 16, 16, 512])"
      ]
     },
     "execution_count": 30,
     "metadata": {},
     "output_type": "execute_result"
    }
   ],
   "source": [
    "z = layers.Conv3DTranspose(256, (2,2,2), (1,4,4), padding = 'same', activation='relu')(y)\n",
    "z = layers.concatenate([z, l])\n",
    "z.shape"
   ]
  },
  {
   "cell_type": "code",
   "execution_count": 31,
   "metadata": {},
   "outputs": [
    {
     "data": {
      "text/plain": [
       "TensorShape([1, 2, 16, 16, 256])"
      ]
     },
     "execution_count": 31,
     "metadata": {},
     "output_type": "execute_result"
    }
   ],
   "source": [
    "aa = tf.keras.layers.Conv3D(256, (2,2,2), padding = 'same', activation='relu')(z)\n",
    "aa.shape"
   ]
  },
  {
   "cell_type": "code",
   "execution_count": 32,
   "metadata": {},
   "outputs": [
    {
     "data": {
      "text/plain": [
       "TensorShape([1, 2, 16, 16, 256])"
      ]
     },
     "execution_count": 32,
     "metadata": {},
     "output_type": "execute_result"
    }
   ],
   "source": [
    "ab = tf.keras.layers.Conv3D(256, (2,2,2), padding = 'same', activation='relu')(aa)\n",
    "ab.shape"
   ]
  },
  {
   "cell_type": "code",
   "execution_count": 33,
   "metadata": {},
   "outputs": [
    {
     "data": {
      "text/plain": [
       "TensorShape([1, 4, 32, 32, 256])"
      ]
     },
     "execution_count": 33,
     "metadata": {},
     "output_type": "execute_result"
    }
   ],
   "source": [
    "ac = layers.Conv3DTranspose(128, (2,2,2), (2,2,2), padding = 'same', activation='relu')(ab)\n",
    "ac = layers.concatenate([ac, i])\n",
    "ac.shape"
   ]
  },
  {
   "cell_type": "code",
   "execution_count": 34,
   "metadata": {},
   "outputs": [
    {
     "data": {
      "text/plain": [
       "TensorShape([1, 4, 32, 32, 128])"
      ]
     },
     "execution_count": 34,
     "metadata": {},
     "output_type": "execute_result"
    }
   ],
   "source": [
    "ad = tf.keras.layers.Conv3D(128, (2,2,2), padding = 'same', activation='relu')(ac)\n",
    "ad.shape"
   ]
  },
  {
   "cell_type": "code",
   "execution_count": 35,
   "metadata": {},
   "outputs": [
    {
     "data": {
      "text/plain": [
       "TensorShape([1, 4, 32, 32, 128])"
      ]
     },
     "execution_count": 35,
     "metadata": {},
     "output_type": "execute_result"
    }
   ],
   "source": [
    "ae = tf.keras.layers.Conv3D(128, (2,2,2), padding = 'same', activation='relu')(ad)\n",
    "ae.shape"
   ]
  },
  {
   "cell_type": "code",
   "execution_count": 36,
   "metadata": {},
   "outputs": [
    {
     "data": {
      "text/plain": [
       "TensorShape([1, 8, 64, 64, 128])"
      ]
     },
     "execution_count": 36,
     "metadata": {},
     "output_type": "execute_result"
    }
   ],
   "source": [
    "af = layers.Conv3DTranspose(64, (2,2,2), (2,2,2), padding = 'same', activation='relu')(ae)\n",
    "af = layers.concatenate([af, f])\n",
    "af.shape"
   ]
  },
  {
   "cell_type": "code",
   "execution_count": 37,
   "metadata": {},
   "outputs": [
    {
     "data": {
      "text/plain": [
       "TensorShape([1, 8, 64, 64, 64])"
      ]
     },
     "execution_count": 37,
     "metadata": {},
     "output_type": "execute_result"
    }
   ],
   "source": [
    "ag = tf.keras.layers.Conv3D(64, (2,2,2), padding = 'same', activation='relu')(af)\n",
    "ag.shape"
   ]
  },
  {
   "cell_type": "code",
   "execution_count": 38,
   "metadata": {},
   "outputs": [
    {
     "data": {
      "text/plain": [
       "TensorShape([1, 8, 64, 64, 64])"
      ]
     },
     "execution_count": 38,
     "metadata": {},
     "output_type": "execute_result"
    }
   ],
   "source": [
    "ah = tf.keras.layers.Conv3D(64, (2,2,2), padding = 'same', activation='relu')(ag)\n",
    "ah.shape"
   ]
  },
  {
   "cell_type": "code",
   "execution_count": 39,
   "metadata": {},
   "outputs": [
    {
     "data": {
      "text/plain": [
       "TensorShape([1, 8, 256, 256, 64])"
      ]
     },
     "execution_count": 39,
     "metadata": {},
     "output_type": "execute_result"
    }
   ],
   "source": [
    "ai = layers.Conv3DTranspose(32, (2,2,2), (1,4,4), padding = 'same', activation='relu')(ah)\n",
    "ag = layers.MaxPooling3D((2,1,1))(c)\n",
    "ai = layers.concatenate([ai, ag])\n",
    "ai.shape"
   ]
  },
  {
   "cell_type": "code",
   "execution_count": 40,
   "metadata": {},
   "outputs": [
    {
     "data": {
      "text/plain": [
       "TensorShape([1, 8, 256, 256, 1])"
      ]
     },
     "execution_count": 40,
     "metadata": {},
     "output_type": "execute_result"
    }
   ],
   "source": [
    "ak = layers.Conv2D(1, 1, padding='same', activation = 'sigmoid')(ai)\n",
    "ak.shape"
   ]
  },
  {
   "cell_type": "markdown",
   "metadata": {},
   "source": [
    "#### Model assembly"
   ]
  },
  {
   "cell_type": "code",
   "execution_count": 41,
   "metadata": {},
   "outputs": [],
   "source": [
    "inputs = layers.Input(shape=((16,256,256,1)))\n",
    "b = tf.keras.layers.Conv3D(32, (3,7,7), padding = 'same', activation='relu', bias_initializer=Constant(0.01), \n",
    "                           )(inputs)\n",
    "c = tf.keras.layers.Conv3D(32, (3,5,5), padding = 'same', activation='relu', bias_initializer=Constant(0.01) \n",
    "                           )(b)\n",
    "d = layers.MaxPooling3D((2,4,4))(c)\n",
    "d = layers.Dropout(0.3)(d)\n",
    "e = tf.keras.layers.Conv3D(64, (2,2,2), padding = 'same', activation='relu', bias_initializer=Constant(0.01))(d)\n",
    "f = tf.keras.layers.Conv3D(64, (2,2,2), padding = 'same', activation='relu', bias_initializer=Constant(0.01))(e)\n",
    "g = layers.MaxPooling3D((2,2,2))(f)\n",
    "g = layers.Dropout(0.3)(g)\n",
    "h = tf.keras.layers.Conv3D(128, (2,2,2), padding = 'same', activation='relu', bias_initializer=Constant(0.01))(g)\n",
    "i = tf.keras.layers.Conv3D(128, (2,2,2), padding = 'same', activation='relu', bias_initializer=Constant(0.01))(h)\n",
    "j = layers.MaxPooling3D((2,2,2))(i)\n",
    "j = layers.Dropout(0.3)(j)\n",
    "k = tf.keras.layers.Conv3D(256, (2,2,2), padding = 'same', activation='relu', bias_initializer=Constant(0.01))(j)\n",
    "l = tf.keras.layers.Conv3D(256, (2,2,2), padding = 'same', activation='relu', bias_initializer=Constant(0.01))(k)\n",
    "m = layers.MaxPooling3D((1,4,4))(l)\n",
    "m = layers.Dropout(0.3)(m)\n",
    "n = tf.keras.layers.Conv3D(512, (2,2,2), padding = 'same', activation='relu', bias_initializer=Constant(0.01))(m)\n",
    "o = tf.keras.layers.Conv3D(512, (2,2,2), padding = 'same', activation='relu', bias_initializer=Constant(0.01))(n)\n",
    "p = layers.MaxPooling3D((1,2,2))(o)\n",
    "p = layers.Dropout(0.3)(p)\n",
    "q = tf.keras.layers.Conv3D(1024, (2,2,2), padding = 'same', activation='relu', bias_initializer=Constant(0.01))(p)\n",
    "r = tf.keras.layers.Conv3D(1024, (2,2,2), padding = 'same', activation='relu', bias_initializer=Constant(0.01))(q)\n",
    "s = layers.MaxPooling3D((2,2,2))(r)\n",
    "s = layers.Dropout(0.3)(s)\n",
    "t = layers.Conv3DTranspose(512, (2,2,2), (2,2,2), padding = 'same', activation='relu')(s)\n",
    "t = layers.concatenate([t, p])\n",
    "t = layers.Dropout(0.3)(t)\n",
    "u = tf.keras.layers.Conv3D(512, (2,2,2), padding = 'same', activation='relu', bias_initializer=Constant(0.01))(t)\n",
    "v = tf.keras.layers.Conv3D(512, (2,2,2), padding = 'same', activation='relu', bias_initializer=Constant(0.01))(u)\n",
    "w = layers.Conv3DTranspose(512, (2,2,2), (1,2,2), padding = 'same', activation='relu')(v)\n",
    "w = layers.concatenate([w, o])\n",
    "w = layers.Dropout(0.3)(w)\n",
    "x = tf.keras.layers.Conv3D(256, (2,2,2), padding = 'same', activation='relu', bias_initializer=Constant(0.01))(w)\n",
    "y = tf.keras.layers.Conv3D(256, (2,2,2), padding = 'same', activation='relu', bias_initializer=Constant(0.01))(x)\n",
    "z = layers.Conv3DTranspose(256, (2,2,2), (1,4,4), padding = 'same', activation='relu')(y)\n",
    "z = layers.concatenate([z, l])\n",
    "z = layers.Dropout(0.3)(z)\n",
    "aa = tf.keras.layers.Conv3D(256, (2,2,2), padding = 'same', activation='relu', bias_initializer=Constant(0.01))(z)\n",
    "ab = tf.keras.layers.Conv3D(256, (2,2,2), padding = 'same', activation='relu', bias_initializer=Constant(0.01))(aa)\n",
    "ac = layers.Conv3DTranspose(128, (2,2,2), (2,2,2), padding = 'same', activation='relu')(ab)\n",
    "ac = layers.concatenate([ac, i])\n",
    "ac = layers.Dropout(0.3)(ac)\n",
    "ad = tf.keras.layers.Conv3D(128, (2,2,2), padding = 'same', activation='relu', bias_initializer=Constant(0.01))(ac)\n",
    "ae = tf.keras.layers.Conv3D(128, (2,2,2), padding = 'same', activation='relu', bias_initializer=Constant(0.01))(ad)\n",
    "af = layers.Conv3DTranspose(64, (2,2,2), (2,2,2), padding = 'same', activation='relu')(ae)\n",
    "af = layers.concatenate([af, f])\n",
    "af = layers.Dropout(0.3)(af)\n",
    "ag = tf.keras.layers.Conv3D(64, (2,2,2), padding = 'same', activation='relu', bias_initializer=Constant(0.01))(af)\n",
    "ah = tf.keras.layers.Conv3D(64, (2,2,2), padding = 'same', activation='relu', bias_initializer=Constant(0.01))(ag)\n",
    "ai = layers.Conv3DTranspose(32, (2,2,2), (1,4,4), padding = 'same', activation='relu')(ah)\n",
    "ag = layers.MaxPooling3D((2,1,1))(c)\n",
    "ai = layers.concatenate([ai, ag])\n",
    "outputs = layers.Conv2D(1, 1, padding='same', activation = 'sigmoid')(ai)"
   ]
  },
  {
   "cell_type": "code",
   "execution_count": 42,
   "metadata": {},
   "outputs": [],
   "source": [
    "forecast_model = tf.keras.Model(inputs, outputs, name=\"3D_UNet\")"
   ]
  },
  {
   "cell_type": "code",
   "execution_count": 43,
   "metadata": {},
   "outputs": [
    {
     "name": "stdout",
     "output_type": "stream",
     "text": [
      "1/1 [==============================] - 0s 314ms/step\n"
     ]
    },
    {
     "data": {
      "text/plain": [
       "(1, 8, 256, 256, 1)"
      ]
     },
     "execution_count": 43,
     "metadata": {},
     "output_type": "execute_result"
    }
   ],
   "source": [
    "# Verify output shape.\n",
    "forecast_model.predict(a).shape"
   ]
  },
  {
   "cell_type": "code",
   "execution_count": 44,
   "metadata": {},
   "outputs": [
    {
     "name": "stdout",
     "output_type": "stream",
     "text": [
      "Model: \"3D_UNet\"\n",
      "__________________________________________________________________________________________________\n",
      " Layer (type)                   Output Shape         Param #     Connected to                     \n",
      "==================================================================================================\n",
      " input_1 (InputLayer)           [(None, 16, 256, 25  0           []                               \n",
      "                                6, 1)]                                                            \n",
      "                                                                                                  \n",
      " conv3d_22 (Conv3D)             (None, 16, 256, 256  4736        ['input_1[0][0]']                \n",
      "                                , 32)                                                             \n",
      "                                                                                                  \n",
      " conv3d_23 (Conv3D)             (None, 16, 256, 256  76832       ['conv3d_22[0][0]']              \n",
      "                                , 32)                                                             \n",
      "                                                                                                  \n",
      " max_pooling3d_7 (MaxPooling3D)  (None, 8, 64, 64, 3  0          ['conv3d_23[0][0]']              \n",
      "                                2)                                                                \n",
      "                                                                                                  \n",
      " dropout (Dropout)              (None, 8, 64, 64, 3  0           ['max_pooling3d_7[0][0]']        \n",
      "                                2)                                                                \n",
      "                                                                                                  \n",
      " conv3d_24 (Conv3D)             (None, 8, 64, 64, 6  16448       ['dropout[0][0]']                \n",
      "                                4)                                                                \n",
      "                                                                                                  \n",
      " conv3d_25 (Conv3D)             (None, 8, 64, 64, 6  32832       ['conv3d_24[0][0]']              \n",
      "                                4)                                                                \n",
      "                                                                                                  \n",
      " max_pooling3d_8 (MaxPooling3D)  (None, 4, 32, 32, 6  0          ['conv3d_25[0][0]']              \n",
      "                                4)                                                                \n",
      "                                                                                                  \n",
      " dropout_1 (Dropout)            (None, 4, 32, 32, 6  0           ['max_pooling3d_8[0][0]']        \n",
      "                                4)                                                                \n",
      "                                                                                                  \n",
      " conv3d_26 (Conv3D)             (None, 4, 32, 32, 1  65664       ['dropout_1[0][0]']              \n",
      "                                28)                                                               \n",
      "                                                                                                  \n",
      " conv3d_27 (Conv3D)             (None, 4, 32, 32, 1  131200      ['conv3d_26[0][0]']              \n",
      "                                28)                                                               \n",
      "                                                                                                  \n",
      " max_pooling3d_9 (MaxPooling3D)  (None, 2, 16, 16, 1  0          ['conv3d_27[0][0]']              \n",
      "                                28)                                                               \n",
      "                                                                                                  \n",
      " dropout_2 (Dropout)            (None, 2, 16, 16, 1  0           ['max_pooling3d_9[0][0]']        \n",
      "                                28)                                                               \n",
      "                                                                                                  \n",
      " conv3d_28 (Conv3D)             (None, 2, 16, 16, 2  262400      ['dropout_2[0][0]']              \n",
      "                                56)                                                               \n",
      "                                                                                                  \n",
      " conv3d_29 (Conv3D)             (None, 2, 16, 16, 2  524544      ['conv3d_28[0][0]']              \n",
      "                                56)                                                               \n",
      "                                                                                                  \n",
      " max_pooling3d_10 (MaxPooling3D  (None, 2, 4, 4, 256  0          ['conv3d_29[0][0]']              \n",
      " )                              )                                                                 \n",
      "                                                                                                  \n",
      " dropout_3 (Dropout)            (None, 2, 4, 4, 256  0           ['max_pooling3d_10[0][0]']       \n",
      "                                )                                                                 \n",
      "                                                                                                  \n",
      " conv3d_30 (Conv3D)             (None, 2, 4, 4, 512  1049088     ['dropout_3[0][0]']              \n",
      "                                )                                                                 \n",
      "                                                                                                  \n",
      " conv3d_31 (Conv3D)             (None, 2, 4, 4, 512  2097664     ['conv3d_30[0][0]']              \n",
      "                                )                                                                 \n",
      "                                                                                                  \n",
      " max_pooling3d_11 (MaxPooling3D  (None, 2, 2, 2, 512  0          ['conv3d_31[0][0]']              \n",
      " )                              )                                                                 \n",
      "                                                                                                  \n",
      " dropout_4 (Dropout)            (None, 2, 2, 2, 512  0           ['max_pooling3d_11[0][0]']       \n",
      "                                )                                                                 \n",
      "                                                                                                  \n",
      " conv3d_32 (Conv3D)             (None, 2, 2, 2, 102  4195328     ['dropout_4[0][0]']              \n",
      "                                4)                                                                \n",
      "                                                                                                  \n",
      " conv3d_33 (Conv3D)             (None, 2, 2, 2, 102  8389632     ['conv3d_32[0][0]']              \n",
      "                                4)                                                                \n",
      "                                                                                                  \n",
      " max_pooling3d_12 (MaxPooling3D  (None, 1, 1, 1, 102  0          ['conv3d_33[0][0]']              \n",
      " )                              4)                                                                \n",
      "                                                                                                  \n",
      " dropout_5 (Dropout)            (None, 1, 1, 1, 102  0           ['max_pooling3d_12[0][0]']       \n",
      "                                4)                                                                \n",
      "                                                                                                  \n",
      " conv3d_transpose_6 (Conv3DTran  (None, 2, 2, 2, 512  4194816    ['dropout_5[0][0]']              \n",
      " spose)                         )                                                                 \n",
      "                                                                                                  \n",
      " concatenate_6 (Concatenate)    (None, 2, 2, 2, 102  0           ['conv3d_transpose_6[0][0]',     \n",
      "                                4)                                'dropout_4[0][0]']              \n"
     ]
    },
    {
     "name": "stdout",
     "output_type": "stream",
     "text": [
      "                                                                                                  \n",
      " dropout_6 (Dropout)            (None, 2, 2, 2, 102  0           ['concatenate_6[0][0]']          \n",
      "                                4)                                                                \n",
      "                                                                                                  \n",
      " conv3d_34 (Conv3D)             (None, 2, 2, 2, 512  4194816     ['dropout_6[0][0]']              \n",
      "                                )                                                                 \n",
      "                                                                                                  \n",
      " conv3d_35 (Conv3D)             (None, 2, 2, 2, 512  2097664     ['conv3d_34[0][0]']              \n",
      "                                )                                                                 \n",
      "                                                                                                  \n",
      " conv3d_transpose_7 (Conv3DTran  (None, 2, 4, 4, 512  2097664    ['conv3d_35[0][0]']              \n",
      " spose)                         )                                                                 \n",
      "                                                                                                  \n",
      " concatenate_7 (Concatenate)    (None, 2, 4, 4, 102  0           ['conv3d_transpose_7[0][0]',     \n",
      "                                4)                                'conv3d_31[0][0]']              \n",
      "                                                                                                  \n",
      " dropout_7 (Dropout)            (None, 2, 4, 4, 102  0           ['concatenate_7[0][0]']          \n",
      "                                4)                                                                \n",
      "                                                                                                  \n",
      " conv3d_36 (Conv3D)             (None, 2, 4, 4, 256  2097408     ['dropout_7[0][0]']              \n",
      "                                )                                                                 \n",
      "                                                                                                  \n",
      " conv3d_37 (Conv3D)             (None, 2, 4, 4, 256  524544      ['conv3d_36[0][0]']              \n",
      "                                )                                                                 \n",
      "                                                                                                  \n",
      " conv3d_transpose_8 (Conv3DTran  (None, 2, 16, 16, 2  524544     ['conv3d_37[0][0]']              \n",
      " spose)                         56)                                                               \n",
      "                                                                                                  \n",
      " concatenate_8 (Concatenate)    (None, 2, 16, 16, 5  0           ['conv3d_transpose_8[0][0]',     \n",
      "                                12)                               'conv3d_29[0][0]']              \n",
      "                                                                                                  \n",
      " dropout_8 (Dropout)            (None, 2, 16, 16, 5  0           ['concatenate_8[0][0]']          \n",
      "                                12)                                                               \n",
      "                                                                                                  \n",
      " conv3d_38 (Conv3D)             (None, 2, 16, 16, 2  1048832     ['dropout_8[0][0]']              \n",
      "                                56)                                                               \n",
      "                                                                                                  \n",
      " conv3d_39 (Conv3D)             (None, 2, 16, 16, 2  524544      ['conv3d_38[0][0]']              \n",
      "                                56)                                                               \n",
      "                                                                                                  \n",
      " conv3d_transpose_9 (Conv3DTran  (None, 4, 32, 32, 1  262272     ['conv3d_39[0][0]']              \n",
      " spose)                         28)                                                               \n",
      "                                                                                                  \n",
      " concatenate_9 (Concatenate)    (None, 4, 32, 32, 2  0           ['conv3d_transpose_9[0][0]',     \n",
      "                                56)                               'conv3d_27[0][0]']              \n",
      "                                                                                                  \n",
      " dropout_9 (Dropout)            (None, 4, 32, 32, 2  0           ['concatenate_9[0][0]']          \n",
      "                                56)                                                               \n",
      "                                                                                                  \n",
      " conv3d_40 (Conv3D)             (None, 4, 32, 32, 1  262272      ['dropout_9[0][0]']              \n",
      "                                28)                                                               \n",
      "                                                                                                  \n",
      " conv3d_41 (Conv3D)             (None, 4, 32, 32, 1  131200      ['conv3d_40[0][0]']              \n",
      "                                28)                                                               \n",
      "                                                                                                  \n",
      " conv3d_transpose_10 (Conv3DTra  (None, 8, 64, 64, 6  65600      ['conv3d_41[0][0]']              \n",
      " nspose)                        4)                                                                \n",
      "                                                                                                  \n",
      " concatenate_10 (Concatenate)   (None, 8, 64, 64, 1  0           ['conv3d_transpose_10[0][0]',    \n",
      "                                28)                               'conv3d_25[0][0]']              \n",
      "                                                                                                  \n",
      " dropout_10 (Dropout)           (None, 8, 64, 64, 1  0           ['concatenate_10[0][0]']         \n",
      "                                28)                                                               \n",
      "                                                                                                  \n",
      " conv3d_42 (Conv3D)             (None, 8, 64, 64, 6  65600       ['dropout_10[0][0]']             \n",
      "                                4)                                                                \n",
      "                                                                                                  \n",
      " conv3d_43 (Conv3D)             (None, 8, 64, 64, 6  32832       ['conv3d_42[0][0]']              \n",
      "                                4)                                                                \n",
      "                                                                                                  \n",
      " conv3d_transpose_11 (Conv3DTra  (None, 8, 256, 256,  16416      ['conv3d_43[0][0]']              \n",
      " nspose)                         32)                                                              \n",
      "                                                                                                  \n",
      " max_pooling3d_13 (MaxPooling3D  (None, 8, 256, 256,  0          ['conv3d_23[0][0]']              \n",
      " )                               32)                                                              \n",
      "                                                                                                  \n",
      " concatenate_11 (Concatenate)   (None, 8, 256, 256,  0           ['conv3d_transpose_11[0][0]',    \n",
      "                                 64)                              'max_pooling3d_13[0][0]']       \n",
      "                                                                                                  \n",
      " conv2d_1 (Conv2D)              (None, 8, 256, 256,  65          ['concatenate_11[0][0]']         \n",
      "                                 1)                                                               \n",
      "                                                                                                  \n",
      "==================================================================================================\n"
     ]
    },
    {
     "name": "stdout",
     "output_type": "stream",
     "text": [
      "Total params: 34,987,457\n",
      "Trainable params: 34,987,457\n",
      "Non-trainable params: 0\n",
      "__________________________________________________________________________________________________\n"
     ]
    }
   ],
   "source": [
    "# Display model details.\n",
    "forecast_model.summary()"
   ]
  },
  {
   "cell_type": "code",
   "execution_count": 46,
   "metadata": {},
   "outputs": [],
   "source": [
    "# Compile model.\n",
    "opt = tf.keras.optimizers.Adam(learning_rate=0.0001)\n",
    "forecast_model.compile(loss='binary_crossentropy', optimizer=opt, metrics=['accuracy'])"
   ]
  },
  {
   "cell_type": "code",
   "execution_count": 47,
   "metadata": {},
   "outputs": [],
   "source": [
    "# Data loaders.\n",
    "batch_size = 2\n",
    "meta_t = pd.read_csv('Sample_Dataset/train/meta.csv')\n",
    "meta_v = pd.read_csv('Sample_Dataset/val/meta.csv')\n",
    "t_gen = data_generator(meta_t, batch_size = batch_size)\n",
    "v_gen = data_generator(meta_v, batch_size = batch_size)"
   ]
  },
  {
   "cell_type": "code",
   "execution_count": 48,
   "metadata": {},
   "outputs": [
    {
     "name": "stdout",
     "output_type": "stream",
     "text": [
      "Epoch 1/5\n",
      "649/649 [==============================] - 232s 354ms/step - loss: 0.0858 - accuracy: 0.9983 - val_loss: 0.0044 - val_accuracy: 0.9998\n",
      "Epoch 2/5\n",
      "649/649 [==============================] - 226s 349ms/step - loss: 0.0049 - accuracy: 0.9995 - val_loss: 0.0028 - val_accuracy: 0.9998\n",
      "Epoch 3/5\n",
      "649/649 [==============================] - 226s 348ms/step - loss: 0.0043 - accuracy: 0.9995 - val_loss: 0.0024 - val_accuracy: 0.9998\n",
      "Epoch 4/5\n",
      "649/649 [==============================] - 225s 347ms/step - loss: 0.0042 - accuracy: 0.9996 - val_loss: 0.0022 - val_accuracy: 0.9998\n",
      "Epoch 5/5\n",
      "649/649 [==============================] - 225s 347ms/step - loss: 0.0043 - accuracy: 0.9995 - val_loss: 0.0022 - val_accuracy: 0.9998\n"
     ]
    },
    {
     "data": {
      "text/plain": [
       "<keras.callbacks.History at 0x2949a355310>"
      ]
     },
     "execution_count": 48,
     "metadata": {},
     "output_type": "execute_result"
    }
   ],
   "source": [
    "# Train model.\n",
    "forecast_model.fit(t_gen, \n",
    "                   epochs = 5, \n",
    "                   verbose = 1, \n",
    "                   validation_data = v_gen, \n",
    "                   steps_per_epoch = len(meta_t) // batch_size,\n",
    "                   validation_steps = len(meta_v) // batch_size,\n",
    "                  )"
   ]
  },
  {
   "cell_type": "code",
   "execution_count": 50,
   "metadata": {},
   "outputs": [
    {
     "name": "stderr",
     "output_type": "stream",
     "text": [
      "WARNING:absl:Found untraced functions such as _jit_compiled_convolution_op, _jit_compiled_convolution_op, _jit_compiled_convolution_op, _jit_compiled_convolution_op, _jit_compiled_convolution_op while saving (showing 5 of 29). These functions will not be directly callable after loading.\n"
     ]
    },
    {
     "name": "stdout",
     "output_type": "stream",
     "text": [
      "INFO:tensorflow:Assets written to: Models/001\\assets\n"
     ]
    },
    {
     "name": "stderr",
     "output_type": "stream",
     "text": [
      "INFO:tensorflow:Assets written to: Models/001\\assets\n"
     ]
    }
   ],
   "source": [
    "# Save trained model.\n",
    "forecast_model.save('Models/001')"
   ]
  },
  {
   "cell_type": "markdown",
   "metadata": {},
   "source": [
    "#### Examine how model is working"
   ]
  },
  {
   "cell_type": "code",
   "execution_count": 51,
   "metadata": {},
   "outputs": [],
   "source": [
    "# Get data from one chip\n",
    "sample_input = np.load('Sample_Dataset/val/features/2128240.npy')\n",
    "\n",
    "# Pad to even number of pixels\n",
    "a = np.pad(sample_input, [(0,0),(0,1),(0,1)])\n",
    "# Resize to include a channel dimension.\n",
    "a = tf.expand_dims(a, axis = -1)\n",
    "# Resize to include a batch dimension.\n",
    "a = tf.expand_dims(a, axis = 0)\n",
    "\n",
    "# Get data from one chip\n",
    "sample_output = np.load('Sample_Dataset/val/labels/2128240.npy')\n",
    "\n",
    "# Pad to even number of pixels\n",
    "b = np.pad(sample_output, [(0,0),(0,1),(0,1)])\n",
    "# Resize to include a channel dimension.\n",
    "b = tf.expand_dims(b, axis = -1)\n",
    "# Resize to include a batch dimension.\n",
    "b = tf.expand_dims(b, axis = 0)"
   ]
  },
  {
   "cell_type": "code",
   "execution_count": 52,
   "metadata": {},
   "outputs": [
    {
     "name": "stdout",
     "output_type": "stream",
     "text": [
      "1/1 [==============================] - 0s 231ms/step\n"
     ]
    },
    {
     "data": {
      "text/plain": [
       "(1, 8, 256, 256, 1)"
      ]
     },
     "execution_count": 52,
     "metadata": {},
     "output_type": "execute_result"
    }
   ],
   "source": [
    "pred_eval = forecast_model.predict(a)\n",
    "pred_eval.shape"
   ]
  },
  {
   "cell_type": "code",
   "execution_count": 54,
   "metadata": {},
   "outputs": [
    {
     "data": {
      "text/plain": [
       "268.0803"
      ]
     },
     "execution_count": 54,
     "metadata": {},
     "output_type": "execute_result"
    }
   ],
   "source": [
    "pred_eval.sum()"
   ]
  },
  {
   "cell_type": "code",
   "execution_count": 55,
   "metadata": {},
   "outputs": [
    {
     "data": {
      "text/plain": [
       "TensorShape([1, 8, 256, 256, 1])"
      ]
     },
     "execution_count": 55,
     "metadata": {},
     "output_type": "execute_result"
    }
   ],
   "source": [
    "b.shape"
   ]
  },
  {
   "cell_type": "code",
   "execution_count": 61,
   "metadata": {},
   "outputs": [
    {
     "data": {
      "text/plain": [
       "38.0"
      ]
     },
     "execution_count": 61,
     "metadata": {},
     "output_type": "execute_result"
    }
   ],
   "source": [
    "b.numpy().sum()"
   ]
  },
  {
   "cell_type": "code",
   "execution_count": 71,
   "metadata": {},
   "outputs": [
    {
     "data": {
      "text/plain": [
       "array([[0.0447113 ],\n",
       "       [0.01946915],\n",
       "       [0.00815297],\n",
       "       [0.00815297],\n",
       "       [0.00797041],\n",
       "       [0.00822825],\n",
       "       [0.00815297],\n",
       "       [0.00815297],\n",
       "       [0.00722208],\n",
       "       [0.00768635],\n",
       "       [0.00815297],\n",
       "       [0.00815297],\n",
       "       [0.00797008],\n",
       "       [0.00822819],\n",
       "       [0.00815297],\n",
       "       [0.00815297],\n",
       "       [0.00722223],\n",
       "       [0.00768676],\n",
       "       [0.00815297],\n",
       "       [0.00815297],\n",
       "       [0.00797036],\n",
       "       [0.00822793],\n",
       "       [0.00815297],\n",
       "       [0.00815297],\n",
       "       [0.00722226],\n",
       "       [0.00768642],\n",
       "       [0.00815297],\n",
       "       [0.00815297],\n",
       "       [0.0079699 ],\n",
       "       [0.008228  ],\n",
       "       [0.00815297],\n",
       "       [0.00815297],\n",
       "       [0.00722216],\n",
       "       [0.00768731],\n",
       "       [0.00815297],\n",
       "       [0.00815297],\n",
       "       [0.00796969],\n",
       "       [0.00822788],\n",
       "       [0.00815297],\n",
       "       [0.00815297],\n",
       "       [0.00722216],\n",
       "       [0.00768655],\n",
       "       [0.00815297],\n",
       "       [0.00815297],\n",
       "       [0.00796958],\n",
       "       [0.00822765],\n",
       "       [0.00815297],\n",
       "       [0.00815297],\n",
       "       [0.00722131],\n",
       "       [0.00768662],\n",
       "       [0.00815297],\n",
       "       [0.00815297],\n",
       "       [0.00796963],\n",
       "       [0.00822743],\n",
       "       [0.00815297],\n",
       "       [0.00815297],\n",
       "       [0.00722171],\n",
       "       [0.00768627],\n",
       "       [0.00815297],\n",
       "       [0.00815297],\n",
       "       [0.00796824],\n",
       "       [0.00822634],\n",
       "       [0.00815297],\n",
       "       [0.00815297],\n",
       "       [0.00721649],\n",
       "       [0.00768556],\n",
       "       [0.00815297],\n",
       "       [0.00815297],\n",
       "       [0.00796905],\n",
       "       [0.00822977],\n",
       "       [0.00815297],\n",
       "       [0.00815297],\n",
       "       [0.00721759],\n",
       "       [0.00768705],\n",
       "       [0.00815297],\n",
       "       [0.00815297],\n",
       "       [0.0079692 ],\n",
       "       [0.00822839],\n",
       "       [0.00815297],\n",
       "       [0.00815297],\n",
       "       [0.00722138],\n",
       "       [0.00768614],\n",
       "       [0.00815297],\n",
       "       [0.00815297],\n",
       "       [0.00797014],\n",
       "       [0.0082282 ],\n",
       "       [0.00815297],\n",
       "       [0.00815297],\n",
       "       [0.00722217],\n",
       "       [0.00768641],\n",
       "       [0.00815297],\n",
       "       [0.00815297],\n",
       "       [0.00797023],\n",
       "       [0.00822814],\n",
       "       [0.00815297],\n",
       "       [0.00815297],\n",
       "       [0.00722229],\n",
       "       [0.00768742],\n",
       "       [0.00815297],\n",
       "       [0.00815297],\n",
       "       [0.0079704 ],\n",
       "       [0.00822826],\n",
       "       [0.00815297],\n",
       "       [0.00815297],\n",
       "       [0.00722266],\n",
       "       [0.007687  ],\n",
       "       [0.00815297],\n",
       "       [0.00815297],\n",
       "       [0.00797018],\n",
       "       [0.00822833],\n",
       "       [0.00815297],\n",
       "       [0.00815297],\n",
       "       [0.00722236],\n",
       "       [0.00768692],\n",
       "       [0.00815297],\n",
       "       [0.00815297],\n",
       "       [0.00797015],\n",
       "       [0.0082281 ],\n",
       "       [0.00815297],\n",
       "       [0.00815297],\n",
       "       [0.00722218],\n",
       "       [0.00768642],\n",
       "       [0.00815297],\n",
       "       [0.00815297],\n",
       "       [0.00796996],\n",
       "       [0.00822815],\n",
       "       [0.00815297],\n",
       "       [0.00815297],\n",
       "       [0.00722115],\n",
       "       [0.00768652],\n",
       "       [0.00815297],\n",
       "       [0.00815297],\n",
       "       [0.00796997],\n",
       "       [0.00822801],\n",
       "       [0.00815297],\n",
       "       [0.00815297],\n",
       "       [0.00722082],\n",
       "       [0.00768597],\n",
       "       [0.00815297],\n",
       "       [0.00815297],\n",
       "       [0.00797001],\n",
       "       [0.00822808],\n",
       "       [0.00815297],\n",
       "       [0.00815297],\n",
       "       [0.00722102],\n",
       "       [0.00768604],\n",
       "       [0.00815297],\n",
       "       [0.00815297],\n",
       "       [0.00796994],\n",
       "       [0.00822818],\n",
       "       [0.00815297],\n",
       "       [0.00815297],\n",
       "       [0.00722094],\n",
       "       [0.00768614],\n",
       "       [0.00815297],\n",
       "       [0.00815297],\n",
       "       [0.0079698 ],\n",
       "       [0.0082284 ],\n",
       "       [0.00815297],\n",
       "       [0.00815297],\n",
       "       [0.00722145],\n",
       "       [0.00768661],\n",
       "       [0.00815297],\n",
       "       [0.00815297],\n",
       "       [0.00797013],\n",
       "       [0.00822808],\n",
       "       [0.00815297],\n",
       "       [0.00815297],\n",
       "       [0.00722196],\n",
       "       [0.00768645],\n",
       "       [0.00815297],\n",
       "       [0.00815297],\n",
       "       [0.00797005],\n",
       "       [0.00822819],\n",
       "       [0.00815297],\n",
       "       [0.00815297],\n",
       "       [0.00722216],\n",
       "       [0.00768675],\n",
       "       [0.00815297],\n",
       "       [0.00815297],\n",
       "       [0.00797031],\n",
       "       [0.00822786],\n",
       "       [0.00815297],\n",
       "       [0.00815297],\n",
       "       [0.00722168],\n",
       "       [0.00768635],\n",
       "       [0.00815297],\n",
       "       [0.00815297],\n",
       "       [0.00797018],\n",
       "       [0.00822832],\n",
       "       [0.00815297],\n",
       "       [0.00815297],\n",
       "       [0.00722199],\n",
       "       [0.00768687],\n",
       "       [0.00815297],\n",
       "       [0.00815297],\n",
       "       [0.00797015],\n",
       "       [0.00822818],\n",
       "       [0.00815297],\n",
       "       [0.00815297],\n",
       "       [0.00722147],\n",
       "       [0.00768653],\n",
       "       [0.00815297],\n",
       "       [0.00815297],\n",
       "       [0.00797025],\n",
       "       [0.00822839],\n",
       "       [0.00815297],\n",
       "       [0.00815297],\n",
       "       [0.00722284],\n",
       "       [0.00768814],\n",
       "       [0.00815297],\n",
       "       [0.00815297],\n",
       "       [0.00796734],\n",
       "       [0.0082285 ],\n",
       "       [0.00815297],\n",
       "       [0.00815297],\n",
       "       [0.00721296],\n",
       "       [0.0076791 ],\n",
       "       [0.00815297],\n",
       "       [0.00815297],\n",
       "       [0.00796154],\n",
       "       [0.00822634],\n",
       "       [0.00815297],\n",
       "       [0.00815297],\n",
       "       [0.00718886],\n",
       "       [0.00765505],\n",
       "       [0.00815297],\n",
       "       [0.00815297],\n",
       "       [0.00797637],\n",
       "       [0.00822373],\n",
       "       [0.00815297],\n",
       "       [0.00815297],\n",
       "       [0.00722651],\n",
       "       [0.00767997],\n",
       "       [0.00815297],\n",
       "       [0.00815297],\n",
       "       [0.0079847 ],\n",
       "       [0.00821548],\n",
       "       [0.00815297],\n",
       "       [0.00815297],\n",
       "       [0.0074827 ],\n",
       "       [0.00799133],\n",
       "       [0.00815297],\n",
       "       [0.00815297],\n",
       "       [0.00772176],\n",
       "       [0.00786687],\n",
       "       [0.00815297],\n",
       "       [0.00815297],\n",
       "       [0.0072937 ],\n",
       "       [0.00754064],\n",
       "       [0.00815297],\n",
       "       [0.00815297],\n",
       "       [0.00725767],\n",
       "       [0.00715312],\n",
       "       [0.02020258],\n",
       "       [0.049063  ]], dtype=float32)"
      ]
     },
     "execution_count": 71,
     "metadata": {},
     "output_type": "execute_result"
    }
   ],
   "source": [
    "pred_eval[0][0][0]"
   ]
  },
  {
   "cell_type": "code",
   "execution_count": 84,
   "metadata": {},
   "outputs": [
    {
     "data": {
      "text/plain": [
       "array([[[[[0],\n",
       "          [0],\n",
       "          [0],\n",
       "          ...,\n",
       "          [0],\n",
       "          [0],\n",
       "          [0]],\n",
       "\n",
       "         [[0],\n",
       "          [0],\n",
       "          [0],\n",
       "          ...,\n",
       "          [0],\n",
       "          [0],\n",
       "          [0]],\n",
       "\n",
       "         [[0],\n",
       "          [0],\n",
       "          [0],\n",
       "          ...,\n",
       "          [0],\n",
       "          [0],\n",
       "          [0]],\n",
       "\n",
       "         ...,\n",
       "\n",
       "         [[0],\n",
       "          [0],\n",
       "          [0],\n",
       "          ...,\n",
       "          [0],\n",
       "          [0],\n",
       "          [0]],\n",
       "\n",
       "         [[0],\n",
       "          [0],\n",
       "          [0],\n",
       "          ...,\n",
       "          [0],\n",
       "          [0],\n",
       "          [0]],\n",
       "\n",
       "         [[0],\n",
       "          [0],\n",
       "          [0],\n",
       "          ...,\n",
       "          [0],\n",
       "          [0],\n",
       "          [0]]],\n",
       "\n",
       "\n",
       "        [[[0],\n",
       "          [0],\n",
       "          [0],\n",
       "          ...,\n",
       "          [0],\n",
       "          [0],\n",
       "          [0]],\n",
       "\n",
       "         [[0],\n",
       "          [0],\n",
       "          [0],\n",
       "          ...,\n",
       "          [0],\n",
       "          [0],\n",
       "          [0]],\n",
       "\n",
       "         [[0],\n",
       "          [0],\n",
       "          [0],\n",
       "          ...,\n",
       "          [0],\n",
       "          [0],\n",
       "          [0]],\n",
       "\n",
       "         ...,\n",
       "\n",
       "         [[0],\n",
       "          [0],\n",
       "          [0],\n",
       "          ...,\n",
       "          [0],\n",
       "          [0],\n",
       "          [0]],\n",
       "\n",
       "         [[0],\n",
       "          [0],\n",
       "          [0],\n",
       "          ...,\n",
       "          [0],\n",
       "          [0],\n",
       "          [0]],\n",
       "\n",
       "         [[0],\n",
       "          [0],\n",
       "          [0],\n",
       "          ...,\n",
       "          [0],\n",
       "          [0],\n",
       "          [0]]],\n",
       "\n",
       "\n",
       "        [[[0],\n",
       "          [0],\n",
       "          [0],\n",
       "          ...,\n",
       "          [0],\n",
       "          [0],\n",
       "          [0]],\n",
       "\n",
       "         [[0],\n",
       "          [0],\n",
       "          [0],\n",
       "          ...,\n",
       "          [0],\n",
       "          [0],\n",
       "          [0]],\n",
       "\n",
       "         [[0],\n",
       "          [0],\n",
       "          [0],\n",
       "          ...,\n",
       "          [0],\n",
       "          [0],\n",
       "          [0]],\n",
       "\n",
       "         ...,\n",
       "\n",
       "         [[0],\n",
       "          [0],\n",
       "          [0],\n",
       "          ...,\n",
       "          [0],\n",
       "          [0],\n",
       "          [0]],\n",
       "\n",
       "         [[0],\n",
       "          [0],\n",
       "          [0],\n",
       "          ...,\n",
       "          [0],\n",
       "          [0],\n",
       "          [0]],\n",
       "\n",
       "         [[0],\n",
       "          [0],\n",
       "          [0],\n",
       "          ...,\n",
       "          [0],\n",
       "          [0],\n",
       "          [0]]],\n",
       "\n",
       "\n",
       "        ...,\n",
       "\n",
       "\n",
       "        [[[0],\n",
       "          [0],\n",
       "          [0],\n",
       "          ...,\n",
       "          [0],\n",
       "          [0],\n",
       "          [0]],\n",
       "\n",
       "         [[0],\n",
       "          [0],\n",
       "          [0],\n",
       "          ...,\n",
       "          [0],\n",
       "          [0],\n",
       "          [0]],\n",
       "\n",
       "         [[0],\n",
       "          [0],\n",
       "          [0],\n",
       "          ...,\n",
       "          [0],\n",
       "          [0],\n",
       "          [0]],\n",
       "\n",
       "         ...,\n",
       "\n",
       "         [[0],\n",
       "          [0],\n",
       "          [0],\n",
       "          ...,\n",
       "          [0],\n",
       "          [0],\n",
       "          [0]],\n",
       "\n",
       "         [[0],\n",
       "          [0],\n",
       "          [0],\n",
       "          ...,\n",
       "          [0],\n",
       "          [0],\n",
       "          [0]],\n",
       "\n",
       "         [[0],\n",
       "          [0],\n",
       "          [0],\n",
       "          ...,\n",
       "          [0],\n",
       "          [0],\n",
       "          [0]]],\n",
       "\n",
       "\n",
       "        [[[0],\n",
       "          [0],\n",
       "          [0],\n",
       "          ...,\n",
       "          [0],\n",
       "          [0],\n",
       "          [0]],\n",
       "\n",
       "         [[0],\n",
       "          [0],\n",
       "          [0],\n",
       "          ...,\n",
       "          [0],\n",
       "          [0],\n",
       "          [0]],\n",
       "\n",
       "         [[0],\n",
       "          [0],\n",
       "          [0],\n",
       "          ...,\n",
       "          [0],\n",
       "          [0],\n",
       "          [0]],\n",
       "\n",
       "         ...,\n",
       "\n",
       "         [[0],\n",
       "          [0],\n",
       "          [0],\n",
       "          ...,\n",
       "          [0],\n",
       "          [0],\n",
       "          [0]],\n",
       "\n",
       "         [[0],\n",
       "          [0],\n",
       "          [0],\n",
       "          ...,\n",
       "          [0],\n",
       "          [0],\n",
       "          [0]],\n",
       "\n",
       "         [[0],\n",
       "          [0],\n",
       "          [0],\n",
       "          ...,\n",
       "          [0],\n",
       "          [0],\n",
       "          [0]]],\n",
       "\n",
       "\n",
       "        [[[0],\n",
       "          [0],\n",
       "          [0],\n",
       "          ...,\n",
       "          [0],\n",
       "          [0],\n",
       "          [0]],\n",
       "\n",
       "         [[0],\n",
       "          [0],\n",
       "          [0],\n",
       "          ...,\n",
       "          [0],\n",
       "          [0],\n",
       "          [0]],\n",
       "\n",
       "         [[0],\n",
       "          [0],\n",
       "          [0],\n",
       "          ...,\n",
       "          [0],\n",
       "          [0],\n",
       "          [0]],\n",
       "\n",
       "         ...,\n",
       "\n",
       "         [[0],\n",
       "          [0],\n",
       "          [0],\n",
       "          ...,\n",
       "          [0],\n",
       "          [0],\n",
       "          [0]],\n",
       "\n",
       "         [[0],\n",
       "          [0],\n",
       "          [0],\n",
       "          ...,\n",
       "          [0],\n",
       "          [0],\n",
       "          [0]],\n",
       "\n",
       "         [[0],\n",
       "          [0],\n",
       "          [0],\n",
       "          ...,\n",
       "          [0],\n",
       "          [0],\n",
       "          [0]]]]])"
      ]
     },
     "execution_count": 84,
     "metadata": {},
     "output_type": "execute_result"
    }
   ],
   "source": [
    "# Convert predictions to binary.\n",
    "(pred_eval >= 0.5).astype(int)"
   ]
  },
  {
   "cell_type": "code",
   "execution_count": 85,
   "metadata": {},
   "outputs": [
    {
     "data": {
      "text/plain": [
       "0.04906586"
      ]
     },
     "execution_count": 85,
     "metadata": {},
     "output_type": "execute_result"
    }
   ],
   "source": [
    "pred_eval.max()"
   ]
  }
 ],
 "metadata": {
  "kernelspec": {
   "display_name": "Python 3 (ipykernel)",
   "language": "python",
   "name": "python3"
  },
  "language_info": {
   "codemirror_mode": {
    "name": "ipython",
    "version": 3
   },
   "file_extension": ".py",
   "mimetype": "text/x-python",
   "name": "python",
   "nbconvert_exporter": "python",
   "pygments_lexer": "ipython3",
   "version": "3.9.7"
  }
 },
 "nbformat": 4,
 "nbformat_minor": 4
}
