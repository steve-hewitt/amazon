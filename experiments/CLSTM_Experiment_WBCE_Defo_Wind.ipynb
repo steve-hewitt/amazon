{
 "cells": [
  {
   "cell_type": "markdown",
   "metadata": {},
   "source": [
    "### Import block"
   ]
  },
  {
   "cell_type": "code",
   "execution_count": 1,
   "metadata": {},
   "outputs": [],
   "source": [
    "import pandas as pd\n",
    "import numpy as np\n",
    "import tensorflow as tf\n",
    "import matplotlib.pyplot as plt\n",
    "\n",
    "from tensorflow.keras import layers\n",
    "from tensorflow.keras.models import Sequential\n",
    "from tensorflow.keras.initializers import Constant\n",
    "\n",
    "from sklearn.utils import class_weight\n",
    "from skimage.metrics import structural_similarity as ssim\n",
    "from skimage.metrics import mean_squared_error\n",
    "\n",
    "from math import log10, sqrt\n",
    "\n",
    "%matplotlib inline"
   ]
  },
  {
   "cell_type": "code",
   "execution_count": 2,
   "metadata": {},
   "outputs": [
    {
     "data": {
      "text/plain": [
       "[PhysicalDevice(name='/physical_device:GPU:0', device_type='GPU')]"
      ]
     },
     "execution_count": 2,
     "metadata": {},
     "output_type": "execute_result"
    }
   ],
   "source": [
    "# Check for available GPU.\n",
    "tf.config.list_physical_devices('GPU')"
   ]
  },
  {
   "cell_type": "markdown",
   "metadata": {},
   "source": [
    "### Function definitions"
   ]
  },
  {
   "cell_type": "code",
   "execution_count": 3,
   "metadata": {},
   "outputs": [],
   "source": [
    "# Loader functions\n",
    "# Inspiration: https://towardsdatascience.com/writing-custom-keras-generators-fe815d992c5a\n",
    "\n",
    "def get_input(path):\n",
    "    # Load array.\n",
    "    t_input = np.load(path)\n",
    "    \n",
    "    # Pad to even number of pixels\n",
    "    #t_input = np.pad(t_input, [(0,0),(0,1),(0,1)])\n",
    "    # Resize to include a channel dimension.\n",
    "    #t_input = tf.expand_dims(t_input, axis = -1)\n",
    "    \n",
    "    ## Put channel dim at the end.\n",
    "    #t_input = np.moveaxis(t_input, 1, -1)\n",
    "    \n",
    "    return t_input\n",
    "\n",
    "def get_output(path):\n",
    "    # Load array.\n",
    "    t_output = np.load(path)\n",
    "    \n",
    "    # Pad to even number of pixels\n",
    "    #t_output = np.pad(t_output, [(0,0),(0,1),(0,1)])\n",
    "    # Resize to include a channel dimension.\n",
    "    #t_output = tf.expand_dims(t_output, axis = -1)\n",
    "    \n",
    "    ## Put channel dim at the end.\n",
    "    #t_output = np.moveaxis(t_output, 1, -1)\n",
    "    return t_output\n",
    "\n",
    "def data_generator(samples, batch_size = 64):\n",
    "    \n",
    "    while True:\n",
    "        # Select files (paths/indices) for the batch\n",
    "        batch_samples  = np.random.choice(a = samples.index, \n",
    "                                      size = batch_size)\n",
    "        batch_input  = []\n",
    "        batch_output = [] \n",
    "\n",
    "        # Read in each input, perform preprocessing and get labels\n",
    "        for sample in batch_samples:\n",
    "          input = get_input(samples.loc[sample].features)\n",
    "          output = get_output(samples.loc[sample].labels)\n",
    "\n",
    "          batch_input += [input]\n",
    "          batch_output += [output]\n",
    "        # Return a tuple of (input, output) to feed the network\n",
    "        batch_x = np.array(batch_input)\n",
    "        batch_y = np.array(batch_output)\n",
    "        \n",
    "        yield(batch_x, batch_y)\n"
   ]
  },
  {
   "cell_type": "code",
   "execution_count": 4,
   "metadata": {},
   "outputs": [],
   "source": [
    "### Source: https://www.geeksforgeeks.org/python-peak-signal-to-noise-ratio-psnr/\n",
    "# Modified to 0-1 scale instead of 0-100\n",
    "def PSNR(original, compressed):\n",
    "    mse = np.mean((original - compressed) ** 2)\n",
    "    if(mse == 0):  # MSE is zero means no noise is present in the signal .\n",
    "                  # Therefore PSNR have no importance.\n",
    "        return 1\n",
    "    max_pixel = 1\n",
    "    psnr = 20 * log10(max_pixel / sqrt(mse))\n",
    "    return psnr/100"
   ]
  },
  {
   "cell_type": "markdown",
   "metadata": {},
   "source": [
    "### Load data"
   ]
  },
  {
   "cell_type": "code",
   "execution_count": 5,
   "metadata": {},
   "outputs": [
    {
     "data": {
      "text/plain": [
       "TensorShape([1, 10, 32, 32, 4])"
      ]
     },
     "execution_count": 5,
     "metadata": {},
     "output_type": "execute_result"
    }
   ],
   "source": [
    "# Get data from one chip\n",
    "m = pd.read_csv('V3_CLSTM_Dataset/train/meta.csv')\n",
    "sample_input = np.load('V3_CLSTM_Dataset/train/features/119179.npy')\n",
    "a = sample_input\n",
    "\n",
    "# Pad to even number of pixels\n",
    "#a = np.pad(sample_input, [(0,0),(0,1),(0,1)])\n",
    "# Resize to include a channel dimension.\n",
    "#a = tf.expand_dims(a, axis = -1)\n",
    "# Resize to include a batch dimension.\n",
    "#a = tf.expand_dims(a, axis = 0)\n",
    "\n",
    "\n",
    "## Move channel axis to the end\n",
    "#a = np.moveaxis(sample_input, 1, -1)\n",
    "\n",
    "# Resize to include a batch dimension.\n",
    "a = tf.expand_dims(a, axis = 0)\n",
    "\n",
    "# Display shape for verification.\n",
    "a.shape"
   ]
  },
  {
   "cell_type": "markdown",
   "metadata": {},
   "source": [
    "### Model assembly"
   ]
  },
  {
   "cell_type": "code",
   "execution_count": 6,
   "metadata": {},
   "outputs": [],
   "source": [
    "# Inspired by: https://keras.io/examples/vision/conv_lstm/?fbclid=IwAR1QSJmF0bcz5pklHDHwl4mUi8inzHN4m8Zk6OpvVJizqDDv2-MKMq3LlJ8\n",
    "\n",
    "inputs = layers.Input(shape=((10,32,32,3)))\n",
    "x = layers.ConvLSTM2D(\n",
    "    filters=128,\n",
    "    kernel_size=(5, 5),\n",
    "    padding='same',\n",
    "    return_sequences=False,\n",
    "    activation='relu'\n",
    ")(inputs)\n",
    "x = layers.BatchNormalization()(x)\n",
    "x = layers.ConvLSTM2D(\n",
    "    filters=128,\n",
    "    kernel_size=(3, 3),\n",
    "    padding='same',\n",
    "    return_sequences=False,\n",
    "    activation='relu'\n",
    ")(tf.expand_dims(x, axis = 1))\n",
    "x = layers.BatchNormalization()(x)\n",
    "x = layers.ConvLSTM2D(\n",
    "    filters=128,\n",
    "    kernel_size=(1, 1),\n",
    "    padding='same',\n",
    "    return_sequences=False,\n",
    "    activation='relu'\n",
    ")(tf.expand_dims(x, axis = 1))\n",
    "outputs = layers.Conv3D(\n",
    "    filters=1, kernel_size=(3, 3, 3), activation='sigmoid', padding='same'\n",
    ")(tf.expand_dims(x, axis = 1))"
   ]
  },
  {
   "cell_type": "code",
   "execution_count": 7,
   "metadata": {},
   "outputs": [],
   "source": [
    "forecast_model = tf.keras.Model(inputs, outputs, name=\"Conv_LSTM\")"
   ]
  },
  {
   "cell_type": "code",
   "execution_count": 9,
   "metadata": {},
   "outputs": [],
   "source": [
    "# Verify output shape.\n",
    "forecast_model.predict(a).shape"
   ]
  },
  {
   "cell_type": "code",
   "execution_count": 10,
   "metadata": {},
   "outputs": [],
   "source": [
    "# Compile model.\n",
    "opt = tf.keras.optimizers.Adam(learning_rate=0.0001)\n",
    "loss_fn = tf.keras.losses.BinaryCrossentropy()\n",
    "forecast_model.compile(loss=loss_fn, optimizer=opt, metrics=['accuracy'])"
   ]
  },
  {
   "cell_type": "code",
   "execution_count": 11,
   "metadata": {},
   "outputs": [],
   "source": [
    "# Data loaders.\n",
    "batch_size = 64\n",
    "meta_t = pd.read_csv('V3_CLSTM_Dataset/train/meta.csv')\n",
    "meta_v = pd.read_csv('V3_CLSTM_Dataset/val/meta.csv')\n",
    "#t_gen = data_generator(meta_t, batch_size = batch_size)\n",
    "#v_gen = data_generator(meta_v, batch_size = batch_size)"
   ]
  },
  {
   "cell_type": "code",
   "execution_count": 12,
   "metadata": {},
   "outputs": [],
   "source": [
    "# Trying new approach to build dataset.\n",
    "x_train, y_train, x_val, y_val = [],[],[],[]\n",
    "\n",
    "# Iterate over dataset.\n",
    "for x in range(0,len(meta_t)):\n",
    "    x_train.append(np.load(meta_t.iloc[x].features))\n",
    "    y_train.append(np.load(meta_t.iloc[x].labels))\n",
    "for x in range(0,len(meta_v)):\n",
    "    x_val.append(np.load(meta_v.iloc[x].features))\n",
    "    y_val.append(np.load(meta_v.iloc[x].labels))\n",
    "    \n",
    "# Stack layers.\n",
    "x_train = np.stack(x_train)\n",
    "y_train = np.stack(y_train)\n",
    "x_val = np.stack(x_val)\n",
    "y_val = np.stack(y_val)\n",
    "\n",
    "# Convert values > 1 to 1.\n",
    "x_train = np.minimum(x_train,1)\n",
    "y_train = np.minimum(y_train,1)\n",
    "x_val = np.minimum(x_val,1)\n",
    "y_val = np.minimum(y_val,1)\n",
    "\n",
    "# Add channel dims to labels.\n",
    "y_train = tf.expand_dims(y_train, axis = -1).numpy()\n",
    "y_val = tf.expand_dims(y_val, axis = -1).numpy()"
   ]
  },
  {
   "cell_type": "code",
   "execution_count": 13,
   "metadata": {},
   "outputs": [],
   "source": [
    "## Experiment: modify output to single frame.\n",
    "y_train = y_train[:,:1]\n",
    "y_val = y_val[:,:1]"
   ]
  },
  {
   "cell_type": "code",
   "execution_count": 24,
   "metadata": {},
   "outputs": [],
   "source": [
    "## Get rid of defo channel.\n",
    "#x_train = np.stack([x_train[:,:,:,:,0], x_train[:,:,:,:,2], x_train[:,:,:,:,3]], axis = -1)\n",
    "#x_val = np.stack([x_val[:,:,:,:,0], x_val[:,:,:,:,2], x_val[:,:,:,:,3]], axis = -1)"
   ]
  },
  {
   "cell_type": "code",
   "execution_count": 25,
   "metadata": {},
   "outputs": [],
   "source": [
    "# Solution for problem with class_weights not working with 3D outputs in tensorflow.\n",
    "# From: https://github.com/keras-team/keras/issues/3653\n",
    "def generate_sample_weights(training_data, class_weights): \n",
    "    #replaces values for up to 3 classes with the values from class_weights#\n",
    "    sample_weights = [np.where(y==0,class_weights[0],\n",
    "                        np.where(y==1,class_weights[1],\n",
    "                        y)) for y in training_data]\n",
    "    return np.asarray(sample_weights)"
   ]
  },
  {
   "cell_type": "code",
   "execution_count": 26,
   "metadata": {},
   "outputs": [
    {
     "data": {
      "text/plain": [
       "array([ 0.50664783, 38.10623077])"
      ]
     },
     "execution_count": 26,
     "metadata": {},
     "output_type": "execute_result"
    }
   ],
   "source": [
    "# Get class weights for weighted binary cross entropy loss.\n",
    "weights = class_weight.compute_class_weight('balanced',\n",
    "                                            classes = [0,1],\n",
    "                                            y = y_train.flatten())\n",
    "# Examine weights.\n",
    "weights"
   ]
  },
  {
   "cell_type": "code",
   "execution_count": 27,
   "metadata": {},
   "outputs": [],
   "source": [
    "calculated_sample_weights = generate_sample_weights(y_train, weights)"
   ]
  },
  {
   "cell_type": "code",
   "execution_count": 28,
   "metadata": {},
   "outputs": [],
   "source": [
    "# Move numpy objects to tensors.\n",
    "x_train = tf.convert_to_tensor(x_train)\n",
    "y_train = tf.convert_to_tensor(y_train)\n",
    "x_val = tf.convert_to_tensor(x_val)\n",
    "y_val = tf.convert_to_tensor(y_val)\n",
    "calculated_sample_weights = tf.convert_to_tensor(calculated_sample_weights)"
   ]
  },
  {
   "cell_type": "code",
   "execution_count": 29,
   "metadata": {},
   "outputs": [
    {
     "data": {
      "text/plain": [
       "True"
      ]
     },
     "execution_count": 29,
     "metadata": {},
     "output_type": "execute_result"
    }
   ],
   "source": [
    "# Validate weight matrix shape.\n",
    "calculated_sample_weights.shape == y_train.shape"
   ]
  },
  {
   "cell_type": "code",
   "execution_count": 30,
   "metadata": {},
   "outputs": [
    {
     "name": "stdout",
     "output_type": "stream",
     "text": [
      "Epoch 1/100\n",
      "2474/2474 [==============================] - 203s 80ms/step - loss: 0.5069 - accuracy: 0.7960 - val_loss: 0.2851 - val_accuracy: 0.9390 - lr: 1.0000e-04\n",
      "Epoch 2/100\n",
      "2474/2474 [==============================] - 197s 80ms/step - loss: 0.4558 - accuracy: 0.8420 - val_loss: 0.3425 - val_accuracy: 0.8988 - lr: 1.0000e-04\n",
      "Epoch 3/100\n",
      "2474/2474 [==============================] - 197s 79ms/step - loss: 0.4445 - accuracy: 0.8412 - val_loss: 0.5241 - val_accuracy: 0.7926 - lr: 1.0000e-04\n",
      "Epoch 4/100\n",
      "2474/2474 [==============================] - 197s 79ms/step - loss: 0.4288 - accuracy: 0.8433 - val_loss: 0.3815 - val_accuracy: 0.8748 - lr: 1.0000e-05\n",
      "Epoch 5/100\n",
      "2474/2474 [==============================] - 197s 80ms/step - loss: 0.4254 - accuracy: 0.8396 - val_loss: 0.3176 - val_accuracy: 0.8827 - lr: 1.0000e-05\n",
      "Epoch 6/100\n",
      "2474/2474 [==============================] - 202s 81ms/step - loss: 0.4212 - accuracy: 0.8405 - val_loss: 0.3479 - val_accuracy: 0.8773 - lr: 1.0000e-06\n",
      "Epoch 7/100\n",
      "2474/2474 [==============================] - 198s 80ms/step - loss: 0.4207 - accuracy: 0.8397 - val_loss: 0.3566 - val_accuracy: 0.8756 - lr: 1.0000e-06\n",
      "Epoch 8/100\n",
      "2474/2474 [==============================] - 199s 80ms/step - loss: 0.4202 - accuracy: 0.8411 - val_loss: 0.3547 - val_accuracy: 0.8771 - lr: 1.0000e-07\n",
      "Epoch 9/100\n",
      "2474/2474 [==============================] - 198s 80ms/step - loss: 0.4216 - accuracy: 0.8405 - val_loss: 0.3583 - val_accuracy: 0.8763 - lr: 1.0000e-07\n",
      "Epoch 10/100\n",
      "2474/2474 [==============================] - 200s 81ms/step - loss: 0.4195 - accuracy: 0.8400 - val_loss: 0.3544 - val_accuracy: 0.8769 - lr: 1.0000e-08\n",
      "Epoch 11/100\n",
      "2474/2474 [==============================] - 200s 81ms/step - loss: 0.4199 - accuracy: 0.8403 - val_loss: 0.3532 - val_accuracy: 0.8775 - lr: 1.0000e-08\n"
     ]
    },
    {
     "data": {
      "text/plain": [
       "<keras.callbacks.History at 0x1efbb2820d0>"
      ]
     },
     "execution_count": 30,
     "metadata": {},
     "output_type": "execute_result"
    }
   ],
   "source": [
    "# Params\n",
    "batch_size = 4\n",
    "\n",
    "# Adding callbacks.\n",
    "early_stopping = tf.keras.callbacks.EarlyStopping(monitor=\"val_loss\", patience=10, restore_best_weights=True)\n",
    "reduce_lr = tf.keras.callbacks.ReduceLROnPlateau(monitor=\"val_loss\", patience=2)\n",
    "\n",
    "# Train model.\n",
    "forecast_model.fit(x_train,\n",
    "                   y_train,\n",
    "                   epochs = 100, \n",
    "                   verbose = 1, \n",
    "                   batch_size = batch_size,\n",
    "                   validation_data = (x_val, y_val),\n",
    "                   callbacks = [early_stopping, reduce_lr],\n",
    "                   sample_weight = calculated_sample_weights\n",
    "                  )"
   ]
  },
  {
   "cell_type": "code",
   "execution_count": 31,
   "metadata": {},
   "outputs": [
    {
     "name": "stderr",
     "output_type": "stream",
     "text": [
      "WARNING:absl:Found untraced functions such as _jit_compiled_convolution_op while saving (showing 1 of 1). These functions will not be directly callable after loading.\n"
     ]
    },
    {
     "name": "stdout",
     "output_type": "stream",
     "text": [
      "INFO:tensorflow:Assets written to: Models/W04\\assets\n"
     ]
    },
    {
     "name": "stderr",
     "output_type": "stream",
     "text": [
      "INFO:tensorflow:Assets written to: Models/W04\\assets\n"
     ]
    }
   ],
   "source": [
    "# Save trained model.\n",
    "forecast_model.save('Models/W04')"
   ]
  },
  {
   "cell_type": "code",
   "execution_count": null,
   "metadata": {},
   "outputs": [],
   "source": [
    "forecast_model = tf.keras.models.load_model('Models/W04')"
   ]
  },
  {
   "cell_type": "markdown",
   "metadata": {},
   "source": [
    "### Examing single-frame predictions"
   ]
  },
  {
   "cell_type": "code",
   "execution_count": 32,
   "metadata": {},
   "outputs": [
    {
     "name": "stdout",
     "output_type": "stream",
     "text": [
      "1/1 [==============================] - 0s 423ms/step\n"
     ]
    }
   ],
   "source": [
    "# Select a random example from the validation dataset.\n",
    "example = np.random.choice(range(len(x_val)), size=1)[0]\n",
    "\n",
    "# Pick the first/last ten frames from the example.\n",
    "feature_frames = x_val[example, ...]\n",
    "label_frames = y_val[example, ...]\n",
    "pred_frames = []\n",
    "\n",
    "# Predict a new set of 10 frames.\n",
    "# Extract the model's prediction and post-process it.\n",
    "new_prediction = forecast_model.predict(np.expand_dims(feature_frames, axis=0))\n",
    "new_prediction = np.squeeze(new_prediction, axis=0)\n",
    "predicted_frame = np.expand_dims(new_prediction[-1, ...], axis=0)\n",
    "pred_frames.append(predicted_frame)\n",
    "    \n",
    "\n",
    "# Extend the set of prediction frames.\n",
    "pred_frames = np.concatenate(pred_frames)"
   ]
  },
  {
   "cell_type": "code",
   "execution_count": 33,
   "metadata": {},
   "outputs": [
    {
     "data": {
      "text/plain": [
       "True"
      ]
     },
     "execution_count": 33,
     "metadata": {},
     "output_type": "execute_result"
    }
   ],
   "source": [
    "# Shape verification.\n",
    "label_frames.shape == pred_frames.shape"
   ]
  },
  {
   "cell_type": "code",
   "execution_count": 34,
   "metadata": {},
   "outputs": [
    {
     "data": {
      "image/png": "[encoded data removed]",
      "text/plain": [
       "<Figure size 2160x576 with 20 Axes>"
      ]
     },
     "metadata": {
      "needs_background": "light"
     },
     "output_type": "display_data"
    }
   ],
   "source": [
    "# Construct a figure for the original and new frames.\n",
    "fig, axes = plt.subplots(2, 10, figsize=(30, 8))\n",
    "\n",
    "# Plot the fire frames.\n",
    "for idx, ax in enumerate(axes[0]):\n",
    "    ax.imshow(np.squeeze(feature_frames[idx][:,:,:1]), cmap=\"gray\")\n",
    "    ax.set_title(f\"F Frame {idx + 1}\")\n",
    "    ax.axis(\"off\")\n",
    "\n",
    "# Plot the deforestation frames.\n",
    "for idx, ax in enumerate(axes[1]):\n",
    "    ax.imshow(np.squeeze(feature_frames[idx][:,:,1:2]), cmap=\"gray\")\n",
    "    ax.set_title(f\"D Frame {idx + 1}\")\n",
    "    ax.axis(\"off\")\n",
    "    \n",
    "# Display the figure.\n",
    "plt.show()"
   ]
  },
  {
   "cell_type": "code",
   "execution_count": 35,
   "metadata": {},
   "outputs": [
    {
     "data": {
      "image/png": "[encoded data removed]",
      "text/plain": [
       "<Figure size 2160x576 with 4 Axes>"
      ]
     },
     "metadata": {
      "needs_background": "light"
     },
     "output_type": "display_data"
    }
   ],
   "source": [
    "# Construct a figure for the original and new frames.\n",
    "fig, axes = plt.subplots(1, 4, figsize=(30, 8))\n",
    "\n",
    "# Plot the last feature frame.\n",
    "axes[0].imshow(np.squeeze(feature_frames[9][:,:,:1]), cmap=\"gray\")\n",
    "axes[0].set_title(f\"F Frame\")\n",
    "axes[0].axis(\"off\")\n",
    "\n",
    "# Plot the label frame.\n",
    "axes[1].imshow(np.squeeze(label_frames[0]), cmap=\"gray\")\n",
    "axes[1].set_title(f\"L Frame\")\n",
    "axes[1].axis(\"off\")\n",
    "    \n",
    "# Plot the predicted frame.\n",
    "axes[2].imshow(np.squeeze(pred_frames[0]), cmap=\"gray\")\n",
    "axes[2].set_title(f\"P Frame\")\n",
    "axes[2].axis(\"off\")\n",
    "\n",
    "# Plot binarized prediction.\n",
    "axes[3].imshow(np.squeeze(np.where(pred_frames > 0.85, 1, 0)), cmap=\"gray\")\n",
    "axes[3].set_title(f\"Binarized\")\n",
    "axes[3].axis(\"off\")\n",
    "\n",
    "# Display the figure.\n",
    "plt.show()"
   ]
  },
  {
   "cell_type": "code",
   "execution_count": 36,
   "metadata": {},
   "outputs": [
    {
     "data": {
      "image/png": "[encoded data removed]",
      "text/plain": [
       "<Figure size 2160x576 with 20 Axes>"
      ]
     },
     "metadata": {
      "needs_background": "light"
     },
     "output_type": "display_data"
    }
   ],
   "source": [
    "# Construct a figure to show all prediction thresholds.\n",
    "fig, axes = plt.subplots(2, 10, figsize=(30, 8))\n",
    "\n",
    "# Plot the frames.\n",
    "for idx, ax in enumerate(axes[0]):\n",
    "    ax.imshow(np.squeeze(np.where(pred_frames > ((idx + 1) * 0.05), 1, 0)), cmap=\"gray\")\n",
    "    ax.set_title(f\"Threshold {round((idx + 1) * 0.05, 2)}\")\n",
    "    ax.axis(\"off\")\n",
    "\n",
    "for idx, ax in enumerate(axes[1]):\n",
    "    ax.imshow(np.squeeze(np.where(pred_frames > ((idx + 11) * 0.05), 1, 0)), cmap=\"gray\")\n",
    "    ax.set_title(f\"Threshold {round((idx + 11) * 0.05, 2)}\")\n",
    "    ax.axis(\"off\")\n",
    "    \n",
    "# Display the figure.\n",
    "plt.show()"
   ]
  },
  {
   "cell_type": "code",
   "execution_count": 37,
   "metadata": {},
   "outputs": [
    {
     "data": {
      "text/plain": [
       "[(0.0, 0.0068359375),\n",
       " (0.05, 0.007709251101321586),\n",
       " (0.1, 0.009126466753585397),\n",
       " (0.15, 0.027888446215139442),\n",
       " (0.2, 0.05223880597014925),\n",
       " (0.25, 0.09090909090909091),\n",
       " (0.3, 0.109375),\n",
       " (0.35, 0.125),\n",
       " (0.4, 0.14),\n",
       " (0.45, 0.18421052631578946),\n",
       " (0.5, 0.21875),\n",
       " (0.55, 0.20689655172413793),\n",
       " (0.6, 0.18518518518518517),\n",
       " (0.65, 0.20833333333333334),\n",
       " (0.7, 0.23809523809523808),\n",
       " (0.75, 0.2631578947368421),\n",
       " (0.8, 0.26666666666666666),\n",
       " (0.85, 0.2222222222222222),\n",
       " (0.9, 0.0),\n",
       " (0.95, 0.0),\n",
       " (1.0, 0.0)]"
      ]
     },
     "execution_count": 37,
     "metadata": {},
     "output_type": "execute_result"
    }
   ],
   "source": [
    "# Get first sample IoU\n",
    "thresholds = [x/100 for x in range(0,105,5)]\n",
    "ious = []\n",
    "for t in thresholds:\n",
    "    intersection = np.logical_and(np.where(pred_frames > t, 1, 0), label_frames[0])\n",
    "    union = np.logical_or(np.where(pred_frames > t, 1, 0), label_frames[0])\n",
    "    iou_score = np.sum(intersection) / np.sum(union)\n",
    "    ious.append((t,iou_score))\n",
    "ious"
   ]
  },
  {
   "cell_type": "markdown",
   "metadata": {},
   "source": [
    "### Get IoU for full prediction set."
   ]
  },
  {
   "cell_type": "code",
   "execution_count": 38,
   "metadata": {},
   "outputs": [
    {
     "name": "stdout",
     "output_type": "stream",
     "text": [
      "60/60 [==============================] - 6s 91ms/step\n"
     ]
    }
   ],
   "source": [
    "# Predict on everything.\n",
    "all_preds = forecast_model.predict(x_val)"
   ]
  },
  {
   "cell_type": "code",
   "execution_count": 39,
   "metadata": {},
   "outputs": [
    {
     "data": {
      "text/plain": [
       "[(0.0, 0.008262786704784437),\n",
       " (0.05, 0.008901590677477957),\n",
       " (0.1, 0.009757206958018317),\n",
       " (0.15, 0.011307718469102104),\n",
       " (0.2, 0.01578332098460525),\n",
       " (0.25, 0.03142322864900866),\n",
       " (0.3, 0.04749338155393981),\n",
       " (0.35, 0.056277946511431705),\n",
       " (0.4, 0.060810116482201255),\n",
       " (0.45, 0.06474244993039187),\n",
       " (0.5, 0.06871426442560334),\n",
       " (0.55, 0.0716056790406692),\n",
       " (0.6, 0.07353985092873763),\n",
       " (0.65, 0.07473623802586854),\n",
       " (0.7, 0.07587713821950307),\n",
       " (0.75, 0.07527070017219742),\n",
       " (0.8, 0.0726136303273899),\n",
       " (0.85, 0.06624663288134046),\n",
       " (0.9, 0.05050861598690755),\n",
       " (0.95, 0.020176045890614183),\n",
       " (1.0, 0.0)]"
      ]
     },
     "execution_count": 39,
     "metadata": {},
     "output_type": "execute_result"
    }
   ],
   "source": [
    "# Get IoU.\n",
    "thresholds = [x/100 for x in range(0,105,5)]\n",
    "ious = []\n",
    "for t in thresholds:\n",
    "    intersection = np.logical_and(np.where(all_preds > t, 1, 0), y_val)\n",
    "    union = np.logical_or(np.where(all_preds > t, 1, 0), y_val)\n",
    "    iou_score = np.sum(intersection) / np.sum(union)\n",
    "    ious.append((t,iou_score))\n",
    "ious"
   ]
  },
  {
   "cell_type": "code",
   "execution_count": 40,
   "metadata": {},
   "outputs": [
    {
     "data": {
      "text/plain": [
       "0.07210368866621648"
      ]
     },
     "execution_count": 40,
     "metadata": {},
     "output_type": "execute_result"
    }
   ],
   "source": [
    "# Get MSE.\n",
    "mses = [mean_squared_error(all_preds[x], y_val[x].numpy()) for x in range(0,len(all_preds))]\n",
    "mean_squared_error(all_preds, y_val.numpy())"
   ]
  },
  {
   "cell_type": "code",
   "execution_count": 41,
   "metadata": {},
   "outputs": [],
   "source": [
    "## Get SSIM if masking is applied.\n",
    "## Calculation seems to be skewed and giving unreasonably high scores with masking applied.\n",
    "#thresholds = [x/100 for x in range(0,105,5)]\n",
    "#masked_ssims = []\n",
    "#for t in thresholds:\n",
    "#    t_ssim = [ssim(np.where(all_preds[x][0] > t, 1, 0), y_val[x][0].numpy(), multichannel = True) for x in range(0,len(all_preds))]\n",
    "#    t_ssim2 = sum(t_ssim) / len(t_ssim)\n",
    "#    masked_ssims.append((t,t_ssim2))\n",
    "#masked_ssims"
   ]
  },
  {
   "cell_type": "code",
   "execution_count": 42,
   "metadata": {},
   "outputs": [
    {
     "data": {
      "text/plain": [
       "0.12160379529264818"
      ]
     },
     "execution_count": 42,
     "metadata": {},
     "output_type": "execute_result"
    }
   ],
   "source": [
    "# Get Peak Signal-to-Noise Ratio (PSNR)\n",
    "psnrs = [PSNR(all_preds[x], y_val[x][0].numpy()) for x in range(0,len(all_preds))]\n",
    "set_psnr = sum(psnrs) / len(psnrs)\n",
    "set_psnr"
   ]
  },
  {
   "cell_type": "code",
   "execution_count": 43,
   "metadata": {},
   "outputs": [
    {
     "name": "stderr",
     "output_type": "stream",
     "text": [
      "C:\\Users\\covad\\anaconda3\\lib\\site-packages\\skimage\\metrics\\_structural_similarity.py:107: UserWarning: Inputs have mismatched dtype.  Setting data_range based on im1.dtype.\n",
      "  ch_result = structural_similarity(im1[..., ch],\n"
     ]
    },
    {
     "data": {
      "text/plain": [
       "0.015064661098911013"
      ]
     },
     "execution_count": 43,
     "metadata": {},
     "output_type": "execute_result"
    }
   ],
   "source": [
    "# Get raw mean SSIM\n",
    "ssims = [ssim(all_preds[x][0], y_val[x][0].numpy(), multichannel = True) for x in range(0,len(all_preds))]\n",
    "mean_raw_ssim = sum(ssims) / len(ssims)\n",
    "mean_raw_ssim"
   ]
  },
  {
   "cell_type": "code",
   "execution_count": 44,
   "metadata": {},
   "outputs": [
    {
     "data": {
      "text/plain": [
       "numpy.ndarray"
      ]
     },
     "execution_count": 44,
     "metadata": {},
     "output_type": "execute_result"
    }
   ],
   "source": [
    "type(y_val[x][0].numpy())"
   ]
  },
  {
   "cell_type": "code",
   "execution_count": 45,
   "metadata": {},
   "outputs": [],
   "source": [
    "# Get DataFrame of all prediction grades.\n",
    "rows = []\n",
    "for s in range(0,len(all_preds)): \n",
    "    thresholds = [x/100 for x in range(0,105,5)]\n",
    "    t_ious = []\n",
    "    for t in thresholds:\n",
    "        intersection = np.logical_and(np.where(all_preds[s] > t, 1, 0), y_val[s])\n",
    "        union = np.logical_or(np.where(all_preds[s] > t, 1, 0), y_val[s])\n",
    "        if np.sum(union) > 0:\n",
    "            iou_score = np.sum(intersection) / np.sum(union)\n",
    "        else:\n",
    "            iou_score = 0\n",
    "        t_ious.append(iou_score)\n",
    "    rows.append(t_ious)\n",
    "iou_df = pd.DataFrame(rows)\n",
    "iou_df['ssim'] = ssims\n",
    "iou_df['mse'] = mses\n",
    "iou_df['psnr'] = psnrs"
   ]
  },
  {
   "cell_type": "markdown",
   "metadata": {},
   "source": [
    "### Examining Good Predictions"
   ]
  },
  {
   "cell_type": "code",
   "execution_count": 46,
   "metadata": {},
   "outputs": [
    {
     "data": {
      "text/plain": [
       "0.11300476504911074"
      ]
     },
     "execution_count": 46,
     "metadata": {},
     "output_type": "execute_result"
    },
    {
     "data": {
      "image/png": "[encoded data removed]",
      "text/plain": [
       "<Figure size 720x360 with 2 Axes>"
      ]
     },
     "metadata": {
      "needs_background": "light"
     },
     "output_type": "display_data"
    }
   ],
   "source": [
    "# Examining the best SSIM\n",
    "x = iou_df.sort_values(by = 'ssim', ascending = False).index[0]\n",
    "fig, axes = plt.subplots(1, 2, figsize=(10, 5))\n",
    "axes[0].imshow(all_preds[x][0], cmap=\"gray\")\n",
    "axes[1].imshow(y_val[x][0].numpy(), cmap=\"gray\")\n",
    "ssims[x]"
   ]
  },
  {
   "cell_type": "code",
   "execution_count": 47,
   "metadata": {},
   "outputs": [
    {
     "data": {
      "text/plain": [
       "0.017745037022834264"
      ]
     },
     "execution_count": 47,
     "metadata": {},
     "output_type": "execute_result"
    },
    {
     "data": {
      "image/png": "[encoded data removed]",
      "text/plain": [
       "<Figure size 720x360 with 2 Axes>"
      ]
     },
     "metadata": {
      "needs_background": "light"
     },
     "output_type": "display_data"
    }
   ],
   "source": [
    "# Examining the best MSE\n",
    "x = iou_df.sort_values(by = 'mse', ascending = True).index[0]\n",
    "fig, axes = plt.subplots(1, 2, figsize=(10, 5))\n",
    "axes[0].imshow(all_preds[x][0], cmap=\"gray\")\n",
    "axes[1].imshow(y_val[x][0].numpy(), cmap=\"gray\")\n",
    "mses[x]"
   ]
  },
  {
   "cell_type": "code",
   "execution_count": 48,
   "metadata": {},
   "outputs": [
    {
     "data": {
      "text/plain": [
       "0       0.131836\n",
       "1       0.140479\n",
       "2       0.141066\n",
       "3       0.149830\n",
       "4       0.160661\n",
       "5       0.217391\n",
       "6       0.305085\n",
       "7       0.500000\n",
       "8       0.666667\n",
       "9       0.500000\n",
       "10      0.571429\n",
       "11      0.666667\n",
       "12      0.583333\n",
       "13      1.000000\n",
       "14      1.000000\n",
       "15      0.551020\n",
       "16      0.550000\n",
       "17      0.777778\n",
       "18      0.500000\n",
       "19      0.500000\n",
       "20      0.000000\n",
       "ssim    0.113005\n",
       "mse     0.382509\n",
       "psnr    0.175092\n",
       "dtype: float64"
      ]
     },
     "execution_count": 48,
     "metadata": {},
     "output_type": "execute_result"
    }
   ],
   "source": [
    "iou_df.max()"
   ]
  },
  {
   "cell_type": "code",
   "execution_count": 49,
   "metadata": {},
   "outputs": [
    {
     "data": {
      "text/plain": [
       "443     0.500000\n",
       "1383    0.428571\n",
       "755     0.388889\n",
       "608     0.311475\n",
       "1327    0.266667\n",
       "          ...   \n",
       "643     0.000000\n",
       "642     0.000000\n",
       "641     0.000000\n",
       "640     0.000000\n",
       "1901    0.000000\n",
       "Name: 19, Length: 1902, dtype: float64"
      ]
     },
     "execution_count": 49,
     "metadata": {},
     "output_type": "execute_result"
    }
   ],
   "source": [
    "iou_df[19].sort_values(ascending = False)"
   ]
  },
  {
   "cell_type": "code",
   "execution_count": 50,
   "metadata": {},
   "outputs": [
    {
     "data": {
      "text/plain": [
       "412     1.000000\n",
       "596     0.800000\n",
       "1005    0.777778\n",
       "731     0.750000\n",
       "598     0.571429\n",
       "Name: 14, dtype: float64"
      ]
     },
     "execution_count": 50,
     "metadata": {},
     "output_type": "execute_result"
    }
   ],
   "source": [
    "iou_df[14].sort_values(ascending = False)[:5]"
   ]
  },
  {
   "cell_type": "code",
   "execution_count": 51,
   "metadata": {},
   "outputs": [
    {
     "data": {
      "image/png": "[encoded data removed]",
      "text/plain": [
       "<Figure size 1800x1440 with 25 Axes>"
      ]
     },
     "metadata": {
      "needs_background": "light"
     },
     "output_type": "display_data"
    }
   ],
   "source": [
    "# Construct a figure for the original and new frames.\n",
    "fig, all_axes = plt.subplots(5, 5, figsize=(25, 20))\n",
    "\n",
    "# List of samples to check:\n",
    "tgts = list(iou_df[15].sort_values(ascending = False)[:5].index)\n",
    "x = -1\n",
    "\n",
    "for axes in all_axes:\n",
    "    x += 1\n",
    "    \n",
    "    # Plot deforestaion.\n",
    "    axes[0].imshow(np.squeeze(x_val[tgts[x]][9][:,:,1:2]), cmap=\"Greens_r\")\n",
    "    axes[0].set_title(f\"D Frame\")\n",
    "    axes[0].axis(\"off\")\n",
    "    \n",
    "    # Plot the last feature frame.\n",
    "    axes[1].imshow(np.squeeze(x_val[tgts[x]][9][:,:,:1]), cmap=\"gray\")\n",
    "    axes[1].set_title(f\"F Frame\")\n",
    "    axes[1].axis(\"off\")\n",
    "\n",
    "    # Plot the label frame.\n",
    "    axes[2].imshow(np.squeeze(y_val[tgts[x]]), cmap=\"gray\")\n",
    "    axes[2].set_title(f\"L Frame\")\n",
    "    axes[2].axis(\"off\")\n",
    "\n",
    "    # Plot the predicted frame.\n",
    "    axes[3].imshow(np.squeeze(all_preds[tgts[x]]), cmap=\"gray\")\n",
    "    axes[3].set_title(f\"P Frame\")\n",
    "    axes[3].axis(\"off\")\n",
    "\n",
    "    # Plot binarized prediction.\n",
    "    axes[4].imshow(np.squeeze(np.where(all_preds[tgts[x]] > 0.75, 1, 0)), cmap=\"gray\")\n",
    "    axes[4].set_title(f\"Binarized\")\n",
    "    axes[4].axis(\"off\")\n",
    "\n",
    "# Display the figure.\n",
    "plt.show()"
   ]
  },
  {
   "cell_type": "markdown",
   "metadata": {},
   "source": [
    "### Examining Pretty Bad Predictions"
   ]
  },
  {
   "cell_type": "code",
   "execution_count": 52,
   "metadata": {},
   "outputs": [
    {
     "data": {
      "text/plain": [
       "1333    0.021978\n",
       "1144    0.022222\n",
       "1827    0.022472\n",
       "885     0.023810\n",
       "1341    0.024194\n",
       "          ...   \n",
       "1327    0.266667\n",
       "608     0.311475\n",
       "755     0.388889\n",
       "1383    0.428571\n",
       "443     0.500000\n",
       "Name: 19, Length: 78, dtype: float64"
      ]
     },
     "execution_count": 52,
     "metadata": {},
     "output_type": "execute_result"
    }
   ],
   "source": [
    "iou_df[iou_df[19] > 0.02][19].sort_values()"
   ]
  },
  {
   "cell_type": "code",
   "execution_count": 53,
   "metadata": {},
   "outputs": [
    {
     "data": {
      "image/png": "[encoded data removed]",
      "text/plain": [
       "<Figure size 1800x1800 with 25 Axes>"
      ]
     },
     "metadata": {
      "needs_background": "light"
     },
     "output_type": "display_data"
    }
   ],
   "source": [
    "# Construct a figure for the original and new frames.\n",
    "fig, all_axes = plt.subplots(5, 5, figsize=(25, 25))\n",
    "\n",
    "# List of samples to check:\n",
    "tgts = list(iou_df[iou_df[19] > 0.02][19].sort_values()[:5].index)\n",
    "x = -1\n",
    "\n",
    "for axes in all_axes:\n",
    "    x += 1\n",
    "    \n",
    "    # Plot deforestaion.\n",
    "    axes[0].imshow(np.squeeze(x_val[tgts[x]][9][:,:,1:2]), cmap=\"Greens_r\")\n",
    "    axes[0].set_title(f\"D Frame\")\n",
    "    axes[0].axis(\"off\")\n",
    "    \n",
    "    # Plot the last feature frame.\n",
    "    axes[1].imshow(np.squeeze(x_val[tgts[x]][9][:,:,:1]), cmap=\"gray\")\n",
    "    axes[1].set_title(f\"F Frame\")\n",
    "    axes[1].axis(\"off\")\n",
    "\n",
    "    # Plot the label frame.\n",
    "    axes[2].imshow(np.squeeze(y_val[tgts[x]]), cmap=\"gray\")\n",
    "    axes[2].set_title(f\"L Frame\")\n",
    "    axes[2].axis(\"off\")\n",
    "\n",
    "    # Plot the predicted frame.\n",
    "    axes[3].imshow(np.squeeze(all_preds[tgts[x]]), cmap=\"gray\")\n",
    "    axes[3].set_title(f\"P Frame\")\n",
    "    axes[3].axis(\"off\")\n",
    "\n",
    "    # Plot binarized prediction.\n",
    "    axes[4].imshow(np.squeeze(np.where(all_preds[tgts[x]] > 0.75, 1, 0)), cmap=\"gray\")\n",
    "    axes[4].set_title(f\"Binarized\")\n",
    "    axes[4].axis(\"off\")\n",
    "\n",
    "# Display the figure.\n",
    "plt.show()"
   ]
  },
  {
   "cell_type": "code",
   "execution_count": 54,
   "metadata": {},
   "outputs": [
    {
     "name": "stdout",
     "output_type": "stream",
     "text": [
      "ssim 0.015064661098911013\n",
      "psnr 0.12160379529264818\n",
      "mse 0.07210368866621648\n"
     ]
    },
    {
     "data": {
      "text/plain": [
       "[(0.0, 0.008262786704784437),\n",
       " (0.05, 0.008901590677477957),\n",
       " (0.1, 0.009757206958018317),\n",
       " (0.15, 0.011307718469102104),\n",
       " (0.2, 0.01578332098460525),\n",
       " (0.25, 0.03142322864900866),\n",
       " (0.3, 0.04749338155393981),\n",
       " (0.35, 0.056277946511431705),\n",
       " (0.4, 0.060810116482201255),\n",
       " (0.45, 0.06474244993039187),\n",
       " (0.5, 0.06871426442560334),\n",
       " (0.55, 0.0716056790406692),\n",
       " (0.6, 0.07353985092873763),\n",
       " (0.65, 0.07473623802586854),\n",
       " (0.7, 0.07587713821950307),\n",
       " (0.75, 0.07527070017219742),\n",
       " (0.8, 0.0726136303273899),\n",
       " (0.85, 0.06624663288134046),\n",
       " (0.9, 0.05050861598690755),\n",
       " (0.95, 0.020176045890614183),\n",
       " (1.0, 0.0)]"
      ]
     },
     "execution_count": 54,
     "metadata": {},
     "output_type": "execute_result"
    }
   ],
   "source": [
    "# Print all set metrics again for ease of gathering.\n",
    "print('ssim',mean_raw_ssim)\n",
    "print('psnr',set_psnr)\n",
    "print('mse',mean_squared_error(all_preds, y_val.numpy()))\n",
    "ious"
   ]
  },
  {
   "cell_type": "code",
   "execution_count": 55,
   "metadata": {},
   "outputs": [
    {
     "data": {
      "text/html": [
       "\n",
       "                <audio  controls=\"controls\" autoplay=\"autoplay\">\n",
       "                    <source src=\"https://sound.peal.io/ps/audios/000/000/537/original/woo_vu_luvub_dub_dub.wav\" type=\"audio/wav\" />\n",
       "                    Your browser does not support the audio element.\n",
       "                </audio>\n",
       "              "
      ],
      "text/plain": [
       "<IPython.lib.display.Audio object>"
      ]
     },
     "metadata": {},
     "output_type": "display_data"
    }
   ],
   "source": [
    "### Alert on completion\n",
    "from IPython.display import Audio, display\n",
    "display(Audio(url='https://sound.peal.io/ps/audios/000/000/537/original/woo_vu_luvub_dub_dub.wav', autoplay=True))"
   ]
  }
 ],
 "metadata": {
  "kernelspec": {
   "display_name": "Python 3 (ipykernel)",
   "language": "python",
   "name": "python3"
  },
  "language_info": {
   "codemirror_mode": {
    "name": "ipython",
    "version": 3
   },
   "file_extension": ".py",
   "mimetype": "text/x-python",
   "name": "python",
   "nbconvert_exporter": "python",
   "pygments_lexer": "ipython3",
   "version": "3.9.7"
  }
 },
 "nbformat": 4,
 "nbformat_minor": 4
}
