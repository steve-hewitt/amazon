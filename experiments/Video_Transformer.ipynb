{
 "cells": [
  {
   "cell_type": "markdown",
   "metadata": {},
   "source": [
    "### Import block"
   ]
  },
  {
   "cell_type": "code",
   "execution_count": 1,
   "metadata": {},
   "outputs": [],
   "source": [
    "import pandas as pd\n",
    "import numpy as np\n",
    "import tensorflow as tf\n",
    "import matplotlib.pyplot as plt\n",
    "\n",
    "from tensorflow.keras import layers\n",
    "from tensorflow.keras.models import Sequential\n",
    "from tensorflow.keras.initializers import Constant\n",
    "\n",
    "from sklearn.utils import class_weight\n",
    "from skimage.metrics import structural_similarity as ssim\n",
    "from skimage.metrics import mean_squared_error\n",
    "\n",
    "from math import log10, sqrt\n",
    "\n",
    "from tensorflow.keras import layers\n",
    "from tensorflow import keras\n",
    "\n",
    "%matplotlib inline"
   ]
  },
  {
   "cell_type": "code",
   "execution_count": 2,
   "metadata": {},
   "outputs": [
    {
     "data": {
      "text/plain": [
       "[PhysicalDevice(name='/physical_device:GPU:0', device_type='GPU')]"
      ]
     },
     "execution_count": 2,
     "metadata": {},
     "output_type": "execute_result"
    }
   ],
   "source": [
    "# Check for available GPU.\n",
    "tf.config.list_physical_devices('GPU')"
   ]
  },
  {
   "cell_type": "markdown",
   "metadata": {},
   "source": [
    "### Function definitions"
   ]
  },
  {
   "cell_type": "code",
   "execution_count": 3,
   "metadata": {},
   "outputs": [],
   "source": [
    "# Loader functions\n",
    "# Inspiration: https://towardsdatascience.com/writing-custom-keras-generators-fe815d992c5a\n",
    "\n",
    "def get_input(path):\n",
    "    # Load array.\n",
    "    t_input = np.load(path)\n",
    "    \n",
    "    # Pad to even number of pixels\n",
    "    #t_input = np.pad(t_input, [(0,0),(0,1),(0,1)])\n",
    "    # Resize to include a channel dimension.\n",
    "    #t_input = tf.expand_dims(t_input, axis = -1)\n",
    "    \n",
    "    # Put channel dim at the end.\n",
    "    t_input = np.moveaxis(t_input, 1, -1)\n",
    "    \n",
    "    return t_input\n",
    "\n",
    "def get_output(path):\n",
    "    # Load array.\n",
    "    t_output = np.load(path)\n",
    "    \n",
    "    # Pad to even number of pixels\n",
    "    #t_output = np.pad(t_output, [(0,0),(0,1),(0,1)])\n",
    "    # Resize to include a channel dimension.\n",
    "    #t_output = tf.expand_dims(t_output, axis = -1)\n",
    "    \n",
    "    # Put channel dim at the end.\n",
    "    t_output = np.moveaxis(t_output, 1, -1)\n",
    "    return t_output\n",
    "\n",
    "def data_generator(samples, batch_size = 64):\n",
    "    \n",
    "    while True:\n",
    "        # Select files (paths/indices) for the batch\n",
    "        batch_samples  = np.random.choice(a = samples.index, \n",
    "                                      size = batch_size)\n",
    "        batch_input  = []\n",
    "        batch_output = [] \n",
    "\n",
    "        # Read in each input, perform preprocessing and get labels\n",
    "        for sample in batch_samples:\n",
    "          input = get_input(samples.loc[sample].features)\n",
    "          output = get_output(samples.loc[sample].labels)\n",
    "\n",
    "          batch_input += [input]\n",
    "          batch_output += [output]\n",
    "        # Return a tuple of (input, output) to feed the network\n",
    "        batch_x = np.array(batch_input)\n",
    "        batch_y = np.array(batch_output)\n",
    "        \n",
    "        yield(batch_x, batch_y)\n"
   ]
  },
  {
   "cell_type": "code",
   "execution_count": 4,
   "metadata": {},
   "outputs": [],
   "source": [
    "### Source: https://www.geeksforgeeks.org/python-peak-signal-to-noise-ratio-psnr/\n",
    "# Modified to 0-1 scale instead of 0-100\n",
    "def PSNR(original, compressed):\n",
    "    mse = np.mean((original - compressed) ** 2)\n",
    "    if(mse == 0):  # MSE is zero means no noise is present in the signal .\n",
    "                  # Therefore PSNR have no importance.\n",
    "        return 1\n",
    "    max_pixel = 1\n",
    "    psnr = 20 * log10(max_pixel / sqrt(mse))\n",
    "    return psnr/100"
   ]
  },
  {
   "cell_type": "code",
   "execution_count": 5,
   "metadata": {},
   "outputs": [],
   "source": [
    "# Inspired by: https://keras.io/examples/vision/video_transformers/?fbclid=IwAR3iwnyxPYjX7dhRnG9tQowO9XJKuAdEyGkTfBWYkeVJTUjNsJtKAsRVWkA\n",
    "class PositionalEmbedding(layers.Layer):\n",
    "    def __init__(self, sequence_length, output_dim, **kwargs):\n",
    "        super().__init__(**kwargs)\n",
    "        self.position_embeddings = layers.Embedding(\n",
    "            input_dim=sequence_length, output_dim=output_dim\n",
    "        )\n",
    "        self.sequence_length = sequence_length\n",
    "        self.output_dim = output_dim\n",
    "\n",
    "    def call(self, inputs):\n",
    "        # The inputs are of shape: `(batch_size, frames, num_features)`\n",
    "        length = tf.shape(inputs)[1]\n",
    "        positions = tf.range(start=0, limit=length, delta=1)\n",
    "        embedded_positions = self.position_embeddings(positions)\n",
    "        return inputs + embedded_positions\n",
    "\n",
    "    def compute_mask(self, inputs, mask=None):\n",
    "        mask = tf.reduce_any(tf.cast(inputs, \"bool\"), axis=-1)\n",
    "        return mask\n",
    "    \n",
    "    def get_config(self):\n",
    "\n",
    "        config = super().get_config().copy()\n",
    "        config.update({\n",
    "            'sequence_length': self.sequence_length,\n",
    "            'output_dim': self.output_dim\n",
    "        })\n",
    "        return config"
   ]
  },
  {
   "cell_type": "code",
   "execution_count": 6,
   "metadata": {},
   "outputs": [],
   "source": [
    "# Inspired by: https://keras.io/examples/vision/video_transformers/?fbclid=IwAR3iwnyxPYjX7dhRnG9tQowO9XJKuAdEyGkTfBWYkeVJTUjNsJtKAsRVWkA\n",
    "class TransformerEncoder(layers.Layer):\n",
    "    def __init__(self, embed_dim, dense_dim, num_heads, **kwargs):\n",
    "        super().__init__(**kwargs)\n",
    "        self.embed_dim = embed_dim\n",
    "        self.dense_dim = dense_dim\n",
    "        self.num_heads = num_heads\n",
    "        self.attention = layers.MultiHeadAttention(\n",
    "            num_heads=num_heads, key_dim=embed_dim, dropout=0.3\n",
    "        )\n",
    "        self.dense_proj = keras.Sequential(\n",
    "            [layers.Dense(dense_dim, activation=tf.nn.gelu), layers.Dense(embed_dim),]\n",
    "        )\n",
    "        self.layernorm_1 = layers.LayerNormalization()\n",
    "        self.layernorm_2 = layers.LayerNormalization()\n",
    "\n",
    "    def call(self, inputs, mask=None):\n",
    "        if mask is not None:\n",
    "            mask = mask[:, tf.newaxis, :]\n",
    "\n",
    "        attention_output = self.attention(inputs, inputs, attention_mask=mask)\n",
    "        proj_input = self.layernorm_1(inputs + attention_output)\n",
    "        proj_output = self.dense_proj(proj_input)\n",
    "        return self.layernorm_2(proj_input + proj_output)\n",
    "    \n",
    "    def get_config(self):\n",
    "\n",
    "        config = super().get_config().copy()\n",
    "        config.update({\n",
    "            'embed_dim': self.embed_dim,\n",
    "            'dense_dim': self.dense_dim,\n",
    "            'num_heads': self.num_heads\n",
    "        })\n",
    "        return config"
   ]
  },
  {
   "cell_type": "code",
   "execution_count": 7,
   "metadata": {},
   "outputs": [],
   "source": [
    "# Inspired by: https://keras.io/api/layers/recurrent_layers/time_distributed/\n",
    "def get_amazon_fire_transformer():\n",
    "    \n",
    "    ############## THE ONE ################\n",
    "    \n",
    "    # Hyperparamters\n",
    "    sequence_length = 10\n",
    "    embed_dim = 1024\n",
    "    dense_dim = 4\n",
    "    num_heads = 1\n",
    "    filters = 256\n",
    "    \n",
    "    # Create function call for pretrained CNN.\n",
    "    feature_extractor = keras.applications.DenseNet121(\n",
    "        weights=\"imagenet\",\n",
    "        include_top=False,\n",
    "        pooling=\"avg\",\n",
    "        input_shape=(32, 32, 3),\n",
    "    )\n",
    "    \n",
    "    # Freeze most layers of pretrained model.\n",
    "    #for layer in feature_extractor.layers[:-5]:                                                       \n",
    "    #    layer.trainable = False\n",
    "    \n",
    "    # Add preprocessing to inputs\n",
    "    preprocess_input = keras.applications.densenet.preprocess_input\n",
    "    \n",
    "    # Get inputs and convert to 3-channel format to fit pretrained CNN.\n",
    "    inputs = keras.Input((10, 32, 32, 2))\n",
    "    inputs_expanded = tf.keras.layers.Conv2D(3, 1, padding='same')\n",
    "    \n",
    "    # Apply time-distributed pretrained CNN to get feature map for each frame.\n",
    "    x = tf.keras.layers.TimeDistributed(inputs_expanded)(inputs)\n",
    "    x = preprocess_input(x)\n",
    "    feature_map = feature_extractor\n",
    "    x = tf.keras.layers.TimeDistributed(feature_map)(x)\n",
    "    \n",
    "    # Note to future self: concatenate vectorized features here.\n",
    "    \n",
    "    # Apply positional embedding.\n",
    "    x = PositionalEmbedding(\n",
    "        sequence_length, embed_dim, name=\"frame_position_embedding\"\n",
    "    )(x)\n",
    "    \n",
    "    # Apply transformer/attention calculation then compress to single frame.\n",
    "    x = TransformerEncoder(embed_dim, dense_dim, num_heads, name=\"transformer_layer\")(x)\n",
    "    x = layers.GlobalMaxPooling1D()(x)\n",
    "    \n",
    "    # Proceed with deconvolution.\n",
    "    x = layers.Activation(\"relu\")(x)\n",
    "    x = layers.Dense(embed_dim, activation='relu')(x)\n",
    "    x = layers.Dense(embed_dim, activation='relu')(x)\n",
    "    x = layers.Dense(embed_dim, activation='relu')(x)\n",
    "    x = layers.BatchNormalization()(x)\n",
    "    x = layers.Reshape([2,2,int(embed_dim/4)])(x)\n",
    "    x = layers.Conv2D(filters, (3,3), padding=\"same\", activation='relu')(x)\n",
    "    x = layers.Conv2D(filters, (3,3), padding=\"same\", activation='relu')(x)\n",
    "    x = layers.Conv2DTranspose(filters, (3,3), strides=(2,2), padding='same')(x)\n",
    "    x = layers.BatchNormalization()(x)\n",
    "    x = layers.Conv2D(filters, (3,3), padding=\"same\", activation='relu')(x)\n",
    "    x = layers.Conv2D(filters, (3,3), padding=\"same\", activation='relu')(x)\n",
    "    x = layers.Conv2DTranspose(filters, (3,3), strides=(2,2), padding='same')(x)\n",
    "    x = layers.BatchNormalization()(x)\n",
    "    x = layers.Conv2D(filters, (3,3), padding=\"same\", activation='relu')(x)\n",
    "    x = layers.Conv2D(filters, (3,3), padding=\"same\", activation='relu')(x)\n",
    "    x = layers.Conv2DTranspose(filters, (3,3), strides=(2,2), padding='same')(x)\n",
    "    x = layers.BatchNormalization()(x)\n",
    "    x = layers.Conv2D(filters, (3,3), padding=\"same\", activation='relu')(x)\n",
    "    x = layers.Conv2D(filters, (3,3), padding=\"same\", activation='relu')(x)\n",
    "    x = layers.Conv2DTranspose(filters, (3,3), strides=(2,2), padding='same')(x)\n",
    "    x = layers.BatchNormalization()(x)\n",
    "    outputs = layers.Conv2D(1, 1, padding='same', activation = 'sigmoid')(x)\n",
    "    \n",
    "    return keras.Model(inputs, outputs, name=\"amazon_fire_transformer\")"
   ]
  },
  {
   "cell_type": "markdown",
   "metadata": {},
   "source": [
    "### Load data"
   ]
  },
  {
   "cell_type": "code",
   "execution_count": 8,
   "metadata": {},
   "outputs": [
    {
     "data": {
      "text/plain": [
       "(TensorShape([1, 10, 32, 32, 2]), TensorShape([1, 32, 32, 1]))"
      ]
     },
     "execution_count": 8,
     "metadata": {},
     "output_type": "execute_result"
    }
   ],
   "source": [
    "# Get data from one chip\n",
    "m = pd.read_csv('4fold/2017/meta.csv')\n",
    "sample_input = np.load('4fold/2017/features/25688.npy')\n",
    "sample_output = np.load('4fold/2017/labels/25688.npy')\n",
    "\n",
    "# Pad to even number of pixels\n",
    "#a = np.pad(sample_input, [(0,0),(0,1),(0,1)])\n",
    "# Resize to include a channel dimension.\n",
    "#a = tf.expand_dims(a, axis = -1)\n",
    "# Resize to include a batch dimension.\n",
    "#a = tf.expand_dims(a, axis = 0)\n",
    "\n",
    "\n",
    "# Move channel axis to the end\n",
    "a = np.moveaxis(sample_input, 1, -1)\n",
    "b = np.moveaxis(sample_output, 0, -1)\n",
    "\n",
    "# Resize to include a batch dimension.\n",
    "a = tf.expand_dims(a, axis = 0)\n",
    "b = tf.expand_dims(b, axis = 0)\n",
    "\n",
    "# Display shape for verification.\n",
    "a.shape, b.shape"
   ]
  },
  {
   "cell_type": "markdown",
   "metadata": {},
   "source": [
    "### Model assembly"
   ]
  },
  {
   "cell_type": "code",
   "execution_count": 9,
   "metadata": {},
   "outputs": [],
   "source": [
    "forecast_model = get_amazon_fire_transformer()"
   ]
  },
  {
   "cell_type": "code",
   "execution_count": 10,
   "metadata": {},
   "outputs": [
    {
     "name": "stdout",
     "output_type": "stream",
     "text": [
      "1/1 [==============================] - 4s 4s/step\n"
     ]
    },
    {
     "data": {
      "text/plain": [
       "(1, 32, 32, 1)"
      ]
     },
     "execution_count": 10,
     "metadata": {},
     "output_type": "execute_result"
    }
   ],
   "source": [
    "# Verify output shape.\n",
    "forecast_model.predict(a).shape"
   ]
  },
  {
   "cell_type": "code",
   "execution_count": 11,
   "metadata": {},
   "outputs": [
    {
     "name": "stdout",
     "output_type": "stream",
     "text": [
      "Model: \"amazon_fire_transformer\"\n",
      "_________________________________________________________________\n",
      " Layer (type)                Output Shape              Param #   \n",
      "=================================================================\n",
      " input_2 (InputLayer)        [(None, 10, 32, 32, 2)]   0         \n",
      "                                                                 \n",
      " time_distributed (TimeDistr  (None, 10, 32, 32, 3)    9         \n",
      " ibuted)                                                         \n",
      "                                                                 \n",
      " tf.math.truediv (TFOpLambda  (None, 10, 32, 32, 3)    0         \n",
      " )                                                               \n",
      "                                                                 \n",
      " tf.nn.bias_add (TFOpLambda)  (None, 10, 32, 32, 3)    0         \n",
      "                                                                 \n",
      " tf.math.truediv_1 (TFOpLamb  (None, 10, 32, 32, 3)    0         \n",
      " da)                                                             \n",
      "                                                                 \n",
      " time_distributed_1 (TimeDis  (None, 10, 1024)         7037504   \n",
      " tributed)                                                       \n",
      "                                                                 \n",
      " frame_position_embedding (P  (None, 10, 1024)         10240     \n",
      " ositionalEmbedding)                                             \n",
      "                                                                 \n",
      " transformer_layer (Transfor  (None, 10, 1024)         4211716   \n",
      " merEncoder)                                                     \n",
      "                                                                 \n",
      " global_max_pooling1d (Globa  (None, 1024)             0         \n",
      " lMaxPooling1D)                                                  \n",
      "                                                                 \n",
      " activation (Activation)     (None, 1024)              0         \n",
      "                                                                 \n",
      " dense_2 (Dense)             (None, 1024)              1049600   \n",
      "                                                                 \n",
      " dense_3 (Dense)             (None, 1024)              1049600   \n",
      "                                                                 \n",
      " dense_4 (Dense)             (None, 1024)              1049600   \n",
      "                                                                 \n",
      " batch_normalization (BatchN  (None, 1024)             4096      \n",
      " ormalization)                                                   \n",
      "                                                                 \n",
      " reshape (Reshape)           (None, 2, 2, 256)         0         \n",
      "                                                                 \n",
      " conv2d_1 (Conv2D)           (None, 2, 2, 256)         590080    \n",
      "                                                                 \n",
      " conv2d_2 (Conv2D)           (None, 2, 2, 256)         590080    \n",
      "                                                                 \n",
      " conv2d_transpose (Conv2DTra  (None, 4, 4, 256)        590080    \n",
      " nspose)                                                         \n",
      "                                                                 \n",
      " batch_normalization_1 (Batc  (None, 4, 4, 256)        1024      \n",
      " hNormalization)                                                 \n",
      "                                                                 \n",
      " conv2d_3 (Conv2D)           (None, 4, 4, 256)         590080    \n",
      "                                                                 \n",
      " conv2d_4 (Conv2D)           (None, 4, 4, 256)         590080    \n",
      "                                                                 \n",
      " conv2d_transpose_1 (Conv2DT  (None, 8, 8, 256)        590080    \n",
      " ranspose)                                                       \n",
      "                                                                 \n",
      " batch_normalization_2 (Batc  (None, 8, 8, 256)        1024      \n",
      " hNormalization)                                                 \n",
      "                                                                 \n",
      " conv2d_5 (Conv2D)           (None, 8, 8, 256)         590080    \n",
      "                                                                 \n",
      " conv2d_6 (Conv2D)           (None, 8, 8, 256)         590080    \n",
      "                                                                 \n",
      " conv2d_transpose_2 (Conv2DT  (None, 16, 16, 256)      590080    \n",
      " ranspose)                                                       \n",
      "                                                                 \n",
      " batch_normalization_3 (Batc  (None, 16, 16, 256)      1024      \n",
      " hNormalization)                                                 \n",
      "                                                                 \n",
      " conv2d_7 (Conv2D)           (None, 16, 16, 256)       590080    \n",
      "                                                                 \n",
      " conv2d_8 (Conv2D)           (None, 16, 16, 256)       590080    \n",
      "                                                                 \n",
      " conv2d_transpose_3 (Conv2DT  (None, 32, 32, 256)      590080    \n",
      " ranspose)                                                       \n",
      "                                                                 \n",
      " batch_normalization_4 (Batc  (None, 32, 32, 256)      1024      \n",
      " hNormalization)                                                 \n",
      "                                                                 \n",
      " conv2d_9 (Conv2D)           (None, 32, 32, 1)         257       \n",
      "                                                                 \n",
      "=================================================================\n",
      "Total params: 21,497,678\n",
      "Trainable params: 21,409,934\n",
      "Non-trainable params: 87,744\n",
      "_________________________________________________________________\n"
     ]
    }
   ],
   "source": [
    "# Display model details.\n",
    "forecast_model.summary()"
   ]
  },
  {
   "cell_type": "code",
   "execution_count": 12,
   "metadata": {},
   "outputs": [],
   "source": [
    "# Compile model.\n",
    "opt = tf.keras.optimizers.Adam(learning_rate=0.00001)\n",
    "#loss_fn = tf.keras.losses.BinaryCrossentropy()\n",
    "loss_fn = tf.keras.losses.MeanSquaredError()\n",
    "forecast_model.compile(loss=loss_fn, optimizer=opt, metrics=['accuracy','mean_squared_error'])"
   ]
  },
  {
   "cell_type": "code",
   "execution_count": 13,
   "metadata": {},
   "outputs": [],
   "source": [
    "# Load metadata on yearly datasets.\n",
    "df_2017 = pd.read_csv('4fold/2017/meta.csv')\n",
    "df_2018 = pd.read_csv('4fold/2018/meta.csv')\n",
    "df_2019 = pd.read_csv('4fold/2019/meta.csv')\n",
    "df_2020 = pd.read_csv('4fold/2020/meta.csv')\n",
    "\n",
    "# Combine into desire train/val split.\n",
    "meta_t = pd.concat([df_2017,df_2018,df_2019])\n",
    "meta_v = df_2020\n",
    "\n",
    "# Data loaders.\n",
    "batch_size = 32\n",
    "#t_gen = data_generator(meta_t, batch_size = batch_size)\n",
    "#v_gen = data_generator(meta_v, batch_size = batch_size)"
   ]
  },
  {
   "cell_type": "code",
   "execution_count": 14,
   "metadata": {},
   "outputs": [],
   "source": [
    "# Trying new approach to build dataset.\n",
    "x_train, y_train, x_val, y_val = [],[],[],[]\n",
    "\n",
    "# Iterate over dataset.\n",
    "for x in range(0,len(meta_t)):\n",
    "    x_train.append(np.load(meta_t.iloc[x].features))\n",
    "    y_train.append(np.load(meta_t.iloc[x].labels))\n",
    "for x in range(0,len(meta_v)):\n",
    "    x_val.append(np.load(meta_v.iloc[x].features))\n",
    "    y_val.append(np.load(meta_v.iloc[x].labels))\n",
    "    \n",
    "# Stack layers.\n",
    "x_train = np.stack(x_train)\n",
    "y_train = np.stack(y_train)\n",
    "x_val = np.stack(x_val)\n",
    "y_val = np.stack(y_val)\n",
    "\n",
    "# Convert values > 1 to 1.\n",
    "x_train = np.minimum(x_train,1)\n",
    "y_train = np.minimum(y_train,1)\n",
    "x_val = np.minimum(x_val,1)\n",
    "y_val = np.minimum(y_val,1)\n",
    "\n",
    "# Move channel dims to last.\n",
    "x_train = np.moveaxis(x_train, 2, -1)\n",
    "y_train = tf.expand_dims(y_train, axis = -1).numpy()\n",
    "x_val = np.moveaxis(x_val, 2, -1)\n",
    "y_val = tf.expand_dims(y_val, axis = -1).numpy()"
   ]
  },
  {
   "cell_type": "code",
   "execution_count": 15,
   "metadata": {},
   "outputs": [
    {
     "data": {
      "text/plain": [
       "((15000, 10, 32, 32, 2),\n",
       " (15000, 1, 32, 32, 1),\n",
       " (5000, 10, 32, 32, 2),\n",
       " (5000, 1, 32, 32, 1))"
      ]
     },
     "execution_count": 15,
     "metadata": {},
     "output_type": "execute_result"
    }
   ],
   "source": [
    "x_train.shape, y_train.shape, x_val.shape, y_val.shape"
   ]
  },
  {
   "cell_type": "code",
   "execution_count": 16,
   "metadata": {},
   "outputs": [],
   "source": [
    "# Solution for problem with class_weights not working with 3D outputs in tensorflow.\n",
    "# From: https://github.com/keras-team/keras/issues/3653\n",
    "def generate_sample_weights(training_data, class_weights): \n",
    "    #replaces values for up to 3 classes with the values from class_weights#\n",
    "    sample_weights = [np.where(y==0,class_weights[0],\n",
    "                        np.where(y==1,class_weights[1],\n",
    "                        y)) for y in training_data]\n",
    "    return np.asarray(sample_weights)"
   ]
  },
  {
   "cell_type": "code",
   "execution_count": 17,
   "metadata": {},
   "outputs": [
    {
     "name": "stderr",
     "output_type": "stream",
     "text": [
      "C:\\Users\\covad\\anaconda3\\lib\\site-packages\\sklearn\\utils\\validation.py:70: FutureWarning: Pass classes=[0, 1], y=[0. 0. 0. ... 0. 0. 0.] as keyword args. From version 1.0 (renaming of 0.25) passing these as positional arguments will result in an error\n",
      "  warnings.warn(f\"Pass {args_msg} as keyword args. From version \"\n"
     ]
    },
    {
     "data": {
      "text/plain": [
       "array([ 0.50495932, 50.91015154])"
      ]
     },
     "execution_count": 17,
     "metadata": {},
     "output_type": "execute_result"
    }
   ],
   "source": [
    "# Get class weights for weighted binary cross entropy loss.\n",
    "weights = class_weight.compute_class_weight('balanced',\n",
    "                                            [0,1],\n",
    "                                            y_train.flatten())\n",
    "# Examine weights.\n",
    "weights"
   ]
  },
  {
   "cell_type": "code",
   "execution_count": 18,
   "metadata": {},
   "outputs": [],
   "source": [
    "# To-do: Try watering-down the weights."
   ]
  },
  {
   "cell_type": "code",
   "execution_count": 19,
   "metadata": {},
   "outputs": [],
   "source": [
    "calculated_sample_weights = generate_sample_weights(y_train, weights)"
   ]
  },
  {
   "cell_type": "code",
   "execution_count": 20,
   "metadata": {},
   "outputs": [],
   "source": [
    "# Move numpy objects to tensors.\n",
    "x_train = tf.convert_to_tensor(x_train)\n",
    "y_train = tf.convert_to_tensor(y_train)\n",
    "x_val = tf.convert_to_tensor(x_val)\n",
    "y_val = tf.convert_to_tensor(y_val)\n",
    "calculated_sample_weights = tf.convert_to_tensor(calculated_sample_weights)"
   ]
  },
  {
   "cell_type": "code",
   "execution_count": 21,
   "metadata": {},
   "outputs": [
    {
     "data": {
      "text/plain": [
       "True"
      ]
     },
     "execution_count": 21,
     "metadata": {},
     "output_type": "execute_result"
    }
   ],
   "source": [
    "# Validate weight matrix shape.\n",
    "calculated_sample_weights.shape == y_train.shape"
   ]
  },
  {
   "cell_type": "code",
   "execution_count": 22,
   "metadata": {},
   "outputs": [
    {
     "name": "stdout",
     "output_type": "stream",
     "text": [
      "Epoch 1/20\n",
      "469/469 [==============================] - 68s 120ms/step - loss: 0.2092 - accuracy: 0.6237 - mean_squared_error: 0.2672 - val_loss: 0.1280 - val_accuracy: 0.8797 - val_mean_squared_error: 0.1280 - lr: 1.0000e-05\n",
      "Epoch 2/20\n",
      "469/469 [==============================] - 53s 114ms/step - loss: 0.1789 - accuracy: 0.7136 - mean_squared_error: 0.2331 - val_loss: 0.3588 - val_accuracy: 0.5265 - val_mean_squared_error: 0.3588 - lr: 1.0000e-05\n",
      "Epoch 3/20\n",
      "469/469 [==============================] - 54s 114ms/step - loss: 0.1702 - accuracy: 0.7379 - mean_squared_error: 0.2183 - val_loss: 0.2450 - val_accuracy: 0.6970 - val_mean_squared_error: 0.2450 - lr: 1.0000e-06\n",
      "Epoch 4/20\n",
      "469/469 [==============================] - 53s 113ms/step - loss: 0.1693 - accuracy: 0.7413 - mean_squared_error: 0.2158 - val_loss: 0.2383 - val_accuracy: 0.7071 - val_mean_squared_error: 0.2383 - lr: 1.0000e-07\n",
      "Epoch 5/20\n",
      "469/469 [==============================] - 53s 113ms/step - loss: 0.1693 - accuracy: 0.7411 - mean_squared_error: 0.2156 - val_loss: 0.2458 - val_accuracy: 0.6962 - val_mean_squared_error: 0.2458 - lr: 1.0000e-08\n",
      "Epoch 6/20\n",
      "469/469 [==============================] - 53s 113ms/step - loss: 0.1686 - accuracy: 0.7420 - mean_squared_error: 0.2154 - val_loss: 0.2418 - val_accuracy: 0.7014 - val_mean_squared_error: 0.2418 - lr: 1.0000e-09\n"
     ]
    },
    {
     "data": {
      "text/plain": [
       "<keras.callbacks.History at 0x2003eebd700>"
      ]
     },
     "execution_count": 22,
     "metadata": {},
     "output_type": "execute_result"
    }
   ],
   "source": [
    "# Adding callbacks.\n",
    "early_stopping = tf.keras.callbacks.EarlyStopping(monitor=\"val_loss\", patience=5, restore_best_weights=True)\n",
    "reduce_lr = tf.keras.callbacks.ReduceLROnPlateau(monitor=\"val_loss\", patience=1)\n",
    "\n",
    "# Train model.\n",
    "forecast_model.fit(x_train,\n",
    "                   y_train[:,0],\n",
    "                   epochs = 20, \n",
    "                   verbose = 1, \n",
    "                   batch_size = batch_size,\n",
    "                   validation_data = (x_val, y_val[:,0]),\n",
    "                   callbacks = [early_stopping, reduce_lr],\n",
    "                   sample_weight = calculated_sample_weights[:,0]\n",
    "                  )"
   ]
  },
  {
   "cell_type": "code",
   "execution_count": 23,
   "metadata": {},
   "outputs": [],
   "source": [
    "# Save trained model.\n",
    "forecast_model.save('Models/VTR_04_2020/model.h5')"
   ]
  },
  {
   "cell_type": "code",
   "execution_count": 24,
   "metadata": {},
   "outputs": [],
   "source": [
    "#forecast_model = tf.keras.models.load_model('Models/VTR_01_2020/model.h5',\n",
    "#                                           custom_objects={'PositionalEmbedding': PositionalEmbedding,\n",
    "#                                                           'TransformerEncoder': TransformerEncoder})"
   ]
  },
  {
   "cell_type": "markdown",
   "metadata": {},
   "source": [
    "### Examing single-frame predictions"
   ]
  },
  {
   "cell_type": "code",
   "execution_count": 25,
   "metadata": {},
   "outputs": [
    {
     "name": "stdout",
     "output_type": "stream",
     "text": [
      "1/1 [==============================] - 2s 2s/step\n"
     ]
    }
   ],
   "source": [
    "# Select a random example from the validation dataset.\n",
    "example = np.random.choice(range(len(x_val)), size=1)[0]\n",
    "\n",
    "# Pick the first/last ten frames from the example.\n",
    "feature_frames = x_val[example, ...]\n",
    "label_frames = y_val[example, ...]\n",
    "pred_frames = []\n",
    "\n",
    "# Predict a new set of 10 frames.\n",
    "# Extract the model's prediction and post-process it.\n",
    "new_prediction = forecast_model.predict(np.expand_dims(feature_frames, axis=0))\n",
    "#new_prediction = np.squeeze(new_prediction, axis=0)\n",
    "#predicted_frame = np.expand_dims(new_prediction[-1, ...], axis=0)\n",
    "#pred_frames.append(predicted_frame)\n",
    "pred_frames.append(new_prediction)\n",
    "    \n",
    "\n",
    "# Extend the set of prediction frames.\n",
    "pred_frames = np.concatenate(pred_frames)"
   ]
  },
  {
   "cell_type": "code",
   "execution_count": 26,
   "metadata": {},
   "outputs": [
    {
     "data": {
      "text/plain": [
       "(TensorShape([1, 32, 32, 1]), (1, 32, 32, 1))"
      ]
     },
     "execution_count": 26,
     "metadata": {},
     "output_type": "execute_result"
    }
   ],
   "source": [
    "# Shape verification.\n",
    "label_frames.shape, pred_frames.shape"
   ]
  },
  {
   "cell_type": "code",
   "execution_count": 27,
   "metadata": {},
   "outputs": [
    {
     "data": {
      "image/png": "[encoded data removed]",
      "text/plain": [
       "<Figure size 2160x576 with 20 Axes>"
      ]
     },
     "metadata": {
      "needs_background": "light"
     },
     "output_type": "display_data"
    }
   ],
   "source": [
    "# Construct a figure for the original and new frames.\n",
    "fig, axes = plt.subplots(2, 10, figsize=(30, 8))\n",
    "\n",
    "# Plot the fire frames.\n",
    "for idx, ax in enumerate(axes[0]):\n",
    "    ax.imshow(np.squeeze(feature_frames[idx][:,:,:1]), cmap=\"gray\")\n",
    "    ax.set_title(f\"F Frame {idx + 1}\")\n",
    "    ax.axis(\"off\")\n",
    "\n",
    "# Plot the deforestation frames.\n",
    "for idx, ax in enumerate(axes[1]):\n",
    "    ax.imshow(np.squeeze(feature_frames[idx][:,:,1:2]), cmap=\"gray\")\n",
    "    ax.set_title(f\"D Frame {idx + 1}\")\n",
    "    ax.axis(\"off\")\n",
    "    \n",
    "# Display the figure.\n",
    "plt.show()"
   ]
  },
  {
   "cell_type": "code",
   "execution_count": 28,
   "metadata": {},
   "outputs": [
    {
     "data": {
      "image/png": "[encoded data removed]",
      "text/plain": [
       "<Figure size 2160x576 with 4 Axes>"
      ]
     },
     "metadata": {
      "needs_background": "light"
     },
     "output_type": "display_data"
    }
   ],
   "source": [
    "# Construct a figure for the original and new frames.\n",
    "fig, axes = plt.subplots(1, 4, figsize=(30, 8))\n",
    "\n",
    "# Plot the last feature frame.\n",
    "axes[0].imshow(np.squeeze(feature_frames[9][:,:,:1]), cmap=\"gray\")\n",
    "axes[0].set_title(f\"F Frame\")\n",
    "axes[0].axis(\"off\")\n",
    "\n",
    "# Plot the label frame.\n",
    "axes[1].imshow(np.squeeze(label_frames[0]), cmap=\"gray\")\n",
    "axes[1].set_title(f\"L Frame\")\n",
    "axes[1].axis(\"off\")\n",
    "    \n",
    "# Plot the predicted frame.\n",
    "axes[2].imshow(np.squeeze(pred_frames[0]), cmap=\"gray\")\n",
    "axes[2].set_title(f\"P Frame\")\n",
    "axes[2].axis(\"off\")\n",
    "\n",
    "# Plot binarized prediction.\n",
    "axes[3].imshow(np.squeeze(np.where(pred_frames > 0.85, 1, 0)), cmap=\"gray\")\n",
    "axes[3].set_title(f\"Binarized\")\n",
    "axes[3].axis(\"off\")\n",
    "\n",
    "# Display the figure.\n",
    "plt.show()"
   ]
  },
  {
   "cell_type": "code",
   "execution_count": 29,
   "metadata": {},
   "outputs": [
    {
     "data": {
      "text/plain": [
       "<matplotlib.image.AxesImage at 0x20223b11700>"
      ]
     },
     "execution_count": 29,
     "metadata": {},
     "output_type": "execute_result"
    },
    {
     "data": {
      "image/png": "[encoded data removed]",
      "text/plain": [
       "<Figure size 432x288 with 1 Axes>"
      ]
     },
     "metadata": {
      "needs_background": "light"
     },
     "output_type": "display_data"
    }
   ],
   "source": [
    "pred_frames[0]\n",
    "plt.imshow(np.squeeze(pred_frames[0]), cmap=\"gray\")"
   ]
  },
  {
   "cell_type": "code",
   "execution_count": 30,
   "metadata": {},
   "outputs": [
    {
     "data": {
      "image/png": "[encoded data removed]",
      "text/plain": [
       "<Figure size 2160x576 with 20 Axes>"
      ]
     },
     "metadata": {
      "needs_background": "light"
     },
     "output_type": "display_data"
    }
   ],
   "source": [
    "# Construct a figure to show all prediction thresholds.\n",
    "fig, axes = plt.subplots(2, 10, figsize=(30, 8))\n",
    "\n",
    "# Plot the frames.\n",
    "for idx, ax in enumerate(axes[0]):\n",
    "    ax.imshow(np.squeeze(np.where(pred_frames > ((idx + 1) * 0.05), 1, 0)), cmap=\"gray\")\n",
    "    ax.set_title(f\"Threshold {round((idx + 1) * 0.05, 2)}\")\n",
    "    ax.axis(\"off\")\n",
    "\n",
    "for idx, ax in enumerate(axes[1]):\n",
    "    ax.imshow(np.squeeze(np.where(pred_frames > ((idx + 11) * 0.05), 1, 0)), cmap=\"gray\")\n",
    "    ax.set_title(f\"Threshold {round((idx + 11) * 0.05, 2)}\")\n",
    "    ax.axis(\"off\")\n",
    "    \n",
    "# Display the figure.\n",
    "plt.show()"
   ]
  },
  {
   "cell_type": "code",
   "execution_count": 31,
   "metadata": {},
   "outputs": [
    {
     "data": {
      "text/plain": [
       "[(0.0, 0.0087890625),\n",
       " (0.05, 0.0087890625),\n",
       " (0.1, 0.0087890625),\n",
       " (0.15, 0.008946322067594433),\n",
       " (0.2, 0.008595988538681949),\n",
       " (0.25, 0.0),\n",
       " (0.3, 0.0),\n",
       " (0.35, 0.0),\n",
       " (0.4, 0.0),\n",
       " (0.45, 0.0),\n",
       " (0.5, 0.0),\n",
       " (0.55, 0.0),\n",
       " (0.6, 0.0),\n",
       " (0.65, 0.0),\n",
       " (0.7, 0.0),\n",
       " (0.75, 0.0),\n",
       " (0.8, 0.0),\n",
       " (0.85, 0.0),\n",
       " (0.9, 0.0),\n",
       " (0.95, 0.0),\n",
       " (1.0, 0.0)]"
      ]
     },
     "execution_count": 31,
     "metadata": {},
     "output_type": "execute_result"
    }
   ],
   "source": [
    "# Get first sample IoU\n",
    "thresholds = [x/100 for x in range(0,105,5)]\n",
    "ious = []\n",
    "for t in thresholds:\n",
    "    intersection = np.logical_and(np.where(pred_frames > t, 1, 0), label_frames[0])\n",
    "    union = np.logical_or(np.where(pred_frames > t, 1, 0), label_frames[0])\n",
    "    iou_score = np.sum(intersection) / np.sum(union)\n",
    "    ious.append((t,iou_score))\n",
    "ious"
   ]
  },
  {
   "cell_type": "markdown",
   "metadata": {},
   "source": [
    "### Get IoU for full prediction set."
   ]
  },
  {
   "cell_type": "code",
   "execution_count": 32,
   "metadata": {},
   "outputs": [
    {
     "name": "stdout",
     "output_type": "stream",
     "text": [
      "157/157 [==============================] - 6s 22ms/step\n"
     ]
    }
   ],
   "source": [
    "# Predict on everything.\n",
    "all_preds = forecast_model.predict(x_val)"
   ]
  },
  {
   "cell_type": "code",
   "execution_count": 33,
   "metadata": {},
   "outputs": [
    {
     "data": {
      "text/plain": [
       "'# Get IoU.\\nthresholds = [x/100 for x in range(0,105,5)]\\nious = []\\nfor t in thresholds:\\n    intersection = np.logical_and(np.where(all_preds > t, 1, 0), y_val)\\n    union = np.logical_or(np.where(all_preds > t, 1, 0), y_val)\\n    iou_score = np.sum(intersection) / np.sum(union)\\n    ious.append((t,iou_score))\\nious\\n'"
      ]
     },
     "execution_count": 33,
     "metadata": {},
     "output_type": "execute_result"
    }
   ],
   "source": [
    "'''# Get IoU.\n",
    "thresholds = [x/100 for x in range(0,105,5)]\n",
    "ious = []\n",
    "for t in thresholds:\n",
    "    intersection = np.logical_and(np.where(all_preds > t, 1, 0), y_val)\n",
    "    union = np.logical_or(np.where(all_preds > t, 1, 0), y_val)\n",
    "    iou_score = np.sum(intersection) / np.sum(union)\n",
    "    ious.append((t,iou_score))\n",
    "ious\n",
    "'''"
   ]
  },
  {
   "cell_type": "code",
   "execution_count": 34,
   "metadata": {},
   "outputs": [
    {
     "data": {
      "text/plain": [
       "0.12804907768612392"
      ]
     },
     "execution_count": 34,
     "metadata": {},
     "output_type": "execute_result"
    }
   ],
   "source": [
    "# Get MSE.\n",
    "mses = [mean_squared_error(all_preds[x], y_val[x][0].numpy()) for x in range(0,len(all_preds))]\n",
    "mean_squared_error(all_preds, y_val[:,0].numpy())"
   ]
  },
  {
   "cell_type": "code",
   "execution_count": 35,
   "metadata": {},
   "outputs": [],
   "source": [
    "## Get SSIM if masking is applied.\n",
    "## Calculation seems to be skewed and giving unreasonably high scores with masking applied.\n",
    "#thresholds = [x/100 for x in range(0,105,5)]\n",
    "#masked_ssims = []\n",
    "#for t in thresholds:\n",
    "#    t_ssim = [ssim(np.where(all_preds[x][0] > t, 1, 0), y_val[x][0].numpy(), multichannel = True) for x in range(0,len(all_preds))]\n",
    "#    t_ssim2 = sum(t_ssim) / len(t_ssim)\n",
    "#    masked_ssims.append((t,t_ssim2))\n",
    "#masked_ssims"
   ]
  },
  {
   "cell_type": "code",
   "execution_count": 36,
   "metadata": {},
   "outputs": [
    {
     "data": {
      "text/plain": [
       "0.09929204342355054"
      ]
     },
     "execution_count": 36,
     "metadata": {},
     "output_type": "execute_result"
    }
   ],
   "source": [
    "# Get Peak Signal-to-Noise Ratio (PSNR)\n",
    "psnrs = [PSNR(all_preds[x], y_val[x][0].numpy()) for x in range(0,len(all_preds))]\n",
    "set_psnr = sum(psnrs) / len(psnrs)\n",
    "set_psnr"
   ]
  },
  {
   "cell_type": "code",
   "execution_count": 37,
   "metadata": {},
   "outputs": [
    {
     "name": "stderr",
     "output_type": "stream",
     "text": [
      "C:\\Users\\covad\\anaconda3\\lib\\site-packages\\skimage\\metrics\\_structural_similarity.py:107: UserWarning: Inputs have mismatched dtype.  Setting data_range based on im1.dtype.\n",
      "  ch_result = structural_similarity(im1[..., ch],\n"
     ]
    },
    {
     "data": {
      "text/plain": [
       "0.01035036276413315"
      ]
     },
     "execution_count": 37,
     "metadata": {},
     "output_type": "execute_result"
    }
   ],
   "source": [
    "# Get raw mean SSIM\n",
    "ssims = [ssim(all_preds[x], y_val[x][0].numpy(), multichannel = True) for x in range(0,len(all_preds))]\n",
    "mean_raw_ssim = sum(ssims) / len(ssims)\n",
    "mean_raw_ssim"
   ]
  },
  {
   "cell_type": "code",
   "execution_count": 38,
   "metadata": {},
   "outputs": [],
   "source": [
    "# Get DataFrame of all prediction grades.\n",
    "rows = []\n",
    "#for s in range(0,len(all_preds)): \n",
    "#    thresholds = [x/100 for x in range(0,105,5)]\n",
    "#    t_ious = []\n",
    "#    for t in thresholds:\n",
    "#        intersection = np.logical_and(np.where(all_preds[s] > t, 1, 0), y_val[s])\n",
    "#        union = np.logical_or(np.where(all_preds[s] > t, 1, 0), y_val[s])\n",
    "#        if np.sum(union) > 0:\n",
    "#            iou_score = np.sum(intersection) / np.sum(union)\n",
    "#        else:\n",
    "#            iou_score = 0\n",
    "#        t_ious.append(iou_score)\n",
    "#    rows.append(t_ious)\n",
    "#iou_df = pd.DataFrame(rows)\n",
    "iou_df = pd.DataFrame()\n",
    "iou_df['ssim'] = ssims\n",
    "iou_df['mse'] = mses\n",
    "iou_df['psnr'] = psnrs"
   ]
  },
  {
   "cell_type": "markdown",
   "metadata": {},
   "source": [
    "### Examining Good Predictions"
   ]
  },
  {
   "cell_type": "code",
   "execution_count": 39,
   "metadata": {},
   "outputs": [
    {
     "data": {
      "text/plain": [
       "0.1006100637094115"
      ]
     },
     "execution_count": 39,
     "metadata": {},
     "output_type": "execute_result"
    },
    {
     "data": {
      "image/png": "[encoded data removed]",
      "text/plain": [
       "<Figure size 720x360 with 2 Axes>"
      ]
     },
     "metadata": {
      "needs_background": "light"
     },
     "output_type": "display_data"
    }
   ],
   "source": [
    "# Examining the best SSIM\n",
    "x = iou_df.sort_values(by = 'ssim', ascending = False).index[0]\n",
    "fig, axes = plt.subplots(1, 2, figsize=(10, 5))\n",
    "axes[0].imshow(all_preds[x], cmap=\"gray\")\n",
    "axes[1].imshow(y_val[x][0].numpy(), cmap=\"gray\")\n",
    "ssims[x]"
   ]
  },
  {
   "cell_type": "code",
   "execution_count": 40,
   "metadata": {},
   "outputs": [
    {
     "data": {
      "text/plain": [
       "0.0369129564497838"
      ]
     },
     "execution_count": 40,
     "metadata": {},
     "output_type": "execute_result"
    },
    {
     "data": {
      "image/png": "[encoded data removed]",
      "text/plain": [
       "<Figure size 720x360 with 2 Axes>"
      ]
     },
     "metadata": {
      "needs_background": "light"
     },
     "output_type": "display_data"
    }
   ],
   "source": [
    "# Examining the best MSE\n",
    "x = iou_df.sort_values(by = 'mse', ascending = True).index[0]\n",
    "fig, axes = plt.subplots(1, 2, figsize=(10, 5))\n",
    "axes[0].imshow(all_preds[x], cmap=\"gray\")\n",
    "axes[1].imshow(y_val[x][0].numpy(), cmap=\"gray\")\n",
    "mses[x]"
   ]
  },
  {
   "cell_type": "code",
   "execution_count": 41,
   "metadata": {},
   "outputs": [],
   "source": [
    "#iou_df.max()"
   ]
  },
  {
   "cell_type": "code",
   "execution_count": 42,
   "metadata": {},
   "outputs": [],
   "source": [
    "#iou_df[18].sort_values(ascending = False)"
   ]
  },
  {
   "cell_type": "code",
   "execution_count": 43,
   "metadata": {},
   "outputs": [
    {
     "data": {
      "text/plain": [
       "'# Construct a figure for the original and new frames.\\nfig, all_axes = plt.subplots(3, 5, figsize=(20, 12))\\n\\n# List of samples to check:\\ntgts = list(iou_df[18].sort_values(ascending = False)[2:5].index)\\nx = -1\\n\\nfor axes in all_axes:\\n    x += 1\\n    \\n    # Plot deforestaion.\\n    axes[0].imshow(np.squeeze(x_val[tgts[x]][9][:,:,1:2]), cmap=\"Greens_r\")\\n    axes[0].set_title(\"Deforestation\", fontsize=20)\\n    axes[0].axis(\"off\")\\n    \\n    # Plot the last feature frame.\\n    axes[1].imshow(np.squeeze(x_val[tgts[x]][9][:,:,:1]), cmap=\"gray\")\\n    axes[1].set_title(\"Fires\", fontsize=20)\\n    axes[1].axis(\"off\")\\n\\n    # Plot the label frame.\\n    axes[2].imshow(np.squeeze(y_val[tgts[x]]), cmap=\"gray\")\\n    axes[2].set_title(\"Target\", fontsize=20)\\n    axes[2].axis(\"off\")\\n\\n    # Plot the predicted frame.\\n    axes[3].imshow(np.squeeze(all_preds[tgts[x]]), cmap=\"gray\")\\n    axes[3].set_title(\"Prediction\", fontsize=20)\\n    axes[3].axis(\"off\")\\n\\n    # Plot binarized prediction.\\n    axes[4].imshow(np.squeeze(np.where(all_preds[tgts[x]] > 0.9, 1, 0)), cmap=\"gray\")\\n    axes[4].set_title(\"Binarized\", fontsize=20)\\n    axes[4].axis(\"off\")\\n\\n# Display the figure.\\nplt.show()\\n'"
      ]
     },
     "execution_count": 43,
     "metadata": {},
     "output_type": "execute_result"
    }
   ],
   "source": [
    "'''# Construct a figure for the original and new frames.\n",
    "fig, all_axes = plt.subplots(3, 5, figsize=(20, 12))\n",
    "\n",
    "# List of samples to check:\n",
    "tgts = list(iou_df[18].sort_values(ascending = False)[2:5].index)\n",
    "x = -1\n",
    "\n",
    "for axes in all_axes:\n",
    "    x += 1\n",
    "    \n",
    "    # Plot deforestaion.\n",
    "    axes[0].imshow(np.squeeze(x_val[tgts[x]][9][:,:,1:2]), cmap=\"Greens_r\")\n",
    "    axes[0].set_title(\"Deforestation\", fontsize=20)\n",
    "    axes[0].axis(\"off\")\n",
    "    \n",
    "    # Plot the last feature frame.\n",
    "    axes[1].imshow(np.squeeze(x_val[tgts[x]][9][:,:,:1]), cmap=\"gray\")\n",
    "    axes[1].set_title(\"Fires\", fontsize=20)\n",
    "    axes[1].axis(\"off\")\n",
    "\n",
    "    # Plot the label frame.\n",
    "    axes[2].imshow(np.squeeze(y_val[tgts[x]]), cmap=\"gray\")\n",
    "    axes[2].set_title(\"Target\", fontsize=20)\n",
    "    axes[2].axis(\"off\")\n",
    "\n",
    "    # Plot the predicted frame.\n",
    "    axes[3].imshow(np.squeeze(all_preds[tgts[x]]), cmap=\"gray\")\n",
    "    axes[3].set_title(\"Prediction\", fontsize=20)\n",
    "    axes[3].axis(\"off\")\n",
    "\n",
    "    # Plot binarized prediction.\n",
    "    axes[4].imshow(np.squeeze(np.where(all_preds[tgts[x]] > 0.9, 1, 0)), cmap=\"gray\")\n",
    "    axes[4].set_title(\"Binarized\", fontsize=20)\n",
    "    axes[4].axis(\"off\")\n",
    "\n",
    "# Display the figure.\n",
    "plt.show()\n",
    "'''"
   ]
  },
  {
   "cell_type": "markdown",
   "metadata": {},
   "source": [
    "### Examining Pretty Bad Predictions"
   ]
  },
  {
   "cell_type": "code",
   "execution_count": 44,
   "metadata": {},
   "outputs": [],
   "source": [
    "#iou_df[iou_df[19] > 0.02][19].sort_values()"
   ]
  },
  {
   "cell_type": "code",
   "execution_count": 45,
   "metadata": {},
   "outputs": [
    {
     "data": {
      "text/plain": [
       "'# Construct a figure for the original and new frames.\\nfig, all_axes = plt.subplots(3, 5, figsize=(20, 12))\\n\\n# List of samples to check:\\ntgts = list(iou_df[(iou_df[18] > 0.11) & (iou_df[18] < 0.13)][18].sort_values()[:3].index)\\nx = -1\\n\\nfor axes in all_axes:\\n    x += 1\\n    \\n    # Plot deforestaion.\\n    axes[0].imshow(np.squeeze(x_val[tgts[x]][9][:,:,1:2]), cmap=\"Greens_r\")\\n    axes[0].set_title(\"Deforestation\", fontsize=20)\\n    axes[0].axis(\"off\")\\n    \\n    # Plot the last feature frame.\\n    axes[1].imshow(np.squeeze(x_val[tgts[x]][9][:,:,:1]), cmap=\"gray\")\\n    axes[1].set_title(\"Fires\", fontsize=20)\\n    axes[1].axis(\"off\")\\n\\n    # Plot the label frame.\\n    axes[2].imshow(np.squeeze(y_val[tgts[x]]), cmap=\"gray\")\\n    axes[2].set_title(\"Target\", fontsize=20)\\n    axes[2].axis(\"off\")\\n\\n    # Plot the predicted frame.\\n    axes[3].imshow(np.squeeze(all_preds[tgts[x]]), cmap=\"gray\")\\n    axes[3].set_title(\"Prediction\", fontsize=20)\\n    axes[3].axis(\"off\")\\n\\n    # Plot binarized prediction.\\n    axes[4].imshow(np.squeeze(np.where(all_preds[tgts[x]] > 0.9, 1, 0)), cmap=\"gray\")\\n    axes[4].set_title(\"Binarized\", fontsize=20)\\n    axes[4].axis(\"off\")\\n\\n# Display the figure.\\nplt.show()\\n'"
      ]
     },
     "execution_count": 45,
     "metadata": {},
     "output_type": "execute_result"
    }
   ],
   "source": [
    "'''# Construct a figure for the original and new frames.\n",
    "fig, all_axes = plt.subplots(3, 5, figsize=(20, 12))\n",
    "\n",
    "# List of samples to check:\n",
    "tgts = list(iou_df[(iou_df[18] > 0.11) & (iou_df[18] < 0.13)][18].sort_values()[:3].index)\n",
    "x = -1\n",
    "\n",
    "for axes in all_axes:\n",
    "    x += 1\n",
    "    \n",
    "    # Plot deforestaion.\n",
    "    axes[0].imshow(np.squeeze(x_val[tgts[x]][9][:,:,1:2]), cmap=\"Greens_r\")\n",
    "    axes[0].set_title(\"Deforestation\", fontsize=20)\n",
    "    axes[0].axis(\"off\")\n",
    "    \n",
    "    # Plot the last feature frame.\n",
    "    axes[1].imshow(np.squeeze(x_val[tgts[x]][9][:,:,:1]), cmap=\"gray\")\n",
    "    axes[1].set_title(\"Fires\", fontsize=20)\n",
    "    axes[1].axis(\"off\")\n",
    "\n",
    "    # Plot the label frame.\n",
    "    axes[2].imshow(np.squeeze(y_val[tgts[x]]), cmap=\"gray\")\n",
    "    axes[2].set_title(\"Target\", fontsize=20)\n",
    "    axes[2].axis(\"off\")\n",
    "\n",
    "    # Plot the predicted frame.\n",
    "    axes[3].imshow(np.squeeze(all_preds[tgts[x]]), cmap=\"gray\")\n",
    "    axes[3].set_title(\"Prediction\", fontsize=20)\n",
    "    axes[3].axis(\"off\")\n",
    "\n",
    "    # Plot binarized prediction.\n",
    "    axes[4].imshow(np.squeeze(np.where(all_preds[tgts[x]] > 0.9, 1, 0)), cmap=\"gray\")\n",
    "    axes[4].set_title(\"Binarized\", fontsize=20)\n",
    "    axes[4].axis(\"off\")\n",
    "\n",
    "# Display the figure.\n",
    "plt.show()\n",
    "'''"
   ]
  },
  {
   "cell_type": "code",
   "execution_count": 46,
   "metadata": {},
   "outputs": [
    {
     "data": {
      "text/plain": [
       "'# Construct a figure for the original and new frames.\\nfig, all_axes = plt.subplots(3, 5, figsize=(20, 12))\\n\\n# List of samples to check:\\ntgts = list(iou_df[iou_df[18] < 0.039][18].sort_values()[:3].index)\\nx = -1\\n\\nfor axes in all_axes:\\n    x += 1\\n    \\n    # Plot deforestaion.\\n    axes[0].imshow(np.squeeze(x_val[tgts[x]][9][:,:,1:2]), cmap=\"Greens_r\")\\n    axes[0].set_title(\"Deforestation\", fontsize=20)\\n    axes[0].axis(\"off\")\\n    \\n    # Plot the last feature frame.\\n    axes[1].imshow(np.squeeze(x_val[tgts[x]][9][:,:,:1]), cmap=\"gray\")\\n    axes[1].set_title(\"Fires\", fontsize=20)\\n    axes[1].axis(\"off\")\\n\\n    # Plot the label frame.\\n    axes[2].imshow(np.squeeze(y_val[tgts[x]]), cmap=\"gray\")\\n    axes[2].set_title(\"Target\", fontsize=20)\\n    axes[2].axis(\"off\")\\n\\n    # Plot the predicted frame.\\n    axes[3].imshow(np.squeeze(all_preds[tgts[x]]), cmap=\"gray\")\\n    axes[3].set_title(\"Prediction\", fontsize=20)\\n    axes[3].axis(\"off\")\\n\\n    # Plot binarized prediction.\\n    axes[4].imshow(np.squeeze(np.where(all_preds[tgts[x]] > 0.9, 1, 0)), cmap=\"gray\")\\n    axes[4].set_title(\"Binarized\", fontsize=20)\\n    axes[4].axis(\"off\")\\n\\n# Display the figure.\\nplt.show()\\n'"
      ]
     },
     "execution_count": 46,
     "metadata": {},
     "output_type": "execute_result"
    }
   ],
   "source": [
    "'''# Construct a figure for the original and new frames.\n",
    "fig, all_axes = plt.subplots(3, 5, figsize=(20, 12))\n",
    "\n",
    "# List of samples to check:\n",
    "tgts = list(iou_df[iou_df[18] < 0.039][18].sort_values()[:3].index)\n",
    "x = -1\n",
    "\n",
    "for axes in all_axes:\n",
    "    x += 1\n",
    "    \n",
    "    # Plot deforestaion.\n",
    "    axes[0].imshow(np.squeeze(x_val[tgts[x]][9][:,:,1:2]), cmap=\"Greens_r\")\n",
    "    axes[0].set_title(\"Deforestation\", fontsize=20)\n",
    "    axes[0].axis(\"off\")\n",
    "    \n",
    "    # Plot the last feature frame.\n",
    "    axes[1].imshow(np.squeeze(x_val[tgts[x]][9][:,:,:1]), cmap=\"gray\")\n",
    "    axes[1].set_title(\"Fires\", fontsize=20)\n",
    "    axes[1].axis(\"off\")\n",
    "\n",
    "    # Plot the label frame.\n",
    "    axes[2].imshow(np.squeeze(y_val[tgts[x]]), cmap=\"gray\")\n",
    "    axes[2].set_title(\"Target\", fontsize=20)\n",
    "    axes[2].axis(\"off\")\n",
    "\n",
    "    # Plot the predicted frame.\n",
    "    axes[3].imshow(np.squeeze(all_preds[tgts[x]]), cmap=\"gray\")\n",
    "    axes[3].set_title(\"Prediction\", fontsize=20)\n",
    "    axes[3].axis(\"off\")\n",
    "\n",
    "    # Plot binarized prediction.\n",
    "    axes[4].imshow(np.squeeze(np.where(all_preds[tgts[x]] > 0.9, 1, 0)), cmap=\"gray\")\n",
    "    axes[4].set_title(\"Binarized\", fontsize=20)\n",
    "    axes[4].axis(\"off\")\n",
    "\n",
    "# Display the figure.\n",
    "plt.show()\n",
    "'''"
   ]
  },
  {
   "cell_type": "code",
   "execution_count": 47,
   "metadata": {},
   "outputs": [
    {
     "name": "stdout",
     "output_type": "stream",
     "text": [
      "ssim 0.01035036276413315\n",
      "psnr 0.09929204342355054\n",
      "mse 0.12804907768612392\n"
     ]
    }
   ],
   "source": [
    "# Print all set metrics again for ease of gathering.\n",
    "print('ssim',mean_raw_ssim)\n",
    "print('psnr',set_psnr)\n",
    "print('mse',mean_squared_error(all_preds, y_val.numpy()[:,0]))\n",
    "#ious"
   ]
  }
 ],
 "metadata": {
  "kernelspec": {
   "display_name": "Python 3 (ipykernel)",
   "language": "python",
   "name": "python3"
  },
  "language_info": {
   "codemirror_mode": {
    "name": "ipython",
    "version": 3
   },
   "file_extension": ".py",
   "mimetype": "text/x-python",
   "name": "python",
   "nbconvert_exporter": "python",
   "pygments_lexer": "ipython3",
   "version": "3.9.7"
  }
 },
 "nbformat": 4,
 "nbformat_minor": 4
}
