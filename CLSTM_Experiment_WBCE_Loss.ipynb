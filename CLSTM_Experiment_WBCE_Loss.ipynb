{
 "cells": [
  {
   "cell_type": "markdown",
   "metadata": {},
   "source": [
    "#### Import block"
   ]
  },
  {
   "cell_type": "code",
   "execution_count": 1,
   "metadata": {},
   "outputs": [],
   "source": [
    "import pandas as pd\n",
    "import numpy as np\n",
    "import tensorflow as tf\n",
    "import matplotlib.pyplot as plt\n",
    "\n",
    "from tensorflow.keras import layers\n",
    "from tensorflow.keras.models import Sequential\n",
    "from tensorflow.keras.initializers import Constant\n",
    "\n",
    "from sklearn.utils import class_weight\n",
    "\n",
    "%matplotlib inline"
   ]
  },
  {
   "cell_type": "code",
   "execution_count": 2,
   "metadata": {},
   "outputs": [
    {
     "data": {
      "text/plain": [
       "[PhysicalDevice(name='/physical_device:GPU:0', device_type='GPU')]"
      ]
     },
     "execution_count": 2,
     "metadata": {},
     "output_type": "execute_result"
    }
   ],
   "source": [
    "# Check for available GPU.\n",
    "tf.config.list_physical_devices('GPU')"
   ]
  },
  {
   "cell_type": "markdown",
   "metadata": {},
   "source": [
    "#### Function definitions"
   ]
  },
  {
   "cell_type": "code",
   "execution_count": 3,
   "metadata": {},
   "outputs": [],
   "source": [
    "# Loader functions\n",
    "# Inspiration: https://towardsdatascience.com/writing-custom-keras-generators-fe815d992c5a\n",
    "\n",
    "def get_input(path):\n",
    "    # Load array.\n",
    "    t_input = np.load(path)\n",
    "    # Pad to even number of pixels\n",
    "    t_input = np.pad(t_input, [(0,0),(0,1),(0,1)])\n",
    "    # Resize to include a channel dimension.\n",
    "    t_input = tf.expand_dims(t_input, axis = -1)\n",
    "    return t_input\n",
    "\n",
    "def get_output(path):\n",
    "    # Load array.\n",
    "    t_output = np.load(path)\n",
    "    # Pad to even number of pixels\n",
    "    t_output = np.pad(t_output, [(0,0),(0,1),(0,1)])\n",
    "    # Resize to include a channel dimension.\n",
    "    t_output = tf.expand_dims(t_output, axis = -1)\n",
    "    return t_output\n",
    "\n",
    "def data_generator(samples, batch_size = 64):\n",
    "    \n",
    "    while True:\n",
    "        # Select files (paths/indices) for the batch\n",
    "        batch_samples  = np.random.choice(a = samples.index, \n",
    "                                      size = batch_size)\n",
    "        batch_input  = []\n",
    "        batch_output = [] \n",
    "\n",
    "        # Read in each input, perform preprocessing and get labels\n",
    "        for sample in batch_samples:\n",
    "          input = get_input(samples.loc[sample].features)\n",
    "          output = get_output(samples.loc[sample].labels)\n",
    "\n",
    "          batch_input += [input]\n",
    "          batch_output += [output]\n",
    "        # Return a tuple of (input, output) to feed the network\n",
    "        batch_x = np.array(batch_input)\n",
    "        batch_y = np.array(batch_output)\n",
    "        \n",
    "        yield(batch_x, batch_y)\n"
   ]
  },
  {
   "cell_type": "code",
   "execution_count": 4,
   "metadata": {},
   "outputs": [
    {
     "data": {
      "text/html": [
       "<div>\n",
       "<style scoped>\n",
       "    .dataframe tbody tr th:only-of-type {\n",
       "        vertical-align: middle;\n",
       "    }\n",
       "\n",
       "    .dataframe tbody tr th {\n",
       "        vertical-align: top;\n",
       "    }\n",
       "\n",
       "    .dataframe thead th {\n",
       "        text-align: right;\n",
       "    }\n",
       "</style>\n",
       "<table border=\"1\" class=\"dataframe\">\n",
       "  <thead>\n",
       "    <tr style=\"text-align: right;\">\n",
       "      <th></th>\n",
       "      <th>Unnamed: 0</th>\n",
       "      <th>Lon</th>\n",
       "      <th>Lat</th>\n",
       "      <th>Date</th>\n",
       "      <th>features</th>\n",
       "      <th>labels</th>\n",
       "    </tr>\n",
       "  </thead>\n",
       "  <tbody>\n",
       "    <tr>\n",
       "      <th>0</th>\n",
       "      <td>356962</td>\n",
       "      <td>-53.345535</td>\n",
       "      <td>-6.535028</td>\n",
       "      <td>2017-07-30</td>\n",
       "      <td>Sample_CLSTM_Dataset/train/features/356962.npy</td>\n",
       "      <td>Sample_CLSTM_Dataset/train/labels/356962.npy</td>\n",
       "    </tr>\n",
       "    <tr>\n",
       "      <th>1</th>\n",
       "      <td>546517</td>\n",
       "      <td>-47.329685</td>\n",
       "      <td>-8.260676</td>\n",
       "      <td>2017-08-20</td>\n",
       "      <td>Sample_CLSTM_Dataset/train/features/546517.npy</td>\n",
       "      <td>Sample_CLSTM_Dataset/train/labels/546517.npy</td>\n",
       "    </tr>\n",
       "    <tr>\n",
       "      <th>2</th>\n",
       "      <td>799359</td>\n",
       "      <td>-50.967861</td>\n",
       "      <td>-8.255809</td>\n",
       "      <td>2017-09-04</td>\n",
       "      <td>Sample_CLSTM_Dataset/train/features/799359.npy</td>\n",
       "      <td>Sample_CLSTM_Dataset/train/labels/799359.npy</td>\n",
       "    </tr>\n",
       "    <tr>\n",
       "      <th>3</th>\n",
       "      <td>714590</td>\n",
       "      <td>-66.144379</td>\n",
       "      <td>-12.624272</td>\n",
       "      <td>2017-08-31</td>\n",
       "      <td>Sample_CLSTM_Dataset/train/features/714590.npy</td>\n",
       "      <td>Sample_CLSTM_Dataset/train/labels/714590.npy</td>\n",
       "    </tr>\n",
       "    <tr>\n",
       "      <th>4</th>\n",
       "      <td>240012</td>\n",
       "      <td>-48.350338</td>\n",
       "      <td>-11.838207</td>\n",
       "      <td>2017-07-14</td>\n",
       "      <td>Sample_CLSTM_Dataset/train/features/240012.npy</td>\n",
       "      <td>Sample_CLSTM_Dataset/train/labels/240012.npy</td>\n",
       "    </tr>\n",
       "    <tr>\n",
       "      <th>...</th>\n",
       "      <td>...</td>\n",
       "      <td>...</td>\n",
       "      <td>...</td>\n",
       "      <td>...</td>\n",
       "      <td>...</td>\n",
       "      <td>...</td>\n",
       "    </tr>\n",
       "    <tr>\n",
       "      <th>6491</th>\n",
       "      <td>173827</td>\n",
       "      <td>-54.326607</td>\n",
       "      <td>-11.983384</td>\n",
       "      <td>2017-06-20</td>\n",
       "      <td>Sample_CLSTM_Dataset/train/features/173827.npy</td>\n",
       "      <td>Sample_CLSTM_Dataset/train/labels/173827.npy</td>\n",
       "    </tr>\n",
       "    <tr>\n",
       "      <th>6492</th>\n",
       "      <td>1377764</td>\n",
       "      <td>-47.425915</td>\n",
       "      <td>-7.486426</td>\n",
       "      <td>2017-09-26</td>\n",
       "      <td>Sample_CLSTM_Dataset/train/features/1377764.npy</td>\n",
       "      <td>Sample_CLSTM_Dataset/train/labels/1377764.npy</td>\n",
       "    </tr>\n",
       "    <tr>\n",
       "      <th>6493</th>\n",
       "      <td>1444041</td>\n",
       "      <td>-65.172768</td>\n",
       "      <td>-10.714162</td>\n",
       "      <td>2017-10-02</td>\n",
       "      <td>Sample_CLSTM_Dataset/train/features/1444041.npy</td>\n",
       "      <td>Sample_CLSTM_Dataset/train/labels/1444041.npy</td>\n",
       "    </tr>\n",
       "    <tr>\n",
       "      <th>6494</th>\n",
       "      <td>644793</td>\n",
       "      <td>-53.701656</td>\n",
       "      <td>-15.977278</td>\n",
       "      <td>2017-08-27</td>\n",
       "      <td>Sample_CLSTM_Dataset/train/features/644793.npy</td>\n",
       "      <td>Sample_CLSTM_Dataset/train/labels/644793.npy</td>\n",
       "    </tr>\n",
       "    <tr>\n",
       "      <th>6495</th>\n",
       "      <td>1780752</td>\n",
       "      <td>-51.322929</td>\n",
       "      <td>-3.104345</td>\n",
       "      <td>2017-10-25</td>\n",
       "      <td>Sample_CLSTM_Dataset/train/features/1780752.npy</td>\n",
       "      <td>Sample_CLSTM_Dataset/train/labels/1780752.npy</td>\n",
       "    </tr>\n",
       "  </tbody>\n",
       "</table>\n",
       "<p>6496 rows × 6 columns</p>\n",
       "</div>"
      ],
      "text/plain": [
       "      Unnamed: 0        Lon        Lat        Date  \\\n",
       "0         356962 -53.345535  -6.535028  2017-07-30   \n",
       "1         546517 -47.329685  -8.260676  2017-08-20   \n",
       "2         799359 -50.967861  -8.255809  2017-09-04   \n",
       "3         714590 -66.144379 -12.624272  2017-08-31   \n",
       "4         240012 -48.350338 -11.838207  2017-07-14   \n",
       "...          ...        ...        ...         ...   \n",
       "6491      173827 -54.326607 -11.983384  2017-06-20   \n",
       "6492     1377764 -47.425915  -7.486426  2017-09-26   \n",
       "6493     1444041 -65.172768 -10.714162  2017-10-02   \n",
       "6494      644793 -53.701656 -15.977278  2017-08-27   \n",
       "6495     1780752 -51.322929  -3.104345  2017-10-25   \n",
       "\n",
       "                                             features  \\\n",
       "0      Sample_CLSTM_Dataset/train/features/356962.npy   \n",
       "1      Sample_CLSTM_Dataset/train/features/546517.npy   \n",
       "2      Sample_CLSTM_Dataset/train/features/799359.npy   \n",
       "3      Sample_CLSTM_Dataset/train/features/714590.npy   \n",
       "4      Sample_CLSTM_Dataset/train/features/240012.npy   \n",
       "...                                               ...   \n",
       "6491   Sample_CLSTM_Dataset/train/features/173827.npy   \n",
       "6492  Sample_CLSTM_Dataset/train/features/1377764.npy   \n",
       "6493  Sample_CLSTM_Dataset/train/features/1444041.npy   \n",
       "6494   Sample_CLSTM_Dataset/train/features/644793.npy   \n",
       "6495  Sample_CLSTM_Dataset/train/features/1780752.npy   \n",
       "\n",
       "                                             labels  \n",
       "0      Sample_CLSTM_Dataset/train/labels/356962.npy  \n",
       "1      Sample_CLSTM_Dataset/train/labels/546517.npy  \n",
       "2      Sample_CLSTM_Dataset/train/labels/799359.npy  \n",
       "3      Sample_CLSTM_Dataset/train/labels/714590.npy  \n",
       "4      Sample_CLSTM_Dataset/train/labels/240012.npy  \n",
       "...                                             ...  \n",
       "6491   Sample_CLSTM_Dataset/train/labels/173827.npy  \n",
       "6492  Sample_CLSTM_Dataset/train/labels/1377764.npy  \n",
       "6493  Sample_CLSTM_Dataset/train/labels/1444041.npy  \n",
       "6494   Sample_CLSTM_Dataset/train/labels/644793.npy  \n",
       "6495  Sample_CLSTM_Dataset/train/labels/1780752.npy  \n",
       "\n",
       "[6496 rows x 6 columns]"
      ]
     },
     "execution_count": 4,
     "metadata": {},
     "output_type": "execute_result"
    }
   ],
   "source": [
    "m = pd.read_csv('Sample_CLSTM_Dataset/train/meta.csv')\n",
    "m"
   ]
  },
  {
   "cell_type": "markdown",
   "metadata": {},
   "source": [
    "#### Load data"
   ]
  },
  {
   "cell_type": "code",
   "execution_count": 5,
   "metadata": {},
   "outputs": [
    {
     "data": {
      "text/plain": [
       "TensorShape([1, 10, 32, 32, 1])"
      ]
     },
     "execution_count": 5,
     "metadata": {},
     "output_type": "execute_result"
    }
   ],
   "source": [
    "# Get data from one chip\n",
    "sample_input = np.load('Sample_CLSTM_Dataset/train/features/3243.npy')\n",
    "\n",
    "# Pad to even number of pixels\n",
    "a = np.pad(sample_input, [(0,0),(0,1),(0,1)])\n",
    "# Resize to include a channel dimension.\n",
    "a = tf.expand_dims(a, axis = -1)\n",
    "# Resize to include a batch dimension.\n",
    "a = tf.expand_dims(a, axis = 0)\n",
    "# Display shape for verification.\n",
    "a.shape"
   ]
  },
  {
   "cell_type": "markdown",
   "metadata": {},
   "source": [
    "#### Model assumbly"
   ]
  },
  {
   "cell_type": "code",
   "execution_count": 6,
   "metadata": {},
   "outputs": [],
   "source": [
    "# Inspired by: https://keras.io/examples/vision/conv_lstm/?fbclid=IwAR1QSJmF0bcz5pklHDHwl4mUi8inzHN4m8Zk6OpvVJizqDDv2-MKMq3LlJ8\n",
    "\n",
    "inputs = layers.Input(shape=((10,32,32,1)))\n",
    "x = layers.ConvLSTM2D(\n",
    "    filters=64,\n",
    "    kernel_size=(5, 5),\n",
    "    padding='same',\n",
    "    return_sequences=True,\n",
    "    activation='relu',\n",
    ")(inputs)\n",
    "x = layers.BatchNormalization()(x)\n",
    "x = layers.ConvLSTM2D(\n",
    "    filters=64,\n",
    "    kernel_size=(3, 3),\n",
    "    padding='same',\n",
    "    return_sequences=True,\n",
    "    activation='relu',\n",
    ")(x)\n",
    "x = layers.BatchNormalization()(x)\n",
    "x = layers.ConvLSTM2D(\n",
    "    filters=64,\n",
    "    kernel_size=(1, 1),\n",
    "    padding='same',\n",
    "    return_sequences=True,\n",
    "    activation='relu',\n",
    ")(x)\n",
    "outputs = layers.Conv3D(\n",
    "    filters=1, kernel_size=(3, 3, 3), activation='sigmoid', padding='same'\n",
    ")(x)"
   ]
  },
  {
   "cell_type": "code",
   "execution_count": 7,
   "metadata": {},
   "outputs": [],
   "source": [
    "forecast_model = tf.keras.Model(inputs, outputs, name=\"Conv_LSTM\")"
   ]
  },
  {
   "cell_type": "code",
   "execution_count": 8,
   "metadata": {},
   "outputs": [
    {
     "name": "stdout",
     "output_type": "stream",
     "text": [
      "1/1 [==============================] - 2s 2s/step\n"
     ]
    },
    {
     "data": {
      "text/plain": [
       "(1, 10, 32, 32, 1)"
      ]
     },
     "execution_count": 8,
     "metadata": {},
     "output_type": "execute_result"
    }
   ],
   "source": [
    "# Verify output shape.\n",
    "forecast_model.predict(a).shape"
   ]
  },
  {
   "cell_type": "code",
   "execution_count": 9,
   "metadata": {},
   "outputs": [
    {
     "name": "stdout",
     "output_type": "stream",
     "text": [
      "Model: \"Conv_LSTM\"\n",
      "_________________________________________________________________\n",
      " Layer (type)                Output Shape              Param #   \n",
      "=================================================================\n",
      " input_1 (InputLayer)        [(None, 10, 32, 32, 1)]   0         \n",
      "                                                                 \n",
      " conv_lstm2d (ConvLSTM2D)    (None, 10, 32, 32, 64)    416256    \n",
      "                                                                 \n",
      " batch_normalization (BatchN  (None, 10, 32, 32, 64)   256       \n",
      " ormalization)                                                   \n",
      "                                                                 \n",
      " conv_lstm2d_1 (ConvLSTM2D)  (None, 10, 32, 32, 64)    295168    \n",
      "                                                                 \n",
      " batch_normalization_1 (Batc  (None, 10, 32, 32, 64)   256       \n",
      " hNormalization)                                                 \n",
      "                                                                 \n",
      " conv_lstm2d_2 (ConvLSTM2D)  (None, 10, 32, 32, 64)    33024     \n",
      "                                                                 \n",
      " conv3d (Conv3D)             (None, 10, 32, 32, 1)     1729      \n",
      "                                                                 \n",
      "=================================================================\n",
      "Total params: 746,689\n",
      "Trainable params: 746,433\n",
      "Non-trainable params: 256\n",
      "_________________________________________________________________\n"
     ]
    }
   ],
   "source": [
    "# Display model details.\n",
    "forecast_model.summary()"
   ]
  },
  {
   "cell_type": "code",
   "execution_count": 10,
   "metadata": {},
   "outputs": [],
   "source": [
    "# Compile model.\n",
    "opt = tf.keras.optimizers.Adam(learning_rate=0.00001)\n",
    "forecast_model.compile(loss='binary_crossentropy', optimizer=opt, metrics=['accuracy'])"
   ]
  },
  {
   "cell_type": "code",
   "execution_count": 10,
   "metadata": {},
   "outputs": [],
   "source": [
    "# Data loaders.\n",
    "batch_size = 64\n",
    "meta_t = pd.read_csv('Sample_CLSTM_Dataset/train/meta.csv')\n",
    "meta_v = pd.read_csv('Sample_CLSTM_Dataset/val/meta.csv')\n",
    "t_gen = data_generator(meta_t, batch_size = batch_size)\n",
    "v_gen = data_generator(meta_v, batch_size = batch_size)"
   ]
  },
  {
   "cell_type": "code",
   "execution_count": 11,
   "metadata": {},
   "outputs": [],
   "source": [
    "# Trying new approach to build dataset.\n",
    "x_train, y_train, x_val, y_val = [],[],[],[]\n",
    "\n",
    "# Iterate over dataset.\n",
    "for x in range(0,len(meta_t)):\n",
    "    x_train.append(np.load(meta_t.iloc[0].features))\n",
    "    y_train.append(np.load(meta_t.iloc[0].labels))\n",
    "for x in range(0,len(meta_v)):\n",
    "    x_val.append(np.load(meta_v.iloc[0].features))\n",
    "    y_val.append(np.load(meta_v.iloc[0].labels))\n",
    "    \n",
    "# Stack layers.\n",
    "x_train = np.stack(x_train)\n",
    "y_train = np.stack(y_train)\n",
    "x_val = np.stack(x_val)\n",
    "y_val = np.stack(y_val)\n",
    "\n",
    "# Convert values > 1 to 1.\n",
    "x_train = np.minimum(x_train,1)\n",
    "y_train = np.minimum(y_train,1)\n",
    "x_val = np.minimum(x_val,1)\n",
    "y_val = np.minimum(y_val,1)\n",
    "\n",
    "# Pad to even shape.\n",
    "x_train = np.pad(x_train, [(0,0),(0,0),(0,1),(0,1)])\n",
    "y_train = np.pad(y_train, [(0,0),(0,0),(0,1),(0,1)])\n",
    "x_val = np.pad(x_val, [(0,0),(0,0),(0,1),(0,1)])\n",
    "y_val = np.pad(y_val, [(0,0),(0,0),(0,1),(0,1)])\n",
    "\n",
    "# Add color channel dim.\n",
    "x_train = tf.expand_dims(x_train, axis = -1)\n",
    "y_train = tf.expand_dims(y_train, axis = -1)\n",
    "x_val = tf.expand_dims(x_val, axis = -1)\n",
    "y_val = tf.expand_dims(y_val, axis = -1)"
   ]
  },
  {
   "cell_type": "code",
   "execution_count": 22,
   "metadata": {},
   "outputs": [],
   "source": [
    "# Solution for problem with class_weights not working with 3D outputs in tensorflow.\n",
    "# From: https://github.com/keras-team/keras/issues/3653\n",
    "def generate_sample_weights(training_data, class_weights): \n",
    "    #replaces values for up to 3 classes with the values from class_weights#\n",
    "    sample_weights = [np.where(y==0,class_weights[0],\n",
    "                        np.where(y==1,class_weights[1],\n",
    "                        y)) for y in training_data]\n",
    "    return np.asarray(sample_weights)"
   ]
  },
  {
   "cell_type": "code",
   "execution_count": 19,
   "metadata": {},
   "outputs": [
    {
     "data": {
      "text/plain": [
       "array([  0.5010275 , 243.80952381])"
      ]
     },
     "execution_count": 19,
     "metadata": {},
     "output_type": "execute_result"
    }
   ],
   "source": [
    "# Get class weights for weighted binary cross entropy loss.\n",
    "weights = class_weight.compute_class_weight('balanced',\n",
    "                                            [0,1],\n",
    "                                            y_train.numpy().flatten())\n",
    "\n",
    "#weights = {i : weights[i] for i in range(0,2)}\n",
    "weights"
   ]
  },
  {
   "cell_type": "code",
   "execution_count": 23,
   "metadata": {},
   "outputs": [],
   "source": [
    "calculated_sample_weights = generate_sample_weights(y_train, weights)"
   ]
  },
  {
   "cell_type": "code",
   "execution_count": 25,
   "metadata": {},
   "outputs": [
    {
     "name": "stdout",
     "output_type": "stream",
     "text": [
      "Epoch 1/50\n",
      "203/203 [==============================] - 64s 302ms/step - loss: 0.6559 - accuracy: 0.6826 - val_loss: 0.6822 - val_accuracy: 0.9999 - lr: 1.0000e-05\n",
      "Epoch 2/50\n",
      "203/203 [==============================] - 61s 300ms/step - loss: 0.4184 - accuracy: 0.8725 - val_loss: 0.4116 - val_accuracy: 0.8908 - lr: 1.0000e-05\n",
      "Epoch 3/50\n",
      "203/203 [==============================] - 61s 301ms/step - loss: 0.3251 - accuracy: 0.8851 - val_loss: 0.2050 - val_accuracy: 0.8999 - lr: 1.0000e-05\n",
      "Epoch 4/50\n",
      "203/203 [==============================] - 61s 300ms/step - loss: 0.2690 - accuracy: 0.8564 - val_loss: 0.2041 - val_accuracy: 0.9022 - lr: 1.0000e-05\n",
      "Epoch 5/50\n",
      "203/203 [==============================] - 61s 301ms/step - loss: 0.2403 - accuracy: 0.8473 - val_loss: 0.2417 - val_accuracy: 0.9009 - lr: 1.0000e-05\n",
      "Epoch 6/50\n",
      "203/203 [==============================] - 61s 301ms/step - loss: 0.2239 - accuracy: 0.8269 - val_loss: 0.2386 - val_accuracy: 0.8057 - lr: 1.0000e-05\n",
      "Epoch 7/50\n",
      "203/203 [==============================] - 61s 301ms/step - loss: 0.2132 - accuracy: 0.8050 - val_loss: 0.2096 - val_accuracy: 0.8624 - lr: 1.0000e-05\n",
      "Epoch 8/50\n",
      "203/203 [==============================] - 61s 301ms/step - loss: 0.2049 - accuracy: 0.8111 - val_loss: 0.1945 - val_accuracy: 0.9212 - lr: 1.0000e-05\n",
      "Epoch 9/50\n",
      "203/203 [==============================] - 61s 301ms/step - loss: 0.1983 - accuracy: 0.8158 - val_loss: 0.2089 - val_accuracy: 0.8220 - lr: 1.0000e-05\n",
      "Epoch 10/50\n",
      "203/203 [==============================] - 61s 301ms/step - loss: 0.1936 - accuracy: 0.8212 - val_loss: 0.1980 - val_accuracy: 0.8306 - lr: 1.0000e-05\n",
      "Epoch 11/50\n",
      "203/203 [==============================] - 61s 300ms/step - loss: 0.1905 - accuracy: 0.8235 - val_loss: 0.2151 - val_accuracy: 0.8246 - lr: 1.0000e-05\n",
      "Epoch 12/50\n",
      "203/203 [==============================] - 61s 301ms/step - loss: 0.1875 - accuracy: 0.8253 - val_loss: 0.2006 - val_accuracy: 0.8323 - lr: 1.0000e-05\n",
      "Epoch 13/50\n",
      "203/203 [==============================] - 61s 301ms/step - loss: 0.1853 - accuracy: 0.8271 - val_loss: 0.1864 - val_accuracy: 0.8379 - lr: 1.0000e-05\n",
      "Epoch 14/50\n",
      "203/203 [==============================] - 61s 301ms/step - loss: 0.1836 - accuracy: 0.8307 - val_loss: 0.2104 - val_accuracy: 0.8341 - lr: 1.0000e-05\n",
      "Epoch 15/50\n",
      "203/203 [==============================] - 61s 301ms/step - loss: 0.1821 - accuracy: 0.8325 - val_loss: 0.2201 - val_accuracy: 0.8322 - lr: 1.0000e-05\n",
      "Epoch 16/50\n",
      "203/203 [==============================] - 61s 301ms/step - loss: 0.1809 - accuracy: 0.8339 - val_loss: 0.2284 - val_accuracy: 0.8307 - lr: 1.0000e-05\n",
      "Epoch 17/50\n",
      "203/203 [==============================] - 61s 299ms/step - loss: 0.1797 - accuracy: 0.8356 - val_loss: 0.1793 - val_accuracy: 0.8472 - lr: 1.0000e-05\n",
      "Epoch 18/50\n",
      "203/203 [==============================] - 61s 299ms/step - loss: 0.1787 - accuracy: 0.8373 - val_loss: 0.2346 - val_accuracy: 0.8336 - lr: 1.0000e-05\n",
      "Epoch 19/50\n",
      "203/203 [==============================] - 61s 299ms/step - loss: 0.1774 - accuracy: 0.8391 - val_loss: 0.1875 - val_accuracy: 0.8477 - lr: 1.0000e-05\n",
      "Epoch 20/50\n",
      "203/203 [==============================] - 61s 299ms/step - loss: 0.1768 - accuracy: 0.8424 - val_loss: 0.1879 - val_accuracy: 0.8469 - lr: 1.0000e-05\n",
      "Epoch 21/50\n",
      "203/203 [==============================] - 61s 299ms/step - loss: 0.1764 - accuracy: 0.8434 - val_loss: 0.2242 - val_accuracy: 0.8430 - lr: 1.0000e-05\n",
      "Epoch 22/50\n",
      "203/203 [==============================] - 61s 299ms/step - loss: 0.1764 - accuracy: 0.8441 - val_loss: 0.1684 - val_accuracy: 0.8764 - lr: 1.0000e-05\n",
      "Epoch 23/50\n",
      "203/203 [==============================] - 61s 300ms/step - loss: 0.1738 - accuracy: 0.8483 - val_loss: 0.1927 - val_accuracy: 0.8488 - lr: 1.0000e-05\n",
      "Epoch 24/50\n",
      "203/203 [==============================] - 61s 299ms/step - loss: 0.1730 - accuracy: 0.8488 - val_loss: 0.2115 - val_accuracy: 0.8472 - lr: 1.0000e-05\n",
      "Epoch 25/50\n",
      "203/203 [==============================] - 61s 302ms/step - loss: 0.1729 - accuracy: 0.8490 - val_loss: 0.2440 - val_accuracy: 0.8457 - lr: 1.0000e-05\n",
      "Epoch 26/50\n",
      "203/203 [==============================] - 61s 301ms/step - loss: 0.1719 - accuracy: 0.8490 - val_loss: 0.3148 - val_accuracy: 0.8406 - lr: 1.0000e-05\n",
      "Epoch 27/50\n",
      "203/203 [==============================] - 61s 301ms/step - loss: 0.1710 - accuracy: 0.8494 - val_loss: 0.2262 - val_accuracy: 0.8467 - lr: 1.0000e-05\n",
      "Epoch 28/50\n",
      "203/203 [==============================] - 61s 301ms/step - loss: 0.1696 - accuracy: 0.8493 - val_loss: 0.2010 - val_accuracy: 0.8502 - lr: 1.0000e-06\n",
      "Epoch 29/50\n",
      "203/203 [==============================] - 61s 301ms/step - loss: 0.1693 - accuracy: 0.8496 - val_loss: 0.2080 - val_accuracy: 0.8501 - lr: 1.0000e-06\n",
      "Epoch 30/50\n",
      "203/203 [==============================] - 61s 301ms/step - loss: 0.1691 - accuracy: 0.8502 - val_loss: 0.2074 - val_accuracy: 0.8502 - lr: 1.0000e-06\n",
      "Epoch 31/50\n",
      "203/203 [==============================] - 61s 301ms/step - loss: 0.1690 - accuracy: 0.8505 - val_loss: 0.2095 - val_accuracy: 0.8501 - lr: 1.0000e-06\n",
      "Epoch 32/50\n",
      "203/203 [==============================] - 61s 301ms/step - loss: 0.1689 - accuracy: 0.8510 - val_loss: 0.2113 - val_accuracy: 0.8501 - lr: 1.0000e-06\n"
     ]
    },
    {
     "data": {
      "text/plain": [
       "<keras.callbacks.History at 0x2aa4195a1c0>"
      ]
     },
     "execution_count": 25,
     "metadata": {},
     "output_type": "execute_result"
    }
   ],
   "source": [
    "# Params\n",
    "batch_size = 32\n",
    "\n",
    "# Adding callbacks.\n",
    "early_stopping = tf.keras.callbacks.EarlyStopping(monitor=\"val_loss\", patience=10)\n",
    "reduce_lr = tf.keras.callbacks.ReduceLROnPlateau(monitor=\"val_loss\", patience=5)\n",
    "\n",
    "# Train model.\n",
    "forecast_model.fit(#t_gen, \n",
    "                   x_train,\n",
    "                   y_train,\n",
    "                   epochs = 50, \n",
    "                   verbose = 1, \n",
    "                   batch_size = batch_size,\n",
    "                   #validation_data = v_gen, \n",
    "                   validation_data = (x_val, y_val),\n",
    "                   #steps_per_epoch = len(meta_t) // batch_size,\n",
    "                   #validation_steps = len(meta_v) // batch_size,\n",
    "                   callbacks = [early_stopping, reduce_lr],\n",
    "                   #class_weight = weights\n",
    "                   sample_weight = calculated_sample_weights\n",
    "                  )"
   ]
  },
  {
   "cell_type": "code",
   "execution_count": 26,
   "metadata": {},
   "outputs": [
    {
     "name": "stderr",
     "output_type": "stream",
     "text": [
      "WARNING:absl:Found untraced functions such as _jit_compiled_convolution_op while saving (showing 1 of 1). These functions will not be directly callable after loading.\n"
     ]
    },
    {
     "name": "stdout",
     "output_type": "stream",
     "text": [
      "INFO:tensorflow:Assets written to: Models/008\\assets\n"
     ]
    },
    {
     "name": "stderr",
     "output_type": "stream",
     "text": [
      "INFO:tensorflow:Assets written to: Models/008\\assets\n"
     ]
    }
   ],
   "source": [
    "# Save trained model.\n",
    "forecast_model.save('Models/008')"
   ]
  },
  {
   "cell_type": "code",
   "execution_count": 7,
   "metadata": {},
   "outputs": [],
   "source": [
    "forecast_model = tf.keras.models.load_model('Models/008')"
   ]
  },
  {
   "cell_type": "markdown",
   "metadata": {},
   "source": [
    "#### Examine how model is working"
   ]
  },
  {
   "cell_type": "code",
   "execution_count": 29,
   "metadata": {},
   "outputs": [
    {
     "name": "stdout",
     "output_type": "stream",
     "text": [
      "1/1 [==============================] - 0s 49ms/step\n",
      "1/1 [==============================] - 0s 54ms/step\n",
      "1/1 [==============================] - 0s 38ms/step\n",
      "1/1 [==============================] - 0s 38ms/step\n",
      "1/1 [==============================] - 0s 37ms/step\n",
      "1/1 [==============================] - 0s 37ms/step\n",
      "1/1 [==============================] - 0s 37ms/step\n",
      "1/1 [==============================] - 0s 38ms/step\n",
      "1/1 [==============================] - 0s 37ms/step\n",
      "1/1 [==============================] - 0s 38ms/step\n"
     ]
    }
   ],
   "source": [
    "# Select a random example from the validation dataset.\n",
    "example = np.random.choice(range(len(x_val)), size=1)[0]\n",
    "\n",
    "# Pick the first/last ten frames from the example.\n",
    "feature_frames = x_val[example, ...]\n",
    "label_frames = y_val[example, ...]\n",
    "pred_frames = []\n",
    "\n",
    "# Predict a new set of 10 frames.\n",
    "for _ in range(10):\n",
    "    # Extract the model's prediction and post-process it.\n",
    "    new_prediction = forecast_model.predict(np.expand_dims(feature_frames, axis=0))\n",
    "    new_prediction = np.squeeze(new_prediction, axis=0)\n",
    "    predicted_frame = np.expand_dims(new_prediction[-1, ...], axis=0)\n",
    "    pred_frames.append(predicted_frame)\n",
    "    \n",
    "\n",
    "# Extend the set of prediction frames.\n",
    "pred_frames = np.concatenate(pred_frames)"
   ]
  },
  {
   "cell_type": "code",
   "execution_count": 35,
   "metadata": {},
   "outputs": [
    {
     "data": {
      "text/plain": [
       "True"
      ]
     },
     "execution_count": 35,
     "metadata": {},
     "output_type": "execute_result"
    }
   ],
   "source": [
    "# Shape verification.\n",
    "feature_frames.shape == label_frames.shape == pred_frames.shape"
   ]
  },
  {
   "cell_type": "code",
   "execution_count": 45,
   "metadata": {},
   "outputs": [
    {
     "data": {
      "image/png": "[encoded data removed]",
      "text/plain": [
       "<Figure size 2160x576 with 30 Axes>"
      ]
     },
     "metadata": {
      "needs_background": "light"
     },
     "output_type": "display_data"
    }
   ],
   "source": [
    "# Construct a figure for the original and new frames.\n",
    "fig, axes = plt.subplots(3, 10, figsize=(30, 8))\n",
    "\n",
    "# Plot the feature frames.\n",
    "for idx, ax in enumerate(axes[0]):\n",
    "    ax.imshow(np.squeeze(feature_frames[idx]), cmap=\"gray\")\n",
    "    ax.set_title(f\"F Frame {idx + 1}\")\n",
    "    ax.axis(\"off\")\n",
    "\n",
    "# Plot the label frames.\n",
    "for idx, ax in enumerate(axes[1]):\n",
    "    ax.imshow(np.squeeze(label_frames[idx]), cmap=\"gray\")\n",
    "    ax.set_title(f\"L Frame {idx + 11}\")\n",
    "    ax.axis(\"off\")\n",
    "    \n",
    "# Plot the predicted frames.\n",
    "for idx, ax in enumerate(axes[2]):\n",
    "    ax.imshow(np.squeeze(pred_frames[idx]), cmap=\"gray\")\n",
    "    ax.set_title(f\"P Frame {idx + 11}\")\n",
    "    ax.axis(\"off\")\n",
    "\n",
    "# Display the figure.\n",
    "plt.show()"
   ]
  }
 ],
 "metadata": {
  "kernelspec": {
   "display_name": "Python 3 (ipykernel)",
   "language": "python",
   "name": "python3"
  },
  "language_info": {
   "codemirror_mode": {
    "name": "ipython",
    "version": 3
   },
   "file_extension": ".py",
   "mimetype": "text/x-python",
   "name": "python",
   "nbconvert_exporter": "python",
   "pygments_lexer": "ipython3",
   "version": "3.9.7"
  }
 },
 "nbformat": 4,
 "nbformat_minor": 4
}
