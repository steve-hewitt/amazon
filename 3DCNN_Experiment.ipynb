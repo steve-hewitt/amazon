{
 "cells": [
  {
   "cell_type": "markdown",
   "metadata": {},
   "source": [
    "#### Import block"
   ]
  },
  {
   "cell_type": "code",
   "execution_count": 1,
   "metadata": {},
   "outputs": [],
   "source": [
    "import pandas as pd\n",
    "import numpy as np\n",
    "import tensorflow as tf\n",
    "\n",
    "from tensorflow.keras import layers\n",
    "from tensorflow.keras.models import Sequential\n",
    "from tensorflow.keras.initializers import Constant"
   ]
  },
  {
   "cell_type": "markdown",
   "metadata": {},
   "source": [
    "#### Function definitions"
   ]
  },
  {
   "cell_type": "code",
   "execution_count": 2,
   "metadata": {},
   "outputs": [],
   "source": [
    "# Loader functions\n",
    "# Inspiration: https://towardsdatascience.com/writing-custom-keras-generators-fe815d992c5a\n",
    "\n",
    "def get_input(path):\n",
    "    # Load array.\n",
    "    t_input = np.load(path)\n",
    "    # Pad to even number of pixels\n",
    "    t_input = np.pad(t_input, [(0,0),(0,1),(0,1)])\n",
    "    # Resize to include a channel dimension.\n",
    "    t_input = tf.expand_dims(t_input, axis = -1)\n",
    "    return t_input\n",
    "\n",
    "def get_output(path):\n",
    "    # Load array.\n",
    "    t_output = np.load(path)\n",
    "    # Pad to even number of pixels\n",
    "    t_output = np.pad(t_output, [(0,0),(0,1),(0,1)])\n",
    "    # Resize to include a channel dimension.\n",
    "    t_output = tf.expand_dims(t_output, axis = -1)\n",
    "    return t_output\n",
    "\n",
    "def data_generator(samples, batch_size = 64):\n",
    "    \n",
    "    while True:\n",
    "          # Select files (paths/indices) for the batch\n",
    "          batch_samples  = np.random.choice(a = samples.index, \n",
    "                                          size = batch_size)\n",
    "          batch_input  = []\n",
    "          batch_output = [] \n",
    "          \n",
    "          # Read in each input, perform preprocessing and get labels\n",
    "          for sample in batch_samples:\n",
    "              input = get_input(samples.loc[sample].features)\n",
    "              output = get_output(samples.loc[sample].labels)\n",
    "            \n",
    "              batch_input += [input]\n",
    "              batch_output += [output]\n",
    "          # Return a tuple of (input, output) to feed the network\n",
    "          batch_x = np.array(batch_input)\n",
    "          batch_y = np.array(batch_output)\n",
    "        \n",
    "          yield(batch_x, batch_y)\n"
   ]
  },
  {
   "cell_type": "code",
   "execution_count": 3,
   "metadata": {},
   "outputs": [
    {
     "data": {
      "text/html": [
       "<div>\n",
       "<style scoped>\n",
       "    .dataframe tbody tr th:only-of-type {\n",
       "        vertical-align: middle;\n",
       "    }\n",
       "\n",
       "    .dataframe tbody tr th {\n",
       "        vertical-align: top;\n",
       "    }\n",
       "\n",
       "    .dataframe thead th {\n",
       "        text-align: right;\n",
       "    }\n",
       "</style>\n",
       "<table border=\"1\" class=\"dataframe\">\n",
       "  <thead>\n",
       "    <tr style=\"text-align: right;\">\n",
       "      <th></th>\n",
       "      <th>Unnamed: 0</th>\n",
       "      <th>Lon</th>\n",
       "      <th>Lat</th>\n",
       "      <th>Date</th>\n",
       "      <th>features</th>\n",
       "      <th>labels</th>\n",
       "    </tr>\n",
       "  </thead>\n",
       "  <tbody>\n",
       "    <tr>\n",
       "      <th>0</th>\n",
       "      <td>356962</td>\n",
       "      <td>-53.345535</td>\n",
       "      <td>-6.535028</td>\n",
       "      <td>2017-07-30</td>\n",
       "      <td>Sample_Dataset/train_features/356962.npy</td>\n",
       "      <td>Sample_Dataset/train_labels/356962.npy</td>\n",
       "    </tr>\n",
       "    <tr>\n",
       "      <th>1</th>\n",
       "      <td>546517</td>\n",
       "      <td>-47.329685</td>\n",
       "      <td>-8.260676</td>\n",
       "      <td>2017-08-20</td>\n",
       "      <td>Sample_Dataset/train_features/546517.npy</td>\n",
       "      <td>Sample_Dataset/train_labels/546517.npy</td>\n",
       "    </tr>\n",
       "    <tr>\n",
       "      <th>2</th>\n",
       "      <td>799359</td>\n",
       "      <td>-50.967861</td>\n",
       "      <td>-8.255809</td>\n",
       "      <td>2017-09-04</td>\n",
       "      <td>Sample_Dataset/train_features/799359.npy</td>\n",
       "      <td>Sample_Dataset/train_labels/799359.npy</td>\n",
       "    </tr>\n",
       "    <tr>\n",
       "      <th>3</th>\n",
       "      <td>714590</td>\n",
       "      <td>-66.144379</td>\n",
       "      <td>-12.624272</td>\n",
       "      <td>2017-08-31</td>\n",
       "      <td>Sample_Dataset/train_features/714590.npy</td>\n",
       "      <td>Sample_Dataset/train_labels/714590.npy</td>\n",
       "    </tr>\n",
       "    <tr>\n",
       "      <th>4</th>\n",
       "      <td>240012</td>\n",
       "      <td>-48.350338</td>\n",
       "      <td>-11.838207</td>\n",
       "      <td>2017-07-14</td>\n",
       "      <td>Sample_Dataset/train_features/240012.npy</td>\n",
       "      <td>Sample_Dataset/train_labels/240012.npy</td>\n",
       "    </tr>\n",
       "    <tr>\n",
       "      <th>...</th>\n",
       "      <td>...</td>\n",
       "      <td>...</td>\n",
       "      <td>...</td>\n",
       "      <td>...</td>\n",
       "      <td>...</td>\n",
       "      <td>...</td>\n",
       "    </tr>\n",
       "    <tr>\n",
       "      <th>645</th>\n",
       "      <td>1983526</td>\n",
       "      <td>-51.431313</td>\n",
       "      <td>0.659630</td>\n",
       "      <td>2017-11-26</td>\n",
       "      <td>Sample_Dataset/train_features/1983526.npy</td>\n",
       "      <td>Sample_Dataset/train_labels/1983526.npy</td>\n",
       "    </tr>\n",
       "    <tr>\n",
       "      <th>646</th>\n",
       "      <td>2079183</td>\n",
       "      <td>-45.239655</td>\n",
       "      <td>-4.660801</td>\n",
       "      <td>2017-12-12</td>\n",
       "      <td>Sample_Dataset/train_features/2079183.npy</td>\n",
       "      <td>Sample_Dataset/train_labels/2079183.npy</td>\n",
       "    </tr>\n",
       "    <tr>\n",
       "      <th>647</th>\n",
       "      <td>1934639</td>\n",
       "      <td>-47.025230</td>\n",
       "      <td>-2.296389</td>\n",
       "      <td>2017-11-18</td>\n",
       "      <td>Sample_Dataset/train_features/1934639.npy</td>\n",
       "      <td>Sample_Dataset/train_labels/1934639.npy</td>\n",
       "    </tr>\n",
       "    <tr>\n",
       "      <th>648</th>\n",
       "      <td>1417977</td>\n",
       "      <td>-53.128605</td>\n",
       "      <td>-2.962739</td>\n",
       "      <td>2017-09-30</td>\n",
       "      <td>Sample_Dataset/train_features/1417977.npy</td>\n",
       "      <td>Sample_Dataset/train_labels/1417977.npy</td>\n",
       "    </tr>\n",
       "    <tr>\n",
       "      <th>649</th>\n",
       "      <td>797891</td>\n",
       "      <td>-44.222694</td>\n",
       "      <td>-7.783254</td>\n",
       "      <td>2017-09-04</td>\n",
       "      <td>Sample_Dataset/train_features/797891.npy</td>\n",
       "      <td>Sample_Dataset/train_labels/797891.npy</td>\n",
       "    </tr>\n",
       "  </tbody>\n",
       "</table>\n",
       "<p>650 rows × 6 columns</p>\n",
       "</div>"
      ],
      "text/plain": [
       "     Unnamed: 0        Lon        Lat        Date  \\\n",
       "0        356962 -53.345535  -6.535028  2017-07-30   \n",
       "1        546517 -47.329685  -8.260676  2017-08-20   \n",
       "2        799359 -50.967861  -8.255809  2017-09-04   \n",
       "3        714590 -66.144379 -12.624272  2017-08-31   \n",
       "4        240012 -48.350338 -11.838207  2017-07-14   \n",
       "..          ...        ...        ...         ...   \n",
       "645     1983526 -51.431313   0.659630  2017-11-26   \n",
       "646     2079183 -45.239655  -4.660801  2017-12-12   \n",
       "647     1934639 -47.025230  -2.296389  2017-11-18   \n",
       "648     1417977 -53.128605  -2.962739  2017-09-30   \n",
       "649      797891 -44.222694  -7.783254  2017-09-04   \n",
       "\n",
       "                                      features  \\\n",
       "0     Sample_Dataset/train_features/356962.npy   \n",
       "1     Sample_Dataset/train_features/546517.npy   \n",
       "2     Sample_Dataset/train_features/799359.npy   \n",
       "3     Sample_Dataset/train_features/714590.npy   \n",
       "4     Sample_Dataset/train_features/240012.npy   \n",
       "..                                         ...   \n",
       "645  Sample_Dataset/train_features/1983526.npy   \n",
       "646  Sample_Dataset/train_features/2079183.npy   \n",
       "647  Sample_Dataset/train_features/1934639.npy   \n",
       "648  Sample_Dataset/train_features/1417977.npy   \n",
       "649   Sample_Dataset/train_features/797891.npy   \n",
       "\n",
       "                                      labels  \n",
       "0     Sample_Dataset/train_labels/356962.npy  \n",
       "1     Sample_Dataset/train_labels/546517.npy  \n",
       "2     Sample_Dataset/train_labels/799359.npy  \n",
       "3     Sample_Dataset/train_labels/714590.npy  \n",
       "4     Sample_Dataset/train_labels/240012.npy  \n",
       "..                                       ...  \n",
       "645  Sample_Dataset/train_labels/1983526.npy  \n",
       "646  Sample_Dataset/train_labels/2079183.npy  \n",
       "647  Sample_Dataset/train_labels/1934639.npy  \n",
       "648  Sample_Dataset/train_labels/1417977.npy  \n",
       "649   Sample_Dataset/train_labels/797891.npy  \n",
       "\n",
       "[650 rows x 6 columns]"
      ]
     },
     "execution_count": 3,
     "metadata": {},
     "output_type": "execute_result"
    }
   ],
   "source": [
    "m = pd.read_csv('Sample_Dataset/meta.csv')\n",
    "m"
   ]
  },
  {
   "cell_type": "markdown",
   "metadata": {},
   "source": [
    "#### Load data"
   ]
  },
  {
   "cell_type": "code",
   "execution_count": 4,
   "metadata": {},
   "outputs": [
    {
     "data": {
      "text/plain": [
       "TensorShape([1, 16, 256, 256, 1])"
      ]
     },
     "execution_count": 4,
     "metadata": {},
     "output_type": "execute_result"
    }
   ],
   "source": [
    "# Get data from one chip\n",
    "sample_input = np.load('Sample_Dataset/train_features/3243.npy')\n",
    "\n",
    "# Pad to even number of pixels\n",
    "a = np.pad(sample_input, [(0,0),(0,1),(0,1)])\n",
    "# Resize to include a channel dimension.\n",
    "a = tf.expand_dims(a, axis = -1)\n",
    "# Resize to include a batch dimension.\n",
    "a = tf.expand_dims(a, axis = 0)\n",
    "# Display shape for verification.\n",
    "a.shape"
   ]
  },
  {
   "cell_type": "markdown",
   "metadata": {},
   "source": [
    "#### Experiment with basic model structure"
   ]
  },
  {
   "cell_type": "code",
   "execution_count": 5,
   "metadata": {},
   "outputs": [
    {
     "data": {
      "text/plain": [
       "TensorShape([1, 16, 256, 256, 32])"
      ]
     },
     "execution_count": 5,
     "metadata": {},
     "output_type": "execute_result"
    }
   ],
   "source": [
    "b = tf.keras.layers.Conv3D(32, (3,3,3), padding = 'same', activation='relu', bias_initializer=Constant(0.01), \n",
    "                           input_shape=(a))(a)\n",
    "b.shape"
   ]
  },
  {
   "cell_type": "code",
   "execution_count": 6,
   "metadata": {},
   "outputs": [
    {
     "data": {
      "text/plain": [
       "TensorShape([1, 16, 256, 256, 32])"
      ]
     },
     "execution_count": 6,
     "metadata": {},
     "output_type": "execute_result"
    }
   ],
   "source": [
    "c = tf.keras.layers.Conv3D(32, (3,3,3), padding = 'same', activation='relu', bias_initializer=Constant(0.01) \n",
    "                           )(b)\n",
    "c.shape"
   ]
  },
  {
   "cell_type": "code",
   "execution_count": 7,
   "metadata": {},
   "outputs": [
    {
     "data": {
      "text/plain": [
       "TensorShape([1, 8, 64, 64, 32])"
      ]
     },
     "execution_count": 7,
     "metadata": {},
     "output_type": "execute_result"
    }
   ],
   "source": [
    "d = layers.MaxPooling3D((2,4,4))(c)\n",
    "d.shape"
   ]
  },
  {
   "cell_type": "code",
   "execution_count": 8,
   "metadata": {},
   "outputs": [
    {
     "data": {
      "text/plain": [
       "TensorShape([1, 8, 64, 64, 64])"
      ]
     },
     "execution_count": 8,
     "metadata": {},
     "output_type": "execute_result"
    }
   ],
   "source": [
    "e = tf.keras.layers.Conv3D(64, (2,2,2), padding = 'same', activation='relu')(d)\n",
    "e.shape"
   ]
  },
  {
   "cell_type": "code",
   "execution_count": 9,
   "metadata": {},
   "outputs": [
    {
     "data": {
      "text/plain": [
       "TensorShape([1, 8, 64, 64, 64])"
      ]
     },
     "execution_count": 9,
     "metadata": {},
     "output_type": "execute_result"
    }
   ],
   "source": [
    "f = tf.keras.layers.Conv3D(64, (2,2,2), padding = 'same', activation='relu')(e)\n",
    "f.shape"
   ]
  },
  {
   "cell_type": "code",
   "execution_count": 10,
   "metadata": {},
   "outputs": [
    {
     "data": {
      "text/plain": [
       "TensorShape([1, 4, 32, 32, 64])"
      ]
     },
     "execution_count": 10,
     "metadata": {},
     "output_type": "execute_result"
    }
   ],
   "source": [
    "g = layers.MaxPooling3D((2,2,2))(f)\n",
    "g.shape"
   ]
  },
  {
   "cell_type": "code",
   "execution_count": 11,
   "metadata": {},
   "outputs": [
    {
     "data": {
      "text/plain": [
       "TensorShape([1, 4, 32, 32, 128])"
      ]
     },
     "execution_count": 11,
     "metadata": {},
     "output_type": "execute_result"
    }
   ],
   "source": [
    "h = tf.keras.layers.Conv3D(128, (2,2,2), padding = 'same', activation='relu')(g)\n",
    "h.shape"
   ]
  },
  {
   "cell_type": "code",
   "execution_count": 12,
   "metadata": {},
   "outputs": [
    {
     "data": {
      "text/plain": [
       "TensorShape([1, 4, 32, 32, 128])"
      ]
     },
     "execution_count": 12,
     "metadata": {},
     "output_type": "execute_result"
    }
   ],
   "source": [
    "i = tf.keras.layers.Conv3D(128, (2,2,2), padding = 'same', activation='relu')(h)\n",
    "i.shape"
   ]
  },
  {
   "cell_type": "code",
   "execution_count": 13,
   "metadata": {},
   "outputs": [
    {
     "data": {
      "text/plain": [
       "TensorShape([1, 2, 16, 16, 128])"
      ]
     },
     "execution_count": 13,
     "metadata": {},
     "output_type": "execute_result"
    }
   ],
   "source": [
    "j = layers.MaxPooling3D((2,2,2))(i)\n",
    "j.shape"
   ]
  },
  {
   "cell_type": "code",
   "execution_count": 14,
   "metadata": {},
   "outputs": [
    {
     "data": {
      "text/plain": [
       "TensorShape([1, 2, 16, 16, 256])"
      ]
     },
     "execution_count": 14,
     "metadata": {},
     "output_type": "execute_result"
    }
   ],
   "source": [
    "k = tf.keras.layers.Conv3D(256, (2,2,2), padding = 'same', activation='relu')(j)\n",
    "k.shape"
   ]
  },
  {
   "cell_type": "code",
   "execution_count": 15,
   "metadata": {},
   "outputs": [
    {
     "data": {
      "text/plain": [
       "TensorShape([1, 2, 16, 16, 256])"
      ]
     },
     "execution_count": 15,
     "metadata": {},
     "output_type": "execute_result"
    }
   ],
   "source": [
    "l = tf.keras.layers.Conv3D(256, (2,2,2), padding = 'same', activation='relu')(k)\n",
    "l.shape"
   ]
  },
  {
   "cell_type": "code",
   "execution_count": 16,
   "metadata": {},
   "outputs": [
    {
     "data": {
      "text/plain": [
       "TensorShape([1, 2, 4, 4, 256])"
      ]
     },
     "execution_count": 16,
     "metadata": {},
     "output_type": "execute_result"
    }
   ],
   "source": [
    "m = layers.MaxPooling3D((1,4,4))(l)\n",
    "m.shape"
   ]
  },
  {
   "cell_type": "code",
   "execution_count": 17,
   "metadata": {},
   "outputs": [
    {
     "data": {
      "text/plain": [
       "TensorShape([1, 2, 4, 4, 512])"
      ]
     },
     "execution_count": 17,
     "metadata": {},
     "output_type": "execute_result"
    }
   ],
   "source": [
    "n = tf.keras.layers.Conv3D(512, (2,2,2), padding = 'same', activation='relu')(m)\n",
    "n.shape"
   ]
  },
  {
   "cell_type": "code",
   "execution_count": 18,
   "metadata": {},
   "outputs": [
    {
     "data": {
      "text/plain": [
       "TensorShape([1, 2, 4, 4, 512])"
      ]
     },
     "execution_count": 18,
     "metadata": {},
     "output_type": "execute_result"
    }
   ],
   "source": [
    "o = tf.keras.layers.Conv3D(512, (2,2,2), padding = 'same', activation='relu')(n)\n",
    "o.shape"
   ]
  },
  {
   "cell_type": "code",
   "execution_count": 19,
   "metadata": {},
   "outputs": [
    {
     "data": {
      "text/plain": [
       "TensorShape([1, 2, 2, 2, 512])"
      ]
     },
     "execution_count": 19,
     "metadata": {},
     "output_type": "execute_result"
    }
   ],
   "source": [
    "p = layers.MaxPooling3D((1,2,2))(o)\n",
    "p.shape"
   ]
  },
  {
   "cell_type": "code",
   "execution_count": 20,
   "metadata": {},
   "outputs": [
    {
     "data": {
      "text/plain": [
       "TensorShape([1, 2, 2, 2, 1024])"
      ]
     },
     "execution_count": 20,
     "metadata": {},
     "output_type": "execute_result"
    }
   ],
   "source": [
    "q = tf.keras.layers.Conv3D(1024, (2,2,2), padding = 'same', activation='relu')(p)\n",
    "q.shape"
   ]
  },
  {
   "cell_type": "code",
   "execution_count": 21,
   "metadata": {},
   "outputs": [
    {
     "data": {
      "text/plain": [
       "TensorShape([1, 2, 2, 2, 1024])"
      ]
     },
     "execution_count": 21,
     "metadata": {},
     "output_type": "execute_result"
    }
   ],
   "source": [
    "r = tf.keras.layers.Conv3D(1024, (2,2,2), padding = 'same', activation='relu')(q)\n",
    "r.shape"
   ]
  },
  {
   "cell_type": "code",
   "execution_count": 22,
   "metadata": {},
   "outputs": [
    {
     "data": {
      "text/plain": [
       "TensorShape([1, 1, 1, 1, 1024])"
      ]
     },
     "execution_count": 22,
     "metadata": {},
     "output_type": "execute_result"
    }
   ],
   "source": [
    "s = layers.MaxPooling3D((2,2,2))(r)\n",
    "s.shape"
   ]
  },
  {
   "cell_type": "code",
   "execution_count": 23,
   "metadata": {},
   "outputs": [
    {
     "data": {
      "text/plain": [
       "TensorShape([1, 2, 2, 2, 1024])"
      ]
     },
     "execution_count": 23,
     "metadata": {},
     "output_type": "execute_result"
    }
   ],
   "source": [
    "t = layers.Conv3DTranspose(512, (2,2,2), (2,2,2), padding = 'same', activation='relu')(s)\n",
    "t = layers.concatenate([t, p])\n",
    "t.shape"
   ]
  },
  {
   "cell_type": "code",
   "execution_count": 24,
   "metadata": {},
   "outputs": [
    {
     "data": {
      "text/plain": [
       "TensorShape([1, 2, 2, 2, 512])"
      ]
     },
     "execution_count": 24,
     "metadata": {},
     "output_type": "execute_result"
    }
   ],
   "source": [
    "u = tf.keras.layers.Conv3D(512, (2,2,2), padding = 'same', activation='relu')(t)\n",
    "u.shape"
   ]
  },
  {
   "cell_type": "code",
   "execution_count": 25,
   "metadata": {},
   "outputs": [
    {
     "data": {
      "text/plain": [
       "TensorShape([1, 2, 2, 2, 512])"
      ]
     },
     "execution_count": 25,
     "metadata": {},
     "output_type": "execute_result"
    }
   ],
   "source": [
    "v = tf.keras.layers.Conv3D(512, (2,2,2), padding = 'same', activation='relu')(u)\n",
    "v.shape"
   ]
  },
  {
   "cell_type": "code",
   "execution_count": 26,
   "metadata": {},
   "outputs": [
    {
     "data": {
      "text/plain": [
       "TensorShape([1, 2, 4, 4, 1024])"
      ]
     },
     "execution_count": 26,
     "metadata": {},
     "output_type": "execute_result"
    }
   ],
   "source": [
    "w = layers.Conv3DTranspose(512, (2,2,2), (1,2,2), padding = 'same', activation='relu')(v)\n",
    "w = layers.concatenate([w, o])\n",
    "w.shape"
   ]
  },
  {
   "cell_type": "code",
   "execution_count": 27,
   "metadata": {},
   "outputs": [
    {
     "data": {
      "text/plain": [
       "TensorShape([1, 2, 4, 4, 256])"
      ]
     },
     "execution_count": 27,
     "metadata": {},
     "output_type": "execute_result"
    }
   ],
   "source": [
    "x = tf.keras.layers.Conv3D(256, (2,2,2), padding = 'same', activation='relu')(w)\n",
    "x.shape"
   ]
  },
  {
   "cell_type": "code",
   "execution_count": 28,
   "metadata": {},
   "outputs": [
    {
     "data": {
      "text/plain": [
       "TensorShape([1, 2, 4, 4, 256])"
      ]
     },
     "execution_count": 28,
     "metadata": {},
     "output_type": "execute_result"
    }
   ],
   "source": [
    "y = tf.keras.layers.Conv3D(256, (2,2,2), padding = 'same', activation='relu')(x)\n",
    "y.shape"
   ]
  },
  {
   "cell_type": "code",
   "execution_count": 29,
   "metadata": {},
   "outputs": [
    {
     "data": {
      "text/plain": [
       "TensorShape([1, 2, 16, 16, 512])"
      ]
     },
     "execution_count": 29,
     "metadata": {},
     "output_type": "execute_result"
    }
   ],
   "source": [
    "z = layers.Conv3DTranspose(256, (2,2,2), (1,4,4), padding = 'same', activation='relu')(y)\n",
    "z = layers.concatenate([z, l])\n",
    "z.shape"
   ]
  },
  {
   "cell_type": "code",
   "execution_count": 30,
   "metadata": {},
   "outputs": [
    {
     "data": {
      "text/plain": [
       "TensorShape([1, 2, 16, 16, 256])"
      ]
     },
     "execution_count": 30,
     "metadata": {},
     "output_type": "execute_result"
    }
   ],
   "source": [
    "aa = tf.keras.layers.Conv3D(256, (2,2,2), padding = 'same', activation='relu')(z)\n",
    "aa.shape"
   ]
  },
  {
   "cell_type": "code",
   "execution_count": 31,
   "metadata": {},
   "outputs": [
    {
     "data": {
      "text/plain": [
       "TensorShape([1, 2, 16, 16, 256])"
      ]
     },
     "execution_count": 31,
     "metadata": {},
     "output_type": "execute_result"
    }
   ],
   "source": [
    "ab = tf.keras.layers.Conv3D(256, (2,2,2), padding = 'same', activation='relu')(aa)\n",
    "ab.shape"
   ]
  },
  {
   "cell_type": "code",
   "execution_count": 32,
   "metadata": {},
   "outputs": [
    {
     "data": {
      "text/plain": [
       "TensorShape([1, 4, 32, 32, 256])"
      ]
     },
     "execution_count": 32,
     "metadata": {},
     "output_type": "execute_result"
    }
   ],
   "source": [
    "ac = layers.Conv3DTranspose(128, (2,2,2), (2,2,2), padding = 'same', activation='relu')(ab)\n",
    "ac = layers.concatenate([ac, i])\n",
    "ac.shape"
   ]
  },
  {
   "cell_type": "code",
   "execution_count": 33,
   "metadata": {},
   "outputs": [
    {
     "data": {
      "text/plain": [
       "TensorShape([1, 4, 32, 32, 128])"
      ]
     },
     "execution_count": 33,
     "metadata": {},
     "output_type": "execute_result"
    }
   ],
   "source": [
    "ad = tf.keras.layers.Conv3D(128, (2,2,2), padding = 'same', activation='relu')(ac)\n",
    "ad.shape"
   ]
  },
  {
   "cell_type": "code",
   "execution_count": 34,
   "metadata": {},
   "outputs": [
    {
     "data": {
      "text/plain": [
       "TensorShape([1, 4, 32, 32, 128])"
      ]
     },
     "execution_count": 34,
     "metadata": {},
     "output_type": "execute_result"
    }
   ],
   "source": [
    "ae = tf.keras.layers.Conv3D(128, (2,2,2), padding = 'same', activation='relu')(ad)\n",
    "ae.shape"
   ]
  },
  {
   "cell_type": "code",
   "execution_count": 35,
   "metadata": {},
   "outputs": [
    {
     "data": {
      "text/plain": [
       "TensorShape([1, 8, 64, 64, 128])"
      ]
     },
     "execution_count": 35,
     "metadata": {},
     "output_type": "execute_result"
    }
   ],
   "source": [
    "af = layers.Conv3DTranspose(64, (2,2,2), (2,2,2), padding = 'same', activation='relu')(ae)\n",
    "af = layers.concatenate([af, f])\n",
    "af.shape"
   ]
  },
  {
   "cell_type": "code",
   "execution_count": 36,
   "metadata": {},
   "outputs": [
    {
     "data": {
      "text/plain": [
       "TensorShape([1, 8, 64, 64, 64])"
      ]
     },
     "execution_count": 36,
     "metadata": {},
     "output_type": "execute_result"
    }
   ],
   "source": [
    "ag = tf.keras.layers.Conv3D(64, (2,2,2), padding = 'same', activation='relu')(af)\n",
    "ag.shape"
   ]
  },
  {
   "cell_type": "code",
   "execution_count": 37,
   "metadata": {},
   "outputs": [
    {
     "data": {
      "text/plain": [
       "TensorShape([1, 8, 64, 64, 64])"
      ]
     },
     "execution_count": 37,
     "metadata": {},
     "output_type": "execute_result"
    }
   ],
   "source": [
    "ah = tf.keras.layers.Conv3D(64, (2,2,2), padding = 'same', activation='relu')(ag)\n",
    "ah.shape"
   ]
  },
  {
   "cell_type": "code",
   "execution_count": 38,
   "metadata": {},
   "outputs": [
    {
     "data": {
      "text/plain": [
       "TensorShape([1, 8, 256, 256, 64])"
      ]
     },
     "execution_count": 38,
     "metadata": {},
     "output_type": "execute_result"
    }
   ],
   "source": [
    "ai = layers.Conv3DTranspose(32, (2,2,2), (1,4,4), padding = 'same', activation='relu')(ah)\n",
    "ag = layers.MaxPooling3D((2,1,1))(c)\n",
    "ai = layers.concatenate([ai, ag])\n",
    "ai.shape"
   ]
  },
  {
   "cell_type": "code",
   "execution_count": 39,
   "metadata": {},
   "outputs": [
    {
     "data": {
      "text/plain": [
       "TensorShape([1, 8, 256, 256, 1])"
      ]
     },
     "execution_count": 39,
     "metadata": {},
     "output_type": "execute_result"
    }
   ],
   "source": [
    "ak = layers.Conv2D(1, 1, padding='same', activation = 'sigmoid')(ai)\n",
    "ak.shape"
   ]
  },
  {
   "cell_type": "markdown",
   "metadata": {},
   "source": [
    "#### Model assumbly"
   ]
  },
  {
   "cell_type": "code",
   "execution_count": 40,
   "metadata": {},
   "outputs": [],
   "source": [
    "inputs = layers.Input(shape=((16,256,256,1)))\n",
    "b = tf.keras.layers.Conv3D(32, (3,7,7), padding = 'same', activation='relu', bias_initializer=Constant(0.01), \n",
    "                           )(inputs)\n",
    "c = tf.keras.layers.Conv3D(32, (3,5,5), padding = 'same', activation='relu', bias_initializer=Constant(0.01) \n",
    "                           )(b)\n",
    "d = layers.MaxPooling3D((2,4,4))(c)\n",
    "d = layers.Dropout(0.3)(d)\n",
    "e = tf.keras.layers.Conv3D(64, (2,2,2), padding = 'same', activation='relu', bias_initializer=Constant(0.01))(d)\n",
    "f = tf.keras.layers.Conv3D(64, (2,2,2), padding = 'same', activation='relu', bias_initializer=Constant(0.01))(e)\n",
    "g = layers.MaxPooling3D((2,2,2))(f)\n",
    "g = layers.Dropout(0.3)(g)\n",
    "h = tf.keras.layers.Conv3D(128, (2,2,2), padding = 'same', activation='relu', bias_initializer=Constant(0.01))(g)\n",
    "i = tf.keras.layers.Conv3D(128, (2,2,2), padding = 'same', activation='relu', bias_initializer=Constant(0.01))(h)\n",
    "j = layers.MaxPooling3D((2,2,2))(i)\n",
    "j = layers.Dropout(0.3)(j)\n",
    "k = tf.keras.layers.Conv3D(256, (2,2,2), padding = 'same', activation='relu', bias_initializer=Constant(0.01))(j)\n",
    "l = tf.keras.layers.Conv3D(256, (2,2,2), padding = 'same', activation='relu', bias_initializer=Constant(0.01))(k)\n",
    "m = layers.MaxPooling3D((1,4,4))(l)\n",
    "m = layers.Dropout(0.3)(m)\n",
    "n = tf.keras.layers.Conv3D(512, (2,2,2), padding = 'same', activation='relu', bias_initializer=Constant(0.01))(m)\n",
    "o = tf.keras.layers.Conv3D(512, (2,2,2), padding = 'same', activation='relu', bias_initializer=Constant(0.01))(n)\n",
    "p = layers.MaxPooling3D((1,2,2))(o)\n",
    "p = layers.Dropout(0.3)(p)\n",
    "q = tf.keras.layers.Conv3D(1024, (2,2,2), padding = 'same', activation='relu', bias_initializer=Constant(0.01))(p)\n",
    "r = tf.keras.layers.Conv3D(1024, (2,2,2), padding = 'same', activation='relu', bias_initializer=Constant(0.01))(q)\n",
    "s = layers.MaxPooling3D((2,2,2))(r)\n",
    "s = layers.Dropout(0.3)(s)\n",
    "t = layers.Conv3DTranspose(512, (2,2,2), (2,2,2), padding = 'same', activation='relu')(s)\n",
    "t = layers.concatenate([t, p])\n",
    "t = layers.Dropout(0.3)(t)\n",
    "u = tf.keras.layers.Conv3D(512, (2,2,2), padding = 'same', activation='relu', bias_initializer=Constant(0.01))(t)\n",
    "v = tf.keras.layers.Conv3D(512, (2,2,2), padding = 'same', activation='relu', bias_initializer=Constant(0.01))(u)\n",
    "w = layers.Conv3DTranspose(512, (2,2,2), (1,2,2), padding = 'same', activation='relu')(v)\n",
    "w = layers.concatenate([w, o])\n",
    "w = layers.Dropout(0.3)(w)\n",
    "x = tf.keras.layers.Conv3D(256, (2,2,2), padding = 'same', activation='relu', bias_initializer=Constant(0.01))(w)\n",
    "y = tf.keras.layers.Conv3D(256, (2,2,2), padding = 'same', activation='relu', bias_initializer=Constant(0.01))(x)\n",
    "z = layers.Conv3DTranspose(256, (2,2,2), (1,4,4), padding = 'same', activation='relu')(y)\n",
    "z = layers.concatenate([z, l])\n",
    "z = layers.Dropout(0.3)(z)\n",
    "aa = tf.keras.layers.Conv3D(256, (2,2,2), padding = 'same', activation='relu', bias_initializer=Constant(0.01))(z)\n",
    "ab = tf.keras.layers.Conv3D(256, (2,2,2), padding = 'same', activation='relu', bias_initializer=Constant(0.01))(aa)\n",
    "ac = layers.Conv3DTranspose(128, (2,2,2), (2,2,2), padding = 'same', activation='relu')(ab)\n",
    "ac = layers.concatenate([ac, i])\n",
    "ac = layers.Dropout(0.3)(ac)\n",
    "ad = tf.keras.layers.Conv3D(128, (2,2,2), padding = 'same', activation='relu', bias_initializer=Constant(0.01))(ac)\n",
    "ae = tf.keras.layers.Conv3D(128, (2,2,2), padding = 'same', activation='relu', bias_initializer=Constant(0.01))(ad)\n",
    "af = layers.Conv3DTranspose(64, (2,2,2), (2,2,2), padding = 'same', activation='relu')(ae)\n",
    "af = layers.concatenate([af, f])\n",
    "af = layers.Dropout(0.3)(af)\n",
    "ag = tf.keras.layers.Conv3D(64, (2,2,2), padding = 'same', activation='relu', bias_initializer=Constant(0.01))(af)\n",
    "ah = tf.keras.layers.Conv3D(64, (2,2,2), padding = 'same', activation='relu', bias_initializer=Constant(0.01))(ag)\n",
    "ai = layers.Conv3DTranspose(32, (2,2,2), (1,4,4), padding = 'same', activation='relu')(ah)\n",
    "ag = layers.MaxPooling3D((2,1,1))(c)\n",
    "ai = layers.concatenate([ai, ag])\n",
    "outputs = layers.Conv2D(1, 1, padding='same', activation = 'sigmoid')(ai)"
   ]
  },
  {
   "cell_type": "code",
   "execution_count": 41,
   "metadata": {},
   "outputs": [],
   "source": [
    "forecast_model = tf.keras.Model(inputs, outputs, name=\"3D_UNet\")"
   ]
  },
  {
   "cell_type": "code",
   "execution_count": 42,
   "metadata": {},
   "outputs": [
    {
     "data": {
      "text/plain": [
       "(1, 8, 256, 256, 1)"
      ]
     },
     "execution_count": 42,
     "metadata": {},
     "output_type": "execute_result"
    }
   ],
   "source": [
    "# Verify output shape.\n",
    "forecast_model.predict(a).shape"
   ]
  },
  {
   "cell_type": "code",
   "execution_count": 43,
   "metadata": {},
   "outputs": [
    {
     "name": "stdout",
     "output_type": "stream",
     "text": [
      "Model: \"3D_UNet\"\n",
      "__________________________________________________________________________________________________\n",
      " Layer (type)                   Output Shape         Param #     Connected to                     \n",
      "==================================================================================================\n",
      " input_1 (InputLayer)           [(None, 16, 256, 25  0           []                               \n",
      "                                6, 1)]                                                            \n",
      "                                                                                                  \n",
      " conv3d_22 (Conv3D)             (None, 16, 256, 256  4736        ['input_1[0][0]']                \n",
      "                                , 32)                                                             \n",
      "                                                                                                  \n",
      " conv3d_23 (Conv3D)             (None, 16, 256, 256  76832       ['conv3d_22[0][0]']              \n",
      "                                , 32)                                                             \n",
      "                                                                                                  \n",
      " max_pooling3d_7 (MaxPooling3D)  (None, 8, 64, 64, 3  0          ['conv3d_23[0][0]']              \n",
      "                                2)                                                                \n",
      "                                                                                                  \n",
      " dropout (Dropout)              (None, 8, 64, 64, 3  0           ['max_pooling3d_7[0][0]']        \n",
      "                                2)                                                                \n",
      "                                                                                                  \n",
      " conv3d_24 (Conv3D)             (None, 8, 64, 64, 6  16448       ['dropout[0][0]']                \n",
      "                                4)                                                                \n",
      "                                                                                                  \n",
      " conv3d_25 (Conv3D)             (None, 8, 64, 64, 6  32832       ['conv3d_24[0][0]']              \n",
      "                                4)                                                                \n",
      "                                                                                                  \n",
      " max_pooling3d_8 (MaxPooling3D)  (None, 4, 32, 32, 6  0          ['conv3d_25[0][0]']              \n",
      "                                4)                                                                \n",
      "                                                                                                  \n",
      " dropout_1 (Dropout)            (None, 4, 32, 32, 6  0           ['max_pooling3d_8[0][0]']        \n",
      "                                4)                                                                \n",
      "                                                                                                  \n",
      " conv3d_26 (Conv3D)             (None, 4, 32, 32, 1  65664       ['dropout_1[0][0]']              \n",
      "                                28)                                                               \n",
      "                                                                                                  \n",
      " conv3d_27 (Conv3D)             (None, 4, 32, 32, 1  131200      ['conv3d_26[0][0]']              \n",
      "                                28)                                                               \n",
      "                                                                                                  \n",
      " max_pooling3d_9 (MaxPooling3D)  (None, 2, 16, 16, 1  0          ['conv3d_27[0][0]']              \n",
      "                                28)                                                               \n",
      "                                                                                                  \n",
      " dropout_2 (Dropout)            (None, 2, 16, 16, 1  0           ['max_pooling3d_9[0][0]']        \n",
      "                                28)                                                               \n",
      "                                                                                                  \n",
      " conv3d_28 (Conv3D)             (None, 2, 16, 16, 2  262400      ['dropout_2[0][0]']              \n",
      "                                56)                                                               \n",
      "                                                                                                  \n",
      " conv3d_29 (Conv3D)             (None, 2, 16, 16, 2  524544      ['conv3d_28[0][0]']              \n",
      "                                56)                                                               \n",
      "                                                                                                  \n",
      " max_pooling3d_10 (MaxPooling3D  (None, 2, 4, 4, 256  0          ['conv3d_29[0][0]']              \n",
      " )                              )                                                                 \n",
      "                                                                                                  \n",
      " dropout_3 (Dropout)            (None, 2, 4, 4, 256  0           ['max_pooling3d_10[0][0]']       \n",
      "                                )                                                                 \n",
      "                                                                                                  \n",
      " conv3d_30 (Conv3D)             (None, 2, 4, 4, 512  1049088     ['dropout_3[0][0]']              \n",
      "                                )                                                                 \n",
      "                                                                                                  \n",
      " conv3d_31 (Conv3D)             (None, 2, 4, 4, 512  2097664     ['conv3d_30[0][0]']              \n",
      "                                )                                                                 \n",
      "                                                                                                  \n",
      " max_pooling3d_11 (MaxPooling3D  (None, 2, 2, 2, 512  0          ['conv3d_31[0][0]']              \n",
      " )                              )                                                                 \n",
      "                                                                                                  \n",
      " dropout_4 (Dropout)            (None, 2, 2, 2, 512  0           ['max_pooling3d_11[0][0]']       \n",
      "                                )                                                                 \n",
      "                                                                                                  \n",
      " conv3d_32 (Conv3D)             (None, 2, 2, 2, 102  4195328     ['dropout_4[0][0]']              \n",
      "                                4)                                                                \n",
      "                                                                                                  \n",
      " conv3d_33 (Conv3D)             (None, 2, 2, 2, 102  8389632     ['conv3d_32[0][0]']              \n",
      "                                4)                                                                \n",
      "                                                                                                  \n",
      " max_pooling3d_12 (MaxPooling3D  (None, 1, 1, 1, 102  0          ['conv3d_33[0][0]']              \n",
      " )                              4)                                                                \n",
      "                                                                                                  \n",
      " dropout_5 (Dropout)            (None, 1, 1, 1, 102  0           ['max_pooling3d_12[0][0]']       \n",
      "                                4)                                                                \n",
      "                                                                                                  \n",
      " conv3d_transpose_6 (Conv3DTran  (None, 2, 2, 2, 512  4194816    ['dropout_5[0][0]']              \n",
      " spose)                         )                                                                 \n",
      "                                                                                                  \n",
      " concatenate_6 (Concatenate)    (None, 2, 2, 2, 102  0           ['conv3d_transpose_6[0][0]',     \n",
      "                                4)                                'dropout_4[0][0]']              \n"
     ]
    },
    {
     "name": "stdout",
     "output_type": "stream",
     "text": [
      "                                                                                                  \n",
      " dropout_6 (Dropout)            (None, 2, 2, 2, 102  0           ['concatenate_6[0][0]']          \n",
      "                                4)                                                                \n",
      "                                                                                                  \n",
      " conv3d_34 (Conv3D)             (None, 2, 2, 2, 512  4194816     ['dropout_6[0][0]']              \n",
      "                                )                                                                 \n",
      "                                                                                                  \n",
      " conv3d_35 (Conv3D)             (None, 2, 2, 2, 512  2097664     ['conv3d_34[0][0]']              \n",
      "                                )                                                                 \n",
      "                                                                                                  \n",
      " conv3d_transpose_7 (Conv3DTran  (None, 2, 4, 4, 512  2097664    ['conv3d_35[0][0]']              \n",
      " spose)                         )                                                                 \n",
      "                                                                                                  \n",
      " concatenate_7 (Concatenate)    (None, 2, 4, 4, 102  0           ['conv3d_transpose_7[0][0]',     \n",
      "                                4)                                'conv3d_31[0][0]']              \n",
      "                                                                                                  \n",
      " dropout_7 (Dropout)            (None, 2, 4, 4, 102  0           ['concatenate_7[0][0]']          \n",
      "                                4)                                                                \n",
      "                                                                                                  \n",
      " conv3d_36 (Conv3D)             (None, 2, 4, 4, 256  2097408     ['dropout_7[0][0]']              \n",
      "                                )                                                                 \n",
      "                                                                                                  \n",
      " conv3d_37 (Conv3D)             (None, 2, 4, 4, 256  524544      ['conv3d_36[0][0]']              \n",
      "                                )                                                                 \n",
      "                                                                                                  \n",
      " conv3d_transpose_8 (Conv3DTran  (None, 2, 16, 16, 2  524544     ['conv3d_37[0][0]']              \n",
      " spose)                         56)                                                               \n",
      "                                                                                                  \n",
      " concatenate_8 (Concatenate)    (None, 2, 16, 16, 5  0           ['conv3d_transpose_8[0][0]',     \n",
      "                                12)                               'conv3d_29[0][0]']              \n",
      "                                                                                                  \n",
      " dropout_8 (Dropout)            (None, 2, 16, 16, 5  0           ['concatenate_8[0][0]']          \n",
      "                                12)                                                               \n",
      "                                                                                                  \n",
      " conv3d_38 (Conv3D)             (None, 2, 16, 16, 2  1048832     ['dropout_8[0][0]']              \n",
      "                                56)                                                               \n",
      "                                                                                                  \n",
      " conv3d_39 (Conv3D)             (None, 2, 16, 16, 2  524544      ['conv3d_38[0][0]']              \n",
      "                                56)                                                               \n",
      "                                                                                                  \n",
      " conv3d_transpose_9 (Conv3DTran  (None, 4, 32, 32, 1  262272     ['conv3d_39[0][0]']              \n",
      " spose)                         28)                                                               \n",
      "                                                                                                  \n",
      " concatenate_9 (Concatenate)    (None, 4, 32, 32, 2  0           ['conv3d_transpose_9[0][0]',     \n",
      "                                56)                               'conv3d_27[0][0]']              \n",
      "                                                                                                  \n",
      " dropout_9 (Dropout)            (None, 4, 32, 32, 2  0           ['concatenate_9[0][0]']          \n",
      "                                56)                                                               \n",
      "                                                                                                  \n",
      " conv3d_40 (Conv3D)             (None, 4, 32, 32, 1  262272      ['dropout_9[0][0]']              \n",
      "                                28)                                                               \n",
      "                                                                                                  \n",
      " conv3d_41 (Conv3D)             (None, 4, 32, 32, 1  131200      ['conv3d_40[0][0]']              \n",
      "                                28)                                                               \n",
      "                                                                                                  \n",
      " conv3d_transpose_10 (Conv3DTra  (None, 8, 64, 64, 6  65600      ['conv3d_41[0][0]']              \n",
      " nspose)                        4)                                                                \n",
      "                                                                                                  \n",
      " concatenate_10 (Concatenate)   (None, 8, 64, 64, 1  0           ['conv3d_transpose_10[0][0]',    \n",
      "                                28)                               'conv3d_25[0][0]']              \n",
      "                                                                                                  \n",
      " dropout_10 (Dropout)           (None, 8, 64, 64, 1  0           ['concatenate_10[0][0]']         \n",
      "                                28)                                                               \n",
      "                                                                                                  \n",
      " conv3d_42 (Conv3D)             (None, 8, 64, 64, 6  65600       ['dropout_10[0][0]']             \n",
      "                                4)                                                                \n",
      "                                                                                                  \n",
      " conv3d_43 (Conv3D)             (None, 8, 64, 64, 6  32832       ['conv3d_42[0][0]']              \n",
      "                                4)                                                                \n",
      "                                                                                                  \n",
      " conv3d_transpose_11 (Conv3DTra  (None, 8, 256, 256,  16416      ['conv3d_43[0][0]']              \n",
      " nspose)                         32)                                                              \n",
      "                                                                                                  \n",
      " max_pooling3d_13 (MaxPooling3D  (None, 8, 256, 256,  0          ['conv3d_23[0][0]']              \n",
      " )                               32)                                                              \n",
      "                                                                                                  \n",
      " concatenate_11 (Concatenate)   (None, 8, 256, 256,  0           ['conv3d_transpose_11[0][0]',    \n",
      "                                 64)                              'max_pooling3d_13[0][0]']       \n",
      "                                                                                                  \n",
      " conv2d_1 (Conv2D)              (None, 8, 256, 256,  65          ['concatenate_11[0][0]']         \n",
      "                                 1)                                                               \n",
      "                                                                                                  \n",
      "==================================================================================================\n"
     ]
    },
    {
     "name": "stdout",
     "output_type": "stream",
     "text": [
      "Total params: 34,987,457\n",
      "Trainable params: 34,987,457\n",
      "Non-trainable params: 0\n",
      "__________________________________________________________________________________________________\n"
     ]
    }
   ],
   "source": [
    "# Display model details.\n",
    "forecast_model.summary()"
   ]
  },
  {
   "cell_type": "code",
   "execution_count": 44,
   "metadata": {},
   "outputs": [],
   "source": [
    "# Compile model.\n",
    "forecast_model.compile(loss='binary_crossentropy', optimizer='adam', metrics=['accuracy'])"
   ]
  },
  {
   "cell_type": "code",
   "execution_count": 45,
   "metadata": {},
   "outputs": [
    {
     "name": "stdout",
     "output_type": "stream",
     "text": [
      "Epoch 1/100\n"
     ]
    },
    {
     "ename": "ResourceExhaustedError",
     "evalue": "Graph execution error:\n\nDetected at node 'gradient_tape/3D_UNet/conv3d_23/Conv3D/Conv3DBackpropFilterV2' defined at (most recent call last):\n    File \"C:\\Users\\iamst\\anaconda3\\lib\\runpy.py\", line 194, in _run_module_as_main\n      return _run_code(code, main_globals, None,\n    File \"C:\\Users\\iamst\\anaconda3\\lib\\runpy.py\", line 87, in _run_code\n      exec(code, run_globals)\n    File \"C:\\Users\\iamst\\anaconda3\\lib\\site-packages\\ipykernel_launcher.py\", line 16, in <module>\n      app.launch_new_instance()\n    File \"C:\\Users\\iamst\\anaconda3\\lib\\site-packages\\traitlets\\config\\application.py\", line 845, in launch_instance\n      app.start()\n    File \"C:\\Users\\iamst\\anaconda3\\lib\\site-packages\\ipykernel\\kernelapp.py\", line 612, in start\n      self.io_loop.start()\n    File \"C:\\Users\\iamst\\anaconda3\\lib\\site-packages\\tornado\\platform\\asyncio.py\", line 149, in start\n      self.asyncio_loop.run_forever()\n    File \"C:\\Users\\iamst\\anaconda3\\lib\\asyncio\\base_events.py\", line 570, in run_forever\n      self._run_once()\n    File \"C:\\Users\\iamst\\anaconda3\\lib\\asyncio\\base_events.py\", line 1859, in _run_once\n      handle._run()\n    File \"C:\\Users\\iamst\\anaconda3\\lib\\asyncio\\events.py\", line 81, in _run\n      self._context.run(self._callback, *self._args)\n    File \"C:\\Users\\iamst\\anaconda3\\lib\\site-packages\\tornado\\ioloop.py\", line 690, in <lambda>\n      lambda f: self._run_callback(functools.partial(callback, future))\n    File \"C:\\Users\\iamst\\anaconda3\\lib\\site-packages\\tornado\\ioloop.py\", line 743, in _run_callback\n      ret = callback()\n    File \"C:\\Users\\iamst\\anaconda3\\lib\\site-packages\\tornado\\gen.py\", line 787, in inner\n      self.run()\n    File \"C:\\Users\\iamst\\anaconda3\\lib\\site-packages\\tornado\\gen.py\", line 748, in run\n      yielded = self.gen.send(value)\n    File \"C:\\Users\\iamst\\anaconda3\\lib\\site-packages\\ipykernel\\kernelbase.py\", line 381, in dispatch_queue\n      yield self.process_one()\n    File \"C:\\Users\\iamst\\anaconda3\\lib\\site-packages\\tornado\\gen.py\", line 225, in wrapper\n      runner = Runner(result, future, yielded)\n    File \"C:\\Users\\iamst\\anaconda3\\lib\\site-packages\\tornado\\gen.py\", line 714, in __init__\n      self.run()\n    File \"C:\\Users\\iamst\\anaconda3\\lib\\site-packages\\tornado\\gen.py\", line 748, in run\n      yielded = self.gen.send(value)\n    File \"C:\\Users\\iamst\\anaconda3\\lib\\site-packages\\ipykernel\\kernelbase.py\", line 365, in process_one\n      yield gen.maybe_future(dispatch(*args))\n    File \"C:\\Users\\iamst\\anaconda3\\lib\\site-packages\\tornado\\gen.py\", line 209, in wrapper\n      yielded = next(result)\n    File \"C:\\Users\\iamst\\anaconda3\\lib\\site-packages\\ipykernel\\kernelbase.py\", line 268, in dispatch_shell\n      yield gen.maybe_future(handler(stream, idents, msg))\n    File \"C:\\Users\\iamst\\anaconda3\\lib\\site-packages\\tornado\\gen.py\", line 209, in wrapper\n      yielded = next(result)\n    File \"C:\\Users\\iamst\\anaconda3\\lib\\site-packages\\ipykernel\\kernelbase.py\", line 543, in execute_request\n      self.do_execute(\n    File \"C:\\Users\\iamst\\anaconda3\\lib\\site-packages\\tornado\\gen.py\", line 209, in wrapper\n      yielded = next(result)\n    File \"C:\\Users\\iamst\\anaconda3\\lib\\site-packages\\ipykernel\\ipkernel.py\", line 306, in do_execute\n      res = shell.run_cell(code, store_history=store_history, silent=silent)\n    File \"C:\\Users\\iamst\\anaconda3\\lib\\site-packages\\ipykernel\\zmqshell.py\", line 536, in run_cell\n      return super(ZMQInteractiveShell, self).run_cell(*args, **kwargs)\n    File \"C:\\Users\\iamst\\anaconda3\\lib\\site-packages\\IPython\\core\\interactiveshell.py\", line 2877, in run_cell\n      result = self._run_cell(\n    File \"C:\\Users\\iamst\\anaconda3\\lib\\site-packages\\IPython\\core\\interactiveshell.py\", line 2923, in _run_cell\n      return runner(coro)\n    File \"C:\\Users\\iamst\\anaconda3\\lib\\site-packages\\IPython\\core\\async_helpers.py\", line 68, in _pseudo_sync_runner\n      coro.send(None)\n    File \"C:\\Users\\iamst\\anaconda3\\lib\\site-packages\\IPython\\core\\interactiveshell.py\", line 3146, in run_cell_async\n      has_raised = await self.run_ast_nodes(code_ast.body, cell_name,\n    File \"C:\\Users\\iamst\\anaconda3\\lib\\site-packages\\IPython\\core\\interactiveshell.py\", line 3338, in run_ast_nodes\n      if (await self.run_code(code, result,  async_=asy)):\n    File \"C:\\Users\\iamst\\anaconda3\\lib\\site-packages\\IPython\\core\\interactiveshell.py\", line 3418, in run_code\n      exec(code_obj, self.user_global_ns, self.user_ns)\n    File \"<ipython-input-45-54730db370b8>\", line 4, in <module>\n      forecast_model.fit(t_gen, epochs = 100)\n    File \"C:\\Users\\iamst\\anaconda3\\lib\\site-packages\\keras\\utils\\traceback_utils.py\", line 64, in error_handler\n      return fn(*args, **kwargs)\n    File \"C:\\Users\\iamst\\anaconda3\\lib\\site-packages\\keras\\engine\\training.py\", line 1384, in fit\n      tmp_logs = self.train_function(iterator)\n    File \"C:\\Users\\iamst\\anaconda3\\lib\\site-packages\\keras\\engine\\training.py\", line 1021, in train_function\n      return step_function(self, iterator)\n    File \"C:\\Users\\iamst\\anaconda3\\lib\\site-packages\\keras\\engine\\training.py\", line 1010, in step_function\n      outputs = model.distribute_strategy.run(run_step, args=(data,))\n    File \"C:\\Users\\iamst\\anaconda3\\lib\\site-packages\\keras\\engine\\training.py\", line 1000, in run_step\n      outputs = model.train_step(data)\n    File \"C:\\Users\\iamst\\anaconda3\\lib\\site-packages\\keras\\engine\\training.py\", line 863, in train_step\n      self.optimizer.minimize(loss, self.trainable_variables, tape=tape)\n    File \"C:\\Users\\iamst\\anaconda3\\lib\\site-packages\\keras\\optimizer_v2\\optimizer_v2.py\", line 530, in minimize\n      grads_and_vars = self._compute_gradients(\n    File \"C:\\Users\\iamst\\anaconda3\\lib\\site-packages\\keras\\optimizer_v2\\optimizer_v2.py\", line 583, in _compute_gradients\n      grads_and_vars = self._get_gradients(tape, loss, var_list, grad_loss)\n    File \"C:\\Users\\iamst\\anaconda3\\lib\\site-packages\\keras\\optimizer_v2\\optimizer_v2.py\", line 464, in _get_gradients\n      grads = tape.gradient(loss, var_list, grad_loss)\nNode: 'gradient_tape/3D_UNet/conv3d_23/Conv3D/Conv3DBackpropFilterV2'\nOOM when allocating tensor with shape[1,1048576,2400] and type float on /job:localhost/replica:0/task:0/device:CPU:0 by allocator cpu\n\t [[{{node gradient_tape/3D_UNet/conv3d_23/Conv3D/Conv3DBackpropFilterV2}}]]\nHint: If you want to see a list of allocated tensors when OOM happens, add report_tensor_allocations_upon_oom to RunOptions for current allocation info. This isn't available when running in Eager mode.\n [Op:__inference_train_function_5550]",
     "output_type": "error",
     "traceback": [
      "\u001b[1;31m---------------------------------------------------------------------------\u001b[0m",
      "\u001b[1;31mResourceExhaustedError\u001b[0m                    Traceback (most recent call last)",
      "\u001b[1;32m<ipython-input-45-54730db370b8>\u001b[0m in \u001b[0;36m<module>\u001b[1;34m\u001b[0m\n\u001b[0;32m      2\u001b[0m \u001b[0mmeta\u001b[0m \u001b[1;33m=\u001b[0m \u001b[0mpd\u001b[0m\u001b[1;33m.\u001b[0m\u001b[0mread_csv\u001b[0m\u001b[1;33m(\u001b[0m\u001b[1;34m'Sample_Dataset/meta.csv'\u001b[0m\u001b[1;33m)\u001b[0m\u001b[1;33m\u001b[0m\u001b[1;33m\u001b[0m\u001b[0m\n\u001b[0;32m      3\u001b[0m \u001b[0mt_gen\u001b[0m \u001b[1;33m=\u001b[0m \u001b[0mdata_generator\u001b[0m\u001b[1;33m(\u001b[0m\u001b[0mmeta\u001b[0m\u001b[1;33m,\u001b[0m \u001b[0mbatch_size\u001b[0m \u001b[1;33m=\u001b[0m \u001b[1;36m4\u001b[0m\u001b[1;33m)\u001b[0m\u001b[1;33m\u001b[0m\u001b[1;33m\u001b[0m\u001b[0m\n\u001b[1;32m----> 4\u001b[1;33m \u001b[0mforecast_model\u001b[0m\u001b[1;33m.\u001b[0m\u001b[0mfit\u001b[0m\u001b[1;33m(\u001b[0m\u001b[0mt_gen\u001b[0m\u001b[1;33m,\u001b[0m \u001b[0mepochs\u001b[0m \u001b[1;33m=\u001b[0m \u001b[1;36m100\u001b[0m\u001b[1;33m)\u001b[0m\u001b[1;33m\u001b[0m\u001b[1;33m\u001b[0m\u001b[0m\n\u001b[0m",
      "\u001b[1;32m~\\anaconda3\\lib\\site-packages\\keras\\utils\\traceback_utils.py\u001b[0m in \u001b[0;36merror_handler\u001b[1;34m(*args, **kwargs)\u001b[0m\n\u001b[0;32m     65\u001b[0m     \u001b[1;32mexcept\u001b[0m \u001b[0mException\u001b[0m \u001b[1;32mas\u001b[0m \u001b[0me\u001b[0m\u001b[1;33m:\u001b[0m  \u001b[1;31m# pylint: disable=broad-except\u001b[0m\u001b[1;33m\u001b[0m\u001b[1;33m\u001b[0m\u001b[0m\n\u001b[0;32m     66\u001b[0m       \u001b[0mfiltered_tb\u001b[0m \u001b[1;33m=\u001b[0m \u001b[0m_process_traceback_frames\u001b[0m\u001b[1;33m(\u001b[0m\u001b[0me\u001b[0m\u001b[1;33m.\u001b[0m\u001b[0m__traceback__\u001b[0m\u001b[1;33m)\u001b[0m\u001b[1;33m\u001b[0m\u001b[1;33m\u001b[0m\u001b[0m\n\u001b[1;32m---> 67\u001b[1;33m       \u001b[1;32mraise\u001b[0m \u001b[0me\u001b[0m\u001b[1;33m.\u001b[0m\u001b[0mwith_traceback\u001b[0m\u001b[1;33m(\u001b[0m\u001b[0mfiltered_tb\u001b[0m\u001b[1;33m)\u001b[0m \u001b[1;32mfrom\u001b[0m \u001b[1;32mNone\u001b[0m\u001b[1;33m\u001b[0m\u001b[1;33m\u001b[0m\u001b[0m\n\u001b[0m\u001b[0;32m     68\u001b[0m     \u001b[1;32mfinally\u001b[0m\u001b[1;33m:\u001b[0m\u001b[1;33m\u001b[0m\u001b[1;33m\u001b[0m\u001b[0m\n\u001b[0;32m     69\u001b[0m       \u001b[1;32mdel\u001b[0m \u001b[0mfiltered_tb\u001b[0m\u001b[1;33m\u001b[0m\u001b[1;33m\u001b[0m\u001b[0m\n",
      "\u001b[1;32m~\\anaconda3\\lib\\site-packages\\tensorflow\\python\\eager\\execute.py\u001b[0m in \u001b[0;36mquick_execute\u001b[1;34m(op_name, num_outputs, inputs, attrs, ctx, name)\u001b[0m\n\u001b[0;32m     52\u001b[0m   \u001b[1;32mtry\u001b[0m\u001b[1;33m:\u001b[0m\u001b[1;33m\u001b[0m\u001b[1;33m\u001b[0m\u001b[0m\n\u001b[0;32m     53\u001b[0m     \u001b[0mctx\u001b[0m\u001b[1;33m.\u001b[0m\u001b[0mensure_initialized\u001b[0m\u001b[1;33m(\u001b[0m\u001b[1;33m)\u001b[0m\u001b[1;33m\u001b[0m\u001b[1;33m\u001b[0m\u001b[0m\n\u001b[1;32m---> 54\u001b[1;33m     tensors = pywrap_tfe.TFE_Py_Execute(ctx._handle, device_name, op_name,\n\u001b[0m\u001b[0;32m     55\u001b[0m                                         inputs, attrs, num_outputs)\n\u001b[0;32m     56\u001b[0m   \u001b[1;32mexcept\u001b[0m \u001b[0mcore\u001b[0m\u001b[1;33m.\u001b[0m\u001b[0m_NotOkStatusException\u001b[0m \u001b[1;32mas\u001b[0m \u001b[0me\u001b[0m\u001b[1;33m:\u001b[0m\u001b[1;33m\u001b[0m\u001b[1;33m\u001b[0m\u001b[0m\n",
      "\u001b[1;31mResourceExhaustedError\u001b[0m: Graph execution error:\n\nDetected at node 'gradient_tape/3D_UNet/conv3d_23/Conv3D/Conv3DBackpropFilterV2' defined at (most recent call last):\n    File \"C:\\Users\\iamst\\anaconda3\\lib\\runpy.py\", line 194, in _run_module_as_main\n      return _run_code(code, main_globals, None,\n    File \"C:\\Users\\iamst\\anaconda3\\lib\\runpy.py\", line 87, in _run_code\n      exec(code, run_globals)\n    File \"C:\\Users\\iamst\\anaconda3\\lib\\site-packages\\ipykernel_launcher.py\", line 16, in <module>\n      app.launch_new_instance()\n    File \"C:\\Users\\iamst\\anaconda3\\lib\\site-packages\\traitlets\\config\\application.py\", line 845, in launch_instance\n      app.start()\n    File \"C:\\Users\\iamst\\anaconda3\\lib\\site-packages\\ipykernel\\kernelapp.py\", line 612, in start\n      self.io_loop.start()\n    File \"C:\\Users\\iamst\\anaconda3\\lib\\site-packages\\tornado\\platform\\asyncio.py\", line 149, in start\n      self.asyncio_loop.run_forever()\n    File \"C:\\Users\\iamst\\anaconda3\\lib\\asyncio\\base_events.py\", line 570, in run_forever\n      self._run_once()\n    File \"C:\\Users\\iamst\\anaconda3\\lib\\asyncio\\base_events.py\", line 1859, in _run_once\n      handle._run()\n    File \"C:\\Users\\iamst\\anaconda3\\lib\\asyncio\\events.py\", line 81, in _run\n      self._context.run(self._callback, *self._args)\n    File \"C:\\Users\\iamst\\anaconda3\\lib\\site-packages\\tornado\\ioloop.py\", line 690, in <lambda>\n      lambda f: self._run_callback(functools.partial(callback, future))\n    File \"C:\\Users\\iamst\\anaconda3\\lib\\site-packages\\tornado\\ioloop.py\", line 743, in _run_callback\n      ret = callback()\n    File \"C:\\Users\\iamst\\anaconda3\\lib\\site-packages\\tornado\\gen.py\", line 787, in inner\n      self.run()\n    File \"C:\\Users\\iamst\\anaconda3\\lib\\site-packages\\tornado\\gen.py\", line 748, in run\n      yielded = self.gen.send(value)\n    File \"C:\\Users\\iamst\\anaconda3\\lib\\site-packages\\ipykernel\\kernelbase.py\", line 381, in dispatch_queue\n      yield self.process_one()\n    File \"C:\\Users\\iamst\\anaconda3\\lib\\site-packages\\tornado\\gen.py\", line 225, in wrapper\n      runner = Runner(result, future, yielded)\n    File \"C:\\Users\\iamst\\anaconda3\\lib\\site-packages\\tornado\\gen.py\", line 714, in __init__\n      self.run()\n    File \"C:\\Users\\iamst\\anaconda3\\lib\\site-packages\\tornado\\gen.py\", line 748, in run\n      yielded = self.gen.send(value)\n    File \"C:\\Users\\iamst\\anaconda3\\lib\\site-packages\\ipykernel\\kernelbase.py\", line 365, in process_one\n      yield gen.maybe_future(dispatch(*args))\n    File \"C:\\Users\\iamst\\anaconda3\\lib\\site-packages\\tornado\\gen.py\", line 209, in wrapper\n      yielded = next(result)\n    File \"C:\\Users\\iamst\\anaconda3\\lib\\site-packages\\ipykernel\\kernelbase.py\", line 268, in dispatch_shell\n      yield gen.maybe_future(handler(stream, idents, msg))\n    File \"C:\\Users\\iamst\\anaconda3\\lib\\site-packages\\tornado\\gen.py\", line 209, in wrapper\n      yielded = next(result)\n    File \"C:\\Users\\iamst\\anaconda3\\lib\\site-packages\\ipykernel\\kernelbase.py\", line 543, in execute_request\n      self.do_execute(\n    File \"C:\\Users\\iamst\\anaconda3\\lib\\site-packages\\tornado\\gen.py\", line 209, in wrapper\n      yielded = next(result)\n    File \"C:\\Users\\iamst\\anaconda3\\lib\\site-packages\\ipykernel\\ipkernel.py\", line 306, in do_execute\n      res = shell.run_cell(code, store_history=store_history, silent=silent)\n    File \"C:\\Users\\iamst\\anaconda3\\lib\\site-packages\\ipykernel\\zmqshell.py\", line 536, in run_cell\n      return super(ZMQInteractiveShell, self).run_cell(*args, **kwargs)\n    File \"C:\\Users\\iamst\\anaconda3\\lib\\site-packages\\IPython\\core\\interactiveshell.py\", line 2877, in run_cell\n      result = self._run_cell(\n    File \"C:\\Users\\iamst\\anaconda3\\lib\\site-packages\\IPython\\core\\interactiveshell.py\", line 2923, in _run_cell\n      return runner(coro)\n    File \"C:\\Users\\iamst\\anaconda3\\lib\\site-packages\\IPython\\core\\async_helpers.py\", line 68, in _pseudo_sync_runner\n      coro.send(None)\n    File \"C:\\Users\\iamst\\anaconda3\\lib\\site-packages\\IPython\\core\\interactiveshell.py\", line 3146, in run_cell_async\n      has_raised = await self.run_ast_nodes(code_ast.body, cell_name,\n    File \"C:\\Users\\iamst\\anaconda3\\lib\\site-packages\\IPython\\core\\interactiveshell.py\", line 3338, in run_ast_nodes\n      if (await self.run_code(code, result,  async_=asy)):\n    File \"C:\\Users\\iamst\\anaconda3\\lib\\site-packages\\IPython\\core\\interactiveshell.py\", line 3418, in run_code\n      exec(code_obj, self.user_global_ns, self.user_ns)\n    File \"<ipython-input-45-54730db370b8>\", line 4, in <module>\n      forecast_model.fit(t_gen, epochs = 100)\n    File \"C:\\Users\\iamst\\anaconda3\\lib\\site-packages\\keras\\utils\\traceback_utils.py\", line 64, in error_handler\n      return fn(*args, **kwargs)\n    File \"C:\\Users\\iamst\\anaconda3\\lib\\site-packages\\keras\\engine\\training.py\", line 1384, in fit\n      tmp_logs = self.train_function(iterator)\n    File \"C:\\Users\\iamst\\anaconda3\\lib\\site-packages\\keras\\engine\\training.py\", line 1021, in train_function\n      return step_function(self, iterator)\n    File \"C:\\Users\\iamst\\anaconda3\\lib\\site-packages\\keras\\engine\\training.py\", line 1010, in step_function\n      outputs = model.distribute_strategy.run(run_step, args=(data,))\n    File \"C:\\Users\\iamst\\anaconda3\\lib\\site-packages\\keras\\engine\\training.py\", line 1000, in run_step\n      outputs = model.train_step(data)\n    File \"C:\\Users\\iamst\\anaconda3\\lib\\site-packages\\keras\\engine\\training.py\", line 863, in train_step\n      self.optimizer.minimize(loss, self.trainable_variables, tape=tape)\n    File \"C:\\Users\\iamst\\anaconda3\\lib\\site-packages\\keras\\optimizer_v2\\optimizer_v2.py\", line 530, in minimize\n      grads_and_vars = self._compute_gradients(\n    File \"C:\\Users\\iamst\\anaconda3\\lib\\site-packages\\keras\\optimizer_v2\\optimizer_v2.py\", line 583, in _compute_gradients\n      grads_and_vars = self._get_gradients(tape, loss, var_list, grad_loss)\n    File \"C:\\Users\\iamst\\anaconda3\\lib\\site-packages\\keras\\optimizer_v2\\optimizer_v2.py\", line 464, in _get_gradients\n      grads = tape.gradient(loss, var_list, grad_loss)\nNode: 'gradient_tape/3D_UNet/conv3d_23/Conv3D/Conv3DBackpropFilterV2'\nOOM when allocating tensor with shape[1,1048576,2400] and type float on /job:localhost/replica:0/task:0/device:CPU:0 by allocator cpu\n\t [[{{node gradient_tape/3D_UNet/conv3d_23/Conv3D/Conv3DBackpropFilterV2}}]]\nHint: If you want to see a list of allocated tensors when OOM happens, add report_tensor_allocations_upon_oom to RunOptions for current allocation info. This isn't available when running in Eager mode.\n [Op:__inference_train_function_5550]"
     ]
    }
   ],
   "source": [
    "# Data loaders.\n",
    "meta = pd.read_csv('Sample_Dataset/meta.csv')\n",
    "t_gen = data_generator(meta, batch_size = 4)\n",
    "forecast_model.fit(t_gen, epochs = 100)"
   ]
  }
 ],
 "metadata": {
  "kernelspec": {
   "display_name": "Python 3",
   "language": "python",
   "name": "python3"
  },
  "language_info": {
   "codemirror_mode": {
    "name": "ipython",
    "version": 3
   },
   "file_extension": ".py",
   "mimetype": "text/x-python",
   "name": "python",
   "nbconvert_exporter": "python",
   "pygments_lexer": "ipython3",
   "version": "3.8.5"
  }
 },
 "nbformat": 4,
 "nbformat_minor": 4
}
