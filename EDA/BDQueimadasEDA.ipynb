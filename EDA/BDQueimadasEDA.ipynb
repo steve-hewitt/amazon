{
 "cells": [
  {
   "cell_type": "code",
   "execution_count": 1,
   "metadata": {},
   "outputs": [],
   "source": [
    "import pandas as pd\n",
    "import numpy as np\n",
    "import seaborn as sns\n",
    "import glob\n",
    "import os"
   ]
  },
  {
   "cell_type": "code",
   "execution_count": 2,
   "metadata": {},
   "outputs": [],
   "source": [
    "files = os.path.join(r\"C:\\Users\\Jose Torres\\Desktop\\Amazon Fire Data\", \"data*.csv\")"
   ]
  },
  {
   "cell_type": "code",
   "execution_count": 3,
   "metadata": {},
   "outputs": [],
   "source": [
    "files = glob.glob(files)"
   ]
  },
  {
   "cell_type": "code",
   "execution_count": 4,
   "metadata": {},
   "outputs": [],
   "source": [
    "df = pd.concat(map(pd.read_csv, files), ignore_index=True)"
   ]
  },
  {
   "cell_type": "code",
   "execution_count": 5,
   "metadata": {},
   "outputs": [
    {
     "data": {
      "text/html": [
       "<div>\n",
       "<style scoped>\n",
       "    .dataframe tbody tr th:only-of-type {\n",
       "        vertical-align: middle;\n",
       "    }\n",
       "\n",
       "    .dataframe tbody tr th {\n",
       "        vertical-align: top;\n",
       "    }\n",
       "\n",
       "    .dataframe thead th {\n",
       "        text-align: right;\n",
       "    }\n",
       "</style>\n",
       "<table border=\"1\" class=\"dataframe\">\n",
       "  <thead>\n",
       "    <tr style=\"text-align: right;\">\n",
       "      <th></th>\n",
       "      <th>datahora</th>\n",
       "      <th>satelite</th>\n",
       "      <th>pais</th>\n",
       "      <th>estado</th>\n",
       "      <th>municipio</th>\n",
       "      <th>bioma</th>\n",
       "      <th>diasemchuva</th>\n",
       "      <th>precipitacao</th>\n",
       "      <th>riscofogo</th>\n",
       "      <th>latitude</th>\n",
       "      <th>longitude</th>\n",
       "      <th>frp</th>\n",
       "      <th>year</th>\n",
       "      <th>month</th>\n",
       "    </tr>\n",
       "  </thead>\n",
       "  <tbody>\n",
       "    <tr>\n",
       "      <th>0</th>\n",
       "      <td>2017-09-01 03:57:00</td>\n",
       "      <td>NPP-375D</td>\n",
       "      <td>Brasil</td>\n",
       "      <td>GOIAS</td>\n",
       "      <td>ARAGUAPAZ</td>\n",
       "      <td>Cerrado</td>\n",
       "      <td>0.0</td>\n",
       "      <td>0.0</td>\n",
       "      <td>1.0</td>\n",
       "      <td>-15.19956</td>\n",
       "      <td>-50.52937</td>\n",
       "      <td>NaN</td>\n",
       "      <td>2017</td>\n",
       "      <td>9</td>\n",
       "    </tr>\n",
       "    <tr>\n",
       "      <th>1</th>\n",
       "      <td>2017-09-01 03:57:00</td>\n",
       "      <td>NPP-375D</td>\n",
       "      <td>Brasil</td>\n",
       "      <td>MATO GROSSO</td>\n",
       "      <td>ARAGUAIANA</td>\n",
       "      <td>Cerrado</td>\n",
       "      <td>0.0</td>\n",
       "      <td>0.0</td>\n",
       "      <td>1.0</td>\n",
       "      <td>-14.96275</td>\n",
       "      <td>-51.70120</td>\n",
       "      <td>NaN</td>\n",
       "      <td>2017</td>\n",
       "      <td>9</td>\n",
       "    </tr>\n",
       "    <tr>\n",
       "      <th>2</th>\n",
       "      <td>2017-09-01 03:57:00</td>\n",
       "      <td>NPP-375D</td>\n",
       "      <td>Brasil</td>\n",
       "      <td>GOIAS</td>\n",
       "      <td>MIMOSO DE GOIAS</td>\n",
       "      <td>Cerrado</td>\n",
       "      <td>0.0</td>\n",
       "      <td>0.0</td>\n",
       "      <td>1.0</td>\n",
       "      <td>-15.02494</td>\n",
       "      <td>-48.58707</td>\n",
       "      <td>NaN</td>\n",
       "      <td>2017</td>\n",
       "      <td>9</td>\n",
       "    </tr>\n",
       "    <tr>\n",
       "      <th>3</th>\n",
       "      <td>2017-09-01 05:38:00</td>\n",
       "      <td>NPP-375D</td>\n",
       "      <td>Brasil</td>\n",
       "      <td>MATO GROSSO</td>\n",
       "      <td>ARAGUAIANA</td>\n",
       "      <td>Cerrado</td>\n",
       "      <td>0.0</td>\n",
       "      <td>0.0</td>\n",
       "      <td>1.0</td>\n",
       "      <td>-14.96229</td>\n",
       "      <td>-51.63469</td>\n",
       "      <td>NaN</td>\n",
       "      <td>2017</td>\n",
       "      <td>9</td>\n",
       "    </tr>\n",
       "    <tr>\n",
       "      <th>4</th>\n",
       "      <td>2017-09-01 03:59:00</td>\n",
       "      <td>NPP-375D</td>\n",
       "      <td>Brasil</td>\n",
       "      <td>SAO PAULO</td>\n",
       "      <td>MOCOCA</td>\n",
       "      <td>Cerrado</td>\n",
       "      <td>0.0</td>\n",
       "      <td>0.0</td>\n",
       "      <td>1.0</td>\n",
       "      <td>-21.36933</td>\n",
       "      <td>-47.03375</td>\n",
       "      <td>NaN</td>\n",
       "      <td>2017</td>\n",
       "      <td>9</td>\n",
       "    </tr>\n",
       "  </tbody>\n",
       "</table>\n",
       "</div>"
      ],
      "text/plain": [
       "             datahora  satelite    pais       estado        municipio  \\\n",
       "0 2017-09-01 03:57:00  NPP-375D  Brasil        GOIAS        ARAGUAPAZ   \n",
       "1 2017-09-01 03:57:00  NPP-375D  Brasil  MATO GROSSO       ARAGUAIANA   \n",
       "2 2017-09-01 03:57:00  NPP-375D  Brasil        GOIAS  MIMOSO DE GOIAS   \n",
       "3 2017-09-01 05:38:00  NPP-375D  Brasil  MATO GROSSO       ARAGUAIANA   \n",
       "4 2017-09-01 03:59:00  NPP-375D  Brasil    SAO PAULO           MOCOCA   \n",
       "\n",
       "     bioma  diasemchuva  precipitacao  riscofogo  latitude  longitude  frp  \\\n",
       "0  Cerrado          0.0           0.0        1.0 -15.19956  -50.52937  NaN   \n",
       "1  Cerrado          0.0           0.0        1.0 -14.96275  -51.70120  NaN   \n",
       "2  Cerrado          0.0           0.0        1.0 -15.02494  -48.58707  NaN   \n",
       "3  Cerrado          0.0           0.0        1.0 -14.96229  -51.63469  NaN   \n",
       "4  Cerrado          0.0           0.0        1.0 -21.36933  -47.03375  NaN   \n",
       "\n",
       "   year  month  \n",
       "0  2017      9  \n",
       "1  2017      9  \n",
       "2  2017      9  \n",
       "3  2017      9  \n",
       "4  2017      9  "
      ]
     },
     "execution_count": 5,
     "metadata": {},
     "output_type": "execute_result"
    }
   ],
   "source": [
    "df['datahora'] = pd.to_datetime(df['datahora'])\n",
    "df['year'], df['month'] = df['datahora'].dt.year, df['datahora'].dt.month\n",
    "df.head()"
   ]
  },
  {
   "cell_type": "code",
   "execution_count": 6,
   "metadata": {},
   "outputs": [
    {
     "data": {
      "text/html": [
       "<div>\n",
       "<style scoped>\n",
       "    .dataframe tbody tr th:only-of-type {\n",
       "        vertical-align: middle;\n",
       "    }\n",
       "\n",
       "    .dataframe tbody tr th {\n",
       "        vertical-align: top;\n",
       "    }\n",
       "\n",
       "    .dataframe thead th {\n",
       "        text-align: right;\n",
       "    }\n",
       "</style>\n",
       "<table border=\"1\" class=\"dataframe\">\n",
       "  <thead>\n",
       "    <tr style=\"text-align: right;\">\n",
       "      <th></th>\n",
       "      <th>datahora</th>\n",
       "      <th>satelite</th>\n",
       "      <th>pais</th>\n",
       "      <th>estado</th>\n",
       "      <th>municipio</th>\n",
       "      <th>bioma</th>\n",
       "      <th>diasemchuva</th>\n",
       "      <th>precipitacao</th>\n",
       "      <th>riscofogo</th>\n",
       "      <th>latitude</th>\n",
       "      <th>longitude</th>\n",
       "      <th>frp</th>\n",
       "      <th>year</th>\n",
       "      <th>month</th>\n",
       "    </tr>\n",
       "  </thead>\n",
       "  <tbody>\n",
       "    <tr>\n",
       "      <th>0</th>\n",
       "      <td>2017-09-01 03:57:00</td>\n",
       "      <td>NPP-375D</td>\n",
       "      <td>Brasil</td>\n",
       "      <td>GOIAS</td>\n",
       "      <td>ARAGUAPAZ</td>\n",
       "      <td>Cerrado</td>\n",
       "      <td>0.0</td>\n",
       "      <td>0.0</td>\n",
       "      <td>1.0</td>\n",
       "      <td>-15.19956</td>\n",
       "      <td>-50.52937</td>\n",
       "      <td>NaN</td>\n",
       "      <td>2017</td>\n",
       "      <td>9</td>\n",
       "    </tr>\n",
       "    <tr>\n",
       "      <th>1</th>\n",
       "      <td>2017-09-01 03:57:00</td>\n",
       "      <td>NPP-375D</td>\n",
       "      <td>Brasil</td>\n",
       "      <td>MATO GROSSO</td>\n",
       "      <td>ARAGUAIANA</td>\n",
       "      <td>Cerrado</td>\n",
       "      <td>0.0</td>\n",
       "      <td>0.0</td>\n",
       "      <td>1.0</td>\n",
       "      <td>-14.96275</td>\n",
       "      <td>-51.70120</td>\n",
       "      <td>NaN</td>\n",
       "      <td>2017</td>\n",
       "      <td>9</td>\n",
       "    </tr>\n",
       "    <tr>\n",
       "      <th>2</th>\n",
       "      <td>2017-09-01 03:57:00</td>\n",
       "      <td>NPP-375D</td>\n",
       "      <td>Brasil</td>\n",
       "      <td>GOIAS</td>\n",
       "      <td>MIMOSO DE GOIAS</td>\n",
       "      <td>Cerrado</td>\n",
       "      <td>0.0</td>\n",
       "      <td>0.0</td>\n",
       "      <td>1.0</td>\n",
       "      <td>-15.02494</td>\n",
       "      <td>-48.58707</td>\n",
       "      <td>NaN</td>\n",
       "      <td>2017</td>\n",
       "      <td>9</td>\n",
       "    </tr>\n",
       "    <tr>\n",
       "      <th>3</th>\n",
       "      <td>2017-09-01 05:38:00</td>\n",
       "      <td>NPP-375D</td>\n",
       "      <td>Brasil</td>\n",
       "      <td>MATO GROSSO</td>\n",
       "      <td>ARAGUAIANA</td>\n",
       "      <td>Cerrado</td>\n",
       "      <td>0.0</td>\n",
       "      <td>0.0</td>\n",
       "      <td>1.0</td>\n",
       "      <td>-14.96229</td>\n",
       "      <td>-51.63469</td>\n",
       "      <td>NaN</td>\n",
       "      <td>2017</td>\n",
       "      <td>9</td>\n",
       "    </tr>\n",
       "    <tr>\n",
       "      <th>4</th>\n",
       "      <td>2017-09-01 03:59:00</td>\n",
       "      <td>NPP-375D</td>\n",
       "      <td>Brasil</td>\n",
       "      <td>SAO PAULO</td>\n",
       "      <td>MOCOCA</td>\n",
       "      <td>Cerrado</td>\n",
       "      <td>0.0</td>\n",
       "      <td>0.0</td>\n",
       "      <td>1.0</td>\n",
       "      <td>-21.36933</td>\n",
       "      <td>-47.03375</td>\n",
       "      <td>NaN</td>\n",
       "      <td>2017</td>\n",
       "      <td>9</td>\n",
       "    </tr>\n",
       "  </tbody>\n",
       "</table>\n",
       "</div>"
      ],
      "text/plain": [
       "             datahora  satelite    pais       estado        municipio  \\\n",
       "0 2017-09-01 03:57:00  NPP-375D  Brasil        GOIAS        ARAGUAPAZ   \n",
       "1 2017-09-01 03:57:00  NPP-375D  Brasil  MATO GROSSO       ARAGUAIANA   \n",
       "2 2017-09-01 03:57:00  NPP-375D  Brasil        GOIAS  MIMOSO DE GOIAS   \n",
       "3 2017-09-01 05:38:00  NPP-375D  Brasil  MATO GROSSO       ARAGUAIANA   \n",
       "4 2017-09-01 03:59:00  NPP-375D  Brasil    SAO PAULO           MOCOCA   \n",
       "\n",
       "     bioma  diasemchuva  precipitacao  riscofogo  latitude  longitude  frp  \\\n",
       "0  Cerrado          0.0           0.0        1.0 -15.19956  -50.52937  NaN   \n",
       "1  Cerrado          0.0           0.0        1.0 -14.96275  -51.70120  NaN   \n",
       "2  Cerrado          0.0           0.0        1.0 -15.02494  -48.58707  NaN   \n",
       "3  Cerrado          0.0           0.0        1.0 -14.96229  -51.63469  NaN   \n",
       "4  Cerrado          0.0           0.0        1.0 -21.36933  -47.03375  NaN   \n",
       "\n",
       "   year  month  \n",
       "0  2017      9  \n",
       "1  2017      9  \n",
       "2  2017      9  \n",
       "3  2017      9  \n",
       "4  2017      9  "
      ]
     },
     "execution_count": 6,
     "metadata": {},
     "output_type": "execute_result"
    }
   ],
   "source": [
    "df.head()"
   ]
  },
  {
   "cell_type": "code",
   "execution_count": 6,
   "metadata": {},
   "outputs": [
    {
     "data": {
      "text/plain": [
       "<bound method NDFrame.describe of                      datahora  satelite    pais       estado        municipio  \\\n",
       "0         2017/09/01 03:57:00  NPP-375D  Brasil        GOIAS        ARAGUAPAZ   \n",
       "1         2017/09/01 03:57:00  NPP-375D  Brasil  MATO GROSSO       ARAGUAIANA   \n",
       "2         2017/09/01 03:57:00  NPP-375D  Brasil        GOIAS  MIMOSO DE GOIAS   \n",
       "3         2017/09/01 05:38:00  NPP-375D  Brasil  MATO GROSSO       ARAGUAIANA   \n",
       "4         2017/09/01 03:59:00  NPP-375D  Brasil    SAO PAULO           MOCOCA   \n",
       "...                       ...       ...     ...          ...              ...   \n",
       "15731680  2022/04/05 22:43:03   GOES-16  Brasil    SAO PAULO         OURINHOS   \n",
       "15731681  2022/04/05 22:54:06   GOES-16  Brasil        BAHIA      BAIANOPOLIS   \n",
       "15731682  2022/04/05 22:54:39   GOES-16  Brasil     MARANHAO           LORETO   \n",
       "15731683  2022/04/07 00:43:56   GOES-16  Brasil  MATO GROSSO       DIAMANTINO   \n",
       "15731684  2022/04/06 23:53:56   GOES-16  Brasil  MATO GROSSO       DIAMANTINO   \n",
       "\n",
       "                   bioma  diasemchuva  precipitacao  riscofogo  latitude  \\\n",
       "0                Cerrado          0.0           0.0        1.0 -15.19956   \n",
       "1                Cerrado          0.0           0.0        1.0 -14.96275   \n",
       "2                Cerrado          0.0           0.0        1.0 -15.02494   \n",
       "3                Cerrado          0.0           0.0        1.0 -14.96229   \n",
       "4                Cerrado          0.0           0.0        1.0 -21.36933   \n",
       "...                  ...          ...           ...        ...       ...   \n",
       "15731680  Mata Atlantica          0.0           0.0        0.0 -22.95000   \n",
       "15731681         Cerrado         19.0           0.0        1.0 -12.91000   \n",
       "15731682         Cerrado          4.0           0.3        0.1  -7.58000   \n",
       "15731683        Amazonia          7.0           0.0        0.0 -14.12000   \n",
       "15731684        Amazonia          6.0           0.0        0.0 -14.12000   \n",
       "\n",
       "          longitude  frp  \n",
       "0         -50.52937  NaN  \n",
       "1         -51.70120  NaN  \n",
       "2         -48.58707  NaN  \n",
       "3         -51.63469  NaN  \n",
       "4         -47.03375  NaN  \n",
       "...             ...  ...  \n",
       "15731680  -49.92000  NaN  \n",
       "15731681  -44.37000  NaN  \n",
       "15731682  -45.56000  NaN  \n",
       "15731683  -56.81000  NaN  \n",
       "15731684  -56.81000  NaN  \n",
       "\n",
       "[15731685 rows x 12 columns]>"
      ]
     },
     "execution_count": 6,
     "metadata": {},
     "output_type": "execute_result"
    }
   ],
   "source": [
    "df.describe"
   ]
  },
  {
   "cell_type": "code",
   "execution_count": 7,
   "metadata": {},
   "outputs": [
    {
     "data": {
      "text/plain": [
       "datahora              0\n",
       "satelite              0\n",
       "pais                  0\n",
       "estado                0\n",
       "municipio             0\n",
       "bioma               852\n",
       "diasemchuva      163262\n",
       "precipitacao     163262\n",
       "riscofogo        163262\n",
       "latitude              0\n",
       "longitude             0\n",
       "frp             8168617\n",
       "dtype: int64"
      ]
     },
     "execution_count": 7,
     "metadata": {},
     "output_type": "execute_result"
    }
   ],
   "source": [
    "df.isnull().sum()"
   ]
  },
  {
   "cell_type": "code",
   "execution_count": 8,
   "metadata": {},
   "outputs": [
    {
     "data": {
      "text/plain": [
       "545"
      ]
     },
     "execution_count": 8,
     "metadata": {},
     "output_type": "execute_result"
    }
   ],
   "source": [
    "df.duplicated().sum()"
   ]
  },
  {
   "cell_type": "code",
   "execution_count": 9,
   "metadata": {},
   "outputs": [
    {
     "data": {
      "text/plain": [
       "[Text(0, 0, 'Cerrado'),\n",
       " Text(1, 0, 'Mata Atlantica'),\n",
       " Text(2, 0, 'Amazonia'),\n",
       " Text(3, 0, 'Pantanal'),\n",
       " Text(4, 0, 'Caatinga'),\n",
       " Text(5, 0, 'Pampa')]"
      ]
     },
     "execution_count": 9,
     "metadata": {},
     "output_type": "execute_result"
    },
    {
     "data": {
      "image/png": "[encoded data removed]",
      "text/plain": [
       "<Figure size 432x288 with 1 Axes>"
      ]
     },
     "metadata": {
      "needs_background": "light"
     },
     "output_type": "display_data"
    }
   ],
   "source": [
    "chart = sns.countplot(x=df['bioma'])\n",
    "\n",
    "chart.set_xticklabels(chart.get_xticklabels(),rotation=90)"
   ]
  },
  {
   "cell_type": "code",
   "execution_count": 10,
   "metadata": {},
   "outputs": [
    {
     "data": {
      "text/plain": [
       "[Text(0, 0, 'GOIAS'),\n",
       " Text(1, 0, 'MATO GROSSO'),\n",
       " Text(2, 0, 'SAO PAULO'),\n",
       " Text(3, 0, 'MINAS GERAIS'),\n",
       " Text(4, 0, 'PARA'),\n",
       " Text(5, 0, 'MARANHAO'),\n",
       " Text(6, 0, 'RONDONIA'),\n",
       " Text(7, 0, 'AMAZONAS'),\n",
       " Text(8, 0, 'MATO GROSSO DO SUL'),\n",
       " Text(9, 0, 'TOCANTINS'),\n",
       " Text(10, 0, 'BAHIA'),\n",
       " Text(11, 0, 'PIAUI'),\n",
       " Text(12, 0, 'ACRE'),\n",
       " Text(13, 0, 'PARANA'),\n",
       " Text(14, 0, 'RIO DE JANEIRO'),\n",
       " Text(15, 0, 'DISTRITO FEDERAL'),\n",
       " Text(16, 0, 'SANTA CATARINA'),\n",
       " Text(17, 0, 'PERNAMBUCO'),\n",
       " Text(18, 0, 'PARAIBA'),\n",
       " Text(19, 0, 'RIO GRANDE DO NORTE'),\n",
       " Text(20, 0, 'RIO GRANDE DO SUL'),\n",
       " Text(21, 0, 'ESPIRITO SANTO'),\n",
       " Text(22, 0, 'CEARA'),\n",
       " Text(23, 0, 'AMAPA'),\n",
       " Text(24, 0, 'RORAIMA'),\n",
       " Text(25, 0, 'SERGIPE'),\n",
       " Text(26, 0, 'ALAGOAS'),\n",
       " Text(27, 0, 'Maranhao'),\n",
       " Text(28, 0, 'Para'),\n",
       " Text(29, 0, 'Rio Grande do Sul'),\n",
       " Text(30, 0, 'Bahia'),\n",
       " Text(31, 0, 'Ceara'),\n",
       " Text(32, 0, 'Piaui'),\n",
       " Text(33, 0, 'Rio Grande do Norte'),\n",
       " Text(34, 0, 'Minas Gerais'),\n",
       " Text(35, 0, 'Mato Grosso'),\n",
       " Text(36, 0, 'Amazonas'),\n",
       " Text(37, 0, 'Pernambuco'),\n",
       " Text(38, 0, 'Paraiba'),\n",
       " Text(39, 0, 'Alagoas'),\n",
       " Text(40, 0, 'Sergipe'),\n",
       " Text(41, 0, 'Mato Grosso do Sul'),\n",
       " Text(42, 0, 'Santa Catarina'),\n",
       " Text(43, 0, 'Parana'),\n",
       " Text(44, 0, 'Amapa'),\n",
       " Text(45, 0, 'Roraima'),\n",
       " Text(46, 0, 'Tocantins'),\n",
       " Text(47, 0, 'Goias')]"
      ]
     },
     "execution_count": 10,
     "metadata": {},
     "output_type": "execute_result"
    },
    {
     "data": {
      "image/png": "[encoded data removed]",
      "text/plain": [
       "<Figure size 432x288 with 1 Axes>"
      ]
     },
     "metadata": {
      "needs_background": "light"
     },
     "output_type": "display_data"
    }
   ],
   "source": [
    "chart = sns.countplot(x=df['estado'])\n",
    "\n",
    "chart.set_xticklabels(chart.get_xticklabels(),rotation=90)"
   ]
  },
  {
   "cell_type": "code",
   "execution_count": 11,
   "metadata": {},
   "outputs": [
    {
     "data": {
      "text/plain": [
       "[Text(0, 0, 'NPP-375D'),\n",
       " Text(1, 0, 'MSG-03'),\n",
       " Text(2, 0, 'NPP-375'),\n",
       " Text(3, 0, 'METOP-B'),\n",
       " Text(4, 0, 'AQUA_M-T'),\n",
       " Text(5, 0, 'TERRA_M-T'),\n",
       " Text(6, 0, 'GOES-13'),\n",
       " Text(7, 0, 'NOAA-18'),\n",
       " Text(8, 0, 'NOAA-15'),\n",
       " Text(9, 0, 'NOAA-19D'),\n",
       " Text(10, 0, 'NOAA-19'),\n",
       " Text(11, 0, 'AQUA_M-M'),\n",
       " Text(12, 0, 'TERRA_M-M'),\n",
       " Text(13, 0, 'NOAA-18D'),\n",
       " Text(14, 0, 'NOAA-15D'),\n",
       " Text(15, 0, 'GOES-16'),\n",
       " Text(16, 0, 'TERRA_M'),\n",
       " Text(17, 0, 'AQUA_M'),\n",
       " Text(18, 0, 'NOAA-20'),\n",
       " Text(19, 0, 'METOP-C')]"
      ]
     },
     "execution_count": 11,
     "metadata": {},
     "output_type": "execute_result"
    },
    {
     "data": {
      "image/png": "[encoded data removed]",
      "text/plain": [
       "<Figure size 432x288 with 1 Axes>"
      ]
     },
     "metadata": {
      "needs_background": "light"
     },
     "output_type": "display_data"
    }
   ],
   "source": [
    "chart = sns.countplot(x=df['satelite'])\n",
    "\n",
    "chart.set_xticklabels(chart.get_xticklabels(),rotation=90)"
   ]
  },
  {
   "cell_type": "code",
   "execution_count": 12,
   "metadata": {},
   "outputs": [
    {
     "data": {
      "text/plain": [
       "datahora         object\n",
       "satelite         object\n",
       "pais             object\n",
       "estado           object\n",
       "municipio        object\n",
       "bioma            object\n",
       "diasemchuva     float64\n",
       "precipitacao    float64\n",
       "riscofogo       float64\n",
       "latitude        float64\n",
       "longitude       float64\n",
       "frp             float64\n",
       "dtype: object"
      ]
     },
     "execution_count": 12,
     "metadata": {},
     "output_type": "execute_result"
    }
   ],
   "source": [
    "df.dtypes"
   ]
  },
  {
   "cell_type": "code",
   "execution_count": 13,
   "metadata": {},
   "outputs": [
    {
     "data": {
      "text/html": [
       "<div>\n",
       "<style scoped>\n",
       "    .dataframe tbody tr th:only-of-type {\n",
       "        vertical-align: middle;\n",
       "    }\n",
       "\n",
       "    .dataframe tbody tr th {\n",
       "        vertical-align: top;\n",
       "    }\n",
       "\n",
       "    .dataframe thead th {\n",
       "        text-align: right;\n",
       "    }\n",
       "</style>\n",
       "<table border=\"1\" class=\"dataframe\">\n",
       "  <thead>\n",
       "    <tr style=\"text-align: right;\">\n",
       "      <th></th>\n",
       "      <th>diasemchuva</th>\n",
       "      <th>precipitacao</th>\n",
       "      <th>riscofogo</th>\n",
       "      <th>latitude</th>\n",
       "      <th>longitude</th>\n",
       "      <th>frp</th>\n",
       "    </tr>\n",
       "  </thead>\n",
       "  <tbody>\n",
       "    <tr>\n",
       "      <th>diasemchuva</th>\n",
       "      <td>1.000000</td>\n",
       "      <td>-0.041432</td>\n",
       "      <td>0.048298</td>\n",
       "      <td>-0.036083</td>\n",
       "      <td>-0.000965</td>\n",
       "      <td>0.021500</td>\n",
       "    </tr>\n",
       "    <tr>\n",
       "      <th>precipitacao</th>\n",
       "      <td>-0.041432</td>\n",
       "      <td>1.000000</td>\n",
       "      <td>-0.008091</td>\n",
       "      <td>0.012415</td>\n",
       "      <td>-0.094954</td>\n",
       "      <td>-0.022689</td>\n",
       "    </tr>\n",
       "    <tr>\n",
       "      <th>riscofogo</th>\n",
       "      <td>0.048298</td>\n",
       "      <td>-0.008091</td>\n",
       "      <td>1.000000</td>\n",
       "      <td>0.059731</td>\n",
       "      <td>-0.016023</td>\n",
       "      <td>0.015589</td>\n",
       "    </tr>\n",
       "    <tr>\n",
       "      <th>latitude</th>\n",
       "      <td>-0.036083</td>\n",
       "      <td>0.012415</td>\n",
       "      <td>0.059731</td>\n",
       "      <td>1.000000</td>\n",
       "      <td>-0.030057</td>\n",
       "      <td>0.004707</td>\n",
       "    </tr>\n",
       "    <tr>\n",
       "      <th>longitude</th>\n",
       "      <td>-0.000965</td>\n",
       "      <td>-0.094954</td>\n",
       "      <td>-0.016023</td>\n",
       "      <td>-0.030057</td>\n",
       "      <td>1.000000</td>\n",
       "      <td>-0.041213</td>\n",
       "    </tr>\n",
       "    <tr>\n",
       "      <th>frp</th>\n",
       "      <td>0.021500</td>\n",
       "      <td>-0.022689</td>\n",
       "      <td>0.015589</td>\n",
       "      <td>0.004707</td>\n",
       "      <td>-0.041213</td>\n",
       "      <td>1.000000</td>\n",
       "    </tr>\n",
       "  </tbody>\n",
       "</table>\n",
       "</div>"
      ],
      "text/plain": [
       "              diasemchuva  precipitacao  riscofogo  latitude  longitude  \\\n",
       "diasemchuva      1.000000     -0.041432   0.048298 -0.036083  -0.000965   \n",
       "precipitacao    -0.041432      1.000000  -0.008091  0.012415  -0.094954   \n",
       "riscofogo        0.048298     -0.008091   1.000000  0.059731  -0.016023   \n",
       "latitude        -0.036083      0.012415   0.059731  1.000000  -0.030057   \n",
       "longitude       -0.000965     -0.094954  -0.016023 -0.030057   1.000000   \n",
       "frp              0.021500     -0.022689   0.015589  0.004707  -0.041213   \n",
       "\n",
       "                   frp  \n",
       "diasemchuva   0.021500  \n",
       "precipitacao -0.022689  \n",
       "riscofogo     0.015589  \n",
       "latitude      0.004707  \n",
       "longitude    -0.041213  \n",
       "frp           1.000000  "
      ]
     },
     "execution_count": 13,
     "metadata": {},
     "output_type": "execute_result"
    }
   ],
   "source": [
    "df.corr()"
   ]
  },
  {
   "cell_type": "code",
   "execution_count": 14,
   "metadata": {},
   "outputs": [
    {
     "data": {
      "text/plain": [
       "<AxesSubplot:>"
      ]
     },
     "execution_count": 14,
     "metadata": {},
     "output_type": "execute_result"
    },
    {
     "data": {
      "image/png": "[encoded data removed]",
      "text/plain": [
       "<Figure size 432x288 with 2 Axes>"
      ]
     },
     "metadata": {
      "needs_background": "light"
     },
     "output_type": "display_data"
    }
   ],
   "source": [
    "sns.heatmap(df.corr())"
   ]
  },
  {
   "cell_type": "code",
   "execution_count": 7,
   "metadata": {},
   "outputs": [
    {
     "data": {
      "text/plain": [
       "[Text(0, 0, '2017'),\n",
       " Text(1, 0, '2018'),\n",
       " Text(2, 0, '2019'),\n",
       " Text(3, 0, '2021'),\n",
       " Text(4, 0, '2022')]"
      ]
     },
     "execution_count": 7,
     "metadata": {},
     "output_type": "execute_result"
    },
    {
     "data": {
      "image/png": "[encoded data removed]",
      "text/plain": [
       "<Figure size 432x288 with 1 Axes>"
      ]
     },
     "metadata": {
      "needs_background": "light"
     },
     "output_type": "display_data"
    }
   ],
   "source": [
    "chart = sns.countplot(x=df['year'])\n",
    "\n",
    "chart.set_xticklabels(chart.get_xticklabels(),rotation=90)"
   ]
  },
  {
   "cell_type": "code",
   "execution_count": 8,
   "metadata": {},
   "outputs": [
    {
     "data": {
      "text/plain": [
       "[Text(0, 0, '1'),\n",
       " Text(1, 0, '2'),\n",
       " Text(2, 0, '3'),\n",
       " Text(3, 0, '4'),\n",
       " Text(4, 0, '5'),\n",
       " Text(5, 0, '6'),\n",
       " Text(6, 0, '7'),\n",
       " Text(7, 0, '8'),\n",
       " Text(8, 0, '9'),\n",
       " Text(9, 0, '10'),\n",
       " Text(10, 0, '11'),\n",
       " Text(11, 0, '12')]"
      ]
     },
     "execution_count": 8,
     "metadata": {},
     "output_type": "execute_result"
    },
    {
     "data": {
      "image/png": "[encoded data removed]",
      "text/plain": [
       "<Figure size 432x288 with 1 Axes>"
      ]
     },
     "metadata": {
      "needs_background": "light"
     },
     "output_type": "display_data"
    }
   ],
   "source": [
    "chart = sns.countplot(x=df['month'])\n",
    "\n",
    "chart.set_xticklabels(chart.get_xticklabels(),rotation=90)"
   ]
  },
  {
   "cell_type": "code",
   "execution_count": null,
   "metadata": {},
   "outputs": [],
   "source": []
  }
 ],
 "metadata": {
  "kernelspec": {
   "display_name": "Python 3",
   "language": "python",
   "name": "python3"
  },
  "language_info": {
   "codemirror_mode": {
    "name": "ipython",
    "version": 3
   },
   "file_extension": ".py",
   "mimetype": "text/x-python",
   "name": "python",
   "nbconvert_exporter": "python",
   "pygments_lexer": "ipython3",
   "version": "3.8.5"
  }
 },
 "nbformat": 4,
 "nbformat_minor": 4
}
