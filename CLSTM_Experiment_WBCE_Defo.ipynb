{
 "cells": [
  {
   "cell_type": "markdown",
   "metadata": {},
   "source": [
    "### Import block"
   ]
  },
  {
   "cell_type": "code",
   "execution_count": 1,
   "metadata": {},
   "outputs": [],
   "source": [
    "import pandas as pd\n",
    "import numpy as np\n",
    "import tensorflow as tf\n",
    "import matplotlib.pyplot as plt\n",
    "\n",
    "from tensorflow.keras import layers\n",
    "from tensorflow.keras.models import Sequential\n",
    "from tensorflow.keras.initializers import Constant\n",
    "\n",
    "from sklearn.utils import class_weight\n",
    "\n",
    "%matplotlib inline"
   ]
  },
  {
   "cell_type": "code",
   "execution_count": 2,
   "metadata": {},
   "outputs": [
    {
     "data": {
      "text/plain": [
       "[PhysicalDevice(name='/physical_device:GPU:0', device_type='GPU')]"
      ]
     },
     "execution_count": 2,
     "metadata": {},
     "output_type": "execute_result"
    }
   ],
   "source": [
    "# Check for available GPU.\n",
    "tf.config.list_physical_devices('GPU')"
   ]
  },
  {
   "cell_type": "markdown",
   "metadata": {},
   "source": [
    "#### Function definitions"
   ]
  },
  {
   "cell_type": "code",
   "execution_count": 3,
   "metadata": {},
   "outputs": [],
   "source": [
    "# Loader functions\n",
    "# Inspiration: https://towardsdatascience.com/writing-custom-keras-generators-fe815d992c5a\n",
    "\n",
    "def get_input(path):\n",
    "    # Load array.\n",
    "    t_input = np.load(path)\n",
    "    \n",
    "    # Pad to even number of pixels\n",
    "    #t_input = np.pad(t_input, [(0,0),(0,1),(0,1)])\n",
    "    # Resize to include a channel dimension.\n",
    "    #t_input = tf.expand_dims(t_input, axis = -1)\n",
    "    \n",
    "    # Put channel dim at the end.\n",
    "    t_input = np.moveaxis(t_input, 1, -1)\n",
    "    \n",
    "    return t_input\n",
    "\n",
    "def get_output(path):\n",
    "    # Load array.\n",
    "    t_output = np.load(path)\n",
    "    \n",
    "    # Pad to even number of pixels\n",
    "    #t_output = np.pad(t_output, [(0,0),(0,1),(0,1)])\n",
    "    # Resize to include a channel dimension.\n",
    "    #t_output = tf.expand_dims(t_output, axis = -1)\n",
    "    \n",
    "    # Put channel dim at the end.\n",
    "    t_output = np.moveaxis(t_output, 1, -1)\n",
    "    return t_output\n",
    "\n",
    "def data_generator(samples, batch_size = 64):\n",
    "    \n",
    "    while True:\n",
    "        # Select files (paths/indices) for the batch\n",
    "        batch_samples  = np.random.choice(a = samples.index, \n",
    "                                      size = batch_size)\n",
    "        batch_input  = []\n",
    "        batch_output = [] \n",
    "\n",
    "        # Read in each input, perform preprocessing and get labels\n",
    "        for sample in batch_samples:\n",
    "          input = get_input(samples.loc[sample].features)\n",
    "          output = get_output(samples.loc[sample].labels)\n",
    "\n",
    "          batch_input += [input]\n",
    "          batch_output += [output]\n",
    "        # Return a tuple of (input, output) to feed the network\n",
    "        batch_x = np.array(batch_input)\n",
    "        batch_y = np.array(batch_output)\n",
    "        \n",
    "        yield(batch_x, batch_y)\n"
   ]
  },
  {
   "cell_type": "code",
   "execution_count": 4,
   "metadata": {},
   "outputs": [
    {
     "data": {
      "text/html": [
       "<div>\n",
       "<style scoped>\n",
       "    .dataframe tbody tr th:only-of-type {\n",
       "        vertical-align: middle;\n",
       "    }\n",
       "\n",
       "    .dataframe tbody tr th {\n",
       "        vertical-align: top;\n",
       "    }\n",
       "\n",
       "    .dataframe thead th {\n",
       "        text-align: right;\n",
       "    }\n",
       "</style>\n",
       "<table border=\"1\" class=\"dataframe\">\n",
       "  <thead>\n",
       "    <tr style=\"text-align: right;\">\n",
       "      <th></th>\n",
       "      <th>Unnamed: 0</th>\n",
       "      <th>Lon</th>\n",
       "      <th>Lat</th>\n",
       "      <th>Date</th>\n",
       "      <th>features</th>\n",
       "      <th>labels</th>\n",
       "    </tr>\n",
       "  </thead>\n",
       "  <tbody>\n",
       "    <tr>\n",
       "      <th>0</th>\n",
       "      <td>424178</td>\n",
       "      <td>-53.777985</td>\n",
       "      <td>-6.178985</td>\n",
       "      <td>2018-09-16</td>\n",
       "      <td>Sample_CLSTM_Dataset/train/features/424178.npy</td>\n",
       "      <td>Sample_CLSTM_Dataset/train/labels/424178.npy</td>\n",
       "    </tr>\n",
       "    <tr>\n",
       "      <th>1</th>\n",
       "      <td>211198</td>\n",
       "      <td>-51.735630</td>\n",
       "      <td>-8.470318</td>\n",
       "      <td>2017-09-26</td>\n",
       "      <td>Sample_CLSTM_Dataset/train/features/211198.npy</td>\n",
       "      <td>Sample_CLSTM_Dataset/train/labels/211198.npy</td>\n",
       "    </tr>\n",
       "    <tr>\n",
       "      <th>2</th>\n",
       "      <td>197713</td>\n",
       "      <td>-50.511791</td>\n",
       "      <td>-9.797287</td>\n",
       "      <td>2017-09-20</td>\n",
       "      <td>Sample_CLSTM_Dataset/train/features/197713.npy</td>\n",
       "      <td>Sample_CLSTM_Dataset/train/labels/197713.npy</td>\n",
       "    </tr>\n",
       "    <tr>\n",
       "      <th>3</th>\n",
       "      <td>610851</td>\n",
       "      <td>-50.733681</td>\n",
       "      <td>-9.001179</td>\n",
       "      <td>2019-09-02</td>\n",
       "      <td>Sample_CLSTM_Dataset/train/features/610851.npy</td>\n",
       "      <td>Sample_CLSTM_Dataset/train/labels/610851.npy</td>\n",
       "    </tr>\n",
       "    <tr>\n",
       "      <th>4</th>\n",
       "      <td>164188</td>\n",
       "      <td>-57.372284</td>\n",
       "      <td>-6.126301</td>\n",
       "      <td>2017-09-14</td>\n",
       "      <td>Sample_CLSTM_Dataset/train/features/164188.npy</td>\n",
       "      <td>Sample_CLSTM_Dataset/train/labels/164188.npy</td>\n",
       "    </tr>\n",
       "    <tr>\n",
       "      <th>...</th>\n",
       "      <td>...</td>\n",
       "      <td>...</td>\n",
       "      <td>...</td>\n",
       "      <td>...</td>\n",
       "      <td>...</td>\n",
       "      <td>...</td>\n",
       "    </tr>\n",
       "    <tr>\n",
       "      <th>9889</th>\n",
       "      <td>152245</td>\n",
       "      <td>-50.735508</td>\n",
       "      <td>-7.020069</td>\n",
       "      <td>2017-09-13</td>\n",
       "      <td>Sample_CLSTM_Dataset/train/features/152245.npy</td>\n",
       "      <td>Sample_CLSTM_Dataset/train/labels/152245.npy</td>\n",
       "    </tr>\n",
       "    <tr>\n",
       "      <th>9890</th>\n",
       "      <td>423700</td>\n",
       "      <td>-51.096798</td>\n",
       "      <td>-6.575891</td>\n",
       "      <td>2018-09-16</td>\n",
       "      <td>Sample_CLSTM_Dataset/train/features/423700.npy</td>\n",
       "      <td>Sample_CLSTM_Dataset/train/labels/423700.npy</td>\n",
       "    </tr>\n",
       "    <tr>\n",
       "      <th>9891</th>\n",
       "      <td>190811</td>\n",
       "      <td>-56.483700</td>\n",
       "      <td>-7.026057</td>\n",
       "      <td>2017-09-19</td>\n",
       "      <td>Sample_CLSTM_Dataset/train/features/190811.npy</td>\n",
       "      <td>Sample_CLSTM_Dataset/train/labels/190811.npy</td>\n",
       "    </tr>\n",
       "    <tr>\n",
       "      <th>9892</th>\n",
       "      <td>135776</td>\n",
       "      <td>-51.519547</td>\n",
       "      <td>-9.694668</td>\n",
       "      <td>2017-09-10</td>\n",
       "      <td>Sample_CLSTM_Dataset/train/features/135776.npy</td>\n",
       "      <td>Sample_CLSTM_Dataset/train/labels/135776.npy</td>\n",
       "    </tr>\n",
       "    <tr>\n",
       "      <th>9893</th>\n",
       "      <td>110465</td>\n",
       "      <td>-50.821926</td>\n",
       "      <td>-8.985072</td>\n",
       "      <td>2017-09-05</td>\n",
       "      <td>Sample_CLSTM_Dataset/train/features/110465.npy</td>\n",
       "      <td>Sample_CLSTM_Dataset/train/labels/110465.npy</td>\n",
       "    </tr>\n",
       "  </tbody>\n",
       "</table>\n",
       "<p>9894 rows × 6 columns</p>\n",
       "</div>"
      ],
      "text/plain": [
       "      Unnamed: 0        Lon       Lat        Date  \\\n",
       "0         424178 -53.777985 -6.178985  2018-09-16   \n",
       "1         211198 -51.735630 -8.470318  2017-09-26   \n",
       "2         197713 -50.511791 -9.797287  2017-09-20   \n",
       "3         610851 -50.733681 -9.001179  2019-09-02   \n",
       "4         164188 -57.372284 -6.126301  2017-09-14   \n",
       "...          ...        ...       ...         ...   \n",
       "9889      152245 -50.735508 -7.020069  2017-09-13   \n",
       "9890      423700 -51.096798 -6.575891  2018-09-16   \n",
       "9891      190811 -56.483700 -7.026057  2017-09-19   \n",
       "9892      135776 -51.519547 -9.694668  2017-09-10   \n",
       "9893      110465 -50.821926 -8.985072  2017-09-05   \n",
       "\n",
       "                                            features  \\\n",
       "0     Sample_CLSTM_Dataset/train/features/424178.npy   \n",
       "1     Sample_CLSTM_Dataset/train/features/211198.npy   \n",
       "2     Sample_CLSTM_Dataset/train/features/197713.npy   \n",
       "3     Sample_CLSTM_Dataset/train/features/610851.npy   \n",
       "4     Sample_CLSTM_Dataset/train/features/164188.npy   \n",
       "...                                              ...   \n",
       "9889  Sample_CLSTM_Dataset/train/features/152245.npy   \n",
       "9890  Sample_CLSTM_Dataset/train/features/423700.npy   \n",
       "9891  Sample_CLSTM_Dataset/train/features/190811.npy   \n",
       "9892  Sample_CLSTM_Dataset/train/features/135776.npy   \n",
       "9893  Sample_CLSTM_Dataset/train/features/110465.npy   \n",
       "\n",
       "                                            labels  \n",
       "0     Sample_CLSTM_Dataset/train/labels/424178.npy  \n",
       "1     Sample_CLSTM_Dataset/train/labels/211198.npy  \n",
       "2     Sample_CLSTM_Dataset/train/labels/197713.npy  \n",
       "3     Sample_CLSTM_Dataset/train/labels/610851.npy  \n",
       "4     Sample_CLSTM_Dataset/train/labels/164188.npy  \n",
       "...                                            ...  \n",
       "9889  Sample_CLSTM_Dataset/train/labels/152245.npy  \n",
       "9890  Sample_CLSTM_Dataset/train/labels/423700.npy  \n",
       "9891  Sample_CLSTM_Dataset/train/labels/190811.npy  \n",
       "9892  Sample_CLSTM_Dataset/train/labels/135776.npy  \n",
       "9893  Sample_CLSTM_Dataset/train/labels/110465.npy  \n",
       "\n",
       "[9894 rows x 6 columns]"
      ]
     },
     "execution_count": 4,
     "metadata": {},
     "output_type": "execute_result"
    }
   ],
   "source": [
    "m = pd.read_csv('Sample_CLSTM_Dataset/train/meta.csv')\n",
    "m"
   ]
  },
  {
   "cell_type": "markdown",
   "metadata": {},
   "source": [
    "#### Load data"
   ]
  },
  {
   "cell_type": "code",
   "execution_count": 5,
   "metadata": {},
   "outputs": [
    {
     "data": {
      "text/plain": [
       "TensorShape([1, 10, 32, 32, 2])"
      ]
     },
     "execution_count": 5,
     "metadata": {},
     "output_type": "execute_result"
    }
   ],
   "source": [
    "# Get data from one chip\n",
    "sample_input = np.load('Sample_CLSTM_Dataset/train/features/119179.npy')\n",
    "\n",
    "# Pad to even number of pixels\n",
    "#a = np.pad(sample_input, [(0,0),(0,1),(0,1)])\n",
    "# Resize to include a channel dimension.\n",
    "#a = tf.expand_dims(a, axis = -1)\n",
    "# Resize to include a batch dimension.\n",
    "#a = tf.expand_dims(a, axis = 0)\n",
    "\n",
    "\n",
    "# Move channel axis to the end\n",
    "a = np.moveaxis(sample_input, 1, -1)\n",
    "\n",
    "# Resize to include a batch dimension.\n",
    "a = tf.expand_dims(a, axis = 0)\n",
    "\n",
    "# Display shape for verification.\n",
    "a.shape"
   ]
  },
  {
   "cell_type": "markdown",
   "metadata": {},
   "source": [
    "#### Model assumbly"
   ]
  },
  {
   "cell_type": "code",
   "execution_count": 13,
   "metadata": {},
   "outputs": [],
   "source": [
    "# Inspired by: https://keras.io/examples/vision/conv_lstm/?fbclid=IwAR1QSJmF0bcz5pklHDHwl4mUi8inzHN4m8Zk6OpvVJizqDDv2-MKMq3LlJ8\n",
    "\n",
    "inputs = layers.Input(shape=((10,32,32,2)))\n",
    "x = layers.ConvLSTM2D(\n",
    "    filters=128,\n",
    "    kernel_size=(5, 5),\n",
    "    padding='same',\n",
    "    return_sequences=False,\n",
    "    activation='relu',\n",
    ")(inputs)\n",
    "x = layers.BatchNormalization()(x)\n",
    "x = layers.ConvLSTM2D(\n",
    "    filters=128,\n",
    "    kernel_size=(3, 3),\n",
    "    padding='same',\n",
    "    return_sequences=False,\n",
    "    activation='relu',\n",
    ")(tf.expand_dims(x, axis = 1))\n",
    "x = layers.BatchNormalization()(x)\n",
    "x = layers.ConvLSTM2D(\n",
    "    filters=128,\n",
    "    kernel_size=(1, 1),\n",
    "    padding='same',\n",
    "    return_sequences=False,\n",
    "    activation='relu',\n",
    ")(tf.expand_dims(x, axis = 1))\n",
    "outputs = layers.Conv3D(\n",
    "    filters=1, kernel_size=(3, 3, 3), activation='sigmoid', padding='same'\n",
    ")(tf.expand_dims(x, axis = 1))"
   ]
  },
  {
   "cell_type": "code",
   "execution_count": 14,
   "metadata": {},
   "outputs": [],
   "source": [
    "forecast_model = tf.keras.Model(inputs, outputs, name=\"Conv_LSTM\")"
   ]
  },
  {
   "cell_type": "code",
   "execution_count": 15,
   "metadata": {},
   "outputs": [
    {
     "name": "stdout",
     "output_type": "stream",
     "text": [
      "1/1 [==============================] - 3s 3s/step\n"
     ]
    },
    {
     "data": {
      "text/plain": [
       "(1, 1, 32, 32, 1)"
      ]
     },
     "execution_count": 15,
     "metadata": {},
     "output_type": "execute_result"
    }
   ],
   "source": [
    "# Verify output shape.\n",
    "forecast_model.predict(a).shape"
   ]
  },
  {
   "cell_type": "code",
   "execution_count": 16,
   "metadata": {},
   "outputs": [
    {
     "name": "stdout",
     "output_type": "stream",
     "text": [
      "Model: \"Conv_LSTM\"\n",
      "_________________________________________________________________\n",
      " Layer (type)                Output Shape              Param #   \n",
      "=================================================================\n",
      " input_3 (InputLayer)        [(None, 10, 32, 32, 2)]   0         \n",
      "                                                                 \n",
      " conv_lstm2d_5 (ConvLSTM2D)  (None, 32, 32, 128)       1664512   \n",
      "                                                                 \n",
      " batch_normalization_3 (Batc  (None, 32, 32, 128)      512       \n",
      " hNormalization)                                                 \n",
      "                                                                 \n",
      " tf.expand_dims_4 (TFOpLambd  (None, 1, 32, 32, 128)   0         \n",
      " a)                                                              \n",
      "                                                                 \n",
      " conv_lstm2d_6 (ConvLSTM2D)  (None, 32, 32, 128)       1180160   \n",
      "                                                                 \n",
      " batch_normalization_4 (Batc  (None, 32, 32, 128)      512       \n",
      " hNormalization)                                                 \n",
      "                                                                 \n",
      " tf.expand_dims_5 (TFOpLambd  (None, 1, 32, 32, 128)   0         \n",
      " a)                                                              \n",
      "                                                                 \n",
      " conv_lstm2d_7 (ConvLSTM2D)  (None, 32, 32, 128)       131584    \n",
      "                                                                 \n",
      " tf.expand_dims_6 (TFOpLambd  (None, 1, 32, 32, 128)   0         \n",
      " a)                                                              \n",
      "                                                                 \n",
      " conv3d_1 (Conv3D)           (None, 1, 32, 32, 1)      3457      \n",
      "                                                                 \n",
      "=================================================================\n",
      "Total params: 2,980,737\n",
      "Trainable params: 2,980,225\n",
      "Non-trainable params: 512\n",
      "_________________________________________________________________\n"
     ]
    }
   ],
   "source": [
    "# Display model details.\n",
    "forecast_model.summary()"
   ]
  },
  {
   "cell_type": "code",
   "execution_count": 17,
   "metadata": {},
   "outputs": [],
   "source": [
    "# Compile model.\n",
    "opt = tf.keras.optimizers.Adam(learning_rate=0.0001)\n",
    "loss_fn = tf.keras.losses.BinaryCrossentropy()\n",
    "forecast_model.compile(loss=loss_fn, optimizer=opt, metrics=['accuracy'])"
   ]
  },
  {
   "cell_type": "code",
   "execution_count": 18,
   "metadata": {},
   "outputs": [],
   "source": [
    "# Data loaders.\n",
    "batch_size = 64\n",
    "meta_t = pd.read_csv('Sample_CLSTM_Dataset/train/meta.csv')\n",
    "meta_v = pd.read_csv('Sample_CLSTM_Dataset/val/meta.csv')\n",
    "t_gen = data_generator(meta_t, batch_size = batch_size)\n",
    "v_gen = data_generator(meta_v, batch_size = batch_size)"
   ]
  },
  {
   "cell_type": "code",
   "execution_count": 19,
   "metadata": {},
   "outputs": [],
   "source": [
    "# Trying new approach to build dataset.\n",
    "x_train, y_train, x_val, y_val = [],[],[],[]\n",
    "\n",
    "# Iterate over dataset.\n",
    "for x in range(0,len(meta_t)):\n",
    "    x_train.append(np.load(meta_t.iloc[x].features))\n",
    "    y_train.append(np.load(meta_t.iloc[x].labels))\n",
    "for x in range(0,len(meta_v)):\n",
    "    x_val.append(np.load(meta_v.iloc[x].features))\n",
    "    y_val.append(np.load(meta_v.iloc[x].labels))\n",
    "    \n",
    "# Stack layers.\n",
    "x_train = np.stack(x_train)\n",
    "y_train = np.stack(y_train)\n",
    "x_val = np.stack(x_val)\n",
    "y_val = np.stack(y_val)\n",
    "\n",
    "# Convert values > 1 to 1.\n",
    "x_train = np.minimum(x_train,1)\n",
    "y_train = np.minimum(y_train,1)\n",
    "x_val = np.minimum(x_val,1)\n",
    "y_val = np.minimum(y_val,1)\n",
    "\n",
    "# Move channel dims to last.\n",
    "x_train = np.moveaxis(x_train, 2, -1)\n",
    "y_train = tf.expand_dims(y_train, axis = -1).numpy()\n",
    "x_val = np.moveaxis(x_val, 2, -1)\n",
    "y_val = tf.expand_dims(y_val, axis = -1).numpy()"
   ]
  },
  {
   "cell_type": "code",
   "execution_count": 20,
   "metadata": {},
   "outputs": [],
   "source": [
    "# Experiment: modify output to single frame.\n",
    "y_train = y_train[:,:1]\n",
    "y_val = y_val[:,:1]"
   ]
  },
  {
   "cell_type": "code",
   "execution_count": 21,
   "metadata": {},
   "outputs": [
    {
     "data": {
      "text/plain": [
       "((9894, 10, 32, 32, 2),\n",
       " (9894, 1, 32, 32, 1),\n",
       " (1902, 10, 32, 32, 2),\n",
       " (1902, 1, 32, 32, 1))"
      ]
     },
     "execution_count": 21,
     "metadata": {},
     "output_type": "execute_result"
    }
   ],
   "source": [
    "x_train.shape, y_train.shape, x_val.shape, y_val.shape"
   ]
  },
  {
   "cell_type": "code",
   "execution_count": 22,
   "metadata": {},
   "outputs": [],
   "source": [
    "# Solution for problem with class_weights not working with 3D outputs in tensorflow.\n",
    "# From: https://github.com/keras-team/keras/issues/3653\n",
    "def generate_sample_weights(training_data, class_weights): \n",
    "    #replaces values for up to 3 classes with the values from class_weights#\n",
    "    sample_weights = [np.where(y==0,class_weights[0],\n",
    "                        np.where(y==1,class_weights[1],\n",
    "                        y)) for y in training_data]\n",
    "    return np.asarray(sample_weights)"
   ]
  },
  {
   "cell_type": "code",
   "execution_count": 23,
   "metadata": {},
   "outputs": [
    {
     "name": "stderr",
     "output_type": "stream",
     "text": [
      "C:\\Users\\covad\\anaconda3\\lib\\site-packages\\sklearn\\utils\\validation.py:70: FutureWarning: Pass classes=[0, 1], y=[0. 0. 0. ... 0. 0. 0.] as keyword args. From version 1.0 (renaming of 0.25) passing these as positional arguments will result in an error\n",
      "  warnings.warn(f\"Pass {args_msg} as keyword args. From version \"\n"
     ]
    },
    {
     "data": {
      "text/plain": [
       "array([ 0.50664783, 38.10623077])"
      ]
     },
     "execution_count": 23,
     "metadata": {},
     "output_type": "execute_result"
    }
   ],
   "source": [
    "# Get class weights for weighted binary cross entropy loss.\n",
    "weights = class_weight.compute_class_weight('balanced',\n",
    "                                            [0,1],\n",
    "                                            y_train.flatten())\n",
    "# Examine weights.\n",
    "weights"
   ]
  },
  {
   "cell_type": "code",
   "execution_count": 24,
   "metadata": {},
   "outputs": [],
   "source": [
    "calculated_sample_weights = generate_sample_weights(y_train, weights)"
   ]
  },
  {
   "cell_type": "code",
   "execution_count": 25,
   "metadata": {},
   "outputs": [],
   "source": [
    "# Move numpy objects to tensors.\n",
    "x_train = tf.convert_to_tensor(x_train)\n",
    "y_train = tf.convert_to_tensor(y_train)\n",
    "x_val = tf.convert_to_tensor(x_val)\n",
    "y_val = tf.convert_to_tensor(y_val)\n",
    "calculated_sample_weights = tf.convert_to_tensor(calculated_sample_weights)"
   ]
  },
  {
   "cell_type": "code",
   "execution_count": 29,
   "metadata": {},
   "outputs": [
    {
     "data": {
      "text/plain": [
       "True"
      ]
     },
     "execution_count": 29,
     "metadata": {},
     "output_type": "execute_result"
    }
   ],
   "source": [
    "# Validate weight matrix shape.\n",
    "calculated_sample_weights.shape == y_train.shape"
   ]
  },
  {
   "cell_type": "code",
   "execution_count": 30,
   "metadata": {},
   "outputs": [
    {
     "name": "stdout",
     "output_type": "stream",
     "text": [
      "Epoch 1/100\n",
      "1237/1237 [==============================] - 155s 122ms/step - loss: 0.4836 - accuracy: 0.8243 - val_loss: 0.4424 - val_accuracy: 0.8706 - lr: 1.0000e-04\n",
      "Epoch 2/100\n",
      "1237/1237 [==============================] - 149s 121ms/step - loss: 0.4413 - accuracy: 0.8437 - val_loss: 0.4146 - val_accuracy: 0.8585 - lr: 1.0000e-04\n",
      "Epoch 3/100\n",
      "1237/1237 [==============================] - 149s 121ms/step - loss: 0.4291 - accuracy: 0.8446 - val_loss: 0.4003 - val_accuracy: 0.8730 - lr: 1.0000e-04\n",
      "Epoch 4/100\n",
      "1237/1237 [==============================] - 150s 121ms/step - loss: 0.4200 - accuracy: 0.8458 - val_loss: 0.3871 - val_accuracy: 0.8663 - lr: 1.0000e-04\n",
      "Epoch 5/100\n",
      "1237/1237 [==============================] - 151s 122ms/step - loss: 0.4127 - accuracy: 0.8483 - val_loss: 0.3220 - val_accuracy: 0.8862 - lr: 1.0000e-04\n",
      "Epoch 6/100\n",
      "1237/1237 [==============================] - 151s 122ms/step - loss: 0.4066 - accuracy: 0.8501 - val_loss: 0.3830 - val_accuracy: 0.8610 - lr: 1.0000e-04\n",
      "Epoch 7/100\n",
      "1237/1237 [==============================] - 151s 122ms/step - loss: 0.4010 - accuracy: 0.8519 - val_loss: 0.4061 - val_accuracy: 0.8547 - lr: 1.0000e-04\n",
      "Epoch 8/100\n",
      "1237/1237 [==============================] - 153s 124ms/step - loss: 0.3847 - accuracy: 0.8561 - val_loss: 0.3583 - val_accuracy: 0.8764 - lr: 1.0000e-05\n",
      "Epoch 9/100\n",
      "1237/1237 [==============================] - 154s 124ms/step - loss: 0.3810 - accuracy: 0.8573 - val_loss: 0.3285 - val_accuracy: 0.8877 - lr: 1.0000e-05\n",
      "Epoch 10/100\n",
      "1237/1237 [==============================] - 152s 123ms/step - loss: 0.3778 - accuracy: 0.8608 - val_loss: 0.3437 - val_accuracy: 0.8819 - lr: 1.0000e-06\n",
      "Epoch 11/100\n",
      "1237/1237 [==============================] - 153s 124ms/step - loss: 0.3777 - accuracy: 0.8595 - val_loss: 0.3475 - val_accuracy: 0.8813 - lr: 1.0000e-06\n",
      "Epoch 12/100\n",
      "1237/1237 [==============================] - 153s 124ms/step - loss: 0.3775 - accuracy: 0.8595 - val_loss: 0.3439 - val_accuracy: 0.8814 - lr: 1.0000e-07\n",
      "Epoch 13/100\n",
      "1237/1237 [==============================] - 151s 122ms/step - loss: 0.3777 - accuracy: 0.8597 - val_loss: 0.3450 - val_accuracy: 0.8816 - lr: 1.0000e-07\n",
      "Epoch 14/100\n",
      "1237/1237 [==============================] - 149s 120ms/step - loss: 0.3787 - accuracy: 0.8594 - val_loss: 0.3453 - val_accuracy: 0.8816 - lr: 1.0000e-08\n",
      "Epoch 15/100\n",
      "1237/1237 [==============================] - 152s 123ms/step - loss: 0.3780 - accuracy: 0.8596 - val_loss: 0.3447 - val_accuracy: 0.8820 - lr: 1.0000e-08\n"
     ]
    },
    {
     "data": {
      "text/plain": [
       "<keras.callbacks.History at 0x1d84eb7df10>"
      ]
     },
     "execution_count": 30,
     "metadata": {},
     "output_type": "execute_result"
    }
   ],
   "source": [
    "# Params\n",
    "batch_size = 8\n",
    "\n",
    "# Adding callbacks.\n",
    "early_stopping = tf.keras.callbacks.EarlyStopping(monitor=\"val_loss\", patience=10, restore_best_weights=True)\n",
    "reduce_lr = tf.keras.callbacks.ReduceLROnPlateau(monitor=\"val_loss\", patience=2)\n",
    "\n",
    "# Train model.\n",
    "forecast_model.fit(x_train,\n",
    "                   y_train,\n",
    "                   epochs = 100, \n",
    "                   verbose = 1, \n",
    "                   batch_size = batch_size,\n",
    "                   validation_data = (x_val, y_val),\n",
    "                   callbacks = [early_stopping, reduce_lr],\n",
    "                   sample_weight = calculated_sample_weights\n",
    "                  )"
   ]
  },
  {
   "cell_type": "code",
   "execution_count": 31,
   "metadata": {},
   "outputs": [
    {
     "name": "stderr",
     "output_type": "stream",
     "text": [
      "WARNING:absl:Found untraced functions such as _jit_compiled_convolution_op while saving (showing 1 of 1). These functions will not be directly callable after loading.\n"
     ]
    },
    {
     "name": "stdout",
     "output_type": "stream",
     "text": [
      "INFO:tensorflow:Assets written to: Models/D02\\assets\n"
     ]
    },
    {
     "name": "stderr",
     "output_type": "stream",
     "text": [
      "INFO:tensorflow:Assets written to: Models/D02\\assets\n"
     ]
    }
   ],
   "source": [
    "# Save trained model.\n",
    "forecast_model.save('Models/D02')"
   ]
  },
  {
   "cell_type": "code",
   "execution_count": null,
   "metadata": {},
   "outputs": [],
   "source": [
    "forecast_model = tf.keras.models.load_model('Models/D02')"
   ]
  },
  {
   "cell_type": "markdown",
   "metadata": {},
   "source": [
    "#### Examine how model is working"
   ]
  },
  {
   "cell_type": "code",
   "execution_count": 32,
   "metadata": {},
   "outputs": [
    {
     "name": "stdout",
     "output_type": "stream",
     "text": [
      "1/1 [==============================] - 0s 351ms/step\n",
      "1/1 [==============================] - 0s 24ms/step\n",
      "1/1 [==============================] - 0s 25ms/step\n",
      "1/1 [==============================] - 0s 25ms/step\n",
      "1/1 [==============================] - 0s 24ms/step\n",
      "1/1 [==============================] - 0s 25ms/step\n",
      "1/1 [==============================] - 0s 25ms/step\n",
      "1/1 [==============================] - 0s 25ms/step\n",
      "1/1 [==============================] - 0s 24ms/step\n",
      "1/1 [==============================] - 0s 24ms/step\n"
     ]
    }
   ],
   "source": [
    "# Select a random example from the validation dataset.\n",
    "example = np.random.choice(range(len(x_val)), size=1)[0]\n",
    "\n",
    "# Pick the first/last ten frames from the example.\n",
    "feature_frames = x_val[example, ...]\n",
    "label_frames = y_val[example, ...]\n",
    "pred_frames = []\n",
    "\n",
    "# Predict a new set of 10 frames.\n",
    "for _ in range(10):\n",
    "    # Extract the model's prediction and post-process it.\n",
    "    new_prediction = forecast_model.predict(np.expand_dims(feature_frames, axis=0))\n",
    "    new_prediction = np.squeeze(new_prediction, axis=0)\n",
    "    predicted_frame = np.expand_dims(new_prediction[-1, ...], axis=0)\n",
    "    pred_frames.append(predicted_frame)\n",
    "    \n",
    "\n",
    "# Extend the set of prediction frames.\n",
    "pred_frames = np.concatenate(pred_frames)"
   ]
  },
  {
   "cell_type": "code",
   "execution_count": 31,
   "metadata": {},
   "outputs": [
    {
     "data": {
      "image/png": "[encoded data removed]",
      "text/plain": [
       "<Figure size 2160x576 with 30 Axes>"
      ]
     },
     "metadata": {
      "needs_background": "light"
     },
     "output_type": "display_data"
    }
   ],
   "source": [
    "# Construct a figure for the original and new frames.\n",
    "fig, axes = plt.subplots(3, 10, figsize=(30, 8))\n",
    "\n",
    "# Plot the feature frames.\n",
    "for idx, ax in enumerate(axes[0]):\n",
    "    ax.imshow(np.squeeze(feature_frames[idx][:,:,:1]), cmap=\"gray\")\n",
    "    ax.set_title(f\"F Frame {idx + 1}\")\n",
    "    ax.axis(\"off\")\n",
    "\n",
    "# Plot the label frames.\n",
    "for idx, ax in enumerate(axes[1]):\n",
    "    ax.imshow(np.squeeze(label_frames[idx]), cmap=\"gray\")\n",
    "    ax.set_title(f\"L Frame {idx + 11}\")\n",
    "    ax.axis(\"off\")\n",
    "    \n",
    "# Plot the predicted frames.\n",
    "for idx, ax in enumerate(axes[2]):\n",
    "    ax.imshow(np.squeeze(pred_frames[idx]), cmap=\"gray\")\n",
    "    ax.set_title(f\"P Frame {idx + 11}\")\n",
    "    ax.axis(\"off\")\n",
    "\n",
    "# Display the figure.\n",
    "plt.show()"
   ]
  },
  {
   "cell_type": "markdown",
   "metadata": {},
   "source": [
    "### Examing single-frame predictions"
   ]
  },
  {
   "cell_type": "code",
   "execution_count": null,
   "metadata": {},
   "outputs": [],
   "source": [
    "# Select a random example from the validation dataset.\n",
    "example = np.random.choice(range(len(x_val)), size=1)[0]\n",
    "\n",
    "# Pick the first/last ten frames from the example.\n",
    "feature_frames = x_val[example, ...]\n",
    "label_frames = y_val[example, ...]\n",
    "pred_frames = []\n",
    "\n",
    "# Predict a new set of 10 frames.\n",
    "# Extract the model's prediction and post-process it.\n",
    "new_prediction = forecast_model.predict(np.expand_dims(feature_frames, axis=0))\n",
    "new_prediction = np.squeeze(new_prediction, axis=0)\n",
    "predicted_frame = np.expand_dims(new_prediction[-1, ...], axis=0)\n",
    "pred_frames.append(predicted_frame)\n",
    "    \n",
    "\n",
    "# Extend the set of prediction frames.\n",
    "pred_frames = np.concatenate(pred_frames)"
   ]
  },
  {
   "cell_type": "code",
   "execution_count": null,
   "metadata": {},
   "outputs": [],
   "source": [
    "# Shape verification.\n",
    "label_frames.shape == pred_frames.shape"
   ]
  },
  {
   "cell_type": "code",
   "execution_count": 95,
   "metadata": {},
   "outputs": [
    {
     "data": {
      "image/png": "[encoded data removed]",
      "text/plain": [
       "<Figure size 2160x576 with 20 Axes>"
      ]
     },
     "metadata": {
      "needs_background": "light"
     },
     "output_type": "display_data"
    }
   ],
   "source": [
    "# Construct a figure for the original and new frames.\n",
    "fig, axes = plt.subplots(2, 10, figsize=(30, 8))\n",
    "\n",
    "# Plot the fire frames.\n",
    "for idx, ax in enumerate(axes[0]):\n",
    "    ax.imshow(np.squeeze(feature_frames[idx][:,:,:1]), cmap=\"gray\")\n",
    "    ax.set_title(f\"F Frame {idx + 1}\")\n",
    "    ax.axis(\"off\")\n",
    "\n",
    "# Plot the deforestation frames.\n",
    "for idx, ax in enumerate(axes[1]):\n",
    "    ax.imshow(np.squeeze(feature_frames[idx][:,:,1:2]), cmap=\"gray\")\n",
    "    ax.set_title(f\"F Frame {idx + 1}\")\n",
    "    ax.axis(\"off\")\n",
    "    \n",
    "# Display the figure.\n",
    "plt.show()"
   ]
  },
  {
   "cell_type": "code",
   "execution_count": 98,
   "metadata": {},
   "outputs": [
    {
     "data": {
      "image/png": "[encoded data removed]",
      "text/plain": [
       "<Figure size 2160x576 with 4 Axes>"
      ]
     },
     "metadata": {
      "needs_background": "light"
     },
     "output_type": "display_data"
    }
   ],
   "source": [
    "# Construct a figure for the original and new frames.\n",
    "fig, axes = plt.subplots(1, 4, figsize=(30, 8))\n",
    "\n",
    "# Plot the last feature frame.\n",
    "axes[0].imshow(np.squeeze(feature_frames[9][:,:,:1]), cmap=\"gray\")\n",
    "axes[0].set_title(f\"F Frame\")\n",
    "axes[0].axis(\"off\")\n",
    "\n",
    "# Plot the label frame.\n",
    "axes[1].imshow(np.squeeze(label_frames[0]), cmap=\"gray\")\n",
    "axes[1].set_title(f\"L Frame\")\n",
    "axes[1].axis(\"off\")\n",
    "    \n",
    "# Plot the predicted frame.\n",
    "axes[2].imshow(np.squeeze(pred_frames[0]), cmap=\"gray\")\n",
    "axes[2].set_title(f\"P Frame\")\n",
    "axes[2].axis(\"off\")\n",
    "\n",
    "# Plot binarized prediction.\n",
    "axes[3].imshow(np.squeeze(np.where(pred_frames > 0.85, 1, 0)), cmap=\"gray\")\n",
    "axes[3].set_title(f\"Binarized\")\n",
    "axes[3].axis(\"off\")\n",
    "\n",
    "# Display the figure.\n",
    "plt.show()"
   ]
  },
  {
   "cell_type": "code",
   "execution_count": 99,
   "metadata": {},
   "outputs": [
    {
     "data": {
      "image/png": "[encoded data removed]",
      "text/plain": [
       "<Figure size 2160x576 with 20 Axes>"
      ]
     },
     "metadata": {
      "needs_background": "light"
     },
     "output_type": "display_data"
    }
   ],
   "source": [
    "# Construct a figure to show all prediction thresholds.\n",
    "fig, axes = plt.subplots(2, 10, figsize=(30, 8))\n",
    "\n",
    "# Plot the frames.\n",
    "for idx, ax in enumerate(axes[0]):\n",
    "    ax.imshow(np.squeeze(np.where(pred_frames > ((idx + 1) * 0.05), 1, 0)), cmap=\"gray\")\n",
    "    ax.set_title(f\"Threshold {round((idx + 1) * 0.05, 2)}\")\n",
    "    ax.axis(\"off\")\n",
    "\n",
    "for idx, ax in enumerate(axes[1]):\n",
    "    ax.imshow(np.squeeze(np.where(pred_frames > ((idx + 11) * 0.05), 1, 0)), cmap=\"gray\")\n",
    "    ax.set_title(f\"Threshold {round((idx + 11) * 0.05, 2)}\")\n",
    "    ax.axis(\"off\")\n",
    "    \n",
    "# Display the figure.\n",
    "plt.show()"
   ]
  },
  {
   "cell_type": "code",
   "execution_count": 100,
   "metadata": {},
   "outputs": [
    {
     "data": {
      "text/plain": [
       "<matplotlib.image.AxesImage at 0x1d95e8cf490>"
      ]
     },
     "execution_count": 100,
     "metadata": {},
     "output_type": "execute_result"
    },
    {
     "data": {
      "image/png": "[encoded data removed]",
      "text/plain": [
       "<Figure size 432x288 with 1 Axes>"
      ]
     },
     "metadata": {
      "needs_background": "light"
     },
     "output_type": "display_data"
    }
   ],
   "source": [
    "plt.imshow((np.where(pred_frames > 0.5, 1, 0))[0], cmap=\"gray\")"
   ]
  },
  {
   "cell_type": "code",
   "execution_count": 101,
   "metadata": {},
   "outputs": [
    {
     "data": {
      "text/plain": [
       "<matplotlib.image.AxesImage at 0x1d9c5412a90>"
      ]
     },
     "execution_count": 101,
     "metadata": {},
     "output_type": "execute_result"
    },
    {
     "data": {
      "image/png": "[encoded data removed]",
      "text/plain": [
       "<Figure size 432x288 with 1 Axes>"
      ]
     },
     "metadata": {
      "needs_background": "light"
     },
     "output_type": "display_data"
    }
   ],
   "source": [
    "plt.imshow(label_frames[0], cmap=\"gray\")"
   ]
  },
  {
   "cell_type": "code",
   "execution_count": 102,
   "metadata": {},
   "outputs": [
    {
     "data": {
      "text/plain": [
       "[(0.0, 0.017578125),\n",
       " (0.05, 0.018848167539267015),\n",
       " (0.1, 0.023653088042049936),\n",
       " (0.15, 0.02689873417721519),\n",
       " (0.2, 0.03148148148148148),\n",
       " (0.25, 0.037694013303769404),\n",
       " (0.3, 0.0480225988700565),\n",
       " (0.35, 0.05329153605015674),\n",
       " (0.4, 0.05423728813559322),\n",
       " (0.45, 0.05639097744360902),\n",
       " (0.5, 0.05785123966942149),\n",
       " (0.55, 0.06103286384976526),\n",
       " (0.6, 0.06417112299465241),\n",
       " (0.65, 0.07228915662650602),\n",
       " (0.7, 0.08633093525179857),\n",
       " (0.75, 0.08849557522123894),\n",
       " (0.8, 0.10975609756097561),\n",
       " (0.85, 0.15789473684210525),\n",
       " (0.9, 0.1724137931034483),\n",
       " (0.95, 0.0),\n",
       " (1.0, 0.0)]"
      ]
     },
     "execution_count": 102,
     "metadata": {},
     "output_type": "execute_result"
    }
   ],
   "source": [
    "# Get first sample IoU\n",
    "thresholds = [x/100 for x in range(0,105,5)]\n",
    "ious = []\n",
    "for t in thresholds:\n",
    "    intersection = np.logical_and(np.where(pred_frames > t, 1, 0), label_frames[0])\n",
    "    union = np.logical_or(np.where(pred_frames > t, 1, 0), label_frames[0])\n",
    "    iou_score = np.sum(intersection) / np.sum(union)\n",
    "    ious.append((t,iou_score))\n",
    "ious"
   ]
  },
  {
   "cell_type": "markdown",
   "metadata": {},
   "source": [
    "### Get IoU for full prediction set."
   ]
  },
  {
   "cell_type": "code",
   "execution_count": 83,
   "metadata": {},
   "outputs": [
    {
     "name": "stdout",
     "output_type": "stream",
     "text": [
      "60/60 [==============================] - 6s 95ms/step\n"
     ]
    }
   ],
   "source": [
    "# Predict on everything.\n",
    "all_preds = forecast_model.predict(x_val)"
   ]
  },
  {
   "cell_type": "code",
   "execution_count": 103,
   "metadata": {},
   "outputs": [
    {
     "data": {
      "text/plain": [
       "[(0.0, 0.008262786704784437),\n",
       " (0.05, 0.008995538351861466),\n",
       " (0.1, 0.011454996975156879),\n",
       " (0.15, 0.014522552984091445),\n",
       " (0.2, 0.01929373954505341),\n",
       " (0.25, 0.02649235170953848),\n",
       " (0.3, 0.033582551839050526),\n",
       " (0.35, 0.03914447134786118),\n",
       " (0.4, 0.0434013984474688),\n",
       " (0.45, 0.04717723516066747),\n",
       " (0.5, 0.051038014137029),\n",
       " (0.55, 0.05503769770939712),\n",
       " (0.6, 0.059228932842189407),\n",
       " (0.65, 0.06418160568414413),\n",
       " (0.7, 0.0701578660860098),\n",
       " (0.75, 0.07738068930159375),\n",
       " (0.8, 0.08659474348674395),\n",
       " (0.85, 0.09602373887240356),\n",
       " (0.9, 0.09187171012363815),\n",
       " (0.95, 0.030372681004761124),\n",
       " (1.0, 0.0)]"
      ]
     },
     "execution_count": 103,
     "metadata": {},
     "output_type": "execute_result"
    }
   ],
   "source": [
    "# Get IoU.\n",
    "thresholds = [x/100 for x in range(0,105,5)]\n",
    "ious = []\n",
    "for t in thresholds:\n",
    "    intersection = np.logical_and(np.where(all_preds > t, 1, 0), y_val)\n",
    "    union = np.logical_or(np.where(all_preds > t, 1, 0), y_val)\n",
    "    iou_score = np.sum(intersection) / np.sum(union)\n",
    "    ious.append((t,iou_score))\n",
    "ious"
   ]
  },
  {
   "cell_type": "code",
   "execution_count": 116,
   "metadata": {},
   "outputs": [],
   "source": [
    "# Get DataFrame of all prediction grades.\n",
    "rows = []\n",
    "for s in range(0,len(all_preds)): \n",
    "    thresholds = [x/100 for x in range(0,105,5)]\n",
    "    ious = []\n",
    "    for t in thresholds:\n",
    "        intersection = np.logical_and(np.where(all_preds[s] > t, 1, 0), y_val[s])\n",
    "        union = np.logical_or(np.where(all_preds[s] > t, 1, 0), y_val[s])\n",
    "        if np.sum(union) > 0:\n",
    "            iou_score = np.sum(intersection) / np.sum(union)\n",
    "        else:\n",
    "            iou_score = 0\n",
    "        ious.append(iou_score)\n",
    "    rows.append(ious)\n",
    "iou_df = pd.DataFrame(rows)"
   ]
  },
  {
   "cell_type": "markdown",
   "metadata": {},
   "source": [
    "### Examining Good Predictions"
   ]
  },
  {
   "cell_type": "code",
   "execution_count": 118,
   "metadata": {},
   "outputs": [
    {
     "data": {
      "text/plain": [
       "0     0.131836\n",
       "1     0.139607\n",
       "2     0.149714\n",
       "3     0.160331\n",
       "4     0.164093\n",
       "5     0.210884\n",
       "6     0.234875\n",
       "7     0.295082\n",
       "8     0.315789\n",
       "9     0.330275\n",
       "10    0.337500\n",
       "11    0.368421\n",
       "12    0.466667\n",
       "13    0.423077\n",
       "14    0.500000\n",
       "15    1.000000\n",
       "16    1.000000\n",
       "17    0.714286\n",
       "18    1.000000\n",
       "19    1.000000\n",
       "20    0.000000\n",
       "dtype: float64"
      ]
     },
     "execution_count": 118,
     "metadata": {},
     "output_type": "execute_result"
    }
   ],
   "source": [
    "iou_df.max()"
   ]
  },
  {
   "cell_type": "code",
   "execution_count": 123,
   "metadata": {},
   "outputs": [
    {
     "data": {
      "text/plain": [
       "589     1.000000\n",
       "693     0.578947\n",
       "273     0.500000\n",
       "730     0.470588\n",
       "1012    0.461538\n",
       "          ...   \n",
       "829     0.000000\n",
       "828     0.000000\n",
       "826     0.000000\n",
       "824     0.000000\n",
       "1901    0.000000\n",
       "Name: 15, Length: 1902, dtype: float64"
      ]
     },
     "execution_count": 123,
     "metadata": {},
     "output_type": "execute_result"
    }
   ],
   "source": [
    "iou_df[15].sort_values(ascending = False)"
   ]
  },
  {
   "cell_type": "code",
   "execution_count": 162,
   "metadata": {},
   "outputs": [
    {
     "data": {
      "image/png": "[encoded data removed]",
      "text/plain": [
       "<Figure size 1800x1440 with 25 Axes>"
      ]
     },
     "metadata": {
      "needs_background": "light"
     },
     "output_type": "display_data"
    }
   ],
   "source": [
    "# Construct a figure for the original and new frames.\n",
    "fig, all_axes = plt.subplots(5, 5, figsize=(25, 20))\n",
    "\n",
    "# List of samples to check:\n",
    "tgts = [589, 693, 273, 730, 1012]\n",
    "x = -1\n",
    "\n",
    "for axes in all_axes:\n",
    "    x += 1\n",
    "    \n",
    "    # Plot deforestaion.\n",
    "    axes[0].imshow(np.squeeze(x_val[tgts[x]][9][:,:,1:2]), cmap=\"Greens_r\")\n",
    "    axes[0].set_title(f\"D Frame\")\n",
    "    axes[0].axis(\"off\")\n",
    "    \n",
    "    # Plot the last feature frame.\n",
    "    axes[1].imshow(np.squeeze(x_val[tgts[x]][9][:,:,:1]), cmap=\"gray\")\n",
    "    axes[1].set_title(f\"F Frame\")\n",
    "    axes[1].axis(\"off\")\n",
    "\n",
    "    # Plot the label frame.\n",
    "    axes[2].imshow(np.squeeze(y_val[tgts[x]]), cmap=\"gray\")\n",
    "    axes[2].set_title(f\"L Frame\")\n",
    "    axes[2].axis(\"off\")\n",
    "\n",
    "    # Plot the predicted frame.\n",
    "    axes[3].imshow(np.squeeze(all_preds[tgts[x]]), cmap=\"gray\")\n",
    "    axes[3].set_title(f\"P Frame\")\n",
    "    axes[3].axis(\"off\")\n",
    "\n",
    "    # Plot binarized prediction.\n",
    "    axes[4].imshow(np.squeeze(np.where(all_preds[tgts[x]] > 0.75, 1, 0)), cmap=\"gray\")\n",
    "    axes[4].set_title(f\"Binarized\")\n",
    "    axes[4].axis(\"off\")\n",
    "\n",
    "# Display the figure.\n",
    "plt.show()"
   ]
  },
  {
   "cell_type": "markdown",
   "metadata": {},
   "source": [
    "### Examining Pretty Bad Predictions"
   ]
  },
  {
   "cell_type": "code",
   "execution_count": 154,
   "metadata": {},
   "outputs": [
    {
     "data": {
      "text/plain": [
       "239     0.020202\n",
       "723     0.020408\n",
       "212     0.020408\n",
       "437     0.020725\n",
       "1393    0.020833\n",
       "          ...   \n",
       "1012    0.461538\n",
       "730     0.470588\n",
       "273     0.500000\n",
       "693     0.578947\n",
       "589     1.000000\n",
       "Name: 15, Length: 868, dtype: float64"
      ]
     },
     "execution_count": 154,
     "metadata": {},
     "output_type": "execute_result"
    }
   ],
   "source": [
    "iou_df[iou_df[15] > 0.02][15].sort_values()"
   ]
  },
  {
   "cell_type": "code",
   "execution_count": 161,
   "metadata": {},
   "outputs": [
    {
     "data": {
      "image/png": "[encoded data removed]",
      "text/plain": [
       "<Figure size 1800x1800 with 25 Axes>"
      ]
     },
     "metadata": {
      "needs_background": "light"
     },
     "output_type": "display_data"
    }
   ],
   "source": [
    "# Construct a figure for the original and new frames.\n",
    "fig, all_axes = plt.subplots(5, 5, figsize=(25, 25))\n",
    "\n",
    "# List of samples to check:\n",
    "tgts = [239, 723, 212, 437, 1393]\n",
    "x = -1\n",
    "\n",
    "for axes in all_axes:\n",
    "    x += 1\n",
    "    \n",
    "    # Plot deforestaion.\n",
    "    axes[0].imshow(np.squeeze(x_val[tgts[x]][9][:,:,1:2]), cmap=\"Greens_r\")\n",
    "    axes[0].set_title(f\"D Frame\")\n",
    "    axes[0].axis(\"off\")\n",
    "    \n",
    "    # Plot the last feature frame.\n",
    "    axes[1].imshow(np.squeeze(x_val[tgts[x]][9][:,:,:1]), cmap=\"gray\")\n",
    "    axes[1].set_title(f\"F Frame\")\n",
    "    axes[1].axis(\"off\")\n",
    "\n",
    "    # Plot the label frame.\n",
    "    axes[2].imshow(np.squeeze(y_val[tgts[x]]), cmap=\"gray\")\n",
    "    axes[2].set_title(f\"L Frame\")\n",
    "    axes[2].axis(\"off\")\n",
    "\n",
    "    # Plot the predicted frame.\n",
    "    axes[3].imshow(np.squeeze(all_preds[tgts[x]]), cmap=\"gray\")\n",
    "    axes[3].set_title(f\"P Frame\")\n",
    "    axes[3].axis(\"off\")\n",
    "\n",
    "    # Plot binarized prediction.\n",
    "    axes[4].imshow(np.squeeze(np.where(all_preds[tgts[x]] > 0.75, 1, 0)), cmap=\"gray\")\n",
    "    axes[4].set_title(f\"Binarized\")\n",
    "    axes[4].axis(\"off\")\n",
    "\n",
    "# Display the figure.\n",
    "plt.show()"
   ]
  }
 ],
 "metadata": {
  "kernelspec": {
   "display_name": "Python 3 (ipykernel)",
   "language": "python",
   "name": "python3"
  },
  "language_info": {
   "codemirror_mode": {
    "name": "ipython",
    "version": 3
   },
   "file_extension": ".py",
   "mimetype": "text/x-python",
   "name": "python",
   "nbconvert_exporter": "python",
   "pygments_lexer": "ipython3",
   "version": "3.9.7"
  }
 },
 "nbformat": 4,
 "nbformat_minor": 4
}
