{
 "cells": [
  {
   "cell_type": "markdown",
   "metadata": {},
   "source": [
    "### Import block"
   ]
  },
  {
   "cell_type": "code",
   "execution_count": 1,
   "metadata": {},
   "outputs": [],
   "source": [
    "import pandas as pd\n",
    "import numpy as np\n",
    "import tensorflow as tf\n",
    "import matplotlib.pyplot as plt\n",
    "\n",
    "from tensorflow.keras import layers\n",
    "from tensorflow.keras.models import Sequential\n",
    "from tensorflow.keras.initializers import Constant\n",
    "\n",
    "from sklearn.utils import class_weight\n",
    "from skimage.metrics import structural_similarity as ssim\n",
    "from skimage.metrics import mean_squared_error\n",
    "\n",
    "from math import log10, sqrt\n",
    "\n",
    "%matplotlib inline"
   ]
  },
  {
   "cell_type": "code",
   "execution_count": 2,
   "metadata": {},
   "outputs": [
    {
     "data": {
      "text/plain": [
       "[PhysicalDevice(name='/physical_device:GPU:0', device_type='GPU')]"
      ]
     },
     "execution_count": 2,
     "metadata": {},
     "output_type": "execute_result"
    }
   ],
   "source": [
    "# Check for available GPU.\n",
    "tf.config.list_physical_devices('GPU')"
   ]
  },
  {
   "cell_type": "markdown",
   "metadata": {},
   "source": [
    "### Function definitions"
   ]
  },
  {
   "cell_type": "code",
   "execution_count": 3,
   "metadata": {},
   "outputs": [],
   "source": [
    "# Loader functions\n",
    "# Inspiration: https://towardsdatascience.com/writing-custom-keras-generators-fe815d992c5a\n",
    "\n",
    "def get_input(path):\n",
    "    # Load array.\n",
    "    t_input = np.load(path)\n",
    "    \n",
    "    # Pad to even number of pixels\n",
    "    #t_input = np.pad(t_input, [(0,0),(0,1),(0,1)])\n",
    "    # Resize to include a channel dimension.\n",
    "    #t_input = tf.expand_dims(t_input, axis = -1)\n",
    "    \n",
    "    # Put channel dim at the end.\n",
    "    t_input = np.moveaxis(t_input, 1, -1)\n",
    "    \n",
    "    return t_input\n",
    "\n",
    "def get_output(path):\n",
    "    # Load array.\n",
    "    t_output = np.load(path)\n",
    "    \n",
    "    # Pad to even number of pixels\n",
    "    #t_output = np.pad(t_output, [(0,0),(0,1),(0,1)])\n",
    "    # Resize to include a channel dimension.\n",
    "    #t_output = tf.expand_dims(t_output, axis = -1)\n",
    "    \n",
    "    # Put channel dim at the end.\n",
    "    t_output = np.moveaxis(t_output, 1, -1)\n",
    "    return t_output\n",
    "\n",
    "def data_generator(samples, batch_size = 64):\n",
    "    \n",
    "    while True:\n",
    "        # Select files (paths/indices) for the batch\n",
    "        batch_samples  = np.random.choice(a = samples.index, \n",
    "                                      size = batch_size)\n",
    "        batch_input  = []\n",
    "        batch_output = [] \n",
    "\n",
    "        # Read in each input, perform preprocessing and get labels\n",
    "        for sample in batch_samples:\n",
    "          input = get_input(samples.loc[sample].features)\n",
    "          output = get_output(samples.loc[sample].labels)\n",
    "\n",
    "          batch_input += [input]\n",
    "          batch_output += [output]\n",
    "        # Return a tuple of (input, output) to feed the network\n",
    "        batch_x = np.array(batch_input)\n",
    "        batch_y = np.array(batch_output)\n",
    "        \n",
    "        yield(batch_x, batch_y)\n"
   ]
  },
  {
   "cell_type": "code",
   "execution_count": 4,
   "metadata": {},
   "outputs": [],
   "source": [
    "### Source: https://www.geeksforgeeks.org/python-peak-signal-to-noise-ratio-psnr/\n",
    "# Modified to 0-1 scale instead of 0-100\n",
    "def PSNR(original, compressed):\n",
    "    mse = np.mean((original - compressed) ** 2)\n",
    "    if(mse == 0):  # MSE is zero means no noise is present in the signal .\n",
    "                  # Therefore PSNR have no importance.\n",
    "        return 1\n",
    "    max_pixel = 1\n",
    "    psnr = 20 * log10(max_pixel / sqrt(mse))\n",
    "    return psnr/100"
   ]
  },
  {
   "cell_type": "markdown",
   "metadata": {},
   "source": [
    "### Load data"
   ]
  },
  {
   "cell_type": "code",
   "execution_count": 5,
   "metadata": {},
   "outputs": [
    {
     "data": {
      "text/plain": [
       "TensorShape([1, 10, 32, 32, 2])"
      ]
     },
     "execution_count": 5,
     "metadata": {},
     "output_type": "execute_result"
    }
   ],
   "source": [
    "# Get data from one chip\n",
    "m = pd.read_csv('Sample_CLSTM_Dataset/train/meta.csv')\n",
    "sample_input = np.load('Sample_CLSTM_Dataset/train/features/119179.npy')\n",
    "\n",
    "# Pad to even number of pixels\n",
    "#a = np.pad(sample_input, [(0,0),(0,1),(0,1)])\n",
    "# Resize to include a channel dimension.\n",
    "#a = tf.expand_dims(a, axis = -1)\n",
    "# Resize to include a batch dimension.\n",
    "#a = tf.expand_dims(a, axis = 0)\n",
    "\n",
    "\n",
    "# Move channel axis to the end\n",
    "a = np.moveaxis(sample_input, 1, -1)\n",
    "\n",
    "# Resize to include a batch dimension.\n",
    "a = tf.expand_dims(a, axis = 0)\n",
    "\n",
    "# Display shape for verification.\n",
    "a.shape"
   ]
  },
  {
   "cell_type": "markdown",
   "metadata": {},
   "source": [
    "### Model assembly"
   ]
  },
  {
   "cell_type": "code",
   "execution_count": 6,
   "metadata": {},
   "outputs": [],
   "source": [
    "# Inspired by: https://keras.io/examples/vision/conv_lstm/?fbclid=IwAR1QSJmF0bcz5pklHDHwl4mUi8inzHN4m8Zk6OpvVJizqDDv2-MKMq3LlJ8\n",
    "\n",
    "inputs = layers.Input(shape=((10,32,32,2)))\n",
    "x = layers.ConvLSTM2D(\n",
    "    filters=128,\n",
    "    kernel_size=(5, 5),\n",
    "    padding='same',\n",
    "    return_sequences=True,\n",
    "    activation='relu',\n",
    "    recurrent_dropout = 0.1\n",
    ")(inputs)\n",
    "x = layers.BatchNormalization()(x)\n",
    "x = layers.ConvLSTM2D(\n",
    "    filters=128,\n",
    "    kernel_size=(3, 3),\n",
    "    padding='same',\n",
    "    return_sequences=False,\n",
    "    activation='relu',\n",
    "    recurrent_dropout = 0.1\n",
    ")(x)\n",
    "x = layers.BatchNormalization()(x)\n",
    "x = layers.ConvLSTM2D(\n",
    "    filters=128,\n",
    "    kernel_size=(3, 3),\n",
    "    padding='same',\n",
    "    return_sequences=False,\n",
    "    activation='relu',\n",
    "    recurrent_dropout = 0.1\n",
    ")(tf.expand_dims(x, axis = 1))\n",
    "x = layers.BatchNormalization()(x)\n",
    "x = layers.ConvLSTM2D(\n",
    "    filters=128,\n",
    "    kernel_size=(1, 1),\n",
    "    padding='same',\n",
    "    return_sequences=False,\n",
    "    activation='relu',\n",
    "    recurrent_dropout = 0.1\n",
    ")(tf.expand_dims(x, axis = 1))\n",
    "outputs = layers.Conv3D(\n",
    "    filters=1, kernel_size=(3, 3, 3), activation='sigmoid', padding='same'\n",
    ")(tf.expand_dims(x, axis = 1))"
   ]
  },
  {
   "cell_type": "code",
   "execution_count": 7,
   "metadata": {},
   "outputs": [],
   "source": [
    "forecast_model = tf.keras.Model(inputs, outputs, name=\"Conv_LSTM\")"
   ]
  },
  {
   "cell_type": "code",
   "execution_count": 8,
   "metadata": {},
   "outputs": [
    {
     "name": "stdout",
     "output_type": "stream",
     "text": [
      "1/1 [==============================] - 2s 2s/step\n"
     ]
    },
    {
     "data": {
      "text/plain": [
       "(1, 1, 32, 32, 1)"
      ]
     },
     "execution_count": 8,
     "metadata": {},
     "output_type": "execute_result"
    }
   ],
   "source": [
    "# Verify output shape.\n",
    "forecast_model.predict(a).shape"
   ]
  },
  {
   "cell_type": "code",
   "execution_count": 9,
   "metadata": {},
   "outputs": [
    {
     "name": "stdout",
     "output_type": "stream",
     "text": [
      "Model: \"Conv_LSTM\"\n",
      "_________________________________________________________________\n",
      " Layer (type)                Output Shape              Param #   \n",
      "=================================================================\n",
      " input_1 (InputLayer)        [(None, 10, 32, 32, 2)]   0         \n",
      "                                                                 \n",
      " conv_lstm2d (ConvLSTM2D)    (None, 10, 32, 32, 128)   1664512   \n",
      "                                                                 \n",
      " batch_normalization (BatchN  (None, 10, 32, 32, 128)  512       \n",
      " ormalization)                                                   \n",
      "                                                                 \n",
      " conv_lstm2d_1 (ConvLSTM2D)  (None, 32, 32, 128)       1180160   \n",
      "                                                                 \n",
      " batch_normalization_1 (Batc  (None, 32, 32, 128)      512       \n",
      " hNormalization)                                                 \n",
      "                                                                 \n",
      " tf.expand_dims (TFOpLambda)  (None, 1, 32, 32, 128)   0         \n",
      "                                                                 \n",
      " conv_lstm2d_2 (ConvLSTM2D)  (None, 32, 32, 128)       1180160   \n",
      "                                                                 \n",
      " batch_normalization_2 (Batc  (None, 32, 32, 128)      512       \n",
      " hNormalization)                                                 \n",
      "                                                                 \n",
      " tf.expand_dims_1 (TFOpLambd  (None, 1, 32, 32, 128)   0         \n",
      " a)                                                              \n",
      "                                                                 \n",
      " conv_lstm2d_3 (ConvLSTM2D)  (None, 32, 32, 128)       131584    \n",
      "                                                                 \n",
      " tf.expand_dims_2 (TFOpLambd  (None, 1, 32, 32, 128)   0         \n",
      " a)                                                              \n",
      "                                                                 \n",
      " conv3d (Conv3D)             (None, 1, 32, 32, 1)      3457      \n",
      "                                                                 \n",
      "=================================================================\n",
      "Total params: 4,161,409\n",
      "Trainable params: 4,160,641\n",
      "Non-trainable params: 768\n",
      "_________________________________________________________________\n"
     ]
    }
   ],
   "source": [
    "# Display model details.\n",
    "forecast_model.summary()"
   ]
  },
  {
   "cell_type": "code",
   "execution_count": 10,
   "metadata": {},
   "outputs": [],
   "source": [
    "# Compile model.\n",
    "opt = tf.keras.optimizers.Adam(learning_rate=0.0001)\n",
    "loss_fn = tf.keras.losses.BinaryCrossentropy()\n",
    "forecast_model.compile(loss=loss_fn, optimizer=opt, metrics=['accuracy'])"
   ]
  },
  {
   "cell_type": "code",
   "execution_count": 11,
   "metadata": {},
   "outputs": [],
   "source": [
    "# Data loaders.\n",
    "batch_size = 64\n",
    "meta_t = pd.read_csv('Sample_CLSTM_Dataset/train/meta.csv')\n",
    "meta_v = pd.read_csv('Sample_CLSTM_Dataset/val/meta.csv')\n",
    "#t_gen = data_generator(meta_t, batch_size = batch_size)\n",
    "#v_gen = data_generator(meta_v, batch_size = batch_size)"
   ]
  },
  {
   "cell_type": "code",
   "execution_count": 12,
   "metadata": {},
   "outputs": [],
   "source": [
    "# Trying new approach to build dataset.\n",
    "x_train, y_train, x_val, y_val = [],[],[],[]\n",
    "\n",
    "# Iterate over dataset.\n",
    "for x in range(0,len(meta_t)):\n",
    "    x_train.append(np.load(meta_t.iloc[x].features))\n",
    "    y_train.append(np.load(meta_t.iloc[x].labels))\n",
    "for x in range(0,len(meta_v)):\n",
    "    x_val.append(np.load(meta_v.iloc[x].features))\n",
    "    y_val.append(np.load(meta_v.iloc[x].labels))\n",
    "    \n",
    "# Stack layers.\n",
    "x_train = np.stack(x_train)\n",
    "y_train = np.stack(y_train)\n",
    "x_val = np.stack(x_val)\n",
    "y_val = np.stack(y_val)\n",
    "\n",
    "# Convert values > 1 to 1.\n",
    "x_train = np.minimum(x_train,1)\n",
    "y_train = np.minimum(y_train,1)\n",
    "x_val = np.minimum(x_val,1)\n",
    "y_val = np.minimum(y_val,1)\n",
    "\n",
    "# Move channel dims to last.\n",
    "x_train = np.moveaxis(x_train, 2, -1)\n",
    "y_train = tf.expand_dims(y_train, axis = -1).numpy()\n",
    "x_val = np.moveaxis(x_val, 2, -1)\n",
    "y_val = tf.expand_dims(y_val, axis = -1).numpy()"
   ]
  },
  {
   "cell_type": "code",
   "execution_count": 13,
   "metadata": {},
   "outputs": [],
   "source": [
    "# Experiment: modify output to single frame.\n",
    "y_train = y_train[:,:1]\n",
    "y_val = y_val[:,:1]"
   ]
  },
  {
   "cell_type": "code",
   "execution_count": 14,
   "metadata": {},
   "outputs": [
    {
     "data": {
      "text/plain": [
       "((9894, 10, 32, 32, 2),\n",
       " (9894, 1, 32, 32, 1),\n",
       " (1902, 10, 32, 32, 2),\n",
       " (1902, 1, 32, 32, 1))"
      ]
     },
     "execution_count": 14,
     "metadata": {},
     "output_type": "execute_result"
    }
   ],
   "source": [
    "x_train.shape, y_train.shape, x_val.shape, y_val.shape"
   ]
  },
  {
   "cell_type": "code",
   "execution_count": 15,
   "metadata": {},
   "outputs": [],
   "source": [
    "# Solution for problem with class_weights not working with 3D outputs in tensorflow.\n",
    "# From: https://github.com/keras-team/keras/issues/3653\n",
    "def generate_sample_weights(training_data, class_weights): \n",
    "    #replaces values for up to 3 classes with the values from class_weights#\n",
    "    sample_weights = [np.where(y==0,class_weights[0],\n",
    "                        np.where(y==1,class_weights[1],\n",
    "                        y)) for y in training_data]\n",
    "    return np.asarray(sample_weights)"
   ]
  },
  {
   "cell_type": "code",
   "execution_count": 16,
   "metadata": {},
   "outputs": [
    {
     "name": "stderr",
     "output_type": "stream",
     "text": [
      "C:\\Users\\covad\\anaconda3\\lib\\site-packages\\sklearn\\utils\\validation.py:70: FutureWarning: Pass classes=[0, 1], y=[0. 0. 0. ... 0. 0. 0.] as keyword args. From version 1.0 (renaming of 0.25) passing these as positional arguments will result in an error\n",
      "  warnings.warn(f\"Pass {args_msg} as keyword args. From version \"\n"
     ]
    },
    {
     "data": {
      "text/plain": [
       "array([ 0.50664783, 38.10623077])"
      ]
     },
     "execution_count": 16,
     "metadata": {},
     "output_type": "execute_result"
    }
   ],
   "source": [
    "# Get class weights for weighted binary cross entropy loss.\n",
    "weights = class_weight.compute_class_weight('balanced',\n",
    "                                            [0,1],\n",
    "                                            y_train.flatten())\n",
    "# Examine weights.\n",
    "weights"
   ]
  },
  {
   "cell_type": "code",
   "execution_count": 17,
   "metadata": {},
   "outputs": [],
   "source": [
    "calculated_sample_weights = generate_sample_weights(y_train, weights)"
   ]
  },
  {
   "cell_type": "code",
   "execution_count": 18,
   "metadata": {},
   "outputs": [],
   "source": [
    "# Move numpy objects to tensors.\n",
    "x_train = tf.convert_to_tensor(x_train)\n",
    "y_train = tf.convert_to_tensor(y_train)\n",
    "x_val = tf.convert_to_tensor(x_val)\n",
    "y_val = tf.convert_to_tensor(y_val)\n",
    "calculated_sample_weights = tf.convert_to_tensor(calculated_sample_weights)"
   ]
  },
  {
   "cell_type": "code",
   "execution_count": 19,
   "metadata": {},
   "outputs": [
    {
     "data": {
      "text/plain": [
       "True"
      ]
     },
     "execution_count": 19,
     "metadata": {},
     "output_type": "execute_result"
    }
   ],
   "source": [
    "# Validate weight matrix shape.\n",
    "calculated_sample_weights.shape == y_train.shape"
   ]
  },
  {
   "cell_type": "code",
   "execution_count": 20,
   "metadata": {},
   "outputs": [
    {
     "name": "stdout",
     "output_type": "stream",
     "text": [
      "Epoch 1/100\n",
      "1237/1237 [==============================] - 274s 216ms/step - loss: 0.4685 - accuracy: 0.8219 - val_loss: 0.4114 - val_accuracy: 0.8634 - lr: 1.0000e-04\n",
      "Epoch 2/100\n",
      "1237/1237 [==============================] - 267s 215ms/step - loss: 0.4227 - accuracy: 0.8343 - val_loss: 0.3875 - val_accuracy: 0.8629 - lr: 1.0000e-04\n",
      "Epoch 3/100\n",
      "1237/1237 [==============================] - 266s 215ms/step - loss: 0.4110 - accuracy: 0.8374 - val_loss: 0.4142 - val_accuracy: 0.8455 - lr: 1.0000e-04\n",
      "Epoch 4/100\n",
      "1237/1237 [==============================] - 266s 215ms/step - loss: 0.4013 - accuracy: 0.8419 - val_loss: 0.3459 - val_accuracy: 0.8820 - lr: 1.0000e-04\n",
      "Epoch 5/100\n",
      "1237/1237 [==============================] - 266s 215ms/step - loss: 0.3882 - accuracy: 0.8455 - val_loss: 0.3571 - val_accuracy: 0.8630 - lr: 1.0000e-04\n",
      "Epoch 6/100\n",
      "1237/1237 [==============================] - 266s 215ms/step - loss: 0.3766 - accuracy: 0.8484 - val_loss: 0.3356 - val_accuracy: 0.8764 - lr: 1.0000e-04\n",
      "Epoch 7/100\n",
      "1237/1237 [==============================] - 266s 215ms/step - loss: 0.3617 - accuracy: 0.8528 - val_loss: 0.3258 - val_accuracy: 0.8775 - lr: 1.0000e-04\n",
      "Epoch 8/100\n",
      "1237/1237 [==============================] - 266s 215ms/step - loss: 0.3449 - accuracy: 0.8580 - val_loss: 0.3107 - val_accuracy: 0.8875 - lr: 1.0000e-04\n",
      "Epoch 9/100\n",
      "1237/1237 [==============================] - 269s 217ms/step - loss: 0.3269 - accuracy: 0.8634 - val_loss: 0.3139 - val_accuracy: 0.8792 - lr: 1.0000e-04\n",
      "Epoch 10/100\n",
      "1237/1237 [==============================] - 274s 221ms/step - loss: 0.3104 - accuracy: 0.8687 - val_loss: 0.2562 - val_accuracy: 0.9044 - lr: 1.0000e-04\n",
      "Epoch 11/100\n",
      "1237/1237 [==============================] - 266s 215ms/step - loss: 0.2946 - accuracy: 0.8749 - val_loss: 0.2661 - val_accuracy: 0.8906 - lr: 1.0000e-04\n",
      "Epoch 12/100\n",
      "1237/1237 [==============================] - 266s 215ms/step - loss: 0.2813 - accuracy: 0.8799 - val_loss: 0.2553 - val_accuracy: 0.9028 - lr: 1.0000e-04\n",
      "Epoch 13/100\n",
      "1237/1237 [==============================] - 266s 215ms/step - loss: 0.2668 - accuracy: 0.8858 - val_loss: 0.2331 - val_accuracy: 0.9133 - lr: 1.0000e-04\n",
      "Epoch 14/100\n",
      "1237/1237 [==============================] - 268s 217ms/step - loss: 0.2519 - accuracy: 0.8917 - val_loss: 0.2397 - val_accuracy: 0.9112 - lr: 1.0000e-04\n",
      "Epoch 15/100\n",
      "1237/1237 [==============================] - 268s 217ms/step - loss: 0.2433 - accuracy: 0.8962 - val_loss: 0.2678 - val_accuracy: 0.9008 - lr: 1.0000e-04\n",
      "Epoch 16/100\n",
      "1237/1237 [==============================] - 268s 217ms/step - loss: 0.2163 - accuracy: 0.9056 - val_loss: 0.2096 - val_accuracy: 0.9244 - lr: 1.0000e-05\n",
      "Epoch 17/100\n",
      "1237/1237 [==============================] - 268s 216ms/step - loss: 0.2078 - accuracy: 0.9113 - val_loss: 0.2123 - val_accuracy: 0.9243 - lr: 1.0000e-05\n",
      "Epoch 18/100\n",
      "1237/1237 [==============================] - 269s 218ms/step - loss: 0.2037 - accuracy: 0.9126 - val_loss: 0.1978 - val_accuracy: 0.9303 - lr: 1.0000e-05\n",
      "Epoch 19/100\n",
      "1237/1237 [==============================] - 274s 222ms/step - loss: 0.1998 - accuracy: 0.9147 - val_loss: 0.2025 - val_accuracy: 0.9277 - lr: 1.0000e-05\n",
      "Epoch 20/100\n",
      "1237/1237 [==============================] - 276s 223ms/step - loss: 0.1974 - accuracy: 0.9156 - val_loss: 0.2006 - val_accuracy: 0.9283 - lr: 1.0000e-05\n",
      "Epoch 21/100\n",
      "1237/1237 [==============================] - 277s 224ms/step - loss: 0.1925 - accuracy: 0.9172 - val_loss: 0.1914 - val_accuracy: 0.9320 - lr: 1.0000e-06\n",
      "Epoch 22/100\n",
      "1237/1237 [==============================] - 276s 223ms/step - loss: 0.1918 - accuracy: 0.9180 - val_loss: 0.1931 - val_accuracy: 0.9319 - lr: 1.0000e-06\n",
      "Epoch 23/100\n",
      "1237/1237 [==============================] - 277s 224ms/step - loss: 0.1922 - accuracy: 0.9181 - val_loss: 0.1935 - val_accuracy: 0.9321 - lr: 1.0000e-06\n",
      "Epoch 24/100\n",
      "1237/1237 [==============================] - 278s 225ms/step - loss: 0.1909 - accuracy: 0.9181 - val_loss: 0.1968 - val_accuracy: 0.9312 - lr: 1.0000e-07\n",
      "Epoch 25/100\n",
      "1237/1237 [==============================] - 276s 223ms/step - loss: 0.1908 - accuracy: 0.9183 - val_loss: 0.1942 - val_accuracy: 0.9320 - lr: 1.0000e-07\n",
      "Epoch 26/100\n",
      "1237/1237 [==============================] - 277s 224ms/step - loss: 0.1913 - accuracy: 0.9184 - val_loss: 0.1951 - val_accuracy: 0.9318 - lr: 1.0000e-08\n",
      "Epoch 27/100\n",
      "1237/1237 [==============================] - 275s 222ms/step - loss: 0.1911 - accuracy: 0.9184 - val_loss: 0.1941 - val_accuracy: 0.9318 - lr: 1.0000e-08\n",
      "Epoch 28/100\n",
      "1237/1237 [==============================] - 277s 224ms/step - loss: 0.1911 - accuracy: 0.9184 - val_loss: 0.1941 - val_accuracy: 0.9316 - lr: 1.0000e-09\n",
      "Epoch 29/100\n",
      "1237/1237 [==============================] - 279s 225ms/step - loss: 0.1911 - accuracy: 0.9184 - val_loss: 0.1926 - val_accuracy: 0.9323 - lr: 1.0000e-09\n",
      "Epoch 30/100\n",
      "1237/1237 [==============================] - 280s 226ms/step - loss: 0.1908 - accuracy: 0.9184 - val_loss: 0.1941 - val_accuracy: 0.9318 - lr: 1.0000e-10\n",
      "Epoch 31/100\n",
      "1237/1237 [==============================] - 279s 226ms/step - loss: 0.1905 - accuracy: 0.9182 - val_loss: 0.1922 - val_accuracy: 0.9320 - lr: 1.0000e-10\n"
     ]
    },
    {
     "data": {
      "text/plain": [
       "<keras.callbacks.History at 0x158cfbd8f40>"
      ]
     },
     "execution_count": 20,
     "metadata": {},
     "output_type": "execute_result"
    }
   ],
   "source": [
    "# Params\n",
    "batch_size = 8\n",
    "\n",
    "# Adding callbacks.\n",
    "early_stopping = tf.keras.callbacks.EarlyStopping(monitor=\"val_loss\", patience=10, restore_best_weights=True)\n",
    "reduce_lr = tf.keras.callbacks.ReduceLROnPlateau(monitor=\"val_loss\", patience=2)\n",
    "\n",
    "# Train model.\n",
    "forecast_model.fit(x_train,\n",
    "                   y_train,\n",
    "                   epochs = 100, \n",
    "                   verbose = 1, \n",
    "                   batch_size = batch_size,\n",
    "                   validation_data = (x_val, y_val),\n",
    "                   callbacks = [early_stopping, reduce_lr],\n",
    "                   sample_weight = calculated_sample_weights\n",
    "                  )"
   ]
  },
  {
   "cell_type": "code",
   "execution_count": 21,
   "metadata": {},
   "outputs": [
    {
     "name": "stderr",
     "output_type": "stream",
     "text": [
      "WARNING:absl:Found untraced functions such as _jit_compiled_convolution_op while saving (showing 1 of 1). These functions will not be directly callable after loading.\n"
     ]
    },
    {
     "name": "stdout",
     "output_type": "stream",
     "text": [
      "INFO:tensorflow:Assets written to: Models/F02\\assets\n"
     ]
    },
    {
     "name": "stderr",
     "output_type": "stream",
     "text": [
      "INFO:tensorflow:Assets written to: Models/F02\\assets\n"
     ]
    }
   ],
   "source": [
    "# Save trained model.\n",
    "forecast_model.save('Models/F02')"
   ]
  },
  {
   "cell_type": "code",
   "execution_count": 20,
   "metadata": {},
   "outputs": [],
   "source": [
    "forecast_model = tf.keras.models.load_model('Models/D05')"
   ]
  },
  {
   "cell_type": "markdown",
   "metadata": {},
   "source": [
    "### Examing single-frame predictions"
   ]
  },
  {
   "cell_type": "code",
   "execution_count": 21,
   "metadata": {},
   "outputs": [
    {
     "name": "stdout",
     "output_type": "stream",
     "text": [
      "1/1 [==============================] - 0s 471ms/step\n"
     ]
    }
   ],
   "source": [
    "# Select a random example from the validation dataset.\n",
    "example = np.random.choice(range(len(x_val)), size=1)[0]\n",
    "\n",
    "# Pick the first/last ten frames from the example.\n",
    "feature_frames = x_val[example, ...]\n",
    "label_frames = y_val[example, ...]\n",
    "pred_frames = []\n",
    "\n",
    "# Predict a new set of 10 frames.\n",
    "# Extract the model's prediction and post-process it.\n",
    "new_prediction = forecast_model.predict(np.expand_dims(feature_frames, axis=0))\n",
    "new_prediction = np.squeeze(new_prediction, axis=0)\n",
    "predicted_frame = np.expand_dims(new_prediction[-1, ...], axis=0)\n",
    "pred_frames.append(predicted_frame)\n",
    "    \n",
    "\n",
    "# Extend the set of prediction frames.\n",
    "pred_frames = np.concatenate(pred_frames)"
   ]
  },
  {
   "cell_type": "code",
   "execution_count": 22,
   "metadata": {},
   "outputs": [
    {
     "data": {
      "text/plain": [
       "True"
      ]
     },
     "execution_count": 22,
     "metadata": {},
     "output_type": "execute_result"
    }
   ],
   "source": [
    "# Shape verification.\n",
    "label_frames.shape == pred_frames.shape"
   ]
  },
  {
   "cell_type": "code",
   "execution_count": 23,
   "metadata": {},
   "outputs": [
    {
     "data": {
      "image/png": "[encoded data removed]",
      "text/plain": [
       "<Figure size 2160x576 with 20 Axes>"
      ]
     },
     "metadata": {
      "needs_background": "light"
     },
     "output_type": "display_data"
    }
   ],
   "source": [
    "# Construct a figure for the original and new frames.\n",
    "fig, axes = plt.subplots(2, 10, figsize=(30, 8))\n",
    "\n",
    "# Plot the fire frames.\n",
    "for idx, ax in enumerate(axes[0]):\n",
    "    ax.imshow(np.squeeze(feature_frames[idx][:,:,:1]), cmap=\"gray\")\n",
    "    ax.set_title(f\"F Frame {idx + 1}\")\n",
    "    ax.axis(\"off\")\n",
    "\n",
    "# Plot the deforestation frames.\n",
    "for idx, ax in enumerate(axes[1]):\n",
    "    ax.imshow(np.squeeze(feature_frames[idx][:,:,1:2]), cmap=\"gray\")\n",
    "    ax.set_title(f\"D Frame {idx + 1}\")\n",
    "    ax.axis(\"off\")\n",
    "    \n",
    "# Display the figure.\n",
    "plt.show()"
   ]
  },
  {
   "cell_type": "code",
   "execution_count": 24,
   "metadata": {},
   "outputs": [
    {
     "data": {
      "image/png": "[encoded data removed]",
      "text/plain": [
       "<Figure size 2160x576 with 4 Axes>"
      ]
     },
     "metadata": {
      "needs_background": "light"
     },
     "output_type": "display_data"
    }
   ],
   "source": [
    "# Construct a figure for the original and new frames.\n",
    "fig, axes = plt.subplots(1, 4, figsize=(30, 8))\n",
    "\n",
    "# Plot the last feature frame.\n",
    "axes[0].imshow(np.squeeze(feature_frames[9][:,:,:1]), cmap=\"gray\")\n",
    "axes[0].set_title(f\"F Frame\")\n",
    "axes[0].axis(\"off\")\n",
    "\n",
    "# Plot the label frame.\n",
    "axes[1].imshow(np.squeeze(label_frames[0]), cmap=\"gray\")\n",
    "axes[1].set_title(f\"L Frame\")\n",
    "axes[1].axis(\"off\")\n",
    "    \n",
    "# Plot the predicted frame.\n",
    "axes[2].imshow(np.squeeze(pred_frames[0]), cmap=\"gray\")\n",
    "axes[2].set_title(f\"P Frame\")\n",
    "axes[2].axis(\"off\")\n",
    "\n",
    "# Plot binarized prediction.\n",
    "axes[3].imshow(np.squeeze(np.where(pred_frames > 0.85, 1, 0)), cmap=\"gray\")\n",
    "axes[3].set_title(f\"Binarized\")\n",
    "axes[3].axis(\"off\")\n",
    "\n",
    "# Display the figure.\n",
    "plt.show()"
   ]
  },
  {
   "cell_type": "code",
   "execution_count": 25,
   "metadata": {},
   "outputs": [
    {
     "data": {
      "image/png": "[encoded data removed]",
      "text/plain": [
       "<Figure size 2160x576 with 20 Axes>"
      ]
     },
     "metadata": {
      "needs_background": "light"
     },
     "output_type": "display_data"
    }
   ],
   "source": [
    "# Construct a figure to show all prediction thresholds.\n",
    "fig, axes = plt.subplots(2, 10, figsize=(30, 8))\n",
    "\n",
    "# Plot the frames.\n",
    "for idx, ax in enumerate(axes[0]):\n",
    "    ax.imshow(np.squeeze(np.where(pred_frames > ((idx + 1) * 0.05), 1, 0)), cmap=\"gray\")\n",
    "    ax.set_title(f\"Threshold {round((idx + 1) * 0.05, 2)}\")\n",
    "    ax.axis(\"off\")\n",
    "\n",
    "for idx, ax in enumerate(axes[1]):\n",
    "    ax.imshow(np.squeeze(np.where(pred_frames > ((idx + 11) * 0.05), 1, 0)), cmap=\"gray\")\n",
    "    ax.set_title(f\"Threshold {round((idx + 11) * 0.05, 2)}\")\n",
    "    ax.axis(\"off\")\n",
    "    \n",
    "# Display the figure.\n",
    "plt.show()"
   ]
  },
  {
   "cell_type": "code",
   "execution_count": 26,
   "metadata": {},
   "outputs": [
    {
     "name": "stderr",
     "output_type": "stream",
     "text": [
      "C:\\Users\\covad\\AppData\\Local\\Temp/ipykernel_25392/2665496657.py:7: RuntimeWarning: invalid value encountered in long_scalars\n",
      "  iou_score = np.sum(intersection) / np.sum(union)\n"
     ]
    },
    {
     "data": {
      "text/plain": [
       "[(0.0, 0.0),\n",
       " (0.05, 0.0),\n",
       " (0.1, 0.0),\n",
       " (0.15, 0.0),\n",
       " (0.2, 0.0),\n",
       " (0.25, 0.0),\n",
       " (0.3, 0.0),\n",
       " (0.35, 0.0),\n",
       " (0.4, 0.0),\n",
       " (0.45, 0.0),\n",
       " (0.5, 0.0),\n",
       " (0.55, 0.0),\n",
       " (0.6, 0.0),\n",
       " (0.65, 0.0),\n",
       " (0.7, 0.0),\n",
       " (0.75, 0.0),\n",
       " (0.8, nan),\n",
       " (0.85, nan),\n",
       " (0.9, nan),\n",
       " (0.95, nan),\n",
       " (1.0, nan)]"
      ]
     },
     "execution_count": 26,
     "metadata": {},
     "output_type": "execute_result"
    }
   ],
   "source": [
    "# Get first sample IoU\n",
    "thresholds = [x/100 for x in range(0,105,5)]\n",
    "ious = []\n",
    "for t in thresholds:\n",
    "    intersection = np.logical_and(np.where(pred_frames > t, 1, 0), label_frames[0])\n",
    "    union = np.logical_or(np.where(pred_frames > t, 1, 0), label_frames[0])\n",
    "    iou_score = np.sum(intersection) / np.sum(union)\n",
    "    ious.append((t,iou_score))\n",
    "ious"
   ]
  },
  {
   "cell_type": "markdown",
   "metadata": {},
   "source": [
    "### Get IoU for full prediction set."
   ]
  },
  {
   "cell_type": "code",
   "execution_count": 27,
   "metadata": {},
   "outputs": [
    {
     "name": "stdout",
     "output_type": "stream",
     "text": [
      "60/60 [==============================] - 10s 160ms/step\n"
     ]
    }
   ],
   "source": [
    "# Predict on everything.\n",
    "all_preds = forecast_model.predict(x_val)"
   ]
  },
  {
   "cell_type": "code",
   "execution_count": 28,
   "metadata": {},
   "outputs": [
    {
     "data": {
      "text/plain": [
       "[(0.0, 0.008262786704784437),\n",
       " (0.05, 0.01929093523593379),\n",
       " (0.1, 0.026314356236125543),\n",
       " (0.15, 0.032674793252290835),\n",
       " (0.2, 0.03820780187752172),\n",
       " (0.25, 0.04290495288754386),\n",
       " (0.3, 0.047473287542628584),\n",
       " (0.35, 0.05287554761643398),\n",
       " (0.4, 0.06212194531817082),\n",
       " (0.45, 0.0684530726638868),\n",
       " (0.5, 0.0755263651130826),\n",
       " (0.55, 0.07905831562615939),\n",
       " (0.6, 0.0830880874476758),\n",
       " (0.65, 0.08782642588021307),\n",
       " (0.7, 0.09339392595876746),\n",
       " (0.75, 0.10003137747097583),\n",
       " (0.8, 0.10814913056292366),\n",
       " (0.85, 0.11606008926303567),\n",
       " (0.9, 0.12508760482370285),\n",
       " (0.95, 0.11724012379391953),\n",
       " (1.0, 0.0)]"
      ]
     },
     "execution_count": 28,
     "metadata": {},
     "output_type": "execute_result"
    }
   ],
   "source": [
    "# Get IoU.\n",
    "thresholds = [x/100 for x in range(0,105,5)]\n",
    "ious = []\n",
    "for t in thresholds:\n",
    "    intersection = np.logical_and(np.where(all_preds > t, 1, 0), y_val)\n",
    "    union = np.logical_or(np.where(all_preds > t, 1, 0), y_val)\n",
    "    iou_score = np.sum(intersection) / np.sum(union)\n",
    "    ious.append((t,iou_score))\n",
    "ious"
   ]
  },
  {
   "cell_type": "code",
   "execution_count": 29,
   "metadata": {},
   "outputs": [
    {
     "data": {
      "text/plain": [
       "0.05030678332248258"
      ]
     },
     "execution_count": 29,
     "metadata": {},
     "output_type": "execute_result"
    }
   ],
   "source": [
    "# Get MSE.\n",
    "mses = [mean_squared_error(all_preds[x], y_val[x].numpy()) for x in range(0,len(all_preds))]\n",
    "mean_squared_error(all_preds, y_val.numpy())"
   ]
  },
  {
   "cell_type": "code",
   "execution_count": 30,
   "metadata": {},
   "outputs": [],
   "source": [
    "## Get SSIM if masking is applied.\n",
    "## Calculation seems to be skewed and giving unreasonably high scores with masking applied.\n",
    "#thresholds = [x/100 for x in range(0,105,5)]\n",
    "#masked_ssims = []\n",
    "#for t in thresholds:\n",
    "#    t_ssim = [ssim(np.where(all_preds[x][0] > t, 1, 0), y_val[x][0].numpy(), multichannel = True) for x in range(0,len(all_preds))]\n",
    "#    t_ssim2 = sum(t_ssim) / len(t_ssim)\n",
    "#    masked_ssims.append((t,t_ssim2))\n",
    "#masked_ssims"
   ]
  },
  {
   "cell_type": "code",
   "execution_count": 31,
   "metadata": {},
   "outputs": [
    {
     "data": {
      "text/plain": [
       "0.15436147725080732"
      ]
     },
     "execution_count": 31,
     "metadata": {},
     "output_type": "execute_result"
    }
   ],
   "source": [
    "# Get Peak Signal-to-Noise Ratio (PSNR)\n",
    "psnrs = [PSNR(all_preds[x], y_val[x][0].numpy()) for x in range(0,len(all_preds))]\n",
    "set_psnr = sum(psnrs) / len(psnrs)\n",
    "set_psnr"
   ]
  },
  {
   "cell_type": "code",
   "execution_count": 33,
   "metadata": {},
   "outputs": [
    {
     "name": "stderr",
     "output_type": "stream",
     "text": [
      "C:\\Users\\covad\\anaconda3\\lib\\site-packages\\skimage\\metrics\\_structural_similarity.py:107: UserWarning: Inputs have mismatched dtype.  Setting data_range based on im1.dtype.\n",
      "  ch_result = structural_similarity(im1[..., ch],\n"
     ]
    },
    {
     "data": {
      "text/plain": [
       "0.3729295802378008"
      ]
     },
     "execution_count": 33,
     "metadata": {},
     "output_type": "execute_result"
    }
   ],
   "source": [
    "# Get raw mean SSIM\n",
    "ssims = [ssim(all_preds[x][0], y_val[x][0].numpy(), multichannel = True) for x in range(0,len(all_preds))]\n",
    "mean_raw_ssim = sum(ssims) / len(ssims)\n",
    "mean_raw_ssim"
   ]
  },
  {
   "cell_type": "code",
   "execution_count": 35,
   "metadata": {},
   "outputs": [],
   "source": [
    "# Get DataFrame of all prediction grades.\n",
    "rows = []\n",
    "for s in range(0,len(all_preds)): \n",
    "    thresholds = [x/100 for x in range(0,105,5)]\n",
    "    t_ious = []\n",
    "    for t in thresholds:\n",
    "        intersection = np.logical_and(np.where(all_preds[s] > t, 1, 0), y_val[s])\n",
    "        union = np.logical_or(np.where(all_preds[s] > t, 1, 0), y_val[s])\n",
    "        if np.sum(union) > 0:\n",
    "            iou_score = np.sum(intersection) / np.sum(union)\n",
    "        else:\n",
    "            iou_score = 0\n",
    "        t_ious.append(iou_score)\n",
    "    rows.append(t_ious)\n",
    "iou_df = pd.DataFrame(rows)\n",
    "iou_df['ssim'] = ssims\n",
    "iou_df['mse'] = mses\n",
    "iou_df['psnr'] = psnrs"
   ]
  },
  {
   "cell_type": "markdown",
   "metadata": {},
   "source": [
    "### Examining Good Predictions"
   ]
  },
  {
   "cell_type": "code",
   "execution_count": 36,
   "metadata": {},
   "outputs": [
    {
     "data": {
      "text/plain": [
       "0.9935793148168508"
      ]
     },
     "execution_count": 36,
     "metadata": {},
     "output_type": "execute_result"
    },
    {
     "data": {
      "image/png": "[encoded data removed]",
      "text/plain": [
       "<Figure size 720x360 with 2 Axes>"
      ]
     },
     "metadata": {
      "needs_background": "light"
     },
     "output_type": "display_data"
    }
   ],
   "source": [
    "# Examining the best SSIM\n",
    "x = iou_df.sort_values(by = 'ssim', ascending = False).index[0]\n",
    "fig, axes = plt.subplots(1, 2, figsize=(10, 5))\n",
    "axes[0].imshow(all_preds[x][0], cmap=\"gray\")\n",
    "axes[1].imshow(y_val[x][0].numpy(), cmap=\"gray\")\n",
    "ssims[x]"
   ]
  },
  {
   "cell_type": "code",
   "execution_count": 37,
   "metadata": {},
   "outputs": [
    {
     "data": {
      "text/plain": [
       "6.787946633402697e-05"
      ]
     },
     "execution_count": 37,
     "metadata": {},
     "output_type": "execute_result"
    },
    {
     "data": {
      "image/png": "[encoded data removed]",
      "text/plain": [
       "<Figure size 720x360 with 2 Axes>"
      ]
     },
     "metadata": {
      "needs_background": "light"
     },
     "output_type": "display_data"
    }
   ],
   "source": [
    "# Examining the best MSE\n",
    "x = iou_df.sort_values(by = 'mse', ascending = True).index[0]\n",
    "fig, axes = plt.subplots(1, 2, figsize=(10, 5))\n",
    "axes[0].imshow(all_preds[x][0], cmap=\"gray\")\n",
    "axes[1].imshow(y_val[x][0].numpy(), cmap=\"gray\")\n",
    "mses[x]"
   ]
  },
  {
   "cell_type": "code",
   "execution_count": 38,
   "metadata": {},
   "outputs": [
    {
     "data": {
      "text/plain": [
       "0       0.131836\n",
       "1       0.261905\n",
       "2       0.314286\n",
       "3       0.333333\n",
       "4       0.423077\n",
       "5       0.666667\n",
       "6       0.666667\n",
       "7       1.000000\n",
       "8       1.000000\n",
       "9       1.000000\n",
       "10      1.000000\n",
       "11      1.000000\n",
       "12      1.000000\n",
       "13      1.000000\n",
       "14      1.000000\n",
       "15      1.000000\n",
       "16      1.000000\n",
       "17      1.000000\n",
       "18      1.000000\n",
       "19      1.000000\n",
       "20      0.000000\n",
       "ssim    0.993579\n",
       "mse     0.324499\n",
       "psnr    0.416826\n",
       "dtype: float64"
      ]
     },
     "execution_count": 38,
     "metadata": {},
     "output_type": "execute_result"
    }
   ],
   "source": [
    "iou_df.max()"
   ]
  },
  {
   "cell_type": "code",
   "execution_count": 49,
   "metadata": {},
   "outputs": [
    {
     "data": {
      "text/plain": [
       "1156    1.000000\n",
       "1608    1.000000\n",
       "1768    0.833333\n",
       "731     0.800000\n",
       "1275    0.666667\n",
       "          ...   \n",
       "776     0.000000\n",
       "774     0.000000\n",
       "773     0.000000\n",
       "771     0.000000\n",
       "1901    0.000000\n",
       "Name: 18, Length: 1902, dtype: float64"
      ]
     },
     "execution_count": 49,
     "metadata": {},
     "output_type": "execute_result"
    }
   ],
   "source": [
    "iou_df[18].sort_values(ascending = False)"
   ]
  },
  {
   "cell_type": "code",
   "execution_count": 78,
   "metadata": {},
   "outputs": [
    {
     "data": {
      "image/png": "[encoded data removed]",
      "text/plain": [
       "<Figure size 720x864 with 25 Axes>"
      ]
     },
     "metadata": {
      "needs_background": "light"
     },
     "output_type": "display_data"
    }
   ],
   "source": [
    "# Construct a figure for the original and new frames.\n",
    "fig, all_axes = plt.subplots(5, 5, figsize=(10, 12))\n",
    "\n",
    "# List of samples to check:\n",
    "tgts = list(iou_df[18].sort_values(ascending = False)[:5].index)\n",
    "x = -1\n",
    "\n",
    "for axes in all_axes:\n",
    "    x += 1\n",
    "    \n",
    "    # Plot deforestaion.\n",
    "    axes[0].imshow(np.squeeze(x_val[tgts[x]][9][:,:,1:2]), cmap=\"Greens_r\")\n",
    "    axes[0].set_title(\"Deforestation\", fontsize=16)\n",
    "    axes[0].axis(\"off\")\n",
    "    \n",
    "    # Plot the last feature frame.\n",
    "    axes[1].imshow(np.squeeze(x_val[tgts[x]][9][:,:,:1]), cmap=\"gray\")\n",
    "    axes[1].set_title(\"Fires\", fontsize=16)\n",
    "    axes[1].axis(\"off\")\n",
    "\n",
    "    # Plot the label frame.\n",
    "    axes[2].imshow(np.squeeze(y_val[tgts[x]]), cmap=\"gray\")\n",
    "    axes[2].set_title(\"Target\", fontsize=16)\n",
    "    axes[2].axis(\"off\")\n",
    "\n",
    "    # Plot the predicted frame.\n",
    "    axes[3].imshow(np.squeeze(all_preds[tgts[x]]), cmap=\"gray\")\n",
    "    axes[3].set_title(\"Prediction\", fontsize=16)\n",
    "    axes[3].axis(\"off\")\n",
    "\n",
    "    # Plot binarized prediction.\n",
    "    axes[4].imshow(np.squeeze(np.where(all_preds[tgts[x]] > 0.9, 1, 0)), cmap=\"gray\")\n",
    "    axes[4].set_title(\"Binarized\", fontsize=16)\n",
    "    axes[4].axis(\"off\")\n",
    "\n",
    "# Display the figure.\n",
    "plt.show()"
   ]
  },
  {
   "cell_type": "markdown",
   "metadata": {},
   "source": [
    "### Examining Pretty Bad Predictions"
   ]
  },
  {
   "cell_type": "code",
   "execution_count": 41,
   "metadata": {},
   "outputs": [
    {
     "data": {
      "text/plain": [
       "1441    0.020408\n",
       "332     0.021739\n",
       "1173    0.022222\n",
       "1258    0.022727\n",
       "503     0.022727\n",
       "          ...   \n",
       "1275    0.750000\n",
       "731     0.800000\n",
       "1482    0.833333\n",
       "90      1.000000\n",
       "518     1.000000\n",
       "Name: 19, Length: 545, dtype: float64"
      ]
     },
     "execution_count": 41,
     "metadata": {},
     "output_type": "execute_result"
    }
   ],
   "source": [
    "iou_df[iou_df[19] > 0.02][19].sort_values()"
   ]
  },
  {
   "cell_type": "code",
   "execution_count": 75,
   "metadata": {},
   "outputs": [
    {
     "data": {
      "image/png": "[encoded data removed]",
      "text/plain": [
       "<Figure size 1440x864 with 15 Axes>"
      ]
     },
     "metadata": {
      "needs_background": "light"
     },
     "output_type": "display_data"
    }
   ],
   "source": [
    "# Construct a figure for the original and new frames.\n",
    "fig, all_axes = plt.subplots(3, 5, figsize=(20, 12))\n",
    "\n",
    "# List of samples to check:\n",
    "tgts = list(iou_df[(iou_df[18] > 0.11) & (iou_df[18] < 0.13)][18].sort_values()[:3].index)\n",
    "x = -1\n",
    "\n",
    "for axes in all_axes:\n",
    "    x += 1\n",
    "    \n",
    "    # Plot deforestaion.\n",
    "    axes[0].imshow(np.squeeze(x_val[tgts[x]][9][:,:,1:2]), cmap=\"Greens_r\")\n",
    "    axes[0].set_title(\"Deforestation\", fontsize=20)\n",
    "    axes[0].axis(\"off\")\n",
    "    \n",
    "    # Plot the last feature frame.\n",
    "    axes[1].imshow(np.squeeze(x_val[tgts[x]][9][:,:,:1]), cmap=\"gray\")\n",
    "    axes[1].set_title(\"Fires\", fontsize=20)\n",
    "    axes[1].axis(\"off\")\n",
    "\n",
    "    # Plot the label frame.\n",
    "    axes[2].imshow(np.squeeze(y_val[tgts[x]]), cmap=\"gray\")\n",
    "    axes[2].set_title(\"Target\", fontsize=20)\n",
    "    axes[2].axis(\"off\")\n",
    "\n",
    "    # Plot the predicted frame.\n",
    "    axes[3].imshow(np.squeeze(all_preds[tgts[x]]), cmap=\"gray\")\n",
    "    axes[3].set_title(\"Prediction\", fontsize=20)\n",
    "    axes[3].axis(\"off\")\n",
    "\n",
    "    # Plot binarized prediction.\n",
    "    axes[4].imshow(np.squeeze(np.where(all_preds[tgts[x]] > 0.9, 1, 0)), cmap=\"gray\")\n",
    "    axes[4].set_title(\"Binarized\", fontsize=20)\n",
    "    axes[4].axis(\"off\")\n",
    "\n",
    "# Display the figure.\n",
    "plt.show()"
   ]
  },
  {
   "cell_type": "code",
   "execution_count": 85,
   "metadata": {},
   "outputs": [
    {
     "data": {
      "image/png": "[encoded data removed]",
      "text/plain": [
       "<Figure size 1440x864 with 15 Axes>"
      ]
     },
     "metadata": {
      "needs_background": "light"
     },
     "output_type": "display_data"
    }
   ],
   "source": [
    "# Construct a figure for the original and new frames.\n",
    "fig, all_axes = plt.subplots(3, 5, figsize=(20, 12))\n",
    "\n",
    "# List of samples to check:\n",
    "tgts = list(iou_df[iou_df[18] < 0.039][18].sort_values()[:3].index)\n",
    "x = -1\n",
    "\n",
    "for axes in all_axes:\n",
    "    x += 1\n",
    "    \n",
    "    # Plot deforestaion.\n",
    "    axes[0].imshow(np.squeeze(x_val[tgts[x]][9][:,:,1:2]), cmap=\"Greens_r\")\n",
    "    axes[0].set_title(\"Deforestation\", fontsize=20)\n",
    "    axes[0].axis(\"off\")\n",
    "    \n",
    "    # Plot the last feature frame.\n",
    "    axes[1].imshow(np.squeeze(x_val[tgts[x]][9][:,:,:1]), cmap=\"gray\")\n",
    "    axes[1].set_title(\"Fires\", fontsize=20)\n",
    "    axes[1].axis(\"off\")\n",
    "\n",
    "    # Plot the label frame.\n",
    "    axes[2].imshow(np.squeeze(y_val[tgts[x]]), cmap=\"gray\")\n",
    "    axes[2].set_title(\"Target\", fontsize=20)\n",
    "    axes[2].axis(\"off\")\n",
    "\n",
    "    # Plot the predicted frame.\n",
    "    axes[3].imshow(np.squeeze(all_preds[tgts[x]]), cmap=\"gray\")\n",
    "    axes[3].set_title(\"Prediction\", fontsize=20)\n",
    "    axes[3].axis(\"off\")\n",
    "\n",
    "    # Plot binarized prediction.\n",
    "    axes[4].imshow(np.squeeze(np.where(all_preds[tgts[x]] > 0.9, 1, 0)), cmap=\"gray\")\n",
    "    axes[4].set_title(\"Binarized\", fontsize=20)\n",
    "    axes[4].axis(\"off\")\n",
    "\n",
    "# Display the figure.\n",
    "plt.show()"
   ]
  },
  {
   "cell_type": "code",
   "execution_count": 43,
   "metadata": {},
   "outputs": [
    {
     "name": "stdout",
     "output_type": "stream",
     "text": [
      "ssim 0.3729295802378008\n",
      "psnr 0.15436147725080732\n",
      "mse 0.05030678332248258\n"
     ]
    },
    {
     "data": {
      "text/plain": [
       "[(0.0, 0.008262786704784437),\n",
       " (0.05, 0.01929093523593379),\n",
       " (0.1, 0.026314356236125543),\n",
       " (0.15, 0.032674793252290835),\n",
       " (0.2, 0.03820780187752172),\n",
       " (0.25, 0.04290495288754386),\n",
       " (0.3, 0.047473287542628584),\n",
       " (0.35, 0.05287554761643398),\n",
       " (0.4, 0.06212194531817082),\n",
       " (0.45, 0.0684530726638868),\n",
       " (0.5, 0.0755263651130826),\n",
       " (0.55, 0.07905831562615939),\n",
       " (0.6, 0.0830880874476758),\n",
       " (0.65, 0.08782642588021307),\n",
       " (0.7, 0.09339392595876746),\n",
       " (0.75, 0.10003137747097583),\n",
       " (0.8, 0.10814913056292366),\n",
       " (0.85, 0.11606008926303567),\n",
       " (0.9, 0.12508760482370285),\n",
       " (0.95, 0.11724012379391953),\n",
       " (1.0, 0.0)]"
      ]
     },
     "execution_count": 43,
     "metadata": {},
     "output_type": "execute_result"
    }
   ],
   "source": [
    "# Print all set metrics again for ease of gathering.\n",
    "print('ssim',mean_raw_ssim)\n",
    "print('psnr',set_psnr)\n",
    "print('mse',mean_squared_error(all_preds, y_val.numpy()))\n",
    "ious"
   ]
  }
 ],
 "metadata": {
  "kernelspec": {
   "display_name": "Python 3 (ipykernel)",
   "language": "python",
   "name": "python3"
  },
  "language_info": {
   "codemirror_mode": {
    "name": "ipython",
    "version": 3
   },
   "file_extension": ".py",
   "mimetype": "text/x-python",
   "name": "python",
   "nbconvert_exporter": "python",
   "pygments_lexer": "ipython3",
   "version": "3.9.7"
  }
 },
 "nbformat": 4,
 "nbformat_minor": 4
}
