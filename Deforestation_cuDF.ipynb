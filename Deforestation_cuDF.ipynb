{
 "cells": [
  {
   "cell_type": "markdown",
   "metadata": {},
   "source": [
    "### Import Block"
   ]
  },
  {
   "cell_type": "code",
   "execution_count": 108,
   "metadata": {},
   "outputs": [],
   "source": [
    "import geopandas as gpd\n",
    "import pandas as pd\n",
    "import numpy as np\n",
    "import matplotlib.pyplot as plt\n",
    "import cudf\n",
    "import cuspatial\n",
    "import geopy.distance as gpx\n",
    "import itertools"
   ]
  },
  {
   "cell_type": "markdown",
   "metadata": {},
   "source": [
    "### Function Definitions"
   ]
  },
  {
   "cell_type": "code",
   "execution_count": null,
   "metadata": {},
   "outputs": [],
   "source": [
    "# Source: https://medium.com/swlh/how-to-perform-fast-and-powerful-geospatial-data-analysis-with-gpu-48f16a168b10\n",
    "def create_iterations(start, end, batches):\n",
    "    iterations = list(np.arange(start, end, batches))\n",
    "    iterations.append(end)\n",
    "    return iterations\n",
    "\n",
    "def perform_pip(cuda_df, cuspatial_data, iter_batch):\n",
    "    cuda_df['polygonID'] = \" \"\n",
    "    for i in range(len(iter_batch)-1):\n",
    "        start = pip_iterations[i]\n",
    "        end = pip_iterations[i+1]\n",
    "        pip = cuspatial.point_in_polygon(cuda_df['Lon'] , cuda_df['Lat'], \n",
    "                                         cuspatial_data[0][start:end], \n",
    "                                         cuspatial_data[1], \n",
    "                                         cuspatial_data[2]['x'], \n",
    "                                         cuspatial_data[2]['y']\n",
    "                                        )\n",
    "\n",
    "        for i in pip.columns:\n",
    "            cuda_df['polygonID'].loc[pip[i]] = i\n",
    "    return cuda_df"
   ]
  },
  {
   "cell_type": "code",
   "execution_count": null,
   "metadata": {},
   "outputs": [],
   "source": [
    "def any_pip(cuda_df, cuspatial_data, iter_batch):\n",
    "    cuda_df['pip_count'] = 0\n",
    "    for i in range(len(iter_batch)-1):\n",
    "        start = pip_iterations[i]\n",
    "        end = pip_iterations[i+1]\n",
    "        pip = cuspatial.point_in_polygon(cuda_df['Lon'] , cuda_df['Lat'], \n",
    "                                         cuspatial_data[0][start:end], \n",
    "                                         cuspatial_data[1], \n",
    "                                         cuspatial_data[2]['x'], \n",
    "                                         cuspatial_data[2]['y']\n",
    "                                        )\n",
    "        \n",
    "        # Count number of polygons that each point touches.\n",
    "        for col in pip.columns:\n",
    "            cuda_df['pip_count'] += col\n",
    "    \n",
    "    # If point touches any polygons, maek any_pip as True.\n",
    "    cuda_df['any_pip'] = cuda_df['pip_count'] > 0\n",
    "    return cuda_df"
   ]
  },
  {
   "cell_type": "markdown",
   "metadata": {},
   "source": [
    "### Get Data"
   ]
  },
  {
   "cell_type": "code",
   "execution_count": 12,
   "metadata": {},
   "outputs": [
    {
     "name": "stdout",
     "output_type": "stream",
     "text": [
      "CPU times: user 5.8 s, sys: 2.27 s, total: 8.07 s\n",
      "Wall time: 21.4 s\n"
     ]
    }
   ],
   "source": [
    "%%time\n",
    "# Load shapefile.\n",
    "deforestation = cuspatial.read_polygon_shapefile('Yearly_Deforestation_Biome/yearly_deforestation_biome.shp')"
   ]
  },
  {
   "cell_type": "code",
   "execution_count": null,
   "metadata": {},
   "outputs": [],
   "source": [
    "%%time\n",
    "# Load VIIRS data back into memory from CSV.\n",
    "px_combined = cudf.read_csv('VIIRS_Para.csv')"
   ]
  },
  {
   "cell_type": "markdown",
   "metadata": {},
   "source": [
    "### Testing Polygon Subtraction"
   ]
  },
  {
   "cell_type": "code",
   "execution_count": 3,
   "metadata": {},
   "outputs": [],
   "source": [
    "deforestation = gpd.read_file('Yearly_Deforestation_Biome/yearly_deforestation_biome.shp')\n",
    "state_shapes = gpd.read_file('States_Amazon_Biome/states_amazon_biome.shp')"
   ]
  },
  {
   "cell_type": "code",
   "execution_count": 4,
   "metadata": {},
   "outputs": [],
   "source": [
    "para_defo = deforestation[deforestation['state'] == 'PA']\n",
    "para_shape = state_shapes[state_shapes['sigla'] == 'PA']"
   ]
  },
  {
   "cell_type": "code",
   "execution_count": 5,
   "metadata": {},
   "outputs": [
    {
     "data": {
      "text/html": [
       "<div>\n",
       "<style scoped>\n",
       "    .dataframe tbody tr th:only-of-type {\n",
       "        vertical-align: middle;\n",
       "    }\n",
       "\n",
       "    .dataframe tbody tr th {\n",
       "        vertical-align: top;\n",
       "    }\n",
       "\n",
       "    .dataframe thead th {\n",
       "        text-align: right;\n",
       "    }\n",
       "</style>\n",
       "<table border=\"1\" class=\"dataframe\">\n",
       "  <thead>\n",
       "    <tr style=\"text-align: right;\">\n",
       "      <th></th>\n",
       "      <th>id</th>\n",
       "      <th>nome</th>\n",
       "      <th>sigla</th>\n",
       "      <th>geocodigo</th>\n",
       "      <th>geometry</th>\n",
       "    </tr>\n",
       "  </thead>\n",
       "  <tbody>\n",
       "    <tr>\n",
       "      <th>4</th>\n",
       "      <td>6</td>\n",
       "      <td>Pará</td>\n",
       "      <td>PA</td>\n",
       "      <td>15</td>\n",
       "      <td>MULTIPOLYGON (((-46.38414 -1.03655, -46.38429 ...</td>\n",
       "    </tr>\n",
       "  </tbody>\n",
       "</table>\n",
       "</div>"
      ],
      "text/plain": [
       "   id  nome sigla geocodigo                                           geometry\n",
       "4   6  Pará    PA        15  MULTIPOLYGON (((-46.38414 -1.03655, -46.38429 ..."
      ]
     },
     "execution_count": 5,
     "metadata": {},
     "output_type": "execute_result"
    }
   ],
   "source": [
    "para_shape"
   ]
  },
  {
   "cell_type": "code",
   "execution_count": 6,
   "metadata": {},
   "outputs": [
    {
     "data": {
      "image/svg+xml": [
       "<svg xmlns=\"http://www.w3.org/2000/svg\" xmlns:xlink=\"http://www.w3.org/1999/xlink\" width=\"100.0\" height=\"100.0\" viewBox=\"-49.828475180007395 -5.658845927327008 0.0013850173285874234 0.0018832097617158539\" preserveAspectRatio=\"xMinYMin meet\"><g transform=\"matrix(1,0,0,-1,0,-11.3158086448923)\"><path fill-rule=\"evenodd\" fill=\"#66cc99\" stroke=\"#555555\" stroke-width=\"3.766419523431708e-05\" opacity=\"0.6\" d=\"M -49.8284054314977,-5.658153418662718 L -49.8284054314977,-5.657966606306881 L -49.82759713157755,-5.657360381366766 L -49.8271599111885,-5.657032466074986 L -49.8271599111885,-5.658776178817315 L -49.82752253257877,-5.658594868122182 L -49.8284054314977,-5.658153418662718 z\" /></g></svg>"
      ],
      "text/plain": [
       "<shapely.geometry.polygon.Polygon at 0x7fc4f920d160>"
      ]
     },
     "execution_count": 6,
     "metadata": {},
     "output_type": "execute_result"
    }
   ],
   "source": [
    "para_defo.iloc[0]['geometry']"
   ]
  },
  {
   "cell_type": "code",
   "execution_count": 7,
   "metadata": {},
   "outputs": [
    {
     "name": "stderr",
     "output_type": "stream",
     "text": [
      "/tmp/ipykernel_283/915341063.py:1: FutureWarning: '-' operator will be deprecated. Use the 'difference' method instead.\n",
      "  para_shape - para_defo.iloc[0]['geometry']\n"
     ]
    },
    {
     "data": {
      "text/plain": [
       "4    MULTIPOLYGON (((-46.38429 -1.03692, -46.38484 ...\n",
       "dtype: geometry"
      ]
     },
     "execution_count": 7,
     "metadata": {},
     "output_type": "execute_result"
    }
   ],
   "source": [
    "para_shape - para_defo.iloc[0]['geometry']"
   ]
  },
  {
   "cell_type": "code",
   "execution_count": null,
   "metadata": {},
   "outputs": [],
   "source": [
    "## Impossibly slow.\n",
    "\n",
    "#%%time\n",
    "#para_defo_shape = para_shape\n",
    "#for x in range(0,len(para_defo)):\n",
    "#    para_defo_shape = para_defo_shape - para_defo.iloc[x]['geometry']"
   ]
  },
  {
   "cell_type": "code",
   "execution_count": 51,
   "metadata": {},
   "outputs": [],
   "source": [
    "#para_defo_shape"
   ]
  },
  {
   "cell_type": "code",
   "execution_count": 49,
   "metadata": {},
   "outputs": [],
   "source": [
    "## Impossibly slow.\n",
    "\n",
    "#%%time\n",
    "#para_defo_shape2 = state_shapes[state_shapes['sigla'] == 'PA'].overlay(para_defo, how='difference')"
   ]
  },
  {
   "cell_type": "code",
   "execution_count": 50,
   "metadata": {},
   "outputs": [],
   "source": [
    "#para_defo_shape2"
   ]
  },
  {
   "cell_type": "markdown",
   "metadata": {},
   "source": [
    "### Testing Polygon Bounding Box Calculation and FIltering (cuSpatial)"
   ]
  },
  {
   "cell_type": "code",
   "execution_count": 240,
   "metadata": {},
   "outputs": [],
   "source": [
    "#%%time\n",
    "# Save shapefile with only Para deforestation polygons.\n",
    "#deforestation[deforestation['state'] == 'PA'].to_file('tempfile.shp')\n",
    "#para_defo.to_file('tempfile.shp')"
   ]
  },
  {
   "cell_type": "code",
   "execution_count": 241,
   "metadata": {},
   "outputs": [],
   "source": [
    "# Confirm that file is readable by GeoPandas. This should mean it is also readable by cuspatial.\n",
    "#gpd.read_file('tempfile.shp')"
   ]
  },
  {
   "cell_type": "code",
   "execution_count": 13,
   "metadata": {},
   "outputs": [],
   "source": [
    "# Something about the way GeoPandas is saving the Para deforestation DataFrame is breaking cuspatial loading.\n",
    "# Going to proceed with the entire deforestation shapefile.\n",
    "\n",
    "#%%time\n",
    "## Open shapefile with cuspatial.\n",
    "#para_defo = cuspatial.read_polygon_shapefile('tempfile.shp')"
   ]
  },
  {
   "cell_type": "code",
   "execution_count": 32,
   "metadata": {},
   "outputs": [],
   "source": [
    "## Check contents.\n",
    "#para_defo"
   ]
  },
  {
   "cell_type": "code",
   "execution_count": 315,
   "metadata": {},
   "outputs": [
    {
     "name": "stdout",
     "output_type": "stream",
     "text": [
      "CPU times: user 4.43 s, sys: 2.15 s, total: 6.58 s\n",
      "Wall time: 19.1 s\n"
     ]
    }
   ],
   "source": [
    "%%time\n",
    "# Load shapefile.\n",
    "deforestation = cuspatial.read_polygon_shapefile('Yearly_Deforestation_Biome/yearly_deforestation_biome.shp')"
   ]
  },
  {
   "cell_type": "code",
   "execution_count": 316,
   "metadata": {},
   "outputs": [
    {
     "name": "stdout",
     "output_type": "stream",
     "text": [
      "CPU times: user 88.5 ms, sys: 0 ns, total: 88.5 ms\n",
      "Wall time: 89.7 ms\n"
     ]
    }
   ],
   "source": [
    "%%time\n",
    "# Perform bounding box calculation.\n",
    "defo_bbox = cuspatial.polygon_bounding_boxes(deforestation[0], \n",
    "                                         deforestation[1], \n",
    "                                         deforestation[2]['x'], \n",
    "                                         deforestation[2]['y']\n",
    "                                        )"
   ]
  },
  {
   "cell_type": "code",
   "execution_count": 317,
   "metadata": {},
   "outputs": [
    {
     "data": {
      "text/plain": [
       " 0.000000     435\n",
       "-50.750000     79\n",
       "-50.500000     52\n",
       "-50.000000     50\n",
       "-52.000000     47\n",
       "             ... \n",
       "-64.466854      1\n",
       "-60.528475      1\n",
       "-47.151825      1\n",
       "-61.969309      1\n",
       "-55.240386      1\n",
       "Name: x_min, Length: 580053, dtype: int32"
      ]
     },
     "execution_count": 317,
     "metadata": {},
     "output_type": "execute_result"
    }
   ],
   "source": [
    "# Checking how many suspicious zeros are showing up in our bounding boxes.\n",
    "defo_bbox['x_min'].value_counts()"
   ]
  },
  {
   "cell_type": "code",
   "execution_count": 320,
   "metadata": {},
   "outputs": [
    {
     "data": {
      "text/plain": [
       " 0.000000     435\n",
       "-50.750000     50\n",
       "-50.500000     43\n",
       "-50.250000     42\n",
       "-52.000000     35\n",
       "             ... \n",
       "-60.528475      1\n",
       "-48.204854      1\n",
       "-46.607100      1\n",
       "-50.791933      1\n",
       "-51.688241      1\n",
       "Name: x_max, Length: 579534, dtype: int32"
      ]
     },
     "execution_count": 320,
     "metadata": {},
     "output_type": "execute_result"
    }
   ],
   "source": [
    "defo_bbox['x_max'].value_counts()"
   ]
  },
  {
   "cell_type": "code",
   "execution_count": 318,
   "metadata": {},
   "outputs": [
    {
     "data": {
      "text/plain": [
       " 0.000000    435\n",
       "-3.500000     71\n",
       "-3.750000     47\n",
       "-4.250000     46\n",
       "-9.250000     31\n",
       "            ... \n",
       "-1.758200      1\n",
       "-2.160310      1\n",
       "-7.011757      1\n",
       "-4.242639      1\n",
       "-4.675998      1\n",
       "Name: y_min, Length: 573735, dtype: int32"
      ]
     },
     "execution_count": 318,
     "metadata": {},
     "output_type": "execute_result"
    }
   ],
   "source": [
    "defo_bbox['y_min'].value_counts()"
   ]
  },
  {
   "cell_type": "code",
   "execution_count": 319,
   "metadata": {},
   "outputs": [
    {
     "data": {
      "text/plain": [
       " 0.000000     437\n",
       "-3.500000      58\n",
       "-4.000000      46\n",
       "-3.250000      42\n",
       "-4.250000      41\n",
       "             ... \n",
       "-9.679672       1\n",
       "-10.783912      1\n",
       " 3.157614       1\n",
       "-3.392980       1\n",
       "-13.186774      1\n",
       "Name: y_max, Length: 575800, dtype: int32"
      ]
     },
     "execution_count": 319,
     "metadata": {},
     "output_type": "execute_result"
    }
   ],
   "source": [
    "defo_bbox['y_max'].value_counts()"
   ]
  },
  {
   "cell_type": "code",
   "execution_count": 321,
   "metadata": {},
   "outputs": [],
   "source": [
    "defo_gpd = gpd.read_file('Yearly_Deforestation_Biome/yearly_deforestation_biome.shp')"
   ]
  },
  {
   "cell_type": "code",
   "execution_count": 322,
   "metadata": {},
   "outputs": [
    {
     "data": {
      "text/plain": [
       "599819"
      ]
     },
     "execution_count": 322,
     "metadata": {},
     "output_type": "execute_result"
    }
   ],
   "source": [
    "len(defo_gpd)"
   ]
  },
  {
   "cell_type": "code",
   "execution_count": 323,
   "metadata": {},
   "outputs": [
    {
     "data": {
      "text/plain": [
       "599819"
      ]
     },
     "execution_count": 323,
     "metadata": {},
     "output_type": "execute_result"
    }
   ],
   "source": [
    "len(defo_bbox)"
   ]
  },
  {
   "cell_type": "code",
   "execution_count": 324,
   "metadata": {},
   "outputs": [],
   "source": [
    "# Add bounding boxes to DataFrame.\n",
    "defo_gpd['x_min'] = defo_bbox['x_min'].to_pandas()\n",
    "defo_gpd['x_max'] = defo_bbox['x_max'].to_pandas()\n",
    "defo_gpd['y_min'] = defo_bbox['y_min'].to_pandas()\n",
    "defo_gpd['y_max'] = defo_bbox['y_max'].to_pandas()"
   ]
  },
  {
   "cell_type": "code",
   "execution_count": 325,
   "metadata": {},
   "outputs": [],
   "source": [
    "# Parameters for test.\n",
    "centroid_lat = -1.672125\n",
    "centroid_lon = -53.617889\n",
    "span = 15\n",
    "\n",
    "# Calculate location if we move 375 meters North and use to get grid steps.\n",
    "lat_375 = gpx.distance(kilometers=0.375).destination((centroid_lat, centroid_lon), bearing=0).latitude\n",
    "lat_step = abs(centroid_lat - lat_375)\n",
    "\n",
    "# Calculate location if we move 375 meters East and use to get grid steps.\n",
    "lon_375 = gpx.distance(kilometers=0.375).destination((centroid_lat, centroid_lon), bearing=90).longitude\n",
    "lon_step = abs(centroid_lon - lon_375)\n",
    "\n",
    "# Get bounding box of centroid and 100 pixels in all directions.\n",
    "min_lat = centroid_lat - (lat_step * span)\n",
    "max_lat = centroid_lat + (lat_step * span)\n",
    "min_lon = centroid_lon - (lon_step * span)\n",
    "max_lon = centroid_lon + (lon_step * span)"
   ]
  },
  {
   "cell_type": "code",
   "execution_count": 326,
   "metadata": {},
   "outputs": [
    {
     "data": {
      "text/plain": [
       "(-53.668440616872985,\n",
       " -53.56733738312701,\n",
       " -1.7229953490163887,\n",
       " -1.6212546509836114)"
      ]
     },
     "execution_count": 326,
     "metadata": {},
     "output_type": "execute_result"
    }
   ],
   "source": [
    "min_lon, max_lon, min_lat, max_lat"
   ]
  },
  {
   "cell_type": "code",
   "execution_count": 327,
   "metadata": {},
   "outputs": [],
   "source": [
    "centroid_defo = defo_gpd[(defo_gpd['x_min'] >= min_lon) & (defo_gpd['x_max'] <= max_lon) &\n",
    "         (defo_gpd['y_min'] >= min_lat) & (defo_gpd['y_max'] <= max_lat) &\n",
    "        (defo_gpd['x_min'] + defo_gpd['x_min'] + defo_gpd['x_min'] + defo_gpd['x_min'] != 0)]"
   ]
  },
  {
   "cell_type": "code",
   "execution_count": 328,
   "metadata": {},
   "outputs": [
    {
     "data": {
      "image/svg+xml": [
       "<svg xmlns=\"http://www.w3.org/2000/svg\" xmlns:xlink=\"http://www.w3.org/1999/xlink\" width=\"100.0\" height=\"100.0\" viewBox=\"-53.98084854296652 -2.368268673615849 0.007450076701495334 0.007839821279735926\" preserveAspectRatio=\"xMinYMin meet\"><g transform=\"matrix(1,0,0,-1,0,-4.7286975259519615)\"><path fill-rule=\"evenodd\" fill=\"#66cc99\" stroke=\"#555555\" stroke-width=\"0.00015679642559471852\" opacity=\"0.6\" d=\"M -53.98055817921542,-2.3674403098646537 L -53.98055817921542,-2.366368198758961 L -53.978944182604295,-2.366368198758961 L -53.978944182604295,-2.36529220205958 L -53.97840618373392,-2.36529220205958 L -53.97840618373392,-2.3647542037098903 L -53.97786818486354,-2.3647542037098903 L -53.97786818486354,-2.3636782070105102 L -53.97813718429873,-2.3636782070105102 L -53.97813718429873,-2.3626022103111293 L -53.97759918542835,-2.3626022103111293 L -53.97759918542835,-2.3620642119614397 L -53.977061186557975,-2.3620642119614397 L -53.977061186557975,-2.361526213611749 L -53.976523187687604,-2.361526213611749 L -53.976523187687604,-2.3607192160872144 L -53.97625418825241,-2.3607192160872144 L -53.97625418825241,-2.36098821526206 L -53.97437119220609,-2.36098821526206 L -53.97437119220609,-2.361257214436905 L -53.97410219277091,-2.361257214436905 L -53.97410219277091,-2.361526213611749 L -53.97395783001614,-2.361526213611749 L -53.97395783001613,-2.3617913098651457 L -53.97383319333572,-2.361791309865153 L -53.97368883001613,-2.3617913098651604 L -53.97368883001612,-2.3620603098651545 L -53.97383319333572,-2.3620603098651465 L -53.97395783001613,-2.3620603098651394 L -53.973957830016104,-2.3623293098651317 L -53.9742268300161,-2.362329309865117 L -53.97422683001607,-2.3625983098651107 L -53.974495830016046,-2.362598309865097 L -53.974495830016046,-2.3628673098650905 L -53.974764830016035,-2.3628673098650763 L -53.974764830016014,-2.3631363098650704 L -53.97503383001601,-2.3631363098650553 L -53.97503383001599,-2.3634053098650485 L -53.975302830016,-2.363405309865034 L -53.97530283001598,-2.3636782070105102 L -53.97530283001596,-2.3639433098650207 L -53.97544718994685,-2.3639433098650127 L -53.97557183001594,-2.363943309865006 L -53.97557183001594,-2.3642123098649996 L -53.975840830015926,-2.3642123098649854 L -53.975840830015905,-2.3644813098649786 L -53.97610983001588,-2.364481309864964 L -53.97610983001587,-2.3647503098649563 L -53.97637883001586,-2.3647503098649416 L -53.97637883001585,-2.365019309864936 L -53.976647830015835,-2.3650193098649224 L -53.976647830015835,-2.3652883098649133 L -53.97691683001582,-2.365288309864899 L -53.97691683001582,-2.36529220205958 L -53.9769168300158,-2.3655573098648937 L -53.977061186557975,-2.365557309864886 L -53.97745483001576,-2.365557309864865 L -53.977454830015745,-2.3658263098648575 L -53.97772383001574,-2.365826309864843 L -53.97772383001574,-2.3658302004092704 L -53.97772383001572,-2.3660953098648365 L -53.97786818486354,-2.366095309864829 L -53.977992830015715,-2.3660953098648227 L -53.977992830015715,-2.3660991995841156 L -53.9779928300157,-2.3663643098648164 L -53.97813718429873,-2.3663643098648084 L -53.9782618300157,-2.3663643098648017 L -53.97826183001567,-2.366902309864788 L -53.97813718429873,-2.3669023098647943 L -53.9779928300157,-2.3669023098648014 L -53.97799283001568,-2.3671713098647946 L -53.97772383001568,-2.3671713098648093 L -53.977723830015655,-2.367440309864803 L -53.97786818486354,-2.367440309864795 L -53.97799283001566,-2.3674403098647883 L -53.977992830015644,-2.3677093098647815 L -53.978530830015615,-2.3677093098647526 L -53.978530830015615,-2.3679783098647476 L -53.9786751831691,-2.36797830986474 L -53.97906883001557,-2.3679783098647196 L -53.97906883001559,-2.3677093098647255 L -53.98028917978023,-2.36770930986466 L -53.98041383001554,-2.3677093098646536 L -53.98041383001555,-2.3674441954583414 L -53.98041383001555,-2.3674403098646613 L -53.98055817921542,-2.3674403098646537 z\" /></g></svg>"
      ],
      "text/plain": [
       "<shapely.geometry.polygon.Polygon at 0x7fc337c6ab50>"
      ]
     },
     "execution_count": 328,
     "metadata": {},
     "output_type": "execute_result"
    }
   ],
   "source": [
    "defo_gpd.iloc[238].geometry"
   ]
  },
  {
   "cell_type": "code",
   "execution_count": 329,
   "metadata": {},
   "outputs": [
    {
     "data": {
      "text/plain": [
       "False    5\n",
       "dtype: int64"
      ]
     },
     "execution_count": 329,
     "metadata": {},
     "output_type": "execute_result"
    }
   ],
   "source": [
    "centroid = gpd.points_from_xy([centroid_lon], [centroid_lat])\n",
    "centroid_defo['geometry'].contains(centroid[0]).value_counts()"
   ]
  },
  {
   "cell_type": "code",
   "execution_count": 330,
   "metadata": {},
   "outputs": [],
   "source": [
    "lats = [min_lat + lat_step * x for x in range(0,span * 2 + 2)]\n",
    "lons = [min_lon + lon_step * x for x in range(0,span * 2 + 2)]\n",
    "grid = list(itertools.product(lons, lats))"
   ]
  },
  {
   "cell_type": "code",
   "execution_count": 331,
   "metadata": {},
   "outputs": [],
   "source": [
    "grid_points = gpd.points_from_xy([x[0] for x in grid], [y[1] for y in grid])"
   ]
  },
  {
   "cell_type": "code",
   "execution_count": 332,
   "metadata": {},
   "outputs": [
    {
     "name": "stdout",
     "output_type": "stream",
     "text": [
      "CPU times: user 40.3 ms, sys: 0 ns, total: 40.3 ms\n",
      "Wall time: 39.3 ms\n"
     ]
    }
   ],
   "source": [
    "%%time\n",
    "res = []\n",
    "for p in grid_points:\n",
    "    res.append(centroid_defo['geometry'].contains(p))"
   ]
  },
  {
   "cell_type": "code",
   "execution_count": 333,
   "metadata": {},
   "outputs": [
    {
     "data": {
      "text/plain": [
       "False    5120\n",
       "dtype: int64"
      ]
     },
     "execution_count": 333,
     "metadata": {},
     "output_type": "execute_result"
    }
   ],
   "source": [
    "pd.concat(res).value_counts()"
   ]
  },
  {
   "cell_type": "code",
   "execution_count": 334,
   "metadata": {},
   "outputs": [
    {
     "data": {
      "text/plain": [
       "Series([], dtype: bool)"
      ]
     },
     "execution_count": 334,
     "metadata": {},
     "output_type": "execute_result"
    }
   ],
   "source": [
    "pd.concat(res)[pd.concat(res) == True]"
   ]
  },
  {
   "cell_type": "code",
   "execution_count": 335,
   "metadata": {},
   "outputs": [
    {
     "data": {
      "text/plain": [
       "uid                                                      604903\n",
       "state                                                        PA\n",
       "path_row                                                  22762\n",
       "main_class                                         DESMATAMENTO\n",
       "class_name                                                d2010\n",
       "def_cloud                                                2009.0\n",
       "julian_day                                                180.0\n",
       "image_date                                           2010-06-29\n",
       "year                                                     2010.0\n",
       "area_km                                                 0.14511\n",
       "scene_id                                                 1128.0\n",
       "source                                                     None\n",
       "satellite                                                  None\n",
       "sensor                                                     None\n",
       "uuid                       0eb44bfc-2699-47e0-bd0e-5a816eb87368\n",
       "geometry      POLYGON ((-54.58742090499986 -2.63805430982544...\n",
       "x_min                                                -54.587421\n",
       "x_max                                                 -54.58231\n",
       "y_min                                                 -2.638595\n",
       "y_max                                                 -2.634022\n",
       "Name: 2912, dtype: object"
      ]
     },
     "execution_count": 335,
     "metadata": {},
     "output_type": "execute_result"
    }
   ],
   "source": [
    "defo_gpd.iloc[2912]"
   ]
  },
  {
   "cell_type": "code",
   "execution_count": 336,
   "metadata": {},
   "outputs": [],
   "source": [
    "grid_gdf = gpd.GeoDataFrame(grid_points)"
   ]
  },
  {
   "cell_type": "code",
   "execution_count": 337,
   "metadata": {},
   "outputs": [],
   "source": [
    "grid_gdf['contained'] = grid_gdf[0].within(defo_gpd.iloc[2912].geometry)"
   ]
  },
  {
   "cell_type": "code",
   "execution_count": 338,
   "metadata": {},
   "outputs": [
    {
     "data": {
      "text/html": [
       "<div>\n",
       "<style scoped>\n",
       "    .dataframe tbody tr th:only-of-type {\n",
       "        vertical-align: middle;\n",
       "    }\n",
       "\n",
       "    .dataframe tbody tr th {\n",
       "        vertical-align: top;\n",
       "    }\n",
       "\n",
       "    .dataframe thead th {\n",
       "        text-align: right;\n",
       "    }\n",
       "</style>\n",
       "<table border=\"1\" class=\"dataframe\">\n",
       "  <thead>\n",
       "    <tr style=\"text-align: right;\">\n",
       "      <th></th>\n",
       "      <th>0</th>\n",
       "      <th>contained</th>\n",
       "    </tr>\n",
       "  </thead>\n",
       "  <tbody>\n",
       "  </tbody>\n",
       "</table>\n",
       "</div>"
      ],
      "text/plain": [
       "Empty GeoDataFrame\n",
       "Columns: [0, contained]\n",
       "Index: []"
      ]
     },
     "execution_count": 338,
     "metadata": {},
     "output_type": "execute_result"
    }
   ],
   "source": [
    "grid_gdf[grid_gdf['contained'] == True]"
   ]
  },
  {
   "cell_type": "code",
   "execution_count": 339,
   "metadata": {},
   "outputs": [
    {
     "data": {
      "text/plain": [
       "(-53.668440616872985,\n",
       " -53.56733738312701,\n",
       " -1.7229953490163887,\n",
       " -1.6212546509836114)"
      ]
     },
     "execution_count": 339,
     "metadata": {},
     "output_type": "execute_result"
    }
   ],
   "source": [
    "min_lon, max_lon, min_lat, max_lat"
   ]
  },
  {
   "cell_type": "code",
   "execution_count": 340,
   "metadata": {},
   "outputs": [
    {
     "data": {
      "text/html": [
       "<div>\n",
       "<style scoped>\n",
       "    .dataframe tbody tr th:only-of-type {\n",
       "        vertical-align: middle;\n",
       "    }\n",
       "\n",
       "    .dataframe tbody tr th {\n",
       "        vertical-align: top;\n",
       "    }\n",
       "\n",
       "    .dataframe thead th {\n",
       "        text-align: right;\n",
       "    }\n",
       "</style>\n",
       "<table border=\"1\" class=\"dataframe\">\n",
       "  <thead>\n",
       "    <tr style=\"text-align: right;\">\n",
       "      <th></th>\n",
       "      <th>0</th>\n",
       "      <th>contained</th>\n",
       "    </tr>\n",
       "  </thead>\n",
       "  <tbody>\n",
       "    <tr>\n",
       "      <th>0</th>\n",
       "      <td>POINT (-53.66844 -1.72300)</td>\n",
       "      <td>False</td>\n",
       "    </tr>\n",
       "    <tr>\n",
       "      <th>1</th>\n",
       "      <td>POINT (-53.66844 -1.71960)</td>\n",
       "      <td>False</td>\n",
       "    </tr>\n",
       "    <tr>\n",
       "      <th>2</th>\n",
       "      <td>POINT (-53.66844 -1.71621)</td>\n",
       "      <td>False</td>\n",
       "    </tr>\n",
       "    <tr>\n",
       "      <th>3</th>\n",
       "      <td>POINT (-53.66844 -1.71282)</td>\n",
       "      <td>False</td>\n",
       "    </tr>\n",
       "    <tr>\n",
       "      <th>4</th>\n",
       "      <td>POINT (-53.66844 -1.70943)</td>\n",
       "      <td>False</td>\n",
       "    </tr>\n",
       "    <tr>\n",
       "      <th>...</th>\n",
       "      <td>...</td>\n",
       "      <td>...</td>\n",
       "    </tr>\n",
       "    <tr>\n",
       "      <th>1019</th>\n",
       "      <td>POINT (-53.56397 -1.63143)</td>\n",
       "      <td>False</td>\n",
       "    </tr>\n",
       "    <tr>\n",
       "      <th>1020</th>\n",
       "      <td>POINT (-53.56397 -1.62804)</td>\n",
       "      <td>False</td>\n",
       "    </tr>\n",
       "    <tr>\n",
       "      <th>1021</th>\n",
       "      <td>POINT (-53.56397 -1.62465)</td>\n",
       "      <td>False</td>\n",
       "    </tr>\n",
       "    <tr>\n",
       "      <th>1022</th>\n",
       "      <td>POINT (-53.56397 -1.62125)</td>\n",
       "      <td>False</td>\n",
       "    </tr>\n",
       "    <tr>\n",
       "      <th>1023</th>\n",
       "      <td>POINT (-53.56397 -1.61786)</td>\n",
       "      <td>False</td>\n",
       "    </tr>\n",
       "  </tbody>\n",
       "</table>\n",
       "<p>1024 rows × 2 columns</p>\n",
       "</div>"
      ],
      "text/plain": [
       "                               0  contained\n",
       "0     POINT (-53.66844 -1.72300)      False\n",
       "1     POINT (-53.66844 -1.71960)      False\n",
       "2     POINT (-53.66844 -1.71621)      False\n",
       "3     POINT (-53.66844 -1.71282)      False\n",
       "4     POINT (-53.66844 -1.70943)      False\n",
       "...                          ...        ...\n",
       "1019  POINT (-53.56397 -1.63143)      False\n",
       "1020  POINT (-53.56397 -1.62804)      False\n",
       "1021  POINT (-53.56397 -1.62465)      False\n",
       "1022  POINT (-53.56397 -1.62125)      False\n",
       "1023  POINT (-53.56397 -1.61786)      False\n",
       "\n",
       "[1024 rows x 2 columns]"
      ]
     },
     "execution_count": 340,
     "metadata": {},
     "output_type": "execute_result"
    }
   ],
   "source": [
    "grid_gdf"
   ]
  },
  {
   "cell_type": "code",
   "execution_count": 341,
   "metadata": {},
   "outputs": [
    {
     "data": {
      "text/html": [
       "<div>\n",
       "<style scoped>\n",
       "    .dataframe tbody tr th:only-of-type {\n",
       "        vertical-align: middle;\n",
       "    }\n",
       "\n",
       "    .dataframe tbody tr th {\n",
       "        vertical-align: top;\n",
       "    }\n",
       "\n",
       "    .dataframe thead th {\n",
       "        text-align: right;\n",
       "    }\n",
       "</style>\n",
       "<table border=\"1\" class=\"dataframe\">\n",
       "  <thead>\n",
       "    <tr style=\"text-align: right;\">\n",
       "      <th></th>\n",
       "      <th>uid</th>\n",
       "      <th>state</th>\n",
       "      <th>path_row</th>\n",
       "      <th>main_class</th>\n",
       "      <th>class_name</th>\n",
       "      <th>def_cloud</th>\n",
       "      <th>julian_day</th>\n",
       "      <th>image_date</th>\n",
       "      <th>year</th>\n",
       "      <th>area_km</th>\n",
       "      <th>scene_id</th>\n",
       "      <th>source</th>\n",
       "      <th>satellite</th>\n",
       "      <th>sensor</th>\n",
       "      <th>uuid</th>\n",
       "      <th>geometry</th>\n",
       "      <th>x_min</th>\n",
       "      <th>x_max</th>\n",
       "      <th>y_min</th>\n",
       "      <th>y_max</th>\n",
       "    </tr>\n",
       "  </thead>\n",
       "  <tbody>\n",
       "    <tr>\n",
       "      <th>32229</th>\n",
       "      <td>457017</td>\n",
       "      <td>PA</td>\n",
       "      <td>22761</td>\n",
       "      <td>DESMATAMENTO</td>\n",
       "      <td>d2016</td>\n",
       "      <td>0.0</td>\n",
       "      <td>229.0</td>\n",
       "      <td>2016-08-16</td>\n",
       "      <td>2016.0</td>\n",
       "      <td>0.089403</td>\n",
       "      <td>100317.0</td>\n",
       "      <td>None</td>\n",
       "      <td>None</td>\n",
       "      <td>None</td>\n",
       "      <td>7048840c-d52b-4e36-8477-e468d260035f</td>\n",
       "      <td>POLYGON ((-53.79397 -1.47840, -53.79236 -1.478...</td>\n",
       "      <td>-53.645485</td>\n",
       "      <td>-53.641851</td>\n",
       "      <td>-1.649479</td>\n",
       "      <td>-1.642757</td>\n",
       "    </tr>\n",
       "    <tr>\n",
       "      <th>32230</th>\n",
       "      <td>458287</td>\n",
       "      <td>PA</td>\n",
       "      <td>22761</td>\n",
       "      <td>DESMATAMENTO</td>\n",
       "      <td>d2017</td>\n",
       "      <td>0.0</td>\n",
       "      <td>199.0</td>\n",
       "      <td>2017-07-18</td>\n",
       "      <td>2017.0</td>\n",
       "      <td>0.145106</td>\n",
       "      <td>100558.0</td>\n",
       "      <td>None</td>\n",
       "      <td>None</td>\n",
       "      <td>None</td>\n",
       "      <td>cd21c477-f901-4e83-9649-d769829f9aab</td>\n",
       "      <td>POLYGON ((-53.68772 -1.46064, -53.68772 -1.458...</td>\n",
       "      <td>-53.651941</td>\n",
       "      <td>-53.648109</td>\n",
       "      <td>-1.623660</td>\n",
       "      <td>-1.621772</td>\n",
       "    </tr>\n",
       "    <tr>\n",
       "      <th>221917</th>\n",
       "      <td>1268684</td>\n",
       "      <td>AM</td>\n",
       "      <td>23063</td>\n",
       "      <td>DESMATAMENTO</td>\n",
       "      <td>d2008</td>\n",
       "      <td>2007.0</td>\n",
       "      <td>228.0</td>\n",
       "      <td>2008-08-15</td>\n",
       "      <td>2008.0</td>\n",
       "      <td>0.065722</td>\n",
       "      <td>668.0</td>\n",
       "      <td>None</td>\n",
       "      <td>None</td>\n",
       "      <td>None</td>\n",
       "      <td>58c8320c-e86b-489f-955b-f47c0e362c14</td>\n",
       "      <td>POLYGON ((-59.16297 -3.69953, -59.16272 -3.699...</td>\n",
       "      <td>-53.621175</td>\n",
       "      <td>-53.617140</td>\n",
       "      <td>-1.630111</td>\n",
       "      <td>-1.626611</td>\n",
       "    </tr>\n",
       "    <tr>\n",
       "      <th>450933</th>\n",
       "      <td>1503759</td>\n",
       "      <td>PA</td>\n",
       "      <td>22964</td>\n",
       "      <td>DESMATAMENTO</td>\n",
       "      <td>d2018</td>\n",
       "      <td>0.0</td>\n",
       "      <td>200.0</td>\n",
       "      <td>2018-07-19 12:00:00</td>\n",
       "      <td>2018.0</td>\n",
       "      <td>0.075405</td>\n",
       "      <td>101041.0</td>\n",
       "      <td>None</td>\n",
       "      <td>None</td>\n",
       "      <td>None</td>\n",
       "      <td>573d4acc-c07f-4f8d-9e4f-8b252c67205d</td>\n",
       "      <td>POLYGON ((-57.48846 -5.13623, -57.48833 -5.136...</td>\n",
       "      <td>-53.624243</td>\n",
       "      <td>-53.620468</td>\n",
       "      <td>-1.643292</td>\n",
       "      <td>-1.640230</td>\n",
       "    </tr>\n",
       "    <tr>\n",
       "      <th>531208</th>\n",
       "      <td>1071191</td>\n",
       "      <td>PA</td>\n",
       "      <td>22362</td>\n",
       "      <td>DESMATAMENTO</td>\n",
       "      <td>d2019</td>\n",
       "      <td>0.0</td>\n",
       "      <td>221.0</td>\n",
       "      <td>2019-08-09</td>\n",
       "      <td>2019.0</td>\n",
       "      <td>0.492656</td>\n",
       "      <td>132.0</td>\n",
       "      <td>None</td>\n",
       "      <td>None</td>\n",
       "      <td>None</td>\n",
       "      <td>6d67f1f6-2a23-4410-9a8d-aa97a662e035</td>\n",
       "      <td>POLYGON ((-48.08929 -2.84230, -48.08893 -2.842...</td>\n",
       "      <td>-53.601100</td>\n",
       "      <td>-53.594106</td>\n",
       "      <td>-1.638719</td>\n",
       "      <td>-1.635488</td>\n",
       "    </tr>\n",
       "  </tbody>\n",
       "</table>\n",
       "</div>"
      ],
      "text/plain": [
       "            uid state path_row    main_class class_name  def_cloud  \\\n",
       "32229    457017    PA    22761  DESMATAMENTO      d2016        0.0   \n",
       "32230    458287    PA    22761  DESMATAMENTO      d2017        0.0   \n",
       "221917  1268684    AM    23063  DESMATAMENTO      d2008     2007.0   \n",
       "450933  1503759    PA    22964  DESMATAMENTO      d2018        0.0   \n",
       "531208  1071191    PA    22362  DESMATAMENTO      d2019        0.0   \n",
       "\n",
       "        julian_day           image_date    year   area_km  scene_id source  \\\n",
       "32229        229.0           2016-08-16  2016.0  0.089403  100317.0   None   \n",
       "32230        199.0           2017-07-18  2017.0  0.145106  100558.0   None   \n",
       "221917       228.0           2008-08-15  2008.0  0.065722     668.0   None   \n",
       "450933       200.0  2018-07-19 12:00:00  2018.0  0.075405  101041.0   None   \n",
       "531208       221.0           2019-08-09  2019.0  0.492656     132.0   None   \n",
       "\n",
       "       satellite sensor                                  uuid  \\\n",
       "32229       None   None  7048840c-d52b-4e36-8477-e468d260035f   \n",
       "32230       None   None  cd21c477-f901-4e83-9649-d769829f9aab   \n",
       "221917      None   None  58c8320c-e86b-489f-955b-f47c0e362c14   \n",
       "450933      None   None  573d4acc-c07f-4f8d-9e4f-8b252c67205d   \n",
       "531208      None   None  6d67f1f6-2a23-4410-9a8d-aa97a662e035   \n",
       "\n",
       "                                                 geometry      x_min  \\\n",
       "32229   POLYGON ((-53.79397 -1.47840, -53.79236 -1.478... -53.645485   \n",
       "32230   POLYGON ((-53.68772 -1.46064, -53.68772 -1.458... -53.651941   \n",
       "221917  POLYGON ((-59.16297 -3.69953, -59.16272 -3.699... -53.621175   \n",
       "450933  POLYGON ((-57.48846 -5.13623, -57.48833 -5.136... -53.624243   \n",
       "531208  POLYGON ((-48.08929 -2.84230, -48.08893 -2.842... -53.601100   \n",
       "\n",
       "            x_max     y_min     y_max  \n",
       "32229  -53.641851 -1.649479 -1.642757  \n",
       "32230  -53.648109 -1.623660 -1.621772  \n",
       "221917 -53.617140 -1.630111 -1.626611  \n",
       "450933 -53.620468 -1.643292 -1.640230  \n",
       "531208 -53.594106 -1.638719 -1.635488  "
      ]
     },
     "execution_count": 341,
     "metadata": {},
     "output_type": "execute_result"
    }
   ],
   "source": [
    "centroid_defo"
   ]
  },
  {
   "cell_type": "code",
   "execution_count": 342,
   "metadata": {},
   "outputs": [
    {
     "data": {
      "image/png": "[encoded data removed]",
      "text/plain": [
       "<Figure size 2000x2000 with 1 Axes>"
      ]
     },
     "metadata": {},
     "output_type": "display_data"
    }
   ],
   "source": [
    "import matplotlib.pyplot as plt\n",
    "\n",
    "fig, ax = plt.subplots(figsize=(20,20))\n",
    "\n",
    "#ax.set_aspect('equal')\n",
    "\n",
    "centroid_defo.plot(ax=ax, edgecolor='black')\n",
    "grid_gdf.set_geometry(0).plot(ax=ax, color='red', markersize=0.5)\n",
    "\n",
    "plt.show()"
   ]
  },
  {
   "cell_type": "code",
   "execution_count": 343,
   "metadata": {},
   "outputs": [
    {
     "data": {
      "text/html": [
       "<div>\n",
       "<style scoped>\n",
       "    .dataframe tbody tr th:only-of-type {\n",
       "        vertical-align: middle;\n",
       "    }\n",
       "\n",
       "    .dataframe tbody tr th {\n",
       "        vertical-align: top;\n",
       "    }\n",
       "\n",
       "    .dataframe thead th {\n",
       "        text-align: right;\n",
       "    }\n",
       "</style>\n",
       "<table border=\"1\" class=\"dataframe\">\n",
       "  <thead>\n",
       "    <tr style=\"text-align: right;\">\n",
       "      <th></th>\n",
       "      <th>minx</th>\n",
       "      <th>miny</th>\n",
       "      <th>maxx</th>\n",
       "      <th>maxy</th>\n",
       "    </tr>\n",
       "  </thead>\n",
       "  <tbody>\n",
       "    <tr>\n",
       "      <th>32229</th>\n",
       "      <td>-53.793973</td>\n",
       "      <td>-1.481852</td>\n",
       "      <td>-53.789244</td>\n",
       "      <td>-1.477857</td>\n",
       "    </tr>\n",
       "    <tr>\n",
       "      <th>32230</th>\n",
       "      <td>-53.687718</td>\n",
       "      <td>-1.460910</td>\n",
       "      <td>-53.683211</td>\n",
       "      <td>-1.456715</td>\n",
       "    </tr>\n",
       "    <tr>\n",
       "      <th>221917</th>\n",
       "      <td>-59.162968</td>\n",
       "      <td>-3.701412</td>\n",
       "      <td>-59.160009</td>\n",
       "      <td>-3.698721</td>\n",
       "    </tr>\n",
       "    <tr>\n",
       "      <th>450933</th>\n",
       "      <td>-57.488463</td>\n",
       "      <td>-5.140458</td>\n",
       "      <td>-57.482426</td>\n",
       "      <td>-5.133289</td>\n",
       "    </tr>\n",
       "    <tr>\n",
       "      <th>531208</th>\n",
       "      <td>-48.089291</td>\n",
       "      <td>-2.845400</td>\n",
       "      <td>-48.079635</td>\n",
       "      <td>-2.840395</td>\n",
       "    </tr>\n",
       "  </tbody>\n",
       "</table>\n",
       "</div>"
      ],
      "text/plain": [
       "             minx      miny       maxx      maxy\n",
       "32229  -53.793973 -1.481852 -53.789244 -1.477857\n",
       "32230  -53.687718 -1.460910 -53.683211 -1.456715\n",
       "221917 -59.162968 -3.701412 -59.160009 -3.698721\n",
       "450933 -57.488463 -5.140458 -57.482426 -5.133289\n",
       "531208 -48.089291 -2.845400 -48.079635 -2.840395"
      ]
     },
     "execution_count": 343,
     "metadata": {},
     "output_type": "execute_result"
    }
   ],
   "source": [
    "centroid_defo.bounds"
   ]
  },
  {
   "cell_type": "code",
   "execution_count": 344,
   "metadata": {},
   "outputs": [
    {
     "data": {
      "text/html": [
       "<div>\n",
       "<style scoped>\n",
       "    .dataframe tbody tr th:only-of-type {\n",
       "        vertical-align: middle;\n",
       "    }\n",
       "\n",
       "    .dataframe tbody tr th {\n",
       "        vertical-align: top;\n",
       "    }\n",
       "\n",
       "    .dataframe thead th {\n",
       "        text-align: right;\n",
       "    }\n",
       "</style>\n",
       "<table border=\"1\" class=\"dataframe\">\n",
       "  <thead>\n",
       "    <tr style=\"text-align: right;\">\n",
       "      <th></th>\n",
       "      <th>x_min</th>\n",
       "      <th>y_min</th>\n",
       "      <th>x_max</th>\n",
       "      <th>y_max</th>\n",
       "    </tr>\n",
       "  </thead>\n",
       "  <tbody>\n",
       "    <tr>\n",
       "      <th>32229</th>\n",
       "      <td>-53.645485</td>\n",
       "      <td>-1.649479</td>\n",
       "      <td>-53.641851</td>\n",
       "      <td>-1.642757</td>\n",
       "    </tr>\n",
       "    <tr>\n",
       "      <th>32230</th>\n",
       "      <td>-53.651941</td>\n",
       "      <td>-1.623660</td>\n",
       "      <td>-53.648109</td>\n",
       "      <td>-1.621772</td>\n",
       "    </tr>\n",
       "    <tr>\n",
       "      <th>221917</th>\n",
       "      <td>-53.621175</td>\n",
       "      <td>-1.630111</td>\n",
       "      <td>-53.617140</td>\n",
       "      <td>-1.626611</td>\n",
       "    </tr>\n",
       "    <tr>\n",
       "      <th>450933</th>\n",
       "      <td>-53.624243</td>\n",
       "      <td>-1.643292</td>\n",
       "      <td>-53.620468</td>\n",
       "      <td>-1.640230</td>\n",
       "    </tr>\n",
       "    <tr>\n",
       "      <th>531208</th>\n",
       "      <td>-53.601100</td>\n",
       "      <td>-1.638719</td>\n",
       "      <td>-53.594106</td>\n",
       "      <td>-1.635488</td>\n",
       "    </tr>\n",
       "  </tbody>\n",
       "</table>\n",
       "</div>"
      ],
      "text/plain": [
       "            x_min     y_min      x_max     y_max\n",
       "32229  -53.645485 -1.649479 -53.641851 -1.642757\n",
       "32230  -53.651941 -1.623660 -53.648109 -1.621772\n",
       "221917 -53.621175 -1.630111 -53.617140 -1.626611\n",
       "450933 -53.624243 -1.643292 -53.620468 -1.640230\n",
       "531208 -53.601100 -1.638719 -53.594106 -1.635488"
      ]
     },
     "execution_count": 344,
     "metadata": {},
     "output_type": "execute_result"
    }
   ],
   "source": [
    "centroid_defo[['x_min','y_min','x_max','y_max']]"
   ]
  },
  {
   "cell_type": "code",
   "execution_count": 345,
   "metadata": {},
   "outputs": [
    {
     "data": {
      "text/html": [
       "<div>\n",
       "<style scoped>\n",
       "    .dataframe tbody tr th:only-of-type {\n",
       "        vertical-align: middle;\n",
       "    }\n",
       "\n",
       "    .dataframe tbody tr th {\n",
       "        vertical-align: top;\n",
       "    }\n",
       "\n",
       "    .dataframe thead th {\n",
       "        text-align: right;\n",
       "    }\n",
       "</style>\n",
       "<table border=\"1\" class=\"dataframe\">\n",
       "  <thead>\n",
       "    <tr style=\"text-align: right;\">\n",
       "      <th></th>\n",
       "      <th>uid</th>\n",
       "      <th>state</th>\n",
       "      <th>path_row</th>\n",
       "      <th>main_class</th>\n",
       "      <th>class_name</th>\n",
       "      <th>def_cloud</th>\n",
       "      <th>julian_day</th>\n",
       "      <th>image_date</th>\n",
       "      <th>year</th>\n",
       "      <th>area_km</th>\n",
       "      <th>scene_id</th>\n",
       "      <th>source</th>\n",
       "      <th>satellite</th>\n",
       "      <th>sensor</th>\n",
       "      <th>uuid</th>\n",
       "      <th>geometry</th>\n",
       "      <th>x_min</th>\n",
       "      <th>x_max</th>\n",
       "      <th>y_min</th>\n",
       "      <th>y_max</th>\n",
       "    </tr>\n",
       "  </thead>\n",
       "  <tbody>\n",
       "    <tr>\n",
       "      <th>32229</th>\n",
       "      <td>457017</td>\n",
       "      <td>PA</td>\n",
       "      <td>22761</td>\n",
       "      <td>DESMATAMENTO</td>\n",
       "      <td>d2016</td>\n",
       "      <td>0.0</td>\n",
       "      <td>229.0</td>\n",
       "      <td>2016-08-16</td>\n",
       "      <td>2016.0</td>\n",
       "      <td>0.089403</td>\n",
       "      <td>100317.0</td>\n",
       "      <td>None</td>\n",
       "      <td>None</td>\n",
       "      <td>None</td>\n",
       "      <td>7048840c-d52b-4e36-8477-e468d260035f</td>\n",
       "      <td>POLYGON ((-53.79397 -1.47840, -53.79236 -1.478...</td>\n",
       "      <td>-53.645485</td>\n",
       "      <td>-53.641851</td>\n",
       "      <td>-1.649479</td>\n",
       "      <td>-1.642757</td>\n",
       "    </tr>\n",
       "    <tr>\n",
       "      <th>32230</th>\n",
       "      <td>458287</td>\n",
       "      <td>PA</td>\n",
       "      <td>22761</td>\n",
       "      <td>DESMATAMENTO</td>\n",
       "      <td>d2017</td>\n",
       "      <td>0.0</td>\n",
       "      <td>199.0</td>\n",
       "      <td>2017-07-18</td>\n",
       "      <td>2017.0</td>\n",
       "      <td>0.145106</td>\n",
       "      <td>100558.0</td>\n",
       "      <td>None</td>\n",
       "      <td>None</td>\n",
       "      <td>None</td>\n",
       "      <td>cd21c477-f901-4e83-9649-d769829f9aab</td>\n",
       "      <td>POLYGON ((-53.68772 -1.46064, -53.68772 -1.458...</td>\n",
       "      <td>-53.651941</td>\n",
       "      <td>-53.648109</td>\n",
       "      <td>-1.623660</td>\n",
       "      <td>-1.621772</td>\n",
       "    </tr>\n",
       "    <tr>\n",
       "      <th>221917</th>\n",
       "      <td>1268684</td>\n",
       "      <td>AM</td>\n",
       "      <td>23063</td>\n",
       "      <td>DESMATAMENTO</td>\n",
       "      <td>d2008</td>\n",
       "      <td>2007.0</td>\n",
       "      <td>228.0</td>\n",
       "      <td>2008-08-15</td>\n",
       "      <td>2008.0</td>\n",
       "      <td>0.065722</td>\n",
       "      <td>668.0</td>\n",
       "      <td>None</td>\n",
       "      <td>None</td>\n",
       "      <td>None</td>\n",
       "      <td>58c8320c-e86b-489f-955b-f47c0e362c14</td>\n",
       "      <td>POLYGON ((-59.16297 -3.69953, -59.16272 -3.699...</td>\n",
       "      <td>-53.621175</td>\n",
       "      <td>-53.617140</td>\n",
       "      <td>-1.630111</td>\n",
       "      <td>-1.626611</td>\n",
       "    </tr>\n",
       "    <tr>\n",
       "      <th>450933</th>\n",
       "      <td>1503759</td>\n",
       "      <td>PA</td>\n",
       "      <td>22964</td>\n",
       "      <td>DESMATAMENTO</td>\n",
       "      <td>d2018</td>\n",
       "      <td>0.0</td>\n",
       "      <td>200.0</td>\n",
       "      <td>2018-07-19 12:00:00</td>\n",
       "      <td>2018.0</td>\n",
       "      <td>0.075405</td>\n",
       "      <td>101041.0</td>\n",
       "      <td>None</td>\n",
       "      <td>None</td>\n",
       "      <td>None</td>\n",
       "      <td>573d4acc-c07f-4f8d-9e4f-8b252c67205d</td>\n",
       "      <td>POLYGON ((-57.48846 -5.13623, -57.48833 -5.136...</td>\n",
       "      <td>-53.624243</td>\n",
       "      <td>-53.620468</td>\n",
       "      <td>-1.643292</td>\n",
       "      <td>-1.640230</td>\n",
       "    </tr>\n",
       "    <tr>\n",
       "      <th>531208</th>\n",
       "      <td>1071191</td>\n",
       "      <td>PA</td>\n",
       "      <td>22362</td>\n",
       "      <td>DESMATAMENTO</td>\n",
       "      <td>d2019</td>\n",
       "      <td>0.0</td>\n",
       "      <td>221.0</td>\n",
       "      <td>2019-08-09</td>\n",
       "      <td>2019.0</td>\n",
       "      <td>0.492656</td>\n",
       "      <td>132.0</td>\n",
       "      <td>None</td>\n",
       "      <td>None</td>\n",
       "      <td>None</td>\n",
       "      <td>6d67f1f6-2a23-4410-9a8d-aa97a662e035</td>\n",
       "      <td>POLYGON ((-48.08929 -2.84230, -48.08893 -2.842...</td>\n",
       "      <td>-53.601100</td>\n",
       "      <td>-53.594106</td>\n",
       "      <td>-1.638719</td>\n",
       "      <td>-1.635488</td>\n",
       "    </tr>\n",
       "  </tbody>\n",
       "</table>\n",
       "</div>"
      ],
      "text/plain": [
       "            uid state path_row    main_class class_name  def_cloud  \\\n",
       "32229    457017    PA    22761  DESMATAMENTO      d2016        0.0   \n",
       "32230    458287    PA    22761  DESMATAMENTO      d2017        0.0   \n",
       "221917  1268684    AM    23063  DESMATAMENTO      d2008     2007.0   \n",
       "450933  1503759    PA    22964  DESMATAMENTO      d2018        0.0   \n",
       "531208  1071191    PA    22362  DESMATAMENTO      d2019        0.0   \n",
       "\n",
       "        julian_day           image_date    year   area_km  scene_id source  \\\n",
       "32229        229.0           2016-08-16  2016.0  0.089403  100317.0   None   \n",
       "32230        199.0           2017-07-18  2017.0  0.145106  100558.0   None   \n",
       "221917       228.0           2008-08-15  2008.0  0.065722     668.0   None   \n",
       "450933       200.0  2018-07-19 12:00:00  2018.0  0.075405  101041.0   None   \n",
       "531208       221.0           2019-08-09  2019.0  0.492656     132.0   None   \n",
       "\n",
       "       satellite sensor                                  uuid  \\\n",
       "32229       None   None  7048840c-d52b-4e36-8477-e468d260035f   \n",
       "32230       None   None  cd21c477-f901-4e83-9649-d769829f9aab   \n",
       "221917      None   None  58c8320c-e86b-489f-955b-f47c0e362c14   \n",
       "450933      None   None  573d4acc-c07f-4f8d-9e4f-8b252c67205d   \n",
       "531208      None   None  6d67f1f6-2a23-4410-9a8d-aa97a662e035   \n",
       "\n",
       "                                                 geometry      x_min  \\\n",
       "32229   POLYGON ((-53.79397 -1.47840, -53.79236 -1.478... -53.645485   \n",
       "32230   POLYGON ((-53.68772 -1.46064, -53.68772 -1.458... -53.651941   \n",
       "221917  POLYGON ((-59.16297 -3.69953, -59.16272 -3.699... -53.621175   \n",
       "450933  POLYGON ((-57.48846 -5.13623, -57.48833 -5.136... -53.624243   \n",
       "531208  POLYGON ((-48.08929 -2.84230, -48.08893 -2.842... -53.601100   \n",
       "\n",
       "            x_max     y_min     y_max  \n",
       "32229  -53.641851 -1.649479 -1.642757  \n",
       "32230  -53.648109 -1.623660 -1.621772  \n",
       "221917 -53.617140 -1.630111 -1.626611  \n",
       "450933 -53.620468 -1.643292 -1.640230  \n",
       "531208 -53.594106 -1.638719 -1.635488  "
      ]
     },
     "execution_count": 345,
     "metadata": {},
     "output_type": "execute_result"
    }
   ],
   "source": [
    "centroid_defo"
   ]
  },
  {
   "cell_type": "markdown",
   "metadata": {},
   "source": [
    "### Testing Polygon Bounding Box Calculation and FIltering (GeoPandas)"
   ]
  },
  {
   "cell_type": "code",
   "execution_count": 289,
   "metadata": {},
   "outputs": [
    {
     "name": "stdout",
     "output_type": "stream",
     "text": [
      "CPU times: user 32.1 s, sys: 3.21 s, total: 35.4 s\n",
      "Wall time: 48.7 s\n"
     ]
    }
   ],
   "source": [
    "%%time\n",
    "# Try GeoPandas load.\n",
    "defo_gpd = gpd.read_file('Yearly_Deforestation_Biome/yearly_deforestation_biome.shp')"
   ]
  },
  {
   "cell_type": "code",
   "execution_count": 290,
   "metadata": {},
   "outputs": [
    {
     "name": "stdout",
     "output_type": "stream",
     "text": [
      "CPU times: user 13.1 s, sys: 0 ns, total: 13.1 s\n",
      "Wall time: 13.1 s\n"
     ]
    },
    {
     "data": {
      "text/html": [
       "<div>\n",
       "<style scoped>\n",
       "    .dataframe tbody tr th:only-of-type {\n",
       "        vertical-align: middle;\n",
       "    }\n",
       "\n",
       "    .dataframe tbody tr th {\n",
       "        vertical-align: top;\n",
       "    }\n",
       "\n",
       "    .dataframe thead th {\n",
       "        text-align: right;\n",
       "    }\n",
       "</style>\n",
       "<table border=\"1\" class=\"dataframe\">\n",
       "  <thead>\n",
       "    <tr style=\"text-align: right;\">\n",
       "      <th></th>\n",
       "      <th>minx</th>\n",
       "      <th>miny</th>\n",
       "      <th>maxx</th>\n",
       "      <th>maxy</th>\n",
       "    </tr>\n",
       "  </thead>\n",
       "  <tbody>\n",
       "    <tr>\n",
       "      <th>0</th>\n",
       "      <td>-63.051908</td>\n",
       "      <td>2.596715</td>\n",
       "      <td>-63.048150</td>\n",
       "      <td>2.599951</td>\n",
       "    </tr>\n",
       "    <tr>\n",
       "      <th>1</th>\n",
       "      <td>-62.638652</td>\n",
       "      <td>2.697585</td>\n",
       "      <td>-62.636223</td>\n",
       "      <td>2.699288</td>\n",
       "    </tr>\n",
       "    <tr>\n",
       "      <th>2</th>\n",
       "      <td>-63.343713</td>\n",
       "      <td>2.781734</td>\n",
       "      <td>-63.339324</td>\n",
       "      <td>2.784656</td>\n",
       "    </tr>\n",
       "    <tr>\n",
       "      <th>3</th>\n",
       "      <td>-63.340411</td>\n",
       "      <td>2.783470</td>\n",
       "      <td>-63.339335</td>\n",
       "      <td>2.783835</td>\n",
       "    </tr>\n",
       "    <tr>\n",
       "      <th>4</th>\n",
       "      <td>-63.164857</td>\n",
       "      <td>2.634077</td>\n",
       "      <td>-63.162167</td>\n",
       "      <td>2.637574</td>\n",
       "    </tr>\n",
       "    <tr>\n",
       "      <th>...</th>\n",
       "      <td>...</td>\n",
       "      <td>...</td>\n",
       "      <td>...</td>\n",
       "      <td>...</td>\n",
       "    </tr>\n",
       "    <tr>\n",
       "      <th>599814</th>\n",
       "      <td>-57.407988</td>\n",
       "      <td>-14.430745</td>\n",
       "      <td>-57.397497</td>\n",
       "      <td>-14.421868</td>\n",
       "    </tr>\n",
       "    <tr>\n",
       "      <th>599815</th>\n",
       "      <td>-57.477082</td>\n",
       "      <td>-14.389886</td>\n",
       "      <td>-57.474099</td>\n",
       "      <td>-14.386342</td>\n",
       "    </tr>\n",
       "    <tr>\n",
       "      <th>599816</th>\n",
       "      <td>-57.404186</td>\n",
       "      <td>-14.396582</td>\n",
       "      <td>-57.403953</td>\n",
       "      <td>-14.396567</td>\n",
       "    </tr>\n",
       "    <tr>\n",
       "      <th>599817</th>\n",
       "      <td>-57.399649</td>\n",
       "      <td>-14.421868</td>\n",
       "      <td>-57.399111</td>\n",
       "      <td>-14.421330</td>\n",
       "    </tr>\n",
       "    <tr>\n",
       "      <th>599818</th>\n",
       "      <td>-57.452511</td>\n",
       "      <td>-14.393278</td>\n",
       "      <td>-57.448338</td>\n",
       "      <td>-14.388930</td>\n",
       "    </tr>\n",
       "  </tbody>\n",
       "</table>\n",
       "<p>599819 rows × 4 columns</p>\n",
       "</div>"
      ],
      "text/plain": [
       "             minx       miny       maxx       maxy\n",
       "0      -63.051908   2.596715 -63.048150   2.599951\n",
       "1      -62.638652   2.697585 -62.636223   2.699288\n",
       "2      -63.343713   2.781734 -63.339324   2.784656\n",
       "3      -63.340411   2.783470 -63.339335   2.783835\n",
       "4      -63.164857   2.634077 -63.162167   2.637574\n",
       "...           ...        ...        ...        ...\n",
       "599814 -57.407988 -14.430745 -57.397497 -14.421868\n",
       "599815 -57.477082 -14.389886 -57.474099 -14.386342\n",
       "599816 -57.404186 -14.396582 -57.403953 -14.396567\n",
       "599817 -57.399649 -14.421868 -57.399111 -14.421330\n",
       "599818 -57.452511 -14.393278 -57.448338 -14.388930\n",
       "\n",
       "[599819 rows x 4 columns]"
      ]
     },
     "execution_count": 290,
     "metadata": {},
     "output_type": "execute_result"
    }
   ],
   "source": [
    "%%time\n",
    "# Get bouinding boxes.\n",
    "gpd_bbox = defo_gpd.bounds\n",
    "gpd_bbox"
   ]
  },
  {
   "cell_type": "code",
   "execution_count": 292,
   "metadata": {},
   "outputs": [],
   "source": [
    "# Add bounding boxes to DataFrame.\n",
    "defo_gpd['x_min'] = gpd_bbox['minx']\n",
    "defo_gpd['x_max'] = gpd_bbox['maxx']\n",
    "defo_gpd['y_min'] = gpd_bbox['miny']\n",
    "defo_gpd['y_max'] = gpd_bbox['maxy']"
   ]
  },
  {
   "cell_type": "code",
   "execution_count": 293,
   "metadata": {},
   "outputs": [],
   "source": [
    "# Parameters for test.\n",
    "centroid_lat = -1.672125\n",
    "centroid_lon = -53.617889\n",
    "span = 15\n",
    "\n",
    "# Calculate location if we move 375 meters North and use to get grid steps.\n",
    "lat_375 = gpx.distance(kilometers=0.375).destination((centroid_lat, centroid_lon), bearing=0).latitude\n",
    "lat_step = abs(centroid_lat - lat_375)\n",
    "\n",
    "# Calculate location if we move 375 meters East and use to get grid steps.\n",
    "lon_375 = gpx.distance(kilometers=0.375).destination((centroid_lat, centroid_lon), bearing=90).longitude\n",
    "lon_step = abs(centroid_lon - lon_375)\n",
    "\n",
    "# Get bounding box of centroid and 100 pixels in all directions.\n",
    "min_lat = centroid_lat - (lat_step * span)\n",
    "max_lat = centroid_lat + (lat_step * span)\n",
    "min_lon = centroid_lon - (lon_step * span)\n",
    "max_lon = centroid_lon + (lon_step * span)"
   ]
  },
  {
   "cell_type": "code",
   "execution_count": 294,
   "metadata": {},
   "outputs": [],
   "source": [
    "centroid_defo = defo_gpd[(defo_gpd['x_min'] >= min_lon) & (defo_gpd['x_max'] <= max_lon) &\n",
    "         (defo_gpd['y_min'] >= min_lat) & (defo_gpd['y_max'] <= max_lat) &\n",
    "        (defo_gpd['x_min'] + defo_gpd['x_min'] + defo_gpd['x_min'] + defo_gpd['x_min'] != 0)]"
   ]
  },
  {
   "cell_type": "code",
   "execution_count": 295,
   "metadata": {},
   "outputs": [
    {
     "data": {
      "text/html": [
       "<div>\n",
       "<style scoped>\n",
       "    .dataframe tbody tr th:only-of-type {\n",
       "        vertical-align: middle;\n",
       "    }\n",
       "\n",
       "    .dataframe tbody tr th {\n",
       "        vertical-align: top;\n",
       "    }\n",
       "\n",
       "    .dataframe thead th {\n",
       "        text-align: right;\n",
       "    }\n",
       "</style>\n",
       "<table border=\"1\" class=\"dataframe\">\n",
       "  <thead>\n",
       "    <tr style=\"text-align: right;\">\n",
       "      <th></th>\n",
       "      <th>uid</th>\n",
       "      <th>state</th>\n",
       "      <th>path_row</th>\n",
       "      <th>main_class</th>\n",
       "      <th>class_name</th>\n",
       "      <th>def_cloud</th>\n",
       "      <th>julian_day</th>\n",
       "      <th>image_date</th>\n",
       "      <th>year</th>\n",
       "      <th>area_km</th>\n",
       "      <th>scene_id</th>\n",
       "      <th>source</th>\n",
       "      <th>satellite</th>\n",
       "      <th>sensor</th>\n",
       "      <th>uuid</th>\n",
       "      <th>geometry</th>\n",
       "      <th>x_min</th>\n",
       "      <th>x_max</th>\n",
       "      <th>y_min</th>\n",
       "      <th>y_max</th>\n",
       "    </tr>\n",
       "  </thead>\n",
       "  <tbody>\n",
       "    <tr>\n",
       "      <th>32235</th>\n",
       "      <td>451935</td>\n",
       "      <td>PA</td>\n",
       "      <td>22761</td>\n",
       "      <td>DESMATAMENTO</td>\n",
       "      <td>d2015</td>\n",
       "      <td>0.0</td>\n",
       "      <td>226.0</td>\n",
       "      <td>2015-08-14</td>\n",
       "      <td>2015.0</td>\n",
       "      <td>0.161589</td>\n",
       "      <td>2575.0</td>\n",
       "      <td>None</td>\n",
       "      <td>None</td>\n",
       "      <td>None</td>\n",
       "      <td>5435c1b1-2334-483b-b95e-a9fb5119549b</td>\n",
       "      <td>POLYGON ((-53.64548 -1.64330, -53.64548 -1.643...</td>\n",
       "      <td>-53.645485</td>\n",
       "      <td>-53.641851</td>\n",
       "      <td>-1.649479</td>\n",
       "      <td>-1.642757</td>\n",
       "    </tr>\n",
       "    <tr>\n",
       "      <th>32236</th>\n",
       "      <td>972631</td>\n",
       "      <td>PA</td>\n",
       "      <td>22761</td>\n",
       "      <td>DESMATAMENTO</td>\n",
       "      <td>d2019</td>\n",
       "      <td>0.0</td>\n",
       "      <td>256.0</td>\n",
       "      <td>2019-09-13</td>\n",
       "      <td>2019.0</td>\n",
       "      <td>0.065526</td>\n",
       "      <td>122.0</td>\n",
       "      <td>None</td>\n",
       "      <td>None</td>\n",
       "      <td>None</td>\n",
       "      <td>68aa3716-03f2-438a-bf44-b2e2f0cfca77</td>\n",
       "      <td>POLYGON ((-53.65194 -1.62261, -53.65168 -1.622...</td>\n",
       "      <td>-53.651941</td>\n",
       "      <td>-53.648109</td>\n",
       "      <td>-1.623660</td>\n",
       "      <td>-1.621772</td>\n",
       "    </tr>\n",
       "    <tr>\n",
       "      <th>222024</th>\n",
       "      <td>416086</td>\n",
       "      <td>PA</td>\n",
       "      <td>22761</td>\n",
       "      <td>DESMATAMENTO</td>\n",
       "      <td>d2008</td>\n",
       "      <td>0.0</td>\n",
       "      <td>271.0</td>\n",
       "      <td>2008-09-27</td>\n",
       "      <td>2008.0</td>\n",
       "      <td>0.079449</td>\n",
       "      <td>627.0</td>\n",
       "      <td>None</td>\n",
       "      <td>None</td>\n",
       "      <td>None</td>\n",
       "      <td>343697c2-63f7-402d-bcf7-39c6373d1c08</td>\n",
       "      <td>POLYGON ((-53.62117 -1.62661, -53.61875 -1.626...</td>\n",
       "      <td>-53.621175</td>\n",
       "      <td>-53.617140</td>\n",
       "      <td>-1.630111</td>\n",
       "      <td>-1.626611</td>\n",
       "    </tr>\n",
       "    <tr>\n",
       "      <th>451199</th>\n",
       "      <td>451929</td>\n",
       "      <td>PA</td>\n",
       "      <td>22761</td>\n",
       "      <td>DESMATAMENTO</td>\n",
       "      <td>d2015</td>\n",
       "      <td>0.0</td>\n",
       "      <td>226.0</td>\n",
       "      <td>2015-08-14</td>\n",
       "      <td>2015.0</td>\n",
       "      <td>0.075871</td>\n",
       "      <td>2575.0</td>\n",
       "      <td>None</td>\n",
       "      <td>None</td>\n",
       "      <td>None</td>\n",
       "      <td>78a8253e-846b-4bc8-a9f1-20fdd6ab2e8b</td>\n",
       "      <td>POLYGON ((-53.62424 -1.64168, -53.62423 -1.641...</td>\n",
       "      <td>-53.624243</td>\n",
       "      <td>-53.620468</td>\n",
       "      <td>-1.643292</td>\n",
       "      <td>-1.640230</td>\n",
       "    </tr>\n",
       "    <tr>\n",
       "      <th>531519</th>\n",
       "      <td>416094</td>\n",
       "      <td>PA</td>\n",
       "      <td>22761</td>\n",
       "      <td>DESMATAMENTO</td>\n",
       "      <td>d2008</td>\n",
       "      <td>0.0</td>\n",
       "      <td>271.0</td>\n",
       "      <td>2008-09-27</td>\n",
       "      <td>2008.0</td>\n",
       "      <td>0.115781</td>\n",
       "      <td>627.0</td>\n",
       "      <td>None</td>\n",
       "      <td>None</td>\n",
       "      <td>None</td>\n",
       "      <td>c761443c-bdd5-4b52-9935-8e229602fc63</td>\n",
       "      <td>POLYGON ((-53.60110 -1.63737, -53.60110 -1.637...</td>\n",
       "      <td>-53.601100</td>\n",
       "      <td>-53.594106</td>\n",
       "      <td>-1.638719</td>\n",
       "      <td>-1.635488</td>\n",
       "    </tr>\n",
       "  </tbody>\n",
       "</table>\n",
       "</div>"
      ],
      "text/plain": [
       "           uid state path_row    main_class class_name  def_cloud  julian_day  \\\n",
       "32235   451935    PA    22761  DESMATAMENTO      d2015        0.0       226.0   \n",
       "32236   972631    PA    22761  DESMATAMENTO      d2019        0.0       256.0   \n",
       "222024  416086    PA    22761  DESMATAMENTO      d2008        0.0       271.0   \n",
       "451199  451929    PA    22761  DESMATAMENTO      d2015        0.0       226.0   \n",
       "531519  416094    PA    22761  DESMATAMENTO      d2008        0.0       271.0   \n",
       "\n",
       "        image_date    year   area_km  scene_id source satellite sensor  \\\n",
       "32235   2015-08-14  2015.0  0.161589    2575.0   None      None   None   \n",
       "32236   2019-09-13  2019.0  0.065526     122.0   None      None   None   \n",
       "222024  2008-09-27  2008.0  0.079449     627.0   None      None   None   \n",
       "451199  2015-08-14  2015.0  0.075871    2575.0   None      None   None   \n",
       "531519  2008-09-27  2008.0  0.115781     627.0   None      None   None   \n",
       "\n",
       "                                        uuid  \\\n",
       "32235   5435c1b1-2334-483b-b95e-a9fb5119549b   \n",
       "32236   68aa3716-03f2-438a-bf44-b2e2f0cfca77   \n",
       "222024  343697c2-63f7-402d-bcf7-39c6373d1c08   \n",
       "451199  78a8253e-846b-4bc8-a9f1-20fdd6ab2e8b   \n",
       "531519  c761443c-bdd5-4b52-9935-8e229602fc63   \n",
       "\n",
       "                                                 geometry      x_min  \\\n",
       "32235   POLYGON ((-53.64548 -1.64330, -53.64548 -1.643... -53.645485   \n",
       "32236   POLYGON ((-53.65194 -1.62261, -53.65168 -1.622... -53.651941   \n",
       "222024  POLYGON ((-53.62117 -1.62661, -53.61875 -1.626... -53.621175   \n",
       "451199  POLYGON ((-53.62424 -1.64168, -53.62423 -1.641... -53.624243   \n",
       "531519  POLYGON ((-53.60110 -1.63737, -53.60110 -1.637... -53.601100   \n",
       "\n",
       "            x_max     y_min     y_max  \n",
       "32235  -53.641851 -1.649479 -1.642757  \n",
       "32236  -53.648109 -1.623660 -1.621772  \n",
       "222024 -53.617140 -1.630111 -1.626611  \n",
       "451199 -53.620468 -1.643292 -1.640230  \n",
       "531519 -53.594106 -1.638719 -1.635488  "
      ]
     },
     "execution_count": 295,
     "metadata": {},
     "output_type": "execute_result"
    }
   ],
   "source": [
    "centroid_defo"
   ]
  },
  {
   "cell_type": "code",
   "execution_count": 308,
   "metadata": {},
   "outputs": [],
   "source": [
    "lats = [min_lat + lat_step * x for x in range(0,span * 2 + 2)]\n",
    "lons = [min_lon + lon_step * x for x in range(0,span * 2 + 2)]\n",
    "grid = list(itertools.product(lons, lats))"
   ]
  },
  {
   "cell_type": "code",
   "execution_count": 309,
   "metadata": {},
   "outputs": [],
   "source": [
    "grid_points = gpd.points_from_xy([x[0] for x in grid], [y[1] for y in grid])"
   ]
  },
  {
   "cell_type": "code",
   "execution_count": 310,
   "metadata": {},
   "outputs": [
    {
     "name": "stdout",
     "output_type": "stream",
     "text": [
      "CPU times: user 41.5 ms, sys: 0 ns, total: 41.5 ms\n",
      "Wall time: 39.8 ms\n"
     ]
    }
   ],
   "source": [
    "%%time\n",
    "res = []\n",
    "for p in grid_points:\n",
    "    res.append(centroid_defo['geometry'].contains(p))"
   ]
  },
  {
   "cell_type": "code",
   "execution_count": 311,
   "metadata": {},
   "outputs": [
    {
     "data": {
      "text/plain": [
       "False    5117\n",
       "True        3\n",
       "dtype: int64"
      ]
     },
     "execution_count": 311,
     "metadata": {},
     "output_type": "execute_result"
    }
   ],
   "source": [
    "pd.concat(res).value_counts()"
   ]
  },
  {
   "cell_type": "code",
   "execution_count": 312,
   "metadata": {},
   "outputs": [
    {
     "data": {
      "text/plain": [
       "32235     True\n",
       "451199    True\n",
       "531519    True\n",
       "dtype: bool"
      ]
     },
     "execution_count": 312,
     "metadata": {},
     "output_type": "execute_result"
    }
   ],
   "source": [
    "pd.concat(res)[pd.concat(res) == True]"
   ]
  },
  {
   "cell_type": "code",
   "execution_count": 313,
   "metadata": {},
   "outputs": [],
   "source": [
    "grid_gdf = gpd.GeoDataFrame(grid_points)"
   ]
  },
  {
   "cell_type": "code",
   "execution_count": 314,
   "metadata": {},
   "outputs": [
    {
     "data": {
      "image/png": "[encoded data removed]",
      "text/plain": [
       "<Figure size 1000x1000 with 1 Axes>"
      ]
     },
     "metadata": {},
     "output_type": "display_data"
    }
   ],
   "source": [
    "import matplotlib.pyplot as plt\n",
    "\n",
    "fig, ax = plt.subplots(figsize=(10,10))\n",
    "\n",
    "#ax.set_aspect('equal')\n",
    "\n",
    "centroid_defo.boundary.plot(ax=ax, edgecolor='black')\n",
    "grid_gdf.set_geometry(0).plot(ax=ax, color='red', markersize=0.5)\n",
    "\n",
    "plt.show()"
   ]
  },
  {
   "cell_type": "markdown",
   "metadata": {},
   "source": [
    "### Geographic Filtering"
   ]
  },
  {
   "cell_type": "code",
   "execution_count": null,
   "metadata": {},
   "outputs": [],
   "source": [
    "# Get polygon count.\n",
    "poly_count = len(deforestation[0])\n",
    "\n",
    "# Make iterations.\n",
    "pip_iterations = create_iterations(0, poly_count + 1, 31)"
   ]
  },
  {
   "cell_type": "code",
   "execution_count": null,
   "metadata": {},
   "outputs": [],
   "source": [
    "pip_iterations"
   ]
  },
  {
   "cell_type": "code",
   "execution_count": null,
   "metadata": {},
   "outputs": [],
   "source": [
    "%%time\n",
    "# Check pixels from dataframe to see if they're in Para.\n",
    "# Source Article: https://medium.com/swlh/how-to-perform-fast-and-powerful-geospatial-data-analysis-with-gpu-48f16a168b10\n",
    "# Source Code: https://github.com/shakasom/geospatial-gpu\n",
    "#pip = cuspatial.point_in_polygon(px_combined['Lon'] , px_combined['Lat'], \n",
    "#                                         deforestation[0], \n",
    "#                                         deforestation[1], \n",
    "#                                         deforestation[2]['x'], \n",
    "#                                         deforestation[2]['y']\n",
    "#                                       )\n",
    "\n",
    "pip_df = perform_pip(px_combined,\n",
    "                     deforestation,\n",
    "                     pip_iterations\n",
    "                    )"
   ]
  },
  {
   "cell_type": "code",
   "execution_count": null,
   "metadata": {},
   "outputs": [],
   "source": [
    "pip_df"
   ]
  },
  {
   "cell_type": "code",
   "execution_count": null,
   "metadata": {},
   "outputs": [],
   "source": [
    "32 * 32"
   ]
  },
  {
   "cell_type": "code",
   "execution_count": null,
   "metadata": {
    "scrolled": true
   },
   "outputs": [],
   "source": [
    "px_combined['Deforested'] = pip"
   ]
  },
  {
   "cell_type": "code",
   "execution_count": null,
   "metadata": {},
   "outputs": [],
   "source": [
    "%%time\n",
    "any_pip_df = any_pip(px_combined,\n",
    "                     deforestation,\n",
    "                     pip_iterations\n",
    "                    )"
   ]
  },
  {
   "cell_type": "code",
   "execution_count": null,
   "metadata": {},
   "outputs": [],
   "source": [
    "dummy_points = [x - y for x in range(0,32) for y in range(32,0,-1)]\n",
    "dummy_points2 = [x + y for x in range(32,0,-1) for y in range(0,32)]\n",
    "dummy_df = cudf.DataFrame(list(zip(dummy_points,dummy_points2)), columns = ['Lat', 'Lon'])\n",
    "dummy_df"
   ]
  },
  {
   "cell_type": "code",
   "execution_count": null,
   "metadata": {},
   "outputs": [],
   "source": [
    "%%time\n",
    "any_pip_df2 = any_pip(dummy_df,\n",
    "                     deforestation,\n",
    "                     pip_iterations\n",
    "                    )"
   ]
  },
  {
   "cell_type": "code",
   "execution_count": null,
   "metadata": {},
   "outputs": [],
   "source": [
    "simp_df = cudf.DataFrame([[-5,12]], columns = ['Lat', 'Lon'])\n",
    "simp_df"
   ]
  },
  {
   "cell_type": "code",
   "execution_count": null,
   "metadata": {},
   "outputs": [],
   "source": [
    "%%time\n",
    "any_pip_df3 = any_pip(simp_df,\n",
    "                     deforestation,\n",
    "                     pip_iterations\n",
    "                    )"
   ]
  },
  {
   "cell_type": "markdown",
   "metadata": {},
   "source": [
    "### Quality Check and Save"
   ]
  },
  {
   "cell_type": "code",
   "execution_count": null,
   "metadata": {},
   "outputs": [],
   "source": [
    "# Perform filtering.\n",
    "px_deforested = px_combined[px_combined['Deforested'] == True]"
   ]
  },
  {
   "cell_type": "code",
   "execution_count": null,
   "metadata": {},
   "outputs": [],
   "source": [
    "# Check residual dataset percentage.\n",
    "len(px_deforested) / len(px_deforested)"
   ]
  },
  {
   "cell_type": "code",
   "execution_count": null,
   "metadata": {},
   "outputs": [],
   "source": [
    "len(px_combined)"
   ]
  },
  {
   "cell_type": "code",
   "execution_count": null,
   "metadata": {},
   "outputs": [],
   "source": [
    "len(px_deforested)"
   ]
  },
  {
   "cell_type": "code",
   "execution_count": null,
   "metadata": {},
   "outputs": [],
   "source": [
    "# Save filtered GeoDataFrame.\n",
    "px_deforested.to_csv('VIIRS_Deforested.csv')"
   ]
  },
  {
   "cell_type": "markdown",
   "metadata": {},
   "source": [
    "### FIltering to September"
   ]
  },
  {
   "cell_type": "code",
   "execution_count": null,
   "metadata": {},
   "outputs": [],
   "source": [
    "# Dropping unused columns.\n",
    "px_deforested = px_deforested.drop(['Unnamed: 0','Unnamed: 0.1'], axis=1)"
   ]
  },
  {
   "cell_type": "code",
   "execution_count": null,
   "metadata": {},
   "outputs": [],
   "source": [
    "px_deforested['YYYYMMDD'].astype(str)"
   ]
  },
  {
   "cell_type": "code",
   "execution_count": null,
   "metadata": {},
   "outputs": [],
   "source": [
    "# Add date.\n",
    "px_deforested['Date'] = pd.to_datetime(px_deforested['YYYYMMDD'].astype(str).to_pandas())"
   ]
  },
  {
   "cell_type": "code",
   "execution_count": null,
   "metadata": {},
   "outputs": [],
   "source": [
    "# Add month and year.\n",
    "px_deforested['Month'] = pd.DatetimeIndex(px_deforested['Date'].to_pandas()).month\n",
    "px_deforested['Year'] = pd.DatetimeIndex(px_deforested['Date'].to_pandas()).year"
   ]
  },
  {
   "cell_type": "code",
   "execution_count": null,
   "metadata": {},
   "outputs": [],
   "source": [
    "# Filter to September and see how much data we're working with.\n",
    "px_deforested[px_deforested['Month'] == 9].Year.value_counts()"
   ]
  },
  {
   "cell_type": "code",
   "execution_count": null,
   "metadata": {},
   "outputs": [],
   "source": [
    "# Save Septmber data.\n",
    "px_deforested[px_deforested['Month'] == 9].to_csv('VIIRS_Deforested_September.csv')"
   ]
  }
 ],
 "metadata": {
  "kernelspec": {
   "display_name": "Python 3 (ipykernel)",
   "language": "python",
   "name": "python3"
  },
  "language_info": {
   "codemirror_mode": {
    "name": "ipython",
    "version": 3
   },
   "file_extension": ".py",
   "mimetype": "text/x-python",
   "name": "python",
   "nbconvert_exporter": "python",
   "pygments_lexer": "ipython3",
   "version": "3.9.13"
  }
 },
 "nbformat": 4,
 "nbformat_minor": 4
}
