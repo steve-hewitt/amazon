{
  "cells": [
    {
      "cell_type": "markdown",
      "metadata": {
        "id": "G4dGQFZwAWe3"
      },
      "source": [
        "# Main script to clean wind data at the daily level\n",
        "\n",
        "**Citations (data sources)**\n",
        "\n",
        "``Wind data:`` \n",
        "\n",
        "download the \"MERRA2_100.tavgM_2d_slv_Nx\" product; this provides monthly averages of U and V components\n",
        "\n",
        "1. https://search.earthdata.nasa.gov/search/granules?p=C1276812859-GES_DISC&pg[0][qt]=1991-01-01T00%3A00%3A00.000Z%2C2017-12-31T23%3A59%3A59.999Z&pg[0][gsk]=-start_date&q=MERRA-2%20tavgM&tl=1624239533!3!!&m=-0.0703125!0.0703125!2!1!0!0%2C2\n",
        "\n",
        "and data dictionary here:\n",
        "\n",
        "2. https://gmao.gsfc.nasa.gov/pubs/docs/Bosilovich785.pdf\n",
        "3. https://disc.gsfc.nasa.gov/datasets/M2T1NXSLV_5.12.4/summary\n",
        "\n",
        "\n",
        "``Shapefiles for California ZIP codes (2010 census):``\n",
        "\n",
        "4. https://www.census.gov/cgi-bin/geo/shapefiles/index.php?year=2010&layergroup=ZIP+Code+Tabulation+Areas\n",
        "\n",
        "``Installation errors with Geopandas:``\n",
        "\n",
        "5. https://stackoverflow.com/questions/54734667/error-installing-geopandas-a-gdal-api-version-must-be-specified-in-anaconda\n",
        "\n",
        "``How to compute wind speed and direction:``\n",
        "\n",
        "6. https://stackoverflow.com/questions/21484558/how-to-calculate-wind-direction-from-u-and-v-wind-components-in-r\n",
        "7. https://github.com/blaylockbk/Ute_WRF/blob/master/functions/wind_calcs.py\n",
        "\n",
        "``Wind speed and direction intuition:``\n",
        "\n",
        "8. http://colaweb.gmu.edu/dev/clim301/lectures/wind/wind-uv\n",
        "9. https://www.earthdatascience.org/courses/use-data-open-source-python/intro-vector-data-python/spatial-data-vector-shapefiles/intro-to-coordinate-reference-systems-python/\n",
        "\n",
        "``To create maps of this wind data:``\n",
        "\n",
        "and also used to provide intuition for winddir and windspeed\n",
        "\n",
        "10. https://disc.gsfc.nasa.gov/information/howto?title=How%20to%20calculate%20and%20plot%20wind%20speed%20using%20MERRA-2%20wind%20component%20data%20using%20Python\n",
        "\n",
        "\n",
        "\n",
        "**Citations (persons)**\n",
        "1. N/A\n",
        "\n",
        "**Preferred environment**\n",
        "1. Code written in Jupyter Notebooks"
      ]
    },
    {
      "cell_type": "code",
      "execution_count": 1,
      "metadata": {
        "id": "usjqSXH8AWe4",
        "colab": {
          "base_uri": "https://localhost:8080/"
        },
        "outputId": "b0393804-806f-4970-bac4-dfc868c10fde"
      },
      "outputs": [
        {
          "output_type": "stream",
          "name": "stdout",
          "text": [
            "Looking in indexes: https://pypi.org/simple, https://us-python.pkg.dev/colab-wheels/public/simple/\n",
            "Collecting cartopy\n",
            "  Downloading Cartopy-0.20.3.tar.gz (10.8 MB)\n",
            "\u001b[K     |████████████████████████████████| 10.8 MB 7.9 MB/s \n",
            "\u001b[?25h  Installing build dependencies ... \u001b[?25l\u001b[?25hdone\n",
            "  Getting requirements to build wheel ... \u001b[?25l\u001b[?25herror\n",
            "\u001b[33mWARNING: Discarding https://files.pythonhosted.org/packages/98/a9/0e4000eabadfcff6373c0fec790863b543b919cbfec18aed60d71ba67d5d/Cartopy-0.20.3.tar.gz#sha256=0d60fa2e2fbd77c4d1f6b1f9d3b588966147f07c1b179d2d34570ac1e1b49006 (from https://pypi.org/simple/cartopy/) (requires-python:>=3.7). Command errored out with exit status 1: /usr/bin/python3 /usr/local/lib/python3.7/dist-packages/pip/_vendor/pep517/in_process/_in_process.py get_requires_for_build_wheel /tmp/tmpi0ufxpt9 Check the logs for full command output.\u001b[0m\n",
            "  Downloading Cartopy-0.20.2.tar.gz (10.8 MB)\n",
            "\u001b[K     |████████████████████████████████| 10.8 MB 37.0 MB/s \n",
            "\u001b[?25h  Installing build dependencies ... \u001b[?25l\u001b[?25hdone\n",
            "  Getting requirements to build wheel ... \u001b[?25l\u001b[?25herror\n",
            "\u001b[33mWARNING: Discarding https://files.pythonhosted.org/packages/f6/55/1e1c737dc9436b320deead73d1c455ddbb74b8b6992081863492f6f6378a/Cartopy-0.20.2.tar.gz#sha256=4d08c198ecaa50a6a6b109d0f14c070e813defc046a83ac5d7ab494f85599e35 (from https://pypi.org/simple/cartopy/) (requires-python:>=3.7). Command errored out with exit status 1: /usr/bin/python3 /usr/local/lib/python3.7/dist-packages/pip/_vendor/pep517/in_process/_in_process.py get_requires_for_build_wheel /tmp/tmpj1u08059 Check the logs for full command output.\u001b[0m\n",
            "  Downloading Cartopy-0.20.1.tar.gz (10.8 MB)\n",
            "\u001b[K     |████████████████████████████████| 10.8 MB 41.2 MB/s \n",
            "\u001b[?25h  Installing build dependencies ... \u001b[?25l\u001b[?25hdone\n",
            "  Getting requirements to build wheel ... \u001b[?25l\u001b[?25herror\n",
            "\u001b[33mWARNING: Discarding https://files.pythonhosted.org/packages/fc/59/aa52698e3838f4cd0e7eaa75bd86837e9e0b05041dbdaee3cda2fffced06/Cartopy-0.20.1.tar.gz#sha256=91f87b130e2574547a20cd634498df97d797abd12dcfd0235bc0cdbcec8b05e3 (from https://pypi.org/simple/cartopy/) (requires-python:>=3.7). Command errored out with exit status 1: /usr/bin/python3 /usr/local/lib/python3.7/dist-packages/pip/_vendor/pep517/in_process/_in_process.py get_requires_for_build_wheel /tmp/tmp3e84pl9l Check the logs for full command output.\u001b[0m\n",
            "  Downloading Cartopy-0.20.0.tar.gz (10.8 MB)\n",
            "\u001b[K     |████████████████████████████████| 10.8 MB 34.5 MB/s \n",
            "\u001b[?25h  Installing build dependencies ... \u001b[?25l\u001b[?25hdone\n",
            "  Getting requirements to build wheel ... \u001b[?25l\u001b[?25herror\n",
            "\u001b[33mWARNING: Discarding https://files.pythonhosted.org/packages/0f/c0/58453b036e79046d211f083880d58dcce787e7e07647ac25dc46c6555099/Cartopy-0.20.0.tar.gz#sha256=eae58aff26806e63cf115b2bce9477cedc4aa9f578c5e477b2c25cfa404f2b7a (from https://pypi.org/simple/cartopy/) (requires-python:>=3.7). Command errored out with exit status 1: /usr/bin/python3 /usr/local/lib/python3.7/dist-packages/pip/_vendor/pep517/in_process/_in_process.py get_requires_for_build_wheel /tmp/tmpyue3a9q4 Check the logs for full command output.\u001b[0m\n",
            "  Downloading Cartopy-0.19.0.post1.tar.gz (12.1 MB)\n",
            "\u001b[K     |████████████████████████████████| 12.1 MB 40.7 MB/s \n",
            "\u001b[?25h  Installing build dependencies ... \u001b[?25l\u001b[?25hdone\n",
            "  Getting requirements to build wheel ... \u001b[?25l\u001b[?25hdone\n",
            "    Preparing wheel metadata ... \u001b[?25l\u001b[?25hdone\n",
            "Collecting pyshp>=2\n",
            "  Downloading pyshp-2.3.1-py2.py3-none-any.whl (46 kB)\n",
            "\u001b[K     |████████████████████████████████| 46 kB 3.8 MB/s \n",
            "\u001b[?25hRequirement already satisfied: shapely>=1.5.6 in /usr/local/lib/python3.7/dist-packages (from cartopy) (1.8.4)\n",
            "Requirement already satisfied: numpy>=1.13.3 in /usr/local/lib/python3.7/dist-packages (from cartopy) (1.21.6)\n",
            "Building wheels for collected packages: cartopy\n",
            "  Building wheel for cartopy (PEP 517) ... \u001b[?25l\u001b[?25hdone\n",
            "  Created wheel for cartopy: filename=Cartopy-0.19.0.post1-cp37-cp37m-linux_x86_64.whl size=12516280 sha256=492188d176f52c30e9f5e6c71c20f8bbfaa4e60d8bf8367a47be427d86766108\n",
            "  Stored in directory: /root/.cache/pip/wheels/98/01/f7/bd10aeb96fe4b518cde5f7c4f5e12c7202f85b7353a5017847\n",
            "Successfully built cartopy\n",
            "Installing collected packages: pyshp, cartopy\n",
            "Successfully installed cartopy-0.19.0.post1 pyshp-2.3.1\n"
          ]
        }
      ],
      "source": [
        "# conda install -c conda-forge cartopy\n",
        "!pip install cartopy"
      ]
    },
    {
      "cell_type": "code",
      "source": [
        "!pip install geopandas\n",
        "!pip install osmnx"
      ],
      "metadata": {
        "id": "ygeoO1m2Do_J",
        "colab": {
          "base_uri": "https://localhost:8080/",
          "height": 1000
        },
        "outputId": "e8875ec2-00a7-4c9c-ecf1-245e2ffe1a43"
      },
      "execution_count": 2,
      "outputs": [
        {
          "output_type": "stream",
          "name": "stdout",
          "text": [
            "Looking in indexes: https://pypi.org/simple, https://us-python.pkg.dev/colab-wheels/public/simple/\n",
            "Collecting geopandas\n",
            "  Downloading geopandas-0.10.2-py2.py3-none-any.whl (1.0 MB)\n",
            "\u001b[K     |████████████████████████████████| 1.0 MB 7.5 MB/s \n",
            "\u001b[?25hRequirement already satisfied: shapely>=1.6 in /usr/local/lib/python3.7/dist-packages (from geopandas) (1.8.4)\n",
            "Collecting fiona>=1.8\n",
            "  Downloading Fiona-1.8.21-cp37-cp37m-manylinux2014_x86_64.whl (16.7 MB)\n",
            "\u001b[K     |████████████████████████████████| 16.7 MB 36.9 MB/s \n",
            "\u001b[?25hCollecting pyproj>=2.2.0\n",
            "  Downloading pyproj-3.2.1-cp37-cp37m-manylinux2010_x86_64.whl (6.3 MB)\n",
            "\u001b[K     |████████████████████████████████| 6.3 MB 38.6 MB/s \n",
            "\u001b[?25hRequirement already satisfied: pandas>=0.25.0 in /usr/local/lib/python3.7/dist-packages (from geopandas) (1.3.5)\n",
            "Requirement already satisfied: setuptools in /usr/local/lib/python3.7/dist-packages (from fiona>=1.8->geopandas) (57.4.0)\n",
            "Collecting munch\n",
            "  Downloading munch-2.5.0-py2.py3-none-any.whl (10 kB)\n",
            "Requirement already satisfied: attrs>=17 in /usr/local/lib/python3.7/dist-packages (from fiona>=1.8->geopandas) (22.1.0)\n",
            "Collecting cligj>=0.5\n",
            "  Downloading cligj-0.7.2-py3-none-any.whl (7.1 kB)\n",
            "Requirement already satisfied: click>=4.0 in /usr/local/lib/python3.7/dist-packages (from fiona>=1.8->geopandas) (7.1.2)\n",
            "Collecting click-plugins>=1.0\n",
            "  Downloading click_plugins-1.1.1-py2.py3-none-any.whl (7.5 kB)\n",
            "Requirement already satisfied: six>=1.7 in /usr/local/lib/python3.7/dist-packages (from fiona>=1.8->geopandas) (1.15.0)\n",
            "Requirement already satisfied: certifi in /usr/local/lib/python3.7/dist-packages (from fiona>=1.8->geopandas) (2022.9.24)\n",
            "Requirement already satisfied: pytz>=2017.3 in /usr/local/lib/python3.7/dist-packages (from pandas>=0.25.0->geopandas) (2022.4)\n",
            "Requirement already satisfied: python-dateutil>=2.7.3 in /usr/local/lib/python3.7/dist-packages (from pandas>=0.25.0->geopandas) (2.8.2)\n",
            "Requirement already satisfied: numpy>=1.17.3 in /usr/local/lib/python3.7/dist-packages (from pandas>=0.25.0->geopandas) (1.21.6)\n",
            "Installing collected packages: munch, cligj, click-plugins, pyproj, fiona, geopandas\n",
            "Successfully installed click-plugins-1.1.1 cligj-0.7.2 fiona-1.8.21 geopandas-0.10.2 munch-2.5.0 pyproj-3.2.1\n",
            "Looking in indexes: https://pypi.org/simple, https://us-python.pkg.dev/colab-wheels/public/simple/\n",
            "Collecting osmnx\n",
            "  Downloading osmnx-1.1.2-py2.py3-none-any.whl (95 kB)\n",
            "\u001b[K     |████████████████████████████████| 95 kB 3.1 MB/s \n",
            "\u001b[?25hRequirement already satisfied: pyproj>=3.2 in /usr/local/lib/python3.7/dist-packages (from osmnx) (3.2.1)\n",
            "Collecting requests>=2.26\n",
            "  Downloading requests-2.28.1-py3-none-any.whl (62 kB)\n",
            "\u001b[K     |████████████████████████████████| 62 kB 1.2 MB/s \n",
            "\u001b[?25hCollecting Rtree>=0.9\n",
            "  Downloading Rtree-1.0.0-cp37-cp37m-manylinux_2_17_x86_64.manylinux2014_x86_64.whl (1.0 MB)\n",
            "\u001b[K     |████████████████████████████████| 1.0 MB 55.0 MB/s \n",
            "\u001b[?25hRequirement already satisfied: Shapely<2.0,>=1.7 in /usr/local/lib/python3.7/dist-packages (from osmnx) (1.8.4)\n",
            "Requirement already satisfied: networkx>=2.6 in /usr/local/lib/python3.7/dist-packages (from osmnx) (2.6.3)\n",
            "Requirement already satisfied: pandas>=1.3 in /usr/local/lib/python3.7/dist-packages (from osmnx) (1.3.5)\n",
            "Requirement already satisfied: geopandas>=0.10 in /usr/local/lib/python3.7/dist-packages (from osmnx) (0.10.2)\n",
            "Requirement already satisfied: numpy>=1.21 in /usr/local/lib/python3.7/dist-packages (from osmnx) (1.21.6)\n",
            "Collecting matplotlib>=3.4\n",
            "  Downloading matplotlib-3.5.3-cp37-cp37m-manylinux_2_5_x86_64.manylinux1_x86_64.whl (11.2 MB)\n",
            "\u001b[K     |████████████████████████████████| 11.2 MB 48.1 MB/s \n",
            "\u001b[?25hRequirement already satisfied: fiona>=1.8 in /usr/local/lib/python3.7/dist-packages (from geopandas>=0.10->osmnx) (1.8.21)\n",
            "Requirement already satisfied: click>=4.0 in /usr/local/lib/python3.7/dist-packages (from fiona>=1.8->geopandas>=0.10->osmnx) (7.1.2)\n",
            "Requirement already satisfied: cligj>=0.5 in /usr/local/lib/python3.7/dist-packages (from fiona>=1.8->geopandas>=0.10->osmnx) (0.7.2)\n",
            "Requirement already satisfied: munch in /usr/local/lib/python3.7/dist-packages (from fiona>=1.8->geopandas>=0.10->osmnx) (2.5.0)\n",
            "Requirement already satisfied: click-plugins>=1.0 in /usr/local/lib/python3.7/dist-packages (from fiona>=1.8->geopandas>=0.10->osmnx) (1.1.1)\n",
            "Requirement already satisfied: attrs>=17 in /usr/local/lib/python3.7/dist-packages (from fiona>=1.8->geopandas>=0.10->osmnx) (22.1.0)\n",
            "Requirement already satisfied: setuptools in /usr/local/lib/python3.7/dist-packages (from fiona>=1.8->geopandas>=0.10->osmnx) (57.4.0)\n",
            "Requirement already satisfied: certifi in /usr/local/lib/python3.7/dist-packages (from fiona>=1.8->geopandas>=0.10->osmnx) (2022.9.24)\n",
            "Requirement already satisfied: six>=1.7 in /usr/local/lib/python3.7/dist-packages (from fiona>=1.8->geopandas>=0.10->osmnx) (1.15.0)\n",
            "Requirement already satisfied: cycler>=0.10 in /usr/local/lib/python3.7/dist-packages (from matplotlib>=3.4->osmnx) (0.11.0)\n",
            "Collecting fonttools>=4.22.0\n",
            "  Downloading fonttools-4.37.4-py3-none-any.whl (960 kB)\n",
            "\u001b[K     |████████████████████████████████| 960 kB 50.3 MB/s \n",
            "\u001b[?25hRequirement already satisfied: pillow>=6.2.0 in /usr/local/lib/python3.7/dist-packages (from matplotlib>=3.4->osmnx) (7.1.2)\n",
            "Requirement already satisfied: packaging>=20.0 in /usr/local/lib/python3.7/dist-packages (from matplotlib>=3.4->osmnx) (21.3)\n",
            "Requirement already satisfied: python-dateutil>=2.7 in /usr/local/lib/python3.7/dist-packages (from matplotlib>=3.4->osmnx) (2.8.2)\n",
            "Requirement already satisfied: pyparsing>=2.2.1 in /usr/local/lib/python3.7/dist-packages (from matplotlib>=3.4->osmnx) (3.0.9)\n",
            "Requirement already satisfied: kiwisolver>=1.0.1 in /usr/local/lib/python3.7/dist-packages (from matplotlib>=3.4->osmnx) (1.4.4)\n",
            "Requirement already satisfied: typing-extensions in /usr/local/lib/python3.7/dist-packages (from kiwisolver>=1.0.1->matplotlib>=3.4->osmnx) (4.1.1)\n",
            "Requirement already satisfied: pytz>=2017.3 in /usr/local/lib/python3.7/dist-packages (from pandas>=1.3->osmnx) (2022.4)\n",
            "Requirement already satisfied: urllib3<1.27,>=1.21.1 in /usr/local/lib/python3.7/dist-packages (from requests>=2.26->osmnx) (1.24.3)\n",
            "Requirement already satisfied: charset-normalizer<3,>=2 in /usr/local/lib/python3.7/dist-packages (from requests>=2.26->osmnx) (2.1.1)\n",
            "Requirement already satisfied: idna<4,>=2.5 in /usr/local/lib/python3.7/dist-packages (from requests>=2.26->osmnx) (2.10)\n",
            "Installing collected packages: fonttools, Rtree, requests, matplotlib, osmnx\n",
            "  Attempting uninstall: requests\n",
            "    Found existing installation: requests 2.23.0\n",
            "    Uninstalling requests-2.23.0:\n",
            "      Successfully uninstalled requests-2.23.0\n",
            "  Attempting uninstall: matplotlib\n",
            "    Found existing installation: matplotlib 3.2.2\n",
            "    Uninstalling matplotlib-3.2.2:\n",
            "      Successfully uninstalled matplotlib-3.2.2\n",
            "Successfully installed Rtree-1.0.0 fonttools-4.37.4 matplotlib-3.5.3 osmnx-1.1.2 requests-2.28.1\n"
          ]
        },
        {
          "output_type": "display_data",
          "data": {
            "application/vnd.colab-display-data+json": {
              "pip_warning": {
                "packages": [
                  "matplotlib",
                  "mpl_toolkits"
                ]
              }
            }
          },
          "metadata": {}
        }
      ]
    },
    {
      "cell_type": "code",
      "source": [
        "from google.colab import drive\n",
        "\n",
        "drive.mount(\"/content/gdrive\")"
      ],
      "metadata": {
        "colab": {
          "base_uri": "https://localhost:8080/"
        },
        "id": "-Phryf_SK5Xa",
        "outputId": "0909a542-2b75-42b2-d3a1-67854fcba636"
      },
      "execution_count": 3,
      "outputs": [
        {
          "output_type": "stream",
          "name": "stdout",
          "text": [
            "Mounted at /content/gdrive\n"
          ]
        }
      ]
    },
    {
      "cell_type": "code",
      "source": [
        "# !ls \"/content/gdrive/MyDrive\"\n",
        "# !mkdir \"/content/gdrive/MyDrive/W210-data\"\n",
        "! ls \"/content/gdrive/MyDrive/W210-data\"\n",
        "# !mkdir \"/content/gdrive/MyDrive/W210-data/shapefiles_zcta/\"\n",
        "# !ls \"/content/gdrive/MyDrive/W210-data/shapefiles_zcta/amazon-biome-states/\""
      ],
      "metadata": {
        "colab": {
          "base_uri": "https://localhost:8080/"
        },
        "id": "4TFboD6EMa_7",
        "outputId": "2f5b58a3-9901-4923-f721-7609b8d40631"
      },
      "execution_count": 4,
      "outputs": [
        {
          "output_type": "stream",
          "name": "stdout",
          "text": [
            "MERRA2_400.tavg3_3d_asm_Nv.20211231.nc4  shapefiles_zcta\n",
            "MERRA2_400.tavgM_2d_slv_Nx.202112.nc4\n"
          ]
        }
      ]
    },
    {
      "cell_type": "markdown",
      "metadata": {
        "id": "v6Z3pzIcAWe7"
      },
      "source": [
        "### Step 1: Import packages"
      ]
    },
    {
      "cell_type": "code",
      "execution_count": 5,
      "metadata": {
        "colab": {
          "base_uri": "https://localhost:8080/"
        },
        "id": "LQCetTtLAWe7",
        "outputId": "f6a6c8fa-53bb-445c-b0d0-6444623a731a"
      },
      "outputs": [
        {
          "output_type": "stream",
          "name": "stderr",
          "text": [
            "/usr/local/lib/python3.7/dist-packages/sklearn/neighbors/_distance_metric.py:14: FutureWarning: sklearn.neighbors.DistanceMetric has been moved to sklearn.metrics.DistanceMetric in 1.0. This import path will be removed in 1.3\n",
            "  category=FutureWarning,\n"
          ]
        }
      ],
      "source": [
        "import pandas as pd\n",
        "import numpy as np\n",
        "import netCDF4 as ncdf\n",
        "import os\n",
        "from datetime import date, timedelta\n",
        "from math import pi\n",
        "\n",
        "import matplotlib.pyplot as plt\n",
        "import cartopy.crs as ccrs\n",
        "from cartopy.mpl.gridliner import LONGITUDE_FORMATTER, LATITUDE_FORMATTER\n",
        "import matplotlib.ticker as mticker\n",
        "\n",
        "# geography\n",
        "import geopandas as gpd\n",
        "import osmnx as ox\n",
        "import shapely\n",
        "from shapely.geometry import Point\n",
        "import sklearn.neighbors\n",
        "dist = sklearn.neighbors.DistanceMetric.get_metric(\n",
        "    'haversine'\n",
        ")\n",
        "\n",
        "# ignore warnings\n",
        "import warnings\n",
        "warnings.filterwarnings(\n",
        "    'ignore'\n",
        ")"
      ]
    },
    {
      "cell_type": "markdown",
      "metadata": {
        "id": "y64IxWL6AWe7"
      },
      "source": [
        "### Step 2: Define working directories"
      ]
    },
    {
      "cell_type": "code",
      "execution_count": 7,
      "metadata": {
        "id": "KnR0bCsXAWe7"
      },
      "outputs": [],
      "source": [
        "# in_dir_zip_shapes = 'C:/Users/cilin/Research/CA_hospitals/Input/raw_data/census_geo/shapefiles_zcta/'\n",
        "# in_dir = 'C:/Users/cilin/Research/CA_hospitals/Input/raw_data/winds/'\n",
        "# in_health = 'C:/Users/cilin/Research/CA_hospitals/Input/final_data/health/'\n",
        "# out_dir = 'C:/Users/cilin/Research/CA_hospitals/Input/final_data/winds/'\n",
        "\n",
        "in_dir = \"/content/gdrive/MyDrive/W210-data/\"\n",
        "in_dir_zip_shapes = \"/content/gdrive/MyDrive/W210-data/shapefiles_zcta/amazon-biome-states/\""
      ]
    },
    {
      "cell_type": "markdown",
      "metadata": {
        "id": "zyKkcK2qAWe8"
      },
      "source": [
        "### Step 3: Define functions"
      ]
    },
    {
      "cell_type": "markdown",
      "metadata": {
        "id": "0xTbb35pAWe8"
      },
      "source": [
        "``read_clean wind``"
      ]
    },
    {
      "cell_type": "code",
      "source": [
        "os.listdir(in_dir)\n",
        "\n",
        "wind_1day = ncdf.Dataset('/content/gdrive/MyDrive/W210-data/MERRA2_400.tavg3_3d_asm_Nv.20211231.nc4', mode = 'r')\n",
        "list(wind_1day.variables)"
      ],
      "metadata": {
        "colab": {
          "base_uri": "https://localhost:8080/"
        },
        "id": "gJvKjkP49Jrk",
        "outputId": "48be827e-6bbc-4e88-b86a-034502ec5b84"
      },
      "execution_count": 8,
      "outputs": [
        {
          "output_type": "execute_result",
          "data": {
            "text/plain": [
              "['lon',\n",
              " 'lat',\n",
              " 'lev',\n",
              " 'time',\n",
              " 'CLOUD',\n",
              " 'DELP',\n",
              " 'EPV',\n",
              " 'H',\n",
              " 'O3',\n",
              " 'OMEGA',\n",
              " 'PHIS',\n",
              " 'PL',\n",
              " 'PS',\n",
              " 'QI',\n",
              " 'QL',\n",
              " 'QV',\n",
              " 'RH',\n",
              " 'SLP',\n",
              " 'T',\n",
              " 'U',\n",
              " 'V']"
            ]
          },
          "metadata": {},
          "execution_count": 8
        }
      ]
    },
    {
      "cell_type": "code",
      "source": [
        "# grab vars of interest ##\n",
        "##########################\n",
        "# timestamp\n",
        "timestamp = wind_1day.variables['time']\n",
        "# longitude and latitude\n",
        "lons = wind_1day.variables['lon']\n",
        "lats = wind_1day.variables['lat']\n",
        "# eastward wind m/s\n",
        "U = wind_1day.variables['U']\n",
        "# northward wind m/s\n",
        "V = wind_1day.variables['V']\n",
        "# air temperature\n",
        "T = wind_1day.variables['T']\n"
      ],
      "metadata": {
        "id": "bckkh1ZTYx0D"
      },
      "execution_count": 9,
      "outputs": []
    },
    {
      "cell_type": "code",
      "source": [
        "timestamp[:]"
      ],
      "metadata": {
        "colab": {
          "base_uri": "https://localhost:8080/"
        },
        "id": "0lZFqo8l9Hcm",
        "outputId": "84fc8632-a9bd-42d8-924e-e2535cd49e35"
      },
      "execution_count": null,
      "outputs": [
        {
          "output_type": "execute_result",
          "data": {
            "text/plain": [
              "masked_array(data=[   0,  180,  360,  540,  720,  900, 1080, 1260],\n",
              "             mask=False,\n",
              "       fill_value=999999,\n",
              "            dtype=int32)"
            ]
          },
          "metadata": {},
          "execution_count": 9
        }
      ]
    },
    {
      "cell_type": "code",
      "source": [
        "timestamp"
      ],
      "metadata": {
        "colab": {
          "base_uri": "https://localhost:8080/"
        },
        "id": "lZE_FT2Ljyh3",
        "outputId": "f8b97d93-6ef3-43a7-d555-4f6fbefb78ff"
      },
      "execution_count": 10,
      "outputs": [
        {
          "output_type": "execute_result",
          "data": {
            "text/plain": [
              "<class 'netCDF4._netCDF4.Variable'>\n",
              "int32 time(time)\n",
              "    long_name: time\n",
              "    units: minutes since 2021-12-31 01:30:00\n",
              "    time_increment: 30000\n",
              "    begin_date: 20211231\n",
              "    begin_time: 13000\n",
              "    vmax: 1000000000000000.0\n",
              "    vmin: -1000000000000000.0\n",
              "    valid_range: [-1.e+15  1.e+15]\n",
              "unlimited dimensions: time\n",
              "current shape = (8,)\n",
              "filling on, default _FillValue of -2147483647 used"
            ]
          },
          "metadata": {},
          "execution_count": 10
        }
      ]
    },
    {
      "cell_type": "code",
      "source": [
        "U.shape"
      ],
      "metadata": {
        "colab": {
          "base_uri": "https://localhost:8080/"
        },
        "id": "sUgaUqZskJ43",
        "outputId": "81210873-98b3-4c87-c2a4-b79c19bb1996"
      },
      "execution_count": null,
      "outputs": [
        {
          "output_type": "execute_result",
          "data": {
            "text/plain": [
              "(8, 72, 361, 576)"
            ]
          },
          "metadata": {},
          "execution_count": 12
        }
      ]
    },
    {
      "cell_type": "code",
      "source": [
        "# see the ground level data\n",
        "U[0][71][0][0]"
      ],
      "metadata": {
        "colab": {
          "base_uri": "https://localhost:8080/"
        },
        "id": "DGCqIWCXmQmA",
        "outputId": "91564a3b-efa0-46e9-8cfe-e6ecab77fe7f"
      },
      "execution_count": 12,
      "outputs": [
        {
          "output_type": "execute_result",
          "data": {
            "text/plain": [
              "2.1872091"
            ]
          },
          "metadata": {},
          "execution_count": 12
        }
      ]
    },
    {
      "cell_type": "code",
      "source": [
        "V[0][71][0][0]"
      ],
      "metadata": {
        "colab": {
          "base_uri": "https://localhost:8080/"
        },
        "id": "FaLTAmkVmuBN",
        "outputId": "1b02ac16-5cf8-4494-abdf-bdc7ffffbcb2"
      },
      "execution_count": 13,
      "outputs": [
        {
          "output_type": "execute_result",
          "data": {
            "text/plain": [
              "2.1277099"
            ]
          },
          "metadata": {},
          "execution_count": 13
        }
      ]
    },
    {
      "cell_type": "code",
      "source": [
        "lons[0]"
      ],
      "metadata": {
        "colab": {
          "base_uri": "https://localhost:8080/"
        },
        "id": "ptaaYv5ymt_o",
        "outputId": "e465ba10-d8b5-4d80-a253-7f0d9804dbc1"
      },
      "execution_count": null,
      "outputs": [
        {
          "output_type": "execute_result",
          "data": {
            "text/plain": [
              "masked_array(data=-180.,\n",
              "             mask=False,\n",
              "       fill_value=1e+20)"
            ]
          },
          "metadata": {},
          "execution_count": 22
        }
      ]
    },
    {
      "cell_type": "code",
      "source": [
        "U._FillValue"
      ],
      "metadata": {
        "colab": {
          "base_uri": "https://localhost:8080/"
        },
        "id": "3-kYDGfekUGO",
        "outputId": "f19e8922-65f6-408c-992e-3516eb757419"
      },
      "execution_count": null,
      "outputs": [
        {
          "output_type": "execute_result",
          "data": {
            "text/plain": [
              "1000000000000000.0"
            ]
          },
          "metadata": {},
          "execution_count": 36
        }
      ]
    },
    {
      "cell_type": "code",
      "source": [
        "V.shape"
      ],
      "metadata": {
        "colab": {
          "base_uri": "https://localhost:8080/"
        },
        "id": "1xl0GdBBhqU2",
        "outputId": "3b5005b0-b3a5-4eec-e4d9-9183525c00dc"
      },
      "execution_count": null,
      "outputs": [
        {
          "output_type": "execute_result",
          "data": {
            "text/plain": [
              "(8, 72, 361, 576)"
            ]
          },
          "metadata": {},
          "execution_count": 13
        }
      ]
    },
    {
      "cell_type": "code",
      "source": [
        "V._FillValue"
      ],
      "metadata": {
        "colab": {
          "base_uri": "https://localhost:8080/"
        },
        "id": "aWCqMO1zhsCz",
        "outputId": "8b063cbe-11df-4fe9-fb9f-2353b9d1d468"
      },
      "execution_count": null,
      "outputs": [
        {
          "output_type": "execute_result",
          "data": {
            "text/plain": [
              "1000000000000000.0"
            ]
          },
          "metadata": {},
          "execution_count": 14
        }
      ]
    },
    {
      "cell_type": "code",
      "source": [
        "# Replace vals #\n",
        "################\n",
        "#\\_FillValues with NaNs:\n",
        "U_nans = U[:]\n",
        "V_nans = V[:]\n",
        "_FillValueU = U._FillValue\n",
        "_FillValueV = V._FillValue\n",
        "U_nans[U_nans == _FillValueU] = np.nan\n",
        "V_nans[V_nans == _FillValueV] = np.nan\n"
      ],
      "metadata": {
        "id": "A_CiZtO6VBvK"
      },
      "execution_count": 17,
      "outputs": []
    },
    {
      "cell_type": "code",
      "source": [
        "# for timestamp\n",
        "time_nans = timestamp[:]\n",
        "# _FillValueTime = 999999.0\n",
        "# time_nans[time_nans == _FillValueTime] = np.nan"
      ],
      "metadata": {
        "id": "0hknST0sg6tR"
      },
      "execution_count": 18,
      "outputs": []
    },
    {
      "cell_type": "code",
      "source": [
        "(U_nans**2).shape"
      ],
      "metadata": {
        "colab": {
          "base_uri": "https://localhost:8080/"
        },
        "id": "lMwTO9mu8aV3",
        "outputId": "ef860979-c101-4b09-963f-5e5e0816779f"
      },
      "execution_count": 24,
      "outputs": [
        {
          "output_type": "execute_result",
          "data": {
            "text/plain": [
              "(8, 72, 361, 576)"
            ]
          },
          "metadata": {},
          "execution_count": 24
        }
      ]
    },
    {
      "cell_type": "code",
      "source": [
        "# Add new vars #\n",
        "################\n",
        "# calculate wind speed\n",
        "wspd = np.sqrt(U_nans**2 + V_nans**2)\n",
        "\n",
        "# calculate wind direction in radians\n",
        "wdir = np.arctan2(V_nans, U_nans)\n",
        "            \n",
        "# transform wind direction from radians to degrees\n",
        "wdir_to_degrees = wdir * 180/pi  \n",
        "            \n",
        "#wdir_to_degrees = np.mod(180+np.rad2deg(np.arctan2(V2M_nans, U2M_nans)), 360)\n",
        "wdir_to_degrees = np.mod(np.rad2deg(np.arctan2(V_nans, U_nans)), 360)"
      ],
      "metadata": {
        "id": "5sVy-nq6eXIS"
      },
      "execution_count": 25,
      "outputs": []
    },
    {
      "cell_type": "code",
      "source": [
        "# print all shapes \n",
        "print(\"wspd: \", wspd.shape, \"\\n\",\n",
        "      \"wdir: \", wdir.shape, \"\\n\",\n",
        "      \"wdir_to_degrees: \", wdir_to_degrees.shape)"
      ],
      "metadata": {
        "colab": {
          "base_uri": "https://localhost:8080/"
        },
        "id": "6S3ZiCQsgQ5u",
        "outputId": "a180d228-4377-4234-cb98-477f30d767af"
      },
      "execution_count": 28,
      "outputs": [
        {
          "output_type": "stream",
          "name": "stdout",
          "text": [
            "wspd:  (8, 72, 361, 576) \n",
            " wdir:  (8, 72, 361, 576) \n",
            " wdir_to_degrees:  (8, 72, 361, 576)\n"
          ]
        }
      ]
    },
    {
      "cell_type": "code",
      "source": [
        "## transform to df ##\n",
        "#####################\n",
        "# create an empty df for wind speed and direction with size len(lats) x len(lons) \n",
        "df_wdir = pd.DataFrame(index=lats[:], columns=lons[:])   \n",
        "df_wspd = pd.DataFrame(index=lats[:], columns=lons[:])\n",
        "            \n",
        "# create an empty df for u and v components with size len(lats) x len(lons) \n",
        "df_u = pd.DataFrame(index=lats[:], columns=lons[:])\n",
        "df_v = pd.DataFrame(index=lats[:], columns=lons[:])"
      ],
      "metadata": {
        "id": "Py4llo8SfpaL"
      },
      "execution_count": 29,
      "outputs": []
    },
    {
      "cell_type": "code",
      "source": [
        "df_wdir.index\n",
        "# df_wdir.shape"
      ],
      "metadata": {
        "colab": {
          "base_uri": "https://localhost:8080/"
        },
        "id": "qx12eX7y_nCo",
        "outputId": "030fd289-3922-47a2-f29f-d36aab8fcf32"
      },
      "execution_count": 47,
      "outputs": [
        {
          "output_type": "execute_result",
          "data": {
            "text/plain": [
              "Float64Index([-90.0, -89.5, -89.0, -88.5, -88.0, -87.5, -87.0, -86.5, -86.0,\n",
              "              -85.5,\n",
              "              ...\n",
              "               85.5,  86.0,  86.5,  87.0,  87.5,  88.0,  88.5,  89.0,  89.5,\n",
              "               90.0],\n",
              "             dtype='float64', length=361)"
            ]
          },
          "metadata": {},
          "execution_count": 47
        }
      ]
    },
    {
      "cell_type": "code",
      "source": [
        "# create an empty df for timestamp\n",
        "df_time = pd.DataFrame(index = timestamp[:])"
      ],
      "metadata": {
        "id": "wqLIMyeCk8c7"
      },
      "execution_count": 36,
      "outputs": []
    },
    {
      "cell_type": "code",
      "source": [
        "df_time.index\n",
        "# time_nans[]\n",
        "time_nans[1]\n",
        "# df_time.loc[1]"
      ],
      "metadata": {
        "id": "Trp_dwhmomWx",
        "colab": {
          "base_uri": "https://localhost:8080/"
        },
        "outputId": "18734765-b941-4324-b41f-194ae746e4d6"
      },
      "execution_count": 57,
      "outputs": [
        {
          "output_type": "execute_result",
          "data": {
            "text/plain": [
              "180"
            ]
          },
          "metadata": {},
          "execution_count": 57
        }
      ]
    },
    {
      "cell_type": "code",
      "source": [
        "# populate each row in the empty df above with the wdir_meteo and wspd data and u and v components\n",
        "# loop through time_index and only take the 71st level as the ground level data\n",
        "for time_idx in range(len(df_time.index)):\n",
        "  for idx, idx_val in enumerate(df_wdir.index):\n",
        "    df_wdir.loc[idx_val, :] = wdir_to_degrees[time_idx][71][idx]\n",
        "    df_wspd.loc[idx_val, :] = wspd[time_idx][71][idx]\n",
        "    df_u.loc[idx_val, :] = U_nans[time_idx][71][idx]\n",
        "    df_v.loc[idx_val, :] = V_nans[time_idx][71][idx]\n",
        "    df_time.loc[idx_val, :] = time_nans[time_idx]"
      ],
      "metadata": {
        "id": "VgXIS1ojf5em"
      },
      "execution_count": 58,
      "outputs": []
    },
    {
      "cell_type": "code",
      "source": [],
      "metadata": {
        "id": "cUmwI_ImLtAd"
      },
      "execution_count": null,
      "outputs": []
    },
    {
      "cell_type": "code",
      "execution_count": null,
      "metadata": {
        "id": "WIuA_teHAWe8"
      },
      "outputs": [],
      "source": [
        "def read_clean_wind():\n",
        "    ''''''\n",
        "    # create empty df\n",
        "    df = pd.DataFrame()\n",
        "\n",
        "    for file in os.listdir(in_dir):\n",
        "        if file.startswith('MERRA2'):\n",
        "            print(file.split('.')[2])\n",
        "\n",
        "            ## read .nc file ##\n",
        "            ###################\n",
        "            data = ncdf.Dataset(\n",
        "                in_dir + file, mode='r'\n",
        "            )\n",
        "            # print metadata\n",
        "            #print(data)\n",
        "\n",
        "            # grab vars of interest ##\n",
        "            ##########################\n",
        "            # longitude and latitude\n",
        "            lons = data.variables['lon']\n",
        "            lats = data.variables['lat']\n",
        "            # 2-meter eastward wind m/s\n",
        "            U2M = data.variables['U2M']\n",
        "            # 2-meter northward wind m/s\n",
        "            V2M = data.variables['V2M']\n",
        "            # timestamp\n",
        "            timestamp = data.variables['time']\n",
        "\n",
        "            # Replace vals #\n",
        "            ################\n",
        "            #\\_FillValues with NaNs:\n",
        "            U2M_nans = U2M[:]\n",
        "            V2M_nans = V2M[:]\n",
        "            _FillValueU2M = U2M._FillValue\n",
        "            _FillValueV2M = V2M._FillValue\n",
        "            U2M_nans[U2M_nans == _FillValueU2M] = np.nan\n",
        "            V2M_nans[V2M_nans == _FillValueV2M] = np.nan\n",
        "\n",
        "            # Add new vars #\n",
        "            ################\n",
        "            # calculate wind speed\n",
        "            wspd = np.sqrt(U2M_nans**2+V2M_nans**2)\n",
        "\n",
        "            # calculate wind direction in radians\n",
        "            wdir = np.arctan2(V2M_nans, U2M_nans)\n",
        "            \n",
        "            # transform wind direction from radians to degrees\n",
        "            wdir_to_degrees = wdir * 180/pi  \n",
        "            \n",
        "            #wdir_to_degrees = np.mod(180+np.rad2deg(np.arctan2(V2M_nans, U2M_nans)), 360)\n",
        "            wdir_to_degrees = np.mod(np.rad2deg(np.arctan2(V2M_nans, U2M_nans)), 360)\n",
        "\n",
        "\n",
        "            ## transform to df ##\n",
        "            #####################\n",
        "            # create an empty df for wind speed and direction with size len(lats) x len(lons) \n",
        "            df_wdir = pd.DataFrame(index=lats[:], columns=lons[:])   \n",
        "            df_wspd = pd.DataFrame(index=lats[:], columns=lons[:])\n",
        "            \n",
        "            # create an empty df for u and v components with size len(lats) x len(lons) \n",
        "            df_u = pd.DataFrame(index=lats[:], columns=lons[:])\n",
        "            df_v = pd.DataFrame(index=lats[:], columns=lons[:])\n",
        "\n",
        "            # populate each row in the empty df above with the wdir_meteo and wspd data and u and v components\n",
        "            for idx, idx_val in enumerate(df_wdir.index):\n",
        "                df_wdir.loc[idx_val, :] = wdir_to_degrees[0][idx]\n",
        "                df_wspd.loc[idx_val, :] = wspd[0][idx]\n",
        "                df_u.loc[idx_val, :] = U2M_nans[0][idx]\n",
        "                df_v.loc[idx_val, :] = V2M_nans[0][idx]\n",
        "\n",
        "            # add index (latitude) as column\n",
        "            df_wdir.reset_index(\n",
        "                drop=False,\n",
        "                inplace=True\n",
        "            )\n",
        "            \n",
        "            df_wdir.rename(\n",
        "                columns={'index':'lat'},\n",
        "                inplace=True\n",
        "            )\n",
        "            \n",
        "            \n",
        "            df_wspd.reset_index(\n",
        "                drop=False,\n",
        "                inplace=True\n",
        "            )\n",
        "            \n",
        "            df_wspd.rename(\n",
        "                columns={'index':'lat'},\n",
        "                inplace=True\n",
        "            )\n",
        "            \n",
        "            df_u.reset_index(\n",
        "                drop=False,\n",
        "                inplace=True\n",
        "            )\n",
        "            \n",
        "            df_u.rename(\n",
        "                columns={'index':'lat'},\n",
        "                inplace=True\n",
        "            )\n",
        "            \n",
        "            df_v.reset_index(\n",
        "                drop=False,\n",
        "                inplace=True\n",
        "            )\n",
        "            \n",
        "            df_v.rename(\n",
        "                columns={'index':'lat'},\n",
        "                inplace=True\n",
        "            )\n",
        "\n",
        "            # transform from wide to long\n",
        "            df_wdir = pd.melt(\n",
        "                df_wdir, id_vars='lat',\n",
        "                var_name='lon',\n",
        "                value_vars=lons[:],\n",
        "                value_name='wdir'\n",
        "            )\n",
        "            \n",
        "            df_wspd = pd.melt(\n",
        "                df_wspd,\n",
        "                id_vars='lat',\n",
        "                var_name='lon',\n",
        "                value_vars=lons[:],\n",
        "                value_name='wspd'\n",
        "            )\n",
        "            \n",
        "            df_u = pd.melt(\n",
        "                df_u, id_vars='lat',\n",
        "                var_name='lon',\n",
        "                value_vars=lons[:],\n",
        "                value_name='u'\n",
        "            )\n",
        "            \n",
        "            df_v = pd.melt(\n",
        "                df_v, id_vars='lat',\n",
        "                var_name='lon',\n",
        "                value_vars=lons[:],\n",
        "                value_name='v'\n",
        "            )\n",
        "\n",
        "            # concatenate df_wdir and df_wspd\n",
        "            df_temp1 = df_wdir.merge(\n",
        "                df_wspd,\n",
        "                on=['lat', 'lon'],\n",
        "                how='left'\n",
        "            )\n",
        "            \n",
        "            # concatenate df_u and df_v\n",
        "            df_temp2 = df_u.merge(\n",
        "                df_v,\n",
        "                on=['lat', 'lon'],\n",
        "                how='left'\n",
        "            )\n",
        "            \n",
        "            # concatenate df_temp1 and df_temp2\n",
        "            df_temp = df_temp2.merge(\n",
        "                df_temp1,\n",
        "                on=['lat', 'lon'],\n",
        "                how='left'\n",
        "            )\n",
        "            \n",
        "            # add time stamp \n",
        "            df_temp['year_month'] = file.split('.')[2]\n",
        "\n",
        "            df = pd.concat(\n",
        "                [df_temp, df],\n",
        "                axis=0\n",
        "            )\n",
        "   \n",
        "    # keep values in min, max range of California geometry\n",
        "    df = df[\n",
        "        df.lon.ge(-125) & df.lon.le(-115) & df.lat.ge(32) & df.lat.le(42)\n",
        "    ]\n",
        "    \n",
        "    # convert wind direction to the meteorological convention\n",
        "    # see here: https://stackoverflow.com/questions/21484558/how-to-calculate-wind-direction-from-u-and-v-wind-components-in-r\n",
        "    # see here too: https://www.e-education.psu.edu/meteo300/node/719\n",
        "    '''\n",
        "    df['wdir_meteo'] = 270 - df.wdir\n",
        "    df['wdir_meteo'] = np.where(\n",
        "        df.wdir_meteo.lt(0), df.wdir_meteo+360, df.wdir_meteo\n",
        "    )\n",
        "    \n",
        "    # replace wdir to reflect wdir_meteo\n",
        "    df['wdir'] = df.wdir_meteo \n",
        "    df.drop(\n",
        "        columns=['wdir_meteo'],\n",
        "        inplace=True\n",
        "    )\n",
        "    \n",
        "    df['wdir'] = np.mod(180+np.rad2deg(np.arctan2(V2M_nans, U2M_nans)), 360)\n",
        "    '''\n",
        "    # transform vars\n",
        "    df['lat'] = df.lat.astype(float)\n",
        "    df['lon'] = df.lon.astype(float)\n",
        "    \n",
        "    return df"
      ]
    },
    {
      "cell_type": "markdown",
      "metadata": {
        "id": "JnkKWrifAWe9"
      },
      "source": [
        "``read census geom``"
      ]
    },
    {
      "cell_type": "code",
      "source": [
        "gdf = gpd.read_file(in_dir_zip_shapes + \"states_amazon_biome.shp\")\n",
        "gdf"
      ],
      "metadata": {
        "colab": {
          "base_uri": "https://localhost:8080/",
          "height": 332
        },
        "id": "eo358J9wceJS",
        "outputId": "1bc4f714-7397-4187-9f7d-20cf140602cc"
      },
      "execution_count": null,
      "outputs": [
        {
          "output_type": "execute_result",
          "data": {
            "text/plain": [
              "   id         nome sigla geocodigo  \\\n",
              "0   2     Rondônia    RO        11   \n",
              "1   3         Acre    AC        12   \n",
              "2   4     Amazonas    AM        13   \n",
              "3   5      Roraima    RR        14   \n",
              "4   6         Pará    PA        15   \n",
              "5   7        Amapá    AP        16   \n",
              "6   8    Tocantins    TO        17   \n",
              "7  14  Mato Grosso    MT        51   \n",
              "8  26     Maranhão    MA        21   \n",
              "\n",
              "                                            geometry  \n",
              "0  MULTIPOLYGON (((-59.98861 -11.91000, -59.98811...  \n",
              "1  POLYGON ((-66.62735 -9.89885, -66.62730 -9.899...  \n",
              "2  POLYGON ((-73.79834 -7.11298, -73.79827 -7.112...  \n",
              "3  POLYGON ((-60.18882 5.23222, -60.15748 5.23044...  \n",
              "4  MULTIPOLYGON (((-46.38414 -1.03655, -46.38429 ...  \n",
              "5  MULTIPOLYGON (((-49.98155 0.87511, -49.98229 0...  \n",
              "6  POLYGON ((-47.89974 -5.25030, -47.89995 -5.250...  \n",
              "7  MULTIPOLYGON (((-50.35017 -9.83338, -50.35059 ...  \n",
              "8  MULTIPOLYGON (((-44.08515 -2.41669, -44.08560 ...  "
            ],
            "text/html": [
              "\n",
              "  <div id=\"df-5e040f10-4c70-4a01-8946-0dfc00d512e0\">\n",
              "    <div class=\"colab-df-container\">\n",
              "      <div>\n",
              "<style scoped>\n",
              "    .dataframe tbody tr th:only-of-type {\n",
              "        vertical-align: middle;\n",
              "    }\n",
              "\n",
              "    .dataframe tbody tr th {\n",
              "        vertical-align: top;\n",
              "    }\n",
              "\n",
              "    .dataframe thead th {\n",
              "        text-align: right;\n",
              "    }\n",
              "</style>\n",
              "<table border=\"1\" class=\"dataframe\">\n",
              "  <thead>\n",
              "    <tr style=\"text-align: right;\">\n",
              "      <th></th>\n",
              "      <th>id</th>\n",
              "      <th>nome</th>\n",
              "      <th>sigla</th>\n",
              "      <th>geocodigo</th>\n",
              "      <th>geometry</th>\n",
              "    </tr>\n",
              "  </thead>\n",
              "  <tbody>\n",
              "    <tr>\n",
              "      <th>0</th>\n",
              "      <td>2</td>\n",
              "      <td>Rondônia</td>\n",
              "      <td>RO</td>\n",
              "      <td>11</td>\n",
              "      <td>MULTIPOLYGON (((-59.98861 -11.91000, -59.98811...</td>\n",
              "    </tr>\n",
              "    <tr>\n",
              "      <th>1</th>\n",
              "      <td>3</td>\n",
              "      <td>Acre</td>\n",
              "      <td>AC</td>\n",
              "      <td>12</td>\n",
              "      <td>POLYGON ((-66.62735 -9.89885, -66.62730 -9.899...</td>\n",
              "    </tr>\n",
              "    <tr>\n",
              "      <th>2</th>\n",
              "      <td>4</td>\n",
              "      <td>Amazonas</td>\n",
              "      <td>AM</td>\n",
              "      <td>13</td>\n",
              "      <td>POLYGON ((-73.79834 -7.11298, -73.79827 -7.112...</td>\n",
              "    </tr>\n",
              "    <tr>\n",
              "      <th>3</th>\n",
              "      <td>5</td>\n",
              "      <td>Roraima</td>\n",
              "      <td>RR</td>\n",
              "      <td>14</td>\n",
              "      <td>POLYGON ((-60.18882 5.23222, -60.15748 5.23044...</td>\n",
              "    </tr>\n",
              "    <tr>\n",
              "      <th>4</th>\n",
              "      <td>6</td>\n",
              "      <td>Pará</td>\n",
              "      <td>PA</td>\n",
              "      <td>15</td>\n",
              "      <td>MULTIPOLYGON (((-46.38414 -1.03655, -46.38429 ...</td>\n",
              "    </tr>\n",
              "    <tr>\n",
              "      <th>5</th>\n",
              "      <td>7</td>\n",
              "      <td>Amapá</td>\n",
              "      <td>AP</td>\n",
              "      <td>16</td>\n",
              "      <td>MULTIPOLYGON (((-49.98155 0.87511, -49.98229 0...</td>\n",
              "    </tr>\n",
              "    <tr>\n",
              "      <th>6</th>\n",
              "      <td>8</td>\n",
              "      <td>Tocantins</td>\n",
              "      <td>TO</td>\n",
              "      <td>17</td>\n",
              "      <td>POLYGON ((-47.89974 -5.25030, -47.89995 -5.250...</td>\n",
              "    </tr>\n",
              "    <tr>\n",
              "      <th>7</th>\n",
              "      <td>14</td>\n",
              "      <td>Mato Grosso</td>\n",
              "      <td>MT</td>\n",
              "      <td>51</td>\n",
              "      <td>MULTIPOLYGON (((-50.35017 -9.83338, -50.35059 ...</td>\n",
              "    </tr>\n",
              "    <tr>\n",
              "      <th>8</th>\n",
              "      <td>26</td>\n",
              "      <td>Maranhão</td>\n",
              "      <td>MA</td>\n",
              "      <td>21</td>\n",
              "      <td>MULTIPOLYGON (((-44.08515 -2.41669, -44.08560 ...</td>\n",
              "    </tr>\n",
              "  </tbody>\n",
              "</table>\n",
              "</div>\n",
              "      <button class=\"colab-df-convert\" onclick=\"convertToInteractive('df-5e040f10-4c70-4a01-8946-0dfc00d512e0')\"\n",
              "              title=\"Convert this dataframe to an interactive table.\"\n",
              "              style=\"display:none;\">\n",
              "        \n",
              "  <svg xmlns=\"http://www.w3.org/2000/svg\" height=\"24px\"viewBox=\"0 0 24 24\"\n",
              "       width=\"24px\">\n",
              "    <path d=\"M0 0h24v24H0V0z\" fill=\"none\"/>\n",
              "    <path d=\"M18.56 5.44l.94 2.06.94-2.06 2.06-.94-2.06-.94-.94-2.06-.94 2.06-2.06.94zm-11 1L8.5 8.5l.94-2.06 2.06-.94-2.06-.94L8.5 2.5l-.94 2.06-2.06.94zm10 10l.94 2.06.94-2.06 2.06-.94-2.06-.94-.94-2.06-.94 2.06-2.06.94z\"/><path d=\"M17.41 7.96l-1.37-1.37c-.4-.4-.92-.59-1.43-.59-.52 0-1.04.2-1.43.59L10.3 9.45l-7.72 7.72c-.78.78-.78 2.05 0 2.83L4 21.41c.39.39.9.59 1.41.59.51 0 1.02-.2 1.41-.59l7.78-7.78 2.81-2.81c.8-.78.8-2.07 0-2.86zM5.41 20L4 18.59l7.72-7.72 1.47 1.35L5.41 20z\"/>\n",
              "  </svg>\n",
              "      </button>\n",
              "      \n",
              "  <style>\n",
              "    .colab-df-container {\n",
              "      display:flex;\n",
              "      flex-wrap:wrap;\n",
              "      gap: 12px;\n",
              "    }\n",
              "\n",
              "    .colab-df-convert {\n",
              "      background-color: #E8F0FE;\n",
              "      border: none;\n",
              "      border-radius: 50%;\n",
              "      cursor: pointer;\n",
              "      display: none;\n",
              "      fill: #1967D2;\n",
              "      height: 32px;\n",
              "      padding: 0 0 0 0;\n",
              "      width: 32px;\n",
              "    }\n",
              "\n",
              "    .colab-df-convert:hover {\n",
              "      background-color: #E2EBFA;\n",
              "      box-shadow: 0px 1px 2px rgba(60, 64, 67, 0.3), 0px 1px 3px 1px rgba(60, 64, 67, 0.15);\n",
              "      fill: #174EA6;\n",
              "    }\n",
              "\n",
              "    [theme=dark] .colab-df-convert {\n",
              "      background-color: #3B4455;\n",
              "      fill: #D2E3FC;\n",
              "    }\n",
              "\n",
              "    [theme=dark] .colab-df-convert:hover {\n",
              "      background-color: #434B5C;\n",
              "      box-shadow: 0px 1px 3px 1px rgba(0, 0, 0, 0.15);\n",
              "      filter: drop-shadow(0px 1px 2px rgba(0, 0, 0, 0.3));\n",
              "      fill: #FFFFFF;\n",
              "    }\n",
              "  </style>\n",
              "\n",
              "      <script>\n",
              "        const buttonEl =\n",
              "          document.querySelector('#df-5e040f10-4c70-4a01-8946-0dfc00d512e0 button.colab-df-convert');\n",
              "        buttonEl.style.display =\n",
              "          google.colab.kernel.accessAllowed ? 'block' : 'none';\n",
              "\n",
              "        async function convertToInteractive(key) {\n",
              "          const element = document.querySelector('#df-5e040f10-4c70-4a01-8946-0dfc00d512e0');\n",
              "          const dataTable =\n",
              "            await google.colab.kernel.invokeFunction('convertToInteractive',\n",
              "                                                     [key], {});\n",
              "          if (!dataTable) return;\n",
              "\n",
              "          const docLinkHtml = 'Like what you see? Visit the ' +\n",
              "            '<a target=\"_blank\" href=https://colab.research.google.com/notebooks/data_table.ipynb>data table notebook</a>'\n",
              "            + ' to learn more about interactive tables.';\n",
              "          element.innerHTML = '';\n",
              "          dataTable['output_type'] = 'display_data';\n",
              "          await google.colab.output.renderOutput(dataTable, element);\n",
              "          const docLink = document.createElement('div');\n",
              "          docLink.innerHTML = docLinkHtml;\n",
              "          element.appendChild(docLink);\n",
              "        }\n",
              "      </script>\n",
              "    </div>\n",
              "  </div>\n",
              "  "
            ]
          },
          "metadata": {},
          "execution_count": 37
        }
      ]
    },
    {
      "cell_type": "code",
      "execution_count": null,
      "metadata": {
        "id": "8bKy8H3SAWe9"
      },
      "outputs": [],
      "source": [
        "def read_census_geom():\n",
        "    \"\"\" Read Census (lat, lon) coordinates for California zip-codes\n",
        "    parameters:\n",
        "    -----------\n",
        "    None\n",
        "    \n",
        "    return:\n",
        "    -------\n",
        "    Df with osmnx_geom\n",
        "    \"\"\"\n",
        "    ### Step 1 ### \n",
        "    ##############\n",
        "    # Read the shapefiles for California's ZIP codes\n",
        "    for file in os.listdir(in_dir_zip_shapes):\n",
        "        if file.endswith('.shp'):\n",
        "            gdf = gpd.read_file(in_dir_zip_shapes + file)\n",
        "\n",
        "    # keep only cols of interest \n",
        "    # ('ZCTA5CE10' = 2010 Census ZIP codes,\t'GEOID10' = 2010 Census Tract codes)\n",
        "    gdf = gdf[\n",
        "        ['ZCTA5CE10',\n",
        "         'GEOID10',\n",
        "         'geometry']\n",
        "    ]\n",
        "    \n",
        "    \n",
        "    ### Step 2 ###\n",
        "    ###############\n",
        "    # For each zip cpde extract polygon with (lat, lon) info\n",
        "\n",
        "    zip_poly = pd.DataFrame()\n",
        "\n",
        "    for idx, multipoly in enumerate(gdf.geometry):\n",
        "        if isinstance(multipoly, shapely.geometry.polygon.Polygon):\n",
        "            temp_df = pd.DataFrame(\n",
        "                {\n",
        "                    'lat': multipoly.exterior.coords.xy[1], \n",
        "                    'lon': multipoly.exterior.coords.xy[0],\n",
        "                    'ZCTA10': gdf.loc[idx, 'ZCTA5CE10'],\n",
        "                    'GEOID10': gdf.loc[idx, 'GEOID10']\n",
        "                }\n",
        "            )\n",
        "            zip_poly = pd.concat(\n",
        "                [zip_poly, temp_df],\n",
        "                axis=0\n",
        "            )\n",
        "\n",
        "        if isinstance(multipoly, shapely.geometry.multipolygon.MultiPolygon):\n",
        "            for poly in multipoly:\n",
        "                temp_df = pd.DataFrame(\n",
        "                    {\n",
        "                        'lat': poly.exterior.coords.xy[1], \n",
        "                        'lon': poly.exterior.coords.xy[0],\n",
        "                        'ZCTA10': gdf.loc[idx, 'ZCTA5CE10'],\n",
        "                        'GEOID10': gdf.loc[idx, 'GEOID10']\n",
        "                    }\n",
        "                )\n",
        "                zip_poly = pd.concat(\n",
        "                    [zip_poly, temp_df],\n",
        "                    axis=0\n",
        "                )   \n",
        "    \n",
        "\n",
        "    # round (lat, lon) to 2 decimal points and add 0.005 to match the UW (lat, lon) values\n",
        "    zip_poly['lat'] = zip_poly.lat.round(3)\n",
        "    zip_poly['lon'] = zip_poly.lon.round(3)\n",
        "    \n",
        "    zip_poly.sort_values(\n",
        "        by=['ZCTA10', 'lat', 'lon'],\n",
        "        inplace=True\n",
        "    )\n",
        "    \n",
        "    zip_poly.drop_duplicates(\n",
        "        subset=['ZCTA10', 'lat', 'lon'],\n",
        "        inplace=True\n",
        "    )\n",
        "\n",
        "    zip_poly.reset_index(\n",
        "        drop=True,\n",
        "        inplace=True\n",
        "    )\n",
        "    \n",
        "    return zip_poly"
      ]
    },
    {
      "cell_type": "markdown",
      "metadata": {
        "id": "Wf5BLs26AWe-"
      },
      "source": [
        "``find zip (zcta) code for wind data``"
      ]
    },
    {
      "cell_type": "code",
      "execution_count": null,
      "metadata": {
        "id": "bal7wPIUAWe-"
      },
      "outputs": [],
      "source": [
        "def add_zcta_to_wind(df1, df2):\n",
        "    '''\n",
        "    params:\n",
        "    -------\n",
        "    df1: wind data\n",
        "    df2: census geometry data\n",
        "    \n",
        "    return:\n",
        "    -------\n",
        "    '''\n",
        "    \n",
        "    # create labels\n",
        "    df1['wind_lat_lon'] = [str(xy) for xy in zip(df1.lat, df1.lon)]\n",
        "    df2['census_lat_lon'] = [str(xy) for xy in zip(df2.lat, df2.lon)]\n",
        "\n",
        "    ## for each point in wind data find the nearest point in the census data ##\n",
        "    ###############\n",
        "    # keep only unique points in wind data\n",
        "    df1_unique = df1.drop_duplicates(\n",
        "        ['wind_lat_lon']\n",
        "    )\n",
        "    \n",
        "    df2_unique = df2.drop_duplicates(\n",
        "        ['census_lat_lon']\n",
        "    )\n",
        "    \n",
        "    df1_unique.reset_index(\n",
        "        drop=True,\n",
        "        inplace=True\n",
        "    )\n",
        "    \n",
        "    df2_unique.reset_index(\n",
        "        drop=True,\n",
        "        inplace=True\n",
        "    )\n",
        "\n",
        "    # transform to radians\n",
        "    df1_unique['lat_r'] = np.radians(df1_unique.lat)\n",
        "    df1_unique['lon_r'] = np.radians(df1_unique.lon)\n",
        "    df2_unique['lat_r'] = np.radians(df2_unique.lat)\n",
        "    df2_unique['lon_r'] = np.radians(df2_unique.lon)\n",
        "\n",
        "\n",
        "    # compute pairwise distance (in miles)\n",
        "    dist_matrix = (dist.pairwise(\n",
        "        df2_unique[['lat_r', 'lon_r']],\n",
        "        df1_unique[['lat_r', 'lon_r']]\n",
        "    ))*3959\n",
        "\n",
        "    # create a df from dist_matrix\n",
        "    dist_matrix = pd.DataFrame(\n",
        "        dist_matrix,\n",
        "        index=df2_unique['census_lat_lon'],\n",
        "        columns=df1_unique['wind_lat_lon']\n",
        "    )\n",
        "    \n",
        "    # for each row (census_lat_lon point) extract the closest column (wind_lat_lon point) \n",
        "    closest_point = pd.DataFrame(\n",
        "        dist_matrix.idxmin(axis=1),\n",
        "        columns=['closest_wind_lat_lon']\n",
        "    )\n",
        "    \n",
        "    closest_point.reset_index(\n",
        "        drop=False,\n",
        "        inplace=True\n",
        "    )\n",
        "\n",
        "    # merge with census data\n",
        "    df2_unique = df2_unique.merge(\n",
        "        closest_point,\n",
        "        on='census_lat_lon',\n",
        "        how='left'\n",
        "    )\n",
        "    \n",
        "    # merge with census data \n",
        "    df2_unique = df2_unique.merge(\n",
        "        df2[['census_lat_lon']],\n",
        "        on=['census_lat_lon'],\n",
        "        how='left'\n",
        "    )\n",
        "    \n",
        "    # replicate df2_unique based on number of year_month entries in df1\n",
        "    df2_unique = pd.concat(\n",
        "        [df2_unique]*(df1.year_month.nunique()),\n",
        "        axis=0\n",
        "    )\n",
        "    \n",
        "    df2_unique.reset_index(\n",
        "        drop=True,\n",
        "        inplace=True\n",
        "    )\n",
        "    \n",
        "    # add year_month column to df2_unique\n",
        "    df2_unique['year_month'] = 0\n",
        "    indeces = [n for n in range(1, df2_unique.shape[0]) if n%956926==0]\n",
        "\n",
        "    year_month = np.sort(df1.year_month.unique())\n",
        "    for idx, index in enumerate(indeces):\n",
        "        if idx==0:\n",
        "            df2_unique.iloc[0:indeces[idx], 8] = year_month[idx]\n",
        "        else:\n",
        "            df2_unique.iloc[indeces[idx-1]:indeces[idx], 8] = year_month[idx]\n",
        "            \n",
        "            \n",
        "    # from df1 keep only cols of interest\n",
        "    df1 = df1[\n",
        "        ['year_month',\n",
        "         'u',\n",
        "         'v',\n",
        "         'wdir',\n",
        "         'wspd',\n",
        "         'wind_lat_lon']\n",
        "    ]\n",
        "    \n",
        "    # merge df2_unique with df1\n",
        "    df2_unique = df2_unique.merge(\n",
        "        df1,\n",
        "        left_on=['year_month', 'closest_wind_lat_lon'],\n",
        "        right_on=['year_month', 'wind_lat_lon'],\n",
        "        how='left'\n",
        "    )\n",
        "    # keep only cols of interest\n",
        "    df2_unique = df2_unique[\n",
        "        ['lat',\n",
        "         'lon',\n",
        "         'ZCTA10',\n",
        "         'u',\n",
        "         'v',\n",
        "         'wdir',\n",
        "         'wspd',\n",
        "         'year_month']\n",
        "    ]\n",
        "    \n",
        "    df2_unique.dropna(\n",
        "        inplace=True\n",
        "    )\n",
        "    \n",
        "    df2_unique.reset_index(\n",
        "        drop=True,\n",
        "        inplace=True\n",
        "    )\n",
        "    \n",
        "    df2_unique.drop_duplicates(\n",
        "    ['year_month', 'ZCTA10'],\n",
        "    inplace=True\n",
        "    )\n",
        "\n",
        "    df2_unique.reset_index(\n",
        "        drop=True,\n",
        "        inplace=True\n",
        "    )\n",
        "    \n",
        "    return df2_unique"
      ]
    },
    {
      "cell_type": "markdown",
      "metadata": {
        "id": "gm4SbiqmAWe-"
      },
      "source": [
        "### Step 4: Read data"
      ]
    },
    {
      "cell_type": "markdown",
      "metadata": {
        "id": "xFW5AtJIAWe_"
      },
      "source": [
        "``wind``"
      ]
    },
    {
      "cell_type": "code",
      "execution_count": null,
      "metadata": {
        "colab": {
          "base_uri": "https://localhost:8080/",
          "height": 441
        },
        "id": "jFQC9dt4AWe_",
        "outputId": "8b608236-8efb-45b8-ecf9-df5a6f62a81a"
      },
      "outputs": [
        {
          "output_type": "stream",
          "name": "stdout",
          "text": [
            "202112\n"
          ]
        },
        {
          "output_type": "execute_result",
          "data": {
            "text/plain": [
              "        lat    lon         u         v        wdir      wspd year_month\n",
              "32012  32.0 -125.0  2.557108 -2.114869  320.407379  3.318354     202112\n",
              "32013  32.5 -125.0  2.700869 -2.065641  322.591034   3.40023     202112\n",
              "32014  33.0 -125.0  2.823102 -2.050217   324.01178  3.489025     202112\n",
              "32015  33.5 -125.0  2.952745 -2.071095  324.953674  3.606679     202112\n",
              "32016  34.0 -125.0  3.125051 -2.153463  325.429382  3.795174     202112\n",
              "...     ...    ...       ...       ...         ...       ...        ...\n",
              "37804  40.0 -115.0  1.703349  1.286709   37.067387  2.134717     202112\n",
              "37805  40.5 -115.0    1.9087  1.062686   29.107273  2.184591     202112\n",
              "37806  41.0 -115.0  1.948897  0.953448      26.069  2.169622     202112\n",
              "37807  41.5 -115.0  2.232198  0.977663   23.652546  2.436911     202112\n",
              "37808  42.0 -115.0  2.719841  1.436823   27.846357  3.076035     202112\n",
              "\n",
              "[357 rows x 7 columns]"
            ],
            "text/html": [
              "\n",
              "  <div id=\"df-78296fa6-697c-4782-9701-dd88eba97a1a\">\n",
              "    <div class=\"colab-df-container\">\n",
              "      <div>\n",
              "<style scoped>\n",
              "    .dataframe tbody tr th:only-of-type {\n",
              "        vertical-align: middle;\n",
              "    }\n",
              "\n",
              "    .dataframe tbody tr th {\n",
              "        vertical-align: top;\n",
              "    }\n",
              "\n",
              "    .dataframe thead th {\n",
              "        text-align: right;\n",
              "    }\n",
              "</style>\n",
              "<table border=\"1\" class=\"dataframe\">\n",
              "  <thead>\n",
              "    <tr style=\"text-align: right;\">\n",
              "      <th></th>\n",
              "      <th>lat</th>\n",
              "      <th>lon</th>\n",
              "      <th>u</th>\n",
              "      <th>v</th>\n",
              "      <th>wdir</th>\n",
              "      <th>wspd</th>\n",
              "      <th>year_month</th>\n",
              "    </tr>\n",
              "  </thead>\n",
              "  <tbody>\n",
              "    <tr>\n",
              "      <th>32012</th>\n",
              "      <td>32.0</td>\n",
              "      <td>-125.0</td>\n",
              "      <td>2.557108</td>\n",
              "      <td>-2.114869</td>\n",
              "      <td>320.407379</td>\n",
              "      <td>3.318354</td>\n",
              "      <td>202112</td>\n",
              "    </tr>\n",
              "    <tr>\n",
              "      <th>32013</th>\n",
              "      <td>32.5</td>\n",
              "      <td>-125.0</td>\n",
              "      <td>2.700869</td>\n",
              "      <td>-2.065641</td>\n",
              "      <td>322.591034</td>\n",
              "      <td>3.40023</td>\n",
              "      <td>202112</td>\n",
              "    </tr>\n",
              "    <tr>\n",
              "      <th>32014</th>\n",
              "      <td>33.0</td>\n",
              "      <td>-125.0</td>\n",
              "      <td>2.823102</td>\n",
              "      <td>-2.050217</td>\n",
              "      <td>324.01178</td>\n",
              "      <td>3.489025</td>\n",
              "      <td>202112</td>\n",
              "    </tr>\n",
              "    <tr>\n",
              "      <th>32015</th>\n",
              "      <td>33.5</td>\n",
              "      <td>-125.0</td>\n",
              "      <td>2.952745</td>\n",
              "      <td>-2.071095</td>\n",
              "      <td>324.953674</td>\n",
              "      <td>3.606679</td>\n",
              "      <td>202112</td>\n",
              "    </tr>\n",
              "    <tr>\n",
              "      <th>32016</th>\n",
              "      <td>34.0</td>\n",
              "      <td>-125.0</td>\n",
              "      <td>3.125051</td>\n",
              "      <td>-2.153463</td>\n",
              "      <td>325.429382</td>\n",
              "      <td>3.795174</td>\n",
              "      <td>202112</td>\n",
              "    </tr>\n",
              "    <tr>\n",
              "      <th>...</th>\n",
              "      <td>...</td>\n",
              "      <td>...</td>\n",
              "      <td>...</td>\n",
              "      <td>...</td>\n",
              "      <td>...</td>\n",
              "      <td>...</td>\n",
              "      <td>...</td>\n",
              "    </tr>\n",
              "    <tr>\n",
              "      <th>37804</th>\n",
              "      <td>40.0</td>\n",
              "      <td>-115.0</td>\n",
              "      <td>1.703349</td>\n",
              "      <td>1.286709</td>\n",
              "      <td>37.067387</td>\n",
              "      <td>2.134717</td>\n",
              "      <td>202112</td>\n",
              "    </tr>\n",
              "    <tr>\n",
              "      <th>37805</th>\n",
              "      <td>40.5</td>\n",
              "      <td>-115.0</td>\n",
              "      <td>1.9087</td>\n",
              "      <td>1.062686</td>\n",
              "      <td>29.107273</td>\n",
              "      <td>2.184591</td>\n",
              "      <td>202112</td>\n",
              "    </tr>\n",
              "    <tr>\n",
              "      <th>37806</th>\n",
              "      <td>41.0</td>\n",
              "      <td>-115.0</td>\n",
              "      <td>1.948897</td>\n",
              "      <td>0.953448</td>\n",
              "      <td>26.069</td>\n",
              "      <td>2.169622</td>\n",
              "      <td>202112</td>\n",
              "    </tr>\n",
              "    <tr>\n",
              "      <th>37807</th>\n",
              "      <td>41.5</td>\n",
              "      <td>-115.0</td>\n",
              "      <td>2.232198</td>\n",
              "      <td>0.977663</td>\n",
              "      <td>23.652546</td>\n",
              "      <td>2.436911</td>\n",
              "      <td>202112</td>\n",
              "    </tr>\n",
              "    <tr>\n",
              "      <th>37808</th>\n",
              "      <td>42.0</td>\n",
              "      <td>-115.0</td>\n",
              "      <td>2.719841</td>\n",
              "      <td>1.436823</td>\n",
              "      <td>27.846357</td>\n",
              "      <td>3.076035</td>\n",
              "      <td>202112</td>\n",
              "    </tr>\n",
              "  </tbody>\n",
              "</table>\n",
              "<p>357 rows × 7 columns</p>\n",
              "</div>\n",
              "      <button class=\"colab-df-convert\" onclick=\"convertToInteractive('df-78296fa6-697c-4782-9701-dd88eba97a1a')\"\n",
              "              title=\"Convert this dataframe to an interactive table.\"\n",
              "              style=\"display:none;\">\n",
              "        \n",
              "  <svg xmlns=\"http://www.w3.org/2000/svg\" height=\"24px\"viewBox=\"0 0 24 24\"\n",
              "       width=\"24px\">\n",
              "    <path d=\"M0 0h24v24H0V0z\" fill=\"none\"/>\n",
              "    <path d=\"M18.56 5.44l.94 2.06.94-2.06 2.06-.94-2.06-.94-.94-2.06-.94 2.06-2.06.94zm-11 1L8.5 8.5l.94-2.06 2.06-.94-2.06-.94L8.5 2.5l-.94 2.06-2.06.94zm10 10l.94 2.06.94-2.06 2.06-.94-2.06-.94-.94-2.06-.94 2.06-2.06.94z\"/><path d=\"M17.41 7.96l-1.37-1.37c-.4-.4-.92-.59-1.43-.59-.52 0-1.04.2-1.43.59L10.3 9.45l-7.72 7.72c-.78.78-.78 2.05 0 2.83L4 21.41c.39.39.9.59 1.41.59.51 0 1.02-.2 1.41-.59l7.78-7.78 2.81-2.81c.8-.78.8-2.07 0-2.86zM5.41 20L4 18.59l7.72-7.72 1.47 1.35L5.41 20z\"/>\n",
              "  </svg>\n",
              "      </button>\n",
              "      \n",
              "  <style>\n",
              "    .colab-df-container {\n",
              "      display:flex;\n",
              "      flex-wrap:wrap;\n",
              "      gap: 12px;\n",
              "    }\n",
              "\n",
              "    .colab-df-convert {\n",
              "      background-color: #E8F0FE;\n",
              "      border: none;\n",
              "      border-radius: 50%;\n",
              "      cursor: pointer;\n",
              "      display: none;\n",
              "      fill: #1967D2;\n",
              "      height: 32px;\n",
              "      padding: 0 0 0 0;\n",
              "      width: 32px;\n",
              "    }\n",
              "\n",
              "    .colab-df-convert:hover {\n",
              "      background-color: #E2EBFA;\n",
              "      box-shadow: 0px 1px 2px rgba(60, 64, 67, 0.3), 0px 1px 3px 1px rgba(60, 64, 67, 0.15);\n",
              "      fill: #174EA6;\n",
              "    }\n",
              "\n",
              "    [theme=dark] .colab-df-convert {\n",
              "      background-color: #3B4455;\n",
              "      fill: #D2E3FC;\n",
              "    }\n",
              "\n",
              "    [theme=dark] .colab-df-convert:hover {\n",
              "      background-color: #434B5C;\n",
              "      box-shadow: 0px 1px 3px 1px rgba(0, 0, 0, 0.15);\n",
              "      filter: drop-shadow(0px 1px 2px rgba(0, 0, 0, 0.3));\n",
              "      fill: #FFFFFF;\n",
              "    }\n",
              "  </style>\n",
              "\n",
              "      <script>\n",
              "        const buttonEl =\n",
              "          document.querySelector('#df-78296fa6-697c-4782-9701-dd88eba97a1a button.colab-df-convert');\n",
              "        buttonEl.style.display =\n",
              "          google.colab.kernel.accessAllowed ? 'block' : 'none';\n",
              "\n",
              "        async function convertToInteractive(key) {\n",
              "          const element = document.querySelector('#df-78296fa6-697c-4782-9701-dd88eba97a1a');\n",
              "          const dataTable =\n",
              "            await google.colab.kernel.invokeFunction('convertToInteractive',\n",
              "                                                     [key], {});\n",
              "          if (!dataTable) return;\n",
              "\n",
              "          const docLinkHtml = 'Like what you see? Visit the ' +\n",
              "            '<a target=\"_blank\" href=https://colab.research.google.com/notebooks/data_table.ipynb>data table notebook</a>'\n",
              "            + ' to learn more about interactive tables.';\n",
              "          element.innerHTML = '';\n",
              "          dataTable['output_type'] = 'display_data';\n",
              "          await google.colab.output.renderOutput(dataTable, element);\n",
              "          const docLink = document.createElement('div');\n",
              "          docLink.innerHTML = docLinkHtml;\n",
              "          element.appendChild(docLink);\n",
              "        }\n",
              "      </script>\n",
              "    </div>\n",
              "  </div>\n",
              "  "
            ]
          },
          "metadata": {},
          "execution_count": 31
        }
      ],
      "source": [
        "df = read_clean_wind()\n",
        "df\n",
        "# A positive U wind comes from the west, and a negative U wind comes from the east. \n",
        "# The V wind component is parallel to the y- axis (i.e. latitude). A positive V wind comes from the south, and a negative V wind comes from the north."
      ]
    },
    {
      "cell_type": "markdown",
      "metadata": {
        "id": "7vkfMM-eAWe_"
      },
      "source": [
        "``census geom``"
      ]
    },
    {
      "cell_type": "code",
      "execution_count": null,
      "metadata": {
        "id": "LLzrL15eAWe_",
        "outputId": "5cd1cce5-27f7-4540-b122-3c9093bc6a67"
      },
      "outputs": [
        {
          "data": {
            "text/html": [
              "<div>\n",
              "<style scoped>\n",
              "    .dataframe tbody tr th:only-of-type {\n",
              "        vertical-align: middle;\n",
              "    }\n",
              "\n",
              "    .dataframe tbody tr th {\n",
              "        vertical-align: top;\n",
              "    }\n",
              "\n",
              "    .dataframe thead th {\n",
              "        text-align: right;\n",
              "    }\n",
              "</style>\n",
              "<table border=\"1\" class=\"dataframe\">\n",
              "  <thead>\n",
              "    <tr style=\"text-align: right;\">\n",
              "      <th></th>\n",
              "      <th>lat</th>\n",
              "      <th>lon</th>\n",
              "      <th>ZCTA10</th>\n",
              "      <th>GEOID10</th>\n",
              "    </tr>\n",
              "  </thead>\n",
              "  <tbody>\n",
              "    <tr>\n",
              "      <th>0</th>\n",
              "      <td>37.465</td>\n",
              "      <td>-117.936</td>\n",
              "      <td>89010</td>\n",
              "      <td>0689010</td>\n",
              "    </tr>\n",
              "    <tr>\n",
              "      <th>1</th>\n",
              "      <td>37.465</td>\n",
              "      <td>-117.935</td>\n",
              "      <td>89010</td>\n",
              "      <td>0689010</td>\n",
              "    </tr>\n",
              "  </tbody>\n",
              "</table>\n",
              "</div>"
            ],
            "text/plain": [
              "      lat      lon ZCTA10  GEOID10\n",
              "0  37.465 -117.936  89010  0689010\n",
              "1  37.465 -117.935  89010  0689010"
            ]
          },
          "execution_count": 7,
          "metadata": {},
          "output_type": "execute_result"
        }
      ],
      "source": [
        "zip_poly = read_census_geom()\n",
        "zip_poly.head(2)"
      ]
    },
    {
      "cell_type": "markdown",
      "metadata": {
        "id": "fHJVh4cnAWe_"
      },
      "source": [
        "### Step 5: Find zip (zcta) code for wind data"
      ]
    },
    {
      "cell_type": "code",
      "execution_count": null,
      "metadata": {
        "id": "8JgPZF_OAWe_",
        "outputId": "9705b0b0-9dc0-4c3b-e07c-dfe627cb7672"
      },
      "outputs": [
        {
          "data": {
            "text/html": [
              "<div>\n",
              "<style scoped>\n",
              "    .dataframe tbody tr th:only-of-type {\n",
              "        vertical-align: middle;\n",
              "    }\n",
              "\n",
              "    .dataframe tbody tr th {\n",
              "        vertical-align: top;\n",
              "    }\n",
              "\n",
              "    .dataframe thead th {\n",
              "        text-align: right;\n",
              "    }\n",
              "</style>\n",
              "<table border=\"1\" class=\"dataframe\">\n",
              "  <thead>\n",
              "    <tr style=\"text-align: right;\">\n",
              "      <th></th>\n",
              "      <th>lat</th>\n",
              "      <th>lon</th>\n",
              "      <th>ZCTA10</th>\n",
              "      <th>u</th>\n",
              "      <th>v</th>\n",
              "      <th>wdir</th>\n",
              "      <th>wspd</th>\n",
              "      <th>year_month</th>\n",
              "    </tr>\n",
              "  </thead>\n",
              "  <tbody>\n",
              "    <tr>\n",
              "      <th>0</th>\n",
              "      <td>37.465</td>\n",
              "      <td>-117.936</td>\n",
              "      <td>89010</td>\n",
              "      <td>0.504258</td>\n",
              "      <td>-0.719008</td>\n",
              "      <td>125.042938</td>\n",
              "      <td>0.878208</td>\n",
              "      <td>199101</td>\n",
              "    </tr>\n",
              "    <tr>\n",
              "      <th>1</th>\n",
              "      <td>35.396</td>\n",
              "      <td>-116.322</td>\n",
              "      <td>89019</td>\n",
              "      <td>-0.172753</td>\n",
              "      <td>-0.94694</td>\n",
              "      <td>79.661095</td>\n",
              "      <td>0.962568</td>\n",
              "      <td>199101</td>\n",
              "    </tr>\n",
              "  </tbody>\n",
              "</table>\n",
              "</div>"
            ],
            "text/plain": [
              "      lat      lon ZCTA10         u         v        wdir      wspd year_month\n",
              "0  37.465 -117.936  89010  0.504258 -0.719008  125.042938  0.878208     199101\n",
              "1  35.396 -116.322  89019 -0.172753  -0.94694   79.661095  0.962568     199101"
            ]
          },
          "execution_count": 8,
          "metadata": {},
          "output_type": "execute_result"
        }
      ],
      "source": [
        "df_final = add_zcta_to_wind(df, zip_poly)\n",
        "df_final.head(2)"
      ]
    },
    {
      "cell_type": "markdown",
      "metadata": {
        "id": "9VDhLO2DAWfA"
      },
      "source": [
        "### Step 6: Export data"
      ]
    },
    {
      "cell_type": "code",
      "execution_count": null,
      "metadata": {
        "id": "VFs5fkT7AWfA"
      },
      "outputs": [],
      "source": [
        "df_final.to_csv(out_dir  + 'winds.csv')"
      ]
    },
    {
      "cell_type": "code",
      "execution_count": null,
      "metadata": {
        "id": "mKpv3J8sAWfA"
      },
      "outputs": [],
      "source": [
        "df_final['wdir'] = df_final.wdir.astype('float')"
      ]
    },
    {
      "cell_type": "code",
      "execution_count": null,
      "metadata": {
        "id": "Ol2myRa8AWfA",
        "outputId": "1a12157d-3f0d-4ed4-c9ca-3773ff3da921"
      },
      "outputs": [
        {
          "data": {
            "text/plain": [
              "count    599311.000000\n",
              "mean        179.408960\n",
              "std          72.259209\n",
              "min           0.041595\n",
              "25%         140.561295\n",
              "50%         180.584778\n",
              "75%         220.575256\n",
              "max         359.992188\n",
              "Name: wdir, dtype: float64"
            ]
          },
          "execution_count": 11,
          "metadata": {},
          "output_type": "execute_result"
        }
      ],
      "source": [
        "df_final.wdir.describe()"
      ]
    },
    {
      "cell_type": "code",
      "execution_count": null,
      "metadata": {
        "id": "-zAOCGySAWfA"
      },
      "outputs": [],
      "source": []
    },
    {
      "cell_type": "code",
      "execution_count": null,
      "metadata": {
        "id": "9u2IoMePAWfA"
      },
      "outputs": [],
      "source": []
    }
  ],
  "metadata": {
    "kernelspec": {
      "display_name": "Python 3 (ipykernel)",
      "language": "python",
      "name": "python3"
    },
    "language_info": {
      "codemirror_mode": {
        "name": "ipython",
        "version": 3
      },
      "file_extension": ".py",
      "mimetype": "text/x-python",
      "name": "python",
      "nbconvert_exporter": "python",
      "pygments_lexer": "ipython3",
      "version": "3.9.12"
    },
    "colab": {
      "provenance": []
    }
  },
  "nbformat": 4,
  "nbformat_minor": 0
}