{
 "cells": [
  {
   "cell_type": "markdown",
   "id": "3b873262",
   "metadata": {},
   "source": [
    "### Import Block"
   ]
  },
  {
   "cell_type": "code",
   "execution_count": 1,
   "id": "b39397e0",
   "metadata": {},
   "outputs": [],
   "source": [
    "import pandas as pd\n",
    "import numpy as np\n",
    "import tensorflow as tf\n",
    "import matplotlib.pyplot as plt\n",
    "from tensorflow.keras import layers\n",
    "from sklearn.utils import class_weight\n",
    "import skimage.measure\n",
    "\n",
    "%matplotlib inline"
   ]
  },
  {
   "cell_type": "markdown",
   "id": "826ee2d5",
   "metadata": {},
   "source": [
    "### Function Definitions"
   ]
  },
  {
   "cell_type": "code",
   "execution_count": 2,
   "id": "6cc6c49c",
   "metadata": {},
   "outputs": [],
   "source": [
    "# Loader functions\n",
    "# Inspiration: https://towardsdatascience.com/writing-custom-keras-generators-fe815d992c5a\n",
    "\n",
    "def get_2d_input(path):\n",
    "    #Load array.\n",
    "    t_2d_input = np.load(path)\n",
    "    \n",
    "    return t_2d_input\n",
    "\n",
    "def get_1d_input(path):\n",
    "    # Load array.\n",
    "    t_1d_input = np.load(path)\n",
    "    \n",
    "    return t_1d_input\n",
    "\n",
    "def get_output(path):\n",
    "    # Load array.\n",
    "    t_output = np.load(path)\n",
    "\n",
    "    return t_output\n",
    "\n",
    "def data_generator(samples, num_samples, batch_size = 64, calculated_sample_weights = None):\n",
    "    \n",
    "    while True:\n",
    "        # Suffle data at the start of each epoch.\n",
    "        sample_indicies = np.arange(num_samples)\n",
    "        np.random.shuffle(sample_indicies)\n",
    "        n = 0\n",
    "        \n",
    "        while n + batch_size < num_samples:\n",
    "            # Get indicies for the batch\n",
    "            batch_samples  = sample_indicies[n:n + batch_size]\n",
    "            n += batch_size\n",
    "\n",
    "            batch_input_2d  = []\n",
    "            batch_input_1d  = []\n",
    "            batch_output = [] \n",
    "            batch_sample_weights = []\n",
    "\n",
    "            # Read in each input, perform preprocessing and get labels\n",
    "            for sample in batch_samples:\n",
    "                input_2d = get_2d_input(samples.iloc[sample].features_2d)\n",
    "                #input_1d = get_1d_input(samples.iloc[sample].features_1d)\n",
    "                output = get_output(samples.iloc[sample].labels)\n",
    "                \n",
    "                batch_input_2d += [input_2d]\n",
    "                #batch_input_1d += [input_1d]\n",
    "                batch_output += [output]\n",
    "\n",
    "                if type(calculated_sample_weights) != type(None):\n",
    "                    sample_weights = calculated_sample_weights[sample]\n",
    "                    batch_sample_weights += [sample_weights]\n",
    "                \n",
    "            # Return a tuple to feed the network\n",
    "            batch_x = np.array(batch_input_2d)\n",
    "            #batch_v = np.array(batch_input_1d)\n",
    "            batch_y = np.array(batch_output)\n",
    "            \n",
    "            if type(calculated_sample_weights) == type(None):\n",
    "                yield(tf.convert_to_tensor(batch_x)[:,:,:,:,:1], tf.convert_to_tensor(batch_y)[:,0])"
   ]
  },
  {
   "cell_type": "code",
   "execution_count": 5,
   "id": "b19ca035",
   "metadata": {},
   "outputs": [],
   "source": [
    "# Solution for problem with class_weights not working with 3D outputs in tensorflow.\n",
    "# From: https://github.com/keras-team/keras/issues/3653\n",
    "def generate_sample_weights(training_data, class_weights): \n",
    "    #replaces values for up to 3 classes with the values from class_weights#\n",
    "    sample_weights = [np.where(y==0,class_weights[0],\n",
    "                        np.where(y==1,class_weights[1],\n",
    "                        y)) for y in training_data]\n",
    "    return np.asarray(sample_weights)"
   ]
  },
  {
   "cell_type": "code",
   "execution_count": 6,
   "id": "4ff8eca6",
   "metadata": {},
   "outputs": [],
   "source": [
    "# SSIM/PSNR loss functions.\n",
    "# Inspiration: https://stackoverflow.com/questions/57357146/use-ssim-loss-function-with-keras\n",
    "def ssim_loss(y_true, y_pred):\n",
    "    return 1 - tf.reduce_mean(tf.image.ssim(y_true, y_pred, 1.0))\n",
    "\n",
    "def psnr_loss(y_true, y_pred):\n",
    "    return 100 - tf.reduce_mean(tf.image.psnr(y_true, y_pred, 1.0))"
   ]
  },
  {
   "cell_type": "code",
   "execution_count": 7,
   "id": "94e8bf59",
   "metadata": {},
   "outputs": [],
   "source": [
    "# Dice loss functions.\n",
    "# From: https://stackoverflow.com/questions/72195156/correct-implementation-of-dice-loss-in-tensorflow-keras\n",
    "def dice_coef(y_true, y_pred, smooth=100):        \n",
    "    y_true_f = tf.keras.backend.flatten(y_true)\n",
    "    y_pred_f = tf.keras.backend.flatten(y_pred)\n",
    "    intersection = tf.keras.backend.sum(y_true_f * y_pred_f)\n",
    "    dice = (2. * intersection + smooth) / (tf.keras.backend.sum(y_true_f) + tf.keras.backend.sum(y_pred_f) + smooth)\n",
    "    return dice\n",
    "\n",
    "def dice_coef_loss(y_true, y_pred):\n",
    "    return 1 - dice_coef(y_true, y_pred)"
   ]
  },
  {
   "cell_type": "markdown",
   "id": "6e9621ad",
   "metadata": {},
   "source": [
    "### Model Assembly - skip this section if not training from scratch"
   ]
  },
  {
   "cell_type": "code",
   "execution_count": 5,
   "id": "7cc8a4d2",
   "metadata": {},
   "outputs": [
    {
     "name": "stdout",
     "output_type": "stream",
     "text": [
      "Model: \"fire_encoder\"\n",
      "_________________________________________________________________\n",
      " Layer (type)                Output Shape              Param #   \n",
      "=================================================================\n",
      " fire_time_feature_1 (ConvLS  (None, 10, 32, 32, 128)  1651712   \n",
      " TM2D)                                                           \n",
      "                                                                 \n",
      " fire_time_feature_2 (ConvLS  (None, 10, 32, 32, 64)   442624    \n",
      " TM2D)                                                           \n",
      "                                                                 \n",
      " fire_to_2D (ConvLSTM2D)     (None, 32, 32, 64)        33024     \n",
      "                                                                 \n",
      " output (Conv2D)             (None, 32, 32, 1)         65        \n",
      "                                                                 \n",
      "=================================================================\n",
      "Total params: 2,127,425\n",
      "Trainable params: 2,127,425\n",
      "Non-trainable params: 0\n",
      "_________________________________________________________________\n"
     ]
    }
   ],
   "source": [
    "# Input for fire features\n",
    "fire_encoder = tf.keras.Sequential(name = 'fire_encoder')\n",
    "fire_encoder.add(layers.Input(shape = ((10,32,32,1)), name = 'fire_input'))\n",
    "#pooler = tf.keras.layers.MaxPool2D(pool_size=(2, 2))\n",
    "#fire_encoder.add(layers.TimeDistributed(pooler, name = 'pool_to_32x32'))\n",
    "fire_encoder.add(layers.ConvLSTM2D(\n",
    "    filters=128,\n",
    "    kernel_size=(5, 5),\n",
    "    padding='same',\n",
    "    return_sequences=True,\n",
    "    activation = 'relu',\n",
    "    name = 'fire_time_feature_1'))\n",
    "fire_encoder.add(layers.ConvLSTM2D(\n",
    "    filters=64,\n",
    "    kernel_size=(3, 3),\n",
    "    padding='same',\n",
    "    return_sequences=True,\n",
    "    activation = 'relu',\n",
    "    name = 'fire_time_feature_2'))\n",
    "fire_encoder.add(layers.ConvLSTM2D(\n",
    "    filters=64,\n",
    "    kernel_size=(1, 1),\n",
    "    padding='same',\n",
    "    return_sequences=False,\n",
    "    activation = 'relu',\n",
    "    name = 'fire_to_2D'))\n",
    "fire_encoder.add(layers.Conv2D(1, (1,1), activation = 'sigmoid', name = 'output'))\n",
    "#fire_encoder.add(layers.Conv2DTranspose(1, (3,3), activation='sigmoid', padding='same'))\n",
    "#fire_encoder.add(layers.UpSampling2D(size=(2, 2)))\n",
    "\n",
    "fire_encoder.summary()"
   ]
  },
  {
   "cell_type": "code",
   "execution_count": 6,
   "id": "9dec2eca",
   "metadata": {},
   "outputs": [],
   "source": [
    "# Compile model.\n",
    "opt = tf.keras.optimizers.Adam(learning_rate=0.001)\n",
    "loss_fn = tf.keras.losses.BinaryCrossentropy()\n",
    "#loss_fn = tf.keras.losses.MeanSquaredError()\n",
    "#loss_fn = ssim_loss()\n",
    "fire_encoder.compile(loss=loss_fn, \n",
    "                    optimizer=opt, \n",
    "                    metrics=[tf.keras.metrics.MeanSquaredError(name='MSE'),\n",
    "                             tf.keras.metrics.AUC(name='AUC'),\n",
    "                             ssim_loss,\n",
    "                             psnr_loss\n",
    "                            ])"
   ]
  },
  {
   "cell_type": "code",
   "execution_count": 8,
   "id": "9404c289",
   "metadata": {},
   "outputs": [
    {
     "name": "stdout",
     "output_type": "stream",
     "text": [
      "1/1 [==============================] - 2s 2s/step\n"
     ]
    },
    {
     "data": {
      "text/plain": [
       "(32, 32, 32, 1)"
      ]
     },
     "execution_count": 8,
     "metadata": {},
     "output_type": "execute_result"
    }
   ],
   "source": [
    "# Test on dummy data to see that shapes look right.\n",
    "img_batch = tf.zeros([32,10,32,32,1], dtype = 'float32')\n",
    "fire_encoder.predict(img_batch).shape"
   ]
  },
  {
   "cell_type": "markdown",
   "id": "3f6e4152",
   "metadata": {},
   "source": [
    "### Get Moving MNIST Data - skip this section if not training from scratch"
   ]
  },
  {
   "cell_type": "code",
   "execution_count": 2,
   "id": "defb80e4",
   "metadata": {},
   "outputs": [],
   "source": [
    "# Inspiration: https://keras.io/examples/vision/conv_lstm/\n",
    "\n",
    "#Download and load the dataset.\n",
    "fpath = tf.keras.utils.get_file(\n",
    "    \"moving_mnist.npy\",\n",
    "    \"http://www.cs.toronto.edu/~nitish/unsupervised_video/mnist_test_seq.npy\",\n",
    ")\n",
    "dataset = np.load(fpath)\n",
    "\n",
    "# Swap the axes representing the number of frames and number of data samples.\n",
    "dataset = np.swapaxes(dataset, 0, 1)\n",
    "# We'll pick out 100 of the 10000 total examples and use those.\n",
    "dataset = dataset[:100]\n",
    "# Add a channel dimension since the images are grayscale.\n",
    "dataset = np.expand_dims(dataset, axis=-1)\n",
    "\n",
    "# Split into train and validation sets using indexing to optimize memory.\n",
    "indexes = np.arange(dataset.shape[0])\n",
    "np.random.shuffle(indexes)\n",
    "train_index = indexes[: int(0.9 * dataset.shape[0])]\n",
    "val_index = indexes[int(0.9 * dataset.shape[0]) :]\n",
    "train_dataset = dataset[train_index]\n",
    "val_dataset = dataset[val_index]\n",
    "\n",
    "# Normalize the data to the 0-1 range.\n",
    "train_dataset = train_dataset / 255\n",
    "val_dataset = val_dataset / 255\n",
    "\n",
    "# Shift and stack frames.\n",
    "i,o = [],[]\n",
    "for f in range(0,10):\n",
    "    i.append(train_dataset[:,f:f+10])\n",
    "    o.append(train_dataset[:,f+10:f+11])\n",
    "    \n",
    "x_train = np.concatenate(i)\n",
    "y_train = np.squeeze(np.concatenate(o), axis=1)\n",
    "\n",
    "i,o = [],[]\n",
    "for f in range(0,10):\n",
    "    i.append(val_dataset[:,f:f+10])\n",
    "    o.append(val_dataset[:,f+10:f+11])\n",
    "    \n",
    "x_val = np.concatenate(i)\n",
    "y_val = np.squeeze(np.concatenate(o), axis=1)"
   ]
  },
  {
   "cell_type": "code",
   "execution_count": 10,
   "id": "0569899e",
   "metadata": {},
   "outputs": [],
   "source": [
    "# Apply pooling operations to get inputs/outputs from 64x64 to 32x32.\n",
    "pooler = tf.keras.layers.MaxPool2D(pool_size=(2, 2))\n",
    "x_train = layers.TimeDistributed(pooler, name = 'pool_to_32x32')(x_train)\n",
    "y_train = pooler(y_train)\n",
    "x_val = layers.TimeDistributed(pooler, name = 'pool_to_32x32')(x_val)\n",
    "y_val = pooler(y_val)"
   ]
  },
  {
   "cell_type": "code",
   "execution_count": 56,
   "id": "c6c2ac73",
   "metadata": {},
   "outputs": [
    {
     "data": {
      "image/png": "[encoded data removed]",
      "text/plain": [
       "<Figure size 2304x576 with 11 Axes>"
      ]
     },
     "metadata": {
      "needs_background": "light"
     },
     "output_type": "display_data"
    }
   ],
   "source": [
    "# Visualize the dataset to make sure the shifting operation worked properly.\n",
    "sample_idx = np.random.randint(0, len(x_train))\n",
    "fig, axes = plt.subplots(1, 11, figsize=(32, 8))\n",
    "\n",
    "# Plot the fire frames.\n",
    "for idx, ax in enumerate(axes):\n",
    "    if idx == 10:\n",
    "        ax.imshow(np.squeeze(y_train[sample_idx]), cmap=\"gray\")\n",
    "    else:\n",
    "        ax.imshow(np.squeeze(x_train[sample_idx][idx]), cmap=\"gray\")"
   ]
  },
  {
   "cell_type": "markdown",
   "id": "2342aaaa",
   "metadata": {},
   "source": [
    "### Training Phase 1: Rough Fit - skip this section if not training from scratch"
   ]
  },
  {
   "cell_type": "code",
   "execution_count": 17,
   "id": "2122a660",
   "metadata": {},
   "outputs": [
    {
     "name": "stdout",
     "output_type": "stream",
     "text": [
      "Epoch 1/25\n",
      "28/28 [==============================] - 18s 477ms/step - loss: 0.5507 - MSE: 0.1470 - AUC: 0.4343 - ssim_loss: 0.9790 - psnr_loss: 91.1589 - val_loss: 0.2467 - val_MSE: 0.0556 - val_AUC: 0.4695 - val_ssim_loss: 0.9789 - val_psnr_loss: 87.3858 - lr: 0.0010\n",
      "Epoch 2/25\n",
      "28/28 [==============================] - 13s 458ms/step - loss: 0.2680 - MSE: 0.0617 - AUC: 0.6250 - ssim_loss: 0.9699 - psnr_loss: 87.8467 - val_loss: 0.2305 - val_MSE: 0.0537 - val_AUC: 0.7704 - val_ssim_loss: 0.9812 - val_psnr_loss: 87.2350 - lr: 0.0010\n",
      "Epoch 3/25\n",
      "28/28 [==============================] - 13s 449ms/step - loss: 0.2356 - MSE: 0.0580 - AUC: 0.7651 - ssim_loss: 0.9779 - psnr_loss: 87.5562 - val_loss: 0.2031 - val_MSE: 0.0500 - val_AUC: 0.8496 - val_ssim_loss: 0.8684 - val_psnr_loss: 86.8911 - lr: 0.0010\n",
      "Epoch 4/25\n",
      "28/28 [==============================] - 13s 450ms/step - loss: 0.2259 - MSE: 0.0573 - AUC: 0.8003 - ssim_loss: 0.9507 - psnr_loss: 87.4749 - val_loss: 0.1772 - val_MSE: 0.0454 - val_AUC: 0.8961 - val_ssim_loss: 0.9430 - val_psnr_loss: 86.4644 - lr: 0.0010\n",
      "Epoch 5/25\n",
      "28/28 [==============================] - 13s 450ms/step - loss: 0.1744 - MSE: 0.0455 - AUC: 0.9108 - ssim_loss: 0.8053 - psnr_loss: 86.4672 - val_loss: 0.1225 - val_MSE: 0.0319 - val_AUC: 0.9660 - val_ssim_loss: 0.7570 - val_psnr_loss: 84.9384 - lr: 0.0010\n",
      "Epoch 6/25\n",
      "28/28 [==============================] - 13s 449ms/step - loss: 0.1189 - MSE: 0.0313 - AUC: 0.9683 - ssim_loss: 0.5112 - psnr_loss: 84.8202 - val_loss: 0.0965 - val_MSE: 0.0251 - val_AUC: 0.9777 - val_ssim_loss: 0.3722 - val_psnr_loss: 83.8956 - lr: 0.0010\n",
      "Epoch 7/25\n",
      "28/28 [==============================] - 13s 450ms/step - loss: 0.1029 - MSE: 0.0264 - AUC: 0.9784 - ssim_loss: 0.3763 - psnr_loss: 84.0979 - val_loss: 0.0916 - val_MSE: 0.0234 - val_AUC: 0.9795 - val_ssim_loss: 0.3393 - val_psnr_loss: 83.5764 - lr: 0.0010\n",
      "Epoch 8/25\n",
      "28/28 [==============================] - 13s 449ms/step - loss: 0.1020 - MSE: 0.0259 - AUC: 0.9779 - ssim_loss: 0.3767 - psnr_loss: 84.0024 - val_loss: 0.0905 - val_MSE: 0.0231 - val_AUC: 0.9811 - val_ssim_loss: 0.3294 - val_psnr_loss: 83.5178 - lr: 0.0010\n",
      "Epoch 9/25\n",
      "28/28 [==============================] - 13s 448ms/step - loss: 0.0974 - MSE: 0.0247 - AUC: 0.9810 - ssim_loss: 0.3435 - psnr_loss: 83.8004 - val_loss: 0.0888 - val_MSE: 0.0225 - val_AUC: 0.9811 - val_ssim_loss: 0.3193 - val_psnr_loss: 83.3977 - lr: 0.0010\n",
      "Epoch 10/25\n",
      "28/28 [==============================] - 13s 448ms/step - loss: 0.0961 - MSE: 0.0242 - AUC: 0.9820 - ssim_loss: 0.3344 - psnr_loss: 83.6940 - val_loss: 0.0883 - val_MSE: 0.0223 - val_AUC: 0.9836 - val_ssim_loss: 0.3207 - val_psnr_loss: 83.3668 - lr: 0.0010\n",
      "Epoch 11/25\n",
      "28/28 [==============================] - 13s 449ms/step - loss: 0.0952 - MSE: 0.0239 - AUC: 0.9824 - ssim_loss: 0.3265 - psnr_loss: 83.6137 - val_loss: 0.0874 - val_MSE: 0.0220 - val_AUC: 0.9842 - val_ssim_loss: 0.3303 - val_psnr_loss: 83.2941 - lr: 0.0010\n",
      "Epoch 12/25\n",
      "28/28 [==============================] - 13s 449ms/step - loss: 0.0943 - MSE: 0.0237 - AUC: 0.9826 - ssim_loss: 0.3238 - psnr_loss: 83.5656 - val_loss: 0.0867 - val_MSE: 0.0218 - val_AUC: 0.9826 - val_ssim_loss: 0.3088 - val_psnr_loss: 83.2528 - lr: 0.0010\n",
      "Epoch 13/25\n",
      "28/28 [==============================] - 13s 448ms/step - loss: 0.0941 - MSE: 0.0236 - AUC: 0.9830 - ssim_loss: 0.3186 - psnr_loss: 83.5428 - val_loss: 0.0867 - val_MSE: 0.0218 - val_AUC: 0.9818 - val_ssim_loss: 0.3096 - val_psnr_loss: 83.2462 - lr: 0.0010\n",
      "Epoch 14/25\n",
      "28/28 [==============================] - 13s 449ms/step - loss: 0.0935 - MSE: 0.0233 - AUC: 0.9828 - ssim_loss: 0.3220 - psnr_loss: 83.5270 - val_loss: 0.0859 - val_MSE: 0.0214 - val_AUC: 0.9847 - val_ssim_loss: 0.3118 - val_psnr_loss: 83.1724 - lr: 0.0010\n",
      "Epoch 15/25\n",
      "28/28 [==============================] - 13s 450ms/step - loss: 0.0945 - MSE: 0.0236 - AUC: 0.9824 - ssim_loss: 0.3228 - psnr_loss: 83.5721 - val_loss: 0.0866 - val_MSE: 0.0218 - val_AUC: 0.9837 - val_ssim_loss: 0.3185 - val_psnr_loss: 83.2613 - lr: 0.0010\n",
      "Epoch 16/25\n",
      "28/28 [==============================] - 13s 447ms/step - loss: 0.0938 - MSE: 0.0233 - AUC: 0.9827 - ssim_loss: 0.3159 - psnr_loss: 83.4735 - val_loss: 0.0848 - val_MSE: 0.0211 - val_AUC: 0.9847 - val_ssim_loss: 0.3008 - val_psnr_loss: 83.1009 - lr: 0.0010\n",
      "Epoch 17/25\n",
      "28/28 [==============================] - 13s 450ms/step - loss: 0.0910 - MSE: 0.0225 - AUC: 0.9839 - ssim_loss: 0.3055 - psnr_loss: 83.3465 - val_loss: 0.0848 - val_MSE: 0.0209 - val_AUC: 0.9852 - val_ssim_loss: 0.3190 - val_psnr_loss: 83.0583 - lr: 0.0010\n",
      "Epoch 18/25\n",
      "28/28 [==============================] - 13s 451ms/step - loss: 0.0919 - MSE: 0.0227 - AUC: 0.9836 - ssim_loss: 0.3074 - psnr_loss: 83.3785 - val_loss: 0.0842 - val_MSE: 0.0209 - val_AUC: 0.9848 - val_ssim_loss: 0.3012 - val_psnr_loss: 83.0469 - lr: 0.0010\n",
      "Epoch 19/25\n",
      "28/28 [==============================] - 13s 451ms/step - loss: 0.0916 - MSE: 0.0226 - AUC: 0.9834 - ssim_loss: 0.3093 - psnr_loss: 83.3101 - val_loss: 0.0861 - val_MSE: 0.0211 - val_AUC: 0.9794 - val_ssim_loss: 0.2899 - val_psnr_loss: 83.0967 - lr: 0.0010\n",
      "Epoch 20/25\n",
      "28/28 [==============================] - 13s 455ms/step - loss: 0.0925 - MSE: 0.0228 - AUC: 0.9836 - ssim_loss: 0.3077 - psnr_loss: 83.3894 - val_loss: 0.0836 - val_MSE: 0.0205 - val_AUC: 0.9845 - val_ssim_loss: 0.2963 - val_psnr_loss: 82.9598 - lr: 0.0010\n",
      "Epoch 21/25\n",
      "28/28 [==============================] - 13s 450ms/step - loss: 0.0892 - MSE: 0.0218 - AUC: 0.9847 - ssim_loss: 0.2934 - psnr_loss: 83.1736 - val_loss: 0.0831 - val_MSE: 0.0203 - val_AUC: 0.9851 - val_ssim_loss: 0.2961 - val_psnr_loss: 82.9223 - lr: 0.0010\n",
      "Epoch 22/25\n",
      "28/28 [==============================] - 13s 451ms/step - loss: 0.0893 - MSE: 0.0217 - AUC: 0.9847 - ssim_loss: 0.2942 - psnr_loss: 83.1859 - val_loss: 0.0828 - val_MSE: 0.0201 - val_AUC: 0.9841 - val_ssim_loss: 0.2874 - val_psnr_loss: 82.8590 - lr: 0.0010\n",
      "Epoch 23/25\n",
      "28/28 [==============================] - 13s 450ms/step - loss: 0.0894 - MSE: 0.0218 - AUC: 0.9845 - ssim_loss: 0.2956 - psnr_loss: 83.1950 - val_loss: 0.0843 - val_MSE: 0.0206 - val_AUC: 0.9820 - val_ssim_loss: 0.2887 - val_psnr_loss: 82.9614 - lr: 0.0010\n",
      "Epoch 24/25\n",
      "28/28 [==============================] - ETA: 0s - loss: 0.0900 - MSE: 0.0219 - AUC: 0.9848 - ssim_loss: 0.2962 - psnr_loss: 83.2142\n",
      "Epoch 24: ReduceLROnPlateau reducing learning rate to 0.00010000000474974513.\n",
      "28/28 [==============================] - 13s 452ms/step - loss: 0.0900 - MSE: 0.0219 - AUC: 0.9848 - ssim_loss: 0.2962 - psnr_loss: 83.2142 - val_loss: 0.0827 - val_MSE: 0.0201 - val_AUC: 0.9855 - val_ssim_loss: 0.2957 - val_psnr_loss: 82.8557 - lr: 0.0010\n",
      "Epoch 25/25\n",
      "28/28 [==============================] - 13s 449ms/step - loss: 0.0878 - MSE: 0.0212 - AUC: 0.9854 - ssim_loss: 0.2879 - psnr_loss: 83.0495 - val_loss: 0.0823 - val_MSE: 0.0199 - val_AUC: 0.9841 - val_ssim_loss: 0.2802 - val_psnr_loss: 82.8200 - lr: 1.0000e-04\n"
     ]
    },
    {
     "data": {
      "text/plain": [
       "<keras.callbacks.History at 0x1f001df1f40>"
      ]
     },
     "execution_count": 17,
     "metadata": {},
     "output_type": "execute_result"
    }
   ],
   "source": [
    "# Start off training on a smaller subset of the MNIST data with a higher LR to get approximate fit.\n",
    "batch_size = 32\n",
    "\n",
    "# Define some callbacks to improve training.\n",
    "early_stopping = tf.keras.callbacks.EarlyStopping(monitor='val_loss', patience=7, restore_best_weights = True, verbose = 1)\n",
    "reduce_lr = tf.keras.callbacks.ReduceLROnPlateau(monitor='val_loss', patience=2, verbose = 1)\n",
    "\n",
    "fire_encoder.fit(x_train, y_train, \n",
    "                   epochs = 25, \n",
    "                   verbose = 1, \n",
    "                   batch_size = batch_size,\n",
    "                   validation_data = (x_val, y_val),\n",
    "                   callbacks = [early_stopping, reduce_lr],\n",
    "                   steps_per_epoch = len(x_train) // batch_size,\n",
    "                   validation_steps = len(x_val) // batch_size\n",
    "                  )"
   ]
  },
  {
   "cell_type": "code",
   "execution_count": 20,
   "id": "7ad1b464",
   "metadata": {},
   "outputs": [
    {
     "name": "stderr",
     "output_type": "stream",
     "text": [
      "WARNING:absl:Found untraced functions such as _jit_compiled_convolution_op while saving (showing 1 of 1). These functions will not be directly callable after loading.\n"
     ]
    },
    {
     "name": "stdout",
     "output_type": "stream",
     "text": [
      "INFO:tensorflow:Assets written to: Models/MINST_Rough_02\\assets\n"
     ]
    },
    {
     "name": "stderr",
     "output_type": "stream",
     "text": [
      "INFO:tensorflow:Assets written to: Models/MINST_Rough_02\\assets\n"
     ]
    }
   ],
   "source": [
    "fire_encoder.save('Models/MINST_Rough_02')"
   ]
  },
  {
   "cell_type": "markdown",
   "id": "5d398961",
   "metadata": {},
   "source": [
    "### Training Phase 2: More Examples, Lower LR - start here for MNIST tuning"
   ]
  },
  {
   "cell_type": "code",
   "execution_count": 41,
   "id": "41d9d031",
   "metadata": {},
   "outputs": [],
   "source": [
    "#Reload model from Phase 1.\n",
    "fire_encoder = tf.keras.models.load_model('Models/MINST_Agg_02', custom_objects = {'ssim_loss': ssim_loss, 'psnr_loss': psnr_loss})"
   ]
  },
  {
   "cell_type": "code",
   "execution_count": 40,
   "id": "3e01bfa9",
   "metadata": {},
   "outputs": [],
   "source": [
    "# Inspiration: https://keras.io/examples/vision/conv_lstm/\n",
    "\n",
    "#Download and load the dataset.\n",
    "fpath = tf.keras.utils.get_file(\n",
    "    \"moving_mnist.npy\",\n",
    "    \"http://www.cs.toronto.edu/~nitish/unsupervised_video/mnist_test_seq.npy\",\n",
    ")\n",
    "dataset = np.load(fpath)\n",
    "\n",
    "# Swap the axes representing the number of frames and number of data samples.\n",
    "dataset = np.swapaxes(dataset, 0, 1)\n",
    "# Now we use the entire dataset.\n",
    "dataset = dataset#[1000:6000]\n",
    "# Add a channel dimension since the images are grayscale.\n",
    "dataset = np.expand_dims(dataset, axis=-1)\n",
    "\n",
    "# Split into train and validation sets using indexing to optimize memory.\n",
    "indexes = np.arange(dataset.shape[0])\n",
    "np.random.shuffle(indexes)\n",
    "train_index = indexes[: int(0.9 * dataset.shape[0])]\n",
    "val_index = indexes[int(0.9 * dataset.shape[0]) :]\n",
    "train_dataset = dataset[train_index]\n",
    "val_dataset = dataset[val_index]\n",
    "\n",
    "# Normalize the data to the 0-1 range.\n",
    "train_dataset = train_dataset / 255\n",
    "val_dataset = val_dataset / 255\n",
    "\n",
    "# Shift and stack frames.\n",
    "i,o = [],[]\n",
    "for f in range(0,10):\n",
    "    i.append(train_dataset[:,f:f+10])\n",
    "    o.append(train_dataset[:,f+10:f+11])\n",
    "    \n",
    "x_train = np.concatenate(i)\n",
    "y_train = np.squeeze(np.concatenate(o), axis=1)\n",
    "\n",
    "i,o = [],[]\n",
    "for f in range(0,10):\n",
    "    i.append(val_dataset[:,f:f+10])\n",
    "    o.append(val_dataset[:,f+10:f+11])\n",
    "    \n",
    "x_val = np.concatenate(i)\n",
    "y_val = np.squeeze(np.concatenate(o), axis=1)"
   ]
  },
  {
   "cell_type": "code",
   "execution_count": 42,
   "id": "831b9c45",
   "metadata": {},
   "outputs": [],
   "source": [
    "#Parameters\n",
    "pooler = tf.keras.layers.MaxPool2D(pool_size=(2, 2))\n",
    "xt_pooled, yt_pooled, xv_pooled, yv_pooled = [],[],[],[]\n",
    "\n",
    "# Pool training set.\n",
    "for t in range(0,len(x_train),1000):\n",
    "    t_x_train = x_train[t:t+1000]\n",
    "    xt_pooled.append(layers.TimeDistributed(pooler, name = 'pool_to_32x32')(t_x_train).numpy())\n",
    "    t_y_train = y_train[t:t+1000]\n",
    "    yt_pooled.append(pooler(t_y_train).numpy())\n",
    "    \n",
    "# Pool validation set.\n",
    "for t in range(0,len(x_val),1000):\n",
    "    t_x_val = x_val[t:t+1000]\n",
    "    xv_pooled.append(layers.TimeDistributed(pooler, name = 'pool_to_32x32')(t_x_val).numpy())\n",
    "    t_y_val = y_val[t:t+1000]\n",
    "    yv_pooled.append(pooler(t_y_val).numpy())\n",
    "    \n",
    "# Stack\n",
    "x_train = np.concatenate(xt_pooled)\n",
    "y_train = np.concatenate(yt_pooled)\n",
    "x_val = np.concatenate(xv_pooled)\n",
    "y_val = np.concatenate(yv_pooled)\n",
    "\n",
    "# Shuffle each dataset in unison.\n",
    "# From: https://stackoverflow.com/questions/4601373/better-way-to-shuffle-two-numpy-arrays-in-unison\n",
    "randomize = np.arange(len(x_train))\n",
    "np.random.shuffle(randomize)\n",
    "x_train = x_train[randomize]\n",
    "y_train = y_train[randomize]\n",
    "\n",
    "randomize = np.arange(len(x_val))\n",
    "np.random.shuffle(randomize)\n",
    "x_val = x_val[randomize]\n",
    "y_val = y_val[randomize]"
   ]
  },
  {
   "cell_type": "code",
   "execution_count": 43,
   "id": "6982a126",
   "metadata": {},
   "outputs": [],
   "source": [
    "# Throw out variables that will no longer be used to recover memory.\n",
    "train_dataset, val_dataset,train_index, val_index = None, None, None, None\n",
    "t_x_train, t_y_train, t_x_val, t_y_val = None, None, None, None\n",
    "xt_pooled, yt_pooled, xv_pooled, yv_pooled = None, None, None, None\n",
    "pooler, i, o, dataset = None, None, None, None"
   ]
  },
  {
   "cell_type": "code",
   "execution_count": 50,
   "id": "ad5a291f",
   "metadata": {},
   "outputs": [
    {
     "data": {
      "image/png": "[encoded data removed]",
      "text/plain": [
       "<Figure size 2304x576 with 11 Axes>"
      ]
     },
     "metadata": {
      "needs_background": "light"
     },
     "output_type": "display_data"
    }
   ],
   "source": [
    "# Visualize the dataset to make sure the shifting and shuffling operations worked properly.\n",
    "sample_idx = np.random.randint(0, len(x_train))\n",
    "fig, axes = plt.subplots(1, 11, figsize=(32, 8))\n",
    "\n",
    "# Plot the fire frames.\n",
    "for idx, ax in enumerate(axes):\n",
    "    if idx == 10:\n",
    "        ax.imshow(np.squeeze(y_train[sample_idx]), cmap=\"gray\")\n",
    "    else:\n",
    "        ax.imshow(np.squeeze(x_train[sample_idx][idx]), cmap=\"gray\")"
   ]
  },
  {
   "cell_type": "code",
   "execution_count": 45,
   "id": "f9039cc7",
   "metadata": {},
   "outputs": [],
   "source": [
    "# Build a simple generator\n",
    "class DataGenerator(tf.keras.utils.Sequence):\n",
    "    def __init__(self, x_set, y_set, batch_size):\n",
    "        self.x, self.y = x_set, y_set\n",
    "        self.batch_size = batch_size\n",
    "\n",
    "    def __len__(self):\n",
    "        return int(np.ceil(len(self.x) / float(self.batch_size)))\n",
    "\n",
    "    def __getitem__(self, idx):\n",
    "        batch_x = self.x[idx * self.batch_size:(idx + 1) * self.batch_size]\n",
    "        batch_y = self.y[idx * self.batch_size:(idx + 1) * self.batch_size]\n",
    "        return batch_x, batch_y\n",
    "\n",
    "batch_size = 32\n",
    "train_gen = DataGenerator(x_train, y_train, batch_size)\n",
    "val_gen = DataGenerator(x_val, y_val, batch_size)"
   ]
  },
  {
   "cell_type": "code",
   "execution_count": 46,
   "id": "1bc9dc90",
   "metadata": {},
   "outputs": [
    {
     "name": "stdout",
     "output_type": "stream",
     "text": [
      "Old LR: 0.000100000005\n",
      "New LR: 1e-04\n"
     ]
    }
   ],
   "source": [
    "# Check and set learning rate.\n",
    "# Change learning rate.\n",
    "print('Old LR:',tf.keras.backend.eval(fire_encoder.optimizer.lr))\n",
    "tf.keras.backend.set_value(fire_encoder.optimizer.lr, 0.0001)\n",
    "print('New LR:',tf.keras.backend.eval(fire_encoder.optimizer.lr))"
   ]
  },
  {
   "cell_type": "markdown",
   "id": "c55ada63",
   "metadata": {},
   "source": [
    "<b>Results From End of Training Phase 1</b><br>\n",
    "Epoch 25/25 <br>\n",
    "loss: 0.0878 <br>\n",
    "MSE: 0.0212 <br>\n",
    "AUC: 0.9854 <br>\n",
    "ssim_loss: 0.2879 <br>\n",
    "psnr_loss: 83.0495 <br>\n",
    "val_loss: 0.0823 <br>\n",
    "val_MSE: 0.0199 <br>\n",
    "val_AUC: 0.9841  <br>\n",
    "val_ssim_loss: 0.2802 <br>\n",
    "val_psnr_loss: 82.8200 <br>\n",
    "lr: 1.0000e-04"
   ]
  },
  {
   "cell_type": "code",
   "execution_count": 28,
   "id": "14f1ab5e",
   "metadata": {},
   "outputs": [
    {
     "name": "stdout",
     "output_type": "stream",
     "text": [
      "Epoch 1/10\n",
      "2813/2813 [==============================] - 1270s 449ms/step - loss: 0.0859 - MSE: 0.0208 - AUC: 0.9852 - ssim_loss: 0.2844 - psnr_loss: 82.9678 - val_loss: 0.0854 - val_MSE: 0.0206 - val_AUC: 0.9857 - val_ssim_loss: 0.2814 - val_psnr_loss: 82.9251 - lr: 1.0000e-05\n",
      "Epoch 2/10\n",
      "2813/2813 [==============================] - 1277s 454ms/step - loss: 0.0841 - MSE: 0.0202 - AUC: 0.9860 - ssim_loss: 0.2749 - psnr_loss: 82.8249 - val_loss: 0.0838 - val_MSE: 0.0200 - val_AUC: 0.9864 - val_ssim_loss: 0.2740 - val_psnr_loss: 82.7933 - lr: 1.0000e-05\n",
      "Epoch 3/10\n",
      "2813/2813 [==============================] - 1248s 444ms/step - loss: 0.0825 - MSE: 0.0196 - AUC: 0.9866 - ssim_loss: 0.2662 - psnr_loss: 82.6844 - val_loss: 0.0823 - val_MSE: 0.0195 - val_AUC: 0.9871 - val_ssim_loss: 0.2665 - val_psnr_loss: 82.6763 - lr: 1.0000e-05\n",
      "Epoch 4/10\n",
      "2813/2813 [==============================] - 1256s 447ms/step - loss: 0.0811 - MSE: 0.0191 - AUC: 0.9871 - ssim_loss: 0.2587 - psnr_loss: 82.5656 - val_loss: 0.0810 - val_MSE: 0.0190 - val_AUC: 0.9870 - val_ssim_loss: 0.2563 - val_psnr_loss: 82.5585 - lr: 1.0000e-05\n",
      "Epoch 5/10\n",
      "2813/2813 [==============================] - 1248s 444ms/step - loss: 0.0799 - MSE: 0.0187 - AUC: 0.9875 - ssim_loss: 0.2525 - psnr_loss: 82.4674 - val_loss: 0.0800 - val_MSE: 0.0187 - val_AUC: 0.9871 - val_ssim_loss: 0.2517 - val_psnr_loss: 82.4729 - lr: 1.0000e-05\n",
      "Epoch 6/10\n",
      "2813/2813 [==============================] - 1255s 446ms/step - loss: 0.0789 - MSE: 0.0183 - AUC: 0.9878 - ssim_loss: 0.2471 - psnr_loss: 82.3781 - val_loss: 0.0790 - val_MSE: 0.0183 - val_AUC: 0.9880 - val_ssim_loss: 0.2501 - val_psnr_loss: 82.3899 - lr: 1.0000e-05\n",
      "Epoch 7/10\n",
      "2813/2813 [==============================] - 1245s 443ms/step - loss: 0.0779 - MSE: 0.0180 - AUC: 0.9881 - ssim_loss: 0.2420 - psnr_loss: 82.2949 - val_loss: 0.0779 - val_MSE: 0.0180 - val_AUC: 0.9881 - val_ssim_loss: 0.2407 - val_psnr_loss: 82.2936 - lr: 1.0000e-05\n",
      "Epoch 8/10\n",
      "2813/2813 [==============================] - 1245s 443ms/step - loss: 0.0770 - MSE: 0.0177 - AUC: 0.9883 - ssim_loss: 0.2370 - psnr_loss: 82.2142 - val_loss: 0.0773 - val_MSE: 0.0177 - val_AUC: 0.9874 - val_ssim_loss: 0.2335 - val_psnr_loss: 82.2205 - lr: 1.0000e-05\n",
      "Epoch 9/10\n",
      "2813/2813 [==============================] - 1245s 443ms/step - loss: 0.0761 - MSE: 0.0174 - AUC: 0.9886 - ssim_loss: 0.2324 - psnr_loss: 82.1369 - val_loss: 0.0762 - val_MSE: 0.0174 - val_AUC: 0.9883 - val_ssim_loss: 0.2293 - val_psnr_loss: 82.1399 - lr: 1.0000e-05\n",
      "Epoch 10/10\n",
      "2813/2813 [==============================] - 1245s 443ms/step - loss: 0.0753 - MSE: 0.0171 - AUC: 0.9888 - ssim_loss: 0.2280 - psnr_loss: 82.0628 - val_loss: 0.0755 - val_MSE: 0.0171 - val_AUC: 0.9893 - val_ssim_loss: 0.2312 - val_psnr_loss: 82.0756 - lr: 1.0000e-05\n"
     ]
    },
    {
     "data": {
      "text/plain": [
       "<keras.callbacks.History at 0x1aa0708ab80>"
      ]
     },
     "execution_count": 28,
     "metadata": {},
     "output_type": "execute_result"
    }
   ],
   "source": [
    "# Define some callbacks to improve training.\n",
    "early_stopping = tf.keras.callbacks.EarlyStopping(monitor='val_loss', patience=3, restore_best_weights = True, verbose = 1)\n",
    "reduce_lr = tf.keras.callbacks.ReduceLROnPlateau(monitor='val_loss', patience=1, verbose = 1)\n",
    "\n",
    "fire_encoder.fit(train_gen,\n",
    "                   epochs = 10, \n",
    "                   verbose = 1, \n",
    "                   batch_size = batch_size,\n",
    "                   validation_data = val_gen,\n",
    "                   callbacks = [early_stopping, reduce_lr],\n",
    "                  )"
   ]
  },
  {
   "cell_type": "code",
   "execution_count": 29,
   "id": "33f1c2d0",
   "metadata": {},
   "outputs": [
    {
     "name": "stderr",
     "output_type": "stream",
     "text": [
      "WARNING:absl:Found untraced functions such as _jit_compiled_convolution_op while saving (showing 1 of 1). These functions will not be directly callable after loading.\n"
     ]
    },
    {
     "name": "stdout",
     "output_type": "stream",
     "text": [
      "INFO:tensorflow:Assets written to: Models/MINST_Rough_03\\assets\n"
     ]
    },
    {
     "name": "stderr",
     "output_type": "stream",
     "text": [
      "INFO:tensorflow:Assets written to: Models/MINST_Rough_03\\assets\n"
     ]
    }
   ],
   "source": [
    "fire_encoder.save('Models/MINST_Rough_03')"
   ]
  },
  {
   "cell_type": "markdown",
   "id": "286bda40",
   "metadata": {},
   "source": [
    "### Making Spread MNIST"
   ]
  },
  {
   "cell_type": "code",
   "execution_count": 104,
   "id": "c2354814",
   "metadata": {},
   "outputs": [],
   "source": [
    "# Inspiration: https://keras.io/examples/vision/conv_lstm/\n",
    "\n",
    "#Download and load the dataset.\n",
    "fpath = tf.keras.utils.get_file(\n",
    "    \"moving_mnist.npy\",\n",
    "    \"http://www.cs.toronto.edu/~nitish/unsupervised_video/mnist_test_seq.npy\",\n",
    ")\n",
    "dataset = np.load(fpath)\n",
    "\n",
    "# Swap the axes representing the number of frames and number of data samples.\n",
    "dataset = np.swapaxes(dataset, 0, 1)\n",
    "# Now we use the entire dataset.\n",
    "# Add a channel dimension since the images are grayscale.\n",
    "dataset = np.expand_dims(dataset, axis=-1)\n",
    "\n",
    "# Split into train and validation sets using indexing to optimize memory.\n",
    "indexes = np.arange(dataset.shape[0])\n",
    "np.random.shuffle(indexes)\n",
    "train_index = indexes[: int(0.9 * dataset.shape[0])]\n",
    "val_index = indexes[int(0.9 * dataset.shape[0]) :]\n",
    "train_dataset = dataset[train_index]\n",
    "val_dataset = dataset[val_index]\n",
    "\n",
    "# Normalize the data to the 0-1 range.\n",
    "train_dataset = train_dataset / 255\n",
    "val_dataset = val_dataset / 255\n",
    "\n",
    "# Shuffle each dataset, not in unison.\n",
    "np.random.shuffle(train_dataset)\n",
    "np.random.shuffle(val_dataset)"
   ]
  },
  {
   "cell_type": "code",
   "execution_count": 105,
   "id": "934f0b2b",
   "metadata": {},
   "outputs": [],
   "source": [
    "t_stack, v_stack = [], []\n",
    "\n",
    "# Perform spread operations on entire dataset in batches of 100.\n",
    "for x in range(0, len(train_dataset) // 100):\n",
    "    # Randomly get 11 frames while maintaining order.\n",
    "    idx_list= np.random.choice(np.arange(20), 11, replace = False)\n",
    "    idx_list.sort()\n",
    "    t_stack.append(train_dataset[x*100:(x+1)*100,idx_list])\n",
    "for x in range(0, len(val_dataset) // 100):\n",
    "    # Randomly get 11 frames while maintaining order.\n",
    "    idx_list= np.random.choice(np.arange(20), 11, replace = False)\n",
    "    idx_list.sort()\n",
    "    v_stack.append(val_dataset[x*100:(x+1)*100,idx_list])\n",
    "    \n",
    "# Rebuild datasets    \n",
    "t_stack = np.concatenate(t_stack)\n",
    "v_stack = np.concatenate(v_stack)\n",
    "\n",
    "# Shuffle each dataset, not in unison.\n",
    "np.random.shuffle(train_dataset)\n",
    "np.random.shuffle(val_dataset)\n",
    "\n",
    "# Create x and y split.\n",
    "x_train, y_train = t_stack[:,:10], t_stack[:,10]\n",
    "x_val, y_val = v_stack[:,:10], v_stack[:,10]"
   ]
  },
  {
   "cell_type": "code",
   "execution_count": 106,
   "id": "69ffd533",
   "metadata": {},
   "outputs": [],
   "source": [
    "# Pooling operations performed to shrink image from 64x64 to 32x32.\n",
    "pooler = tf.keras.layers.MaxPool2D(pool_size=(2, 2))\n",
    "xt_pooled, yt_pooled, xv_pooled, yv_pooled = [],[],[],[]\n",
    "\n",
    "# Pool training set.\n",
    "for t in range(0,len(x_train),1000):\n",
    "    t_x_train = x_train[t:t+1000]\n",
    "    xt_pooled.append(layers.TimeDistributed(pooler, name = 'pool_to_32x32')(t_x_train).numpy())\n",
    "    t_y_train = y_train[t:t+1000]\n",
    "    yt_pooled.append(pooler(t_y_train).numpy())\n",
    "    \n",
    "# Pool validation set.\n",
    "for t in range(0,len(x_val),1000):\n",
    "    t_x_val = x_val[t:t+1000]\n",
    "    xv_pooled.append(layers.TimeDistributed(pooler, name = 'pool_to_32x32')(t_x_val).numpy())\n",
    "    t_y_val = y_val[t:t+1000]\n",
    "    yv_pooled.append(pooler(t_y_val).numpy())\n",
    "    \n",
    "# Stack\n",
    "x_train = np.concatenate(xt_pooled)\n",
    "y_train = np.concatenate(yt_pooled)\n",
    "x_val = np.concatenate(xv_pooled)\n",
    "y_val = np.concatenate(yv_pooled)\n",
    "\n",
    "# Shuffle each dataset in unison.\n",
    "# From: https://stackoverflow.com/questions/4601373/better-way-to-shuffle-two-numpy-arrays-in-unison\n",
    "randomize = np.arange(len(x_train))\n",
    "np.random.shuffle(randomize)\n",
    "x_train = x_train[randomize]\n",
    "y_train = y_train[randomize]\n",
    "\n",
    "randomize = np.arange(len(x_val))\n",
    "np.random.shuffle(randomize)\n",
    "x_val = x_val[randomize]\n",
    "y_val = y_val[randomize]"
   ]
  },
  {
   "cell_type": "code",
   "execution_count": 107,
   "id": "3f13b252",
   "metadata": {},
   "outputs": [],
   "source": [
    "# Throw out variables that will no longer be used to recover memory.\n",
    "train_dataset, val_dataset, t_stack, v_stack = None, None, None, None\n",
    "t_x_train, t_y_train, t_x_val, t_y_val = None, None, None, None\n",
    "xt_pooled, yt_pooled, xv_pooled, yv_pooled = None, None, None, None\n",
    "pooler, i, o, dataset = None, None, None, None"
   ]
  },
  {
   "cell_type": "code",
   "execution_count": 36,
   "id": "3b97c200",
   "metadata": {},
   "outputs": [
    {
     "data": {
      "image/png": "[encoded data removed]",
      "text/plain": [
       "<Figure size 2304x576 with 11 Axes>"
      ]
     },
     "metadata": {
      "needs_background": "light"
     },
     "output_type": "display_data"
    }
   ],
   "source": [
    "# Visualize the dataset to make sure the shifting and shuffling operations worked properly.\n",
    "sample_idx = np.random.randint(0, len(x_train))\n",
    "fig, axes = plt.subplots(1, 11, figsize=(32, 8))\n",
    "\n",
    "# Plot the fire frames.\n",
    "for idx, ax in enumerate(axes):\n",
    "    if idx == 10:\n",
    "        ax.imshow(np.squeeze(y_train[sample_idx]), cmap=\"gray\")\n",
    "    else:\n",
    "        ax.imshow(np.squeeze(x_train[sample_idx][idx]), cmap=\"gray\")"
   ]
  },
  {
   "cell_type": "code",
   "execution_count": 10,
   "id": "c83b1ff9",
   "metadata": {},
   "outputs": [],
   "source": [
    "# Build a simple generator\n",
    "class DataGenerator(tf.keras.utils.Sequence):\n",
    "    def __init__(self, x_set, y_set, batch_size):\n",
    "        self.x, self.y = x_set, y_set\n",
    "        self.batch_size = batch_size\n",
    "\n",
    "    def __len__(self):\n",
    "        return int(np.ceil(len(self.x) / float(self.batch_size)))\n",
    "\n",
    "    def __getitem__(self, idx):\n",
    "        batch_x = self.x[idx * self.batch_size:(idx + 1) * self.batch_size]\n",
    "        batch_y = self.y[idx * self.batch_size:(idx + 1) * self.batch_size]\n",
    "        return batch_x, batch_y\n",
    "\n",
    "batch_size = 32\n",
    "train_gen = DataGenerator(x_train, y_train, batch_size)\n",
    "val_gen = DataGenerator(x_val, y_val, batch_size)"
   ]
  },
  {
   "cell_type": "code",
   "execution_count": 11,
   "id": "cb24db68",
   "metadata": {},
   "outputs": [
    {
     "name": "stdout",
     "output_type": "stream",
     "text": [
      "Old LR: 0.001\n",
      "New LR: 1e-04\n"
     ]
    }
   ],
   "source": [
    "# Get last training model.\n",
    "fire_encoder = tf.keras.models.load_model('Models/MINST_Agg_01', custom_objects = {'ssim_loss': ssim_loss, 'psnr_loss': psnr_loss})\n",
    "\n",
    "# Change learning rate.\n",
    "print('Old LR:',tf.keras.backend.eval(fire_encoder.optimizer.lr))\n",
    "tf.keras.backend.set_value(fire_encoder.optimizer.lr, 0.0001)\n",
    "print('New LR:',tf.keras.backend.eval(fire_encoder.optimizer.lr))"
   ]
  },
  {
   "cell_type": "code",
   "execution_count": 12,
   "id": "2620a6bf",
   "metadata": {},
   "outputs": [
    {
     "name": "stdout",
     "output_type": "stream",
     "text": [
      "Epoch 1/30\n",
      "282/282 [==============================] - 174s 593ms/step - loss: 0.1506 - MSE: 0.0370 - AUC: 0.9315 - ssim_loss: 0.7177 - psnr_loss: 85.0091 - val_loss: 0.1340 - val_MSE: 0.0338 - val_AUC: 0.9519 - val_ssim_loss: 0.7458 - val_psnr_loss: 84.8933 - lr: 1.0000e-04\n",
      "Epoch 2/30\n",
      "282/282 [==============================] - 167s 591ms/step - loss: 0.1410 - MSE: 0.0352 - AUC: 0.9426 - ssim_loss: 0.7087 - psnr_loss: 84.8721 - val_loss: 0.1298 - val_MSE: 0.0327 - val_AUC: 0.9554 - val_ssim_loss: 0.7125 - val_psnr_loss: 84.7371 - lr: 1.0000e-04\n",
      "Epoch 3/30\n",
      "282/282 [==============================] - 165s 585ms/step - loss: 0.1387 - MSE: 0.0347 - AUC: 0.9450 - ssim_loss: 0.6885 - psnr_loss: 84.8125 - val_loss: 0.1272 - val_MSE: 0.0321 - val_AUC: 0.9579 - val_ssim_loss: 0.6846 - val_psnr_loss: 84.6508 - lr: 1.0000e-04\n",
      "Epoch 4/30\n",
      "282/282 [==============================] - 165s 586ms/step - loss: 0.1372 - MSE: 0.0343 - AUC: 0.9466 - ssim_loss: 0.6727 - psnr_loss: 84.7722 - val_loss: 0.1255 - val_MSE: 0.0318 - val_AUC: 0.9594 - val_ssim_loss: 0.6470 - val_psnr_loss: 84.6143 - lr: 1.0000e-04\n",
      "Epoch 5/30\n",
      "282/282 [==============================] - 166s 589ms/step - loss: 0.1361 - MSE: 0.0340 - AUC: 0.9478 - ssim_loss: 0.6597 - psnr_loss: 84.7352 - val_loss: 0.1249 - val_MSE: 0.0316 - val_AUC: 0.9602 - val_ssim_loss: 0.6570 - val_psnr_loss: 84.6360 - lr: 1.0000e-04\n",
      "Epoch 6/30\n",
      "282/282 [==============================] - 167s 591ms/step - loss: 0.1351 - MSE: 0.0338 - AUC: 0.9488 - ssim_loss: 0.6506 - psnr_loss: 84.7137 - val_loss: 0.1230 - val_MSE: 0.0312 - val_AUC: 0.9609 - val_ssim_loss: 0.6003 - val_psnr_loss: 84.5131 - lr: 1.0000e-04\n",
      "Epoch 7/30\n",
      "282/282 [==============================] - 165s 587ms/step - loss: 0.1343 - MSE: 0.0336 - AUC: 0.9496 - ssim_loss: 0.6403 - psnr_loss: 84.6887 - val_loss: 0.1237 - val_MSE: 0.0312 - val_AUC: 0.9616 - val_ssim_loss: 0.6588 - val_psnr_loss: 84.5713 - lr: 1.0000e-04\n",
      "Epoch 8/30\n",
      "282/282 [==============================] - 167s 592ms/step - loss: 0.1337 - MSE: 0.0335 - AUC: 0.9502 - ssim_loss: 0.6345 - psnr_loss: 84.6724 - val_loss: 0.1219 - val_MSE: 0.0309 - val_AUC: 0.9622 - val_ssim_loss: 0.6100 - val_psnr_loss: 84.4970 - lr: 1.0000e-04\n",
      "Epoch 9/30\n",
      "282/282 [==============================] - 168s 595ms/step - loss: 0.1330 - MSE: 0.0333 - AUC: 0.9509 - ssim_loss: 0.6260 - psnr_loss: 84.6490 - val_loss: 0.1221 - val_MSE: 0.0308 - val_AUC: 0.9625 - val_ssim_loss: 0.6389 - val_psnr_loss: 84.5124 - lr: 1.0000e-04\n",
      "Epoch 10/30\n",
      "282/282 [==============================] - 167s 592ms/step - loss: 0.1324 - MSE: 0.0332 - AUC: 0.9515 - ssim_loss: 0.6214 - psnr_loss: 84.6362 - val_loss: 0.1214 - val_MSE: 0.0307 - val_AUC: 0.9627 - val_ssim_loss: 0.5995 - val_psnr_loss: 84.5002 - lr: 1.0000e-04\n",
      "Epoch 11/30\n",
      "282/282 [==============================] - 167s 592ms/step - loss: 0.1318 - MSE: 0.0330 - AUC: 0.9520 - ssim_loss: 0.6145 - psnr_loss: 84.6203 - val_loss: 0.1208 - val_MSE: 0.0307 - val_AUC: 0.9628 - val_ssim_loss: 0.5693 - val_psnr_loss: 84.4609 - lr: 1.0000e-04\n",
      "Epoch 12/30\n",
      "282/282 [==============================] - 166s 590ms/step - loss: 0.1313 - MSE: 0.0329 - AUC: 0.9526 - ssim_loss: 0.6076 - psnr_loss: 84.6055 - val_loss: 0.1206 - val_MSE: 0.0305 - val_AUC: 0.9634 - val_ssim_loss: 0.6024 - val_psnr_loss: 84.4669 - lr: 1.0000e-04\n",
      "Epoch 13/30\n",
      "282/282 [==============================] - 166s 590ms/step - loss: 0.1308 - MSE: 0.0328 - AUC: 0.9531 - ssim_loss: 0.6030 - psnr_loss: 84.5936 - val_loss: 0.1203 - val_MSE: 0.0305 - val_AUC: 0.9636 - val_ssim_loss: 0.5798 - val_psnr_loss: 84.4818 - lr: 1.0000e-04\n",
      "Epoch 14/30\n",
      "282/282 [==============================] - 167s 592ms/step - loss: 0.1302 - MSE: 0.0327 - AUC: 0.9535 - ssim_loss: 0.5979 - psnr_loss: 84.5785 - val_loss: 0.1195 - val_MSE: 0.0302 - val_AUC: 0.9639 - val_ssim_loss: 0.5737 - val_psnr_loss: 84.4036 - lr: 1.0000e-04\n",
      "Epoch 15/30\n",
      "282/282 [==============================] - 166s 590ms/step - loss: 0.1298 - MSE: 0.0326 - AUC: 0.9540 - ssim_loss: 0.5920 - psnr_loss: 84.5636 - val_loss: 0.1194 - val_MSE: 0.0303 - val_AUC: 0.9637 - val_ssim_loss: 0.5586 - val_psnr_loss: 84.4145 - lr: 1.0000e-04\n",
      "Epoch 16/30\n",
      "282/282 [==============================] - 166s 588ms/step - loss: 0.1293 - MSE: 0.0324 - AUC: 0.9545 - ssim_loss: 0.5880 - psnr_loss: 84.5464 - val_loss: 0.1193 - val_MSE: 0.0303 - val_AUC: 0.9638 - val_ssim_loss: 0.5647 - val_psnr_loss: 84.4339 - lr: 1.0000e-04\n",
      "Epoch 17/30\n",
      "282/282 [==============================] - 166s 588ms/step - loss: 0.1288 - MSE: 0.0323 - AUC: 0.9549 - ssim_loss: 0.5831 - psnr_loss: 84.5354 - val_loss: 0.1192 - val_MSE: 0.0301 - val_AUC: 0.9641 - val_ssim_loss: 0.5756 - val_psnr_loss: 84.4157 - lr: 1.0000e-04\n",
      "Epoch 18/30\n",
      "282/282 [==============================] - 166s 588ms/step - loss: 0.1284 - MSE: 0.0322 - AUC: 0.9553 - ssim_loss: 0.5792 - psnr_loss: 84.5238 - val_loss: 0.1197 - val_MSE: 0.0303 - val_AUC: 0.9635 - val_ssim_loss: 0.5738 - val_psnr_loss: 84.4524 - lr: 1.0000e-04\n",
      "Epoch 19/30\n",
      "282/282 [==============================] - ETA: 0s - loss: 0.1279 - MSE: 0.0322 - AUC: 0.9557 - ssim_loss: 0.5759 - psnr_loss: 84.5140\n",
      "Epoch 19: ReduceLROnPlateau reducing learning rate to 9.999999747378752e-06.\n",
      "282/282 [==============================] - 166s 587ms/step - loss: 0.1279 - MSE: 0.0322 - AUC: 0.9557 - ssim_loss: 0.5759 - psnr_loss: 84.5140 - val_loss: 0.1191 - val_MSE: 0.0301 - val_AUC: 0.9638 - val_ssim_loss: 0.5665 - val_psnr_loss: 84.4094 - lr: 1.0000e-04\n",
      "Epoch 20/30\n",
      "282/282 [==============================] - 166s 590ms/step - loss: 0.1270 - MSE: 0.0319 - AUC: 0.9567 - ssim_loss: 0.5720 - psnr_loss: 84.4874 - val_loss: 0.1186 - val_MSE: 0.0300 - val_AUC: 0.9641 - val_ssim_loss: 0.5478 - val_psnr_loss: 84.3879 - lr: 1.0000e-05\n",
      "Epoch 21/30\n",
      "282/282 [==============================] - 167s 592ms/step - loss: 0.1269 - MSE: 0.0319 - AUC: 0.9567 - ssim_loss: 0.5683 - psnr_loss: 84.4793 - val_loss: 0.1185 - val_MSE: 0.0300 - val_AUC: 0.9641 - val_ssim_loss: 0.5479 - val_psnr_loss: 84.3859 - lr: 1.0000e-05\n",
      "Epoch 22/30\n",
      "282/282 [==============================] - ETA: 0s - loss: 0.1268 - MSE: 0.0319 - AUC: 0.9568 - ssim_loss: 0.5668 - psnr_loss: 84.4775\n",
      "Epoch 22: ReduceLROnPlateau reducing learning rate to 9.999999747378752e-07.\n",
      "282/282 [==============================] - 165s 586ms/step - loss: 0.1268 - MSE: 0.0319 - AUC: 0.9568 - ssim_loss: 0.5668 - psnr_loss: 84.4775 - val_loss: 0.1186 - val_MSE: 0.0300 - val_AUC: 0.9641 - val_ssim_loss: 0.5523 - val_psnr_loss: 84.3880 - lr: 1.0000e-05\n",
      "Epoch 23/30\n",
      "282/282 [==============================] - 167s 593ms/step - loss: 0.1267 - MSE: 0.0319 - AUC: 0.9570 - ssim_loss: 0.5677 - psnr_loss: 84.4734 - val_loss: 0.1186 - val_MSE: 0.0300 - val_AUC: 0.9641 - val_ssim_loss: 0.5517 - val_psnr_loss: 84.3874 - lr: 1.0000e-06\n",
      "Epoch 24/30\n",
      "282/282 [==============================] - ETA: 0s - loss: 0.1267 - MSE: 0.0319 - AUC: 0.9569 - ssim_loss: 0.5648 - psnr_loss: 84.4699\n",
      "Epoch 24: ReduceLROnPlateau reducing learning rate to 9.999999974752428e-08.\n",
      "282/282 [==============================] - 166s 590ms/step - loss: 0.1267 - MSE: 0.0319 - AUC: 0.9569 - ssim_loss: 0.5648 - psnr_loss: 84.4699 - val_loss: 0.1186 - val_MSE: 0.0300 - val_AUC: 0.9641 - val_ssim_loss: 0.5553 - val_psnr_loss: 84.3890 - lr: 1.0000e-06\n",
      "Epoch 25/30\n",
      "282/282 [==============================] - 166s 589ms/step - loss: 0.1267 - MSE: 0.0319 - AUC: 0.9570 - ssim_loss: 0.5687 - psnr_loss: 84.4737 - val_loss: 0.1186 - val_MSE: 0.0300 - val_AUC: 0.9641 - val_ssim_loss: 0.5547 - val_psnr_loss: 84.3889 - lr: 1.0000e-07\n",
      "Epoch 26/30\n",
      "282/282 [==============================] - ETA: 0s - loss: 0.1267 - MSE: 0.0319 - AUC: 0.9570 - ssim_loss: 0.5683 - psnr_loss: 84.4736\n",
      "Epoch 26: ReduceLROnPlateau reducing learning rate to 1.0000000116860975e-08.\n",
      "282/282 [==============================] - 167s 592ms/step - loss: 0.1267 - MSE: 0.0319 - AUC: 0.9570 - ssim_loss: 0.5683 - psnr_loss: 84.4736 - val_loss: 0.1186 - val_MSE: 0.0300 - val_AUC: 0.9641 - val_ssim_loss: 0.5544 - val_psnr_loss: 84.3888 - lr: 1.0000e-07\n",
      "Epoch 27/30\n",
      "282/282 [==============================] - 166s 589ms/step - loss: 0.1267 - MSE: 0.0319 - AUC: 0.9570 - ssim_loss: 0.5681 - psnr_loss: 84.4734 - val_loss: 0.1186 - val_MSE: 0.0300 - val_AUC: 0.9641 - val_ssim_loss: 0.5543 - val_psnr_loss: 84.3888 - lr: 1.0000e-08\n"
     ]
    },
    {
     "name": "stdout",
     "output_type": "stream",
     "text": [
      "Epoch 28/30\n",
      "282/282 [==============================] - ETA: 0s - loss: 0.1267 - MSE: 0.0319 - AUC: 0.9570 - ssim_loss: 0.5681 - psnr_loss: 84.4734Restoring model weights from the end of the best epoch: 21.\n",
      "\n",
      "Epoch 28: ReduceLROnPlateau reducing learning rate to 9.999999939225292e-10.\n",
      "282/282 [==============================] - 166s 589ms/step - loss: 0.1267 - MSE: 0.0319 - AUC: 0.9570 - ssim_loss: 0.5681 - psnr_loss: 84.4734 - val_loss: 0.1186 - val_MSE: 0.0300 - val_AUC: 0.9641 - val_ssim_loss: 0.5543 - val_psnr_loss: 84.3888 - lr: 1.0000e-08\n",
      "Epoch 28: early stopping\n"
     ]
    },
    {
     "data": {
      "text/plain": [
       "<keras.callbacks.History at 0x1be5ab59880>"
      ]
     },
     "execution_count": 12,
     "metadata": {},
     "output_type": "execute_result"
    }
   ],
   "source": [
    "early_stopping = tf.keras.callbacks.EarlyStopping(monitor='val_loss', patience=7, restore_best_weights = True, verbose = 1)\n",
    "reduce_lr = tf.keras.callbacks.ReduceLROnPlateau(monitor='val_loss', patience=2, verbose = 1)\n",
    "\n",
    "fire_encoder.fit(train_gen,\n",
    "                   epochs = 30, \n",
    "                   verbose = 1, \n",
    "                   batch_size = batch_size,\n",
    "                   validation_data = val_gen,\n",
    "                   callbacks = [early_stopping, reduce_lr],\n",
    "                  )"
   ]
  },
  {
   "cell_type": "code",
   "execution_count": 13,
   "id": "239798fc",
   "metadata": {},
   "outputs": [
    {
     "name": "stderr",
     "output_type": "stream",
     "text": [
      "WARNING:absl:Found untraced functions such as _jit_compiled_convolution_op while saving (showing 1 of 1). These functions will not be directly callable after loading.\n"
     ]
    },
    {
     "name": "stdout",
     "output_type": "stream",
     "text": [
      "INFO:tensorflow:Assets written to: Models/MINST_Spread_01\\assets\n"
     ]
    },
    {
     "name": "stderr",
     "output_type": "stream",
     "text": [
      "INFO:tensorflow:Assets written to: Models/MINST_Spread_01\\assets\n"
     ]
    }
   ],
   "source": [
    "fire_encoder.save('Models/MINST_Spread_01')"
   ]
  },
  {
   "cell_type": "code",
   "execution_count": 14,
   "id": "edeb90ed",
   "metadata": {},
   "outputs": [],
   "source": [
    "# Shuffle each dataset in unison.\n",
    "# From: https://stackoverflow.com/questions/4601373/better-way-to-shuffle-two-numpy-arrays-in-unison\n",
    "randomize = np.arange(len(x_train))\n",
    "np.random.shuffle(randomize)\n",
    "x_train = x_train[randomize]\n",
    "y_train = y_train[randomize]\n",
    "\n",
    "randomize = np.arange(len(x_val))\n",
    "np.random.shuffle(randomize)\n",
    "x_val = x_val[randomize]\n",
    "y_val = y_val[randomize]"
   ]
  },
  {
   "cell_type": "code",
   "execution_count": 15,
   "id": "d53e9f00",
   "metadata": {},
   "outputs": [],
   "source": [
    "# Build a simple generator\n",
    "class DataGenerator(tf.keras.utils.Sequence):\n",
    "    def __init__(self, x_set, y_set, batch_size):\n",
    "        self.x, self.y = x_set, y_set\n",
    "        self.batch_size = batch_size\n",
    "\n",
    "    def __len__(self):\n",
    "        return int(np.ceil(len(self.x) / float(self.batch_size)))\n",
    "\n",
    "    def __getitem__(self, idx):\n",
    "        batch_x = self.x[idx * self.batch_size:(idx + 1) * self.batch_size]\n",
    "        batch_y = self.y[idx * self.batch_size:(idx + 1) * self.batch_size]\n",
    "        return batch_x, batch_y\n",
    "\n",
    "batch_size = 32\n",
    "train_gen = DataGenerator(x_train, y_train, batch_size)\n",
    "val_gen = DataGenerator(x_val, y_val, batch_size)"
   ]
  },
  {
   "cell_type": "code",
   "execution_count": 16,
   "id": "4a8bc955",
   "metadata": {},
   "outputs": [
    {
     "name": "stdout",
     "output_type": "stream",
     "text": [
      "Epoch 1/125\n",
      "282/282 [==============================] - 166s 588ms/step - loss: 0.1268 - MSE: 0.0319 - AUC: 0.9567 - ssim_loss: 0.5622 - psnr_loss: 84.4751 - val_loss: 0.1185 - val_MSE: 0.0300 - val_AUC: 0.9641 - val_ssim_loss: 0.5446 - val_psnr_loss: 84.3432 - lr: 1.0000e-09\n",
      "Epoch 2/125\n",
      "282/282 [==============================] - 167s 591ms/step - loss: 0.1268 - MSE: 0.0319 - AUC: 0.9567 - ssim_loss: 0.5622 - psnr_loss: 84.4751 - val_loss: 0.1185 - val_MSE: 0.0300 - val_AUC: 0.9641 - val_ssim_loss: 0.5446 - val_psnr_loss: 84.3432 - lr: 1.0000e-09\n",
      "Epoch 3/125\n",
      "282/282 [==============================] - 166s 590ms/step - loss: 0.1268 - MSE: 0.0319 - AUC: 0.9567 - ssim_loss: 0.5622 - psnr_loss: 84.4751 - val_loss: 0.1185 - val_MSE: 0.0300 - val_AUC: 0.9641 - val_ssim_loss: 0.5446 - val_psnr_loss: 84.3432 - lr: 1.0000e-09\n",
      "Epoch 4/125\n",
      "282/282 [==============================] - ETA: 0s - loss: 0.1268 - MSE: 0.0319 - AUC: 0.9567 - ssim_loss: 0.5623 - psnr_loss: 84.4751\n",
      "Epoch 4: ReduceLROnPlateau reducing learning rate to 9.999999717180686e-11.\n",
      "282/282 [==============================] - 165s 586ms/step - loss: 0.1268 - MSE: 0.0319 - AUC: 0.9567 - ssim_loss: 0.5623 - psnr_loss: 84.4751 - val_loss: 0.1185 - val_MSE: 0.0300 - val_AUC: 0.9641 - val_ssim_loss: 0.5446 - val_psnr_loss: 84.3432 - lr: 1.0000e-09\n",
      "Epoch 5/125\n",
      "282/282 [==============================] - 165s 586ms/step - loss: 0.1268 - MSE: 0.0319 - AUC: 0.9567 - ssim_loss: 0.5623 - psnr_loss: 84.4751 - val_loss: 0.1185 - val_MSE: 0.0300 - val_AUC: 0.9641 - val_ssim_loss: 0.5446 - val_psnr_loss: 84.3432 - lr: 1.0000e-10\n",
      "Epoch 6/125\n",
      "282/282 [==============================] - 166s 588ms/step - loss: 0.1268 - MSE: 0.0319 - AUC: 0.9567 - ssim_loss: 0.5623 - psnr_loss: 84.4751 - val_loss: 0.1185 - val_MSE: 0.0300 - val_AUC: 0.9641 - val_ssim_loss: 0.5446 - val_psnr_loss: 84.3432 - lr: 1.0000e-10\n",
      "Epoch 7/125\n",
      "282/282 [==============================] - ETA: 0s - loss: 0.1268 - MSE: 0.0319 - AUC: 0.9567 - ssim_loss: 0.5623 - psnr_loss: 84.4751\n",
      "Epoch 7: ReduceLROnPlateau reducing learning rate to 9.99999943962493e-12.\n",
      "282/282 [==============================] - 166s 590ms/step - loss: 0.1268 - MSE: 0.0319 - AUC: 0.9567 - ssim_loss: 0.5623 - psnr_loss: 84.4751 - val_loss: 0.1185 - val_MSE: 0.0300 - val_AUC: 0.9641 - val_ssim_loss: 0.5446 - val_psnr_loss: 84.3432 - lr: 1.0000e-10\n",
      "Epoch 8/125\n",
      "282/282 [==============================] - 166s 590ms/step - loss: 0.1268 - MSE: 0.0319 - AUC: 0.9567 - ssim_loss: 0.5623 - psnr_loss: 84.4751 - val_loss: 0.1185 - val_MSE: 0.0300 - val_AUC: 0.9641 - val_ssim_loss: 0.5447 - val_psnr_loss: 84.3432 - lr: 1.0000e-11\n",
      "Epoch 9/125\n",
      "282/282 [==============================] - 167s 591ms/step - loss: 0.1268 - MSE: 0.0319 - AUC: 0.9567 - ssim_loss: 0.5623 - psnr_loss: 84.4751 - val_loss: 0.1185 - val_MSE: 0.0300 - val_AUC: 0.9641 - val_ssim_loss: 0.5447 - val_psnr_loss: 84.3432 - lr: 1.0000e-11\n",
      "Epoch 10/125\n",
      "282/282 [==============================] - ETA: 0s - loss: 0.1268 - MSE: 0.0319 - AUC: 0.9567 - ssim_loss: 0.5623 - psnr_loss: 84.4751\n",
      "Epoch 10: ReduceLROnPlateau reducing learning rate to 9.999999092680235e-13.\n",
      "282/282 [==============================] - 165s 585ms/step - loss: 0.1268 - MSE: 0.0319 - AUC: 0.9567 - ssim_loss: 0.5623 - psnr_loss: 84.4751 - val_loss: 0.1185 - val_MSE: 0.0300 - val_AUC: 0.9641 - val_ssim_loss: 0.5446 - val_psnr_loss: 84.3432 - lr: 1.0000e-11\n",
      "Epoch 11/125\n",
      "282/282 [==============================] - 167s 592ms/step - loss: 0.1268 - MSE: 0.0319 - AUC: 0.9567 - ssim_loss: 0.5623 - psnr_loss: 84.4751 - val_loss: 0.1185 - val_MSE: 0.0300 - val_AUC: 0.9641 - val_ssim_loss: 0.5446 - val_psnr_loss: 84.3432 - lr: 1.0000e-12\n",
      "Epoch 12/125\n",
      "282/282 [==============================] - 166s 589ms/step - loss: 0.1268 - MSE: 0.0319 - AUC: 0.9567 - ssim_loss: 0.5623 - psnr_loss: 84.4751 - val_loss: 0.1185 - val_MSE: 0.0300 - val_AUC: 0.9641 - val_ssim_loss: 0.5446 - val_psnr_loss: 84.3432 - lr: 1.0000e-12\n",
      "Epoch 13/125\n",
      "282/282 [==============================] - ETA: 0s - loss: 0.1268 - MSE: 0.0319 - AUC: 0.9567 - ssim_loss: 0.5623 - psnr_loss: 84.4751\n",
      "Epoch 13: ReduceLROnPlateau reducing learning rate to 9.9999988758398e-14.\n",
      "282/282 [==============================] - 167s 592ms/step - loss: 0.1268 - MSE: 0.0319 - AUC: 0.9567 - ssim_loss: 0.5623 - psnr_loss: 84.4751 - val_loss: 0.1185 - val_MSE: 0.0300 - val_AUC: 0.9641 - val_ssim_loss: 0.5446 - val_psnr_loss: 84.3432 - lr: 1.0000e-12\n",
      "Epoch 14/125\n",
      "282/282 [==============================] - 166s 588ms/step - loss: 0.1268 - MSE: 0.0319 - AUC: 0.9567 - ssim_loss: 0.5623 - psnr_loss: 84.4751 - val_loss: 0.1185 - val_MSE: 0.0300 - val_AUC: 0.9641 - val_ssim_loss: 0.5446 - val_psnr_loss: 84.3432 - lr: 1.0000e-13\n",
      "Epoch 15/125\n",
      "282/282 [==============================] - 166s 590ms/step - loss: 0.1268 - MSE: 0.0319 - AUC: 0.9567 - ssim_loss: 0.5623 - psnr_loss: 84.4751 - val_loss: 0.1185 - val_MSE: 0.0300 - val_AUC: 0.9641 - val_ssim_loss: 0.5446 - val_psnr_loss: 84.3432 - lr: 1.0000e-13\n",
      "Epoch 16/125\n",
      "282/282 [==============================] - ETA: 0s - loss: 0.1268 - MSE: 0.0319 - AUC: 0.9567 - ssim_loss: 0.5623 - psnr_loss: 84.4751\n",
      "Epoch 16: ReduceLROnPlateau reducing learning rate to 9.999999146890344e-15.\n",
      "282/282 [==============================] - 165s 585ms/step - loss: 0.1268 - MSE: 0.0319 - AUC: 0.9567 - ssim_loss: 0.5623 - psnr_loss: 84.4751 - val_loss: 0.1185 - val_MSE: 0.0300 - val_AUC: 0.9641 - val_ssim_loss: 0.5446 - val_psnr_loss: 84.3432 - lr: 1.0000e-13\n",
      "Epoch 17/125\n",
      "282/282 [==============================] - 166s 588ms/step - loss: 0.1268 - MSE: 0.0319 - AUC: 0.9567 - ssim_loss: 0.5623 - psnr_loss: 84.4751 - val_loss: 0.1185 - val_MSE: 0.0300 - val_AUC: 0.9641 - val_ssim_loss: 0.5446 - val_psnr_loss: 84.3432 - lr: 1.0000e-14\n",
      "Epoch 18/125\n",
      "282/282 [==============================] - 167s 591ms/step - loss: 0.1268 - MSE: 0.0319 - AUC: 0.9567 - ssim_loss: 0.5623 - psnr_loss: 84.4751 - val_loss: 0.1185 - val_MSE: 0.0300 - val_AUC: 0.9641 - val_ssim_loss: 0.5446 - val_psnr_loss: 84.3432 - lr: 1.0000e-14\n",
      "Epoch 19/125\n",
      "282/282 [==============================] - ETA: 0s - loss: 0.1268 - MSE: 0.0319 - AUC: 0.9567 - ssim_loss: 0.5623 - psnr_loss: 84.4751\n",
      "Epoch 19: ReduceLROnPlateau reducing learning rate to 9.999998977483753e-16.\n",
      "282/282 [==============================] - 166s 589ms/step - loss: 0.1268 - MSE: 0.0319 - AUC: 0.9567 - ssim_loss: 0.5623 - psnr_loss: 84.4751 - val_loss: 0.1185 - val_MSE: 0.0300 - val_AUC: 0.9641 - val_ssim_loss: 0.5446 - val_psnr_loss: 84.3432 - lr: 1.0000e-14\n",
      "Epoch 20/125\n",
      "282/282 [==============================] - 166s 590ms/step - loss: 0.1268 - MSE: 0.0319 - AUC: 0.9567 - ssim_loss: 0.5623 - psnr_loss: 84.4751 - val_loss: 0.1185 - val_MSE: 0.0300 - val_AUC: 0.9641 - val_ssim_loss: 0.5446 - val_psnr_loss: 84.3432 - lr: 1.0000e-15\n",
      "Epoch 21/125\n",
      "282/282 [==============================] - 165s 585ms/step - loss: 0.1268 - MSE: 0.0319 - AUC: 0.9567 - ssim_loss: 0.5623 - psnr_loss: 84.4751 - val_loss: 0.1185 - val_MSE: 0.0300 - val_AUC: 0.9641 - val_ssim_loss: 0.5446 - val_psnr_loss: 84.3432 - lr: 1.0000e-15\n",
      "Epoch 22/125\n",
      "282/282 [==============================] - ETA: 0s - loss: 0.1268 - MSE: 0.0319 - AUC: 0.9567 - ssim_loss: 0.5623 - psnr_loss: 84.4751\n",
      "Epoch 22: ReduceLROnPlateau reducing learning rate to 9.999998977483754e-17.\n",
      "282/282 [==============================] - 165s 586ms/step - loss: 0.1268 - MSE: 0.0319 - AUC: 0.9567 - ssim_loss: 0.5623 - psnr_loss: 84.4751 - val_loss: 0.1185 - val_MSE: 0.0300 - val_AUC: 0.9641 - val_ssim_loss: 0.5446 - val_psnr_loss: 84.3432 - lr: 1.0000e-15\n",
      "Epoch 23/125\n",
      "282/282 [==============================] - 166s 587ms/step - loss: 0.1268 - MSE: 0.0319 - AUC: 0.9567 - ssim_loss: 0.5623 - psnr_loss: 84.4751 - val_loss: 0.1185 - val_MSE: 0.0300 - val_AUC: 0.9641 - val_ssim_loss: 0.5446 - val_psnr_loss: 84.3432 - lr: 1.0000e-16\n",
      "Epoch 24/125\n",
      "282/282 [==============================] - 165s 586ms/step - loss: 0.1268 - MSE: 0.0319 - AUC: 0.9567 - ssim_loss: 0.5623 - psnr_loss: 84.4751 - val_loss: 0.1185 - val_MSE: 0.0300 - val_AUC: 0.9641 - val_ssim_loss: 0.5446 - val_psnr_loss: 84.3432 - lr: 1.0000e-16\n",
      "Epoch 25/125\n",
      "282/282 [==============================] - ETA: 0s - loss: 0.1268 - MSE: 0.0319 - AUC: 0.9567 - ssim_loss: 0.5623 - psnr_loss: 84.4751\n",
      "Epoch 25: ReduceLROnPlateau reducing learning rate to 9.999998845134856e-18.\n",
      "282/282 [==============================] - 166s 589ms/step - loss: 0.1268 - MSE: 0.0319 - AUC: 0.9567 - ssim_loss: 0.5623 - psnr_loss: 84.4751 - val_loss: 0.1185 - val_MSE: 0.0300 - val_AUC: 0.9641 - val_ssim_loss: 0.5446 - val_psnr_loss: 84.3432 - lr: 1.0000e-16\n",
      "Epoch 26/125\n",
      "282/282 [==============================] - 166s 589ms/step - loss: 0.1268 - MSE: 0.0319 - AUC: 0.9567 - ssim_loss: 0.5623 - psnr_loss: 84.4751 - val_loss: 0.1185 - val_MSE: 0.0300 - val_AUC: 0.9641 - val_ssim_loss: 0.5446 - val_psnr_loss: 84.3432 - lr: 1.0000e-17\n",
      "Epoch 27/125\n",
      "282/282 [==============================] - 165s 587ms/step - loss: 0.1268 - MSE: 0.0319 - AUC: 0.9567 - ssim_loss: 0.5623 - psnr_loss: 84.4751 - val_loss: 0.1185 - val_MSE: 0.0300 - val_AUC: 0.9641 - val_ssim_loss: 0.5446 - val_psnr_loss: 84.3432 - lr: 1.0000e-17\n",
      "Epoch 28/125\n",
      "282/282 [==============================] - ETA: 0s - loss: 0.1268 - MSE: 0.0319 - AUC: 0.9567 - ssim_loss: 0.5623 - psnr_loss: 84.4751\n",
      "Epoch 28: ReduceLROnPlateau reducing learning rate to 9.999999010570977e-19.\n",
      "282/282 [==============================] - 166s 589ms/step - loss: 0.1268 - MSE: 0.0319 - AUC: 0.9567 - ssim_loss: 0.5623 - psnr_loss: 84.4751 - val_loss: 0.1185 - val_MSE: 0.0300 - val_AUC: 0.9641 - val_ssim_loss: 0.5446 - val_psnr_loss: 84.3432 - lr: 1.0000e-17\n",
      "Epoch 29/125\n",
      "282/282 [==============================] - 167s 592ms/step - loss: 0.1268 - MSE: 0.0319 - AUC: 0.9567 - ssim_loss: 0.5623 - psnr_loss: 84.4751 - val_loss: 0.1185 - val_MSE: 0.0300 - val_AUC: 0.9641 - val_ssim_loss: 0.5446 - val_psnr_loss: 84.3432 - lr: 1.0000e-18\n",
      "Epoch 30/125\n",
      "282/282 [==============================] - ETA: 0s - loss: 0.1268 - MSE: 0.0319 - AUC: 0.9567 - ssim_loss: 0.5623 - psnr_loss: 84.4751Restoring model weights from the end of the best epoch: 5.\n",
      "282/282 [==============================] - 165s 586ms/step - loss: 0.1268 - MSE: 0.0319 - AUC: 0.9567 - ssim_loss: 0.5623 - psnr_loss: 84.4751 - val_loss: 0.1185 - val_MSE: 0.0300 - val_AUC: 0.9641 - val_ssim_loss: 0.5446 - val_psnr_loss: 84.3432 - lr: 1.0000e-18\n",
      "Epoch 30: early stopping\n"
     ]
    },
    {
     "data": {
      "text/plain": [
       "<keras.callbacks.History at 0x1be980cda30>"
      ]
     },
     "execution_count": 16,
     "metadata": {},
     "output_type": "execute_result"
    }
   ],
   "source": [
    "early_stopping = tf.keras.callbacks.EarlyStopping(monitor='val_loss', patience=25, restore_best_weights = True, verbose = 1)\n",
    "reduce_lr = tf.keras.callbacks.ReduceLROnPlateau(monitor='val_loss', patience=3, verbose = 1)\n",
    "\n",
    "fire_encoder.fit(train_gen,\n",
    "                   epochs = 125, \n",
    "                   verbose = 1, \n",
    "                   batch_size = batch_size,\n",
    "                   validation_data = val_gen,\n",
    "                   callbacks = [early_stopping, reduce_lr],\n",
    "                  )"
   ]
  },
  {
   "cell_type": "code",
   "execution_count": 17,
   "id": "7fc5ec87",
   "metadata": {},
   "outputs": [
    {
     "name": "stderr",
     "output_type": "stream",
     "text": [
      "WARNING:absl:Found untraced functions such as _jit_compiled_convolution_op while saving (showing 1 of 1). These functions will not be directly callable after loading.\n"
     ]
    },
    {
     "name": "stdout",
     "output_type": "stream",
     "text": [
      "INFO:tensorflow:Assets written to: Models/MINST_Spread_02\\assets\n"
     ]
    },
    {
     "name": "stderr",
     "output_type": "stream",
     "text": [
      "INFO:tensorflow:Assets written to: Models/MINST_Spread_02\\assets\n"
     ]
    }
   ],
   "source": [
    "fire_encoder.save('Models/MINST_Spread_02')"
   ]
  },
  {
   "cell_type": "markdown",
   "id": "37e2e722",
   "metadata": {},
   "source": [
    "### Making Sparse MNIST"
   ]
  },
  {
   "cell_type": "code",
   "execution_count": 112,
   "id": "a2bc4bd6",
   "metadata": {},
   "outputs": [
    {
     "data": {
      "image/png": "[encoded data removed]",
      "text/plain": [
       "<Figure size 2304x576 with 11 Axes>"
      ]
     },
     "metadata": {
      "needs_background": "light"
     },
     "output_type": "display_data"
    }
   ],
   "source": [
    "# Visualizing how this operation will black out some frames\n",
    "sample_idx = np.random.randint(0, len(x_train))\n",
    "fig, axes = plt.subplots(1, 11, figsize=(32, 8))\n",
    "\n",
    "sparse_x = x_train[sample_idx]\n",
    "sparse_x = np.flip(sparse_x)\n",
    "sparse_x = sparse_x[:np.random.randint(1,11)]\n",
    "sparse_x = np.pad(sparse_x, pad_width=((0, 10 - sparse_x.shape[0]), (0, 0), (0, 0), (0, 0)), mode = 'constant')\n",
    "sparse_x = np.flip(sparse_x)\n",
    "\n",
    "# Plot the fire frames.\n",
    "for idx, ax in enumerate(axes):\n",
    "    if idx == 10:\n",
    "        ax.imshow(np.squeeze(y_train[sample_idx]), cmap=\"gray\")\n",
    "    else:\n",
    "        ax.imshow(np.squeeze(sparse_x[idx]), cmap=\"gray\")"
   ]
  },
  {
   "cell_type": "code",
   "execution_count": 179,
   "id": "4d66d357",
   "metadata": {},
   "outputs": [],
   "source": [
    "xt_pooled, xv_pooled = [], []\n",
    "r = -1\n",
    "\n",
    "# Shuffle before sparsing.\n",
    "randomize = np.arange(len(x_train))\n",
    "np.random.shuffle(randomize)\n",
    "x_train = x_train[randomize]\n",
    "y_train = y_train[randomize]\n",
    "\n",
    "randomize = np.arange(len(x_val))\n",
    "np.random.shuffle(randomize)\n",
    "x_val = x_val[randomize]\n",
    "y_val = y_val[randomize]\n",
    "\n",
    "# Sparse up training set.\n",
    "for t in range(0,len(x_train),100):\n",
    "    t_x_train = x_train[t:t+100]\n",
    "    t_x_train = np.flip(t_x_train)\n",
    "    r += 1\n",
    "    if r == 11:\n",
    "        r = 0\n",
    "    t_x_train = t_x_train[:,:r]\n",
    "    t_x_train = np.pad(t_x_train, pad_width=((0, 0), (0, 10 - t_x_train.shape[1]), (0, 0), (0, 0), (0, 0)), mode = 'constant')\n",
    "    t_x_train = np.flip(t_x_train)\n",
    "    xt_pooled.append(t_x_train)\n",
    "    \n",
    "# Sparse up validation set.\n",
    "for t in range(0,len(x_val),100):\n",
    "    t_x_val = x_val[t:t+100]\n",
    "    t_x_val = np.flip(t_x_val)\n",
    "    r += 1\n",
    "    if r == 11:\n",
    "        r = 0\n",
    "    t_x_val = t_x_val[:,:r]\n",
    "    t_x_val = np.pad(t_x_val, pad_width=((0, 0), (0, 10 - t_x_val.shape[1]), (0, 0), (0, 0), (0, 0)), mode = 'constant')\n",
    "    t_x_val = np.flip(t_x_val)\n",
    "    xv_pooled.append(t_x_val)\n",
    "    \n",
    "# Stack\n",
    "x_train = np.concatenate(xt_pooled)\n",
    "x_val = np.concatenate(xv_pooled)\n",
    "\n",
    "# Shuffle each dataset in unison.\n",
    "# From: https://stackoverflow.com/questions/4601373/better-way-to-shuffle-two-numpy-arrays-in-unison\n",
    "randomize = np.arange(len(x_train))\n",
    "np.random.shuffle(randomize)\n",
    "x_train = x_train[randomize]\n",
    "y_train = y_train[randomize]\n",
    "\n",
    "randomize = np.arange(len(x_val))\n",
    "np.random.shuffle(randomize)\n",
    "x_val = x_val[randomize]\n",
    "y_val = y_val[randomize]"
   ]
  },
  {
   "cell_type": "code",
   "execution_count": 180,
   "id": "9da52720",
   "metadata": {},
   "outputs": [
    {
     "data": {
      "image/png": "[encoded data removed]",
      "text/plain": [
       "<Figure size 2304x576 with 11 Axes>"
      ]
     },
     "metadata": {
      "needs_background": "light"
     },
     "output_type": "display_data"
    }
   ],
   "source": [
    "# Visualizing how this operation will black out some frames\n",
    "sample_idx = np.random.randint(0, len(x_val2))\n",
    "fig, axes = plt.subplots(1, 11, figsize=(32, 8))\n",
    "\n",
    "# Plot the fire frames.\n",
    "for idx, ax in enumerate(axes):\n",
    "    if idx == 10:\n",
    "        ax.imshow(np.squeeze(y_val[sample_idx]), cmap=\"gray\")\n",
    "    else:\n",
    "        ax.imshow(np.squeeze(x_val[sample_idx][idx]), cmap=\"gray\")"
   ]
  },
  {
   "cell_type": "code",
   "execution_count": 181,
   "id": "ce1ea329",
   "metadata": {},
   "outputs": [],
   "source": [
    "fire_encoder = tf.keras.models.load_model('Models/MINST_Agg_01', custom_objects = {'ssim_loss': ssim_loss, 'psnr_loss': psnr_loss})"
   ]
  },
  {
   "cell_type": "code",
   "execution_count": 182,
   "id": "6f557bd5",
   "metadata": {},
   "outputs": [],
   "source": [
    "# Build a simple generator\n",
    "class DataGenerator(tf.keras.utils.Sequence):\n",
    "    def __init__(self, x_set, y_set, batch_size):\n",
    "        self.x, self.y = x_set, y_set\n",
    "        self.batch_size = batch_size\n",
    "\n",
    "    def __len__(self):\n",
    "        return int(np.ceil(len(self.x) / float(self.batch_size)))\n",
    "\n",
    "    def __getitem__(self, idx):\n",
    "        batch_x = self.x[idx * self.batch_size:(idx + 1) * self.batch_size]\n",
    "        batch_y = self.y[idx * self.batch_size:(idx + 1) * self.batch_size]\n",
    "        return batch_x, batch_y\n",
    "\n",
    "batch_size = 32\n",
    "train_gen = DataGenerator(x_train, y_train, batch_size)\n",
    "val_gen = DataGenerator(x_val, y_val, batch_size)"
   ]
  },
  {
   "cell_type": "code",
   "execution_count": 185,
   "id": "c4117124",
   "metadata": {},
   "outputs": [
    {
     "name": "stdout",
     "output_type": "stream",
     "text": [
      "Old LR: 1e-05\n",
      "New LR: 1e-06\n"
     ]
    }
   ],
   "source": [
    "# Change learning rate.\n",
    "print('Old LR:',tf.keras.backend.eval(fire_encoder.optimizer.lr))\n",
    "tf.keras.backend.set_value(fire_encoder.optimizer.lr, 0.000001)\n",
    "print('New LR:',tf.keras.backend.eval(fire_encoder.optimizer.lr))"
   ]
  },
  {
   "cell_type": "code",
   "execution_count": 186,
   "id": "05553758",
   "metadata": {},
   "outputs": [
    {
     "name": "stdout",
     "output_type": "stream",
     "text": [
      "Epoch 1/15\n",
      "282/282 [==============================] - 171s 591ms/step - loss: 0.2701 - MSE: 0.0427 - AUC: 0.8624 - ssim_loss: 0.4397 - psnr_loss: 85.3716 - val_loss: 0.2898 - val_MSE: 0.0482 - val_AUC: 0.8434 - val_ssim_loss: 0.4810 - val_psnr_loss: 86.1120 - lr: 1.0000e-06\n",
      "Epoch 2/15\n",
      "282/282 [==============================] - 166s 589ms/step - loss: 0.2507 - MSE: 0.0425 - AUC: 0.8649 - ssim_loss: 0.4395 - psnr_loss: 85.3370 - val_loss: 0.2673 - val_MSE: 0.0478 - val_AUC: 0.8472 - val_ssim_loss: 0.4808 - val_psnr_loss: 86.0736 - lr: 1.0000e-06\n",
      "Epoch 3/15\n",
      "282/282 [==============================] - 167s 591ms/step - loss: 0.2305 - MSE: 0.0422 - AUC: 0.8677 - ssim_loss: 0.4400 - psnr_loss: 85.3066 - val_loss: 0.2461 - val_MSE: 0.0475 - val_AUC: 0.8516 - val_ssim_loss: 0.4814 - val_psnr_loss: 86.0348 - lr: 1.0000e-06\n",
      "Epoch 4/15\n",
      "282/282 [==============================] - 167s 591ms/step - loss: 0.2134 - MSE: 0.0419 - AUC: 0.8704 - ssim_loss: 0.4421 - psnr_loss: 85.2775 - val_loss: 0.2289 - val_MSE: 0.0471 - val_AUC: 0.8561 - val_ssim_loss: 0.4843 - val_psnr_loss: 85.9952 - lr: 1.0000e-06\n",
      "Epoch 5/15\n",
      "282/282 [==============================] - 167s 592ms/step - loss: 0.1997 - MSE: 0.0416 - AUC: 0.8731 - ssim_loss: 0.4486 - psnr_loss: 85.2484 - val_loss: 0.2156 - val_MSE: 0.0466 - val_AUC: 0.8608 - val_ssim_loss: 0.4935 - val_psnr_loss: 85.9546 - lr: 1.0000e-06\n",
      "Epoch 6/15\n",
      "282/282 [==============================] - 166s 588ms/step - loss: 0.1900 - MSE: 0.0413 - AUC: 0.8756 - ssim_loss: 0.4639 - psnr_loss: 85.2216 - val_loss: 0.2057 - val_MSE: 0.0462 - val_AUC: 0.8646 - val_ssim_loss: 0.5141 - val_psnr_loss: 85.9154 - lr: 1.0000e-06\n",
      "Epoch 7/15\n",
      "282/282 [==============================] - 166s 590ms/step - loss: 0.1825 - MSE: 0.0409 - AUC: 0.8799 - ssim_loss: 0.4939 - psnr_loss: 85.1972 - val_loss: 0.1977 - val_MSE: 0.0457 - val_AUC: 0.8737 - val_ssim_loss: 0.5507 - val_psnr_loss: 85.8768 - lr: 1.0000e-06\n",
      "Epoch 8/15\n",
      "282/282 [==============================] - 166s 589ms/step - loss: 0.1764 - MSE: 0.0406 - AUC: 0.8991 - ssim_loss: 0.5387 - psnr_loss: 85.1749 - val_loss: 0.1910 - val_MSE: 0.0452 - val_AUC: 0.8966 - val_ssim_loss: 0.6006 - val_psnr_loss: 85.8395 - lr: 1.0000e-06\n",
      "Epoch 9/15\n",
      "282/282 [==============================] - 166s 589ms/step - loss: 0.1715 - MSE: 0.0402 - AUC: 0.9071 - ssim_loss: 0.5906 - psnr_loss: 85.1545 - val_loss: 0.1857 - val_MSE: 0.0447 - val_AUC: 0.8958 - val_ssim_loss: 0.6523 - val_psnr_loss: 85.8039 - lr: 1.0000e-06\n",
      "Epoch 10/15\n",
      "282/282 [==============================] - 166s 589ms/step - loss: 0.1677 - MSE: 0.0399 - AUC: 0.9091 - ssim_loss: 0.6399 - psnr_loss: 85.1365 - val_loss: 0.1814 - val_MSE: 0.0442 - val_AUC: 0.9008 - val_ssim_loss: 0.6970 - val_psnr_loss: 85.7705 - lr: 1.0000e-06\n",
      "Epoch 11/15\n",
      "282/282 [==============================] - 166s 589ms/step - loss: 0.1647 - MSE: 0.0396 - AUC: 0.9115 - ssim_loss: 0.6810 - psnr_loss: 85.1218 - val_loss: 0.1781 - val_MSE: 0.0438 - val_AUC: 0.9006 - val_ssim_loss: 0.7312 - val_psnr_loss: 85.7393 - lr: 1.0000e-06\n",
      "Epoch 12/15\n",
      "282/282 [==============================] - 167s 593ms/step - loss: 0.1624 - MSE: 0.0392 - AUC: 0.9129 - ssim_loss: 0.7120 - psnr_loss: 85.1098 - val_loss: 0.1753 - val_MSE: 0.0434 - val_AUC: 0.9035 - val_ssim_loss: 0.7570 - val_psnr_loss: 85.7119 - lr: 1.0000e-06\n",
      "Epoch 13/15\n",
      "282/282 [==============================] - 166s 590ms/step - loss: 0.1604 - MSE: 0.0389 - AUC: 0.9149 - ssim_loss: 0.7344 - psnr_loss: 85.1004 - val_loss: 0.1729 - val_MSE: 0.0429 - val_AUC: 0.9050 - val_ssim_loss: 0.7759 - val_psnr_loss: 85.6880 - lr: 1.0000e-06\n",
      "Epoch 14/15\n",
      "282/282 [==============================] - 167s 591ms/step - loss: 0.1588 - MSE: 0.0387 - AUC: 0.9171 - ssim_loss: 0.7514 - psnr_loss: 85.0948 - val_loss: 0.1709 - val_MSE: 0.0426 - val_AUC: 0.9074 - val_ssim_loss: 0.7894 - val_psnr_loss: 85.6679 - lr: 1.0000e-06\n",
      "Epoch 15/15\n",
      "282/282 [==============================] - 166s 590ms/step - loss: 0.1575 - MSE: 0.0384 - AUC: 0.9190 - ssim_loss: 0.7638 - psnr_loss: 85.0921 - val_loss: 0.1693 - val_MSE: 0.0423 - val_AUC: 0.9097 - val_ssim_loss: 0.7985 - val_psnr_loss: 85.6511 - lr: 1.0000e-06\n"
     ]
    },
    {
     "data": {
      "text/plain": [
       "<keras.callbacks.History at 0x1bf0da89e20>"
      ]
     },
     "execution_count": 186,
     "metadata": {},
     "output_type": "execute_result"
    }
   ],
   "source": [
    "early_stopping = tf.keras.callbacks.EarlyStopping(monitor='val_loss', patience=5, restore_best_weights = True, verbose = 1)\n",
    "reduce_lr = tf.keras.callbacks.ReduceLROnPlateau(monitor='val_loss', patience=2, verbose = 1)\n",
    "\n",
    "fire_encoder.fit(train_gen,\n",
    "                   epochs = 15, \n",
    "                   verbose = 1, \n",
    "                   batch_size = batch_size,\n",
    "                   validation_data = val_gen,\n",
    "                   callbacks = [early_stopping, reduce_lr],\n",
    "                  )"
   ]
  },
  {
   "cell_type": "code",
   "execution_count": 187,
   "id": "e33017c3",
   "metadata": {},
   "outputs": [
    {
     "name": "stderr",
     "output_type": "stream",
     "text": [
      "WARNING:absl:Found untraced functions such as _jit_compiled_convolution_op while saving (showing 1 of 1). These functions will not be directly callable after loading.\n"
     ]
    },
    {
     "name": "stdout",
     "output_type": "stream",
     "text": [
      "INFO:tensorflow:Assets written to: Models/MINST_Sparse_01\\assets\n"
     ]
    },
    {
     "name": "stderr",
     "output_type": "stream",
     "text": [
      "INFO:tensorflow:Assets written to: Models/MINST_Sparse_01\\assets\n"
     ]
    }
   ],
   "source": [
    "fire_encoder.save('Models/MINST_Sparse_01')"
   ]
  },
  {
   "cell_type": "markdown",
   "id": "edcd9324",
   "metadata": {},
   "source": [
    "## Fine-Tune on VIIRS"
   ]
  },
  {
   "cell_type": "markdown",
   "id": "8e38d9fa",
   "metadata": {},
   "source": [
    "### 2020 Validation"
   ]
  },
  {
   "cell_type": "code",
   "execution_count": 11,
   "id": "862e4a2a",
   "metadata": {},
   "outputs": [],
   "source": [
    "combo_model = tf.keras.models.load_model('Models/MINST_Agg_01'\n",
    "                                         , custom_objects = {'ssim_loss': ssim_loss, 'psnr_loss': psnr_loss})"
   ]
  },
  {
   "cell_type": "code",
   "execution_count": 12,
   "id": "0de2745e",
   "metadata": {},
   "outputs": [],
   "source": [
    "# Recompile model with dice loss.\n",
    "opt = tf.keras.optimizers.Adam(learning_rate=0.00001)\n",
    "#loss_fn = tf.keras.losses.BinaryCrossentropy()\n",
    "#loss_fn = tf.keras.losses.MeanSquaredError()\n",
    "loss_fn = dice_coef_loss\n",
    "combo_model.compile(loss=loss_fn, \n",
    "                    optimizer=opt, \n",
    "                    metrics=[tf.keras.metrics.MeanSquaredError(name='MSE'),\n",
    "                             tf.keras.metrics.AUC(name='AUC'),\n",
    "                             ssim_loss,\n",
    "                             psnr_loss\n",
    "                            ])"
   ]
  },
  {
   "cell_type": "code",
   "execution_count": 13,
   "id": "76849320",
   "metadata": {},
   "outputs": [],
   "source": [
    "# Load metadata on yearly datasets.\n",
    "df_2017 = pd.read_csv('4fold_super/2017/meta.csv')\n",
    "df_2018 = pd.read_csv('4fold_super/2018/meta.csv')\n",
    "df_2019 = pd.read_csv('4fold_super/2019/meta.csv')\n",
    "df_2020 = pd.read_csv('4fold_super/2020/meta.csv')\n",
    "\n",
    "# Combine into desired train/val split.\n",
    "meta_t = pd.concat([df_2017, df_2018, df_2019]).reset_index()\n",
    "meta_v = df_2020"
   ]
  },
  {
   "cell_type": "code",
   "execution_count": 14,
   "id": "8e16d96b",
   "metadata": {},
   "outputs": [],
   "source": [
    "# Data loaders.\n",
    "batch_size = 32\n",
    "#t_gen = data_generator(meta_t, len(meta_t), batch_size = batch_size, calculated_sample_weights = calculated_sample_weights[:,0])\n",
    "t_gen = data_generator(meta_t, len(meta_t), batch_size = batch_size)\n",
    "v_gen = data_generator(meta_v, len(meta_v), batch_size = batch_size)"
   ]
  },
  {
   "cell_type": "code",
   "execution_count": 16,
   "id": "914cc40a",
   "metadata": {},
   "outputs": [
    {
     "name": "stdout",
     "output_type": "stream",
     "text": [
      "Epoch 1/10\n",
      "468/468 [==============================] - 255s 536ms/step - loss: 0.7146 - MSE: 0.0178 - AUC: 0.7623 - ssim_loss: 0.4340 - psnr_loss: 82.3060 - val_loss: 0.6742 - val_MSE: 0.0223 - val_AUC: 0.7744 - val_ssim_loss: 0.4509 - val_psnr_loss: 83.2868 - lr: 1.0000e-05\n",
      "Epoch 2/10\n",
      "468/468 [==============================] - 230s 491ms/step - loss: 0.6994 - MSE: 0.0174 - AUC: 0.7278 - ssim_loss: 0.3984 - psnr_loss: 82.2023 - val_loss: 0.6641 - val_MSE: 0.0225 - val_AUC: 0.7490 - val_ssim_loss: 0.4295 - val_psnr_loss: 83.3017 - lr: 1.0000e-05\n",
      "Epoch 3/10\n",
      "468/468 [==============================] - 231s 495ms/step - loss: 0.6922 - MSE: 0.0176 - AUC: 0.7059 - ssim_loss: 0.3908 - psnr_loss: 82.2393 - val_loss: 0.6551 - val_MSE: 0.0227 - val_AUC: 0.7348 - val_ssim_loss: 0.4314 - val_psnr_loss: 83.3733 - lr: 1.0000e-05\n",
      "Epoch 4/10\n",
      "468/468 [==============================] - 231s 494ms/step - loss: 0.6868 - MSE: 0.0180 - AUC: 0.6919 - ssim_loss: 0.3864 - psnr_loss: 82.3477 - val_loss: 0.6524 - val_MSE: 0.0230 - val_AUC: 0.7232 - val_ssim_loss: 0.4318 - val_psnr_loss: 83.4559 - lr: 1.0000e-05\n",
      "Epoch 5/10\n",
      "468/468 [==============================] - 231s 493ms/step - loss: 0.6846 - MSE: 0.0183 - AUC: 0.6831 - ssim_loss: 0.3825 - psnr_loss: 82.4245 - val_loss: 0.6450 - val_MSE: 0.0240 - val_AUC: 0.7201 - val_ssim_loss: 0.4304 - val_psnr_loss: 83.6552 - lr: 1.0000e-05\n",
      "Epoch 6/10\n",
      "468/468 [==============================] - 231s 493ms/step - loss: 0.6817 - MSE: 0.0185 - AUC: 0.6769 - ssim_loss: 0.3834 - psnr_loss: 82.4553 - val_loss: 0.6462 - val_MSE: 0.0232 - val_AUC: 0.7089 - val_ssim_loss: 0.4163 - val_psnr_loss: 83.4686 - lr: 1.0000e-05\n",
      "Epoch 7/10\n",
      "468/468 [==============================] - 230s 492ms/step - loss: 0.6817 - MSE: 0.0187 - AUC: 0.6701 - ssim_loss: 0.3836 - psnr_loss: 82.5192 - val_loss: 0.6437 - val_MSE: 0.0239 - val_AUC: 0.7065 - val_ssim_loss: 0.4283 - val_psnr_loss: 83.5951 - lr: 1.0000e-05\n",
      "Epoch 8/10\n",
      "468/468 [==============================] - 230s 492ms/step - loss: 0.6778 - MSE: 0.0187 - AUC: 0.6653 - ssim_loss: 0.3812 - psnr_loss: 82.5160 - val_loss: 0.6412 - val_MSE: 0.0241 - val_AUC: 0.7054 - val_ssim_loss: 0.4266 - val_psnr_loss: 83.6645 - lr: 1.0000e-05\n",
      "Epoch 9/10\n",
      "468/468 [==============================] - 230s 492ms/step - loss: 0.6774 - MSE: 0.0189 - AUC: 0.6623 - ssim_loss: 0.3812 - psnr_loss: 82.5437 - val_loss: 0.6426 - val_MSE: 0.0242 - val_AUC: 0.6980 - val_ssim_loss: 0.4212 - val_psnr_loss: 83.6360 - lr: 1.0000e-05\n",
      "Epoch 10/10\n",
      "468/468 [==============================] - 229s 490ms/step - loss: 0.6770 - MSE: 0.0188 - AUC: 0.6574 - ssim_loss: 0.3767 - psnr_loss: 82.5209 - val_loss: 0.6406 - val_MSE: 0.0238 - val_AUC: 0.6948 - val_ssim_loss: 0.4218 - val_psnr_loss: 83.5890 - lr: 1.0000e-05\n"
     ]
    },
    {
     "data": {
      "text/plain": [
       "<keras.callbacks.History at 0x154fc5c2ac0>"
      ]
     },
     "execution_count": 16,
     "metadata": {},
     "output_type": "execute_result"
    }
   ],
   "source": [
    "# Adding callbacks.\n",
    "early_stopping = tf.keras.callbacks.EarlyStopping(monitor='val_loss', patience=5, verbose=1, restore_best_weights=True)\n",
    "reduce_lr = tf.keras.callbacks.ReduceLROnPlateau(monitor='val_loss', patience=2, verbose=1)\n",
    "\n",
    "# Train model.\n",
    "combo_model.fit(t_gen, \n",
    "                   epochs = 10, \n",
    "                   verbose = 1, \n",
    "                   batch_size = batch_size,\n",
    "                   validation_data = v_gen,\n",
    "                   callbacks = [early_stopping, reduce_lr],\n",
    "                   steps_per_epoch = len(meta_t) // batch_size,\n",
    "                   validation_steps = len(meta_v) // batch_size\n",
    "                  )"
   ]
  },
  {
   "cell_type": "code",
   "execution_count": 17,
   "id": "408764b2",
   "metadata": {},
   "outputs": [
    {
     "name": "stderr",
     "output_type": "stream",
     "text": [
      "WARNING:absl:Found untraced functions such as _jit_compiled_convolution_op while saving (showing 1 of 1). These functions will not be directly callable after loading.\n"
     ]
    },
    {
     "name": "stdout",
     "output_type": "stream",
     "text": [
      "INFO:tensorflow:Assets written to: Models/MNIST_FT_2020\\assets\n"
     ]
    },
    {
     "name": "stderr",
     "output_type": "stream",
     "text": [
      "INFO:tensorflow:Assets written to: Models/MNIST_FT_2020\\assets\n"
     ]
    }
   ],
   "source": [
    "combo_model.save('Models/MNIST_FT_2020')"
   ]
  },
  {
   "cell_type": "markdown",
   "id": "75230334",
   "metadata": {},
   "source": [
    "### 2019 Validation"
   ]
  },
  {
   "cell_type": "code",
   "execution_count": 18,
   "id": "a7d5ce75",
   "metadata": {},
   "outputs": [],
   "source": [
    "combo_model = tf.keras.models.load_model('Models/MINST_Agg_01'\n",
    "                                         , custom_objects = {'ssim_loss': ssim_loss, 'psnr_loss': psnr_loss})"
   ]
  },
  {
   "cell_type": "code",
   "execution_count": 19,
   "id": "075627c5",
   "metadata": {},
   "outputs": [],
   "source": [
    "# Recompile model with dice loss.\n",
    "opt = tf.keras.optimizers.Adam(learning_rate=0.00001)\n",
    "#loss_fn = tf.keras.losses.BinaryCrossentropy()\n",
    "#loss_fn = tf.keras.losses.MeanSquaredError()\n",
    "loss_fn = dice_coef_loss\n",
    "combo_model.compile(loss=loss_fn, \n",
    "                    optimizer=opt, \n",
    "                    metrics=[tf.keras.metrics.MeanSquaredError(name='MSE'),\n",
    "                             tf.keras.metrics.AUC(name='AUC'),\n",
    "                             ssim_loss,\n",
    "                             psnr_loss\n",
    "                            ])"
   ]
  },
  {
   "cell_type": "code",
   "execution_count": 20,
   "id": "5172c970",
   "metadata": {},
   "outputs": [],
   "source": [
    "# Load metadata on yearly datasets.\n",
    "df_2017 = pd.read_csv('4fold_super/2017/meta.csv')\n",
    "df_2018 = pd.read_csv('4fold_super/2018/meta.csv')\n",
    "df_2019 = pd.read_csv('4fold_super/2019/meta.csv')\n",
    "df_2020 = pd.read_csv('4fold_super/2020/meta.csv')\n",
    "\n",
    "# Combine into desired train/val split.\n",
    "meta_t = pd.concat([df_2017, df_2018, df_2020]).reset_index()\n",
    "meta_v = df_2019"
   ]
  },
  {
   "cell_type": "code",
   "execution_count": 21,
   "id": "3f2be3a3",
   "metadata": {},
   "outputs": [],
   "source": [
    "# Data loaders.\n",
    "batch_size = 32\n",
    "#t_gen = data_generator(meta_t, len(meta_t), batch_size = batch_size, calculated_sample_weights = calculated_sample_weights[:,0])\n",
    "t_gen = data_generator(meta_t, len(meta_t), batch_size = batch_size)\n",
    "v_gen = data_generator(meta_v, len(meta_v), batch_size = batch_size)"
   ]
  },
  {
   "cell_type": "code",
   "execution_count": 22,
   "id": "74fca03d",
   "metadata": {},
   "outputs": [
    {
     "name": "stdout",
     "output_type": "stream",
     "text": [
      "Epoch 1/10\n",
      "468/468 [==============================] - 237s 497ms/step - loss: 0.7026 - MSE: 0.0192 - AUC: 0.7789 - ssim_loss: 0.4453 - psnr_loss: 82.6045 - val_loss: 0.7044 - val_MSE: 0.0201 - val_AUC: 0.7476 - val_ssim_loss: 0.4356 - val_psnr_loss: 82.8412 - lr: 1.0000e-05\n",
      "Epoch 2/10\n",
      "468/468 [==============================] - 229s 490ms/step - loss: 0.6821 - MSE: 0.0192 - AUC: 0.7482 - ssim_loss: 0.4121 - psnr_loss: 82.6096 - val_loss: 0.6924 - val_MSE: 0.0203 - val_AUC: 0.7210 - val_ssim_loss: 0.4197 - val_psnr_loss: 82.8779 - lr: 1.0000e-05\n",
      "Epoch 3/10\n",
      "468/468 [==============================] - 230s 493ms/step - loss: 0.6763 - MSE: 0.0194 - AUC: 0.7242 - ssim_loss: 0.4014 - psnr_loss: 82.6456 - val_loss: 0.6878 - val_MSE: 0.0211 - val_AUC: 0.7080 - val_ssim_loss: 0.4209 - val_psnr_loss: 83.0710 - lr: 1.0000e-05\n",
      "Epoch 4/10\n",
      "468/468 [==============================] - 229s 489ms/step - loss: 0.6713 - MSE: 0.0199 - AUC: 0.7125 - ssim_loss: 0.4009 - psnr_loss: 82.7731 - val_loss: 0.6834 - val_MSE: 0.0210 - val_AUC: 0.6967 - val_ssim_loss: 0.4150 - val_psnr_loss: 83.0598 - lr: 1.0000e-05\n",
      "Epoch 5/10\n",
      "468/468 [==============================] - 230s 492ms/step - loss: 0.6678 - MSE: 0.0201 - AUC: 0.7015 - ssim_loss: 0.3953 - psnr_loss: 82.8421 - val_loss: 0.6833 - val_MSE: 0.0214 - val_AUC: 0.6880 - val_ssim_loss: 0.4073 - val_psnr_loss: 83.0904 - lr: 1.0000e-05\n",
      "Epoch 6/10\n",
      "468/468 [==============================] - 230s 491ms/step - loss: 0.6657 - MSE: 0.0203 - AUC: 0.6942 - ssim_loss: 0.3937 - psnr_loss: 82.8375 - val_loss: 0.6793 - val_MSE: 0.0218 - val_AUC: 0.6852 - val_ssim_loss: 0.4125 - val_psnr_loss: 83.2305 - lr: 1.0000e-05\n",
      "Epoch 7/10\n",
      "468/468 [==============================] - 229s 489ms/step - loss: 0.6625 - MSE: 0.0205 - AUC: 0.6895 - ssim_loss: 0.3930 - psnr_loss: 82.9001 - val_loss: 0.6833 - val_MSE: 0.0219 - val_AUC: 0.6750 - val_ssim_loss: 0.4110 - val_psnr_loss: 83.2503 - lr: 1.0000e-05\n",
      "Epoch 8/10\n",
      "468/468 [==============================] - 230s 492ms/step - loss: 0.6602 - MSE: 0.0206 - AUC: 0.6838 - ssim_loss: 0.3892 - psnr_loss: 82.8772 - val_loss: 0.6751 - val_MSE: 0.0220 - val_AUC: 0.6761 - val_ssim_loss: 0.4062 - val_psnr_loss: 83.2391 - lr: 1.0000e-05\n",
      "Epoch 9/10\n",
      "468/468 [==============================] - 246s 525ms/step - loss: 0.6619 - MSE: 0.0207 - AUC: 0.6799 - ssim_loss: 0.3911 - psnr_loss: 82.9572 - val_loss: 0.6788 - val_MSE: 0.0219 - val_AUC: 0.6693 - val_ssim_loss: 0.4148 - val_psnr_loss: 83.2278 - lr: 1.0000e-05\n",
      "Epoch 10/10\n",
      "468/468 [==============================] - ETA: 0s - loss: 0.6576 - MSE: 0.0206 - AUC: 0.6756 - ssim_loss: 0.3891 - psnr_loss: 82.9041\n",
      "Epoch 10: ReduceLROnPlateau reducing learning rate to 9.999999747378752e-07.\n",
      "468/468 [==============================] - 229s 490ms/step - loss: 0.6576 - MSE: 0.0206 - AUC: 0.6756 - ssim_loss: 0.3891 - psnr_loss: 82.9041 - val_loss: 0.6768 - val_MSE: 0.0219 - val_AUC: 0.6681 - val_ssim_loss: 0.4061 - val_psnr_loss: 83.2469 - lr: 1.0000e-05\n"
     ]
    },
    {
     "data": {
      "text/plain": [
       "<keras.callbacks.History at 0x1554608f520>"
      ]
     },
     "execution_count": 22,
     "metadata": {},
     "output_type": "execute_result"
    }
   ],
   "source": [
    "# Adding callbacks.\n",
    "early_stopping = tf.keras.callbacks.EarlyStopping(monitor='val_loss', patience=5, verbose=1, restore_best_weights=True)\n",
    "reduce_lr = tf.keras.callbacks.ReduceLROnPlateau(monitor='val_loss', patience=2, verbose=1)\n",
    "\n",
    "# Train model.\n",
    "combo_model.fit(t_gen, \n",
    "                   epochs = 10, \n",
    "                   verbose = 1, \n",
    "                   batch_size = batch_size,\n",
    "                   validation_data = v_gen,\n",
    "                   callbacks = [early_stopping, reduce_lr],\n",
    "                   steps_per_epoch = len(meta_t) // batch_size,\n",
    "                   validation_steps = len(meta_v) // batch_size\n",
    "                  )"
   ]
  },
  {
   "cell_type": "code",
   "execution_count": 23,
   "id": "da93c83c",
   "metadata": {},
   "outputs": [
    {
     "name": "stderr",
     "output_type": "stream",
     "text": [
      "WARNING:absl:Found untraced functions such as _jit_compiled_convolution_op while saving (showing 1 of 1). These functions will not be directly callable after loading.\n"
     ]
    },
    {
     "name": "stdout",
     "output_type": "stream",
     "text": [
      "INFO:tensorflow:Assets written to: Models/MNIST_FT_2019\\assets\n"
     ]
    },
    {
     "name": "stderr",
     "output_type": "stream",
     "text": [
      "INFO:tensorflow:Assets written to: Models/MNIST_FT_2019\\assets\n"
     ]
    }
   ],
   "source": [
    "combo_model.save('Models/MNIST_FT_2019')"
   ]
  },
  {
   "cell_type": "markdown",
   "id": "7d0ebc74",
   "metadata": {},
   "source": [
    "### 2018 Validation"
   ]
  },
  {
   "cell_type": "code",
   "execution_count": 24,
   "id": "e0ea905e",
   "metadata": {},
   "outputs": [],
   "source": [
    "combo_model = tf.keras.models.load_model('Models/MINST_Agg_01'\n",
    "                                         , custom_objects = {'ssim_loss': ssim_loss, 'psnr_loss': psnr_loss})"
   ]
  },
  {
   "cell_type": "code",
   "execution_count": 25,
   "id": "ea01f5ea",
   "metadata": {},
   "outputs": [],
   "source": [
    "# Recompile model with dice loss.\n",
    "opt = tf.keras.optimizers.Adam(learning_rate=0.00001)\n",
    "#loss_fn = tf.keras.losses.BinaryCrossentropy()\n",
    "#loss_fn = tf.keras.losses.MeanSquaredError()\n",
    "loss_fn = dice_coef_loss\n",
    "combo_model.compile(loss=loss_fn, \n",
    "                    optimizer=opt, \n",
    "                    metrics=[tf.keras.metrics.MeanSquaredError(name='MSE'),\n",
    "                             tf.keras.metrics.AUC(name='AUC'),\n",
    "                             ssim_loss,\n",
    "                             psnr_loss\n",
    "                            ])"
   ]
  },
  {
   "cell_type": "code",
   "execution_count": 26,
   "id": "4372716b",
   "metadata": {},
   "outputs": [],
   "source": [
    "# Load metadata on yearly datasets.\n",
    "df_2017 = pd.read_csv('4fold_super/2017/meta.csv')\n",
    "df_2018 = pd.read_csv('4fold_super/2018/meta.csv')\n",
    "df_2019 = pd.read_csv('4fold_super/2019/meta.csv')\n",
    "df_2020 = pd.read_csv('4fold_super/2020/meta.csv')\n",
    "\n",
    "# Combine into desired train/val split.\n",
    "meta_t = pd.concat([df_2017, df_2019, df_2020]).reset_index()\n",
    "meta_v = df_2018"
   ]
  },
  {
   "cell_type": "code",
   "execution_count": 27,
   "id": "1f3f4a9e",
   "metadata": {},
   "outputs": [],
   "source": [
    "# Data loaders.\n",
    "batch_size = 32\n",
    "#t_gen = data_generator(meta_t, len(meta_t), batch_size = batch_size, calculated_sample_weights = calculated_sample_weights[:,0])\n",
    "t_gen = data_generator(meta_t, len(meta_t), batch_size = batch_size)\n",
    "v_gen = data_generator(meta_v, len(meta_v), batch_size = batch_size)"
   ]
  },
  {
   "cell_type": "code",
   "execution_count": 28,
   "id": "e5b64988",
   "metadata": {},
   "outputs": [
    {
     "name": "stdout",
     "output_type": "stream",
     "text": [
      "Epoch 1/10\n",
      "468/468 [==============================] - 235s 493ms/step - loss: 0.7214 - MSE: 0.0234 - AUC: 0.7712 - ssim_loss: 0.4942 - psnr_loss: 83.5240 - val_loss: 0.6102 - val_MSE: 0.0101 - val_AUC: 0.8100 - val_ssim_loss: 0.2835 - val_psnr_loss: 79.8072 - lr: 1.0000e-05\n",
      "Epoch 2/10\n",
      "468/468 [==============================] - 230s 491ms/step - loss: 0.7049 - MSE: 0.0238 - AUC: 0.7442 - ssim_loss: 0.4700 - psnr_loss: 83.5874 - val_loss: 0.5903 - val_MSE: 0.0103 - val_AUC: 0.7886 - val_ssim_loss: 0.2680 - val_psnr_loss: 79.8926 - lr: 1.0000e-05\n",
      "Epoch 3/10\n",
      "468/468 [==============================] - 231s 494ms/step - loss: 0.6984 - MSE: 0.0245 - AUC: 0.7240 - ssim_loss: 0.4604 - psnr_loss: 83.7092 - val_loss: 0.5737 - val_MSE: 0.0103 - val_AUC: 0.7716 - val_ssim_loss: 0.2635 - val_psnr_loss: 79.9118 - lr: 1.0000e-05\n",
      "Epoch 4/10\n",
      "468/468 [==============================] - 231s 493ms/step - loss: 0.6941 - MSE: 0.0250 - AUC: 0.7109 - ssim_loss: 0.4521 - psnr_loss: 83.8035 - val_loss: 0.5729 - val_MSE: 0.0106 - val_AUC: 0.7604 - val_ssim_loss: 0.2604 - val_psnr_loss: 80.0654 - lr: 1.0000e-05\n",
      "Epoch 5/10\n",
      "468/468 [==============================] - 232s 496ms/step - loss: 0.6902 - MSE: 0.0254 - AUC: 0.7011 - ssim_loss: 0.4522 - psnr_loss: 83.8576 - val_loss: 0.5652 - val_MSE: 0.0106 - val_AUC: 0.7524 - val_ssim_loss: 0.2609 - val_psnr_loss: 80.0689 - lr: 1.0000e-05\n",
      "Epoch 6/10\n",
      "468/468 [==============================] - 231s 493ms/step - loss: 0.6893 - MSE: 0.0257 - AUC: 0.6941 - ssim_loss: 0.4531 - psnr_loss: 83.9256 - val_loss: 0.5606 - val_MSE: 0.0106 - val_AUC: 0.7445 - val_ssim_loss: 0.2506 - val_psnr_loss: 80.0401 - lr: 1.0000e-05\n",
      "Epoch 7/10\n",
      "468/468 [==============================] - 231s 493ms/step - loss: 0.6878 - MSE: 0.0257 - AUC: 0.6864 - ssim_loss: 0.4487 - psnr_loss: 83.8981 - val_loss: 0.5610 - val_MSE: 0.0108 - val_AUC: 0.7395 - val_ssim_loss: 0.2549 - val_psnr_loss: 80.0737 - lr: 1.0000e-05\n",
      "Epoch 8/10\n",
      "468/468 [==============================] - 230s 492ms/step - loss: 0.6855 - MSE: 0.0261 - AUC: 0.6839 - ssim_loss: 0.4457 - psnr_loss: 83.9631 - val_loss: 0.5578 - val_MSE: 0.0108 - val_AUC: 0.7387 - val_ssim_loss: 0.2524 - val_psnr_loss: 80.1279 - lr: 1.0000e-05\n",
      "Epoch 9/10\n",
      "468/468 [==============================] - 230s 492ms/step - loss: 0.6838 - MSE: 0.0262 - AUC: 0.6800 - ssim_loss: 0.4457 - psnr_loss: 83.9955 - val_loss: 0.5575 - val_MSE: 0.0108 - val_AUC: 0.7289 - val_ssim_loss: 0.2513 - val_psnr_loss: 80.1257 - lr: 1.0000e-05\n",
      "Epoch 10/10\n",
      "468/468 [==============================] - 231s 495ms/step - loss: 0.6836 - MSE: 0.0264 - AUC: 0.6779 - ssim_loss: 0.4441 - psnr_loss: 84.0219 - val_loss: 0.5540 - val_MSE: 0.0107 - val_AUC: 0.7248 - val_ssim_loss: 0.2498 - val_psnr_loss: 80.1081 - lr: 1.0000e-05\n"
     ]
    },
    {
     "data": {
      "text/plain": [
       "<keras.callbacks.History at 0x155635b0af0>"
      ]
     },
     "execution_count": 28,
     "metadata": {},
     "output_type": "execute_result"
    }
   ],
   "source": [
    "# Adding callbacks.\n",
    "early_stopping = tf.keras.callbacks.EarlyStopping(monitor='val_loss', patience=5, verbose=1, restore_best_weights=True)\n",
    "reduce_lr = tf.keras.callbacks.ReduceLROnPlateau(monitor='val_loss', patience=2, verbose=1)\n",
    "\n",
    "# Train model.\n",
    "combo_model.fit(t_gen, \n",
    "                   epochs = 10, \n",
    "                   verbose = 1, \n",
    "                   batch_size = batch_size,\n",
    "                   validation_data = v_gen,\n",
    "                   callbacks = [early_stopping, reduce_lr],\n",
    "                   steps_per_epoch = len(meta_t) // batch_size,\n",
    "                   validation_steps = len(meta_v) // batch_size\n",
    "                  )"
   ]
  },
  {
   "cell_type": "code",
   "execution_count": 29,
   "id": "709d8416",
   "metadata": {},
   "outputs": [
    {
     "name": "stderr",
     "output_type": "stream",
     "text": [
      "WARNING:absl:Found untraced functions such as _jit_compiled_convolution_op while saving (showing 1 of 1). These functions will not be directly callable after loading.\n"
     ]
    },
    {
     "name": "stdout",
     "output_type": "stream",
     "text": [
      "INFO:tensorflow:Assets written to: Models/MNIST_FT_2018\\assets\n"
     ]
    },
    {
     "name": "stderr",
     "output_type": "stream",
     "text": [
      "INFO:tensorflow:Assets written to: Models/MNIST_FT_2018\\assets\n"
     ]
    }
   ],
   "source": [
    "combo_model.save('Models/MNIST_FT_2018')"
   ]
  },
  {
   "cell_type": "markdown",
   "id": "f71e4488",
   "metadata": {},
   "source": [
    "### 2017 Validation"
   ]
  },
  {
   "cell_type": "code",
   "execution_count": 30,
   "id": "b7bba5c9",
   "metadata": {},
   "outputs": [],
   "source": [
    "combo_model = tf.keras.models.load_model('Models/MINST_Agg_01'\n",
    "                                         , custom_objects = {'ssim_loss': ssim_loss, 'psnr_loss': psnr_loss})"
   ]
  },
  {
   "cell_type": "code",
   "execution_count": 31,
   "id": "84ea1582",
   "metadata": {},
   "outputs": [],
   "source": [
    "# Recompile model with dice loss.\n",
    "opt = tf.keras.optimizers.Adam(learning_rate=0.00001)\n",
    "#loss_fn = tf.keras.losses.BinaryCrossentropy()\n",
    "#loss_fn = tf.keras.losses.MeanSquaredError()\n",
    "loss_fn = dice_coef_loss\n",
    "combo_model.compile(loss=loss_fn, \n",
    "                    optimizer=opt, \n",
    "                    metrics=[tf.keras.metrics.MeanSquaredError(name='MSE'),\n",
    "                             tf.keras.metrics.AUC(name='AUC'),\n",
    "                             ssim_loss,\n",
    "                             psnr_loss\n",
    "                            ])"
   ]
  },
  {
   "cell_type": "code",
   "execution_count": 32,
   "id": "032c591a",
   "metadata": {},
   "outputs": [],
   "source": [
    "# Load metadata on yearly datasets.\n",
    "df_2017 = pd.read_csv('4fold_super/2017/meta.csv')\n",
    "df_2018 = pd.read_csv('4fold_super/2018/meta.csv')\n",
    "df_2019 = pd.read_csv('4fold_super/2019/meta.csv')\n",
    "df_2020 = pd.read_csv('4fold_super/2020/meta.csv')\n",
    "\n",
    "# Combine into desired train/val split.\n",
    "meta_t = pd.concat([df_2018, df_2019, df_2020]).reset_index()\n",
    "meta_v = df_2017"
   ]
  },
  {
   "cell_type": "code",
   "execution_count": 33,
   "id": "a9c47c0a",
   "metadata": {},
   "outputs": [],
   "source": [
    "# Data loaders.\n",
    "batch_size = 32\n",
    "#t_gen = data_generator(meta_t, len(meta_t), batch_size = batch_size, calculated_sample_weights = calculated_sample_weights[:,0])\n",
    "t_gen = data_generator(meta_t, len(meta_t), batch_size = batch_size)\n",
    "v_gen = data_generator(meta_v, len(meta_v), batch_size = batch_size)"
   ]
  },
  {
   "cell_type": "code",
   "execution_count": 34,
   "id": "0ae8e479",
   "metadata": {},
   "outputs": [
    {
     "name": "stdout",
     "output_type": "stream",
     "text": [
      "Epoch 1/10\n",
      "468/468 [==============================] - 235s 493ms/step - loss: 0.6805 - MSE: 0.0179 - AUC: 0.7901 - ssim_loss: 0.4194 - psnr_loss: 82.3330 - val_loss: 0.7581 - val_MSE: 0.0239 - val_AUC: 0.7125 - val_ssim_loss: 0.5013 - val_psnr_loss: 83.6081 - lr: 1.0000e-05\n",
      "Epoch 2/10\n",
      "468/468 [==============================] - 231s 494ms/step - loss: 0.6567 - MSE: 0.0175 - AUC: 0.7559 - ssim_loss: 0.3809 - psnr_loss: 82.2158 - val_loss: 0.7565 - val_MSE: 0.0251 - val_AUC: 0.6828 - val_ssim_loss: 0.4856 - val_psnr_loss: 83.8008 - lr: 1.0000e-05\n",
      "Epoch 3/10\n",
      "468/468 [==============================] - 231s 495ms/step - loss: 0.6461 - MSE: 0.0179 - AUC: 0.7361 - ssim_loss: 0.3726 - psnr_loss: 82.3525 - val_loss: 0.7572 - val_MSE: 0.0258 - val_AUC: 0.6608 - val_ssim_loss: 0.4891 - val_psnr_loss: 83.9742 - lr: 1.0000e-05\n",
      "Epoch 4/10\n",
      "468/468 [==============================] - 232s 495ms/step - loss: 0.6378 - MSE: 0.0181 - AUC: 0.7197 - ssim_loss: 0.3682 - psnr_loss: 82.3697 - val_loss: 0.7556 - val_MSE: 0.0262 - val_AUC: 0.6450 - val_ssim_loss: 0.4719 - val_psnr_loss: 83.9959 - lr: 1.0000e-05\n",
      "Epoch 5/10\n",
      "468/468 [==============================] - 231s 494ms/step - loss: 0.6357 - MSE: 0.0183 - AUC: 0.7085 - ssim_loss: 0.3634 - psnr_loss: 82.3898 - val_loss: 0.7549 - val_MSE: 0.0268 - val_AUC: 0.6355 - val_ssim_loss: 0.4775 - val_psnr_loss: 84.0811 - lr: 1.0000e-05\n",
      "Epoch 6/10\n",
      "468/468 [==============================] - 231s 493ms/step - loss: 0.6315 - MSE: 0.0184 - AUC: 0.7007 - ssim_loss: 0.3639 - psnr_loss: 82.4314 - val_loss: 0.7559 - val_MSE: 0.0277 - val_AUC: 0.6330 - val_ssim_loss: 0.4831 - val_psnr_loss: 84.2228 - lr: 1.0000e-05\n",
      "Epoch 7/10\n",
      "468/468 [==============================] - ETA: 0s - loss: 0.6308 - MSE: 0.0186 - AUC: 0.6966 - ssim_loss: 0.3655 - psnr_loss: 82.5084\n",
      "Epoch 7: ReduceLROnPlateau reducing learning rate to 9.999999747378752e-07.\n",
      "468/468 [==============================] - 232s 495ms/step - loss: 0.6308 - MSE: 0.0186 - AUC: 0.6966 - ssim_loss: 0.3655 - psnr_loss: 82.5084 - val_loss: 0.7582 - val_MSE: 0.0281 - val_AUC: 0.6254 - val_ssim_loss: 0.4708 - val_psnr_loss: 84.2629 - lr: 1.0000e-05\n",
      "Epoch 8/10\n",
      "468/468 [==============================] - 231s 494ms/step - loss: 0.6292 - MSE: 0.0188 - AUC: 0.6954 - ssim_loss: 0.3619 - psnr_loss: 82.5322 - val_loss: 0.7544 - val_MSE: 0.0276 - val_AUC: 0.6257 - val_ssim_loss: 0.4801 - val_psnr_loss: 84.2044 - lr: 1.0000e-06\n",
      "Epoch 9/10\n",
      "468/468 [==============================] - 232s 496ms/step - loss: 0.6291 - MSE: 0.0188 - AUC: 0.6939 - ssim_loss: 0.3631 - psnr_loss: 82.5201 - val_loss: 0.7546 - val_MSE: 0.0278 - val_AUC: 0.6251 - val_ssim_loss: 0.4766 - val_psnr_loss: 84.2373 - lr: 1.0000e-06\n",
      "Epoch 10/10\n",
      "468/468 [==============================] - ETA: 0s - loss: 0.6278 - MSE: 0.0187 - AUC: 0.6934 - ssim_loss: 0.3600 - psnr_loss: 82.4930\n",
      "Epoch 10: ReduceLROnPlateau reducing learning rate to 9.999999974752428e-08.\n",
      "468/468 [==============================] - 232s 496ms/step - loss: 0.6278 - MSE: 0.0187 - AUC: 0.6934 - ssim_loss: 0.3600 - psnr_loss: 82.4930 - val_loss: 0.7584 - val_MSE: 0.0281 - val_AUC: 0.6232 - val_ssim_loss: 0.4824 - val_psnr_loss: 84.2812 - lr: 1.0000e-06\n"
     ]
    },
    {
     "data": {
      "text/plain": [
       "<keras.callbacks.History at 0x1559d1ef0a0>"
      ]
     },
     "execution_count": 34,
     "metadata": {},
     "output_type": "execute_result"
    }
   ],
   "source": [
    "# Adding callbacks.\n",
    "early_stopping = tf.keras.callbacks.EarlyStopping(monitor='val_loss', patience=5, verbose=1, restore_best_weights=True)\n",
    "reduce_lr = tf.keras.callbacks.ReduceLROnPlateau(monitor='val_loss', patience=2, verbose=1)\n",
    "\n",
    "# Train model.\n",
    "combo_model.fit(t_gen, \n",
    "                   epochs = 10, \n",
    "                   verbose = 1, \n",
    "                   batch_size = batch_size,\n",
    "                   validation_data = v_gen,\n",
    "                   callbacks = [early_stopping, reduce_lr],\n",
    "                   steps_per_epoch = len(meta_t) // batch_size,\n",
    "                   validation_steps = len(meta_v) // batch_size\n",
    "                  )"
   ]
  },
  {
   "cell_type": "code",
   "execution_count": 35,
   "id": "7be8f017",
   "metadata": {},
   "outputs": [
    {
     "name": "stderr",
     "output_type": "stream",
     "text": [
      "WARNING:absl:Found untraced functions such as _jit_compiled_convolution_op while saving (showing 1 of 1). These functions will not be directly callable after loading.\n"
     ]
    },
    {
     "name": "stdout",
     "output_type": "stream",
     "text": [
      "INFO:tensorflow:Assets written to: Models/MNIST_FT_2017\\assets\n"
     ]
    },
    {
     "name": "stderr",
     "output_type": "stream",
     "text": [
      "INFO:tensorflow:Assets written to: Models/MNIST_FT_2017\\assets\n"
     ]
    }
   ],
   "source": [
    "combo_model.save('Models/MNIST_FT_2017')"
   ]
  },
  {
   "cell_type": "markdown",
   "id": "892233d3",
   "metadata": {},
   "source": [
    "### Testing Fire Encoder on VIIRS Fire Data"
   ]
  },
  {
   "cell_type": "code",
   "execution_count": 118,
   "id": "57059112",
   "metadata": {},
   "outputs": [],
   "source": [
    "# Load metadata on yearly datasets.\n",
    "df_2017 = pd.read_csv('4fold_super/2017/meta.csv')\n",
    "df_2018 = pd.read_csv('4fold_super/2018/meta.csv')\n",
    "df_2019 = pd.read_csv('4fold_super/2019/meta.csv')\n",
    "df_2020 = pd.read_csv('4fold_super/2020/meta.csv')\n",
    "df_2021 = pd.read_csv('4fold_super/2021/meta.csv')\n",
    "\n",
    "# Combine into desired train/val split.\n",
    "#meta_t = pd.concat([df_2018,df_2019,df_2020]).reset_index()\n",
    "#meta_v = df_2017\n",
    "meta_v = df_2021"
   ]
  },
  {
   "cell_type": "code",
   "execution_count": 119,
   "id": "627d14ff",
   "metadata": {},
   "outputs": [],
   "source": [
    "x_train, y_train, x_val, y_val = [],[],[],[]\n",
    "for x in range(0,len(meta_v)):\n",
    "    x_val.append(np.load(meta_v.iloc[x].features_2d)[:,:,:,:1])\n",
    "    y_val.append(np.load(meta_v.iloc[x].labels))\n",
    "     \n",
    "x_val = np.stack(x_val)\n",
    "y_val = np.stack(y_val)\n",
    "\n",
    "x_val = np.minimum(x_val,1)\n",
    "y_val = np.minimum(y_val,1)\n",
    "y_val = np.moveaxis(y_val, 1, -1)"
   ]
  },
  {
   "cell_type": "code",
   "execution_count": 168,
   "id": "82714d92",
   "metadata": {},
   "outputs": [],
   "source": [
    "#Reload model from Phase 1.\n",
    "#fire_encoder = tf.keras.models.load_model('Models/MINST_Agg_01', custom_objects = {'ssim_loss': ssim_loss, 'psnr_loss': psnr_loss})\n",
    "#fire_encoder = tf.keras.models.load_model('Models/MINST_Spread_01', custom_objects = {'ssim_loss': ssim_loss, 'psnr_loss': psnr_loss})\n",
    "#fire_encoder = tf.keras.models.load_model('Models/MINST_Spread_02', custom_objects = {'ssim_loss': ssim_loss, 'psnr_loss': psnr_loss})\n",
    "combo_model = tf.keras.models.load_model('Models/MNIST_FT_2019', custom_objects = {'ssim_loss': ssim_loss, 'psnr_loss': psnr_loss, 'dice_coef_loss': dice_coef_loss})"
   ]
  },
  {
   "cell_type": "code",
   "execution_count": 177,
   "id": "46e0ab05",
   "metadata": {},
   "outputs": [
    {
     "name": "stdout",
     "output_type": "stream",
     "text": [
      "Sample Prediction Metrics:\n",
      "SSIM: 0.45447179675102234 \n",
      "PSNR: 0.13414253294467926 \n",
      "MSE: 0.045559052 \n",
      "Min Px: 5.5308714e-24 \n",
      "Max Px: 0.9971494 \n",
      "Mean Px: 0.022201937 \n",
      "Sample ID: 1538\n"
     ]
    },
    {
     "data": {
      "image/png": "[encoded data removed]",
      "text/plain": [
       "<Figure size 2304x576 with 11 Axes>"
      ]
     },
     "metadata": {
      "needs_background": "light"
     },
     "output_type": "display_data"
    },
    {
     "data": {
      "image/png": "[encoded data removed]",
      "text/plain": [
       "<Figure size 2304x1152 with 3 Axes>"
      ]
     },
     "metadata": {
      "needs_background": "light"
     },
     "output_type": "display_data"
    }
   ],
   "source": [
    "sample_idx = np.random.randint(0, len(x_val))\n",
    "\n",
    "# Construct a figure for the original and new frames.\n",
    "fig, axes = plt.subplots(1, 11, figsize=(32, 8))\n",
    "\n",
    "# Plot the fire frames.\n",
    "for idx, ax in enumerate(axes):\n",
    "    if idx == 10:\n",
    "        ax.imshow(np.squeeze(y_val[sample_idx]), cmap=\"gray\")\n",
    "        ax.set_title('Target')\n",
    "        ax.title.set_fontsize(30)\n",
    "        ax.axis(\"off\")\n",
    "    else:\n",
    "        ax.imshow(np.squeeze(x_val[sample_idx][idx]), cmap=\"gray\")\n",
    "        ax.set_title(f\"Frame {idx + 1}\")\n",
    "        ax.title.set_fontsize(30)\n",
    "        ax.axis(\"off\")\n",
    "\n",
    "fig, axes = plt.subplots(1, 3, figsize=(32, 16))\n",
    "axes[0].imshow(np.squeeze(x_val[sample_idx][9]), cmap=\"gray\")\n",
    "axes[0].set_title('Last Frame')\n",
    "axes[0].axis(\"off\")\n",
    "axes[0].title.set_fontsize(60)\n",
    "axes[1].imshow(np.squeeze(y_val[sample_idx]), cmap=\"gray\")\n",
    "axes[1].set_title('Target')\n",
    "axes[1].axis(\"off\")\n",
    "axes[1].title.set_fontsize(60)\n",
    "axes[2].imshow(np.squeeze(t_preds[sample_idx]), cmap=\"gray\", vmin = 0, vmax = 1)\n",
    "axes[2].set_title('Prediction')\n",
    "axes[2].axis(\"off\")\n",
    "axes[2].title.set_fontsize(60)\n",
    "\n",
    "t_preds[sample_idx].min(), t_preds[sample_idx].max(), t_preds[sample_idx].mean(),\n",
    "print('Sample Prediction Metrics:'\n",
    "      '\\nSSIM:', float(tf.image.ssim(tf.cast(y_val[sample_idx], dtype='float32'), t_preds[sample_idx], 1.0)),\n",
    "      '\\nPSNR:', float(tf.image.psnr(tf.cast(y_val[sample_idx], dtype='float32'), t_preds[sample_idx], 1.0) / 100),\n",
    "      '\\nMSE:', np.mean(tf.keras.metrics.mean_squared_error(y_val[sample_idx], t_preds[sample_idx])),\n",
    "      '\\nMin Px:', t_preds[sample_idx].min(),\n",
    "      '\\nMax Px:', t_preds[sample_idx].max(),\n",
    "      '\\nMean Px:', t_preds[sample_idx].mean(),\n",
    "      '\\nSample ID:', int(sample_idx)\n",
    "     )"
   ]
  },
  {
   "cell_type": "code",
   "execution_count": 122,
   "id": "0d16df49",
   "metadata": {},
   "outputs": [
    {
     "name": "stdout",
     "output_type": "stream",
     "text": [
      "Model Prediction Report\n",
      "SSIM: 0.7692059\n",
      "PSNR: 0.4960354232788086\n",
      "MSE: 0.015924424\n"
     ]
    }
   ],
   "source": [
    "# Compute and show set scores.\n",
    "set_ssim = tf.image.ssim(tf.cast(y_val, dtype='float32'), t_preds, 1.0)\n",
    "set_psnr = tf.image.psnr(tf.cast(y_val, dtype='float32'), t_preds, 1.0)\n",
    "set_mse = tf.keras.metrics.mean_squared_error(y_val, t_preds)\n",
    "print('Model Prediction Report')\n",
    "print('SSIM:', np.mean(set_ssim))\n",
    "print('PSNR:', np.mean(set_psnr) / 100)\n",
    "print('MSE:', np.mean(set_mse))"
   ]
  },
  {
   "cell_type": "markdown",
   "id": "10bdc1c4",
   "metadata": {},
   "source": [
    "### Saving Predictions"
   ]
  },
  {
   "cell_type": "code",
   "execution_count": 230,
   "id": "5ec55da1",
   "metadata": {},
   "outputs": [
    {
     "data": {
      "text/html": [
       "<div>\n",
       "<style scoped>\n",
       "    .dataframe tbody tr th:only-of-type {\n",
       "        vertical-align: middle;\n",
       "    }\n",
       "\n",
       "    .dataframe tbody tr th {\n",
       "        vertical-align: top;\n",
       "    }\n",
       "\n",
       "    .dataframe thead th {\n",
       "        text-align: right;\n",
       "    }\n",
       "</style>\n",
       "<table border=\"1\" class=\"dataframe\">\n",
       "  <thead>\n",
       "    <tr style=\"text-align: right;\">\n",
       "      <th></th>\n",
       "      <th>Lon</th>\n",
       "      <th>Lat</th>\n",
       "      <th>Date</th>\n",
       "      <th>features_2d</th>\n",
       "      <th>features_1d</th>\n",
       "      <th>labels</th>\n",
       "      <th>SSIM</th>\n",
       "      <th>PSNR</th>\n",
       "      <th>MSE</th>\n",
       "      <th>Dice</th>\n",
       "      <th>...</th>\n",
       "      <th>Day_1</th>\n",
       "      <th>Day_2</th>\n",
       "      <th>Day_3</th>\n",
       "      <th>Day_4</th>\n",
       "      <th>Day_5</th>\n",
       "      <th>Day_6</th>\n",
       "      <th>Day_7</th>\n",
       "      <th>Day_8</th>\n",
       "      <th>Day_9</th>\n",
       "      <th>Day_11</th>\n",
       "    </tr>\n",
       "  </thead>\n",
       "  <tbody>\n",
       "    <tr>\n",
       "      <th>0</th>\n",
       "      <td>-51.929966</td>\n",
       "      <td>-2.296223</td>\n",
       "      <td>2021-10-12</td>\n",
       "      <td>4fold_super/2021/features_2d/1137401.npy</td>\n",
       "      <td>4fold_super/2021/features_1d/1137401.npy</td>\n",
       "      <td>4fold_super/2021/labels/1137401.npy</td>\n",
       "      <td>0.872715</td>\n",
       "      <td>30.203493</td>\n",
       "      <td>0.000954</td>\n",
       "      <td>0.989313</td>\n",
       "      <td>...</td>\n",
       "      <td>0.0</td>\n",
       "      <td>0.0</td>\n",
       "      <td>0.0</td>\n",
       "      <td>0.0</td>\n",
       "      <td>0.0</td>\n",
       "      <td>0.0</td>\n",
       "      <td>0.0</td>\n",
       "      <td>0.0</td>\n",
       "      <td>5.0</td>\n",
       "      <td>1.0</td>\n",
       "    </tr>\n",
       "    <tr>\n",
       "      <th>1</th>\n",
       "      <td>-51.836777</td>\n",
       "      <td>-5.699760</td>\n",
       "      <td>2021-09-14</td>\n",
       "      <td>4fold_super/2021/features_2d/1109298.npy</td>\n",
       "      <td>4fold_super/2021/features_1d/1109298.npy</td>\n",
       "      <td>4fold_super/2021/labels/1109298.npy</td>\n",
       "      <td>0.690126</td>\n",
       "      <td>19.411682</td>\n",
       "      <td>0.011451</td>\n",
       "      <td>0.894003</td>\n",
       "      <td>...</td>\n",
       "      <td>0.0</td>\n",
       "      <td>0.0</td>\n",
       "      <td>2.0</td>\n",
       "      <td>0.0</td>\n",
       "      <td>0.0</td>\n",
       "      <td>0.0</td>\n",
       "      <td>0.0</td>\n",
       "      <td>0.0</td>\n",
       "      <td>8.0</td>\n",
       "      <td>12.0</td>\n",
       "    </tr>\n",
       "    <tr>\n",
       "      <th>2</th>\n",
       "      <td>-55.103859</td>\n",
       "      <td>-7.571674</td>\n",
       "      <td>2021-09-14</td>\n",
       "      <td>4fold_super/2021/features_2d/1109063.npy</td>\n",
       "      <td>4fold_super/2021/features_1d/1109063.npy</td>\n",
       "      <td>4fold_super/2021/labels/1109063.npy</td>\n",
       "      <td>0.994515</td>\n",
       "      <td>30.102999</td>\n",
       "      <td>0.000977</td>\n",
       "      <td>0.990099</td>\n",
       "      <td>...</td>\n",
       "      <td>0.0</td>\n",
       "      <td>0.0</td>\n",
       "      <td>0.0</td>\n",
       "      <td>0.0</td>\n",
       "      <td>0.0</td>\n",
       "      <td>0.0</td>\n",
       "      <td>0.0</td>\n",
       "      <td>0.0</td>\n",
       "      <td>2.0</td>\n",
       "      <td>1.0</td>\n",
       "    </tr>\n",
       "    <tr>\n",
       "      <th>3</th>\n",
       "      <td>-53.240299</td>\n",
       "      <td>-6.358397</td>\n",
       "      <td>2021-08-24</td>\n",
       "      <td>4fold_super/2021/features_2d/1090873.npy</td>\n",
       "      <td>4fold_super/2021/features_1d/1090873.npy</td>\n",
       "      <td>4fold_super/2021/labels/1090873.npy</td>\n",
       "      <td>0.478559</td>\n",
       "      <td>15.173002</td>\n",
       "      <td>0.030388</td>\n",
       "      <td>0.770367</td>\n",
       "      <td>...</td>\n",
       "      <td>0.0</td>\n",
       "      <td>0.0</td>\n",
       "      <td>2.0</td>\n",
       "      <td>11.0</td>\n",
       "      <td>25.0</td>\n",
       "      <td>24.0</td>\n",
       "      <td>16.0</td>\n",
       "      <td>32.0</td>\n",
       "      <td>35.0</td>\n",
       "      <td>31.0</td>\n",
       "    </tr>\n",
       "    <tr>\n",
       "      <th>4</th>\n",
       "      <td>-57.719013</td>\n",
       "      <td>-5.813770</td>\n",
       "      <td>2021-08-13</td>\n",
       "      <td>4fold_super/2021/features_2d/1065229.npy</td>\n",
       "      <td>4fold_super/2021/features_1d/1065229.npy</td>\n",
       "      <td>4fold_super/2021/labels/1065229.npy</td>\n",
       "      <td>0.677433</td>\n",
       "      <td>19.767149</td>\n",
       "      <td>0.010551</td>\n",
       "      <td>0.874634</td>\n",
       "      <td>...</td>\n",
       "      <td>2.0</td>\n",
       "      <td>2.0</td>\n",
       "      <td>4.0</td>\n",
       "      <td>4.0</td>\n",
       "      <td>1.0</td>\n",
       "      <td>0.0</td>\n",
       "      <td>13.0</td>\n",
       "      <td>26.0</td>\n",
       "      <td>25.0</td>\n",
       "      <td>0.0</td>\n",
       "    </tr>\n",
       "    <tr>\n",
       "      <th>...</th>\n",
       "      <td>...</td>\n",
       "      <td>...</td>\n",
       "      <td>...</td>\n",
       "      <td>...</td>\n",
       "      <td>...</td>\n",
       "      <td>...</td>\n",
       "      <td>...</td>\n",
       "      <td>...</td>\n",
       "      <td>...</td>\n",
       "      <td>...</td>\n",
       "      <td>...</td>\n",
       "      <td>...</td>\n",
       "      <td>...</td>\n",
       "      <td>...</td>\n",
       "      <td>...</td>\n",
       "      <td>...</td>\n",
       "      <td>...</td>\n",
       "      <td>...</td>\n",
       "      <td>...</td>\n",
       "      <td>...</td>\n",
       "      <td>...</td>\n",
       "    </tr>\n",
       "    <tr>\n",
       "      <th>4995</th>\n",
       "      <td>-55.073818</td>\n",
       "      <td>-7.503963</td>\n",
       "      <td>2021-08-10</td>\n",
       "      <td>4fold_super/2021/features_2d/1057348.npy</td>\n",
       "      <td>4fold_super/2021/features_1d/1057348.npy</td>\n",
       "      <td>4fold_super/2021/labels/1057348.npy</td>\n",
       "      <td>0.814387</td>\n",
       "      <td>18.669668</td>\n",
       "      <td>0.013584</td>\n",
       "      <td>0.890737</td>\n",
       "      <td>...</td>\n",
       "      <td>0.0</td>\n",
       "      <td>0.0</td>\n",
       "      <td>0.0</td>\n",
       "      <td>0.0</td>\n",
       "      <td>0.0</td>\n",
       "      <td>0.0</td>\n",
       "      <td>3.0</td>\n",
       "      <td>28.0</td>\n",
       "      <td>36.0</td>\n",
       "      <td>25.0</td>\n",
       "    </tr>\n",
       "    <tr>\n",
       "      <th>4996</th>\n",
       "      <td>-54.863297</td>\n",
       "      <td>-6.423058</td>\n",
       "      <td>2021-08-08</td>\n",
       "      <td>4fold_super/2021/features_2d/1052673.npy</td>\n",
       "      <td>4fold_super/2021/features_1d/1052673.npy</td>\n",
       "      <td>4fold_super/2021/labels/1052673.npy</td>\n",
       "      <td>0.254599</td>\n",
       "      <td>9.657280</td>\n",
       "      <td>0.108211</td>\n",
       "      <td>0.529688</td>\n",
       "      <td>...</td>\n",
       "      <td>0.0</td>\n",
       "      <td>0.0</td>\n",
       "      <td>0.0</td>\n",
       "      <td>0.0</td>\n",
       "      <td>0.0</td>\n",
       "      <td>0.0</td>\n",
       "      <td>11.0</td>\n",
       "      <td>31.0</td>\n",
       "      <td>104.0</td>\n",
       "      <td>57.0</td>\n",
       "    </tr>\n",
       "    <tr>\n",
       "      <th>4997</th>\n",
       "      <td>-57.092266</td>\n",
       "      <td>-5.466965</td>\n",
       "      <td>2021-09-14</td>\n",
       "      <td>4fold_super/2021/features_2d/1108556.npy</td>\n",
       "      <td>4fold_super/2021/features_1d/1108556.npy</td>\n",
       "      <td>4fold_super/2021/labels/1108556.npy</td>\n",
       "      <td>0.613548</td>\n",
       "      <td>15.340458</td>\n",
       "      <td>0.029238</td>\n",
       "      <td>0.753901</td>\n",
       "      <td>...</td>\n",
       "      <td>0.0</td>\n",
       "      <td>0.0</td>\n",
       "      <td>0.0</td>\n",
       "      <td>0.0</td>\n",
       "      <td>0.0</td>\n",
       "      <td>1.0</td>\n",
       "      <td>0.0</td>\n",
       "      <td>9.0</td>\n",
       "      <td>34.0</td>\n",
       "      <td>0.0</td>\n",
       "    </tr>\n",
       "    <tr>\n",
       "      <th>4998</th>\n",
       "      <td>-51.842480</td>\n",
       "      <td>-3.902443</td>\n",
       "      <td>2021-09-16</td>\n",
       "      <td>4fold_super/2021/features_2d/1112336.npy</td>\n",
       "      <td>4fold_super/2021/features_1d/1112336.npy</td>\n",
       "      <td>4fold_super/2021/labels/1112336.npy</td>\n",
       "      <td>0.783884</td>\n",
       "      <td>22.011124</td>\n",
       "      <td>0.006293</td>\n",
       "      <td>0.930332</td>\n",
       "      <td>...</td>\n",
       "      <td>0.0</td>\n",
       "      <td>0.0</td>\n",
       "      <td>0.0</td>\n",
       "      <td>0.0</td>\n",
       "      <td>0.0</td>\n",
       "      <td>0.0</td>\n",
       "      <td>0.0</td>\n",
       "      <td>0.0</td>\n",
       "      <td>13.0</td>\n",
       "      <td>4.0</td>\n",
       "    </tr>\n",
       "    <tr>\n",
       "      <th>4999</th>\n",
       "      <td>-51.985600</td>\n",
       "      <td>-3.957198</td>\n",
       "      <td>2021-09-20</td>\n",
       "      <td>4fold_super/2021/features_2d/1115483.npy</td>\n",
       "      <td>4fold_super/2021/features_1d/1115483.npy</td>\n",
       "      <td>4fold_super/2021/labels/1115483.npy</td>\n",
       "      <td>0.629144</td>\n",
       "      <td>15.957625</td>\n",
       "      <td>0.025365</td>\n",
       "      <td>0.792661</td>\n",
       "      <td>...</td>\n",
       "      <td>15.0</td>\n",
       "      <td>1.0</td>\n",
       "      <td>0.0</td>\n",
       "      <td>2.0</td>\n",
       "      <td>0.0</td>\n",
       "      <td>0.0</td>\n",
       "      <td>0.0</td>\n",
       "      <td>3.0</td>\n",
       "      <td>17.0</td>\n",
       "      <td>17.0</td>\n",
       "    </tr>\n",
       "  </tbody>\n",
       "</table>\n",
       "<p>5000 rows × 21 columns</p>\n",
       "</div>"
      ],
      "text/plain": [
       "            Lon       Lat        Date  \\\n",
       "0    -51.929966 -2.296223  2021-10-12   \n",
       "1    -51.836777 -5.699760  2021-09-14   \n",
       "2    -55.103859 -7.571674  2021-09-14   \n",
       "3    -53.240299 -6.358397  2021-08-24   \n",
       "4    -57.719013 -5.813770  2021-08-13   \n",
       "...         ...       ...         ...   \n",
       "4995 -55.073818 -7.503963  2021-08-10   \n",
       "4996 -54.863297 -6.423058  2021-08-08   \n",
       "4997 -57.092266 -5.466965  2021-09-14   \n",
       "4998 -51.842480 -3.902443  2021-09-16   \n",
       "4999 -51.985600 -3.957198  2021-09-20   \n",
       "\n",
       "                                   features_2d  \\\n",
       "0     4fold_super/2021/features_2d/1137401.npy   \n",
       "1     4fold_super/2021/features_2d/1109298.npy   \n",
       "2     4fold_super/2021/features_2d/1109063.npy   \n",
       "3     4fold_super/2021/features_2d/1090873.npy   \n",
       "4     4fold_super/2021/features_2d/1065229.npy   \n",
       "...                                        ...   \n",
       "4995  4fold_super/2021/features_2d/1057348.npy   \n",
       "4996  4fold_super/2021/features_2d/1052673.npy   \n",
       "4997  4fold_super/2021/features_2d/1108556.npy   \n",
       "4998  4fold_super/2021/features_2d/1112336.npy   \n",
       "4999  4fold_super/2021/features_2d/1115483.npy   \n",
       "\n",
       "                                   features_1d  \\\n",
       "0     4fold_super/2021/features_1d/1137401.npy   \n",
       "1     4fold_super/2021/features_1d/1109298.npy   \n",
       "2     4fold_super/2021/features_1d/1109063.npy   \n",
       "3     4fold_super/2021/features_1d/1090873.npy   \n",
       "4     4fold_super/2021/features_1d/1065229.npy   \n",
       "...                                        ...   \n",
       "4995  4fold_super/2021/features_1d/1057348.npy   \n",
       "4996  4fold_super/2021/features_1d/1052673.npy   \n",
       "4997  4fold_super/2021/features_1d/1108556.npy   \n",
       "4998  4fold_super/2021/features_1d/1112336.npy   \n",
       "4999  4fold_super/2021/features_1d/1115483.npy   \n",
       "\n",
       "                                   labels      SSIM       PSNR       MSE  \\\n",
       "0     4fold_super/2021/labels/1137401.npy  0.872715  30.203493  0.000954   \n",
       "1     4fold_super/2021/labels/1109298.npy  0.690126  19.411682  0.011451   \n",
       "2     4fold_super/2021/labels/1109063.npy  0.994515  30.102999  0.000977   \n",
       "3     4fold_super/2021/labels/1090873.npy  0.478559  15.173002  0.030388   \n",
       "4     4fold_super/2021/labels/1065229.npy  0.677433  19.767149  0.010551   \n",
       "...                                   ...       ...        ...       ...   \n",
       "4995  4fold_super/2021/labels/1057348.npy  0.814387  18.669668  0.013584   \n",
       "4996  4fold_super/2021/labels/1052673.npy  0.254599   9.657280  0.108211   \n",
       "4997  4fold_super/2021/labels/1108556.npy  0.613548  15.340458  0.029238   \n",
       "4998  4fold_super/2021/labels/1112336.npy  0.783884  22.011124  0.006293   \n",
       "4999  4fold_super/2021/labels/1115483.npy  0.629144  15.957625  0.025365   \n",
       "\n",
       "          Dice  ...  Day_1  Day_2  Day_3  Day_4  Day_5  Day_6  Day_7  Day_8  \\\n",
       "0     0.989313  ...    0.0    0.0    0.0    0.0    0.0    0.0    0.0    0.0   \n",
       "1     0.894003  ...    0.0    0.0    2.0    0.0    0.0    0.0    0.0    0.0   \n",
       "2     0.990099  ...    0.0    0.0    0.0    0.0    0.0    0.0    0.0    0.0   \n",
       "3     0.770367  ...    0.0    0.0    2.0   11.0   25.0   24.0   16.0   32.0   \n",
       "4     0.874634  ...    2.0    2.0    4.0    4.0    1.0    0.0   13.0   26.0   \n",
       "...        ...  ...    ...    ...    ...    ...    ...    ...    ...    ...   \n",
       "4995  0.890737  ...    0.0    0.0    0.0    0.0    0.0    0.0    3.0   28.0   \n",
       "4996  0.529688  ...    0.0    0.0    0.0    0.0    0.0    0.0   11.0   31.0   \n",
       "4997  0.753901  ...    0.0    0.0    0.0    0.0    0.0    1.0    0.0    9.0   \n",
       "4998  0.930332  ...    0.0    0.0    0.0    0.0    0.0    0.0    0.0    0.0   \n",
       "4999  0.792661  ...   15.0    1.0    0.0    2.0    0.0    0.0    0.0    3.0   \n",
       "\n",
       "      Day_9  Day_11  \n",
       "0       5.0     1.0  \n",
       "1       8.0    12.0  \n",
       "2       2.0     1.0  \n",
       "3      35.0    31.0  \n",
       "4      25.0     0.0  \n",
       "...     ...     ...  \n",
       "4995   36.0    25.0  \n",
       "4996  104.0    57.0  \n",
       "4997   34.0     0.0  \n",
       "4998   13.0     4.0  \n",
       "4999   17.0    17.0  \n",
       "\n",
       "[5000 rows x 21 columns]"
      ]
     },
     "execution_count": 230,
     "metadata": {},
     "output_type": "execute_result"
    }
   ],
   "source": [
    "pred_df = df_2021.copy().drop(columns=['Unnamed: 0'])\n",
    "pred_df['SSIM'] = tf.image.ssim(tf.cast(y_val, dtype='float32'), t_preds, 1.0)\n",
    "pred_df['PSNR'] = tf.image.psnr(tf.cast(y_val, dtype='float32'), t_preds, 1.0)\n",
    "pred_df['MSE'] = [np.mean(tf.keras.metrics.mean_squared_error(y_val[x], t_preds[x])) for x in range(0, len(t_preds))]\n",
    "pred_df['Dice'] = [float(dice_coef(np.ndarray.astype(y_val[x], dtype='double'), np.ndarray.astype(t_preds[x], dtype='double'))) for x in range(0, len(t_preds))]\n",
    "for x in range(0,10):\n",
    "    pred_df['Day_' + str(x)] = [x_val[y][x].sum() for y in range(0,len(t_preds))]\n",
    "pred_df['Day_11'] = [y_val[y].sum() for y in range(0,len(t_preds))]\n",
    "\n",
    "pred_df"
   ]
  },
  {
   "cell_type": "code",
   "execution_count": 231,
   "id": "7686c885",
   "metadata": {},
   "outputs": [],
   "source": [
    "np.save('preds/final.npy', t_preds)\n",
    "pred_df.to_csv('preds/final.pd')"
   ]
  },
  {
   "cell_type": "markdown",
   "id": "2323f5da",
   "metadata": {},
   "source": [
    "#### Pulling results for a specific example."
   ]
  },
  {
   "cell_type": "code",
   "execution_count": 81,
   "id": "10431dd0",
   "metadata": {},
   "outputs": [
    {
     "name": "stdout",
     "output_type": "stream",
     "text": [
      "Sample Prediction Metrics:\n",
      "SSIM: 0.5291383266448975 \n",
      "PSNR: 0.16756099462509155 \n",
      "MSE: 0.021105219 \n",
      "Min Px: 1.0487438e-28 \n",
      "Max Px: 0.98922974 \n",
      "Mean Px: 0.0155794695\n"
     ]
    },
    {
     "data": {
      "image/png": "[encoded data removed]",
      "text/plain": [
       "<Figure size 2304x576 with 11 Axes>"
      ]
     },
     "metadata": {
      "needs_background": "light"
     },
     "output_type": "display_data"
    },
    {
     "data": {
      "image/png": "[encoded data removed]",
      "text/plain": [
       "<Figure size 2304x1152 with 3 Axes>"
      ]
     },
     "metadata": {
      "needs_background": "light"
     },
     "output_type": "display_data"
    }
   ],
   "source": [
    "#sample_idx = np.random.randint(0, len(x_val))\n",
    "sample_idx = 3599\n",
    "\n",
    "# Construct a figure for the original and new frames.\n",
    "fig, axes = plt.subplots(1, 11, figsize=(32, 8))\n",
    "\n",
    "# Plot the fire frames.\n",
    "for idx, ax in enumerate(axes):\n",
    "    if idx == 10:\n",
    "        ax.imshow(np.squeeze(y_val[sample_idx]), cmap=\"gray\")\n",
    "        ax.set_title('Target')\n",
    "        ax.title.set_fontsize(30)\n",
    "        ax.axis(\"off\")\n",
    "    else:\n",
    "        ax.imshow(np.squeeze(x_val[sample_idx][idx]), cmap=\"gray\")\n",
    "        ax.set_title(f\"Frame {idx + 1}\")\n",
    "        ax.title.set_fontsize(30)\n",
    "        ax.axis(\"off\")\n",
    "\n",
    "fig, axes = plt.subplots(1, 3, figsize=(32, 16))\n",
    "axes[0].imshow(np.squeeze(x_val[sample_idx][9]), cmap=\"gray\")\n",
    "axes[0].set_title('Last Frame')\n",
    "axes[0].axis(\"off\")\n",
    "axes[0].title.set_fontsize(60)\n",
    "axes[1].imshow(np.squeeze(y_val[sample_idx]), cmap=\"gray\")\n",
    "axes[1].set_title('Target')\n",
    "axes[1].axis(\"off\")\n",
    "axes[1].title.set_fontsize(60)\n",
    "axes[2].imshow(np.squeeze(t_preds[sample_idx]), cmap=\"gray\")\n",
    "axes[2].set_title('Prediction')\n",
    "axes[2].axis(\"off\")\n",
    "axes[2].title.set_fontsize(60)\n",
    "\n",
    "t_preds[sample_idx].min(), t_preds[sample_idx].max(), t_preds[sample_idx].mean(),\n",
    "print('Sample Prediction Metrics:'\n",
    "      '\\nSSIM:', float(tf.image.ssim(tf.cast(y_val[sample_idx], dtype='float32'), t_preds[sample_idx], 1.0)),\n",
    "      '\\nPSNR:', float(tf.image.psnr(tf.cast(y_val[sample_idx], dtype='float32'), t_preds[sample_idx], 1.0) / 100),\n",
    "      '\\nMSE:', np.mean(tf.keras.metrics.mean_squared_error(y_val[sample_idx], t_preds[sample_idx])),\n",
    "      '\\nMin Px:', t_preds[sample_idx].min(),\n",
    "      '\\nMax Px:', t_preds[sample_idx].max(),\n",
    "      '\\nMean Px:', t_preds[sample_idx].mean()\n",
    "     )"
   ]
  },
  {
   "cell_type": "markdown",
   "id": "ee359ed6",
   "metadata": {},
   "source": [
    "### Making a gif from moving MNIST data"
   ]
  },
  {
   "cell_type": "code",
   "execution_count": null,
   "id": "82244f5b",
   "metadata": {},
   "outputs": [],
   "source": [
    "# Inspiration: https://keras.io/examples/vision/conv_lstm/\n",
    "\n",
    "#Download and load the dataset.\n",
    "fpath = tf.keras.utils.get_file(\n",
    "    \"moving_mnist.npy\",\n",
    "    \"http://www.cs.toronto.edu/~nitish/unsupervised_video/mnist_test_seq.npy\",\n",
    ")\n",
    "dataset = np.load(fpath)\n",
    "\n",
    "# Swap the axes representing the number of frames and number of data samples.\n",
    "dataset = np.swapaxes(dataset, 0, 1)\n",
    "# We'll pick out 100 of the 10000 total examples and use those.\n",
    "dataset = dataset[:100]\n",
    "# Add a channel dimension since the images are grayscale.\n",
    "dataset = np.expand_dims(dataset, axis=-1)\n",
    "\n",
    "# Split into train and validation sets using indexing to optimize memory.\n",
    "indexes = np.arange(dataset.shape[0])\n",
    "np.random.shuffle(indexes)\n",
    "train_index = indexes[: int(0.9 * dataset.shape[0])]\n",
    "val_index = indexes[int(0.9 * dataset.shape[0]) :]\n",
    "train_dataset = dataset[train_index]\n",
    "val_dataset = dataset[val_index]\n",
    "\n",
    "# Normalize the data to the 0-1 range.\n",
    "train_dataset = train_dataset / 255\n",
    "val_dataset = val_dataset / 255\n",
    "\n",
    "# Shift and stack frames.\n",
    "i,o = [],[]\n",
    "for f in range(0,10):\n",
    "    i.append(train_dataset[:,f:f+10])\n",
    "    o.append(train_dataset[:,f+10:f+11])\n",
    "    \n",
    "x_train = np.concatenate(i)\n",
    "y_train = np.squeeze(np.concatenate(o), axis=1)\n",
    "\n",
    "i,o = [],[]\n",
    "for f in range(0,10):\n",
    "    i.append(val_dataset[:,f:f+10])\n",
    "    o.append(val_dataset[:,f+10:f+11])\n",
    "    \n",
    "x_val = np.concatenate(i)\n",
    "y_val = np.squeeze(np.concatenate(o), axis=1)"
   ]
  },
  {
   "cell_type": "code",
   "execution_count": 66,
   "id": "3527c17e",
   "metadata": {},
   "outputs": [
    {
     "data": {
      "image/png": "[encoded data removed]",
      "text/plain": [
       "<Figure size 360x360 with 1 Axes>"
      ]
     },
     "metadata": {
      "needs_background": "light"
     },
     "output_type": "display_data"
    }
   ],
   "source": [
    "# Inspirtation: https://towardsdatascience.com/basics-of-gifs-with-pythons-matplotlib-54dd544b6f30\n",
    "import io\n",
    "import imageio\n",
    "\n",
    "fig, ax = plt.subplots(1, 1, figsize=(5, 5))\n",
    "\n",
    "# Get example.\n",
    "gifset = list(train_dataset[40].squeeze())\n",
    "\n",
    "# Make frames.\n",
    "for i in range(0,20):\n",
    "    plt.imshow(gifset[i], cmap='gray', vmin = 0, vmax = 1)\n",
    "    ax.axis(\"off\")\n",
    "    plt.tight_layout()\n",
    "    plt.savefig('mnist_gif/frames/' + str(i+1) + '.png')\n",
    "    \n",
    "# Build gif.\n",
    "with imageio.get_writer('mnist_gif/mnist.gif', mode='I') as writer:\n",
    "    for filename in [('mnist_gif/frames/' + str(x+1) + '.png') for x in range(0,20)]:\n",
    "        image = imageio.imread(filename)\n",
    "        writer.append_data(image)"
   ]
  }
 ],
 "metadata": {
  "kernelspec": {
   "display_name": "Python 3 (ipykernel)",
   "language": "python",
   "name": "python3"
  },
  "language_info": {
   "codemirror_mode": {
    "name": "ipython",
    "version": 3
   },
   "file_extension": ".py",
   "mimetype": "text/x-python",
   "name": "python",
   "nbconvert_exporter": "python",
   "pygments_lexer": "ipython3",
   "version": "3.9.7"
  }
 },
 "nbformat": 4,
 "nbformat_minor": 5
}
